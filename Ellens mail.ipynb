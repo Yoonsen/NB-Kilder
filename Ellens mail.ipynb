{
 "cells": [
  {
   "cell_type": "markdown",
   "metadata": {},
   "source": [
    "fra Ellens mail\n",
    "\n",
    "<verbatim>All kildetekst ligger innenfor `<div type=\"chapter\" subtype=\"source\">`.\n",
    "Alle innledninger og annen utgivertekst ligger i `<div type=\"chapter\" subtype=\"intro\">`, disse kan nok undertrykkes. Det samme gjelder illustrasjoner som er kodet i `<div type=\"chapter\" subtype=\"illustration\">`\n",
    " \n",
    "Innenfor div ligger kildetekst hovedsakelig i `<head>, <p> og/eller <lg>/<l>`.  Og innenfor alle disse kan det forekomme spesialkoder som `<dateline>, <signed>, <del>, <add>, <unclear>, <gap/>, <note>, <pb/>, <hi> og <emph>`.  Noen ganger forekommer underkapitler, under-<div>’er, som også kan inneholde alt det nevnte. Så hvis du har en kommando som sier ta med all tekst innenfor en `<div type=\"chapter\" subtype=\"source\">` uavhengig av «child»/undernivå hadde nok det funket fint…..\n",
    " \n",
    "Når det gjelder metadata, så kan du nok bruke `<titleStmt>` som ligger i `<fileDesc> i <teiHeader>` til noe, kodingen i `<titleStmt>` ser slik ut:\n",
    "```<titleStmt>\n",
    "<title>Brevveksling 1874&#x2013;1908</title>\n",
    "<author>Kitty L. Kielland og Eilif Peterssen</author>\n",
    "<editor>Utgitt ved Anne Melg&#x00E5;rd, NB kilder 8:2, Nasjonalbiblioteket, Oslo 2019</editor>\n",
    "</titleStmt>```\n",
    "</verbatim>"
   ]
  }
 ],
 "metadata": {
  "kernelspec": {
   "display_name": "Python 3",
   "language": "python",
   "name": "python3"
  },
  "language_info": {
   "codemirror_mode": {
    "name": "ipython",
    "version": 3
   },
   "file_extension": ".py",
   "mimetype": "text/x-python",
   "name": "python",
   "nbconvert_exporter": "python",
   "pygments_lexer": "ipython3",
   "version": "3.7.4"
  }
 },
 "nbformat": 4,
 "nbformat_minor": 2
}
