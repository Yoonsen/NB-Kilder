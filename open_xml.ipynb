{
 "cells": [
  {
   "cell_type": "markdown",
   "metadata": {},
   "source": [
    "## XML-Struktur\n",
    "fra Ellens mail\n",
    "\n",
    "All kildetekst ligger innenfor `<div type=\"chapter\" subtype=\"source\">`.\n",
    "Alle innledninger og annen utgivertekst ligger i `<div type=\"chapter\" subtype=\"intro\">`, disse kan nok undertrykkes. Det samme gjelder illustrasjoner som er kodet i `<div type=\"chapter\" subtype=\"illustration\">`\n",
    " \n",
    "Innenfor div ligger kildetekst hovedsakelig i `<head>, <p> og/eller <lg>/<l>`.  Og innenfor alle disse kan det forekomme spesialkoder som `<dateline>, <signed>, <del>, <add>, <unclear>, <gap/>, <note>, <pb/>, <hi> og <emph>`.  Noen ganger forekommer underkapitler, under-<div>’er, som også kan inneholde alt det nevnte. Så hvis du har en kommando som sier ta med all tekst innenfor en `<div type=\"chapter\" subtype=\"source\">` uavhengig av «child»/undernivå hadde nok det funket fint…..\n",
    " \n",
    "Når det gjelder metadata, så kan du nok bruke `<titleStmt>` som ligger i `<fileDesc> i <teiHeader>` til noe, kodingen i `<titleStmt>` ser slik ut:\n",
    "```<titleStmt>\n",
    "<title>Brevveksling 1874&#x2013;1908</title>\n",
    "<author>Kitty L. Kielland og Eilif Peterssen</author>\n",
    "<editor>Utgitt ved Anne Melg&#x00E5;rd, NB kilder 8:2, Nasjonalbiblioteket, Oslo 2019</editor>\n",
    "</titleStmt>```"
   ]
  },
  {
   "cell_type": "code",
   "execution_count": 1,
   "metadata": {},
   "outputs": [],
   "source": [
    "import dhlab.nbtext as nb\n",
    "from dhlab.nbtokenizer import tokenize\n",
    "from collections import Counter\n",
    "import pandas as pd"
   ]
  },
  {
   "cell_type": "code",
   "execution_count": 2,
   "metadata": {},
   "outputs": [],
   "source": [
    "import zipfile\n",
    "from bs4 import BeautifulSoup\n",
    "import sys\n",
    "import zipfile\n",
    "import re"
   ]
  },
  {
   "cell_type": "code",
   "execution_count": 3,
   "metadata": {},
   "outputs": [],
   "source": [
    "def get_files_from_zip(document):\n",
    "    \"\"\"Find all documents in .zip\"\"\"\n",
    "    import sys\n",
    "    import zipfile\n",
    "    import re\n",
    "    from bs4 import BeautifulSoup\n",
    "\n",
    "    with zipfile.ZipFile(document, 'r') as zfp:\n",
    "           n = zfp.namelist()\n",
    "    return n"
   ]
  },
  {
   "cell_type": "code",
   "execution_count": 4,
   "metadata": {},
   "outputs": [],
   "source": [
    "def file_contents(name, zipfolder):\n",
    "    \n",
    "    with zipfile.ZipFile(zipfolder, 'r') as zfp:\n",
    "        try:\n",
    "            with zfp.open(name) as fp:\n",
    "                soup = fp.read()\n",
    "        except:\n",
    "            print('problemer', name)\n",
    "    return soup"
   ]
  },
  {
   "cell_type": "code",
   "execution_count": 125,
   "metadata": {},
   "outputs": [],
   "source": [
    "def extract_text(file, zipfolder):\n",
    "    text = []\n",
    "    soup = BeautifulSoup(file_contents(file, zipfolder), 'xml')\n",
    "    for node in soup.find_all('div', {\"type\":\"chapter\", \"subtype\":\"source\"}):\n",
    "        for p in node.find_all(['p', 'head']) or p in node_fi:\n",
    "            text.append(tokenize(p.text))\n",
    "    return text\n",
    "\n",
    "def extract_text_as_string(file, zipfolder):\n",
    "    text = []\n",
    "    soup = BeautifulSoup(file_contents(file, zipfolder), 'xml')\n",
    "    for node in soup.find_all('div', {\"type\":\"chapter\", \"subtype\":\"source\"}):\n",
    "        for p in node.find_all(['p', 'head']) or p in node_fi:\n",
    "            text.append(p.text)\n",
    "    return text"
   ]
  },
  {
   "cell_type": "markdown",
   "metadata": {},
   "source": [
    "Se på en og en fil i første omgang, for å ut teksten"
   ]
  },
  {
   "cell_type": "code",
   "execution_count": 126,
   "metadata": {},
   "outputs": [],
   "source": [
    "def make_corpus(zipfolder, extraction = extract_text):\n",
    "    texts = dict()\n",
    "    for f in zipfiles:\n",
    "        texts[f] = extraction(f,zipfolder)\n",
    "    return texts"
   ]
  },
  {
   "cell_type": "code",
   "execution_count": null,
   "metadata": {},
   "outputs": [],
   "source": []
  },
  {
   "cell_type": "code",
   "execution_count": 17,
   "metadata": {},
   "outputs": [],
   "source": [
    "def make_dtm(texts):\n",
    "    dtm = pd.DataFrame()\n",
    "    freqs = dict()\n",
    "    for text in texts.keys():\n",
    "        print(text)\n",
    "        c = Counter()\n",
    "        for p in texts[text]:\n",
    "            c.update(p)\n",
    "        freqs[text] = nb.frame(c, text)\n",
    "    dtm = pd.concat([freqs[text] for text in freqs.keys()], axis=1, sort=False)\n",
    "    return dtm"
   ]
  },
  {
   "cell_type": "code",
   "execution_count": 18,
   "metadata": {},
   "outputs": [],
   "source": [
    "def sublist(phrase, alist):\n",
    "    if phrase == [] or alist == []:\n",
    "        return None\n",
    "    found = None\n",
    "    try:\n",
    "        ix = alist.index(phrase[0])\n",
    "        searching = True\n",
    "        while ix < len(alist) and searching == True:\n",
    "            if alist[ix: ix + len(phrase)] == phrase:\n",
    "                if found == None:\n",
    "                    found = [ix]\n",
    "                else:\n",
    "                    found.append(ix)\n",
    "                try:\n",
    "                    sublist = alist[ix + len(phrase):]\n",
    "                    ix += sublist.index(phrase[0])\n",
    "                except:\n",
    "                    searching = False\n",
    "            else:\n",
    "                ix += 1\n",
    "    except:\n",
    "        True\n",
    "    return found"
   ]
  },
  {
   "cell_type": "code",
   "execution_count": 40,
   "metadata": {},
   "outputs": [],
   "source": [
    "def konk0(phrase, corpus):    \n",
    "    return [[p,sublist(phrase, p)] for t in corpus for p in t ]"
   ]
  },
  {
   "cell_type": "code",
   "execution_count": 316,
   "metadata": {},
   "outputs": [],
   "source": [
    "def coll(phrase, corpus, before = 5, after = 5):\n",
    "    \"\"\"Determine collocation within corpus if before and after are both zero the whole paragraph is returned\"\"\"\n",
    "    \n",
    "    collocation = Counter()\n",
    "    all_of_paragraph = before == 0 and after == 0\n",
    "    \n",
    "    for t in corpus:\n",
    "        for avsnitt in corpus[t]:\n",
    "            res = sublist(phrase, avsnitt)\n",
    "            if res != None:\n",
    "                for i in res:\n",
    "                    print(i, len(phrase), avsnitt[max(i - before - 1, 0): i + len(phrase) + 1 + after])\n",
    "                    collocation.update(avsnitt[max(i - before - 1, 0): i + len(phrase) + 1 + after])\n",
    "    return collocation\n",
    "\n"
   ]
  },
  {
   "cell_type": "code",
   "execution_count": 122,
   "metadata": {},
   "outputs": [],
   "source": [
    "def konk(phrase, corpus):\n",
    "    finds = dict()\n",
    "    # for hver tekst i korpuset\n",
    "    for t in corpus:\n",
    "        finds[t] = []\n",
    "        # hent avsnittene i korpuset\n",
    "        for i, avsnitt in enumerate(corpus[t]):\n",
    "            res = sublist(phrase, avsnitt)\n",
    "            if res != None:\n",
    "                finds[t].append((i, res))\n",
    "    return finds\n",
    "\n"
   ]
  },
  {
   "cell_type": "code",
   "execution_count": 132,
   "metadata": {},
   "outputs": [],
   "source": [
    "import re"
   ]
  },
  {
   "cell_type": "code",
   "execution_count": 276,
   "metadata": {},
   "outputs": [
    {
     "data": {
      "text/plain": [
       "[1, 3]"
      ]
     },
     "execution_count": 276,
     "metadata": {},
     "output_type": "execute_result"
    }
   ],
   "source": [
    "sublist(['hallo'], \"der hallo er hallo der\".split())"
   ]
  },
  {
   "cell_type": "code",
   "execution_count": 298,
   "metadata": {},
   "outputs": [],
   "source": [
    "def konk_regex(regex, korpus, before=30, after=30, colour='red'):\n",
    "    res = []\n",
    "    for t in korpus:\n",
    "        found = []\n",
    "        for i, avsnitt in enumerate(korpus[t]):\n",
    "\n",
    "            s = re.search(regex, avsnitt)\n",
    "            if s != None:\n",
    "                p1 = s.span()[0]\n",
    "                p2 = s.span()[1]\n",
    "                found.append(str(i) + \": \" + avsnitt.replace(avsnitt[p1:p2], \"<span style='color:{c}'>\".format(c=colour) + avsnitt[p1:p2] + \"</span>\")[max(0,p1 - before): p2 + after + 31])\n",
    "        if found != []:\n",
    "            res.append(\"#### \" + t)\n",
    "            res += found\n",
    "    return res"
   ]
  },
  {
   "cell_type": "code",
   "execution_count": 315,
   "metadata": {},
   "outputs": [
    {
     "data": {
      "text/markdown": [
       "#### NBkilder_Collett_Brev_1841-51.xml"
      ],
      "text/plain": [
       "<IPython.core.display.Markdown object>"
      ]
     },
     "metadata": {},
     "output_type": "display_data"
    },
    {
     "data": {
      "text/markdown": [
       "5: ter Jonas Collett nevner «Mad. Braae» og familien <span style='color:#22F'>hennes</span> i brev fra 1839 og 1840 (Collett og Collett 1926"
      ],
      "text/plain": [
       "<IPython.core.display.Markdown object>"
      ]
     },
     "metadata": {},
     "output_type": "display_data"
    },
    {
     "data": {
      "text/markdown": [
       "114: – at BraasBraas] trolig Louise Braae (født 1788), <span style='color:#22F'>hennes</span> datter Christiane (Jane) og svigersønn Ernst Fer"
      ],
      "text/plain": [
       "<IPython.core.display.Markdown object>"
      ]
     },
     "metadata": {},
     "output_type": "display_data"
    },
    {
     "data": {
      "text/markdown": [
       "206: gusta) (1811–72), Peter Jonas Colletts søster, og <span style='color:#22F'>hennes</span> mann Peter Severin Paulsen Steenstrup (1807–63) "
      ],
      "text/plain": [
       "<IPython.core.display.Markdown object>"
      ]
     },
     "metadata": {},
     "output_type": "display_data"
    },
    {
     "data": {
      "text/markdown": [
       "326: gusta) (1811–72), Peter Jonas Colletts søster, og <span style='color:#22F'>hennes</span> mann Peter Severin Paulsen Steenstrup (1807–63) "
      ],
      "text/plain": [
       "<IPython.core.display.Markdown object>"
      ]
     },
     "metadata": {},
     "output_type": "display_data"
    },
    {
     "data": {
      "text/markdown": [
       "338: gusta) (1811–72), Peter Jonas Colletts søster, og <span style='color:#22F'>hennes</span> mann Peter Severin Paulsen Steenstrup (1807–63) "
      ],
      "text/plain": [
       "<IPython.core.display.Markdown object>"
      ]
     },
     "metadata": {},
     "output_type": "display_data"
    },
    {
     "data": {
      "text/markdown": [
       "#### NBkilder_Dardel_Voyage.xml"
      ],
      "text/plain": [
       "<IPython.core.display.Markdown object>"
      ]
     },
     "metadata": {},
     "output_type": "display_data"
    },
    {
     "data": {
      "text/markdown": [
       "405: r det eneste jeg fikk erfare; jeg ankom og forlot <span style='color:#22F'>hennes</span> bolig på tidspunkter som var for ubeleilige til "
      ],
      "text/plain": [
       "<IPython.core.display.Markdown object>"
      ]
     },
     "metadata": {},
     "output_type": "display_data"
    },
    {
     "data": {
      "text/markdown": [
       "430: g, og frukten av en kjærlighetsaffære. Ektemannen <span style='color:#22F'>hennes</span> er en gammel skravlekopp."
      ],
      "text/plain": [
       "<IPython.core.display.Markdown object>"
      ]
     },
     "metadata": {},
     "output_type": "display_data"
    },
    {
     "data": {
      "text/markdown": [
       "439: meddelsom. Jeg kom i skade for å få tjenestepiken <span style='color:#22F'>hennes</span> til å gå på hodet – den tykke tyske kvinnen snub"
      ],
      "text/plain": [
       "<IPython.core.display.Markdown object>"
      ]
     },
     "metadata": {},
     "output_type": "display_data"
    },
    {
     "data": {
      "text/markdown": [
       "476:  en maistang, en beskjeftigelse kronprinsessen og <span style='color:#22F'>hennes</span> hoffdamer brukte to timer på. Herrene Lövenskjöl"
      ],
      "text/plain": [
       "<IPython.core.display.Markdown object>"
      ]
     },
     "metadata": {},
     "output_type": "display_data"
    },
    {
     "data": {
      "text/markdown": [
       "478: nsessen til Ems, der hun skulle oppholde seg mens <span style='color:#22F'>hennes</span> gemal foretok sin store norgesreise."
      ],
      "text/plain": [
       "<IPython.core.display.Markdown object>"
      ]
     },
     "metadata": {},
     "output_type": "display_data"
    },
    {
     "data": {
      "text/markdown": [
       "517: <span style='color:#22F'>hennes</span> former er tandre, men faste og runde, og når hun"
      ],
      "text/plain": [
       "<IPython.core.display.Markdown object>"
      ]
     },
     "metadata": {},
     "output_type": "display_data"
    },
    {
     "data": {
      "text/markdown": [
       "568: Landemarks schäferhatt på plass, smøg armen rundt <span style='color:#22F'>hennes</span> skuldre, eller Dahll som klemte frøken Jaegers s"
      ],
      "text/plain": [
       "<IPython.core.display.Markdown object>"
      ]
     },
     "metadata": {},
     "output_type": "display_data"
    },
    {
     "data": {
      "text/markdown": [
       "619: huset, holdt meg med selskap mens jeg tegnet. Til <span style='color:#22F'>hennes</span> store glede tok jeg en skisse også av henne. Jeg"
      ],
      "text/plain": [
       "<IPython.core.display.Markdown object>"
      ]
     },
     "metadata": {},
     "output_type": "display_data"
    },
    {
     "data": {
      "text/markdown": [
       "646: en velstående bonde fra egnen og hadde anholdt om <span style='color:#22F'>hennes</span> hånd. Etter selv å reist til England for å innhe"
      ],
      "text/plain": [
       "<IPython.core.display.Markdown object>"
      ]
     },
     "metadata": {},
     "output_type": "display_data"
    },
    {
     "data": {
      "text/markdown": [
       "651: t karjoler på skysstasjonen, ble en ung kvinne og <span style='color:#22F'>hennes</span> seks barn presentert for kronprinsen; hun hadde "
      ],
      "text/plain": [
       "<IPython.core.display.Markdown object>"
      ]
     },
     "metadata": {},
     "output_type": "display_data"
    },
    {
     "data": {
      "text/markdown": [
       "655: ze-antrekk: en kvinne med en formidabel parykk og <span style='color:#22F'>hennes</span> to suksessive ektemenn, som sto på hver sin side"
      ],
      "text/plain": [
       "<IPython.core.display.Markdown object>"
      ]
     },
     "metadata": {},
     "output_type": "display_data"
    },
    {
     "data": {
      "text/markdown": [
       "660: er, var til stede under måltidet, og det var også <span style='color:#22F'>hennes</span> mor; førstnevnte var nokså smukk. Etter å ha skr"
      ],
      "text/plain": [
       "<IPython.core.display.Markdown object>"
      ]
     },
     "metadata": {},
     "output_type": "display_data"
    },
    {
     "data": {
      "text/markdown": [
       "667: lig fiskerhus. Der lå en ung kvinne og spedbarnet <span style='color:#22F'>hennes</span> til sengs. Vi ble svært velvillig mottatt, og me"
      ],
      "text/plain": [
       "<IPython.core.display.Markdown object>"
      ]
     },
     "metadata": {},
     "output_type": "display_data"
    },
    {
     "data": {
      "text/markdown": [
       "708:  dager hadde jeg fått en høy stjerne hos fruen og <span style='color:#22F'>hennes</span> to små, som jeg moret med forskjellige tegninger"
      ],
      "text/plain": [
       "<IPython.core.display.Markdown object>"
      ]
     },
     "metadata": {},
     "output_type": "display_data"
    },
    {
     "data": {
      "text/markdown": [
       "710:  med uforrettet sak. Den dagen fruen ankom, hadde <span style='color:#22F'>hennes</span> Georges vært så uheldig å skrape bena kraftig op"
      ],
      "text/plain": [
       "<IPython.core.display.Markdown object>"
      ]
     },
     "metadata": {},
     "output_type": "display_data"
    },
    {
     "data": {
      "text/markdown": [
       "714: r. Hennes beskrivelse av de strenge vintrene skar <span style='color:#22F'>hennes</span> far, herr Mørk, i hjertet, og nå og da utbrøt ha"
      ],
      "text/plain": [
       "<IPython.core.display.Markdown object>"
      ]
     },
     "metadata": {},
     "output_type": "display_data"
    },
    {
     "data": {
      "text/markdown": [
       "741:  jeg la siste hånd på portrettene av fru Magda og <span style='color:#22F'>hennes</span> to sønner, som jeg ga dem som minne."
      ],
      "text/plain": [
       "<IPython.core.display.Markdown object>"
      ]
     },
     "metadata": {},
     "output_type": "display_data"
    },
    {
     "data": {
      "text/markdown": [
       "753: ok henne med på en vandring langs alleene i hagen <span style='color:#22F'>hennes</span>. Hun kjente dem nesten ikke igjen, så forvandlet"
      ],
      "text/plain": [
       "<IPython.core.display.Markdown object>"
      ]
     },
     "metadata": {},
     "output_type": "display_data"
    },
    {
     "data": {
      "text/markdown": [
       "755: u Knutsen, en riktig livlig og vittig ung kvinne, <span style='color:#22F'>hennes</span> søster frøken de Trampe, vakre frøken Olsen og t"
      ],
      "text/plain": [
       "<IPython.core.display.Markdown object>"
      ]
     },
     "metadata": {},
     "output_type": "display_data"
    },
    {
     "data": {
      "text/markdown": [
       "757: n vals ba jeg fru Knutsen om å få hilse på mannen <span style='color:#22F'>hennes</span>, en embetsmann med alvorlig mine som hun pekte u"
      ],
      "text/plain": [
       "<IPython.core.display.Markdown object>"
      ]
     },
     "metadata": {},
     "output_type": "display_data"
    },
    {
     "data": {
      "text/markdown": [
       "774: edd i en kjole av rosa gas; det vakre, lyse håret <span style='color:#22F'>hennes</span> var pyntet med ekte fuksiaer i frodige klaser. H"
      ],
      "text/plain": [
       "<IPython.core.display.Markdown object>"
      ]
     },
     "metadata": {},
     "output_type": "display_data"
    },
    {
     "data": {
      "text/markdown": [
       "#### NBkilder_KKielland_AGarborg_brev.xml"
      ],
      "text/plain": [
       "<IPython.core.display.Markdown object>"
      ]
     },
     "metadata": {},
     "output_type": "display_data"
    },
    {
     "data": {
      "text/markdown": [
       "399: ). Han tegnet ulike modeller, så usikkert hvordan <span style='color:#22F'>hennes</span> så ut. Kilde: Ingrid Blekastad: «Naturalisten Fr"
      ],
      "text/plain": [
       "<IPython.core.display.Markdown object>"
      ]
     },
     "metadata": {},
     "output_type": "display_data"
    },
    {
     "data": {
      "text/markdown": [
       "#### NBkilder_Koren_1809.xml"
      ],
      "text/plain": [
       "<IPython.core.display.Markdown object>"
      ]
     },
     "metadata": {},
     "output_type": "display_data"
    },
    {
     "data": {
      "text/markdown": [
       "929:  kryss eller et kors etter datoen, 9.12.1808 døde <span style='color:#22F'>hennes</span> datter Sara. – Endnu er min Ring ikke funden, ak"
      ],
      "text/plain": [
       "<IPython.core.display.Markdown object>"
      ]
     },
     "metadata": {},
     "output_type": "display_data"
    },
    {
     "data": {
      "text/markdown": [
       "#### NBkilder_Koren_1810.xml"
      ],
      "text/plain": [
       "<IPython.core.display.Markdown object>"
      ]
     },
     "metadata": {},
     "output_type": "display_data"
    },
    {
     "data": {
      "text/markdown": [
       "901:  kryss eller et kors etter datoen, 3.11.1808 døde <span style='color:#22F'>hennes</span> sønn Wilhelm. Neppe, I Elskede, er der Een iblan"
      ],
      "text/plain": [
       "<IPython.core.display.Markdown object>"
      ]
     },
     "metadata": {},
     "output_type": "display_data"
    },
    {
     "data": {
      "text/markdown": [
       "#### NBkilder_Koren_1811.xml"
      ],
      "text/plain": [
       "<IPython.core.display.Markdown object>"
      ]
     },
     "metadata": {},
     "output_type": "display_data"
    },
    {
     "data": {
      "text/markdown": [
       "165: e jeg holdt mere af Landet end Byen» – Da det var <span style='color:#22F'>hennes</span> første Samtale med min stille Maja, vidnede det "
      ],
      "text/plain": [
       "<IPython.core.display.Markdown object>"
      ]
     },
     "metadata": {},
     "output_type": "display_data"
    },
    {
     "data": {
      "text/markdown": [
       "#### NBkilder_Undset_Fragmenter.xml"
      ],
      "text/plain": [
       "<IPython.core.display.Markdown object>"
      ]
     },
     "metadata": {},
     "output_type": "display_data"
    },
    {
     "data": {
      "text/markdown": [
       "107: det er ikke brukt i de andre fragmentene), også i <span style='color:#22F'>hennes</span> egenhendige trykkmanuskript til Den lykkelige al"
      ],
      "text/plain": [
       "<IPython.core.display.Markdown object>"
      ]
     },
     "metadata": {},
     "output_type": "display_data"
    }
   ],
   "source": [
    "for i in konk_regex(\"hennes\", kilder_korpus_string, before=50, after=50, colour=\"#22F\"):\n",
    "    display(Markdown(i))"
   ]
  },
  {
   "cell_type": "code",
   "execution_count": 317,
   "metadata": {},
   "outputs": [
    {
     "name": "stdout",
     "output_type": "stream",
     "text": [
      "640 1 ['Mad', '.', 'Braae', '»', 'og', 'familien', 'hennes', 'i', 'brev', 'fra', '1839', 'og', '1840']\n",
      "266 1 ['Braae', '(', 'født', '1788', ')', ',', 'hennes', 'datter', 'Christiane', '(', 'Jane', ')', 'og']\n",
      "292 1 ['Mad', '.', 'Braae', '»', 'og', 'familien', 'hennes', 'i', 'brev', 'fra', '1839', 'og', '1840']\n",
      "536 1 ['Peter', 'Jonas', 'Colletts', 'søster', ',', 'og', 'hennes', 'mann', 'Peter', 'Severin', 'Paulsen', 'Steenstrup', '(']\n",
      "58 1 ['Peter', 'Jonas', 'Colletts', 'søster', ',', 'og', 'hennes', 'mann', 'Peter', 'Severin', 'Paulsen', 'Steenstrup', '(']\n",
      "19 1 ['Peter', 'Jonas', 'Colletts', 'søster', ',', 'og', 'hennes', 'mann', 'Peter', 'Severin', 'Paulsen', 'Steenstrup', '(']\n",
      "163 1 ['erfare', ';', 'jeg', 'ankom', 'og', 'forlot', 'hennes', 'bolig', 'på', 'tidspunkter', 'som', 'var', 'for']\n",
      "57 1 ['frukten', 'av', 'en', 'kjærlighetsaffære', '.', 'Ektemannen', 'hennes', 'er', 'en', 'gammel', 'skravlekopp', '.']\n",
      "350 1 ['i', 'skade', 'for', 'å', 'få', 'tjenestepiken', 'hennes', 'til', 'å', 'gå', 'på', 'hodet', '–']\n",
      "153 1 ['maistang', ',', 'en', 'beskjeftigelse', 'kronprinsessen', 'og', 'hennes', 'hoffdamer', 'brukte', 'to', 'timer', 'på', '.']\n",
      "13 1 ['der', 'hun', 'skulle', 'oppholde', 'seg', 'mens', 'hennes', 'gemal', 'foretok', 'sin', 'store', 'norgesreise', '.']\n",
      "0 1 ['hennes', 'former', 'er', 'tandre', ',', 'men', 'faste']\n",
      "183 1 ['på', 'plass', ',', 'smøg', 'armen', 'rundt', 'hennes', 'skuldre', ',', 'eller', 'Dahll', 'som', 'klemte']\n",
      "18 1 ['selskap', 'mens', 'jeg', 'tegnet', '.', 'Til', 'hennes', 'store', 'glede', 'tok', 'jeg', 'en', 'skisse']\n",
      "34 1 ['.', 'Jeg', 'spurte', 'henne', 'ut', 'om', 'hennes', 'beskjeftigelser', 'og', 'om', 'hva', 'hun', 'likte']\n",
      "29 1 ['fra', 'egnen', 'og', 'hadde', 'anholdt', 'om', 'hennes', 'hånd', '.', 'Etter', 'selv', 'å', 'reist']\n",
      "255 1 [',', 'ble', 'en', 'ung', 'kvinne', 'og', 'hennes', 'seks', 'barn', 'presentert', 'for', 'kronprinsen', ';']\n",
      "39 1 ['kvinne', 'med', 'en', 'formidabel', 'parykk', 'og', 'hennes', 'to', 'suksessive', 'ektemenn', ',', 'som', 'sto']\n",
      "101 1 ['måltidet', ',', 'og', 'det', 'var', 'også', 'hennes', 'mor', ';', 'førstnevnte', 'var', 'nokså', 'smukk']\n",
      "171 1 ['lå', 'en', 'ung', 'kvinne', 'og', 'spedbarnet', 'hennes', 'til', 'sengs', '.', 'Vi', 'ble', 'svært']\n",
      "293 1 ['hadde', 'lukket', 'skoddene', '.', 'Da', 'ektemannen', 'hennes', 'ser', 'de', 'stengte', 'vinduslemmene', 'på', 'vei']\n",
      "12 1 ['en', 'høy', 'stjerne', 'hos', 'fruen', 'og', 'hennes', 'to', 'små', ',', 'som', 'jeg', 'moret']\n",
      "233 1 ['Den', 'dagen', 'fruen', 'ankom', ',', 'hadde', 'hennes', 'Georges', 'vært', 'så', 'uheldig', 'å', 'skrape']\n",
      "76 1 ['beskrivelse', 'av', 'de', 'strenge', 'vintrene', 'skar', 'hennes', 'far', ',', 'herr', 'Mørk', ',', 'i']\n",
      "140 1 ['på', 'portrettene', 'av', 'fru', 'Magda', 'og', 'hennes', 'to', 'sønner', ',', 'som', 'jeg', 'ga']\n",
      "137 1 ['en', 'vandring', 'langs', 'alleene', 'i', 'hagen', 'hennes', '.', 'Hun', 'kjente', 'dem', 'nesten', 'ikke']\n",
      "111 1 ['livlig', 'og', 'vittig', 'ung', 'kvinne', ',', 'hennes', 'søster', 'frøken', 'de', 'Trampe', ',', 'vakre']\n",
      "25 1 ['om', 'å', 'få', 'hilse', 'på', 'mannen', 'hennes', ',', 'en', 'embetsmann', 'med', 'alvorlig', 'mine']\n",
      "136 1 ['store', ',', 'sorte', ',', 'sørgmodige', 'øynene', 'hennes', 'sto', 'i', 'sterk', 'kontrast', 'til', 'fru']\n",
      "183 1 [';', 'det', 'vakre', ',', 'lyse', 'håret', 'hennes', 'var', 'pyntet', 'med', 'ekte', 'fuksiaer', 'i']\n",
      "42 1 ['ulike', 'modeller', ',', 'så', 'usikkert', 'hvordan', 'hennes', 'så', 'ut', '.', 'Kilde', ':', 'Ingrid']\n",
      "16 1 ['kors', 'etter', 'datoen', ',', '9.12.1808', 'døde', 'hennes', 'datter', 'Sara', '.', '–', 'Endnu', 'er']\n",
      "16 1 ['kors', 'etter', 'datoen', ',', '3.11.1808', 'døde', 'hennes', 'sønn', 'Wilhelm', '.', 'Neppe', ',', 'I']\n",
      "301 1 ['Byen', '»', '–', 'Da', 'det', 'var', 'hennes', 'første', 'Samtale', 'med', 'min', 'stille', 'Maja']\n",
      "112 1 ['andre', 'fragmentene', ')', ',', 'også', 'i', 'hennes', 'egenhendige', 'trykkmanuskript', 'til', 'Den', 'lykkelige', 'alder']\n",
      "128 1 ['Ms.8', '°', '3615', ')', 'og', 'i', 'hennes', 'brev', 'til', 'Nils', 'Collett', 'Vogt', '2.']\n"
     ]
    },
    {
     "data": {
      "text/plain": [
       "[('hennes', 36),\n",
       " (',', 27),\n",
       " ('og', 20),\n",
       " ('.', 15),\n",
       " ('en', 10),\n",
       " ('i', 9),\n",
       " ('på', 7),\n",
       " ('Peter', 6),\n",
       " ('(', 5),\n",
       " ('jeg', 5),\n",
       " ('som', 5),\n",
       " ('var', 5),\n",
       " ('å', 5),\n",
       " ('til', 5),\n",
       " (')', 4),\n",
       " ('søster', 4),\n",
       " (';', 4),\n",
       " ('to', 4),\n",
       " ('om', 4),\n",
       " ('kvinne', 4),\n",
       " ('med', 4),\n",
       " ('Braae', 3),\n",
       " ('»', 3),\n",
       " ('brev', 3),\n",
       " ('fra', 3),\n",
       " ('Jonas', 3),\n",
       " ('Colletts', 3),\n",
       " ('mann', 3),\n",
       " ('Severin', 3),\n",
       " ('Paulsen', 3),\n",
       " ('Steenstrup', 3),\n",
       " ('for', 3),\n",
       " ('av', 3),\n",
       " ('er', 3),\n",
       " ('–', 3),\n",
       " ('store', 3),\n",
       " ('hadde', 3),\n",
       " ('ung', 3),\n",
       " ('det', 3),\n",
       " ('de', 3),\n",
       " ('så', 3),\n",
       " ('Mad', 2),\n",
       " ('familien', 2),\n",
       " ('1839', 2),\n",
       " ('1840', 2),\n",
       " ('datter', 2),\n",
       " ('ankom', 2),\n",
       " ('få', 2),\n",
       " ('hun', 2),\n",
       " ('mens', 2),\n",
       " ('ut', 2),\n",
       " ('ble', 2),\n",
       " ('sto', 2),\n",
       " ('også', 2),\n",
       " ('Da', 2),\n",
       " ('fruen', 2),\n",
       " ('Den', 2),\n",
       " ('fru', 2),\n",
       " ('vakre', 2),\n",
       " ('kors', 2),\n",
       " ('etter', 2),\n",
       " ('datoen', 2),\n",
       " ('døde', 2),\n",
       " ('født', 1),\n",
       " ('1788', 1),\n",
       " ('Christiane', 1),\n",
       " ('Jane', 1),\n",
       " ('erfare', 1),\n",
       " ('forlot', 1),\n",
       " ('bolig', 1),\n",
       " ('tidspunkter', 1),\n",
       " ('frukten', 1),\n",
       " ('kjærlighetsaffære', 1),\n",
       " ('Ektemannen', 1),\n",
       " ('gammel', 1),\n",
       " ('skravlekopp', 1),\n",
       " ('skade', 1),\n",
       " ('tjenestepiken', 1),\n",
       " ('gå', 1),\n",
       " ('hodet', 1),\n",
       " ('maistang', 1),\n",
       " ('beskjeftigelse', 1),\n",
       " ('kronprinsessen', 1),\n",
       " ('hoffdamer', 1),\n",
       " ('brukte', 1),\n",
       " ('timer', 1),\n",
       " ('der', 1),\n",
       " ('skulle', 1),\n",
       " ('oppholde', 1),\n",
       " ('seg', 1),\n",
       " ('gemal', 1),\n",
       " ('foretok', 1),\n",
       " ('sin', 1),\n",
       " ('norgesreise', 1),\n",
       " ('former', 1),\n",
       " ('tandre', 1),\n",
       " ('men', 1),\n",
       " ('faste', 1),\n",
       " ('plass', 1),\n",
       " ('smøg', 1),\n",
       " ('armen', 1),\n",
       " ('rundt', 1),\n",
       " ('skuldre', 1),\n",
       " ('eller', 1),\n",
       " ('Dahll', 1),\n",
       " ('klemte', 1),\n",
       " ('selskap', 1),\n",
       " ('tegnet', 1),\n",
       " ('Til', 1),\n",
       " ('glede', 1),\n",
       " ('tok', 1),\n",
       " ('skisse', 1),\n",
       " ('Jeg', 1),\n",
       " ('spurte', 1),\n",
       " ('henne', 1),\n",
       " ('beskjeftigelser', 1),\n",
       " ('hva', 1),\n",
       " ('likte', 1),\n",
       " ('egnen', 1),\n",
       " ('anholdt', 1),\n",
       " ('hånd', 1),\n",
       " ('Etter', 1),\n",
       " ('selv', 1),\n",
       " ('reist', 1),\n",
       " ('seks', 1),\n",
       " ('barn', 1),\n",
       " ('presentert', 1),\n",
       " ('kronprinsen', 1),\n",
       " ('formidabel', 1),\n",
       " ('parykk', 1),\n",
       " ('suksessive', 1),\n",
       " ('ektemenn', 1),\n",
       " ('måltidet', 1),\n",
       " ('mor', 1),\n",
       " ('førstnevnte', 1),\n",
       " ('nokså', 1),\n",
       " ('smukk', 1),\n",
       " ('lå', 1),\n",
       " ('spedbarnet', 1),\n",
       " ('sengs', 1),\n",
       " ('Vi', 1),\n",
       " ('svært', 1),\n",
       " ('lukket', 1),\n",
       " ('skoddene', 1),\n",
       " ('ektemannen', 1),\n",
       " ('ser', 1),\n",
       " ('stengte', 1),\n",
       " ('vinduslemmene', 1),\n",
       " ('vei', 1),\n",
       " ('høy', 1),\n",
       " ('stjerne', 1),\n",
       " ('hos', 1),\n",
       " ('små', 1),\n",
       " ('moret', 1),\n",
       " ('dagen', 1),\n",
       " ('Georges', 1),\n",
       " ('vært', 1),\n",
       " ('uheldig', 1),\n",
       " ('skrape', 1),\n",
       " ('beskrivelse', 1),\n",
       " ('strenge', 1),\n",
       " ('vintrene', 1),\n",
       " ('skar', 1),\n",
       " ('far', 1),\n",
       " ('herr', 1),\n",
       " ('Mørk', 1),\n",
       " ('portrettene', 1),\n",
       " ('Magda', 1),\n",
       " ('sønner', 1),\n",
       " ('ga', 1),\n",
       " ('vandring', 1),\n",
       " ('langs', 1),\n",
       " ('alleene', 1),\n",
       " ('hagen', 1),\n",
       " ('Hun', 1),\n",
       " ('kjente', 1),\n",
       " ('dem', 1),\n",
       " ('nesten', 1),\n",
       " ('ikke', 1),\n",
       " ('livlig', 1),\n",
       " ('vittig', 1),\n",
       " ('frøken', 1),\n",
       " ('Trampe', 1),\n",
       " ('hilse', 1),\n",
       " ('mannen', 1),\n",
       " ('embetsmann', 1),\n",
       " ('alvorlig', 1),\n",
       " ('mine', 1),\n",
       " ('sorte', 1),\n",
       " ('sørgmodige', 1),\n",
       " ('øynene', 1),\n",
       " ('sterk', 1),\n",
       " ('kontrast', 1),\n",
       " ('lyse', 1),\n",
       " ('håret', 1),\n",
       " ('pyntet', 1),\n",
       " ('ekte', 1),\n",
       " ('fuksiaer', 1),\n",
       " ('ulike', 1),\n",
       " ('modeller', 1),\n",
       " ('usikkert', 1),\n",
       " ('hvordan', 1),\n",
       " ('Kilde', 1),\n",
       " (':', 1),\n",
       " ('Ingrid', 1),\n",
       " ('9.12.1808', 1),\n",
       " ('Sara', 1),\n",
       " ('Endnu', 1),\n",
       " ('3.11.1808', 1),\n",
       " ('sønn', 1),\n",
       " ('Wilhelm', 1),\n",
       " ('Neppe', 1),\n",
       " ('I', 1),\n",
       " ('Byen', 1),\n",
       " ('første', 1),\n",
       " ('Samtale', 1),\n",
       " ('min', 1),\n",
       " ('stille', 1),\n",
       " ('Maja', 1),\n",
       " ('andre', 1),\n",
       " ('fragmentene', 1),\n",
       " ('egenhendige', 1),\n",
       " ('trykkmanuskript', 1),\n",
       " ('lykkelige', 1),\n",
       " ('alder', 1),\n",
       " ('Ms.8', 1),\n",
       " ('°', 1),\n",
       " ('3615', 1),\n",
       " ('Nils', 1),\n",
       " ('Collett', 1),\n",
       " ('Vogt', 1),\n",
       " ('2.', 1)]"
      ]
     },
     "execution_count": 317,
     "metadata": {},
     "output_type": "execute_result"
    }
   ],
   "source": [
    "coll(['hennes'], kilder_korpus).most_common()"
   ]
  },
  {
   "cell_type": "code",
   "execution_count": null,
   "metadata": {},
   "outputs": [],
   "source": []
  },
  {
   "cell_type": "code",
   "execution_count": 235,
   "metadata": {},
   "outputs": [
    {
     "data": {
      "text/plain": [
       "'er elvet'"
      ]
     },
     "execution_count": 235,
     "metadata": {},
     "output_type": "execute_result"
    }
   ],
   "source": [
    "a =\"det er er elvete\"\n",
    "s = re.search('elv', a)\n",
    "a[s.span()[0] - 3:s.span()[1] + 2]"
   ]
  },
  {
   "cell_type": "code",
   "execution_count": 141,
   "metadata": {},
   "outputs": [
    {
     "data": {
      "text/plain": [
       "[]"
      ]
     },
     "execution_count": 141,
     "metadata": {},
     "output_type": "execute_result"
    }
   ],
   "source": [
    "found"
   ]
  },
  {
   "cell_type": "code",
   "execution_count": 23,
   "metadata": {},
   "outputs": [],
   "source": [
    "kildezip = \"XML_NBkilder_20191112.zip\""
   ]
  },
  {
   "cell_type": "code",
   "execution_count": 24,
   "metadata": {},
   "outputs": [],
   "source": [
    "kildefiler = get_files_from_zip(kildezip)"
   ]
  },
  {
   "cell_type": "code",
   "execution_count": 25,
   "metadata": {},
   "outputs": [],
   "source": [
    "kilder_korpus = make_corpus(kildezip)"
   ]
  },
  {
   "cell_type": "code",
   "execution_count": 127,
   "metadata": {},
   "outputs": [],
   "source": [
    "kilder_korpus_string = make_corpus(kildezip, extraction= extract_text_as_string)"
   ]
  },
  {
   "cell_type": "code",
   "execution_count": 128,
   "metadata": {},
   "outputs": [
    {
     "data": {
      "text/plain": [
       "['[september 1911]',\n",
       " 'Freda – 8 septbr.',\n",
       " 'Endeli bar de aste idag – menn ikke uten vanskliheterr. Da vi hadde spennt fårr alle sleerne sprang HHsHH] Helmer Hanssen (1870-1956) & WsW] Oscar Wisting (1870-1936) hunner ut me denn følge, att di måtte springe efter demm en lang strekkning, innenn di nådde demm ijenn. Førsst kl. ½ 1 emd. kunne vi sette ut fra startplassenn. Føre har værrt glimrenne idag. Sjeldenn har jei kjennt føre så gått. Sell leder jei menns di anndre føllerr effter me værrt sitt kåbbell. Ståppete kl ½ 4 emd effterå ha jorrt 10.4 kvmkvm] kvartmil = 1 nautisk mil = 1852 m fra FramheimFramheim] Ekspedisjonens vinterkvarter. Desværre har 3 a Kamillas onger fullt me å di må slaktess snaresst. Være var hærrli innåver hær. Stille – dels klart ⁒38°. Vi ær kåmmett litt fårr langt W liW li] vestlig å må imåren hålle E liere bare fårrå kåmme åpp i gamle veienn vår ijenn.',\n",
       " 'Lørda – 9 septbr.',\n",
       " \"Aste kl. ½ 8 fmd effter frykteli natt. «Kaisa» – en tispe såmm tillhører Pr. «flyr» nemli å dette setter alle sinn i bevegelse. Ingen a åss såv ett minutt. Har idag skutt henne da de ikke var muli å manøvrere me henne. Likeledess ble Kamilla's 3 små skutt. Vi får nu ro till nattenn tenker jei. De har gått fårrhållsvis bra fårr annen dag å være – 13.5 kvm. Vi har fullt alle di tiligere åppsatte flagg. Di har ingenn fårrandring jennemgått i vinterns løp. Føre har idag værrt de samme glimrenne såmm igår. Vi har stegett betydli. Har passert åver endel sprekkerr.\",\n",
       " 'Sønda – 10 septbr.',\n",
       " 'Åmmvekslenne vær. Kl. 6 fmd. jikk Pr.Pr] Kristian Prestrud (1881-1927) å Bj.Bj] Olav Bjaaland (1873-1961) tillbake till de sted, vor «Kaisa» ble skutt, fårrå hennte en vallp, såmm hadde laktt sei ijenn dær. De var ca. 3 kvm. borte. Di kåmm tillbake kl 8 ½ å vi var da åmmtrennt færi till å gå. Hunnene var binnegale imårres ve startenn. Ingenstreken under bølgete kunne messtre sitt spann. Såmm ett Aasgårsrei bar de aste. De ene kåbbell fór åpp i de annett å en masse tid mejikk till å klare åpp ijenn. Unner åppklaringenn sprang Hass. spann ut å førsst etter lang jakkt lykkedess de åss å få fatt i demm ijenn. Førsstø mangler diakritisk tegn kl. 10 fmd. kåmm vi årntli aste. Menn da jikk de galannt. Di såmm hadde di stærrkesste spann, hadde spennt noenn hunner etter sine sleer. Nu jikk de i full årrdenn å stårmenne farrt fremm. Stoppete kl. 3 emd å hadde da jorrt 16.3 kvm. Vi har fullt flaggene hitt till i emd. Tok da en E liere kurs fårrå unngå de svineri denn sisste depotur till 80° rammlett åpp i.',\n",
       " 'Manda – 11 septbr.',\n",
       " '⁒55.5° till mårenn. Stille å klart. Heldivis har vi hatt de stille hele dagenn, så de har ikke på noenn måte føltes kållt. Var i fmd. åppe mellemm noenn sprekker. HHs slee fallt i me denn ene mei, menn fikk vi denn helt åpp ijenn. Ånnenn har stått så tykk runnt sleene idag, att vi ikke har kunnett se slee mellemm. HH kjører fårr de meste fårrann. Behøvess ingenn fårrløper fårr øieblikke. Kjørte fårrbi flere flagg igår. Føre jennemgåenne slett.',\n",
       " 'Tirsda 12 septbr.',\n",
       " 'Lite sikktbart. Ufyseli bris fra S ⁒52°. Hunnenne tydeli metatt a kullenn. Mennskene stive i simesime] trolig feil for: sine frossne klær – mer å minndre fårrnøidd etter en natt i frosst – utsikterne till millere vær tvilsomme – allt dette bestemmte mei fårr å være fårrnøidd me å rekke depote på 80° denne gang – deponere våre sakerr dær å så venne hurtikst tillbake fårrå vennte vårenns kåmme. Å risikere mennsker å dyr fårr hallstarri å fårrsette nårr jei engang har lakkt ivei – se de kunne ikke falle mei inn. Skall vi vinne spille, må brikkerne flyttess fint – ett feiltrekk å allt kann være tappt. – EtterEtter] rettet av Amundsen fra: efter en times kjøring idag viste de sei, att vesskenn i våre flytekommpasser var blitt så tyktt flytenne, att kommpassenne var helt ubrukbare. Vi fårrsøkte da till å bejynne me å styre etter denn stommp sol vi hadde. Fannt de rådlikkst å slå leir kl. 10 fmd. Solenn var da nesstenn ikke å se, å tykk, usiktbar lufft stennkte ettværrt syn fremmåver. Istedennfårr å reise telltene byggett vi to snehytter å har de nu lunt å hyggeli hærinne, trådss de ujesstmille vær dær ute. Fårrsetter såsnart vi kann se.',\n",
       " 'Onsda. 13 septbr.',\n",
       " 'Vi hadde en prekkti natt i igluen vår – kunne ikke ha de bedre. De var nåkkså mye levenn i isenn – smell å brak, såmm vekkte åss fra tid till annenn. Kl. ½ 8 f. sto vi færie till avgang. De var da ⁒52.5°. Stille å klart. Mærkli vor lite mann igrunn mærkerr till disse lave temmperaturer. Sell en litenn sno imot, såmm fra tid till annenn kann kåmme føless de ikke så åverrdrevennt kållt. Menn de ær de, att mann till syvenne å sisst ødelegger sine klær – de ær de farlikkste ve denne lave tt] temperatur. Hadde mann bare tid å annledning till å tørre, så var de helt annderrledess. Vi stannsett kl. 3 emd å hadde da kjørt 16 kvm. Vi har i afftenn ⁒56.2[°] stille å klart. De ær kållt i telltene menn helldivis har vi petroleumm nåkk. Jei skulle ha trakktert me en Genever, menn mærkeli nåkk var denn benfråssettå mangler diakritisk tegn å flasskenn knekkett. Menn råløs var vi ikke. Vi hadde åsså en Lysholm 1. på lagere vårrt. Kommpakktfrossenn var denn åsså, menn flasskenn var helldivis hel. De ser ut såmm åmm denn lar sei tine åpp. Nårr vi så ær i posene tar vi åss en «Kolekvinnt»Kolekvinnt] en dram brennevin fårrå møte di ⁒60° såmm sannsynlivis vill kåmme inatt.',\n",
       " 'Torsda – 14 septbr.',\n",
       " '⁒56°. Stille å klart. Etterr ett parr timers marsch fikk vi depoe isikkte rett i vår kurslinnje. Se de var jo ikke værsst utenn kommpass. HH, såmm har styrt hele tidenn har megenn ære a sitt arrbeide. Rakk depoe kl. 10¼ f. Allt dær i udmærrkett årrdenn. Satte fra åss alle våre saker, drakk en kåpp het mellk å vennte så tillbake. De ær surt å sette på i dette vær, – menn de må jo gå. Føre megett trått.',\n",
       " 'Freda 15 septbr.',\n",
       " 'Aste kl. 7 fmd. En ubehagli bris fra NW til å bejynne me. De stillnett snart a å så fikk vi de hærrlikkste vær – klart å stille. Jei har snørekjørt me W.W] Oscar Wisting i hele dag. De har gått glimmrenne. Føreø mangler diakritisk tegn var denn førsste halldel trækt å tunnkt, menn senere henn finesste sårrt. Har fullt våre spor liketill vi ståppett i emd. unner ett a di utsatte flagg. Styrer hærrfra etter kommpass. Har værrt nøtt till å late flere a våre hunner tillbake på veienn – sånne såmm ær blitt syke eller såmm rett å slett jir sei åver. «Sarikken» fallt mærkeli nåkk dø åmm unner marschen. Hunn hadde ikke vist syggdommssymptomer så de fårrbausett åss. Hunn har levert goe barn stakkels – trokkett gått å nu ligger hunn dø på barrieren. Har di sisste dage sett noenn gansske mærkklie snedannellser. De bestårå mangler diakritisk tegn a uhyre fin foksne sammlett i små cylinderfårrmete ballerr. Disse baller ær så lette å fine, att mann har vannskli fårr å ta demm me hånnenn. Tar mann demm imidlertid får mann a en gannske stor cylinderfårrm kunn noe seikt – snelignenne stoff ijenn mellemm finngrene – de fårrsvinner nesstenn gansske. Di triller såmm småjul borrt åver isenn. A utseenne lignerr di fullstenndi løvtannfrukt, såmm i fårrm å dun svever runnt åmm høsstenn. JørgJørg] Jørgen Stubberud (1883-1980) & HH fårrfrøs begge sine høire heler igårafftess i tellte. Unner gang kann sånnt ikke fårekomme.',\n",
       " '[oktober 1911]',\n",
       " 'Freda – 20 oktbr.',\n",
       " 'Endli kåmm vi da avste. Være var ikke helt pålideli. Snart bris fra en kannt, snart fra en annen. Disi å tykke. Kl. 9½ fmd. klarnte de litt i O me svak bris dærrfra. Vi sadlete da våre gangere, 13 fårr vær a di 4 sleer, – å satte ut. Pr. sto me kinom.kinom.] kinematografen = filmkamera unner nedstigningenn till sjøisen å fikk åss alle. 20 sel lå i en klynge, vorra ett parr nykasstete onnger. Hann tok åss atter unner åppstigningen på denn anndre side a bokkten. De tykknet till efter att vi var kåmmen innåver ett stykke. HH kjørte førrst å tok kursen me sitt kommpass. På en eller annen måte kåmm vi fårr lankt O å åpp i ett ukjennt terræn fullt a revner å sprekker. Jei sat på me W. Hans slee var denn sisste. Pludsli fallt dær ett stort stykke a åverflaten å åpnete ett uhyggeli gap like ve sleen – stort nåkk till å sluke åss alle. Helldivis var vi så megett på sidenn a de, att vi greidde åss. Vi fårrsto efter utseenne, att vi var kommet fårr lanngt OO] øst å satte dærrfårr kursen rett O på kompasse (StW retv). De brakkte åss snart efter i synsvidde a flagg, å kårrt tid efter rakk vi denn plass, vor vi sisst skjøt «Kaisa» – 20.2 kvm. – Vi har de nu ypperli i vårrt fårrbedrede tellt. Vi ær 5 hær, menn har go plass.',\n",
       " 'Lørda – 21 oktbr.',\n",
       " 'Kuling inatt fra O. Løiett noe ut på fmd. Kåmm aste kl 10 f. De varte ikke lennge, innen han kåmm ijenn fra samme kannt me tett fok. De jikk imidlertid gått fremmåver. Passerte flagg i flagg – fårr vær kvm. – å efter å ha utkjørt 17 kvm. traff vi en snevarde – bygget i bejynnelsen a april. Denn har således stått nessten 7 månter å var ennu i go stann. Fra denne varde styrte vi en strek norliere – ONO – fårr ikke å kåmme åpp i «svinerie». – Vinnen jikk utåver dagen SOli å kulet på. Helldvis føk de ikke fra denn retning. – Hann var rikti sur å gå mot, tråds t.t.] temperaturen kunn var ⁒24.2°C. – Flere a våre hunner: Neptun, Rotta, Uranus, Ulrik, Bjørn, Peary å Fuchs ær mettatt. Noenn har vonnt i føtterne anndre uvisst va grunn.',\n",
       " 'Sønda – 22 oktbr.',\n",
       " 'Tykkt. Stiv bris fra SO. Snefall & fok. De var ikke noen fin dag å reise på. Menn, da vi nettåpp igåraftess hadde funnett våre gammle spor, så annså jei åss fullstenndi sikkre, nårr vi dærrfra satte kursen i NOtO. Vi kjørte på, å de jikk i galåpp. Bikjerne var simpelthenn gale efter å kåmme fremm. De jikk gått ett parr timers tid. Så pludsli kåmm vi åpp i utpregett sprekketereng. Mannge meterne fårbindestrek manglerrann åss kunne vi ikke se. Jei snørekjørte me W. å vi var di sisste. Pludsli ser vi Bjs slee – hann kjørte like fårrann åss – krænge. Vi fikk vår slee ståppett. Imidlertid hadde Bj.s slee helt fårrsvunnet i sprekken. Sell hadde hann me stor ånnsnærværelse hivdd sei a å satt nu ett parr fot fra kannten å hållt sleen i dralinen. De tok tid – ca 5 m.m.] minutter tennker jei, innen vi hadde fått henntett brelinen, såmm var på denn første slee – HHs – jorrt denn klar å satt fasst i drastjærten. De var åsså på høi tid. De ble nemli tongere å tongere fårr Bj. værrt øieblikk. Ett minutt lenger, å hann måtte håhå] trolig feil for ha latt sleen fårrsvinne i dype. Sprekken var, vor sleen var fallt i ca. 1 m. bre å dyp – nu ja vi kunne inngen bunn se. Da vi nu hadde fått brelinen fasst la jei mei ned, å sammen lykkedes de nu Bj. W. å mei å hålle sleen. HH å Has. jikk så bort å fikk fatt i en annen slee, såmm vi satte tværrs åver sprekken å till denne ble så denn henngenne slee fårrannkret. Dæretter blev W. firt ned i breline å dær nede lykkedes de hamm å få satt enner på di fårrskjellie kasser å dærrpå fikk vi åpp disse halt åpp. De tok åss vell en 1½ times tid å få sleen åpp ijenn. W., såmm var nede i sprekken kunne fårrtelle åss, att ett lite stykke borrtenfårr de sted vor sleen var fallt ned var dær en uhyre utvidelse unner åverflaten, såmm kunne ha slukt 20 sleer me full besettning åmm de skulle ha værrt. Ve nærmere eftersyn viste de sei nu, att terenge runt åss kunn bestod av sprikk i sprekk å svære gap. Å fårrtsette i dette i tykke & tåke fannt vi besst å la være. De var vanskli å finne teltplass, men endli lykkedes de åss me teltstaven å få såkknet frem en noenlunne sikker plass. – Den lille plass vi nu har telte ståenne på ær åmjitt a sprekker å gap på alle kanter å uvist ær de vel, vor sikker vår teltplass ær. Kl. ær nu 1 emd. Vi koker lapskaus å venter på at tåken skall letne. Kl. 4 letnet det. Vi kunne da se skrugarer runt åss – ganske små, men tilstrekli til å tilkjennji «svineterenge». Bj. W. å jei jikk ut i breline fårå mangler diakritisk tegn å finne vei ut. Ved å gå O åver var vi kort tid efter ute av det. Kl. 5 e startet vi atter unner full musik. Bikjerne rennte med lynets fart. Fortidlig satte vi imidlertid kursen OtN ijen, ti den brakte os atter ut i sprekkene. 4 a HHs hunner fallt jennem en stygg sprekk, som jærne hadde slukt ham å lasse åsså viss han ikke hadde fått stannset. Vi var nøtt til å følge våre spor ut ijenn å så jøre en stor runde for å unngå di små skrugarer. Med sånn vollsomhet hadde det skrudd på dette sted, at svære flak var tårnet åp mot værandre – akurat som en skrugar på sjøisen. Da vi nu hadde arbeidet åss runnt «svinerie» fikk vi øie på ett av vore flagg i O. Vi var altså trods alt kommet for langt Vli – netop ut i «svinerie». Dette ær ganske mærkli. Skjønt vi allerede den fåregåenne dag hadde bejynnt at hålle Nli a kursen, å skjønnt vi krysset di spor vi hadde gått forrie gang, å skjønt vi ennu styrte en strek N liere – NOtO, skjønt alt dette kåmm vi påkker i våll V på. Kompasse har vi flere gange hatt anledning til å kontrolere på denne tur å dette har vist sei fullt i ården. Va kann da grunnen være? Jei kann kunn ett svar ji – lokal atraktion. Det må så være – kann ikke være annet. – At kompasse ær pålideli viser, att vi iaften har funnet våre to små snehytter – bygget på fårrie tur. – Føre har jennemgåenne værrt gått. Litt løssne di første 10 kvm fra barrierkanten å fårresten hårrt.',\n",
       " 'Manda – 23 oktbr.',\n",
       " 'Åverskjyet å usiktbart da vi startet kl. 8 f. Litt efterhånnen klarnte det av i zenit, men hele horisonten runnt tykk. Fikk snart stiv bris fra SVkanten å så stærk fok, att vi intet kunne se – 100 m. foran åss var alt. Efter den igår utgåtte distance skulle vi ha 22.8 kvm ijenn til 80°. Vi fikk en go prøve på både tellejul å kompass. Uten så å si at ha sett hånnen fårr åss strøk vi kloss opp langs depoe kl. 1½ e. Det var en strålenne prøve. Ett eneste punkt på denne uhyre vidde tatt me tellejul å komp.komp.] kompass i tetteste fok. – Alting hær ær i go stann, som vi fårrlot det. Fokskavler hadde sellfølgeli dannet sei runnt våre sleekasser. Vi har nu foret bikjerne dykti me selkjøtt å skråttene ligger utover sneen til fri avbenyttelse.',\n",
       " 'Tirsda – 24 oktbr.',\n",
       " 'Ren gris inatt N li vinn – snefok & nedbør. Løiett såmeget ut på fmd., at vi kunne kåmme åss ut i noenlunne anstendi vær å hugge kjøtt till hunnene. Disse har det gått nu. Såmeget ferskt kjøtt di bare kann spise. Å såve kann di åsså av jærtens lyst. Vi har nu 4 hunner mindre enn da vi reiste. Disse 4 har værrt sluppet unnerveis, da di ikke kunne følge med – antagli åverforet. Vi har dærrfårr nu 48 hunner – eller 4 kåbler a 12. – Vi har det hærli i telte. Vi kåmm nemli på den goe ide at sy ett ydertelt av våre to køigardiner. Dette røfarvete yttertelt viser sei ypperli, idet det i høi grad samler solvarmen åg håller på den innre varme. Det ær en uhyre forskjell fra forrie tur. Nu ligger vi altid i tørre køiklær – varmt & gått. En annen stor fordel ær den, at telte nu altid ær mørkt inne – og det kann trenges, når man har gått å glant på sneen hele dagen. – Stilnet av utover dagen. Har benyttet emd. til at pakke sleerne åg ombygge depoerne. Vi ær således nu fullt klare. – Bikjerne nyder tilværelsen.',\n",
       " 'Onsda – 25 oktbr.',\n",
       " 'Dagen tilbrakt i ro. Hunnerne i full vigør. Reiser imorgen videre S. Til depoet ær denne gang brakt 200 kl.kl.] kilo hunnekjøttpemm.pemm.] pemmikan = kaloririk kompakt turmat bestående av en blanding av tørket, malt kjøtt og fett. Amundsen tilsatt til denne ekspedisjonen også tørkede grønnsaker og havregryn + 30 l. petroleum (130°) + 2 bokse kjex + 3 breliner + 3 hele proviantutstyr for 100 dage. Av depoe ær tatt: 1 kasse petrol (150°) + 3 sel + 15 kl. fileer + 1 kasse et uleselig ord + 8 pakker chokolade.',\n",
       " 'Torsda – 26 oktbr.',\n",
       " 'NVli bris. Klart. Hærli vær for kjøring. Vi jore først alting klart. Samlet alt selkjøtte på en plass. Det ær kjøtt av 4 store sel. Samlet sammen alle spekbiter som lå utåver ågå mangler diakritisk tegn la en sisste hånn på depote. Kl. 9 f. bar det avste. Hunnene var fullstendi ville. Kjørte ut distancen 15 kvm. til kl. 1 e. Har slått leir. Finfint vær. Barrieren på denne strækning har værrt fullstændi jevn. Ypperli føre.',\n",
       " 'Freda 27 oktbr.',\n",
       " \"Fårtsatte i samme glimrenne vær. Blikkennestille & klart. Slett & fint uten en skavvel. Ypperli føre. For våre fastsatte 15 kvm. pr. dag bruker vi nu kun 4½ time. Det går som en røik. Bikjerne blir i bedre vigør for vær dag som går. Di går den overflødie fedme av sei. Fik allerede i fmd. øie på di svære skrugarer i øster, som vi første gang så mellem 81° og 82° S.Br. Vi har dem nu i NOtO. Fra depote på 81° S.Br. har vi dem i NO¾N. Solen har nu svær makt. Driver t.t.] temperaturen mange grader op i dagens løp. Hær i telte har vi det som i en liten bakeovn. Mørkt og gått ær det åsså. Alle ær i glimrenne tilstann. Oprettet idag vor første snevarde på 80°23,5'. Bygger hærefter mannshøie varder for vær 7de og 8de kvm. En liten lapp med inskription om vardens plass og kurs til nesste Norfor liggenne varde innskjæres i øverste sneblokk. – \\t\",\n",
       " 'Lørda 28 oktbr.',\n",
       " 'Kuling i hele natt & hele dag fra SO med tett fok. Har værrt nøtt til at ligge stille.',\n",
       " 'Sønda 29 oktbr.',\n",
       " 'Hærli vær. Liten NVli bris. Klart ⁒19.0°. Litt løsere sne idag. Ingen skavler. Udmærket føre. Friske bikjer. Alt vell.',\n",
       " 'Manda – 30 oktbr.',\n",
       " 'Kuling inatt med tett fok. Løiet utover morgen. Vi tørnte til som vanli kl. 6 og var færdi til avgang ved 8 tiden. Innen vi drog skjøt HH en av sine hunner – Bone – Den var for gammel og kunne ikke følle med. Den var tykk og fet. Den ble åpnet – innvollene uttatt og skrotten lakt unner snevarden vi bygget. – Være var ikke av besste sort, da vi satte ut. Temmeli tykt og vinn fra N kanten. Føre idag har ikke værrt besste sort – små fokskavler og løssne. Heldivis klarnet det av efterhånnen å kl. 1 e. fikk vi depote isikte. Vi hadde da kurs nessten like på det. Nået det kl 2 e. Alt i orden. Efter utseenne at dømme har hær fallt svært lite sne. Fokskavlen omkring depote ær ca 1½ f.f.] fot høi. – Jennemsnitshastiheten ær nu 3 kvm. i timen.',\n",
       " 'Tirsda – 31 oktbr.',\n",
       " 'En hærli viledag på 81°. Stille og klart. Har hatt vore såveposer ute til tørk. Di var blitt litt fuktie. Bj. og jei var en tur ute og så til tværmærkningen. Disse mærker var smale kassebor ca. 2½ f. lange og var utsatt i bejynnelsen av mars 1911. Di sto nu, sisste oktbr, like gått. Ca ½ f. lavere var di – antagli bevirket ved fok. Di sto så tydli og greit, at vi aldri kunne ha passert uten at se dem. – Har benyttet den fine dag til at ta endel observ. og kontrol av kompasserne. Endel foto ær tatt. Bikjerne har det ypperli. Passerte to sprekker igår en liten stunn før vi rakk fremm hærtil. I depote hær står nu ijenn 5 kasser kjøttpemkjøttpem] kjøttpemmikan = 200 kl. (net)kl. (net)] kilo (netto) og 4 kasser fiskepem. – 160 kl (net). Tilsammen = 360 kl. Depote ær helt ombygget og raker nu betydli høiere. Det flagg, som ble satt på det i mars ær like gått. Kann nessten ikke sees atværeer skrevet som ett ord brukt. Mange stærke vinne kan hær ikke ha værrt. Envær har fyllt sine kasser med hunnepem. Drar vidre imåren.',\n",
       " '[november 1911]',\n",
       " 'Onsda 1 novbr.',\n",
       " 'Satte avste i tett tåke. De ble en bevegett marsch vi fikk. Da vi dro over hær forrie gang påtraff vi kunn en sprekk, vori 2 av HHs hunner fallt i. Anderledes denne gang. I tåken kom vi ned i ett dalføre og hær traff vi sprekk i sprekk. Di var ikke særli bree – ca. 3 fot – og strakte sei heldivis alle tværs på kursen. Kommer sånne besst langsmed ær di farlie. Da vi hadde kjørt ut 12.5 kvm. passerte HH., som altid kjører først – over en sprekk og var så uheldi at få skjispissen inn i drastjerten idet hann var mitt på sprekken med den følge, at han fallt og ble liggenne tværs over sprekken. En temmeli uhyggeli stilling. Bikjerne var kommen over på den annen side og røk dær – på avgrunnens rann – sammen i ett forfærdli slagsmål. Sleen sto imidlertid på hall skjønsk i sprekken og truet med at ramle ned nårsomhelst. Det lykkedes mei at stanse bikjeslagsmåle. W. fikk revet HH bort fra den farefulle stilling og med samlet kraft lykkedes det åss at få sleen ut og bort fra det farlie naboskap. Di andre passerte over litt længere borte, vor broen var stærkere. – Hass.Hass] Sverre Hassel (1876-1928) datt åsså mitt på en sprekk og hållt på at komme galt avste. Disse sprekker ær imponerenne når man ligger på kanten og glaner ned i dem. Et bunnløst svelg fra lyseblått over i det dypeste mørke. Di styggeste dannelser vi har funnet hær, ær store, svære hull, så store i vidde, at di jærne kunne huse Fram og meget med den. Disse hull dækkes over av en tynn fokskavvel og det lille hull, som ær synli, ser ikke så svært farli ut. Men kommer man ut på en sån galei ær man ujenkaldeli tapt. Vi passerte et av disse hull i «tykka» idag. Heldivis så HH det itide. Dær ær ikke meget som unngår hans skarpe blikk. Vi ser alle klart, vilken risiko vi løper med vor marsch over disse lomske strekninger. Vi går med live i hennerne vær dag, men det er morsomt at høre – ingen ønsker sei tilbake. Nei – det ær gutter som vil frem – kåste, vad det kåste vil.',\n",
       " 'Torsda – 2 novbr.',\n",
       " 'Liten bris fra SSO ⁒34½°. Den kjentes nokså kjøli ut til at bejynne med. Men man venner sei til alt. En ganske smal sprekk ær al uhumskhet av idag. Føre har vært betydli fastere og bedre idag end igår. Vi bruker forresten altid den samme tid ca 2½ time pr. 5 kvm. Vi stannser nu for vær 5te kvm og bygger varde. Ved bygningen av den annen varde (10 kvm) tar vi os en 3-4 kjeks. Det ær vor lunch. Det var litt disi idagmårres, men blåste det snart helt klart. Vi har nu passert di store skrugarer i O og terenget ser fint og greit ut forover.',\n",
       " 'Freda – 3 novbr.',\n",
       " 'Sli bris med stærk, lav fok. Føre har vært overårdentli tunkt og bikjerne har slitt forat få sleene frem. Ja, nu blåser det kuling fra S (10 m) og vi har ⁒10°C. Vad i al værden betyr det? Har det ypperli i telte. Terenge slett og jevnt, som en pannekake. Jei bejynnte med snebriller fra 80°. Di andre har ennu ikke bejynnt.',\n",
       " 'Lørda 4 novbr.',\n",
       " 'Den Slie vinn løiet inatt. Utpå mårensiden jikk den Nli og tyknet til. Har kjørt i «tykka» i hele dag med liten Nli bris. Føre har vært briliant – kunne ikke være bedre. Store forandringer fra dag til annen. Igår var føre så seigt som fiskelim. Stoppet efterat ha jort 16 kvm. Vi har således utkjørt dist.dist.] distansen til 82°. Depote ser vi intet til, men ær det heller ikke at vente, da det ær fullstændi tykt.',\n",
       " 'Sønda 5 novbr.',\n",
       " 'Kl. 4 imårres kom solen frem et øieblik og vi var heller ikke sene om at komme ut av posene. – Dær raket depote op – ca. 2 kvm. borte i retv OSO. Di små flagg sto like gått åg lyste prekti mot den vite bakgrunn. Dette ær en seir får åss. Vi har vist, at det lar sig jøre at legge depoter ut på disse uendlie vidder og mærke dem op, så man med nøiakti navigering kan finne dem ijen. Vi peilte depote og jikk til køis ijen. Efter frokost pakket vi vore saker og satte ut. Det var da tyknet til ijen. Men nu hadde vi peiling og efter 2½ kvms marsch sto vi ved vort Sligste depo. Alt hær i fineste stann. Fokskavlen runnt ca. 1½ f. høi. Flagge var brukket av, men det skylles den svake bambusstang. Har tilbrakt dagen med at sette vore sleer i samme stann, som di var ved avgangen fra Framheim – nemli fullstappete. Vi har nu fullt utstyr for 100 dage og alle – såvell mennsker, dyr som redskaper i skjønneste orden. Bikjene ær nu i lankt bedre stann enn da vi reiste. Alle di såre føtter ær bra. Og litt av denn overflødie fedme har jitt sei. W. skjøt idag Uranus. Denn var intet værd og spiste uforhollsmessi meget. Fet var den, som en gris. – Depoe hær var akkurat passe stort. Ingen hunnepemm. ble tilbake. Kun Uranus. Av menneskepemm. har vi netop nok til at ta os tilbake til 80°. – Dagen ær blitt fin efterhånnen. Vi har nu i emd. strålenne klart vær. Nessten stille, stekenne sol og ⁒10°. Jei sitter inne i telte og skriver og ær det så varmt, at tanken av og til streifer troperne.',\n",
       " 'Manda 6 novbr.',\n",
       " 'Skjønnere vær kan ikke forekomme. Blikkenne stille. Tindrenne solskjinn og deili varme ca ⁒14°C. Bikjene ligger alle utstrakte og koser sei. Har benyttet anledningen og tatt alle mulie obs.obs.] observasjoner Misvisningen har vært meget stærkt tiltagenne fra 81°. Dær var den 119° NO. Hær har vi 129° NO. Vi har unnersøkt vor misvisning på alle måter med samme resultat. Vi går videre S over imåren – bygger snevarde for vær 3die kvm. og nedlegger depo for vær grad – for tilbaketuren. Ved sisste bereining viser det sei, at vi ikke kan påreine trekkraft lenger enn tilbake til 86°. Dærrfra må vi trekke selv. Di små kassebor med sortblå vimpler på som ble åpsatt hær i tværretningen står alle like høit, som da di sattes ut. Vimplerne bærer ikke spor av slitage. Dette synes at tyde på lite nedbør og vinn. Dagen har vært benyttet til lapning og tørkning. Nedlegger beretning i varden hær. – Har tatt nullpunktsbestemmelser og kokebestemmelse. Skjøt iaften «Jåla». Hun var høist fruktsomli og kunne ikke følge med. Hun ligger i depo.',\n",
       " 'Tirsda – 7 novbr.',\n",
       " 'En prekti dag helt ijennem. Fint vær ⁒19°. Klart med et ganske lite heng fra SSO. Ved første varde fra 82° måtte vi skjyte «Lussi». Hun var netop bejynt at «fly» og brakte sånn uorden i spanne, at jei fannt henrettelse den eneste måte at greie det på. Hun blev lakt i depo på toppen av varden. I depoe på 82° har vi nu en del chokolade, 6 bokse kjex, 13 kl.kl.] kilo melkemel, noen stk. selbiff, 20 l petroleum, 10 kl. mennskepem, 2 hunner, 1 slee & en del utstyr. –',\n",
       " \"Nu ær da turen for alvor bejynnt. Kl. 2 i emd. passerte vi Discovery-exp.Discovery-exp.] British National Expedisjon 1901-04, ledet av Robert f. Scott. Nådde sitt sydligste punkt 30. des. 1902 sydl. br. 82°17'. og ligger nu på 82°20'. Barrieren jør i det hele og store inntryk av at være fullstendi flat. Enkelte små bølgeformer finns dåg. Føre har vært glimrenne. Dels stenhårt, dels ganske lite bløtt, men altid go sne. Ingen fokskavler. Det har tatt os ¼ time pr. kvmil idag. Hunnene ær nu fullt trenet og i fin vigør. –\",\n",
       " 'Onsda – 8 novbr.',\n",
       " \"Samme hærlie vær, tereng & føre. – Det går som en vinn hen over den endeløse, flate sneslette, kun avbrutt av og til av lange svake bølgedannelser med lengderetning i O-V. Vi åpførte hele veien snevarder for vær 3die kvartmil. Vær varde består av 100 stk. Vi kommer i det hele til at bygge ca. 200 sånne varder. Di ær over mannshøide og temmeli bree i forkant. Ved vær hele grad legger vi depo for tilbakereisen og med disse mellemliggene varder ær vi sikre. Vi kan på denne måte kjøre jemover med nessten tomme sleer. – Kan ennu intet mærke på hunnene efter dagsmarschen. Tilbakela åsså idag kvm. på 15 minutter. – «Mø» ær fredlyst på lann må ei komme ombor» o.s.v. Vor sisste dame ennte igåraftes live for revolveren. Hun hadde åsså bejynnt at fly. Vi har nu i det hele 44 hunner. «Else» laes i depo på 82°20' S.Br.\",\n",
       " 'Torsda – 9 novbr.',\n",
       " \"Samme fine vær. Vi så igår noen skydotter i SVmarken, men tenkte ikke noe større over det. Idagmårres sto di imidlertid uforandret på samme sted og ved unnersøkelse med kikkerten kunne vi tydli utjøre lann. Peilingen av den mest fremtrædenne part – en høi keileakti topp – var i ONO½O (komp.) Lannet strakte sei fra denne topp – som var den Nligste pynt av det synbare land – såvitt vi kunne avjøre i SOli retning. Efter at ha jort 20 kvm. S over idag ær peilingen nøiakti den samme, dåg synes fjellkjeden nærmere og mer distinkt – men det kan jo gott skjylles lysforhållene. Ifølge kartet må dette være den fjellkjede, som Sh.Sh.] Sir Ernest Henry Shackelton (1874-1922), anglo-irsk polarforsker. 9. januar 1909 satte han og tre andre «lengst syd-rekord» da de nådde 88°23'S, 180 km fra Sydpolen så og har kartlakt, som løpenne i SO fra Beardmore Glacier. Det sisste vi kan se av lanne mot S peilet vi i NOt½O (komp.) (StV retv.) Rett i vor kurs – syd – kan vi intet lann se og tyder det bra for opstigningen. Føre har vært udmærket, men ær overflaten betydli hårere. Den har antatt det glinsenne, håre utseenne overalt. Ganske små fokskavler. Det ær ingen tvil om, at det hær blåser till stadihet fra Skanten. Sannsynlivis ingen nedbør. Det ær nu, som vanli helt klart med nokså stiv bris fra S, men tt] temperaturen ær høi ⁒13.°C og alt har utseenne av sommer. Hunnene har hållt samme fart idag som ellers – 4 mil – og synes ikke mer utkjørt nu. – Vi ær nu på 83° S.Br. og ligger over imåren for at bygge depo åg vile. – Har tatt azimutobserv.azimutobserv.] azimut = asimut = den vinkel et himmellegemes vertikalsirkel danner med meridianen. Regnes av astronomene og av sjøfolk oftest fra nord mot øst (0°–360°) (Kilde: snl.no) i emd. og fått misvismisvis] misvisningen = 133° NO.\",\n",
       " 'Freda 10 novbr.',\n",
       " \"Overliggedag. – Hadde storm fra S inatt. Det blåste gått. Løiet av ut på natten. Tok i middags høiden. Vi var 4 mann – HH. W. Has & jei – og en ypperli sol. Resultate var litt forskjelli for di to instr. Medium = 83°1' S.Br. Lanne har vært synli det meste av dagen. Det må være en meget høi fjellkjede. Vi ær jo ca 100 kvm. av, men synes ved enkelte anledninger at kunne se detaljer i fjellavsatserne. Har jort mit besste for at ta et riss av kjeden. Noe fint arbeide ær det ikke – men når man har jort vad man kan, så kan man jo ikke jøre det bedre. – Bj. har en liten snev av sneblinhed på det venstre øie – men ær bedre i det iaften. Bygget i fmd. vort depo. Det har en firkantet form – 2 m på alle kanter og 2 m. høit. På toppen en liten mørk tøivimpel. I pyramiden finnes innlakt proviant for 5 mennsker og 12 dyr for 4 dage – 24 kl.kl.] kilo hunnepem. 6 kl. mennskep. 2 kl. chokolade. 4 melkepølser. 800 stk. kjex og en eske fyrstikker. W og jei tok en tur iaften til den sisste varde vi bygget igår – 2 kvm. hærfra – forat se på stormens virkning på den. Den stod fremdeles, men var bøiet helt åver av vinnen. Vi skal bygge en ny form på dem hærefter. 3 av Bjs besste hunner kom efter os; passerte forbi og fortsatte Nover i spore – uta synsvidden i en fart. Det var Lussi's elskere. Ær redd for, di har tatt veien tilbake, vor vi skjøt henne. –\",\n",
       " 'Lørda 11 novbr.',\n",
       " 'Strykenne har det gått idag over store, blanke flater. Hunnene har formeli galåpert. Endel småskavler ær det, men forresten slet. Være har vært glimrenne. Stille – dels overskjyet, dels klart. Fik ved middagstid i kikkert øie på høit, takket lann i S. Det var ophildret og sannsynlivis ca. 150 kvm. unna. En opstigning blir således uungåeli, men får vi den neppe før vi har rukket 86°. – Bj.s 3 bikjer ventte desværre ikke tilbake. Han fik en hunn av HH. Bjs øie ær bedre idag, men ær han meget forsikti. Det ær stille og millt iaften ca ⁒20°. Hunnene ligger alle som en på siden og koser sei. –',\n",
       " 'Sønda 12 novbr.',\n",
       " 'Fint vær. Lite pust fra NV. Dels klart, dels overskjyet. Himlens utseenne veksler meget hurti. Noen få øieblikke og alt ær forandret. Lanne viste sei meget tydli ved flere anledninger idag. Nu har vi kjørt 60 kvm. siden vi fik ‹...›Bkjeden isikte og peilet ‹...›den norligste top i ONO½O. Idag peilet vi samme fjell i OtN – altså kun ½ streks forskjell. Avstannen må være meget stor. Hunnene så ågså lann idag. Di hoppet til og satte kurs for det, men HH visste at få dem inn på den gamle kurs. Føre & tereng har vært det samme. Det har gått aste i vill karriere i hele dag. Vi klarer di 20 kvm. på 5 timer. Med vardebygningen går dær 6½ time i det hele. Natten blir således lang. Det ser ikke ut til at anstrenge hunnene. Noe magrere er di jo, men livliere enn noensinne. Alle føtter ær goe. – Vi hører noen smell i isen hær i telte i aften – di første smell vi har hørt. Men di ær langt borte – sannsynlivis unner land. – Var en tur ute iaften 9¾. Et vidunderli vakkert syn møtte øie. Lanne lå for os i den hærligste belysning, tydeli og skarpt tråtte det frem. Vi kunne nu peile det betydli Vliere. De vestligste vi peilet var i V½N (retv) eller lanne omkring Sh.s opstigning. Den fjellkjede vi har kjørt i sikte av di sisste dage må dærfor være helt nyt lann.',\n",
       " 'Manda – 13 novbr.',\n",
       " 'Samme hærlie vær. Ganske liten bris fra NNO kanten. Lanne lå for os i den hærligste belysning. Skjinnene vitt, lysenne blått, revnenne sort belyst av solen ser lanne ut som et eventyr. Takk i takk, tinne i tinne – så forrevent og så villt, som noe lann på vor klode ligger det ubesett og ubetrått. Det ær en hærli følelse at færdes langs det. Ær Bkjeden den samme Sh. har orlakt ligger den, såvitt jei kan fårstå i en mer OSOli retning. Jore en storartet opdagelse i fmd. Den Sligste og Oligste pynt av Ckjeden, som jei antok måtte ligge på ca 86° og vor vår opstigning måtte foregå, viste sei pludsli at være det Vlie kapp til en stor mot Sydgåenne bukt, idet nemli Ckjeden slutter dær og lann først viser sei ijenn en halv strek Oliere. Mellem disse to kapper kan vi ikke se lann og antar jei dærfor, at dette ikke kan møtes os før på 87°. Efter den nye misvisning vi har fått idag går vor kurs bent inn mellem kappene. Vi ær selvfølgeli meget spente. Nådde 84° S.Br. idag og skulle egentli hat overliggedag imåren, men ær vi enie om at benytte det fine vær. Hunnene jør ikke inntrykk av at være utkjørte. Depote hær bygget vi færi i emd. Det inneholler 24 kl.kl.] kilo hunnepem, 6 kg menneskepem, 2 kg chokolade, 4 pølser melkemel, 800 kjeks, 1 tank petroleum (17 l) 1 eske fyrstikker, 5 stk selbiff, 1 svepe, noen karabinkroker og noen bekledningsjennstanne. Det ær ca. 2 m. høit og mærket med en stor tomkasse på tåppenå mangler diakritisk tegn – Hørte sisste nat jentagne gange smell og kanontorden i isen. Di kom i avdelingsvis. Iagtog idag – på en kortere distance – nyli fårmete ganske smale sprekker – ca toms brede – i isen. Det ær tydli, at der har vært stort press på netop dette sted – ganske lokalt altså.',\n",
       " 'Tirsda 14 novbr.',\n",
       " 'Hørte ikke leven i isen inatt. Ingen sprekker at se. Desværre hadde det lykkes den lille svake Nlie bris at tvinge tåke inn. Vi har således kjørt i tåken i hele dag – vore 20 kvm. Det ær trist at kjøre langs ukjennt lann i blinne – men dær ær intet dærved at jøre. Forhåbentli varer tykken ikke lenge. Bikjene tar det fremdeles på samme måte – spreke og fornøide. – Føre og tereng det samme – udmerket.',\n",
       " 'Onsda 15 novbr.',\n",
       " 'Samme tykke lå over idagmårres, men så drog den sei heldivis me litintrolig skrivefeil for liten SOli bris bort. Atter hadde vi det hærligste syn for os. Vi hadde vunnet temmeli meget på di to sisste dage.',\n",
       " \"Bukten vi hadde opdaget i S viste nu høit innre lann. Vor kurs står nu like mot et høit fjell – vi kaller det Bikubefjelle – grunnet likheten med en bikube. Ennu ær det så langt av, at man intet kan se med sikkerhet, men ser formerne så avrunnete å fine ut, at jei med bestemthet tror en opstigning dær ær muli. Sannsynlivis rekker vi det på ca. 86° S.Br. Fjellkjede B anslog vi idag til ca. ‹...›20 kvm av. Vi kunne i kjikkert se små detaljer i fjellene. Den bukt, som skjiller kjede B og C viste sei at være en umådeli svær i retv. NO-SV løpenne isbre. Kjede D går ut i Oli. Kjede E i NOli retning. Di lannmasser, som vi i små partier kan se videre fortsetter i en NOli retning. Kjederne C, D & E ær således uten tvil værdens Sligste fjelle. Være ær overordentli vakkert i emd. Stille & klart. Lanne ligger badet i sol, vidunderli smukt. Terenge idag har vært bedre enn noensinne. Lange strekninger som på stuegulve. Føre briliant. – Fik middagshøiden bestemt – 84°29' – 3 kvm. i atterhånnen. –\",\n",
       " 'Torsda 16 novbr.',\n",
       " 'Fint vær i hele dag. Liten SOli bris ⁒24° og fullstendi klart. Det kjennes nokså bitenne ut allikevel i fjese og unngår vi ikke små frostsår hist og hær. Terenge har vært nokså kupert. Svære bølgedannelser. I bunnen av en av disse fannt vi et virvar av svære sprekker og hull, men så hårrt tilføketø mangler diakritisk tegn, at det ingen fare var. En særdeles høi rygg i barrieren følger langs lann og ær så høi, at vi hærfra vi ligger ikke ser stort mer enn halve lanne i høide. Vi ligger på grensen av en meget dyp dal, som vi har at passere over imåren tidli for så at komme op på en meget høi rygg. Bukten i S jør mer og mer inntryk av at skulle ji en fin opstigning. Vi har nu opført vort depot hær – i likhet med di andre – og tatt di nødvendie peilinger. Depote ær mærket med et stort stykke Gaberdine mot S. Hunnene bejynner at bli temmeli griske nu. Di går således løs på alle surringer og enner med dødsforakt. Må nu skuffe sne runnt sleerne. – Føre har vært glimrenne som vanli. Ganske slett med noen enkelte sneskavler. –',\n",
       " 'Freda 17 novbr.',\n",
       " \"En bejivenhetsrik dag. Den igår åmtalte bølge kåm vi snart til. Den var meget høi – efter barometer – 300 f. Vi hadde skjønsket kurs på lanne. De viste sei ve en firestrekspeiling å være ca 6 kvm. a. Efter å ha nådd høiden av denne dal kjørte vi et stykke på sletten. Tærrenet var komplet flatt åå mangler diakritisk tegn jevnt – såm de fineste gulv. Vi traff en ca 3 m bred, gammel sprek, men på de nærmeste åpfylt a sne. Vi åmjik den hurti å lett. Ennu kjørte vi over en svær bølgedal å havnet så på sletten ve foten a Ckjeden – 3 kvm a nærmeste synlie lann. Hærrfra fik jei får første gang rikti anledning til å se inn i den bukt, såmm vi så lenge har styrt på – mellem C & Dkjeden. Den viste sei åpfylt a små tåpper å steile fjellvegge. Bikubefjelle i Ckjeden derimot låvet en fin åpstigning. Jei bestemte mei straks får denne sisste. Vi slo i den anledning leir straks – kl. 11 fmd – tok en meridianhøide – 85°5' å ga åss ikast me å jøre vårt hoveddepo klart. Dette består a full proviant får 5 mann i 30 dage, en dunk petroleum (17 l.), 20 esker fyrstikker, en del beklednings & utrustningsjenstanne. Vi tar me åss videre Såver proviant fårr 5 mann i 60 dage.\",\n",
       " 'A hunnepem har vi 438 kg ijen. Dette tillater åss å anvenne alle våre hunne ennu i 8 dage – fårhåpentli unner hele åpstigningen, å dærfra å ta 16 hunner til polen. Fra polen 12 hunner. Tok en lengde i emd. så plassen ær bestemt. Da alt var i ården ca kl. 5 e. jikk 4 a åss inn mot lann fårr å unnersøke den utvalgte åpstigningå mangler diakritisk tegn. Vi må visst ha vært åvermåde heldie. Alle dannelser ær hær gamle å helt fyllte. Føre på fjelle var glimrenne. Løs sne – akkurat passe fårr bikjefoten å stigningen ikke steilere enn di greier lassene – den første dag allfall. Vi var ca 8 kvm inne i lanne å ca. 2000 f. tillværs. Jei hadde hærfra den glede å kunne fastslå me sikkerhet, att fjellkjederne – bejynnenne me Dkjeden å så øie kunne rekke – strakte sei i NEli (retv.) retning. Lanne hær går, såm Sh. anjir i SE. På tilbaketuren besteg Bj å jei de første bare fjell. De var ingensåmhelst vanskelighet å kåmme inn på de. Ingen revner i nær heten. Fjelle besto a løs ur. Vi tok noen prøver. Denne tåpp ligger ikke meget høit åver sneflaten, men raker dåg 1000 f åver have. Jei har kallt den «Bettytåppen»Bettytåppen] = Betty Top. Oppkalt etter Betty Andersson (1838-1923), Amundsens barnepike og senere hans husholderske. – Den SEgåenne fjellkjede har jei kallt Kong Håkons fjelle. Di mot NEgåenne – Dronning Mauds. Bukten, som disse to danner – Kronprins Olavs bukt. Antageli ær disse fjelle di Slikste fjelle – synlie – i værden. – Lanne jør inntryk a å være – fårr største delen – tildekket a et mekti snelag. Levenne breer finnes ikke. Alle ujevnheter ær fårrlengst tilføket. Alle fårrstyrrelser komplet åpfyllt. Runnt «Bettytåppen» var dær en liten blank isstrøm – kunn noen fot. Antageli fårrårsaket ve smeltevann. – Har tatt peilinger å fotografier fra leirplassen. – Være ær nu iaften kl. 11 de samme fine. Klart – liten Sli bris ⁒12°. Ren såmmer. – Vi ær alle utstyrt me goe renskjinnsklær fårr plateauet. Ifølge kokepunktsbestemmelse ligger vi 900 f. o.h.',\n",
       " 'Lørda 18 novbr.',\n",
       " 'Bejynte imårres åpstigningenå mangler diakritisk tegn. Den ligger i misvmisv] misvisningen NEtE¼E. Hunnene har prestert ett arbeide idag, såm har oversteget mine høieste fårhåbninger. Vi har tilbakelakt en distance a 10 kvm å steget ca 2000 f. i høiden. Vi ligger nu mellem fjelltåpper å gamle, døde isbreer å har værdens vakreste teltplass. Vi har passert flere mektie sprekker, men nesten alle fulle a gammel sne. Får ikke å rause ut i disse på tilbakekjørslen har vi idag åpført 8 bree, høie snevarder – to å to på vær side a vår vei, så vi ikke kan ta feil. Tok 6 fotografier a fjellene ve bunnen a åpstigningen. Di ær fra no 1 till å me no 6 i film no 3. Alt synli fjell synes å være løs ur. På sneen langs en bar tåpp kunne vi se en stærk rø-gul farve. Antageli noe jernhåldi grus, såm ær føket på. – Være har vært vidunderli. Full såmmer. Vi går tynnklette å nyder såmmervarmen. På alle mørke jennstanne tiner sneen meget hurti. Klart å blikstille. I de bratteste kneiker måtte vi ta to å to sleer a gangen – me 16 hunner fårr vær. De jikk såmm en røik. HH & W ær ute fårr å se på terrænet videre. Ligeledes Bj.',\n",
       " 'Sønda 19 novbr.',\n",
       " 'Fårtsatte opstigningen. Di første bratte kneiker ledet åp til di øverste pass mellem di nærmeste kjystfjelle. De ligger ca. 4000 f. høit. Vi bygget – litt på den annen side a passe – en varde fårr tillbakereisen. Fra denne tok jei peilinger till alle di åmliggenne fjelltåppe. Di høieste 3 tåpper anslår vi till ca 15000 f. – De høieste a kjystfjellene till 7000 f (Lille bikube). Efter å ha passert di første pass hadde vi en lang nedfart – ca 800 f. – Derpå åpp ijen jennem en fårreven isbre me mange svære gap – men nesten helt jenføket. Vi hadde hær en åverårdentli brat åpstigning – måtte spenne alle bikjenne får 2 sleer a gangen – å ennu hållt de hårt. På tåppen a denne bre nået vi en høide – efter aneroidaneroid] = aneroidbarometer, barometertype, en flat og nesten lufttom metallboks med trykkfølsomme bunner som beveger seg i takt med forandringer i lufttrykket. Inneholder ikke væske eller kvikksølv (Kilde: snl.no) – a 4400 fot. Så ijenn et svært fall. Disse nedkjøringer ær farlie. Passer man ikke gått på å bremse, tar snart hunnene åverkomandoen å såm et lyn bærer de aste me fare fårr alle såm kåmmer i nærheten. Tilslut kåmm vi ned ad en gammel åpfyllt bre. De var mange svære gamle huller i den, men åmjik vi disse me hell. – Vår kurs førte like mot Håkonshallen, dær syntes vi å se den eneste mulie åpstigning. Ve nedkomsten a den netop omtalte bre åpnet dær sei en svær mekti bre – fullstendi fjorlignenne – løpenne i V-E (retv.) fra Håkonshallen ut i Olavs bukt. Hadde vi altså fårtsat inn i Olavs bukt, som vi åprindli styrte på, ville vi kunne fulkt denne bre like åp till den teltplass vi har iaften. Nuja – unner 2 døin kunne vi ikke ha jort de på den vei heller. Denne bre blir vår vei tillbake, når vi kommer ned ijen fra plateauet. Vi ligger nu på en liten bre mellem Håkonshallen å N. tåppen å håper jei hær å få en go åpgang. Vi ligger like unner den himmelhøie Håkonshall, ett hærli syn. En stor del a tåppen ær snebar, mens siderne ær klette a et kaos a svære isblåkke. – N.tåppen jør ett roliere inntryk. Hær ær i motsætn. till Håk.hallen helle den lange flate tåppå mangler diakritisk tegn innkapslet i ett jevnt, solid isdekke, mens siderne lyser i de blåsorte. A di lavere tåpperå mangler diakritisk tegn – 5–7000 f. – ær alle sider mot Syd bare, mens di mot Nor ær dekket a is. Dette viser, att de fremhærskenne vinne ær fra S. Mærkværdi nåkk har vi hær in i mellem disse høie fjelle funnet meget løs å dyp sne. Våre hunner har a den grunn hatt en meget anstrengenne dag idag. Være har såm vanli vært klart, stille å smeltenne varmt. – HH & Bj ær ute å rekognoserer iaften.',\n",
       " 'Manda – 20 novbr.',\n",
       " 'HH & Bj. hadde funnet udmærket vei frem åpåver breen. De var mange huller å gap, men fannt vi goe broer åveralt. Breen – FolgefonnenFolgefonnen] bre fra isbarrieren opp til platået som straks etter ekspedisjonens slutt ble omdøpt av Amundsen til Axel Heiberg-breen – var temmeli steil på flere steder å di dobbelte spann måtte till. Fikk et gått foto a en a disse «kleivkjøringer» (no 9 Film 3). Vi hører ikke en lyd i breen. Den ær nåkk helt dø. Dærimot har dær vært svære sneras fra Olavshøi i hele emd. – fullstendie kanonsalver. Vi har vår teltplass på en sønderreven bredd på den motsatte side. Vi kåmm hærtil kl 2 e. å ståppet da fårr å finne vei uta den uhyre kaotiske fårrvirring, såm omjirusikker om o eller å åss. Uhyre isblåkker, mektie gap å svære revner stenger åfte veien åveralt. De så sandli nåkså vanskli ut me å finne noen vei videre frem, men efter en 5 timers tur lykkes de HH. Bj å mei å finne et noenlunne antageli pass i bunnen a breen. Dette pass fører mellem Olavshøi å ett mindre fjell i bunnen. Vi har nu vår leirplass ii] rettet av Amundsen fra: på ca 6000 f.o.h. De fundne pass ligger i 8000f. antageli. Jennem passe kunne vi skjimte såvitt tåppen a ett fjell – samme mønelignenne utseenne såm på HåkonshallenHåkonshallen] et fjell som straks etter ekspedisjonens slutt ble omdøpt av Amundsen til «Don Pedro Christophersens fjell» – stikke åpp a isen. Fårrhållene så ganske roli ut. Ikke en sprekk eller en ujevnhet å se. Antageli må de være plateauet å dæråpp skall vi rekke imåren aften. «Undrar mei på va vi får å se hist åver di høie fjelle» utbrød en hær fårleden dag. «Å, svarte en annen, øiet møter vel bare sne.» De kåm tørt å vakte jubel. Temperaturen ær fallt noe iaften ⁒20°. Menn varmen hittill hæråppe mellem fjellene har di sisste dage vært likefrem generenne. – Stille, ganske stille, tindrenne klart å en smeltenne hett i hele dag. Våre hunner ær i ypperli arbeidsstann men grisske såm ulve. De gnager å tygger åveralt. I Olavshøi ser di unnerste 8000 f. till å bestå a granit. Fra 8–15 000 fot består fjelle a vannrette lagdannelser å ser ganske fårrvitret ut. Alle bare tåpper jør samme fårrvitrede inntrykk.',\n",
       " 'Tirsda 21 novbr.',\n",
       " 'Så vannt vi da frem. Vi ligger på plateauet i 10 600 f.h. De har vært en stri dagstørn – mest fårr hunnene. Men di har åsså – 24 a våre tapre kammerater – fått den besste løn – døden. Ve fremkomsten kl. 8 iaften ble disse skutt å innvållene uttatt. De skal flås imåren. Vi har nu 18 – di ypperste – ijenn. Disse deler vi på 3 spann – 6 i værrt. De var ett vidunder a arbeide di hunnene presterte idag. 17 kvm me 5000 m stigning. Kåmm så å si, att hunner ikke ær brukbare hær. På 4 dage har vi rukket fra kysten til plateauet – 44 kvm – 10 uleselig ord De ær ett vakkert arbeide. Passe – den eneste åpgang til plateauet hær – fannt vi mellem A å B fjelle samt Olavsfjelle. De var en fårtrinli åpstigning. En ganske jevn fin snevæg, såm uten avbrytelser nesten, strakte sei helt ned å roli jikk åver i Folgefånnen. – Plateauet ser ganske flatt ut, men jennemskåret a stenhåre, knivspisse fokskavler – SO–NV. Di fjelle, såm vi hær færdes jennem disse dage går me lange rygger åver i plateauet. Vi ligger på en rygg a Dfjelle. Denne rygg har fått navne Slaktern. Vi blir liggenne hær 2 dage fårrå fore åpp bikjene. Flere a dem har alt satt adskjillie innvålle a kammeraterne tillivs. Flere a di NVløpene fjelle ær kommen tillsyne hæråppe. Store Bfjell ær hittil de SOlikste vi har sett i kjeden. – De ær ganske klart. En liten sur bris fra SO ⁒26.3°.',\n",
       " 'Onsda 22 novbr.',\n",
       " \"Vi hadde vållsåmme kastevinne inat. Ganske stille till måren. Kuling fra OSO retv. till midda me tett driv. Fikk såvitt solen. Bredden – 85°36'S – ett bedre resultat enn jei hadde ventet. Den åpstigning vi har jort har således vesenttli fåregåt i Sli retning. – Har i fmd. flådd 10 bikjer, partert dem å servert dem. De ser ut till å smake di jennværenne fårrtrinli. Vi mennsker har heller ikke vært kåstfårraktere. Vi har hat di delikateste bikjekoteletter till middags. Sell spiste jei 5, men måtte da slutte da dær ikke var mer ijenn. Mine kammerater fannt nåkk retten like vellsmakenne. Siden tillot vi åss en ekstra rett i fårm a havregrøt kokt a kjeksesmuler – vår yndlingsrett. Vi fikk åsså tid till å jøre fra åss mer småtteri innen kulingen kåmm. 14 uflådde bikjer ligger ijenn hær i depo. Desuten legger vi ijenn alt åverflødi. Vi går ut hærfra me 3 sleer å proviant fårr mennsker i 60 dage. Till polen bruker vi 3 spann á 18 hunner. Fra polen 2 spann á 18 hunner. Hassels slee blir satt ijenn hær. – Vi har alle jennemgåt proviantbehåldningen idag å envær har full greie på, va han har dæra på sin slee. A petroleum har vi ca 54 l. ijenn.\",\n",
       " 'Torsda – 23 novbr.',\n",
       " 'Kulingen har vedvart i hele dag. Heldivis att de inntraff på en åverliggerdag. – Kulingen har lakt sei noe iaften å utsikterne fårrå kåmme aste imåren ær goe. Hærfra bygges nu varder fårr værannen mil. Ve vær grad nedlegges depo – mennskemat fårr 7 dage å hunnemat fårr 6 dage – en vekt a 90 kl.kl.] kilo – Dette kåmmer hurti till å letne sleerne våre.',\n",
       " 'Freda 24 novbr.',\n",
       " 'Kulingen hadde gått NEli å løiet litt till måren. Vi var ute å pakket sleerne åm kl. 7 f. Da vi var færi me dette – hadde pakket alt åver på 3 sleer blåste å føk de værre enn noensinne. Vi måtte bite i de sure eple å tørne inn ijenn. Men først fårsynte vi åss dykti me hunnekjøtt. Tillfelle ær att vi alle fåretrekker dette fremfår vår yndlingsrett – pemmikan. Vi koker de altid, da vi jo ikke har noe å steke de i. Hunnene ær kåmmet sei mærkværdi. Denn griskhet di før viste ær nu ganske fårrsvunnet. Tykke, mette & fårrnøide vandrer di åmm. Den vile vi får hær har vi alle gått a – åmm di enn ær kjedlie. Tiden må jo tillbringes i «påsan» å de ær ikke behageli i lengden. – Tett fok i hele dag med enkelte solglimt. Noe løiere iaften ⁒26°.',\n",
       " 'Lørda 25 novbr.',\n",
       " 'Har måttet ligger åver idag åsså. Samme kuling fra NE med høi, tett fok. De har løiet noe a iaften å vinnen dradd sei ENEli. Foken nesten åphørt. Utsikterne får imåren goe. Vi har såmm vanli sammen me hunnene nytt hunnekjøtt. Vi ær alle begeistret fårr de.',\n",
       " 'Sønda 26 novbr.',\n",
       " 'Tværtimot å bedre sei antok NEten i nattens løp stormkarakter. De løiet noe utåver måren, men stiv kuling me tett fok var de allikevel da vi tørnte ut kl. 8. Vi var nu alle kjede a denne lange henliggen å bestemte jei mei dærfårr – tråds de slette vær – å sette ut. I bejyndelsen jikk de dårli. Vi hadde svære skavler å kåmme åver å umuli åmtrent var de å se. Hunnene hadde heller ikke lyst till å arbeide. Di hadde alle fårrett sei på sine kammerater. Skavlerne ble imidlertid mindre å mindre efterhånnen å tillslut fikk vi de jevneste, fineste terræn. Føre var ytterst slett – seikt såmm lim. Tunkt fårr hunnene. Foken var så tett – blannet me nedbør – att vi omtrent ikke kunne se bikjene fårr sleen. I bejynnelsen jore de inntrykk a å gå på en fullstendi slette. Enkelte gange jore de inntrykk a å gå ganske svakt utåver. Ve 1 tiden bejynnte de imidlertid å gå mere unna, å tillslut ennte de me vill fart utåver en temmeli steil bakke. Å fårrtsette me dette jag i fullstendi blinne ville vært galmannsværk – mann kunne jo ha stupt utåver, va de skulle ha vært – å vi måtte så nødi vi ville, ståppe mitt i bakken. Hær har vi nu satt vårrt telt. De blåser fra NO å fyker likså meget såmm før. Va finnes dær ve foten a bakken? Ær de bare en høiderygg såmm går ut i plateaue eller ær de en nedstigning mellem fjellene? Jei tror personli, de ær en rygg, å tror jei vi snart skall være klar den. Men vi må se. Ifølge aneroiden har vi fallt 1000 f. idag. Vi skulle nu være på 9600 f. Mærkeli nåkk kann vi alle mærke fårrskjellen på ånnedrettet. På «Slaktern» kjennte vi alle den ubehagelie tåkter a stakkånnethet, når vi lå i posen. Ute mærket jeg fårr min del aldri noe. Hær ær disse tåkter ganske fårrsvunnet. Antageli ligger vi i Håkonshallåsen. Betydeli løiere iaften. Disi ⁒23,°5 Ve kokningkokning] = koking av væske ved bruk av hypsometer nu viser de sei, att vi ær i 10000 f.o.h. De samme viste åsså aneroiden straks ve ankåmsten hærtill. Den annen avlesning a barometret var jort noen timer efter. – Hunnene hadde stærk bloavføring – alle uten unntagelse – efter nydelsen a hunnekjøtte.',\n",
       " 'Manda 27 novbr.',\n",
       " 'De slo ett lite gløtt inatt kl. 3 å vi var da ute å unnersøkte fårrhållene. Vi lå mitt i en bakke me temmeli bratt avfall i kursretningen. Ve å ta mot O fikk mann dærimot en jevn, fin nedstigning. Å de var, va vi jore da vi kl. 8 idamårres dro avste me Oli kuling å stærk fok, så vi ikke så hånnen fårr åss. Vi kåmm snart ned på sletten. Åsen vi lå på var uten tvil Håkonshallens åvergang i «Vidda». Senere passerte vi åver en ganske svak rygg – sannsynlivis fra Store Bikube å siden har vi ikke mærket noe. Jevn ligger Vidda fårr åss – uten fokskavler – slett såmm på stuegulve. – Vi har således vunnet seire. Slått åss jennem stårm & snefok å ligger nu på Vidda i solskjinn å finvær. Vi rakk 86° S Br. å ær meget fårnøit me utsikterne. Føre var i fmd. såmm sann. De var en sann lidelse både får dyr & mennsker å kåmme fremm. I emd. har de værrt adskjilli bedre å jelper de snart, når solen får skjinnt litt på denn. Hunnenes maver var i dag ijenn i full ården efter pemmikanforingen igår. Jei bejynnte idag fårr alvår min stilling som «fårrløper». De var nødvendi fårrå få hunnene fremm. Kokningen iaften ga 9200 f. Fallt 800 f idag altså. Ja – nu ligger veien till polen klar – måtte vi snart være dær. Har bygget endel varder unnerveis.',\n",
       " 'Tirsda – 28 novbr.',\n",
       " \"Temmeli vållsåmme kastevinne inatt fra Nkanten. Vi var såmm vanli igang ve 8 tiden. Men være var ikke første sårrt. Skådde & nedbør. Litt sol inn imellem. På 86°3' S.Br. fikk vi – i ett lite gløtt i tåken – øie på en fjelltåpp i misv NVtN (OSO retv.) De var ikke længe vi kunne se den – heller ikke meget a den. Men den viste ikke så lite a svarte fjelle fremm. Antageli ær denne tåpp den Slikste i våre fjellkjeder. Antageli kunne den være ca. 10 kvm. a. En høiderygg passerte vi like unner. Den løp såmm vanli i SV(retv.). Terrænet har såmm før værrt åpp å ned i svære bølger. Føre har værrt meget fårrskjelli. Gått å yderli slett. Fårr de meste ær åverflaten flat såmm ett gulv – enkelte ganske små fokskavler blannt. Denn del vi ligger på iaften består a gamle, svære, jevnhøie fokskavler – sannsynlivis dannet i vinter – menn utfyllt imellem me løs sne – fallt ned i ganske stille vær å sannsynlivis nu nyli. Denne nysne har utjevnet terennet mellem skavlerne, så de hele ser ganske flatt ut. Disse håre skavler å løse sne jør fremmkåmsten hær tung & treg. – På 86°9' slo de ett lite gløtt i tåken å ikke lankt vekk – ca 4 kvm. fikk vi øie på to lange temmeli høie sneklette åsrygge – antageli ca. 10000 åver have. Tok de nødvendie peilinger å snart efter var di vekk. Di lå i V a åss å kjeden strakte sei N-S (retv.). Jei har den tro, att disse snefjelle ær helt uavhengie a våre andre fjellkjeder. Vi kunne ingen fårrbinnelse spore å retningen a dem (N-S) synes åsså å tyde dærrpå. Vi har ikke set noe lignenne før. Disse fjelle vill bli ypperli lannmærke fårr åss på tillbaketuren. I kursretningen har vi ennu ingen hindring hatt – menn vemm vet? Vi har gått 1000 f fotf fot] Amundsen har skrevet både f og fot ganske svakt nedåver idag å ligger nu 8200 f.o.h. Dette ær noe besynderli, synes jei, menn må vi vell være fårrberett på litt a værrt unner disse høie fjellkjeder. – Vi har jort 16 kvm. idag å ligger nu på 86°17' S.Br. –\",\n",
       " 'Onsda 29 novbr.',\n",
       " \"Tåke, tåke. – Tåke ijenn å tåke. Dærtill fin nedbør såmm jør føre umuli. Stakkars dyr. Di har stritt hårrt fårrå få sleene fremm idag. – Menn en mærkedag har de værrt. De var stille till måren. Ett millt å behageli vær. Solen skjinte å varmet. Menn samtidi denne ulidelie nedbør å de usiktbare vær. Ja, de usiktbare vær ær nessten de værrste. Mann kann jo passere klåss fårrbiå mangler diakritisk tegn di sværeste fjelle uten å ane demm. 2 kvm. fra vår teltplass dokket pludseli fremm – i SOli (retv.) retning – et mekti fjell – ca 5 kvm. a. De viste sei eftersåmm vi kåmm nærmere å være en mekti – i N-S (retv.) gåenne kjede. Denne kjede har fått navne Fkjeden. Efterå ha utgått en dist. a 6 kvm. stoppet vi å jikk igang me å åppføre depot. Me lann i vanskliheter fårr åss var de nødvendi å letne lassene. Tåken hadde imidlertid lakt sei tett åver alt lann. Vi åppførte et høit solid depo a ishår sne å satte en sort proviantkasse på tåppen. Depoe innehåller mat fårr 5 mann i 6 dage å fårr 18 bikjer i 5 dage. Dette letnet omtrent me 25 kl.kl.] kilo pr. lass. Da vi hadde laget depoe færdi letnet de såvitt, att vi ijennn kunne få åversikt åver lann. Jei teinet åmrisse a dem fra depoe å tok peilinger. Ve denne annen åpklaring fikk vi åss ijenn en åverraskelse. I NO fårr Fkjeden kåmm pludsli fremm ett uhyre fjell – åsså N-S (retv.) gåenne. Desværre ville ikke tåken letne åver denn Nlie del a denn sisst tillsynekåmmne kjede = Gkjeden. Svære breer veltet sei nedåver de å tok sei prekti ut. Begge kjeder lå i N-S menn i fårrhåll till hinannen i NO-SV. Jei kunne i kjikkerten utydli se kjederne fårrtsette mot NO. Di ær uten tvil en fårrtsettelse a Ekjeden. Mellem begge kjeder lå en uhyre bre. Isen mot Fkjeden så mer fårrvirrettolket til fårrvirret, kan stå fårrrevet ut enn noe jei hittil har sett. De så ut, såmm åmm en uhyre masse a svære isblåkke var løftet åpp å sloppet ned. Menn mann kunne nåkk se, att dette var hennt fårr mange, mange år siden. Sneen å vinnen hadde runnet a å fyllt ut meget. Denn høieste tåpp i Fkjeden var ganske mærkli. En runn 15000 f. høi kuppel åversått me uhyre iskrystaller – krystaller a kjempemessie dimensioner. En mere storslagen å vakker hodeprydelse kann vell neppe tennkess. Denn største å ubehaglikste åverraskelse var dåg en svær mekti bre, såmm løp i O-V (retv.) fra Fkjeden så lankt øiet så. Rett i vår kurs altså. Vi fannt åss snart ut denn besste vei å ta åpp på denn – jennem kjikkerten å kunne – tråds tåken såmm atter la sei tett åver de hele – sette vår kurs på breen. En bredde Hass. tok ved depoe – ga 86°21' S.Br. – omtr. stemmenne me bestikkets 86°23'. – Vi kåmm snart i tykkeste tåke inn på breen å tok åss fremm efter besste evne. Masser a svære å mindre sprekker samt uhyre gap fanntes på alle kannter å vi hadde å baute åss fremm. Hass å jei jikk fårrann i breline å di tre andre kjørte efter. De jikk åver fårrventning bra trods de komplette mørke vi arbeidet i – kunn me ett «narrow escape» fårr W. såmm hållt på å styrte nedme en sammenfallene bro. Efter å steget åpp ett parr hundrede fot, kåmm vi åpp i ett sådant virvar, att vi var nøtt til stannse å slå leir me sprekker å gap på alle kanter. Mens di andre jore alt istann jikk HH å jei i breline ut fårrå se å finne en vei ut a musefellen. Vi var heldie nåkk till å finne en. Mot O – inn mot lann ær breen ufremmkåmmeli. Menn kåmmen litt Såver blir den straks bedre. Vistnåkk har mann åsså dær uhyre revner å svære gap – men de ær mer ijennføkne å ikke på lankt nær så farlie å færdes åver. Terrenet blir åsså jevnere. – Jei tar visst ikke meget feil når jei tror, att denne NO-SV løpenne kjede støter sammen me den a Sh. – SO-NV løpenne kjede på 87° S.Br. Tiden vill vise de. Denn fjelltåpp vi peilet igår på 86°3' ær uten tvil en fårrtsettelse mot NO a F & G kjederne. – Dyp å seig løssne i hele dag – ett fårrfærdeli føre. Vi har de ypperli i telte. Alt tørt å gått. Solen stråler å skjinner jennem å tørker alt. Menn va jelper de – tåken håller sei stannhafti. De ær stille ute iaften å trods di ca ⁒23° føles de ut såmm såmmer hær i telte. – Vi har steget 200 f. – Ligger nu 8400 f.o.h. Va blir nesste åverraskelse?\",\n",
       " 'Torsda 30 novbr.',\n",
       " 'Tåken hadde endli jitt sei i nattens løp. Deili, fin måren. Tindrenne solskjinn & klart. De store, nye lann lå dær belyst i mårensolens stråler – ett vidunderli eventyr i blått & vitt. Først nu kunne vi tillnærmelsesvis bestemme Gkjedens høide. Vi ær enie om, att unner 22000 f. ær den høieste top ikke. Di laveste – 12000 f. Di nødvendie peilinger ær tatt. De klare vær ga åss ett videre syn. Nye kjeder ær kommet fremm i NEli retning å bestyrket min antagelse. Alle disse kjeder ær en fårlengelse a E kjeden. Hkjeden – ennu ikke peilet – anslåes fra 12– 20000 f.o.h. – Vi fikk åsså ett glimt a «Store Bikube». Fårtsettelsen a denne kjede mot NV kunne vi åsså se men ikke jennkjenne, da di ikke var helt klare. – De har ikke gått fort idag – 5 kvm ær de hele. «Fandens bre» har vist sei sitt navn værdi. Mann får gå 2 mil fårrå jøre 1. – Gap i gap – svelg i svelg må gåes runnt. Forrederske sprekker o.m.a.o.m.a.] trolig forkortelse for: og mye annet leit jør fremmkåmsten yderst vanskli. Bikjene sliter vont å kjørerne ikke mindre. De ær trettenne nåkk fårr åss 2 såmm går fårrann. HH & jei var en tur ute da vi slo leir i emd. fårrå ta veien ut fårr imåren. Terrenet var ikke bedre – enkelte steder værre. De kann kåmme till å ta tid dette. – Så fårtsettelse a Fkjeden mot S i emd. Dette ser litt besynderli ut. – 8700 f.o.h. –',\n",
       " '[desember 1911]',\n",
       " 'Freda 1 decbr.',\n",
       " \"Vor åfte har jei igrunnen ikke åplevet, att en dag, man intet ventet a, brakte meget. – Kuling fra SO inatt å till måren, mer fok å temmeli usiktbart. Jei hadde hallveis bestemt viledag fårr bikjerne. Men – i ett lite løienne – ble vi allikevel enie åmm å kåmme aste å fårsøke'n. De var surt till å bejynne me å smått jikk de. Vinnen hadde i nattens løp feiet store dele a breen blank å bar. De så rent uhyggeli ut. Isbrådderne hadde vi lakt ijenn på «Slaktern» å uten disse ville en åpstigning på blank is værrt noe nær en umulihet. Tusen tanker for mei jennem jærnen. Polen tapt kanskje fårr en sån bagatel skjyll? Menn de jikk tåmme får tåmme, fott fårr fot, sleelengde fårr sleelengde snart i O, snart i V, snart i N, snart i S runnt svære åpne gap å lomske bristefærie sprekker. Så åpp en bratt skrugar, så ned en annen, så mann kunne vennte å se sleerne splintret. Menn – de jikk å efter en tids fårrløp hadde vi arbeidet åss åpp till de sted, vor HH & jei rakk henn till igåraftes. Hittill hadde de ikke sett særli lyst ut. Menn hærrfra skulle de – tråds tåken – lysne fårr åss. Vi rakk åver på en noenlunne fri strekning å jennem tåken, kulingen & foken fikk vi nu fårr første gang på lang tid anledning till – på lange distancer – å styre kurs – Syd. Dette lyssnet. Vi steg ganske svakt den hele tid. Di svære gap fylltes efterhånnen mer å mer me sne. Revnerne hørte mere åpp å litt efter litt ble di mer å mer en sjeldenhet, inntill vi rakk høisletten, vor di helt åpphørteå mangler diakritisk tegn. Hær hadde de vållsåmme trykk, såmm hadde fremmkallt di svære forstyrrelser vi nettåpp hadde fart åver, jitt sei utslag på en annen måte – noe millere. Store, såtelignenne hauer var sprett utåver i alle retninger. Noen mannshøie, andre mindre, andre større. Hæråppe ær terrenet noe anderledes. Hele grunnlage ær ren is, ganske fint åpsprokket isprenkt me store fokskavler – SO-NVgåenne. Vi har ennu ikke kunnet se di nærmeste åmjivelser, menn vet vi me visshet, att vi ær åver breen å dærrfårr ær hær fesststemning. Hindringer kann vell ennu muliens ligge åss i veien, menn de får vi nu finne åss i. Kokningen iaften gav 9100 f.o.h. å me denn høide antar jei me bestemthet, att vi ær på «vidda». Vi venter nu me lengsel fårrå se, vordann lann går. Føre hæråppe ær lankt lettere fårr hunnene å de bærer fint aste.\",\n",
       " 'Lørda 2 decbr.',\n",
       " 'Ett stivnet hav ligner «vidda» vor vi nu reiser åver – en velvet kuppel a is. Sprokkett åpp i ganske små jennlokkete sprekker. Enkelte små fokskavler ligger bortåver. Ypperli føre fårr en skjøiteløper, men desværre ytterst slett fårr våre hunner å åsså mangler diakritisk tegn sell. Jei stavrer mei fårrann på skji. De går ikke rart. Hunnekjørerne uten skji ve siden a sleerne, klar till å jelpe dyrene, når disse ikke lenger vinner å få tak me kløerne – å de har desværre værrt sånn åftest i hele dag. De har værrt slit for bikjer & mennsker. Dærrtill kåmmer stårm fra SO me tett, intens fok & nedbør, så mann absolut ikke kunne se de ringeste. Vi har jort veien idag komplet i blinne. – Vi ær nessten ujenkjendlie på grunn a frost i ansikterne. Noen har svære, hårne kjaker. Andre har måttet ofre nesene å atter andre haken. – De har værrt en lei dag – stårmfokå mangler diakritisk tegn å fårrfrysninger – menn fremm ær vi kommet 13 kvm. nærmere måle. Stiv kuling iaften fra SO ⁒24°. Kokningen ga åss 9300 f.o.h. De stiger jevnt.',\n",
       " 'Sønda 3 decbr.',\n",
       " \"Hadde egentli bestemt åverliggedag. Menn da de løiet utåver fmd. ble vi enie åmm å se på'n. Efter å ha fått en breddeobsv såmm ga 86°47' bega vi åss aste. Menn vi kunne likså ha blitt liggenne. De kulet snart på ijenn å innen kårrt blåste de hel storm fra SO. Vi kunne ikke se hånnen fårr åss. Hadde terrenet værrt jevnt hadde vi fårrtsatt, menn en meget uheldi å i sånnt vær farli fårrandring hadde funnet sted. Trykket på åverflaten på dette åmmråde hadde værrt betydli større enn dær vi hadde færrdes di parr sisste dage. Isen var revnett åpp i store sprekker. Visstnåkk var alle disse sprekker ijennfyllte, menn på begge sider langs di fasste kanter ær denne skårrpe ganske tynn å farli. Vi kunne ikke benytte skjiene idag, da de var bare blanke isen bortåver å vi måtte assistere bikjene. Efter flere nåkkså farlie passager i «tykka» måtte vi ji åss å slå leir. Vi hadde da kunn jorrt 2 kvm. Mann kunne risikere fålk, bikjer & slee i dette grisevær – å de ær fårr kåstbart fårr noen få kvm. Vi har telte vårrt ståenne på blanke isen nu – småsprekker åveralt. På fårrie leirplass – idagmårres altså – la vi fra åss alle våre skjinnklær fårrå jøre lassene mindre. Vi behållt dåg våre anorakhetter, såmm vi skar a anorakkerne. – ⁒21° å stårm fra SO. Kokningen iaften jir 9500 f.o.h.\",\n",
       " 'Manda – 4 decbr.',\n",
       " \"Vi har værrt heldie såmm vanli. Vinnen sprang – efter å ha blåst stårm fra SE – åver till N å løiet å klarnet. Vi var ikke sene åmm å kåmme ut å aste. De var «Fandens dansegulv» vi først måtte åver. Speilblank is me jennfyllte sprekker hist å hær. Dette dansegulv var ikke særli vanskli å kåmme åver. Sellfølgeli var de ikke tale åmm å bruke skji. Vi måtte alle støtte sleerne å jelpe hunnerne. De neste terren bø på gått føre å vi lykønsket alle værandre me å være kommet åver alle vanskliheter. Menn nei takk san! De var ikke så fort jorrt. Pludsli hævet dær sei ett høidedrag fårrut å dalsekningen vi måtte ned i viste åss snart at hær lå vanskliheter nåkk. Denn ene skrugar efter denn annen viste at hær hadde værrt ett vållsåmt åppstyr. Å de viste sei snart. Boms der lå Ws slee ned i en svær, bunnløs sprekk me denn ene mei. En ganske lei stilling. Bj. tok foto. a denn. De lykkes åss å få denn åpp ijenn uten skade. Engang till hennte dette W. Att hunnene fallt i å fårsvannt rett såmm de var å ble halt åpp ijenn skjedde minut fårr minut. Nu – vi arbeidet åss dåg helskjinnet over å kåmm åpp på høidedrage. De besto atter a klar is, menn så åppfylltå mangler diakritisk tegn å skjulte sprekker, att mann faktisk ikke kunne sette fot noe sted uten å trå jennem. Helldivis var nessten alle disse sprekker fyllte, menn enkelte var farlie nåkk. De var en meget hår jåbb fårr bikjerne. Bj. fallt jennem, menn fikk grepet sei i sleen. Uten de hadde han værrt redningsløst fårrtapt. Åsså åver dette «svineri» kåmm vi endli åver å litt efter litt jikk vi åver på den endlie å virklie vidde – uten lannfårrstyrrelser. Lann peilet vi sisste gang i misv.misv.] misvisningen VtN å VtS½S. Dette var Fkjeden – den sydlikste. Dette ær altså de sydlikste lann vi har sett. De var fra 87° S.Br. vi endli jikk åver i «vidda». Vi hadde en go lang dagsmarsch i de hærlikste vær. Liten SOli bris å tinndrenne klart. Kåmm fremm 20 kvm. å ligger nu på 87°9' S.Br. e.b.e.b.] etter bestikk Føre hær på vidda ær gått. Enkelte skavler – SO-NV – men ikke till hinder. Ingen sprekker å revner mer. Kokningen – 9800 fot o.h.\",\n",
       " 'Tirsda 5 decbr.',\n",
       " 'Har gått fullstendi i blinne i hele dag. Bris fra N me tett tykke å større, mere jemmlignenne nedbør enn jei ennu har sett de i disse eine. De har gått svært bra. Terrenne har tillatt åss å kåmme fremm åmm enn me noe besvær. Enkelte svære fokskavler har jo jitt anledning till enkelte kantringer å besvær på annen måte. Vi har arbeidet åss fremm 20 kvm i dette blinne vær å ær fårr øieblikke 10 200 f.o.h. efter kokning. – Ennu i fmd. fanntes mange a di store isflater inn mellem skavlerne, menn i emd. har vi endli helt mistet demm. – Jei så månen hær fårr ett parr dage siden. Jei vet aldri de har hennt mei før – månen & midnatsolen samtidi ⁒15,4° iaften. Millt å behageli. Satte ijenn en sort proviantkasse på teltplassen idagmårres.',\n",
       " 'Onsda 6 decbr.',\n",
       " 'I fullstendi blinne har de gått i hele dag. Unner sånne åmmstendiheter må HH kjøre fårrann me sitt spann. Hass & jei, såmm ellers skall avløse hinannen, fårrå gå fårrann, kann i sånnt vær ikke gå, da vi bare uavladeli detter i fokskavlerne. Enkelte a disse ær nåkkså store – menn ikke noe å snakke. Me ett lite tilrop tar hunnene sleerne åver me en viss glanns. Skulle mann sell ha trokket ville de blit en farli jåbb. Di ællste a disse skavler ligger SO-NV men a di nyere dannette ligger mange i N-S & O-V. Vi har hatt nedbør (fin) i hele dag – absolutt intet å se. Å tråds de har vi rokket våre 20 kvm. – Kokningen gav – 10 750 f.o.h. Hunnene håller sei mærkli gått. De må være denn fine pemmikan & de mille vær, såmm jør de.',\n",
       " 'Torsda – 7 decbr.',\n",
       " \"Samme vær. Stærk nedbør. Himmel & horisont i ett. Kann absolut intet se. Trods de har vi jort våre 20 kvm å har således passert 88° S.Br. Ligger nu e.b.e.b.] etter bestikk på 88°9'. Imåren jør vi atter en 20 mils marsch å passerer da Sh's rekord. Så stannser vi en dag å viler ut. Vi trænger de gått både mennsker å dyr.\",\n",
       " 'Terrennet har fårbauset mei meget idag. Fullkåmmen slett å fint åveralt. Ingen fokskavler menn meget løssne. Å nu viser hypsometrethypsometret] Instrument til bruk ved høydemåling. Ved hjelp av hypsometeret kan kokepunktet for vann bestemmes med en nøyaktighet på 1/100 grad. Av dette kokepunktet finner man så lufttrykket i tabeller og kan dermed bestemme høyden over havet (Kilde: snl.no) iaften, att vi intet har steget. Ær vi nu inne på denn endlie høislette? Jei tror de. De stemmer ikke ganske me Sh. Menn muligens han ikke hadde hypsometer me på sin endlie spurttur.',\n",
       " 'Freda – 8 decbr.',\n",
       " \"En a våre store dage. De så ikke helt uvanli ut till måren – tykt å usiktbart, såmm vanli. Menn vinnen hadde løiet meget a i nattens løp. De lille grann såmm var kåmm fra NE. Terrenne å føre var første sårrt. Flatt – ganske flatt uten anntydning till fokskavler. Di leie småhauer a løs foksne, såmm hadde værrt så generenne den fåregåenne dag, var helt fårrsvunnet å føre fårr skjiene var absolut A1xusikker på hva Amundsen mener her. Vi hadde ikke reist lenge, innen de bejynnte å lette litt runnt hele horisonten. Menn selve himmelvelvingen hållt sei trossi. Ett tykt lag a StratusStratus] lavliggende tåkeskyer jore denn helt uijennemtrengli å ikke de minnste gløtt a solen viste sei. Kl. 11¼ f. hadde vi en a våre almindlie stannser – vi hadde da jorrt 7 kvm. å var e.b.e.b.] etter bestikk på 88°16' S.Br. Nettåpp da viste solen sei – menn ikke mer enn såmm en smørklatt. Vi hadde ikke hatt obs.obs.] observasjoner siden 86°47' å de jallt meget fårr åss å få vår plass nøiakti bestemt. De tok tid innen «Hennes Nåde» ville vise sei. Menn endli kåmm hunn – ikke i all sin glanns – menn beskjeden å tekkeli – ypperli fårr en go beskuen. Vi knep henne – vi tok ikke feil – å resultate – ja, de var temmeli nøiakti 88°16' – en glimmrenne seier efter 1½° marsch i tykk tåke å snefok. På minutte stemte altså obs. å bestikk. Vi har senere i emd. tatt to fårrskjellie misvisningsobs. till meget fårrskjellie tider – kl. 5e å kl. 8 e. – me samme resultat. Så nu ær vi klar till å ta polen i va slags vær, dær måtte by sei. – Fra vår observationsplass till engelsmennernes (Sh.s) værdensrekord, sto nu kunn 7 kvm ijenn (88°23'). Jei hadde jitt HH vårrt polflagg, såmm han skulle reise på sin slee – ledersleeenledersleeen] feil for ledersleen – såsnart denne bredde ble åverskredet. Sell var jei fårrløper på denn tid. Være hadde bedret sei mer å mer, å solen hållt sei fårr allvår på å kåmme fremm. Mine snebriller generte mei fra tid till annen. Ett ganske svakt heng fra S fikk demm til å dugge å jøre de vanskli å se. Da pludsli hører jei et høistemt, krafti hurra bak mei. Jei venner mei åmm. I denn lille bris fra S vaier di kjære, kjennte farver fra denn første slee, dær har åverskredet å lakt engelskmennernes rekord bak sei. – De var ett hærrli skue. Solen hadde nettåpp brutt fremm i all glanns å belyste på en så vidunderli vakker måte de deilie lille flag – present fra Helland Hansen å Nordahl OlsenHelland Hansen å Nordahl Olsen] flagget var en gave fra fruer i Bergen representert ved disse to –. Mine briller dugget nu åsså. Menn de var ikke sønnenvinnen, såmm denne gang hadde skjyllen. Vi stannset på 88°23'.2 å gratulerte værandre. Vi var alle glae å tillfredse. Tok ett foto – no 10 film no 3 – a sleerne, såmm di kåmm fremm å stannset. Så fårrtsatte vi atter vår reise å ståppet på 88°25' SBr. Vi har de fineste vær, vi har hatt på længe. Solskjinn & nesten stille ⁒18°. De ær ren såmmer i telte. Alt va vi har a fokti, tørker i løpe a noen timer. Vi blir liggenne hær mårendagen åver fårr å vile åss sell å våre hunner. – Snefårrhållene hær på sletten – ti att vi ær på sletten viser hypsometre, såmm har jitt nøiakti samme resultat iaften såmm di fåregåenne to. Sneen hær ligger dyp å løs så de ær vanskli nåkk å finne teltplass. De synes såmm åmm vinn – stærk iallfall – hører till sjeldenheterne hær på sletten. Di små snefurer mann ser fra tid till annen ligger mest NO-SV. – Hunnene ær nu meget grisske. Spiser allt, va di kann åverkåmme – specielt surringsliner. Vi ær således nøtt till å ribbe sleerne åmm afften.\",\n",
       " 'Lørda 9 decbr.',\n",
       " 'Har ligget åver idag, vilt åss ut å jort åss klare fårr de sisste anngrep. Vi har nedlakt depot hær fårrå letne sleerne. HH behåller sin slee ufårrandret, mens di to andre letnes. Bj.s hunner har tapt sei meget i denn sisste tid å igår aftes fårrsvannt en a W.s – Majoren – en gammel, stø hunn. Antagli ær denn gått henn fårrå dø. Vær a disse to sleer ær letnett me ca. 50 kl.kl.] kilo pr. stk. Bj. har lakt a 42.5 kl. hunne & mennske pemmikan. W har satt a sin kjeksekasse innehållenne – 2200 samt 11.5 kl. pemmikan. Dessuten efterlates i dette depot en boks sprit å ett nøsste hyssing. Dette depot ær tværmærket i O-V. 60 kassebor ær utsatt på vær side me 100 skritts avstann mellem vært. Annet værrt ett bærer en sort vimpell. Di mot O ståenne mærker bærer alle ett innskåret mærke unnen vimplen fårrå beteine denn retning di står i i fårrhåll till depote. Være har værrt rikti pent idag. Solen har flere gange værrt helt fremme. ⁒24° iafften. Liten SO li bris. – Vi går hærrfra utstyrt vell – fårr mennsker ca 30 dage fårr hunner ca. 20 dage tillbake hærrtill. – 3 a åss, HH, W åå mangler diakritisk tegn jei ser helt skrekinnjagenne ut siden vi fårrfrøs våre annsikter i SOstårmen fårr noen dage siden. Sår, værk å skårper på hele denn venstre side. Bj & Hass, såmm kjørte sisst jikk fri. Hunnene bejynner nu å bli helt farlie. Mann må betrakte demm såmm farlie fiender, når mann fårrlater sleerne. Innbrud har di mærkli nåkk ennu ikke fårrsøkt. – Fårruten tværmærkningen legger vi nu åpp noen få sneblåkker fårr vær annen kvm. på veien S åver.',\n",
       " 'Sønda 10 decbr.',\n",
       " \"Prekti vær idag ⁒28°. Bris fra S kanten å tindrenne klart. Litt kjøli har de værrt å gå imot me di såre ansikter menn ikke noe å snakke åmm. Terrenne å føre har værrt samme sårrt – første klasse. Ganske jevn å flat ligger «Vidda» fårr åss. Sleerne å skjierne glir lett å behageli. Menn hunnene ær trette å de går ikke fort, menn de går jevnt å vi har tillbakelakt di bestemte 16 kvm – 5 dage till å de ær meningen, att vi skall være fremme. – Stærke vinne jør «vidda» ikke inntryk a å være beriget me. Snelage ær ganske løst. Vanskli nåkk å finne en skjikkeli teltplass. Fikk en ypperli høide i middags såmm ga 88° 30' S.Br. eller 1' i atterhånn a bestikke. De ær fint. En udmærket azimut i emd.\",\n",
       " 'Manda 11 decbr.',\n",
       " \"Fint vær ijenn. Liten SSEli bris me ⁒28°. Dels helt klart. Dels noen fårrbigåenne tåkedåtter. Stor prekti ring runnt solen. Meridianhøiden ga ett minutt mindre enn bestikket. Tok de ijenn ve å jøreø mangler diakritisk tegn 17 istedetfårr 16 kvm. Ligger nu på 88°56' S.Br. Føre å terrenne de samme. Vi kann nåkk mærke att de faller tongere å arbeide hær åppe i høiden. Anpusten blir vi bare vi sier – «ja», menn de klarer sei vell. Gleder åss till engang i værden atter å kåmme ned i normal høide. –\",\n",
       " 'Tirsda 12 decbr.',\n",
       " \"Prekti vær[.] Nessten stille å dels klart[.] Ca ⁒25°. Samme fine terrenn å føre. På hypsometre ser de ut, såmm vi går nedåver – menn ganske svakt. Muligens ær de bare værfårrhållene såmm bevirker dette. Middagsobserv. – såmm ble tatt unner di gunstikste værfårrhålle – stille, klar skarp sol å ligeledes horisont – ga 89°6'. ObsObs] observasjoner & bestikk ær således atter helt sammstemmenne. Vi har jorrt våre vanlie 17 kvm. å ligger nu på 89°15' – 3 dagsmarscher fra vårrt mål.\",\n",
       " 'Onsda 13 decbr.',\n",
       " \"Vår fineste dag hæråppe. Vi har hatt de stille en stor del a dagen – me brennenne solskjinn. Føre å terrenne har værrt de samme. Sneskårpen ær heldivis så hår att de kunn ær yderst lite slee å bikjer synker i. Hypsometre viser fremmdeles synkning åmm enn ganske svakt å ær de vel å anta, att vi ikke allene har fått høieste slette bestemt, menn åsså falle ned mot denn annen side. Vi har jorrt 15 kvm. idag å ligger nu efter middagsobs. på 89°30'30“. Obs. å bestikk stemmer nu glimrenne sammen vær dag. Vi fesster kunn lid till vår ene sextant – FramsextantenFramsextanten] sekstant fra polarskuta «Fram» – denn annen har desværre værrt utsatt fårr støt å viser sei ikke å være pålideli. HH, W. & jei bruker nu Framsextanten sammen.\",\n",
       " 'Torsda 14 decbr',\n",
       " \"Fint vær i hele fmd. Skjyet åverr efter att vi hadde fått høiden å kåmm me snebyger fra SO. Meridianhøiden – såvel me kviksøll såm glass – ga 89°37'. – Bestikke ga 89°38'.5. Dette ær jo meget fint. ⁒23° i hele dag. Efter har vi kjørt 8 kvm. å ligger nu 15 kvm. fra polen.\",\n",
       " 'Freda 15 decbr (egentli 14 de.)',\n",
       " \"Så rakk vi da fremm å fikk plantet vårt flagg på den geografiske sydpol – Kong Håkon VII's Vidde. Gudskjetakk! Kl. var 3 emd., da dette hennte. – Være var fineste sårrt, da vi jikk ut imårres, menn kl. 10 f. trakk de åver å skjulte helt solen. Frisk bris fra SO kanten. Føre har værrt delvis gått, delvis slett. Sletten – K. H VIIs Vidde – har hatt samme utseenne – ganske slett å uten va mann kann kalle fokskavler. Solen kåmm fremm ijenn i emd. å skall vi ut inat å få midnattshøiden. Sellfølgeli ligger vi ikke på punkte 90°, menn må vi efter alle våre ypperlie obs.obs.] observasjoner å bestikk være meget nær. Vi kåmm hærrtill me 3 sleer å 17 hunner. HH slaktet en like efter ankåmsten. «Helge» hadde uttjent. Vi går imåren ut i 3 retninger fårrå inncirkle polåmmråde. Vi har inntatt vårrt festmåltid – ett lite stykke selkjøtt på vær. Vi går hærrfra iovermåren me 2 sleer. Denn tredie settes ijenn hær. Ligeledes setter vi ijenn ett lite 3 manns telt (Rønne)Rønne] Martin Rønne (1861-1932) me de norske flagg å vimpel mærkett «Fram» på.\",\n",
       " 'Lørda 16 decbr.',\n",
       " \"En meget beveget dag. Vi tørnte ut kl. 12 midnat fårrå ta en høide. Denne fikk vi da åssåå mangler diakritisk tegn. Bereiningen ga åss ca. 89° 56'. Dette så ikke værst ut. Kl. ½ 3 fmd. dro Bj., W. å Hass ut på skji fårrå inncirkle polen. Bj. fårrtsatte vår åpprindlie kurs NEtN (komp.) mens Hass jikk ut i NVtV å W i SOtO (komp.) Di skulle gå ut en distance a ca. 10 kvm. Di medførte vær en stang (varemei) me sort flagg på. På vær stang var fastsurret en liten pose, såmm innehållt beretning åm vor «Polheim» befannt sei. De var ett hærli vær. Stille – noe disi. HH å jei var ijenn fårrå observere. Vår mening var å observere vær 6te time. Kl. 6 fmd. tok vi denn første obs. efter midnattshøiden. Till min overraskelse viste denn en meget mindre høide enn denn anntatte midnattshøide. Vi var tydlivis unner vår marsch fra 88° S.Br. kåmmen ganske bort fra vår meridian. Saken var nemli denn, att vi innfårrbi denn bredde ikke kunne få greie på asimutten. Nu jallt de å finne vilken meridian vi var på. Vi bejynnte da timevise observ. me glass å kviksølvbar.bar] barometer Heldivis hållt være sei fint å tillot åss å få di mest utmærkete obs. Glass åå mangler diakritisk tegn kviksølv stemte fint åverens. Først mellem kl. 5 å 5.30 emd – sand tid Framheim – fannt vi meridianen. Dette viste åss att vi var kåmmen bort i denn 123de meridian L.O.Gr.L.O.Gr.] Longitude after Greenwich – ikke så mærkli på disse bredder, når mann ikke kann få sin retning bestemt. Meridianobs. ga åss 89°54'38“ S.Br. å polens beliggenhet efter peiling på kompkomp] kompass i NV¼V. Dette var en ubetaleli dag å vell vært umagen. Vi vet nu me temmeli stor nøiaktihet å finne polpunkte. Kl. 10 fmd. vennte di 3 tillbake me vell utført sak. Være har hålltå mangler diakritisk tegn sei glimmrenne i hele dag. Di to sleer vi fårrtsetter me står nu fullt færie å denn tredie tillikeme distancejul no 2 blir ståenne ijenn. Helge såmm ble slået ihjel igår ær me griskhet satt tillivs a sine kammerater. Vi går imåren aste mot polpunkte 5½ kvm. hærrfra. Vi har nu mat fårr åss mennsker i 18 dage. Fårr hunnene i 10. De skall nåkk gå bra tenker jei ned till vårrt depot på 88°25' å dærrfra till depote unner «Fandens bre». – De ær ganske interessant å se solen vandre runnt himlen i så å si like stor høide dag å natt. Jei tror nåkk vi ær di første till å se de mærklie syn.\",\n",
       " 'Sønda 17 decbr.',\n",
       " \"Atter en mærkeli dag. Vi brøt leir idagmårres å startet fårrå mangler diakritisk tegn polpunkte. Bjs slee ble satt ijenn, hans 6 hunner fordelt mellem HH & W å han selv annsatt såmm fårrløper. Sell fulkte jei efter fårrå se, vordann han klarte å hålle retningen. Være var første sårrt. Ganske liten bris fra V ⁒23°. Fullstendi klart å en stekenne sol høit på himlen. De var en fårrrnøielse å se Bj. hålle retningen. Hann jikk, såmm åmm hann hadde en åpptrukket linje å gå efter. Kl.11 f. hadde vi utgått di 5½ kvm, jore hållt å reiste vårrt telt. Kl ½ 12 f. hadde jei mine instrumenter klare å jikk i vei. Kl. ær nu 8 emd. å di mest besynderlie resultater har vi fått. Fra ½ 12 till 1 e sto solen stille på 46°4'. Dærrnest steg denn till 46°6'50“ å sto stille dær till å me kl. 4 e. Så steg den till 46°9'30“ å dær har den stått still siden. Efter en lengde a 105° O.Gr.O.Gr.] øst for Greenwich ligger vi efter di sisste obs. på 89°58'20“ S.B.S.B.] feil for S.Br. – HH å Bj ær ute i en fårtsettelse a denn meridian vi mener efter disse obs. å måtte ha – fårrå passere åver di resterenne 1'40“. Di hadde vimpel me fårrå sette på stede. Vi kåmmer till å observere i hele natt, da disse resultater jo ær ganske mærklie. Vi må jo nu efter alt betrakte dette sted fårr polen. Vi reiser vårrt lille telt hær imåren å fårrlaterå mangler diakritisk tegn stede med kurs mot N. En kokning ga 11000 fot o.h. Hær ligger vi altså på Sydpolen – en uhyre flat sneslette. Omtrent ikke en ujevning å se. Solen passerer runnt på himlen i praktisk talt samme høide å skjinner å varmer fra en skjyfri himmel. De ær stille iaften å så fredli. Bikjerne ligger alle utstrakte i solsteken å nyter trods denn ringe kåsst – tillsynelatenne livetolket til live ganske bra. – De har værrt så siktbart idag, att mann har kunnet se mangfåldie kvm. a. Vi har alle brukt kjikkerterne flitti fårrå se åmm dær var tein till liv på noe håll – menn fårrjeves. Vi ær nåkk di første på stede.\",\n",
       " 'Manda 18 decbr.',\n",
       " \"Ja, nu ær vi da færie hær å jort har vi, va jøres kann. Vi har tatt en række obs. – nu vær time jennem hele døinetø mangler diakritisk tegn. De ær meget vanskeli, å kåmme till noe endli sikkert resultat. Menn såmeget kann vi avjøre, att vi ær sønnenfårr 89°59'. – Di muliens manglenne sekunner har vi cirklet inn. – Jei tror våre obs. skall bli a stor interesse fårr fagfålk. Vi bejynnte obs. hær igår kl. 12 efter Fr.Fr.] Framheim tid å avsluttet demm idag kl. 12 (Fr. tid). – Vi reiser hærfra i emd. kl. 7 å bruker hærrefter natten å gå på fårrå få solen i ryggen. De lille telt har vi reist å det norske flagg me «Framvimpel» unner vaier fra teltstangens tåpp. I teltet deponeres flere saker: Min sex.sex.] sekstant m. glasshorisont, ett hypsometer, 3 renskjinnsfotposer, noen kamikker å våtter å fårresten noe småtteri. Jei efterlater i en mappe ett brev till Kongen å noen or till Scott,Scott] Sir Robert Falcon Scott (1868-1912), leder av den britiske gruppen som ankom Sydpolen én måned senere såmm jei jo må anta blir denn første till å besøke stede efter åss. På teltstangen hefter vi en plate, vorpå vi alle skriver våreå mangler diakritisk tegn navne – Å så farvel, kjære pol – vi sees nåkk ikke mer.\",\n",
       " 'Tirsda 19 decbr.',\n",
       " \"Vi dro aste igåraftes kl. ½ 8 efter å ha sakt vårt kjære lille Polheim farvel. Vi hilste vårt flagg å så aste. Så klart å siktbart var de, att di me goe øier kunne se denn åpreiste slee på denn annen teltplass – 5½ kvm. borte. Dærrhenn satte vi kursen å to timer efter var vi dær. Føre var glimrenne, være storartet – ⁒19°, klart å en mill, sommerli vinn fra vår sisste vært – polen. Vi har værrt jennemvåte alle a varme idag. De ær åsså uvant fårr åss å ha vinnen i ryggen. Vi har jo altid hat'n i fleisen. I Bj. har vi fått en fårrløper a rang. Hann ser såmm ingen å går såmm ingen. Således har hann hållt vårrt gamle spor Nåver i hele dag å de skjønnt de ær meget utydli. Di små snevarder vi åppførte fårr vær annen kvm viser sei ubetalelie. Di lyser såmm småfyrr å tror jei – såfremt være håller sei, att vi lettvinnt skall ta åss fremm til vårrt depot ve jælp a disse. – Hærli vær. Ennu ser vi solen like høit, ennu varmer den like gått nat såmm dag.\",\n",
       " 'Onsd – 20 decmbr.',\n",
       " 'Samme storskjønne vær. Nessten stille å delvis klart. Vi har jorrt våre reglementerte 15 kvm. Slo ihjel «Lasse» iaften. Denn har værrt en a våre besste hunner, menn hadde arbeidet sei ut. Hann ble lonset ut i 15 dele. Di andre ær nu såmm rasenne efter hunnekjøtt. Føre har værrt særdeles fint. Har fulkt spore i hele dag. De viser sei att skjisporene har hållt sei besst. Kann se fra varde till varde, skjønt di ær kun ganske små – ca 3 f. høie.',\n",
       " 'Torsda 21 decbr',\n",
       " 'Bejynnte me surt vær. Bris fra SEkannten. Kunne ikke se å følle sporene. Klarnte heldivis snart a. Ble helt stille. Fannt me letthet første varde. Har hatt de deilikste vær siden. Stille, stekenne sol så vi må gå barhodet å i skjorteærmene. De ær meget på 89° S. Br i 11000 f.h.o.h. En av W.s hunne «Per» ga åpp idag å måtte slaktes. Har værrt en yppeli hunn, menn har mast sei ut. Vi bejynner nu ve 8 tiden åmm aften å har da jort våre 15 kvm. kl. 3 måren. De ær stekenne hett hær i telte nu. Solen står på. Kann ikke huske denn dag vi hadde rimdannelser hærinne. Føre yppeli. Sletten jevn å svakt stigenne mot N. – Vi har nu jorrt åss så lette såmm muli. Kastet indre soveposer (på polen) å alt åverflødi ellers. Vår sisste petroleumstank (17 l.) har vart fra 26 novbr till idag 21 decbr – kokning for 5 mann.',\n",
       " 'Freda 22 decbr.',\n",
       " 'Ett vidunderli deili vær like till middnatt. Stille, klart å stekenne hett – skjønnt tt] temperaturen var ⁒25°. Menn da kåmm dær en råkall, fokti luft fra NO me fin nedbør. Solen var imidlertid fårr stærk till å la sei spille på nesen. Denn sprette uhumskheten å skjinner ennu i sin fulle glanns. Vi har jorrt våre vanlie 15 kvm. till kl 3 fmd. Har fulkt spor å varder hele veien. Hunnene har fått ekstraforing idag –fårruten sin pemmikan har di åsså fått «Per». Jei lot igår vår egen pemmikanration fårrøke till 400 gr. pr. mann.',\n",
       " 'Lørda 23 decbr.',\n",
       " 'Surt idamårres. SEli bris å vasskållt. Nessten åverskjyett. Meget vanskli å se terenge. Dærrfårr mistet Bj. åsså snart sporene. Heldivis løiet de a å klarnet åpp. Vi hadde da kurs rett på en a varderne. Distancejulene stemmer fullstendi åverens me di før utgåtte distancer mellem varderne. Litt nedbør jore føre slett. De var trekt enkelte steder, så mann neppe kunne få skjiene fremm. Enkelte steder gled de dåg. Ve midnat var de ⁒27°. Efter midnat klarnte de mer å mer a å nu kl. 3 f. ær de nessten helt klart å stille. Skjønnt vær. Vi har nu 26 kvm ijenn till depot.',\n",
       " 'Sønda – 24 decbr.',\n",
       " 'Hærli vær da vi dro ut iaften kl. 7½. Blikkstille, me stekenne solskjinn. 5 minutter efter å de var helt åverskjyett – Stratus – di fårrandringer såmm fårekåmmersiste å mangler diakritisk tegn så hyppi hær på K.H. VII ViddeK.H.VII Vidde] området ved den geografiske sydpol ble av Amundsen navngitt til Kong Håkon VIIs Vidde, etter Norges konge (1905-57). Ve midnatstid var de nessten helt klart ijenn. Liten bris fra S. Føre har inatt værrt betydli bedre. Vi har idag fårr første gang siden avgangen fra polen funnet en skjikkeli teltplass – hår nåkk. Før har sneen værrt fårr løs. 8 meters vinn ær de høieste notert på denne vidde – å de kunn engang. Jennemgåenne har de værrt fra 2 – 4 m. Hær trives visst ett evi govær. Slaktet iaften «Svartflekken». Denn ville nu ikke mer, skjønnt denn ikke var dårli å se till. Slett karakter. Ville såmm mennske bejynnt på Bastø fårrå enne på «Slaveri». – Sneen bejynner mærkbart å bli hårere å hunnene arbeider lettere. Våre vanlie 15 kvm. inatt på 7 timer.',\n",
       " 'Manda 25 decbr.',\n",
       " \"Liten Sli bris. Dels klart, dels åverskjyett – hurti vekslenne. Har fulkt sporene å vardene hele veien å nådde kl. 12 nat vårt depot på 88°25' i full stann. Bj. har all ære a denn måte hann har skjøttet sin fårrløperstilling. HH er kanske en smule bedre – han ær mer vannt – menn kunne hann ikke greidd å kjøre å ta spore samtidi – dærrtill var spore fårr utydeli. Deili å klart nu på mårensiden – fineste juleaftenvær. Ja, nu tenner dere lysene dærjemme. Vi ær nåkk me sellåmm avstannen ær lang. Menn vennt litt – omm ikke lenge har dere åss ijenn å da me seier i hennerne. Vi feirer vår julekvell iaften. Vi har jo ivirkliheten denn 24 åmm vi enn skriver denn 25de. De ær ikke stort vi kann jøre fårrå utmærke dagen. En liten ekstragrøt a Sætre kjeks ær allt. Denn skall serveres kl. 8 måren å alle ser dærrhenn me lengsel. De ær ganske rart. Vi går jo på full ration; menn allikevel tar vi jærne alt ekstra me glede. – Guttene ær ute å pakker depoet på sleerne nu å jei ligger allene hærinne å skriver. Primussen durer i anledning dagen – noe vi ellers aldri tillater åss. Ve avgangen hærrfra har vi proviant fårr åss sell å hunner fårr 12 dage. Till depote på 86° 21' reiner vi 8 dage, så vi ær vell utstyrt. Jei legger nu a en prøve av vær a våre proviantartikler, såmm har værrt ve polen. Antagli vill leverandørerne sette pris dærrpå: 1 melkepølse (tørrmelk) 1 plate chocolade, 6 kjeks i en liten kasse å 1 ratrat] ration mennskepem. – Et annet tein på dagens fesst har vi dærri, att 3 a åss røker cigar. Bj. hadde nemli tatt me sei jemmefra ett cigaretui me 8 cigarer i. På polen åverrasket hann åss med disse. Vær fikk dær en cigar. Jei fikk dessuten etuiet me de 3 jennværenne cigarer. Di røker vi nu idag. Tobaksrøkning fårejikk ikke i telte før ve ankåmsten till polen. Jei var dåg denn eneste såmm hadde pipe me. Menn rådløse var de andre ikke. Skjistavenene våre ær a bambuss å disse var noe fårr lange. A di åverflødie stykker ær dær jorrt piper. W. hadde engelsk plate tobak me å nu får vi åss en liten røk måren å aften. – Vi har steget smått vær dag inntill nu å skall efter våre fårrie obs. være på høiden nu – 10750 f.o.h. Denne høide håller sei ett par dagsmarscher mot N. å bejynner så å sennke. Jei gleder mei till att kåmme ned ijenn fra disse høider. De ær ikke så sjelden jei føler mei trangbrystett å må dele ånnedrette i flere avdelinger.\",\n",
       " 'Tirsda 26 decbr.',\n",
       " 'Bris fra SO kanten ⁒26°. Glimrenne føre. Ganske slett. Ær på flaten. Har jorrt våre 15 kvm i ett kjør – uten ståpp. Bikjerne ser ut till å ta de bra. Atter i teltusikker tolkning av de 3 siste ordene kl. 2 fmd. Solskjinn menn nåkså surt. Rå, kåll luft i N – NO. Antageli fjellene såmm trykker å truer.',\n",
       " 'Onsda 27 decbr.',\n",
       " 'Hærrli vær. Liten bris fra S å tindrenne klart. Ypperli føre ⁒27°. Passerte litt før midnatt 88° S.Br. Dær jikk de åver fra de fullstendi jevne till høie, små fokskavler. Solen har tydlivis stått på hær i flere døin; ti dær var mange glatte, blanke flater å se. Hunnene likte dette føre bra å di jikk fårråver me glanns. Ve 88 ° fikk vi åsså lann isikte – ca SV½V (misv.)misv.] misvisning De ser ut såmm vi skulle bli heldiere me være på Nturen. Tørret såveposen min på lasse ida. Denn var blitt full a rim i bunnen.',\n",
       " 'Torsda 28 decmbr.',\n",
       " \"Samme storskjønne vær. Glimrenne føre. Kåmm efter 9 kvm. kjøring ut i storskavvel distriktet. Menn nu går de betydli lettere enn de jore Såver. Stekenne sol i ryggen, glimrenne føre ær noe såmm setter bikjene i kulør. De går fortrinli å hunnene ser sandli ut till å ta sei åpp ijenn. Vi mistet spore vårt straks efter 88°25'. Harrusikker tolkning krysset de flere gange idag. Ennu færdes vi på høisletten, men imåren går de hurti nedad. Nærmer åss stadi lann. Fokskavlerne ligger i N–S å i NV–SE.\",\n",
       " 'Freda 29 decbr.',\n",
       " \"Samme finfine vær. Klart me frissk bris fra SSO ⁒25° I bejynnelsen fårrtsatte skavlterrenge såmm igår – temmeli svære skavler. W. hadde satt seil på sin slee. Me denn friske bris å fine føre jikk de såmm en lek, sellåmm skavlerne var nåkkså store. W. greidde me seil å følle HH. Bikjene hylte a glede å begeistring. Efter en tids fårrløp – 3 timer – kåmm vi ut a di værrste skavler å har siden kun hatt me mindre å jøre. Nytt lann har vi åsså fått øie på idag. De ær en fjellkjede, såmm strekker sei i SOli retning – sannsynlivis en fårrtsettelseå mangler diakritisk tegn a Fkjeden. Den Slikste tåpp i denn peiltes fra 87°35' S.Br. i VtN (komp.) Noe mer åmm denns utseenne ær ikke gått å si, da skåddedåtter stadi har ligget åver. Kåmm fremm våre 15 kvm på 5½ time. Øket pemmikanrat.rat.] rationen till 450 gr. pr. mann. Forlot K.H. VII Vidde idagmårres på 87°40' S.Br. – Har fallt ca. 300 f. idag.\",\n",
       " 'Lørda 30 decbr.',\n",
       " \"Noe friskere bris fra S kanten. Klart å fint ⁒20°. De lå tykke åver lann, menn letnet de idagens løp. De ær mærkli å se va vi har passert i blinne hær sisst. Vi ligger nu unner en stor, mekti kjede X-kjeden (SO – NV retv.) ikke mer enn ca 10 kvm a. Flere tåppe i denn når både 13 å 14000 fot. Peilingen a denn hærfra 87°10' S.Br ær: Spiss – V¼N Nspiss – SVtV½V (komp.) Meget bart lann å meget snedekket åsså i denne kjede. Jei nærer nu ingen tvil åmm, att di fårrenete fjelle fra K.E. VII å Victoria Lann strekker sei en SOli retning. Vi kunne igår se tåppene fårrsvinne åmkringå mangler diakritisk tegn 88°S.Br. i samme retning. Terrenge vi nu ær i, ær en blanning a fokskavler å blanke isflater å meget kupert.Vi har fallt ca. 800 f. idag. De har gått me lynets farrt. Vi har en tung jåbb vi skjiløpere nu å hålle følle me sleerne. Kjørekarene støtter sei till sleen snørekjører å har goe dage. Har jorrt våre 15 kvm idag på 5 timer. Fremme kl. 1 måren. Hærli vær.\",\n",
       " 'Sønda 31 decbr.',\n",
       " 'Samme fine vær håller sei ⁒19° idamårres å strålenne klart. – De har gått såmm en røik – meget nedåver å meget åver glatte, skjinnene flater. Skavlerne – di store – har jitt sei idag. Terrenge ær i stærk grad bølgefårmet. Rett såmm de ær ser vi lann – ganske nær innpå åss. I neste øieblikk fårrsvinnerå mangler diakritisk tegn de hele. Siden igår – tili på dagen – har vi hatt en høi fårreven iståpp litt Oli a vår kurs. Denn ligner fullstendi en tornekrone, sånn stårr takkene på denn. Dette må uten tvil være denn høie fårrevne tåpp i G kjeden – annslått till 15000 f. Vi får se imåren. Hunnene har de ypperli nu. Sunne å friske. Passerte 87° S.Br. inat ve 11 tiden. Vi har såmm vanli jorrt våre 15 kvm. på 5 timer. – W. fører altid seil på sin slee å de jelper hamm meget fremm. Hann har desværre værrt meget plaget a tannpine denn sisste tid. En rotfyllt tann såmm jør åppstann.',\n",
       " '[januar 1912]',\n",
       " 'Manda 1 januar',\n",
       " 'Fremmdeles samme vær å fremmgang[.] Ca ⁒19°. Frisk bris i attern. De har gått nedåver me glanns. Våre 15 kvm. på 5 timer. Menn lann hær ær fåreløpi en gåde. X kjeden ær nu gått sammen me G kjeden. Vi får se imåren va di jør. Å kjenne sei ijenn ær en umulihet fårr åss. Imåren skall vi rekke breen å da får vi se, vorledes de passer me peiliger å depot. Terrenge ær såmmvanli kupert. Fikk en liten bre på Vsiden a åss, da vi stannset nu. Fikk igår lannet åmmkring «Slaktern» isikte. Har gått på de i hele dag.',\n",
       " 'Tirsda 2 janr.',\n",
       " 'Fremdeles samme vær. SSOli bris ⁒19°. De var hel kulig menns vi var till køis. De jør inntrykk a, att natten har roliere værfårrhåll enn dagen. De har gått me strykenne farrt ida åsså. – Vi har ida værrt svineheldie. Traff «Fandens bre» såmm bereinet, menn adskjilli lengere unner lann enn vi besteg denn. Hær fannt vi denn å være meget medjørliere. På ett parr timer var hele breen beseiret. Allting var så gått såmm fyllt å ingen hindringer eller åmveie kåmm i vår vei. Denne bre må være uhyre gammel. Har aldri hørt noen lyd i denn. F kjeden ær nu smeltet helt sammen me X kjeden. Denne ær langt høiere å ligger lengen innenfårr (Ostenfårr). X kjeden viser sei nu å danne en fårrtsettelse a G kjeden. Fjelltåpperneå mangler diakritisk tegn i disse rekker varrierer mellem 13 - 15000 f.o.h. F kjeden ligger nu kunn ca 3 kvm unna. Dens tåpper ær meget mindre enn jei åpprindli trodde – 9 - 21000 f. Har nu fått full kjenning a di fårrskjellie tåpper i F kjeden. Vi rekker depote imåren, viss være fårrtsetter klart.',\n",
       " 'Onsda 3 janr.',\n",
       " \"Var ute såmm vanli ca. kl. 7 e. Være så ikke låvenne ut, menn kunne vi till nød se di tåpper jei hadde peilet i F kjeden. Vi hadde imidertid ikke jorrt mer enn ca. 6 kvm., da de tykknett så till, att vi absolut intet kunne se. Allerede kl. 10 e. var vi dærrfårr nøtt till å slå leir me ufårrettet sak. Menn værfårrandringerne ær hurtie i disse eine å nettåpp såmm vi hadde fått pemmikanen ned gløttet solen fremm å kårrt tid efter var de de fineste vær. På ett kvarter var hele vårrt stell færdi å vi unnerveis. På denn måte vi hadde truffet breen på tillbakeveien å så nær lann, såmm vi syntes å være, var vi alle enie åmm, att vi måtte være kåmmen fårr Oli å vi styrte dærrfårr rett V. i de håb åmm dær å treffe depote. Menn, skjønnt vi var i alle di peilinger jei hadde tatt fra depote, da vi la de, var dær dåg intet depot å se. Me denn knappe proviant vi hadde ble vi da enie åmm, att de besste var straks å sette kursen fårr «Slaktern» å søke å nå vårrt hunnedepot dær hurtikst. I de hærlikste vær dro vi så rett mot N. I retningen SO – NV lå denn mektie fjellkjede badet i solskjinn – i blått åå mangler diakritisk tegn vitt– ett hærrli skue. Vi fikk efter kårrt tids gange kjenning a en a di lange lave åsrygge, såmm vi passerte den 28 novb. på 86°9'. De viste sei åsså på denne, att vi var kommen fårr langt mot V å ikke mot O, såmm vi trodde, idet vår kurs nu nemli ville ført åss Vten åmm istenfårr Ostenåmm. Vi styrte dærrfårr Oliere fårr å kåmme inn på vår gamle vei. Da vi nådde denn åsrygg, kåmm vi åpp på ett høidedrag å hærrfra kunne vi nu – fårr første gang – få åverblikk åver «Fandens bre» å kjennte straks vår åpstigning dær ijenn. 8 kvm skulle vi da ha tillbake till vårrt depot. Å la dette ligge unner disse åmstendiheter uten å søke ennu engang å finne de, fannt vi alle ville være galt å me største beredvillihet ærklærte alle sei villie till å venne tillbake mot åppstigningen fårr dærå søke efter de. Jei valkte HH å Bj. till denne jåbb. Di vennte straks åmm – kl. 5 f. – me ett spann å tommslee, menns vi andre slo leir. Inntill kl. 8 f. har dær værrt tindrenne solskjinn, så jei me visshet di har klart braserne. Vennter demm tillbake ve 1 tiden i emd. Nu har de skjyett litt åver, menn fullstendi siktbart. Peilet lanne åmkringå mangler diakritisk tegn «Slaktern» i SV¾V. En misvisningsobs.obs.] observasjoner kl. 6 f. ga åss samme resultat såmm på Sydturen. Kl. 3 i emd. vennte «Gutta» tillbake å såmm jei var viss på me depotets innhåll på sleen. Di hadde iallt tillbakelakt 26 kvm. Me andre or: HHs spann har idag tillbakelakt en distance a 42 kvm me en jennemsnittsmarsch a 3 kvm. i timen! Kåmm så å si, att hunner ikke ær brukelie i dette terreng. Di hadde ikke vanskliheter me å finne depote. Kjennte vår åppkjørsel till breen ijenn å tok de dærrefter. De viste sei på kursen di måtte hålle tilbake – S½ V – att vi var kåmmen 1½ strek fra kursen vi hadde hållt Såver – NOtN. – Være har værrt åmmvekslenne. Snart SO åverskjyett[.] Snart stille. Nu ær de ganske stille ⁒17.0° å stekenne solskjinn. Fullstendi såmmer. Vi har fått gått åverblikk åver fjellene i N – antageli Håkonshallen – å peilet di i SVtV – denn kurs vi altså kåmmer till å styre hærfra. Dagen bejynnte dårli, menn ennte gått. Nu ligger vi kunn ca 5 dagsmascher fra vårrt depot på 85°9' S.Br å har mat nåkk fårr åss sell å hunnene fårr 10. De så sandeli mørkt ut idagmårres: Nedslaktning a våre bikjer, dragning sell o.s.v., å nu ijenn på rett fot. De ær ikke første gang jei har observert jelpen i de rette øieblikk. – Va dær jør terrenge hær så åverårdentli vanskli å arbeide i ær, att høiderygger å bølgedannelser finnes åverallt. Mann kann nessten alldri få årntli åversikt. Di to hadde på sin vei idag truffet ett så stort anntall a rygger, att Bj tørt bemærket: Ja, hær ær vi da ikke ryggeslause. – Begrepe dag å natt bejynner å gå runnt forr flere a deltagerne nu. «Kl. ær 6» sier en. «Ja åmm mårran» svarer en annen. «Nei ær du gærn», svarer denn første ijenn, [«]\\njammen ær det efftann ja». – Dato ikke å tale åmm. Gått mann husker årstalle.\",\n",
       " 'Torsda 4 janr.',\n",
       " 'Ett finere vær enn idamårres da vi tørnte ut har vi ikke hatt. Blikkstille å stekenne sol ⁒19°. De føltes helt såmm en såmmerdag. Lannet lå badet åverallt i de glittrenne lys. Kjæmpemessie takker, runne kållede kammer – alle fårmer. Specielt lå lannet i maschretningen speilenne klart, så vi fikk go lannkjenninng a «Store Bikube», «Håkonshallen» å «Olavsfjell». De ær ganske interessant å se dette terreng nu i lyse såmm vi færdedes jennem helt i blinne på Stur. Mærkeli ær de, at vi ikke denn gang tørnte åpp i lann. Ganske klåss har vi passert langsme de. Åsså i V a åss ær lann – sneklette kållete åser – intet bar lann å se på demm. Efter 10 kvms marsch fikk vi en a våre varder isikte. Styrte så fårr denn å har fulkt i varderekken till vi stannset efter 20 kvm marsch. Unner denn ås vi var nøtt till å ståppe mitt i – i tykken denn 26 novbr. Nu ligger vi hær i blikkstille å stekenne sol. Stor fårrandring fra sisst. Vi har Håkonshallen like utfårr åss å 12 kvm åpp till «Slaktern». Dærråpp kåmmer vi imåren, såfremt være håller sei, legger så et parr hunner på vær slee å bejynner nedstigningen. – Føre har værrt udmærkett idag. – De viser sei att X å Gkjeden ær denn samme – ligger betydeli innenfårr Fkjeden. – Bikjene har værrt mærkli flinke idag me di fårrhållsvise tunge lass å stigning.',\n",
       " 'Freda 5 janr.',\n",
       " \"Vi ga åss ikke lang tid till vile i gåraftes. Kl. var 6 emd. da vi la åss till å såve. Kl. 11 aften tørnte vi till ijenn. Være var glimmrenne å turte ikke unne åss lenger vile. De jallt åmm å kåmme åver «Slaktern» menns være var fint. De lykkes åver fårrventning gått. Kl. 1¼ f kjørte vi ut å ca 8 fmd. var vi på Slaktern. Vi fulkte vardene våreå mangler diakritisk tegn hele veien å fannt våre slaktede hunner. HH var de såmm me sine skarpe øine åppdaget de. Hadde ikke de værrt tillfelle vet jei sandli ikke, vordann de hadde gått. Lanne var komplet ujennkjendli – fullstendi såmm jei aldri hadde sett de før. Mot NV strakte dær sei en mekti fjellkjede, såmm var mei aldeles fremmet å de skjønnt være var temmeli klart, da vi kåmm till «Slaktern». «Olavsfjelle»bindestrek mangler – såmm denngang var en del innhyllet i tåke – ante mei ikke var de samme. Nei – å reise i blinne i sånne eine ær temmeli farli. Jei trodde jei kjennte lanne igår, menn de viste sei senere fullstendi feilakti. De fjell vi kunne se lengst a var «Store Bikube» å «Olavsfjelle». «Håkonshallen[»] ligger betydli lavere. I de hele tatt har jei åvervurdert fjellenes høide meget på Sgåenne i denn tåkete luft. Di fleste ær mellem 10-12000 f. «Store Bikube» ær denn eneste jei tør gi 15000. Ve «Slaktern» parterte vi en a bikjeskråttene å ga hunnene ett lite ekstra måltid. Di kasstet sei åver di såmme glupske ulve. Så slenkeslenke] feil for: slenkte vi en skrått på vær slee å aste bar de. På «Slaktern» var de ⁒23°. Hvor vi nu ligger – efter barometer – ca 5000 f lavere kunn ⁒13°. Vi ær kåmmen till såmmern nu hærnede mellem fjellene. De jikk me glanns utåver. Vi hadde tauenner till bremse unner meiene. Uten de ville de alldri gått. Dærrtill ær hær fårr bratt. Bj. står i fårrveien. Menn ær de åfte hårrt nåkk fårr hamm å greie sei. Kl. 11½ f. var vi nede a denn første avdeling a åppsteigningen. Har vi nu vårrt tellt på ett lunt, koseli sted, vor solen håller på å smelte åss. Bikjene viler fårrnøiddeå mangler diakritisk tegn i solskjinne efter å ha satt en svær lons hunnekjøtt sammt pemmikan tillivs. Vi ær jo åsså nu på denn sikre side å kann tillate åss litt ekstra. Fremdeles ligger hær ganske løs sne. Vanskli å finne telltplass. Åmm 3 dage håper jei å rukket vårrt hoveddepot på 85°9' S Br. – Ja, så ær vi da nede a plateauet ijenn å vi ær alle særdeles glade. Vi har jo bare hatt det bra dær. Menn vi lenkter nu efter «Barrieren» såmm en gammel venn. Først dær reiner vi åss sågåttsåmm jemme. Vi har jo mat dær overallt.\",\n",
       " 'Lørda 6 janr.',\n",
       " 'Ett vakrere syn enn, va jei så, da jei kåmm ut inatt kl. 1, vet jei ikke å ha sett. Vi hadde tellte mellem Olavsfjelle, å Iglutåppen. Denne sisste skjulte solen å la leirplassen vår i skjygge. Menn ret imot åss på denn annen side lå denn øvre del a Olavsfjelle badet i sol. De glitret å skjinnte i de forrevne isblåkker, såmm dekker denn øvre hallpart. Denn unre del – sannsynlivis granitt – lå inne i mørke – taus & stille. Vi lå nærmest Iglutåppens skjyggeside – Ndreusikker tolkning. Denn har en ganske mærkeli fårrstyrret utseenne. De ser ut, såmm dær var drysset svære blåkker åver hele denns side. Åver denns tåpp lå en liten, let Cirrusskjy – gullkantet i mårensolen. Å dærborte ligger Håkonshallen – dels åpplyst dels i skjygge. Kunne jei bare male! De har værrt en go dag fårr åss skjiløpere. Løs sne så skjiene sank ca 2 tåmmer i. Isett å kornett, så skjiene gle såmm på åljett åverflate. Menn dær trenktes åsså løssne så mann kunne få styring på skjiene. Denn ene bakke sværere enn denn annen. De jikk så de suste. En hærli spårrt. Menn fårr bikjene var de værre. Disse sank sørgeli i, menn fremm kåmm di dåg. Vår dagsmarsch ær 11.4 kvm. Di har fått sin kvellsforing ½ kl.kl.] kilo pemmikan å en dykti kjøttlonns. – Vi ligger nu på denn lille bre, såmm vi lå på denn 19 novbr. Istedenfårr nu å ta vår gamle vei åver fjellene, føller vi storbreen – såmm denne lille ær en bejynnene arm till – ut på barrieren. Noe lenger blir denne vei, menn sannsynlivis mange gange lettere. Rekker vell depote i åvermåren.',\n",
       " 'Sønda 7 janr.',\n",
       " 'Litt åverskjyett idag ⁒9° kl. 9½ igåraftes. De var så hett i tellte, att vi hadde vanskli fårrå klare åss. Såveposene ble våte skjønnt di hadde flerdåbbelt unnerlag a skjinn å duk. – Vi har fulkt store breen ned i hele dag – O retv.retv.] retvisning Føre har værrt udmærkett, menn sneen litt løs fårr bikjene. Vi har jorrt våre 15.5 kvm å ligger nu på Vkystenn ijenn. Rekker depote imåren. Breen var fullstendi utfyllt å dannet en eneste jevn flate. Vi har dærrfårr ingen vanskliheter hatt. Kl. ær nu 7 f. ⁒12°. Smellhett hær i telte. – Tørnte till ijenn kl. 6 i emd. Vi fullkte lanne, såmm strakte sei mot N (retv.) Allerede på første åsrygg mente Bj. å se depote ned på barrieren. De viste sei åsså senere, att hann hadde rett. Fikk efter 10 kvm.s gang sikker lannkjenning å visshet fårr depotets beliggenhet. Vi satte da rett ned på barrieren å nådde de kl. 11 aften efter 11.4 kvm.s marsch. Dette depot, såmm var byggett åverorntli høitt å solid hadde solen smeltet ned till en ganske liten masse. Sneen åmkring lå dyp å løs. Ingen fokskavler, så vinn har dær ikke værrt meget a. Allt i depote var i full ården. Kunn var denn pemmikan, såmm var innlakt i en skjinnanorakk, fullstendi smeltet sammen ved solens påvirkning. HH & W går nu – efterå ha pakket depote på sleerne – åpp till «Bettytåppen» fårrå bygge stenvarde dær å nedlegge beretning. I varden innemures en dunk petroleum (17 l.) sammt 2 pakker fyrstikker (20 essker). De kann muliens kåmme gått me i fremmtiden. – «Frithjof» – en á Bjs hunner ble slaktet iaften. Denn var syk. De viste sei att den led a en aller annen lungesyke. Kjøttet ær fårrdelt mellem kammeraterne. Di tar nu heller hunnekjøtt enn pemmikan, skjønnt di håller særdeles meget a sisste rett åsså. «Nigger» – en a Pr.s hunner – ble slaktet, da vi var kåmmen åver fokskaveldistrikte åp på plateauet. De har vist sei, att denne foring me hunnekjøtt har hatt en mærkli fin innflydelse på hunnene. Di får samtidi deres pemmikanration. Di ser nu snart likkså gått ut, såmm da vi fårrlot Framheim. – Vi fårrlater stede hær når vi har hatt åss noen timers søvn. Vi har da proviant fårr 35 dage på sleerne, fårruten depoter fårr vær grad N åver. Vi lever således mitt i Ægyptens kjøttgryter. De jeller bare å spise mest muli fårrå letne sleerne hurtikst.',\n",
       " 'Manda 8 janr.',\n",
       " 'De ble grisevær ut på dagen. Kulig fra S kantenn me tett nedbør – de stærkeste jei har sett i disse eine. Kl. ½ 4 e. satte ut i dette utekkelie vær. Heldivis hadde jei mine selskjinnsklær, såmm jei hadde lakt i depote hær på S gåenne å nu var di mei till stor nytte. Vi styrte kurs – SVtS (komp). Vi hadde ikke rent terreng å kunne ikke se hånnen fårr åss, så jei fannt de sikkrest å ha to fårrløpere – Bj å HassHass] Sverre Hassel (1876-1928) – me breline. Et par timer efter avgangen kåmm vi till noen håre, isete rygger, såmm lot åss ane nærheten a di mektie revner vi hadde passert på S gåenne. Da slo de ett rifft i skjyenn å ikke mange meterne fårrann fårreste fårrløper (Bj.) lå en a di gapenne sprekker. Nu var de ikke vanskli å passere demm å lett fannt vi vår vei åver steder, dær var fyllte. Mærkeli nåkk syntes de, såmm åmm disse sprekker dannet en grennse både fårr vær å føre. Føre hadde hittill værrt a værrste sårrt. Dyp, løs, nyfallen sne meget tung å arbeide sei fremm i både fårr mennsker å dyr. På N siden a sprekkene hårnet de till å åmm ikke lenge hadde vi vårrt kjære, gamle, goe barriereføre. De samme var tillfelle me være. Bak åss kullsorte, ujennemtrengelie skjymasser. Ikke noe å se till lann. Forann åss smilenne solskjinn. De ær all sannsynlihet fårr, att disse revner, såmm vi så på S gåenne kunne se strekke sei så lankt O øiet rakk, danner grensen mellem barriere å lann. – Ikke lenge efter traff vi en a våre varder rett i vår vei – ikke værst styrt mitt i snestårmen. Kl. 9 e rakk vi depote på 85° S.Br. i de deilikste solskjinn å allt i årrden. – Vi har slått leir hær, foret hunnene dåbbelt å tatt depote på sleerne. De ser bra ut.',\n",
       " 'Tirsda 9 janr.',\n",
       " 'Grisevær ijenn, dåg ikke i denn grad såmm igår. Føre var till å bejynne me meget tonkt – dyp løssne. Menn eftersåmm vi skrådde ut fra lanne ble de bedre å bedre. Vi ær nu nede på laveste barriere. Vinnen er NVli me åverskjyett luft. Har passert alle våre varder idag. Denn første i tykt snekave – 10 m.a.m.a.] meter sikt Menn de må HH till fårrå åppdageå mangler diakritisk tegn demm. Hans syn ær mærkeli fint. – Vi har færsk selbiff idag. ⁒9,6° i emd. Bare ⁒6,5° imårres.',\n",
       " 'Onsda 10 janr.',\n",
       " 'Samme grisevær. Sne, sne, sne. Sne ijenn å sne. Skall de alldri enne. Dærrtill tykke, så vi har ikke kunnet se 10 m. am. a] meter sikt ⁒8°. Tiner åverallt på sleen. Allt blir vått. Har ikke sett en eneste varde idag i dette blinnevær. Sneen var svært dyp till å bejynne me å føre åverårntli tonkt; menn ikke destomindre greidde hunnene sleene udmærkett. Føre var fint henimot denn tid vi sluttet (kl. 9½ f.). Di fleste a åss har tørnt såveposene me hårene ut nu. På denn måte håller di sei tørrere.',\n",
       " 'Torsda 11 janr.',\n",
       " \"Endli bedret da være sei. Efterå ha snedd i hele nattdag sluttet de ut på kvellstunnen. Da vi dro aste kl. 10½ e. var de ganske bra. Stille å nåkkså siktbart. Efter kårrt tids fårrløp åppdaget HH en varde. Denn var yderst lite ute a kursens retning. Ca 1/10 kvm i V. Vi fannt i denne denn nedlakte beretning – såmm fårresten ær tint bart i de fleste – å denne viste – 84°26' S.Br. Noen minutter efter vi hadde fårrlatt varden kåmm dær till vår store fårrbauselseå mangler diakritisk tegn to «Skua Gulls»Skua Gulls] en sjøfugleart flyenne like åver hode på åss å slo sei ned på varrdenn. Ganske mærkeli. Nøiakti mellem polen å åpent vann ble vi således først hilsett a levenne vesner – ca. 360 kvm fra have – Dette hadde vi ikke venntett. Være har bedrett sei efterhånnen å de ser nu ut såmm åmm vi har govær i vennte. Vi ligger ve varrdenn på 84°15' å håper jei imåren tili å være ve depote. Lann har vi ikke sett megett till idag. Kunn den unnere del a de har liggett klart å åpplyst a solen. Den øvre del har intet værrt å se till. Føre var litt trekt i bejynnelsen. Glimrenne på slutten. Fullstendi utjevnett åverallt. Ikke en fokskavvel å se. Kl. 4 i mårres kåmm vi fremm. – – Vi har hatt vår annen marsch idag. Fårrlot fårrie leirplass (84°15' S.Br) kl. ¼ 4 e. å kåmm hærrtill kl. 9 e. De ær på denn måte 30 kvm. vi har jorrt idag. Å bikjene ær like frisskere. Di legger på sei åmm dagen å ær elleville a glede å lysst till arbeide. Måten vi reiser på nu ær ypperli. Vi har værrkenn dag eller natt. Vi jør bare 15 kvm. – tørner så inn å såver i 7 á 8 timer fårr så ijenn å tørne till. På denn måte vinner vi adskjilli inn i tid. – Har gått i varderne i hele dag å fannt depote vårrt nu iaften i full årrden. – Jei har en liten misstanke till di 2 Skua Gulls, att di kann ha jorrt dypt innhug i våre depoter a færskt kjøtt. De skulle være skade fårr bikjerne.\",\n",
       " 'Freda 12 janr.',\n",
       " \"Aste kl. 8 f. Føre har værrt a fineste sårrt. Løssneen ligger ca 2 tåmmer åver di gamle skovler å jir ett ypperli unnerlag. Vi har passert åver flere ganske smale sprekker idag. Være har værrt variablet. Utpå fmd. klarnte de a å solen skjinnte. De var da lett å se varderne. Menn så skjyett de tykkt åver fra N ijenn, så de var en umulihet å ta varderne ut i terrenge. Denn sisste varde på 83°46' har vi således ikke sett.\",\n",
       " 'Lørda 13 janr.',\n",
       " \"Aste kl. 2 f. Skitt vær. Kunne ikke se de minnste. Har dærrfårr jorrt hele vår marsch nu – 15 kvm – uten å se varder. De letnet litt i N utåver måren å har jei besste håb fårr nesste marsch. Vi var her kl. 7½ f. Føre har værrt glimmrenne. Kann ikke bli bedre. Aste kl. ½7 e å fremme våre 15 kvm kl. ½12 natt. Være hadde klarnet a i dagens løp å de første vi så, da vi tørnte ut var en varde ganske nær – i V a vår leirplass. Bj. ær udpreget høirejenger å kann vi altid være sikker på ha vardene i V. fårr åss, når vi mister demm. Vi ligger nu ve vardenn på 83°15' S.Br. å har jorrt 30 kvm. me våre to marscher idag. Håber å ta depote på 83° S.Br – det sisste kritiske punkt – imåren.\",\n",
       " 'Sønda 14 janr.',\n",
       " 'Har gått i tetteste tåke i hele dag. Fannt ingen a vardene. Ståppet kl. 4 e. efterå ha tillbakelakt distancen 15 kvm. Da vi hållt på å sette tellte åpp fikk vi plutsli øie på depote ca. ½ kvm. i V. De var fint kjørt i tåken. Hær ve depote ble vi meget fårrundretå mangler diakritisk tegn ve å finne frisske bikjespor å excrementer. Denn eller di – muligens to – hadde åsså anngrepet depote, menn dette hadde motstått angrepe. De kann ikke være mer enn høist ett parr dage, siden di har værrt hær. Depote – vårrt sisste – var i fulleste årrden. Har de allt på sleen. Hunnene fores nu dagl. me kjeks & pemmikan. Vi har nu allt fårr meget kjeks fårr åss sell å kann ikke anvenne denn bedre enn till hunnene. Disse tar sei åpp fårr vær dag, såmm går. Svepe behøves nu sjelden å annvennes på demm. Ett lite tillrop ær nåkk. De har værrt så varmt i tellte i denn senere tid att flere a åss må ut a poserne. Så ligger vi da dær i tynne unnerklær på en skjinnfell åppå en stor isblåkk – ti annet ær barrieren jo ikke. Vi har nu mat i massevis å vill fra nu a kunne fore våre hunner dåbbelt. –',\n",
       " 'Manda 15 janr.',\n",
       " \"Ubehageli vær. Tåke å nedbør. Kåmm fårrbi den annen å denn sisste varde. Denne sisste hållt vi på å tørne mot i tykkeste tåken. Ligger nu på 82°45' S.Br. Hunnesporet, såmm var ve depote, viste åsså fårrbi denne varde.\",\n",
       " 'Tirsda 16 janr.',\n",
       " \"De var smellenne hett unner sisste vile. Kunne – tråds jei lå tynnklett åppå såveposen – ikke få såve fårr varme. De føltes varmere å mer generenne enn heteste såmmernatt jemme. – Har hatt fint vær på vår marsch idag. Liten NVli bris å siktbart, så vi har kunnet følle alle varderne. Kåmm fremm till 82°30' S.Br. kl. ½ 2 fmd efter 5½ times marsch. Fårtsetter straks åver midda, når vi har fått våre 7 timers søvn. Ypperli føre. Åverfriske bikjer – di kann ikke greie å spise åpp maten sin lenger nu. Har krysset de mystiske hunnespor ve flere a vardene. Var aste ijenn ve 1 tiden emd. Ypperli vær. Åverskjyet menn meget siktbart. Hunnesporene kunne vi følle fårrbi di to første varder. Dær kroket di litt å ble borte. Har fulkt varderne hele tiden. Varden, vor «Else» var lakt – sto mærkeli lankt a kursen – hele ¾ kvm. østenfårr åss. Vi jore dåg kroken å de lønnet sei. «Else» lå dær like uskatt å fin. Visstnåkk hadde hunn fallt ned a varden å flesske på henne – hunn var særdeles fet – var noe gult – metatt a solen, menn kjøtte var finfint. Mærkeli nåkk hadde værrkenn fulene eller «denn mysstiske hunn» rørt ve denn. – Vi ligger nu ve varden på 82°15' å har nettåpp fórt åpp «Else». Di var såmm rasenne efter henne.\",\n",
       " 'Onsda 17 janr.',\n",
       " 'Kåmm fremm kl. 11 fmd. till depote på 82° S.Br. Hær hadde di rømmte bikjer husert krafti. De hadde lykkes demm å stårme kassehauen å rive disse åverenne. En a sleekasserne hadde di fått låke a å fårrtært innhålle – kjeks å 20 stk mennskepem – heldivis behøvdeø mangler diakritisk tegn vi demm ikke. Di 2 bikjeskråtter, såmm lå hær, var sellfølgeli gåenne. Denn annen sleekasse hadde di heldivis ikke fått låke a. I denn hadde vi en masse selbiff å chokolade. Melkemelsekken (Melkesedekk)uviss betydning var, såmm et under – reddet. Denn lå i ½ 12 stilling på tåppen a en kasse, di ikke hadde fått revett åverenne. «Lussi» såmm lå i depot 3 kvm. hærrfra var bare «kjakebeina» ijenn a. Være har værrt skjønnt denne måren å føre glimmrenne. Terenge ær temmeli kupert fra 83° S.Br. a. – Vi har nu tatt alle spisenne saker på sleerne. Utstyre lar vi ligge ijenn. – Di små vimpler, såmm var brukt på kassebor till tværmærkningen var likså synlie nu, såmm da di ble stukket ned. Mye sne kann ikke ha fallt. – Hadde iaften ett lite festmåltid i anledning vår annkåmst till «civilisationens ydeste fårrpost mot S». W. må ve sånne anledninger koke. Hann trakterte me en blanning a pemmikan å selkjøtt. Till desert chokoladegrøt. – Melkemele, såmm har ligget på tåppen a depote i en ganske tynn sekk utsatt fårr stærk foktihet å brennenne solstek var akkurat like gått, såmm denn dag vi fikk di åmmbord. Sætre kjeks var åsså likså fin såmm før. Chokoladen ligeledes.',\n",
       " 'Torsda 18 janr.',\n",
       " \"Aste ved 10 tiden igåraftes. Har fulkt vår åppmærkning såmm vi jore me kassebor ifjor i mars på vår depotur – like hit till 81°45'. Mann kunne ikke se, att sneen hadde stegett på demm. Åverskjyett klarnet a idamårres ⁒10°. Kåmm hærrtill kl. 4 f. Glimmrenne føre. Noe løst fårr bikjene. Aste ijenn ca. kl. 2 emd. Være var, såmm de mest har vist sei hær på barrieren på såmmertid – gråvær. ⁒8°. Føre glimmrenne. Kornet sne. Hår øvre skårpe, såmm skjiene flyter på. Nåkkså tonkt åffte fårr hunnene, da disse trår jennem. Har gått i vår kassebormærkning like till 81°33'. Dær sluttet mærkningen me 2 ennebor a kasse no 880. Disse var satt på en snesåkkel fårr nessten 1 år siden å sto såmm di var åppsatt igår. Har nu tellte på 81°30' S.Br. De var 30 kvm. idag.\",\n",
       " 'Freda 19 janr.',\n",
       " \"Sjelden fint vær idag. Liten SSVli bris såmm i marschens løp har klarnet hele himlen a. Vi fikk på 81°20' våre gamle skrugarer tværs. Vi så nu lankt flere a demm enn noensinne før. Di strakte sei så lankt øie kunne se i NOli retning i rygger å tåpper. Stor ble vår åverraskelse, da vi kårrt efter fikk øie på høit, bart lann i samme retning – i retv. O ca. 25 kvm. a. Å ikke lenge efter to høie, vite tåpper i SOli retning antagli omkring 82°. På luften var de lett å se, att lanne strakte sei NO – SV (retv.). Dette ær atter K. E lann,K.E lann] King Edward VII Land, et landområde på Antarktis oppkalt etter den britiske Kong Edward VII (1901-10). Delvis kartlagt av Johansen, Stubberud og Prestrud i 1911 såmm dokker åpp. Vi har nu så goe fårrbindelser, att vi uten nølen tør trekke hele kjeden. Terrenget inn mot lann ær åverårntli fårrstyrretå mangler diakritisk tegn – sprekker å skrugarer, bølger å daler på kryss å tværs. Vi skall nåkk få føling a di imåren. – Samme fine føre i hele dag. ⁒10.5°. Vi har kunnet se våre varder i V. unner hele marschen mellem 82°-81°. Nu bejynner vi å skjønnske inn på demm. – Har nu vær midda sellbiff i vår pemmikan. De jør denn særdeles fin a smak. Når vi rekker 80° ær vi i kjøttgryderne. Dær har vi allt muli.\",\n",
       " 'Lørda 20 janr.',\n",
       " \"Aste kl. 10 igåraftes. Heldivis hadde vi klarvær. SVli bris. ⁒19°. De ær rikti ett svinetereng vi har passert åver. Å, når jei tenker på, att vi passert åver hær 3 gange før, da ær jei fårrbausetå mangler diakritisk tegn åver, att de ær gått gått. Ve 81°12' bejynnte de. Hauer å såter, huller å revner i sånne masser, att jei ikke har sett lignenne. Store stykker a åverflaten hadde simpelthen fallt ned å efterrlatt gapenne svelg. Me unntagelse a att HH kjørte sin slee hallveis ned i en sprekk, jikk allt gått. – Kl. 4 f. rakk vi depote. Vi var kåmmen fårr Ostli ca 1 kvm. De var fullstenndi i årrden. Ingen bikjer hadde værrt hær. – Bikjene har iaften fått allt va di kann spise. Dåbbelt foring fårr 4 dage har vi på sleene. Skrugarrekken langs K. E.s Lann kunne enkelte gange idag trede meget skarpt fremm. Di strakk sei så lankt mann kunne se i NO – SV. Var ute å aste kl. 6 e. Hærli vær. Solskjinn å fint. ⁒11°. Passerte åver ett par sprekker, å ær nu klar demm till vi kåmmer ned i «gristerenge». Nådde varden 80°45' kl. 8 e. Hær hadde vi denn først slaktete hunn «Bone» liggene. Hunnene ær så åverforet nu, att mange a demm ikke vill se pemmikan. «Bone» dærrimot jikk i demm såmm varmt vetebrø.\",\n",
       " 'Sønda 21 janr.',\n",
       " \"Stålenne vær. ⁒17°. Klart. Liten Vli bris. Har fulkt varderne å ligger nu på varden ve 80°30'. Føre har fra 81° værrt noe ujevnt – snart seikt, snart glatt – menn dåg mest de sisste. – Vi liker gått, når vi kann ståppe ve en varde fårr hær har dær dannet sei håre fokskavler – ypperlie fårr telltplass å varden sell ær a solen åmmdannet till bare isstykker, såmm jir de fårrtrinlikste ståff till vandfårsyning fårr våre kokekar.\",\n",
       " 'Manda – 22 janr.',\n",
       " \"Prekti vær. Stille da vi dro aste igåraftes kl. 10½ å stekenne solskjinn. Føre var hærli ⁒17°. Ve 80°23' passerte vi vår sisste varde. Værbitt å tillføken, avrunnet å uanseeli hadde denn jorrt sin tjeneste. Denn sto dær taus å alvårli vår sisste skjillvakt – et minne åmm mennskehånnen åsså i disse fårrlatte eine. Da vi slo leir – 80°15' – kåmm en «Skua gull» åå mangler diakritisk tegn besøkte åss. Får vell snart se flere.\",\n",
       " 'Aste ijenn kl. 12 emd. Himlen åvertrukket menn siktbart å fint. Liten SOli bris ca ⁒7°. Rakk fremm till depote på 80° kl. 11½ f. Allt hær i ården. Beretning fra Pr. lød på, att hann, Jørg åå mangler diakritisk tegn Joh.Joh.] Hjalmar Johansen (1867-1913) passerte hær denn 13 novbr me 2 sleer, 16 hunner å utstyr fårr 30 dage. På denn måte har jei nu de sikre håb, att vi skall kunne beleggeførste del av ordet tolket hele K. E. VII vestkyst efter våre iaktagelser. – Bikjene våre har nu fått fri adgang till seldyngen, såmm ligger hær. Di var så unnerspiste, att åpphålle dær ikke ble synderli lenge. Di vennte en fårr en tillbake till sine respektive sleer. – A depote må di øverste kjekskasser ansees tapt, ide solen har sprukket di sorrtmalte kasser åpp, foktiheten trenkt inn å kjeksen så å si fårrvitretå mangler diakritisk tegn. A allt annet ær allt iårrden.å mangler diakritisk tegn A kjeks i bokser står hær 7 stk. – Vi legger a hær 1 sleekasse kjeks, ca 25 kl.kl.] kilo chokolade å en del melkepølser. – A depote tar vi – 12 stk mennskepem., 40 stk. biff å en tannk petroleum (17l.). Depote ær mærkett me flagg på høi stang på tåppen. Sellve depote vill naturlivis fyke ned, menn flagge vill alltid vise plassen. Føre hær på 80° sletten ær såmm vanli yderst løst. Dyp, dyp sne.',\n",
       " 'Tirsda 23 janr.',\n",
       " 'Disi, kjedsåmmeli vær, da vi tørnte till imårres kl. 4. Temp. var go – ⁒11°. Åpprindli hadde jei tenkt å jøre denne sisste distance – till Framheim – me 20 kvm. marscher, menn viste sneen sei så løs å dyp, att vi måtte ståppe efter 15 kvm. De var fullstendi nåkk både fårr mennsker å dyr. – Selkjøtte på 80° ær nu mærkett me to skjistaver, så nu kann di bare fyke ned.',\n",
       " 'Onsda 24 janr.',\n",
       " \"Aste kl. 8 igåraftes. De var skittvær till å bejynne me, menn litt efter litt letnett de å 3 kvm. fra leirplassen – 18 kvm. fra 80° – støtte vi på vår gamle, goe venn – åsen me homplerne på. Vi var litt Ostli – menn yderst lite. Føre hadde till åsen værrt slett – dyp, løssne å meget tonkt fårr bikjene. Vanskeli fårr skjiløperne åssåførste å mangler diakritisk tegn, fårr sneen lae sei i store, håre klatter mellem skji å støvler å jore de yderst ustøtt å vanskli. N dennfårr åsen ble tereng å føre litt efter litt anderledes – jikk åver i hårrt, gått føre me isrygger hisst & hær. De var en stor fårrandring fra 80° sletten, fårr dær fanntes ikke en ujevnhet – kunn dyp, løs, jevn sne. Just før vi hadde jort våre 15 kvm. kåmm vi till en annen O-V løpenne ås me hompler. Ned unner denne kjørte vi langsme noen sprekker – nåkkså smale. Vi ær litt fårr lankt Oli. Såsnart vi har passert «svinerie» på 45' håller vi Vliere fårr å kåmme ut i denn gamle flaggrekke.\",\n",
       " \"Aste kl. 11 f. Være var strålenne. Blikkstille me stekenne sol. ⁒12.5°. De bar først over ett lite dalføre, sannsynlivis de samme, vori «45' griserie» ligger. Menn vi var fårr lankt O å mærrkett ikke noe till de. Så bejynnte vi åppstigningenå mangler diakritisk tegn till vårrt gamle, kjennte høidedrag i O. Unner dette fårrandret vi kurs ¼ strek vestliere – StV¼S – fårrå skjære åss ned i flaggrekken. Føre i åppstigningen var unner all kritikk. Dyp, seig, løs sne – ett kjedsåmmeli slit fårr mennsker å dyr. Kåmmen åpp på tåppen fårrandrede føre sei straks – hårrt å fint. – Till min fårrbauselse viste barometre en stigning a 1000 f. De viste att vi ær kåmmen noe fårr lankt O – 30 kvm idag.\",\n",
       " 'Torsda – 25 janr.',\n",
       " 'Aste kl. 4 f. Fremme kl. 10 f. 21 kvm. jorrt. Strålenne vær till å bejynne me ⁒22°. Temmeli kjøli. Klart. Har gått nedåver i hele dag. Ypperli føre. Bikjene har fløiet såmm alldri før. Da vi kåmm ned brøt SVten løs me fok, tåke å annet «svineri», så vi kunne ikke se noe. Håper denn slutter i dagens løp, så vi kann rekke Framheim imåren tili.',\n",
       " '[DEL 3]',\n",
       " '182 13/11-11',\n",
       " 'Hr. Kaptein!Kaptein!] Roald Amundsen (1872-1928)midtstilt tekst',\n",
       " \"Ankom hertil igaar efter 4½ dags reise fra Framheim. Johansen og Jørgen er med, har hvert sit spand paa 8. Dertil kommer «Peary», som plukkedes op underveis. Avreiser idag med kurs retvisende ost. Hvis land ikke træffes før, og hundene holler ut er det meningen at kjøre ut 50 kvm i den retning; skulde da være omtr. paa Cap Colbeck's meridian (efter Scott). Derfra dreies da i tilf. nordover. Efterretninger blir nedlagt paa eventuelt fremtræden punkter – i mangel av saadanne i snevarder. Har kompleteret vor udrustning her for 30 dage. Alt vel. Hilsen K. P.K. P.] Kristian Prestrud (1881-1927)\"]"
      ]
     },
     "execution_count": 128,
     "metadata": {},
     "output_type": "execute_result"
    }
   ],
   "source": [
    "kilder_korpus_string['NBkilder_Amundsen_Slededagbok.xml']"
   ]
  },
  {
   "cell_type": "code",
   "execution_count": 29,
   "metadata": {},
   "outputs": [
    {
     "name": "stdout",
     "output_type": "stream",
     "text": [
      "NBkilder_Amundsen_Slededagbok.xml\n",
      "NBkilder_Collett_Brev_1841-51.xml\n",
      "NBkilder_Collett_Brev_til_Bjornson.xml\n",
      "NBkilder_Collett_Brev_til_Ibsen.xml\n",
      "NBkilder_Collett_Brev_til_Lie.xml\n",
      "NBkilder_Collett_Skildpadde.xml\n",
      "NBkilder_Dardel_Voyage.xml\n",
      "NBkilder_Grunnlovskilder1814.xml\n",
      "NBkilder_Kjerulf_1833.xml\n",
      "NBkilder_Kjerulf_1840.xml\n",
      "NBkilder_Kjerulf_1850.xml\n",
      "NBkilder_Kjerulf_1851.xml\n",
      "NBkilder_Kjerulf_1852.xml\n",
      "NBkilder_KKielland_AGarborg_brev.xml\n",
      "NBkilder_KKielland_DSkavlan_brev.xml\n",
      "NBkilder_KKielland_EPeterssen_brev.xml\n",
      "NBkilder_Koren_1798.xml\n",
      "NBkilder_Koren_1805.xml\n",
      "NBkilder_Koren_1808.xml\n",
      "NBkilder_Koren_1809.xml\n",
      "NBkilder_Koren_1810.xml\n",
      "NBkilder_Koren_1811.xml\n",
      "NBkilder_Koren_1812.xml\n",
      "NBkilder_Koren_1813.xml\n",
      "NBkilder_Koren_1814.xml\n",
      "NBkilder_Koren_1815.xml\n",
      "NBkilder_Undset_Fragmenter.xml\n"
     ]
    }
   ],
   "source": [
    "kilder_dtm = make_dtm(kilder_korpus).fillna(0)"
   ]
  },
  {
   "cell_type": "code",
   "execution_count": 26,
   "metadata": {},
   "outputs": [
    {
     "data": {
      "text/plain": [
       "['NBkilder_Amundsen_Slededagbok.xml',\n",
       " 'NBkilder_Collett_Brev_1841-51.xml',\n",
       " 'NBkilder_Collett_Brev_til_Bjornson.xml',\n",
       " 'NBkilder_Collett_Brev_til_Ibsen.xml',\n",
       " 'NBkilder_Collett_Brev_til_Lie.xml',\n",
       " 'NBkilder_Collett_Skildpadde.xml',\n",
       " 'NBkilder_Dardel_Voyage.xml',\n",
       " 'NBkilder_Grunnlovskilder1814.xml',\n",
       " 'NBkilder_Kjerulf_1833.xml',\n",
       " 'NBkilder_Kjerulf_1840.xml',\n",
       " 'NBkilder_Kjerulf_1850.xml',\n",
       " 'NBkilder_Kjerulf_1851.xml',\n",
       " 'NBkilder_Kjerulf_1852.xml',\n",
       " 'NBkilder_KKielland_AGarborg_brev.xml',\n",
       " 'NBkilder_KKielland_DSkavlan_brev.xml',\n",
       " 'NBkilder_KKielland_EPeterssen_brev.xml',\n",
       " 'NBkilder_Koren_1798.xml',\n",
       " 'NBkilder_Koren_1805.xml',\n",
       " 'NBkilder_Koren_1808.xml',\n",
       " 'NBkilder_Koren_1809.xml',\n",
       " 'NBkilder_Koren_1810.xml',\n",
       " 'NBkilder_Koren_1811.xml',\n",
       " 'NBkilder_Koren_1812.xml',\n",
       " 'NBkilder_Koren_1813.xml',\n",
       " 'NBkilder_Koren_1814.xml',\n",
       " 'NBkilder_Koren_1815.xml',\n",
       " 'NBkilder_Undset_Fragmenter.xml']"
      ]
     },
     "execution_count": 26,
     "metadata": {},
     "output_type": "execute_result"
    }
   ],
   "source": [
    "kildefiler"
   ]
  },
  {
   "cell_type": "code",
   "execution_count": 124,
   "metadata": {},
   "outputs": [
    {
     "data": {
      "text/plain": [
       "1386339.0"
      ]
     },
     "execution_count": 124,
     "metadata": {},
     "output_type": "execute_result"
    }
   ],
   "source": [
    "kilder_dtm.sum().sum()"
   ]
  },
  {
   "cell_type": "code",
   "execution_count": 30,
   "metadata": {},
   "outputs": [
    {
     "data": {
      "text/html": [
       "<style  type=\"text/css\" >\n",
       "    #T_b6d8aa06_1a39_11ea_9380_a0a4c554f2a3row0_col0 {\n",
       "            background-color:  #d2d3e7;\n",
       "            color:  #000000;\n",
       "        }    #T_b6d8aa06_1a39_11ea_9380_a0a4c554f2a3row0_col1 {\n",
       "            background-color:  #023858;\n",
       "            color:  #f1f1f1;\n",
       "        }    #T_b6d8aa06_1a39_11ea_9380_a0a4c554f2a3row0_col2 {\n",
       "            background-color:  #023858;\n",
       "            color:  #f1f1f1;\n",
       "        }    #T_b6d8aa06_1a39_11ea_9380_a0a4c554f2a3row0_col3 {\n",
       "            background-color:  #023858;\n",
       "            color:  #f1f1f1;\n",
       "        }    #T_b6d8aa06_1a39_11ea_9380_a0a4c554f2a3row0_col4 {\n",
       "            background-color:  #023858;\n",
       "            color:  #f1f1f1;\n",
       "        }    #T_b6d8aa06_1a39_11ea_9380_a0a4c554f2a3row0_col5 {\n",
       "            background-color:  #023858;\n",
       "            color:  #f1f1f1;\n",
       "        }    #T_b6d8aa06_1a39_11ea_9380_a0a4c554f2a3row0_col6 {\n",
       "            background-color:  #023858;\n",
       "            color:  #f1f1f1;\n",
       "        }    #T_b6d8aa06_1a39_11ea_9380_a0a4c554f2a3row0_col7 {\n",
       "            background-color:  #023858;\n",
       "            color:  #f1f1f1;\n",
       "        }    #T_b6d8aa06_1a39_11ea_9380_a0a4c554f2a3row0_col8 {\n",
       "            background-color:  #60a1ca;\n",
       "            color:  #000000;\n",
       "        }    #T_b6d8aa06_1a39_11ea_9380_a0a4c554f2a3row0_col9 {\n",
       "            background-color:  #1c7fb8;\n",
       "            color:  #000000;\n",
       "        }    #T_b6d8aa06_1a39_11ea_9380_a0a4c554f2a3row0_col10 {\n",
       "            background-color:  #cdd0e5;\n",
       "            color:  #000000;\n",
       "        }    #T_b6d8aa06_1a39_11ea_9380_a0a4c554f2a3row0_col11 {\n",
       "            background-color:  #d5d5e8;\n",
       "            color:  #000000;\n",
       "        }    #T_b6d8aa06_1a39_11ea_9380_a0a4c554f2a3row0_col12 {\n",
       "            background-color:  #f4edf6;\n",
       "            color:  #000000;\n",
       "        }    #T_b6d8aa06_1a39_11ea_9380_a0a4c554f2a3row0_col13 {\n",
       "            background-color:  #023858;\n",
       "            color:  #f1f1f1;\n",
       "        }    #T_b6d8aa06_1a39_11ea_9380_a0a4c554f2a3row0_col14 {\n",
       "            background-color:  #023858;\n",
       "            color:  #f1f1f1;\n",
       "        }    #T_b6d8aa06_1a39_11ea_9380_a0a4c554f2a3row0_col15 {\n",
       "            background-color:  #023858;\n",
       "            color:  #f1f1f1;\n",
       "        }    #T_b6d8aa06_1a39_11ea_9380_a0a4c554f2a3row0_col16 {\n",
       "            background-color:  #023858;\n",
       "            color:  #f1f1f1;\n",
       "        }    #T_b6d8aa06_1a39_11ea_9380_a0a4c554f2a3row0_col17 {\n",
       "            background-color:  #023858;\n",
       "            color:  #f1f1f1;\n",
       "        }    #T_b6d8aa06_1a39_11ea_9380_a0a4c554f2a3row0_col18 {\n",
       "            background-color:  #023858;\n",
       "            color:  #f1f1f1;\n",
       "        }    #T_b6d8aa06_1a39_11ea_9380_a0a4c554f2a3row0_col19 {\n",
       "            background-color:  #023858;\n",
       "            color:  #f1f1f1;\n",
       "        }    #T_b6d8aa06_1a39_11ea_9380_a0a4c554f2a3row0_col20 {\n",
       "            background-color:  #023858;\n",
       "            color:  #f1f1f1;\n",
       "        }    #T_b6d8aa06_1a39_11ea_9380_a0a4c554f2a3row0_col21 {\n",
       "            background-color:  #023858;\n",
       "            color:  #f1f1f1;\n",
       "        }    #T_b6d8aa06_1a39_11ea_9380_a0a4c554f2a3row0_col22 {\n",
       "            background-color:  #023858;\n",
       "            color:  #f1f1f1;\n",
       "        }    #T_b6d8aa06_1a39_11ea_9380_a0a4c554f2a3row0_col23 {\n",
       "            background-color:  #023858;\n",
       "            color:  #f1f1f1;\n",
       "        }    #T_b6d8aa06_1a39_11ea_9380_a0a4c554f2a3row0_col24 {\n",
       "            background-color:  #023858;\n",
       "            color:  #f1f1f1;\n",
       "        }    #T_b6d8aa06_1a39_11ea_9380_a0a4c554f2a3row0_col25 {\n",
       "            background-color:  #023858;\n",
       "            color:  #f1f1f1;\n",
       "        }    #T_b6d8aa06_1a39_11ea_9380_a0a4c554f2a3row0_col26 {\n",
       "            background-color:  #023858;\n",
       "            color:  #f1f1f1;\n",
       "        }    #T_b6d8aa06_1a39_11ea_9380_a0a4c554f2a3row1_col0 {\n",
       "            background-color:  #f8f1f8;\n",
       "            color:  #000000;\n",
       "        }    #T_b6d8aa06_1a39_11ea_9380_a0a4c554f2a3row1_col1 {\n",
       "            background-color:  #6ba5cd;\n",
       "            color:  #000000;\n",
       "        }    #T_b6d8aa06_1a39_11ea_9380_a0a4c554f2a3row1_col2 {\n",
       "            background-color:  #b1c2de;\n",
       "            color:  #000000;\n",
       "        }    #T_b6d8aa06_1a39_11ea_9380_a0a4c554f2a3row1_col3 {\n",
       "            background-color:  #adc1dd;\n",
       "            color:  #000000;\n",
       "        }    #T_b6d8aa06_1a39_11ea_9380_a0a4c554f2a3row1_col4 {\n",
       "            background-color:  #b9c6e0;\n",
       "            color:  #000000;\n",
       "        }    #T_b6d8aa06_1a39_11ea_9380_a0a4c554f2a3row1_col5 {\n",
       "            background-color:  #4295c3;\n",
       "            color:  #000000;\n",
       "        }    #T_b6d8aa06_1a39_11ea_9380_a0a4c554f2a3row1_col6 {\n",
       "            background-color:  #b5c4df;\n",
       "            color:  #000000;\n",
       "        }    #T_b6d8aa06_1a39_11ea_9380_a0a4c554f2a3row1_col7 {\n",
       "            background-color:  #4e9ac6;\n",
       "            color:  #000000;\n",
       "        }    #T_b6d8aa06_1a39_11ea_9380_a0a4c554f2a3row1_col8 {\n",
       "            background-color:  #d9d8ea;\n",
       "            color:  #000000;\n",
       "        }    #T_b6d8aa06_1a39_11ea_9380_a0a4c554f2a3row1_col9 {\n",
       "            background-color:  #023858;\n",
       "            color:  #f1f1f1;\n",
       "        }    #T_b6d8aa06_1a39_11ea_9380_a0a4c554f2a3row1_col10 {\n",
       "            background-color:  #a5bddb;\n",
       "            color:  #000000;\n",
       "        }    #T_b6d8aa06_1a39_11ea_9380_a0a4c554f2a3row1_col11 {\n",
       "            background-color:  #a7bddb;\n",
       "            color:  #000000;\n",
       "        }    #T_b6d8aa06_1a39_11ea_9380_a0a4c554f2a3row1_col12 {\n",
       "            background-color:  #e7e3f0;\n",
       "            color:  #000000;\n",
       "        }    #T_b6d8aa06_1a39_11ea_9380_a0a4c554f2a3row1_col13 {\n",
       "            background-color:  #c1cae2;\n",
       "            color:  #000000;\n",
       "        }    #T_b6d8aa06_1a39_11ea_9380_a0a4c554f2a3row1_col14 {\n",
       "            background-color:  #bcc7e1;\n",
       "            color:  #000000;\n",
       "        }    #T_b6d8aa06_1a39_11ea_9380_a0a4c554f2a3row1_col15 {\n",
       "            background-color:  #cdd0e5;\n",
       "            color:  #000000;\n",
       "        }    #T_b6d8aa06_1a39_11ea_9380_a0a4c554f2a3row1_col16 {\n",
       "            background-color:  #8fb4d6;\n",
       "            color:  #000000;\n",
       "        }    #T_b6d8aa06_1a39_11ea_9380_a0a4c554f2a3row1_col17 {\n",
       "            background-color:  #afc1dd;\n",
       "            color:  #000000;\n",
       "        }    #T_b6d8aa06_1a39_11ea_9380_a0a4c554f2a3row1_col18 {\n",
       "            background-color:  #b1c2de;\n",
       "            color:  #000000;\n",
       "        }    #T_b6d8aa06_1a39_11ea_9380_a0a4c554f2a3row1_col19 {\n",
       "            background-color:  #a5bddb;\n",
       "            color:  #000000;\n",
       "        }    #T_b6d8aa06_1a39_11ea_9380_a0a4c554f2a3row1_col20 {\n",
       "            background-color:  #99b8d8;\n",
       "            color:  #000000;\n",
       "        }    #T_b6d8aa06_1a39_11ea_9380_a0a4c554f2a3row1_col21 {\n",
       "            background-color:  #86b0d3;\n",
       "            color:  #000000;\n",
       "        }    #T_b6d8aa06_1a39_11ea_9380_a0a4c554f2a3row1_col22 {\n",
       "            background-color:  #93b5d6;\n",
       "            color:  #000000;\n",
       "        }    #T_b6d8aa06_1a39_11ea_9380_a0a4c554f2a3row1_col23 {\n",
       "            background-color:  #8eb3d5;\n",
       "            color:  #000000;\n",
       "        }    #T_b6d8aa06_1a39_11ea_9380_a0a4c554f2a3row1_col24 {\n",
       "            background-color:  #acc0dd;\n",
       "            color:  #000000;\n",
       "        }    #T_b6d8aa06_1a39_11ea_9380_a0a4c554f2a3row1_col25 {\n",
       "            background-color:  #abbfdc;\n",
       "            color:  #000000;\n",
       "        }    #T_b6d8aa06_1a39_11ea_9380_a0a4c554f2a3row1_col26 {\n",
       "            background-color:  #62a2cb;\n",
       "            color:  #000000;\n",
       "        }    #T_b6d8aa06_1a39_11ea_9380_a0a4c554f2a3row2_col0 {\n",
       "            background-color:  #023858;\n",
       "            color:  #f1f1f1;\n",
       "        }    #T_b6d8aa06_1a39_11ea_9380_a0a4c554f2a3row2_col1 {\n",
       "            background-color:  #0568a3;\n",
       "            color:  #f1f1f1;\n",
       "        }    #T_b6d8aa06_1a39_11ea_9380_a0a4c554f2a3row2_col2 {\n",
       "            background-color:  #1b7eb7;\n",
       "            color:  #000000;\n",
       "        }    #T_b6d8aa06_1a39_11ea_9380_a0a4c554f2a3row2_col3 {\n",
       "            background-color:  #0f76b3;\n",
       "            color:  #f1f1f1;\n",
       "        }    #T_b6d8aa06_1a39_11ea_9380_a0a4c554f2a3row2_col4 {\n",
       "            background-color:  #328dbf;\n",
       "            color:  #000000;\n",
       "        }    #T_b6d8aa06_1a39_11ea_9380_a0a4c554f2a3row2_col5 {\n",
       "            background-color:  #348ebf;\n",
       "            color:  #000000;\n",
       "        }    #T_b6d8aa06_1a39_11ea_9380_a0a4c554f2a3row2_col6 {\n",
       "            background-color:  #167bb6;\n",
       "            color:  #000000;\n",
       "        }    #T_b6d8aa06_1a39_11ea_9380_a0a4c554f2a3row2_col7 {\n",
       "            background-color:  #023b5d;\n",
       "            color:  #f1f1f1;\n",
       "        }    #T_b6d8aa06_1a39_11ea_9380_a0a4c554f2a3row2_col8 {\n",
       "            background-color:  #023858;\n",
       "            color:  #f1f1f1;\n",
       "        }    #T_b6d8aa06_1a39_11ea_9380_a0a4c554f2a3row2_col9 {\n",
       "            background-color:  #0570b0;\n",
       "            color:  #f1f1f1;\n",
       "        }    #T_b6d8aa06_1a39_11ea_9380_a0a4c554f2a3row2_col10 {\n",
       "            background-color:  #023858;\n",
       "            color:  #f1f1f1;\n",
       "        }    #T_b6d8aa06_1a39_11ea_9380_a0a4c554f2a3row2_col11 {\n",
       "            background-color:  #023858;\n",
       "            color:  #f1f1f1;\n",
       "        }    #T_b6d8aa06_1a39_11ea_9380_a0a4c554f2a3row2_col12 {\n",
       "            background-color:  #023858;\n",
       "            color:  #f1f1f1;\n",
       "        }    #T_b6d8aa06_1a39_11ea_9380_a0a4c554f2a3row2_col13 {\n",
       "            background-color:  #589ec8;\n",
       "            color:  #000000;\n",
       "        }    #T_b6d8aa06_1a39_11ea_9380_a0a4c554f2a3row2_col14 {\n",
       "            background-color:  #71a8ce;\n",
       "            color:  #000000;\n",
       "        }    #T_b6d8aa06_1a39_11ea_9380_a0a4c554f2a3row2_col15 {\n",
       "            background-color:  #6ba5cd;\n",
       "            color:  #000000;\n",
       "        }    #T_b6d8aa06_1a39_11ea_9380_a0a4c554f2a3row2_col16 {\n",
       "            background-color:  #8cb3d5;\n",
       "            color:  #000000;\n",
       "        }    #T_b6d8aa06_1a39_11ea_9380_a0a4c554f2a3row2_col17 {\n",
       "            background-color:  #b1c2de;\n",
       "            color:  #000000;\n",
       "        }    #T_b6d8aa06_1a39_11ea_9380_a0a4c554f2a3row2_col18 {\n",
       "            background-color:  #a8bedc;\n",
       "            color:  #000000;\n",
       "        }    #T_b6d8aa06_1a39_11ea_9380_a0a4c554f2a3row2_col19 {\n",
       "            background-color:  #b3c3de;\n",
       "            color:  #000000;\n",
       "        }    #T_b6d8aa06_1a39_11ea_9380_a0a4c554f2a3row2_col20 {\n",
       "            background-color:  #9cb9d9;\n",
       "            color:  #000000;\n",
       "        }    #T_b6d8aa06_1a39_11ea_9380_a0a4c554f2a3row2_col21 {\n",
       "            background-color:  #adc1dd;\n",
       "            color:  #000000;\n",
       "        }    #T_b6d8aa06_1a39_11ea_9380_a0a4c554f2a3row2_col22 {\n",
       "            background-color:  #a9bfdc;\n",
       "            color:  #000000;\n",
       "        }    #T_b6d8aa06_1a39_11ea_9380_a0a4c554f2a3row2_col23 {\n",
       "            background-color:  #93b5d6;\n",
       "            color:  #000000;\n",
       "        }    #T_b6d8aa06_1a39_11ea_9380_a0a4c554f2a3row2_col24 {\n",
       "            background-color:  #94b6d7;\n",
       "            color:  #000000;\n",
       "        }    #T_b6d8aa06_1a39_11ea_9380_a0a4c554f2a3row2_col25 {\n",
       "            background-color:  #c5cce3;\n",
       "            color:  #000000;\n",
       "        }    #T_b6d8aa06_1a39_11ea_9380_a0a4c554f2a3row2_col26 {\n",
       "            background-color:  #056ead;\n",
       "            color:  #f1f1f1;\n",
       "        }    #T_b6d8aa06_1a39_11ea_9380_a0a4c554f2a3row3_col0 {\n",
       "            background-color:  #fff7fb;\n",
       "            color:  #000000;\n",
       "        }    #T_b6d8aa06_1a39_11ea_9380_a0a4c554f2a3row3_col1 {\n",
       "            background-color:  #6da6cd;\n",
       "            color:  #000000;\n",
       "        }    #T_b6d8aa06_1a39_11ea_9380_a0a4c554f2a3row3_col2 {\n",
       "            background-color:  #7eadd1;\n",
       "            color:  #000000;\n",
       "        }    #T_b6d8aa06_1a39_11ea_9380_a0a4c554f2a3row3_col3 {\n",
       "            background-color:  #96b6d7;\n",
       "            color:  #000000;\n",
       "        }    #T_b6d8aa06_1a39_11ea_9380_a0a4c554f2a3row3_col4 {\n",
       "            background-color:  #b3c3de;\n",
       "            color:  #000000;\n",
       "        }    #T_b6d8aa06_1a39_11ea_9380_a0a4c554f2a3row3_col5 {\n",
       "            background-color:  #80aed2;\n",
       "            color:  #000000;\n",
       "        }    #T_b6d8aa06_1a39_11ea_9380_a0a4c554f2a3row3_col6 {\n",
       "            background-color:  #f6eff7;\n",
       "            color:  #000000;\n",
       "        }    #T_b6d8aa06_1a39_11ea_9380_a0a4c554f2a3row3_col7 {\n",
       "            background-color:  #fff7fb;\n",
       "            color:  #000000;\n",
       "        }    #T_b6d8aa06_1a39_11ea_9380_a0a4c554f2a3row3_col8 {\n",
       "            background-color:  #fbf4f9;\n",
       "            color:  #000000;\n",
       "        }    #T_b6d8aa06_1a39_11ea_9380_a0a4c554f2a3row3_col9 {\n",
       "            background-color:  #b1c2de;\n",
       "            color:  #000000;\n",
       "        }    #T_b6d8aa06_1a39_11ea_9380_a0a4c554f2a3row3_col10 {\n",
       "            background-color:  #f9f2f8;\n",
       "            color:  #000000;\n",
       "        }    #T_b6d8aa06_1a39_11ea_9380_a0a4c554f2a3row3_col11 {\n",
       "            background-color:  #f7f0f7;\n",
       "            color:  #000000;\n",
       "        }    #T_b6d8aa06_1a39_11ea_9380_a0a4c554f2a3row3_col12 {\n",
       "            background-color:  #fef6fa;\n",
       "            color:  #000000;\n",
       "        }    #T_b6d8aa06_1a39_11ea_9380_a0a4c554f2a3row3_col13 {\n",
       "            background-color:  #adc1dd;\n",
       "            color:  #000000;\n",
       "        }    #T_b6d8aa06_1a39_11ea_9380_a0a4c554f2a3row3_col14 {\n",
       "            background-color:  #d3d4e7;\n",
       "            color:  #000000;\n",
       "        }    #T_b6d8aa06_1a39_11ea_9380_a0a4c554f2a3row3_col15 {\n",
       "            background-color:  #c8cde4;\n",
       "            color:  #000000;\n",
       "        }    #T_b6d8aa06_1a39_11ea_9380_a0a4c554f2a3row3_col16 {\n",
       "            background-color:  #fff7fb;\n",
       "            color:  #000000;\n",
       "        }    #T_b6d8aa06_1a39_11ea_9380_a0a4c554f2a3row3_col17 {\n",
       "            background-color:  #ede7f2;\n",
       "            color:  #000000;\n",
       "        }    #T_b6d8aa06_1a39_11ea_9380_a0a4c554f2a3row3_col18 {\n",
       "            background-color:  #e0deed;\n",
       "            color:  #000000;\n",
       "        }    #T_b6d8aa06_1a39_11ea_9380_a0a4c554f2a3row3_col19 {\n",
       "            background-color:  #e0dded;\n",
       "            color:  #000000;\n",
       "        }    #T_b6d8aa06_1a39_11ea_9380_a0a4c554f2a3row3_col20 {\n",
       "            background-color:  #d9d8ea;\n",
       "            color:  #000000;\n",
       "        }    #T_b6d8aa06_1a39_11ea_9380_a0a4c554f2a3row3_col21 {\n",
       "            background-color:  #d1d2e6;\n",
       "            color:  #000000;\n",
       "        }    #T_b6d8aa06_1a39_11ea_9380_a0a4c554f2a3row3_col22 {\n",
       "            background-color:  #d3d4e7;\n",
       "            color:  #000000;\n",
       "        }    #T_b6d8aa06_1a39_11ea_9380_a0a4c554f2a3row3_col23 {\n",
       "            background-color:  #d2d3e7;\n",
       "            color:  #000000;\n",
       "        }    #T_b6d8aa06_1a39_11ea_9380_a0a4c554f2a3row3_col24 {\n",
       "            background-color:  #dddbec;\n",
       "            color:  #000000;\n",
       "        }    #T_b6d8aa06_1a39_11ea_9380_a0a4c554f2a3row3_col25 {\n",
       "            background-color:  #d3d4e7;\n",
       "            color:  #000000;\n",
       "        }    #T_b6d8aa06_1a39_11ea_9380_a0a4c554f2a3row3_col26 {\n",
       "            background-color:  #d5d5e8;\n",
       "            color:  #000000;\n",
       "        }    #T_b6d8aa06_1a39_11ea_9380_a0a4c554f2a3row4_col0 {\n",
       "            background-color:  #fbf3f9;\n",
       "            color:  #000000;\n",
       "        }    #T_b6d8aa06_1a39_11ea_9380_a0a4c554f2a3row4_col1 {\n",
       "            background-color:  #97b7d7;\n",
       "            color:  #000000;\n",
       "        }    #T_b6d8aa06_1a39_11ea_9380_a0a4c554f2a3row4_col2 {\n",
       "            background-color:  #6ba5cd;\n",
       "            color:  #000000;\n",
       "        }    #T_b6d8aa06_1a39_11ea_9380_a0a4c554f2a3row4_col3 {\n",
       "            background-color:  #a4bcda;\n",
       "            color:  #000000;\n",
       "        }    #T_b6d8aa06_1a39_11ea_9380_a0a4c554f2a3row4_col4 {\n",
       "            background-color:  #b5c4df;\n",
       "            color:  #000000;\n",
       "        }    #T_b6d8aa06_1a39_11ea_9380_a0a4c554f2a3row4_col5 {\n",
       "            background-color:  #7dacd1;\n",
       "            color:  #000000;\n",
       "        }    #T_b6d8aa06_1a39_11ea_9380_a0a4c554f2a3row4_col6 {\n",
       "            background-color:  #f7f0f7;\n",
       "            color:  #000000;\n",
       "        }    #T_b6d8aa06_1a39_11ea_9380_a0a4c554f2a3row4_col7 {\n",
       "            background-color:  #c4cbe3;\n",
       "            color:  #000000;\n",
       "        }    #T_b6d8aa06_1a39_11ea_9380_a0a4c554f2a3row4_col8 {\n",
       "            background-color:  #f1ebf4;\n",
       "            color:  #000000;\n",
       "        }    #T_b6d8aa06_1a39_11ea_9380_a0a4c554f2a3row4_col9 {\n",
       "            background-color:  #dad9ea;\n",
       "            color:  #000000;\n",
       "        }    #T_b6d8aa06_1a39_11ea_9380_a0a4c554f2a3row4_col10 {\n",
       "            background-color:  #f4edf6;\n",
       "            color:  #000000;\n",
       "        }    #T_b6d8aa06_1a39_11ea_9380_a0a4c554f2a3row4_col11 {\n",
       "            background-color:  #f2ecf5;\n",
       "            color:  #000000;\n",
       "        }    #T_b6d8aa06_1a39_11ea_9380_a0a4c554f2a3row4_col12 {\n",
       "            background-color:  #fdf5fa;\n",
       "            color:  #000000;\n",
       "        }    #T_b6d8aa06_1a39_11ea_9380_a0a4c554f2a3row4_col13 {\n",
       "            background-color:  #b3c3de;\n",
       "            color:  #000000;\n",
       "        }    #T_b6d8aa06_1a39_11ea_9380_a0a4c554f2a3row4_col14 {\n",
       "            background-color:  #d5d5e8;\n",
       "            color:  #000000;\n",
       "        }    #T_b6d8aa06_1a39_11ea_9380_a0a4c554f2a3row4_col15 {\n",
       "            background-color:  #c5cce3;\n",
       "            color:  #000000;\n",
       "        }    #T_b6d8aa06_1a39_11ea_9380_a0a4c554f2a3row4_col16 {\n",
       "            background-color:  #ced0e6;\n",
       "            color:  #000000;\n",
       "        }    #T_b6d8aa06_1a39_11ea_9380_a0a4c554f2a3row4_col17 {\n",
       "            background-color:  #eae6f1;\n",
       "            color:  #000000;\n",
       "        }    #T_b6d8aa06_1a39_11ea_9380_a0a4c554f2a3row4_col18 {\n",
       "            background-color:  #e7e3f0;\n",
       "            color:  #000000;\n",
       "        }    #T_b6d8aa06_1a39_11ea_9380_a0a4c554f2a3row4_col19 {\n",
       "            background-color:  #eae6f1;\n",
       "            color:  #000000;\n",
       "        }    #T_b6d8aa06_1a39_11ea_9380_a0a4c554f2a3row4_col20 {\n",
       "            background-color:  #e5e1ef;\n",
       "            color:  #000000;\n",
       "        }    #T_b6d8aa06_1a39_11ea_9380_a0a4c554f2a3row4_col21 {\n",
       "            background-color:  #e2dfee;\n",
       "            color:  #000000;\n",
       "        }    #T_b6d8aa06_1a39_11ea_9380_a0a4c554f2a3row4_col22 {\n",
       "            background-color:  #e1dfed;\n",
       "            color:  #000000;\n",
       "        }    #T_b6d8aa06_1a39_11ea_9380_a0a4c554f2a3row4_col23 {\n",
       "            background-color:  #e1dfed;\n",
       "            color:  #000000;\n",
       "        }    #T_b6d8aa06_1a39_11ea_9380_a0a4c554f2a3row4_col24 {\n",
       "            background-color:  #e5e1ef;\n",
       "            color:  #000000;\n",
       "        }    #T_b6d8aa06_1a39_11ea_9380_a0a4c554f2a3row4_col25 {\n",
       "            background-color:  #e4e1ef;\n",
       "            color:  #000000;\n",
       "        }    #T_b6d8aa06_1a39_11ea_9380_a0a4c554f2a3row4_col26 {\n",
       "            background-color:  #dfddec;\n",
       "            color:  #000000;\n",
       "        }    #T_b6d8aa06_1a39_11ea_9380_a0a4c554f2a3row5_col0 {\n",
       "            background-color:  #fbf3f9;\n",
       "            color:  #000000;\n",
       "        }    #T_b6d8aa06_1a39_11ea_9380_a0a4c554f2a3row5_col1 {\n",
       "            background-color:  #b5c4df;\n",
       "            color:  #000000;\n",
       "        }    #T_b6d8aa06_1a39_11ea_9380_a0a4c554f2a3row5_col2 {\n",
       "            background-color:  #d2d2e7;\n",
       "            color:  #000000;\n",
       "        }    #T_b6d8aa06_1a39_11ea_9380_a0a4c554f2a3row5_col3 {\n",
       "            background-color:  #c0c9e2;\n",
       "            color:  #000000;\n",
       "        }    #T_b6d8aa06_1a39_11ea_9380_a0a4c554f2a3row5_col4 {\n",
       "            background-color:  #b9c6e0;\n",
       "            color:  #000000;\n",
       "        }    #T_b6d8aa06_1a39_11ea_9380_a0a4c554f2a3row5_col5 {\n",
       "            background-color:  #b5c4df;\n",
       "            color:  #000000;\n",
       "        }    #T_b6d8aa06_1a39_11ea_9380_a0a4c554f2a3row5_col6 {\n",
       "            background-color:  #f3edf5;\n",
       "            color:  #000000;\n",
       "        }    #T_b6d8aa06_1a39_11ea_9380_a0a4c554f2a3row5_col7 {\n",
       "            background-color:  #ece7f2;\n",
       "            color:  #000000;\n",
       "        }    #T_b6d8aa06_1a39_11ea_9380_a0a4c554f2a3row5_col8 {\n",
       "            background-color:  #f8f1f8;\n",
       "            color:  #000000;\n",
       "        }    #T_b6d8aa06_1a39_11ea_9380_a0a4c554f2a3row5_col9 {\n",
       "            background-color:  #cdd0e5;\n",
       "            color:  #000000;\n",
       "        }    #T_b6d8aa06_1a39_11ea_9380_a0a4c554f2a3row5_col10 {\n",
       "            background-color:  #f2ecf5;\n",
       "            color:  #000000;\n",
       "        }    #T_b6d8aa06_1a39_11ea_9380_a0a4c554f2a3row5_col11 {\n",
       "            background-color:  #f4edf6;\n",
       "            color:  #000000;\n",
       "        }    #T_b6d8aa06_1a39_11ea_9380_a0a4c554f2a3row5_col12 {\n",
       "            background-color:  #fdf5fa;\n",
       "            color:  #000000;\n",
       "        }    #T_b6d8aa06_1a39_11ea_9380_a0a4c554f2a3row5_col13 {\n",
       "            background-color:  #b8c6e0;\n",
       "            color:  #000000;\n",
       "        }    #T_b6d8aa06_1a39_11ea_9380_a0a4c554f2a3row5_col14 {\n",
       "            background-color:  #ced0e6;\n",
       "            color:  #000000;\n",
       "        }    #T_b6d8aa06_1a39_11ea_9380_a0a4c554f2a3row5_col15 {\n",
       "            background-color:  #c8cde4;\n",
       "            color:  #000000;\n",
       "        }    #T_b6d8aa06_1a39_11ea_9380_a0a4c554f2a3row5_col16 {\n",
       "            background-color:  #e1dfed;\n",
       "            color:  #000000;\n",
       "        }    #T_b6d8aa06_1a39_11ea_9380_a0a4c554f2a3row5_col17 {\n",
       "            background-color:  #e7e3f0;\n",
       "            color:  #000000;\n",
       "        }    #T_b6d8aa06_1a39_11ea_9380_a0a4c554f2a3row5_col18 {\n",
       "            background-color:  #dfddec;\n",
       "            color:  #000000;\n",
       "        }    #T_b6d8aa06_1a39_11ea_9380_a0a4c554f2a3row5_col19 {\n",
       "            background-color:  #e0dded;\n",
       "            color:  #000000;\n",
       "        }    #T_b6d8aa06_1a39_11ea_9380_a0a4c554f2a3row5_col20 {\n",
       "            background-color:  #d9d8ea;\n",
       "            color:  #000000;\n",
       "        }    #T_b6d8aa06_1a39_11ea_9380_a0a4c554f2a3row5_col21 {\n",
       "            background-color:  #d7d6e9;\n",
       "            color:  #000000;\n",
       "        }    #T_b6d8aa06_1a39_11ea_9380_a0a4c554f2a3row5_col22 {\n",
       "            background-color:  #d9d8ea;\n",
       "            color:  #000000;\n",
       "        }    #T_b6d8aa06_1a39_11ea_9380_a0a4c554f2a3row5_col23 {\n",
       "            background-color:  #dad9ea;\n",
       "            color:  #000000;\n",
       "        }    #T_b6d8aa06_1a39_11ea_9380_a0a4c554f2a3row5_col24 {\n",
       "            background-color:  #dbdaeb;\n",
       "            color:  #000000;\n",
       "        }    #T_b6d8aa06_1a39_11ea_9380_a0a4c554f2a3row5_col25 {\n",
       "            background-color:  #e4e1ef;\n",
       "            color:  #000000;\n",
       "        }    #T_b6d8aa06_1a39_11ea_9380_a0a4c554f2a3row5_col26 {\n",
       "            background-color:  #c2cbe2;\n",
       "            color:  #000000;\n",
       "        }    #T_b6d8aa06_1a39_11ea_9380_a0a4c554f2a3row6_col0 {\n",
       "            background-color:  #d8d7e9;\n",
       "            color:  #000000;\n",
       "        }    #T_b6d8aa06_1a39_11ea_9380_a0a4c554f2a3row6_col1 {\n",
       "            background-color:  #c0c9e2;\n",
       "            color:  #000000;\n",
       "        }    #T_b6d8aa06_1a39_11ea_9380_a0a4c554f2a3row6_col2 {\n",
       "            background-color:  #c9cee4;\n",
       "            color:  #000000;\n",
       "        }    #T_b6d8aa06_1a39_11ea_9380_a0a4c554f2a3row6_col3 {\n",
       "            background-color:  #b8c6e0;\n",
       "            color:  #000000;\n",
       "        }    #T_b6d8aa06_1a39_11ea_9380_a0a4c554f2a3row6_col4 {\n",
       "            background-color:  #abbfdc;\n",
       "            color:  #000000;\n",
       "        }    #T_b6d8aa06_1a39_11ea_9380_a0a4c554f2a3row6_col5 {\n",
       "            background-color:  #a9bfdc;\n",
       "            color:  #000000;\n",
       "        }    #T_b6d8aa06_1a39_11ea_9380_a0a4c554f2a3row6_col6 {\n",
       "            background-color:  #d5d5e8;\n",
       "            color:  #000000;\n",
       "        }    #T_b6d8aa06_1a39_11ea_9380_a0a4c554f2a3row6_col7 {\n",
       "            background-color:  #79abd0;\n",
       "            color:  #000000;\n",
       "        }    #T_b6d8aa06_1a39_11ea_9380_a0a4c554f2a3row6_col8 {\n",
       "            background-color:  #eee8f3;\n",
       "            color:  #000000;\n",
       "        }    #T_b6d8aa06_1a39_11ea_9380_a0a4c554f2a3row6_col9 {\n",
       "            background-color:  #7dacd1;\n",
       "            color:  #000000;\n",
       "        }    #T_b6d8aa06_1a39_11ea_9380_a0a4c554f2a3row6_col10 {\n",
       "            background-color:  #d8d7e9;\n",
       "            color:  #000000;\n",
       "        }    #T_b6d8aa06_1a39_11ea_9380_a0a4c554f2a3row6_col11 {\n",
       "            background-color:  #d9d8ea;\n",
       "            color:  #000000;\n",
       "        }    #T_b6d8aa06_1a39_11ea_9380_a0a4c554f2a3row6_col12 {\n",
       "            background-color:  #f4eef6;\n",
       "            color:  #000000;\n",
       "        }    #T_b6d8aa06_1a39_11ea_9380_a0a4c554f2a3row6_col13 {\n",
       "            background-color:  #d7d6e9;\n",
       "            color:  #000000;\n",
       "        }    #T_b6d8aa06_1a39_11ea_9380_a0a4c554f2a3row6_col14 {\n",
       "            background-color:  #e9e5f1;\n",
       "            color:  #000000;\n",
       "        }    #T_b6d8aa06_1a39_11ea_9380_a0a4c554f2a3row6_col15 {\n",
       "            background-color:  #e0deed;\n",
       "            color:  #000000;\n",
       "        }    #T_b6d8aa06_1a39_11ea_9380_a0a4c554f2a3row6_col16 {\n",
       "            background-color:  #dcdaeb;\n",
       "            color:  #000000;\n",
       "        }    #T_b6d8aa06_1a39_11ea_9380_a0a4c554f2a3row6_col17 {\n",
       "            background-color:  #dbdaeb;\n",
       "            color:  #000000;\n",
       "        }    #T_b6d8aa06_1a39_11ea_9380_a0a4c554f2a3row6_col18 {\n",
       "            background-color:  #dddbec;\n",
       "            color:  #000000;\n",
       "        }    #T_b6d8aa06_1a39_11ea_9380_a0a4c554f2a3row6_col19 {\n",
       "            background-color:  #dad9ea;\n",
       "            color:  #000000;\n",
       "        }    #T_b6d8aa06_1a39_11ea_9380_a0a4c554f2a3row6_col20 {\n",
       "            background-color:  #d5d5e8;\n",
       "            color:  #000000;\n",
       "        }    #T_b6d8aa06_1a39_11ea_9380_a0a4c554f2a3row6_col21 {\n",
       "            background-color:  #d2d2e7;\n",
       "            color:  #000000;\n",
       "        }    #T_b6d8aa06_1a39_11ea_9380_a0a4c554f2a3row6_col22 {\n",
       "            background-color:  #d4d4e8;\n",
       "            color:  #000000;\n",
       "        }    #T_b6d8aa06_1a39_11ea_9380_a0a4c554f2a3row6_col23 {\n",
       "            background-color:  #d2d2e7;\n",
       "            color:  #000000;\n",
       "        }    #T_b6d8aa06_1a39_11ea_9380_a0a4c554f2a3row6_col24 {\n",
       "            background-color:  #d9d8ea;\n",
       "            color:  #000000;\n",
       "        }    #T_b6d8aa06_1a39_11ea_9380_a0a4c554f2a3row6_col25 {\n",
       "            background-color:  #e7e3f0;\n",
       "            color:  #000000;\n",
       "        }    #T_b6d8aa06_1a39_11ea_9380_a0a4c554f2a3row6_col26 {\n",
       "            background-color:  #d0d1e6;\n",
       "            color:  #000000;\n",
       "        }    #T_b6d8aa06_1a39_11ea_9380_a0a4c554f2a3row7_col0 {\n",
       "            background-color:  #fef6fb;\n",
       "            color:  #000000;\n",
       "        }    #T_b6d8aa06_1a39_11ea_9380_a0a4c554f2a3row7_col1 {\n",
       "            background-color:  #f0eaf4;\n",
       "            color:  #000000;\n",
       "        }    #T_b6d8aa06_1a39_11ea_9380_a0a4c554f2a3row7_col2 {\n",
       "            background-color:  #fcf4fa;\n",
       "            color:  #000000;\n",
       "        }    #T_b6d8aa06_1a39_11ea_9380_a0a4c554f2a3row7_col3 {\n",
       "            background-color:  #faf2f8;\n",
       "            color:  #000000;\n",
       "        }    #T_b6d8aa06_1a39_11ea_9380_a0a4c554f2a3row7_col4 {\n",
       "            background-color:  #fbf3f9;\n",
       "            color:  #000000;\n",
       "        }    #T_b6d8aa06_1a39_11ea_9380_a0a4c554f2a3row7_col5 {\n",
       "            background-color:  #e7e3f0;\n",
       "            color:  #000000;\n",
       "        }    #T_b6d8aa06_1a39_11ea_9380_a0a4c554f2a3row7_col6 {\n",
       "            background-color:  #f5eff6;\n",
       "            color:  #000000;\n",
       "        }    #T_b6d8aa06_1a39_11ea_9380_a0a4c554f2a3row7_col7 {\n",
       "            background-color:  #efe9f3;\n",
       "            color:  #000000;\n",
       "        }    #T_b6d8aa06_1a39_11ea_9380_a0a4c554f2a3row7_col8 {\n",
       "            background-color:  #fcf4fa;\n",
       "            color:  #000000;\n",
       "        }    #T_b6d8aa06_1a39_11ea_9380_a0a4c554f2a3row7_col9 {\n",
       "            background-color:  #ede8f3;\n",
       "            color:  #000000;\n",
       "        }    #T_b6d8aa06_1a39_11ea_9380_a0a4c554f2a3row7_col10 {\n",
       "            background-color:  #fcf4fa;\n",
       "            color:  #000000;\n",
       "        }    #T_b6d8aa06_1a39_11ea_9380_a0a4c554f2a3row7_col11 {\n",
       "            background-color:  #fbf3f9;\n",
       "            color:  #000000;\n",
       "        }    #T_b6d8aa06_1a39_11ea_9380_a0a4c554f2a3row7_col12 {\n",
       "            background-color:  #fef6fb;\n",
       "            color:  #000000;\n",
       "        }    #T_b6d8aa06_1a39_11ea_9380_a0a4c554f2a3row7_col13 {\n",
       "            background-color:  #f8f1f8;\n",
       "            color:  #000000;\n",
       "        }    #T_b6d8aa06_1a39_11ea_9380_a0a4c554f2a3row7_col14 {\n",
       "            background-color:  #f7f0f7;\n",
       "            color:  #000000;\n",
       "        }    #T_b6d8aa06_1a39_11ea_9380_a0a4c554f2a3row7_col15 {\n",
       "            background-color:  #f6eff7;\n",
       "            color:  #000000;\n",
       "        }    #T_b6d8aa06_1a39_11ea_9380_a0a4c554f2a3row7_col16 {\n",
       "            background-color:  #f9f2f8;\n",
       "            color:  #000000;\n",
       "        }    #T_b6d8aa06_1a39_11ea_9380_a0a4c554f2a3row7_col17 {\n",
       "            background-color:  #faf3f9;\n",
       "            color:  #000000;\n",
       "        }    #T_b6d8aa06_1a39_11ea_9380_a0a4c554f2a3row7_col18 {\n",
       "            background-color:  #f7f0f7;\n",
       "            color:  #000000;\n",
       "        }    #T_b6d8aa06_1a39_11ea_9380_a0a4c554f2a3row7_col19 {\n",
       "            background-color:  #f8f1f8;\n",
       "            color:  #000000;\n",
       "        }    #T_b6d8aa06_1a39_11ea_9380_a0a4c554f2a3row7_col20 {\n",
       "            background-color:  #f6eff7;\n",
       "            color:  #000000;\n",
       "        }    #T_b6d8aa06_1a39_11ea_9380_a0a4c554f2a3row7_col21 {\n",
       "            background-color:  #f7f0f7;\n",
       "            color:  #000000;\n",
       "        }    #T_b6d8aa06_1a39_11ea_9380_a0a4c554f2a3row7_col22 {\n",
       "            background-color:  #f5eff6;\n",
       "            color:  #000000;\n",
       "        }    #T_b6d8aa06_1a39_11ea_9380_a0a4c554f2a3row7_col23 {\n",
       "            background-color:  #f5eff6;\n",
       "            color:  #000000;\n",
       "        }    #T_b6d8aa06_1a39_11ea_9380_a0a4c554f2a3row7_col24 {\n",
       "            background-color:  #f4eef6;\n",
       "            color:  #000000;\n",
       "        }    #T_b6d8aa06_1a39_11ea_9380_a0a4c554f2a3row7_col25 {\n",
       "            background-color:  #f0eaf4;\n",
       "            color:  #000000;\n",
       "        }    #T_b6d8aa06_1a39_11ea_9380_a0a4c554f2a3row7_col26 {\n",
       "            background-color:  #efe9f3;\n",
       "            color:  #000000;\n",
       "        }    #T_b6d8aa06_1a39_11ea_9380_a0a4c554f2a3row8_col0 {\n",
       "            background-color:  #faf3f9;\n",
       "            color:  #000000;\n",
       "        }    #T_b6d8aa06_1a39_11ea_9380_a0a4c554f2a3row8_col1 {\n",
       "            background-color:  #d7d6e9;\n",
       "            color:  #000000;\n",
       "        }    #T_b6d8aa06_1a39_11ea_9380_a0a4c554f2a3row8_col2 {\n",
       "            background-color:  #dcdaeb;\n",
       "            color:  #000000;\n",
       "        }    #T_b6d8aa06_1a39_11ea_9380_a0a4c554f2a3row8_col3 {\n",
       "            background-color:  #d9d8ea;\n",
       "            color:  #000000;\n",
       "        }    #T_b6d8aa06_1a39_11ea_9380_a0a4c554f2a3row8_col4 {\n",
       "            background-color:  #d9d8ea;\n",
       "            color:  #000000;\n",
       "        }    #T_b6d8aa06_1a39_11ea_9380_a0a4c554f2a3row8_col5 {\n",
       "            background-color:  #d0d1e6;\n",
       "            color:  #000000;\n",
       "        }    #T_b6d8aa06_1a39_11ea_9380_a0a4c554f2a3row8_col6 {\n",
       "            background-color:  #f5eff6;\n",
       "            color:  #000000;\n",
       "        }    #T_b6d8aa06_1a39_11ea_9380_a0a4c554f2a3row8_col7 {\n",
       "            background-color:  #dad9ea;\n",
       "            color:  #000000;\n",
       "        }    #T_b6d8aa06_1a39_11ea_9380_a0a4c554f2a3row8_col8 {\n",
       "            background-color:  #f9f2f8;\n",
       "            color:  #000000;\n",
       "        }    #T_b6d8aa06_1a39_11ea_9380_a0a4c554f2a3row8_col9 {\n",
       "            background-color:  #c8cde4;\n",
       "            color:  #000000;\n",
       "        }    #T_b6d8aa06_1a39_11ea_9380_a0a4c554f2a3row8_col10 {\n",
       "            background-color:  #f1ebf4;\n",
       "            color:  #000000;\n",
       "        }    #T_b6d8aa06_1a39_11ea_9380_a0a4c554f2a3row8_col11 {\n",
       "            background-color:  #f2ecf5;\n",
       "            color:  #000000;\n",
       "        }    #T_b6d8aa06_1a39_11ea_9380_a0a4c554f2a3row8_col12 {\n",
       "            background-color:  #fdf5fa;\n",
       "            color:  #000000;\n",
       "        }    #T_b6d8aa06_1a39_11ea_9380_a0a4c554f2a3row8_col13 {\n",
       "            background-color:  #ede7f2;\n",
       "            color:  #000000;\n",
       "        }    #T_b6d8aa06_1a39_11ea_9380_a0a4c554f2a3row8_col14 {\n",
       "            background-color:  #f8f1f8;\n",
       "            color:  #000000;\n",
       "        }    #T_b6d8aa06_1a39_11ea_9380_a0a4c554f2a3row8_col15 {\n",
       "            background-color:  #f4edf6;\n",
       "            color:  #000000;\n",
       "        }    #T_b6d8aa06_1a39_11ea_9380_a0a4c554f2a3row8_col16 {\n",
       "            background-color:  #e4e1ef;\n",
       "            color:  #000000;\n",
       "        }    #T_b6d8aa06_1a39_11ea_9380_a0a4c554f2a3row8_col17 {\n",
       "            background-color:  #eee9f3;\n",
       "            color:  #000000;\n",
       "        }    #T_b6d8aa06_1a39_11ea_9380_a0a4c554f2a3row8_col18 {\n",
       "            background-color:  #ede8f3;\n",
       "            color:  #000000;\n",
       "        }    #T_b6d8aa06_1a39_11ea_9380_a0a4c554f2a3row8_col19 {\n",
       "            background-color:  #ece7f2;\n",
       "            color:  #000000;\n",
       "        }    #T_b6d8aa06_1a39_11ea_9380_a0a4c554f2a3row8_col20 {\n",
       "            background-color:  #ebe6f2;\n",
       "            color:  #000000;\n",
       "        }    #T_b6d8aa06_1a39_11ea_9380_a0a4c554f2a3row8_col21 {\n",
       "            background-color:  #eae6f1;\n",
       "            color:  #000000;\n",
       "        }    #T_b6d8aa06_1a39_11ea_9380_a0a4c554f2a3row8_col22 {\n",
       "            background-color:  #ece7f2;\n",
       "            color:  #000000;\n",
       "        }    #T_b6d8aa06_1a39_11ea_9380_a0a4c554f2a3row8_col23 {\n",
       "            background-color:  #ede7f2;\n",
       "            color:  #000000;\n",
       "        }    #T_b6d8aa06_1a39_11ea_9380_a0a4c554f2a3row8_col24 {\n",
       "            background-color:  #eee8f3;\n",
       "            color:  #000000;\n",
       "        }    #T_b6d8aa06_1a39_11ea_9380_a0a4c554f2a3row8_col25 {\n",
       "            background-color:  #f0eaf4;\n",
       "            color:  #000000;\n",
       "        }    #T_b6d8aa06_1a39_11ea_9380_a0a4c554f2a3row8_col26 {\n",
       "            background-color:  #f0eaf4;\n",
       "            color:  #000000;\n",
       "        }    #T_b6d8aa06_1a39_11ea_9380_a0a4c554f2a3row9_col0 {\n",
       "            background-color:  #fff7fb;\n",
       "            color:  #000000;\n",
       "        }    #T_b6d8aa06_1a39_11ea_9380_a0a4c554f2a3row9_col1 {\n",
       "            background-color:  #c4cbe3;\n",
       "            color:  #000000;\n",
       "        }    #T_b6d8aa06_1a39_11ea_9380_a0a4c554f2a3row9_col2 {\n",
       "            background-color:  #e7e3f0;\n",
       "            color:  #000000;\n",
       "        }    #T_b6d8aa06_1a39_11ea_9380_a0a4c554f2a3row9_col3 {\n",
       "            background-color:  #d3d4e7;\n",
       "            color:  #000000;\n",
       "        }    #T_b6d8aa06_1a39_11ea_9380_a0a4c554f2a3row9_col4 {\n",
       "            background-color:  #d9d8ea;\n",
       "            color:  #000000;\n",
       "        }    #T_b6d8aa06_1a39_11ea_9380_a0a4c554f2a3row9_col5 {\n",
       "            background-color:  #dcdaeb;\n",
       "            color:  #000000;\n",
       "        }    #T_b6d8aa06_1a39_11ea_9380_a0a4c554f2a3row9_col6 {\n",
       "            background-color:  #f1ebf4;\n",
       "            color:  #000000;\n",
       "        }    #T_b6d8aa06_1a39_11ea_9380_a0a4c554f2a3row9_col7 {\n",
       "            background-color:  #f3edf5;\n",
       "            color:  #000000;\n",
       "        }    #T_b6d8aa06_1a39_11ea_9380_a0a4c554f2a3row9_col8 {\n",
       "            background-color:  #faf2f8;\n",
       "            color:  #000000;\n",
       "        }    #T_b6d8aa06_1a39_11ea_9380_a0a4c554f2a3row9_col9 {\n",
       "            background-color:  #ced0e6;\n",
       "            color:  #000000;\n",
       "        }    #T_b6d8aa06_1a39_11ea_9380_a0a4c554f2a3row9_col10 {\n",
       "            background-color:  #ebe6f2;\n",
       "            color:  #000000;\n",
       "        }    #T_b6d8aa06_1a39_11ea_9380_a0a4c554f2a3row9_col11 {\n",
       "            background-color:  #e9e5f1;\n",
       "            color:  #000000;\n",
       "        }    #T_b6d8aa06_1a39_11ea_9380_a0a4c554f2a3row9_col12 {\n",
       "            background-color:  #fbf4f9;\n",
       "            color:  #000000;\n",
       "        }    #T_b6d8aa06_1a39_11ea_9380_a0a4c554f2a3row9_col13 {\n",
       "            background-color:  #d5d5e8;\n",
       "            color:  #000000;\n",
       "        }    #T_b6d8aa06_1a39_11ea_9380_a0a4c554f2a3row9_col14 {\n",
       "            background-color:  #d6d6e9;\n",
       "            color:  #000000;\n",
       "        }    #T_b6d8aa06_1a39_11ea_9380_a0a4c554f2a3row9_col15 {\n",
       "            background-color:  #dcdaeb;\n",
       "            color:  #000000;\n",
       "        }    #T_b6d8aa06_1a39_11ea_9380_a0a4c554f2a3row9_col16 {\n",
       "            background-color:  #f1ebf5;\n",
       "            color:  #000000;\n",
       "        }    #T_b6d8aa06_1a39_11ea_9380_a0a4c554f2a3row9_col17 {\n",
       "            background-color:  #f2ecf5;\n",
       "            color:  #000000;\n",
       "        }    #T_b6d8aa06_1a39_11ea_9380_a0a4c554f2a3row9_col18 {\n",
       "            background-color:  #ebe6f2;\n",
       "            color:  #000000;\n",
       "        }    #T_b6d8aa06_1a39_11ea_9380_a0a4c554f2a3row9_col19 {\n",
       "            background-color:  #eee8f3;\n",
       "            color:  #000000;\n",
       "        }    #T_b6d8aa06_1a39_11ea_9380_a0a4c554f2a3row9_col20 {\n",
       "            background-color:  #ede8f3;\n",
       "            color:  #000000;\n",
       "        }    #T_b6d8aa06_1a39_11ea_9380_a0a4c554f2a3row9_col21 {\n",
       "            background-color:  #ede7f2;\n",
       "            color:  #000000;\n",
       "        }    #T_b6d8aa06_1a39_11ea_9380_a0a4c554f2a3row9_col22 {\n",
       "            background-color:  #eee9f3;\n",
       "            color:  #000000;\n",
       "        }    #T_b6d8aa06_1a39_11ea_9380_a0a4c554f2a3row9_col23 {\n",
       "            background-color:  #ede8f3;\n",
       "            color:  #000000;\n",
       "        }    #T_b6d8aa06_1a39_11ea_9380_a0a4c554f2a3row9_col24 {\n",
       "            background-color:  #f0eaf4;\n",
       "            color:  #000000;\n",
       "        }    #T_b6d8aa06_1a39_11ea_9380_a0a4c554f2a3row9_col25 {\n",
       "            background-color:  #f1ebf5;\n",
       "            color:  #000000;\n",
       "        }    #T_b6d8aa06_1a39_11ea_9380_a0a4c554f2a3row9_col26 {\n",
       "            background-color:  #dcdaeb;\n",
       "            color:  #000000;\n",
       "        }    #T_b6d8aa06_1a39_11ea_9380_a0a4c554f2a3row10_col0 {\n",
       "            background-color:  #fff7fb;\n",
       "            color:  #000000;\n",
       "        }    #T_b6d8aa06_1a39_11ea_9380_a0a4c554f2a3row10_col1 {\n",
       "            background-color:  #e7e3f0;\n",
       "            color:  #000000;\n",
       "        }    #T_b6d8aa06_1a39_11ea_9380_a0a4c554f2a3row10_col2 {\n",
       "            background-color:  #f5eff6;\n",
       "            color:  #000000;\n",
       "        }    #T_b6d8aa06_1a39_11ea_9380_a0a4c554f2a3row10_col3 {\n",
       "            background-color:  #fdf5fa;\n",
       "            color:  #000000;\n",
       "        }    #T_b6d8aa06_1a39_11ea_9380_a0a4c554f2a3row10_col4 {\n",
       "            background-color:  #f8f1f8;\n",
       "            color:  #000000;\n",
       "        }    #T_b6d8aa06_1a39_11ea_9380_a0a4c554f2a3row10_col5 {\n",
       "            background-color:  #ede7f2;\n",
       "            color:  #000000;\n",
       "        }    #T_b6d8aa06_1a39_11ea_9380_a0a4c554f2a3row10_col6 {\n",
       "            background-color:  #fff7fb;\n",
       "            color:  #000000;\n",
       "        }    #T_b6d8aa06_1a39_11ea_9380_a0a4c554f2a3row10_col7 {\n",
       "            background-color:  #f7f0f7;\n",
       "            color:  #000000;\n",
       "        }    #T_b6d8aa06_1a39_11ea_9380_a0a4c554f2a3row10_col8 {\n",
       "            background-color:  #fef6fb;\n",
       "            color:  #000000;\n",
       "        }    #T_b6d8aa06_1a39_11ea_9380_a0a4c554f2a3row10_col9 {\n",
       "            background-color:  #f5eef6;\n",
       "            color:  #000000;\n",
       "        }    #T_b6d8aa06_1a39_11ea_9380_a0a4c554f2a3row10_col10 {\n",
       "            background-color:  #faf2f8;\n",
       "            color:  #000000;\n",
       "        }    #T_b6d8aa06_1a39_11ea_9380_a0a4c554f2a3row10_col11 {\n",
       "            background-color:  #faf2f8;\n",
       "            color:  #000000;\n",
       "        }    #T_b6d8aa06_1a39_11ea_9380_a0a4c554f2a3row10_col12 {\n",
       "            background-color:  #fff7fb;\n",
       "            color:  #000000;\n",
       "        }    #T_b6d8aa06_1a39_11ea_9380_a0a4c554f2a3row10_col13 {\n",
       "            background-color:  #e5e1ef;\n",
       "            color:  #000000;\n",
       "        }    #T_b6d8aa06_1a39_11ea_9380_a0a4c554f2a3row10_col14 {\n",
       "            background-color:  #e6e2ef;\n",
       "            color:  #000000;\n",
       "        }    #T_b6d8aa06_1a39_11ea_9380_a0a4c554f2a3row10_col15 {\n",
       "            background-color:  #f1ebf4;\n",
       "            color:  #000000;\n",
       "        }    #T_b6d8aa06_1a39_11ea_9380_a0a4c554f2a3row10_col16 {\n",
       "            background-color:  #e8e4f0;\n",
       "            color:  #000000;\n",
       "        }    #T_b6d8aa06_1a39_11ea_9380_a0a4c554f2a3row10_col17 {\n",
       "            background-color:  #f2ecf5;\n",
       "            color:  #000000;\n",
       "        }    #T_b6d8aa06_1a39_11ea_9380_a0a4c554f2a3row10_col18 {\n",
       "            background-color:  #ece7f2;\n",
       "            color:  #000000;\n",
       "        }    #T_b6d8aa06_1a39_11ea_9380_a0a4c554f2a3row10_col19 {\n",
       "            background-color:  #ede7f2;\n",
       "            color:  #000000;\n",
       "        }    #T_b6d8aa06_1a39_11ea_9380_a0a4c554f2a3row10_col20 {\n",
       "            background-color:  #ede7f2;\n",
       "            color:  #000000;\n",
       "        }    #T_b6d8aa06_1a39_11ea_9380_a0a4c554f2a3row10_col21 {\n",
       "            background-color:  #ece7f2;\n",
       "            color:  #000000;\n",
       "        }    #T_b6d8aa06_1a39_11ea_9380_a0a4c554f2a3row10_col22 {\n",
       "            background-color:  #eee9f3;\n",
       "            color:  #000000;\n",
       "        }    #T_b6d8aa06_1a39_11ea_9380_a0a4c554f2a3row10_col23 {\n",
       "            background-color:  #eee9f3;\n",
       "            color:  #000000;\n",
       "        }    #T_b6d8aa06_1a39_11ea_9380_a0a4c554f2a3row10_col24 {\n",
       "            background-color:  #f3edf5;\n",
       "            color:  #000000;\n",
       "        }    #T_b6d8aa06_1a39_11ea_9380_a0a4c554f2a3row10_col25 {\n",
       "            background-color:  #f2ecf5;\n",
       "            color:  #000000;\n",
       "        }    #T_b6d8aa06_1a39_11ea_9380_a0a4c554f2a3row10_col26 {\n",
       "            background-color:  #e0dded;\n",
       "            color:  #000000;\n",
       "        }    #T_b6d8aa06_1a39_11ea_9380_a0a4c554f2a3row11_col0 {\n",
       "            background-color:  #fff7fb;\n",
       "            color:  #000000;\n",
       "        }    #T_b6d8aa06_1a39_11ea_9380_a0a4c554f2a3row11_col1 {\n",
       "            background-color:  #dcdaeb;\n",
       "            color:  #000000;\n",
       "        }    #T_b6d8aa06_1a39_11ea_9380_a0a4c554f2a3row11_col2 {\n",
       "            background-color:  #d0d1e6;\n",
       "            color:  #000000;\n",
       "        }    #T_b6d8aa06_1a39_11ea_9380_a0a4c554f2a3row11_col3 {\n",
       "            background-color:  #d4d4e8;\n",
       "            color:  #000000;\n",
       "        }    #T_b6d8aa06_1a39_11ea_9380_a0a4c554f2a3row11_col4 {\n",
       "            background-color:  #eae6f1;\n",
       "            color:  #000000;\n",
       "        }    #T_b6d8aa06_1a39_11ea_9380_a0a4c554f2a3row11_col5 {\n",
       "            background-color:  #d2d3e7;\n",
       "            color:  #000000;\n",
       "        }    #T_b6d8aa06_1a39_11ea_9380_a0a4c554f2a3row11_col6 {\n",
       "            background-color:  #fff7fb;\n",
       "            color:  #000000;\n",
       "        }    #T_b6d8aa06_1a39_11ea_9380_a0a4c554f2a3row11_col7 {\n",
       "            background-color:  #fef6fb;\n",
       "            color:  #000000;\n",
       "        }    #T_b6d8aa06_1a39_11ea_9380_a0a4c554f2a3row11_col8 {\n",
       "            background-color:  #fef6fb;\n",
       "            color:  #000000;\n",
       "        }    #T_b6d8aa06_1a39_11ea_9380_a0a4c554f2a3row11_col9 {\n",
       "            background-color:  #f0eaf4;\n",
       "            color:  #000000;\n",
       "        }    #T_b6d8aa06_1a39_11ea_9380_a0a4c554f2a3row11_col10 {\n",
       "            background-color:  #fbf4f9;\n",
       "            color:  #000000;\n",
       "        }    #T_b6d8aa06_1a39_11ea_9380_a0a4c554f2a3row11_col11 {\n",
       "            background-color:  #fbf3f9;\n",
       "            color:  #000000;\n",
       "        }    #T_b6d8aa06_1a39_11ea_9380_a0a4c554f2a3row11_col12 {\n",
       "            background-color:  #fef6fb;\n",
       "            color:  #000000;\n",
       "        }    #T_b6d8aa06_1a39_11ea_9380_a0a4c554f2a3row11_col13 {\n",
       "            background-color:  #eee8f3;\n",
       "            color:  #000000;\n",
       "        }    #T_b6d8aa06_1a39_11ea_9380_a0a4c554f2a3row11_col14 {\n",
       "            background-color:  #f6eff7;\n",
       "            color:  #000000;\n",
       "        }    #T_b6d8aa06_1a39_11ea_9380_a0a4c554f2a3row11_col15 {\n",
       "            background-color:  #f1ebf4;\n",
       "            color:  #000000;\n",
       "        }    #T_b6d8aa06_1a39_11ea_9380_a0a4c554f2a3row11_col16 {\n",
       "            background-color:  #f1ebf5;\n",
       "            color:  #000000;\n",
       "        }    #T_b6d8aa06_1a39_11ea_9380_a0a4c554f2a3row11_col17 {\n",
       "            background-color:  #f5eff6;\n",
       "            color:  #000000;\n",
       "        }    #T_b6d8aa06_1a39_11ea_9380_a0a4c554f2a3row11_col18 {\n",
       "            background-color:  #f4eef6;\n",
       "            color:  #000000;\n",
       "        }    #T_b6d8aa06_1a39_11ea_9380_a0a4c554f2a3row11_col19 {\n",
       "            background-color:  #f2ecf5;\n",
       "            color:  #000000;\n",
       "        }    #T_b6d8aa06_1a39_11ea_9380_a0a4c554f2a3row11_col20 {\n",
       "            background-color:  #f2ecf5;\n",
       "            color:  #000000;\n",
       "        }    #T_b6d8aa06_1a39_11ea_9380_a0a4c554f2a3row11_col21 {\n",
       "            background-color:  #f1ebf4;\n",
       "            color:  #000000;\n",
       "        }    #T_b6d8aa06_1a39_11ea_9380_a0a4c554f2a3row11_col22 {\n",
       "            background-color:  #f1ebf4;\n",
       "            color:  #000000;\n",
       "        }    #T_b6d8aa06_1a39_11ea_9380_a0a4c554f2a3row11_col23 {\n",
       "            background-color:  #f1ebf5;\n",
       "            color:  #000000;\n",
       "        }    #T_b6d8aa06_1a39_11ea_9380_a0a4c554f2a3row11_col24 {\n",
       "            background-color:  #f6eff7;\n",
       "            color:  #000000;\n",
       "        }    #T_b6d8aa06_1a39_11ea_9380_a0a4c554f2a3row11_col25 {\n",
       "            background-color:  #f2ecf5;\n",
       "            color:  #000000;\n",
       "        }    #T_b6d8aa06_1a39_11ea_9380_a0a4c554f2a3row11_col26 {\n",
       "            background-color:  #f8f1f8;\n",
       "            color:  #000000;\n",
       "        }    #T_b6d8aa06_1a39_11ea_9380_a0a4c554f2a3row12_col0 {\n",
       "            background-color:  #eee8f3;\n",
       "            color:  #000000;\n",
       "        }    #T_b6d8aa06_1a39_11ea_9380_a0a4c554f2a3row12_col1 {\n",
       "            background-color:  #d2d3e7;\n",
       "            color:  #000000;\n",
       "        }    #T_b6d8aa06_1a39_11ea_9380_a0a4c554f2a3row12_col2 {\n",
       "            background-color:  #dbdaeb;\n",
       "            color:  #000000;\n",
       "        }    #T_b6d8aa06_1a39_11ea_9380_a0a4c554f2a3row12_col3 {\n",
       "            background-color:  #d2d3e7;\n",
       "            color:  #000000;\n",
       "        }    #T_b6d8aa06_1a39_11ea_9380_a0a4c554f2a3row12_col4 {\n",
       "            background-color:  #e1dfed;\n",
       "            color:  #000000;\n",
       "        }    #T_b6d8aa06_1a39_11ea_9380_a0a4c554f2a3row12_col5 {\n",
       "            background-color:  #c9cee4;\n",
       "            color:  #000000;\n",
       "        }    #T_b6d8aa06_1a39_11ea_9380_a0a4c554f2a3row12_col6 {\n",
       "            background-color:  #bfc9e1;\n",
       "            color:  #000000;\n",
       "        }    #T_b6d8aa06_1a39_11ea_9380_a0a4c554f2a3row12_col7 {\n",
       "            background-color:  #eee9f3;\n",
       "            color:  #000000;\n",
       "        }    #T_b6d8aa06_1a39_11ea_9380_a0a4c554f2a3row12_col8 {\n",
       "            background-color:  #f4eef6;\n",
       "            color:  #000000;\n",
       "        }    #T_b6d8aa06_1a39_11ea_9380_a0a4c554f2a3row12_col9 {\n",
       "            background-color:  #b8c6e0;\n",
       "            color:  #000000;\n",
       "        }    #T_b6d8aa06_1a39_11ea_9380_a0a4c554f2a3row12_col10 {\n",
       "            background-color:  #eee8f3;\n",
       "            color:  #000000;\n",
       "        }    #T_b6d8aa06_1a39_11ea_9380_a0a4c554f2a3row12_col11 {\n",
       "            background-color:  #ede8f3;\n",
       "            color:  #000000;\n",
       "        }    #T_b6d8aa06_1a39_11ea_9380_a0a4c554f2a3row12_col12 {\n",
       "            background-color:  #faf2f8;\n",
       "            color:  #000000;\n",
       "        }    #T_b6d8aa06_1a39_11ea_9380_a0a4c554f2a3row12_col13 {\n",
       "            background-color:  #e8e4f0;\n",
       "            color:  #000000;\n",
       "        }    #T_b6d8aa06_1a39_11ea_9380_a0a4c554f2a3row12_col14 {\n",
       "            background-color:  #f0eaf4;\n",
       "            color:  #000000;\n",
       "        }    #T_b6d8aa06_1a39_11ea_9380_a0a4c554f2a3row12_col15 {\n",
       "            background-color:  #f0eaf4;\n",
       "            color:  #000000;\n",
       "        }    #T_b6d8aa06_1a39_11ea_9380_a0a4c554f2a3row12_col16 {\n",
       "            background-color:  #e5e1ef;\n",
       "            color:  #000000;\n",
       "        }    #T_b6d8aa06_1a39_11ea_9380_a0a4c554f2a3row12_col17 {\n",
       "            background-color:  #ebe6f2;\n",
       "            color:  #000000;\n",
       "        }    #T_b6d8aa06_1a39_11ea_9380_a0a4c554f2a3row12_col18 {\n",
       "            background-color:  #f2ecf5;\n",
       "            color:  #000000;\n",
       "        }    #T_b6d8aa06_1a39_11ea_9380_a0a4c554f2a3row12_col19 {\n",
       "            background-color:  #f3edf5;\n",
       "            color:  #000000;\n",
       "        }    #T_b6d8aa06_1a39_11ea_9380_a0a4c554f2a3row12_col20 {\n",
       "            background-color:  #f1ebf5;\n",
       "            color:  #000000;\n",
       "        }    #T_b6d8aa06_1a39_11ea_9380_a0a4c554f2a3row12_col21 {\n",
       "            background-color:  #f2ecf5;\n",
       "            color:  #000000;\n",
       "        }    #T_b6d8aa06_1a39_11ea_9380_a0a4c554f2a3row12_col22 {\n",
       "            background-color:  #f1ebf5;\n",
       "            color:  #000000;\n",
       "        }    #T_b6d8aa06_1a39_11ea_9380_a0a4c554f2a3row12_col23 {\n",
       "            background-color:  #f2ecf5;\n",
       "            color:  #000000;\n",
       "        }    #T_b6d8aa06_1a39_11ea_9380_a0a4c554f2a3row12_col24 {\n",
       "            background-color:  #f5eef6;\n",
       "            color:  #000000;\n",
       "        }    #T_b6d8aa06_1a39_11ea_9380_a0a4c554f2a3row12_col25 {\n",
       "            background-color:  #f2ecf5;\n",
       "            color:  #000000;\n",
       "        }    #T_b6d8aa06_1a39_11ea_9380_a0a4c554f2a3row12_col26 {\n",
       "            background-color:  #ede7f2;\n",
       "            color:  #000000;\n",
       "        }    #T_b6d8aa06_1a39_11ea_9380_a0a4c554f2a3row13_col0 {\n",
       "            background-color:  #fdf5fa;\n",
       "            color:  #000000;\n",
       "        }    #T_b6d8aa06_1a39_11ea_9380_a0a4c554f2a3row13_col1 {\n",
       "            background-color:  #ede7f2;\n",
       "            color:  #000000;\n",
       "        }    #T_b6d8aa06_1a39_11ea_9380_a0a4c554f2a3row13_col2 {\n",
       "            background-color:  #e6e2ef;\n",
       "            color:  #000000;\n",
       "        }    #T_b6d8aa06_1a39_11ea_9380_a0a4c554f2a3row13_col3 {\n",
       "            background-color:  #eae6f1;\n",
       "            color:  #000000;\n",
       "        }    #T_b6d8aa06_1a39_11ea_9380_a0a4c554f2a3row13_col4 {\n",
       "            background-color:  #e7e3f0;\n",
       "            color:  #000000;\n",
       "        }    #T_b6d8aa06_1a39_11ea_9380_a0a4c554f2a3row13_col5 {\n",
       "            background-color:  #d8d7e9;\n",
       "            color:  #000000;\n",
       "        }    #T_b6d8aa06_1a39_11ea_9380_a0a4c554f2a3row13_col6 {\n",
       "            background-color:  #e0dded;\n",
       "            color:  #000000;\n",
       "        }    #T_b6d8aa06_1a39_11ea_9380_a0a4c554f2a3row13_col7 {\n",
       "            background-color:  #e0dded;\n",
       "            color:  #000000;\n",
       "        }    #T_b6d8aa06_1a39_11ea_9380_a0a4c554f2a3row13_col8 {\n",
       "            background-color:  #f6eff7;\n",
       "            color:  #000000;\n",
       "        }    #T_b6d8aa06_1a39_11ea_9380_a0a4c554f2a3row13_col9 {\n",
       "            background-color:  #dad9ea;\n",
       "            color:  #000000;\n",
       "        }    #T_b6d8aa06_1a39_11ea_9380_a0a4c554f2a3row13_col10 {\n",
       "            background-color:  #f5eef6;\n",
       "            color:  #000000;\n",
       "        }    #T_b6d8aa06_1a39_11ea_9380_a0a4c554f2a3row13_col11 {\n",
       "            background-color:  #f5eff6;\n",
       "            color:  #000000;\n",
       "        }    #T_b6d8aa06_1a39_11ea_9380_a0a4c554f2a3row13_col12 {\n",
       "            background-color:  #fcf4fa;\n",
       "            color:  #000000;\n",
       "        }    #T_b6d8aa06_1a39_11ea_9380_a0a4c554f2a3row13_col13 {\n",
       "            background-color:  #e7e3f0;\n",
       "            color:  #000000;\n",
       "        }    #T_b6d8aa06_1a39_11ea_9380_a0a4c554f2a3row13_col14 {\n",
       "            background-color:  #f3edf5;\n",
       "            color:  #000000;\n",
       "        }    #T_b6d8aa06_1a39_11ea_9380_a0a4c554f2a3row13_col15 {\n",
       "            background-color:  #f1ebf5;\n",
       "            color:  #000000;\n",
       "        }    #T_b6d8aa06_1a39_11ea_9380_a0a4c554f2a3row13_col16 {\n",
       "            background-color:  #e0dded;\n",
       "            color:  #000000;\n",
       "        }    #T_b6d8aa06_1a39_11ea_9380_a0a4c554f2a3row13_col17 {\n",
       "            background-color:  #e3e0ee;\n",
       "            color:  #000000;\n",
       "        }    #T_b6d8aa06_1a39_11ea_9380_a0a4c554f2a3row13_col18 {\n",
       "            background-color:  #ede7f2;\n",
       "            color:  #000000;\n",
       "        }    #T_b6d8aa06_1a39_11ea_9380_a0a4c554f2a3row13_col19 {\n",
       "            background-color:  #ede7f2;\n",
       "            color:  #000000;\n",
       "        }    #T_b6d8aa06_1a39_11ea_9380_a0a4c554f2a3row13_col20 {\n",
       "            background-color:  #e9e5f1;\n",
       "            color:  #000000;\n",
       "        }    #T_b6d8aa06_1a39_11ea_9380_a0a4c554f2a3row13_col21 {\n",
       "            background-color:  #e9e5f1;\n",
       "            color:  #000000;\n",
       "        }    #T_b6d8aa06_1a39_11ea_9380_a0a4c554f2a3row13_col22 {\n",
       "            background-color:  #ebe6f2;\n",
       "            color:  #000000;\n",
       "        }    #T_b6d8aa06_1a39_11ea_9380_a0a4c554f2a3row13_col23 {\n",
       "            background-color:  #eee8f3;\n",
       "            color:  #000000;\n",
       "        }    #T_b6d8aa06_1a39_11ea_9380_a0a4c554f2a3row13_col24 {\n",
       "            background-color:  #f1ebf5;\n",
       "            color:  #000000;\n",
       "        }    #T_b6d8aa06_1a39_11ea_9380_a0a4c554f2a3row13_col25 {\n",
       "            background-color:  #f3edf5;\n",
       "            color:  #000000;\n",
       "        }    #T_b6d8aa06_1a39_11ea_9380_a0a4c554f2a3row13_col26 {\n",
       "            background-color:  #e8e4f0;\n",
       "            color:  #000000;\n",
       "        }    #T_b6d8aa06_1a39_11ea_9380_a0a4c554f2a3row14_col0 {\n",
       "            background-color:  #fff7fb;\n",
       "            color:  #000000;\n",
       "        }    #T_b6d8aa06_1a39_11ea_9380_a0a4c554f2a3row14_col1 {\n",
       "            background-color:  #e1dfed;\n",
       "            color:  #000000;\n",
       "        }    #T_b6d8aa06_1a39_11ea_9380_a0a4c554f2a3row14_col2 {\n",
       "            background-color:  #f0eaf4;\n",
       "            color:  #000000;\n",
       "        }    #T_b6d8aa06_1a39_11ea_9380_a0a4c554f2a3row14_col3 {\n",
       "            background-color:  #e0dded;\n",
       "            color:  #000000;\n",
       "        }    #T_b6d8aa06_1a39_11ea_9380_a0a4c554f2a3row14_col4 {\n",
       "            background-color:  #e9e5f1;\n",
       "            color:  #000000;\n",
       "        }    #T_b6d8aa06_1a39_11ea_9380_a0a4c554f2a3row14_col5 {\n",
       "            background-color:  #dfddec;\n",
       "            color:  #000000;\n",
       "        }    #T_b6d8aa06_1a39_11ea_9380_a0a4c554f2a3row14_col6 {\n",
       "            background-color:  #faf3f9;\n",
       "            color:  #000000;\n",
       "        }    #T_b6d8aa06_1a39_11ea_9380_a0a4c554f2a3row14_col7 {\n",
       "            background-color:  #f7f0f7;\n",
       "            color:  #000000;\n",
       "        }    #T_b6d8aa06_1a39_11ea_9380_a0a4c554f2a3row14_col8 {\n",
       "            background-color:  #fbf3f9;\n",
       "            color:  #000000;\n",
       "        }    #T_b6d8aa06_1a39_11ea_9380_a0a4c554f2a3row14_col9 {\n",
       "            background-color:  #f4edf6;\n",
       "            color:  #000000;\n",
       "        }    #T_b6d8aa06_1a39_11ea_9380_a0a4c554f2a3row14_col10 {\n",
       "            background-color:  #f8f1f8;\n",
       "            color:  #000000;\n",
       "        }    #T_b6d8aa06_1a39_11ea_9380_a0a4c554f2a3row14_col11 {\n",
       "            background-color:  #f9f2f8;\n",
       "            color:  #000000;\n",
       "        }    #T_b6d8aa06_1a39_11ea_9380_a0a4c554f2a3row14_col12 {\n",
       "            background-color:  #fef6fb;\n",
       "            color:  #000000;\n",
       "        }    #T_b6d8aa06_1a39_11ea_9380_a0a4c554f2a3row14_col13 {\n",
       "            background-color:  #f4edf6;\n",
       "            color:  #000000;\n",
       "        }    #T_b6d8aa06_1a39_11ea_9380_a0a4c554f2a3row14_col14 {\n",
       "            background-color:  #f6eff7;\n",
       "            color:  #000000;\n",
       "        }    #T_b6d8aa06_1a39_11ea_9380_a0a4c554f2a3row14_col15 {\n",
       "            background-color:  #f7f0f7;\n",
       "            color:  #000000;\n",
       "        }    #T_b6d8aa06_1a39_11ea_9380_a0a4c554f2a3row14_col16 {\n",
       "            background-color:  #f9f2f8;\n",
       "            color:  #000000;\n",
       "        }    #T_b6d8aa06_1a39_11ea_9380_a0a4c554f2a3row14_col17 {\n",
       "            background-color:  #faf2f8;\n",
       "            color:  #000000;\n",
       "        }    #T_b6d8aa06_1a39_11ea_9380_a0a4c554f2a3row14_col18 {\n",
       "            background-color:  #f9f2f8;\n",
       "            color:  #000000;\n",
       "        }    #T_b6d8aa06_1a39_11ea_9380_a0a4c554f2a3row14_col19 {\n",
       "            background-color:  #f8f1f8;\n",
       "            color:  #000000;\n",
       "        }    #T_b6d8aa06_1a39_11ea_9380_a0a4c554f2a3row14_col20 {\n",
       "            background-color:  #f7f0f7;\n",
       "            color:  #000000;\n",
       "        }    #T_b6d8aa06_1a39_11ea_9380_a0a4c554f2a3row14_col21 {\n",
       "            background-color:  #f8f1f8;\n",
       "            color:  #000000;\n",
       "        }    #T_b6d8aa06_1a39_11ea_9380_a0a4c554f2a3row14_col22 {\n",
       "            background-color:  #f7f0f7;\n",
       "            color:  #000000;\n",
       "        }    #T_b6d8aa06_1a39_11ea_9380_a0a4c554f2a3row14_col23 {\n",
       "            background-color:  #f6eff7;\n",
       "            color:  #000000;\n",
       "        }    #T_b6d8aa06_1a39_11ea_9380_a0a4c554f2a3row14_col24 {\n",
       "            background-color:  #f6eff7;\n",
       "            color:  #000000;\n",
       "        }    #T_b6d8aa06_1a39_11ea_9380_a0a4c554f2a3row14_col25 {\n",
       "            background-color:  #f4edf6;\n",
       "            color:  #000000;\n",
       "        }    #T_b6d8aa06_1a39_11ea_9380_a0a4c554f2a3row14_col26 {\n",
       "            background-color:  #f3edf5;\n",
       "            color:  #000000;\n",
       "        }    #T_b6d8aa06_1a39_11ea_9380_a0a4c554f2a3row15_col0 {\n",
       "            background-color:  #f4edf6;\n",
       "            color:  #000000;\n",
       "        }    #T_b6d8aa06_1a39_11ea_9380_a0a4c554f2a3row15_col1 {\n",
       "            background-color:  #ced0e6;\n",
       "            color:  #000000;\n",
       "        }    #T_b6d8aa06_1a39_11ea_9380_a0a4c554f2a3row15_col2 {\n",
       "            background-color:  #e7e3f0;\n",
       "            color:  #000000;\n",
       "        }    #T_b6d8aa06_1a39_11ea_9380_a0a4c554f2a3row15_col3 {\n",
       "            background-color:  #d9d8ea;\n",
       "            color:  #000000;\n",
       "        }    #T_b6d8aa06_1a39_11ea_9380_a0a4c554f2a3row15_col4 {\n",
       "            background-color:  #dddbec;\n",
       "            color:  #000000;\n",
       "        }    #T_b6d8aa06_1a39_11ea_9380_a0a4c554f2a3row15_col5 {\n",
       "            background-color:  #d6d6e9;\n",
       "            color:  #000000;\n",
       "        }    #T_b6d8aa06_1a39_11ea_9380_a0a4c554f2a3row15_col6 {\n",
       "            background-color:  #f8f1f8;\n",
       "            color:  #000000;\n",
       "        }    #T_b6d8aa06_1a39_11ea_9380_a0a4c554f2a3row15_col7 {\n",
       "            background-color:  #f4edf6;\n",
       "            color:  #000000;\n",
       "        }    #T_b6d8aa06_1a39_11ea_9380_a0a4c554f2a3row15_col8 {\n",
       "            background-color:  #fcf4fa;\n",
       "            color:  #000000;\n",
       "        }    #T_b6d8aa06_1a39_11ea_9380_a0a4c554f2a3row15_col9 {\n",
       "            background-color:  #e6e2ef;\n",
       "            color:  #000000;\n",
       "        }    #T_b6d8aa06_1a39_11ea_9380_a0a4c554f2a3row15_col10 {\n",
       "            background-color:  #f8f1f8;\n",
       "            color:  #000000;\n",
       "        }    #T_b6d8aa06_1a39_11ea_9380_a0a4c554f2a3row15_col11 {\n",
       "            background-color:  #f7f0f7;\n",
       "            color:  #000000;\n",
       "        }    #T_b6d8aa06_1a39_11ea_9380_a0a4c554f2a3row15_col12 {\n",
       "            background-color:  #fef6fb;\n",
       "            color:  #000000;\n",
       "        }    #T_b6d8aa06_1a39_11ea_9380_a0a4c554f2a3row15_col13 {\n",
       "            background-color:  #dddbec;\n",
       "            color:  #000000;\n",
       "        }    #T_b6d8aa06_1a39_11ea_9380_a0a4c554f2a3row15_col14 {\n",
       "            background-color:  #ede7f2;\n",
       "            color:  #000000;\n",
       "        }    #T_b6d8aa06_1a39_11ea_9380_a0a4c554f2a3row15_col15 {\n",
       "            background-color:  #ede7f2;\n",
       "            color:  #000000;\n",
       "        }    #T_b6d8aa06_1a39_11ea_9380_a0a4c554f2a3row15_col16 {\n",
       "            background-color:  #f6eff7;\n",
       "            color:  #000000;\n",
       "        }    #T_b6d8aa06_1a39_11ea_9380_a0a4c554f2a3row15_col17 {\n",
       "            background-color:  #f8f1f8;\n",
       "            color:  #000000;\n",
       "        }    #T_b6d8aa06_1a39_11ea_9380_a0a4c554f2a3row15_col18 {\n",
       "            background-color:  #f1ebf5;\n",
       "            color:  #000000;\n",
       "        }    #T_b6d8aa06_1a39_11ea_9380_a0a4c554f2a3row15_col19 {\n",
       "            background-color:  #f0eaf4;\n",
       "            color:  #000000;\n",
       "        }    #T_b6d8aa06_1a39_11ea_9380_a0a4c554f2a3row15_col20 {\n",
       "            background-color:  #eee8f3;\n",
       "            color:  #000000;\n",
       "        }    #T_b6d8aa06_1a39_11ea_9380_a0a4c554f2a3row15_col21 {\n",
       "            background-color:  #ede7f2;\n",
       "            color:  #000000;\n",
       "        }    #T_b6d8aa06_1a39_11ea_9380_a0a4c554f2a3row15_col22 {\n",
       "            background-color:  #efe9f3;\n",
       "            color:  #000000;\n",
       "        }    #T_b6d8aa06_1a39_11ea_9380_a0a4c554f2a3row15_col23 {\n",
       "            background-color:  #ede8f3;\n",
       "            color:  #000000;\n",
       "        }    #T_b6d8aa06_1a39_11ea_9380_a0a4c554f2a3row15_col24 {\n",
       "            background-color:  #eee9f3;\n",
       "            color:  #000000;\n",
       "        }    #T_b6d8aa06_1a39_11ea_9380_a0a4c554f2a3row15_col25 {\n",
       "            background-color:  #f4edf6;\n",
       "            color:  #000000;\n",
       "        }    #T_b6d8aa06_1a39_11ea_9380_a0a4c554f2a3row15_col26 {\n",
       "            background-color:  #dedcec;\n",
       "            color:  #000000;\n",
       "        }    #T_b6d8aa06_1a39_11ea_9380_a0a4c554f2a3row16_col0 {\n",
       "            background-color:  #efe9f3;\n",
       "            color:  #000000;\n",
       "        }    #T_b6d8aa06_1a39_11ea_9380_a0a4c554f2a3row16_col1 {\n",
       "            background-color:  #eae6f1;\n",
       "            color:  #000000;\n",
       "        }    #T_b6d8aa06_1a39_11ea_9380_a0a4c554f2a3row16_col2 {\n",
       "            background-color:  #f5eef6;\n",
       "            color:  #000000;\n",
       "        }    #T_b6d8aa06_1a39_11ea_9380_a0a4c554f2a3row16_col3 {\n",
       "            background-color:  #f6eff7;\n",
       "            color:  #000000;\n",
       "        }    #T_b6d8aa06_1a39_11ea_9380_a0a4c554f2a3row16_col4 {\n",
       "            background-color:  #f8f1f8;\n",
       "            color:  #000000;\n",
       "        }    #T_b6d8aa06_1a39_11ea_9380_a0a4c554f2a3row16_col5 {\n",
       "            background-color:  #d8d7e9;\n",
       "            color:  #000000;\n",
       "        }    #T_b6d8aa06_1a39_11ea_9380_a0a4c554f2a3row16_col6 {\n",
       "            background-color:  #eee8f3;\n",
       "            color:  #000000;\n",
       "        }    #T_b6d8aa06_1a39_11ea_9380_a0a4c554f2a3row16_col7 {\n",
       "            background-color:  #eae6f1;\n",
       "            color:  #000000;\n",
       "        }    #T_b6d8aa06_1a39_11ea_9380_a0a4c554f2a3row16_col8 {\n",
       "            background-color:  #f8f1f8;\n",
       "            color:  #000000;\n",
       "        }    #T_b6d8aa06_1a39_11ea_9380_a0a4c554f2a3row16_col9 {\n",
       "            background-color:  #d0d1e6;\n",
       "            color:  #000000;\n",
       "        }    #T_b6d8aa06_1a39_11ea_9380_a0a4c554f2a3row16_col10 {\n",
       "            background-color:  #f3edf5;\n",
       "            color:  #000000;\n",
       "        }    #T_b6d8aa06_1a39_11ea_9380_a0a4c554f2a3row16_col11 {\n",
       "            background-color:  #f4edf6;\n",
       "            color:  #000000;\n",
       "        }    #T_b6d8aa06_1a39_11ea_9380_a0a4c554f2a3row16_col12 {\n",
       "            background-color:  #fcf4fa;\n",
       "            color:  #000000;\n",
       "        }    #T_b6d8aa06_1a39_11ea_9380_a0a4c554f2a3row16_col13 {\n",
       "            background-color:  #f1ebf4;\n",
       "            color:  #000000;\n",
       "        }    #T_b6d8aa06_1a39_11ea_9380_a0a4c554f2a3row16_col14 {\n",
       "            background-color:  #f5eff6;\n",
       "            color:  #000000;\n",
       "        }    #T_b6d8aa06_1a39_11ea_9380_a0a4c554f2a3row16_col15 {\n",
       "            background-color:  #f4eef6;\n",
       "            color:  #000000;\n",
       "        }    #T_b6d8aa06_1a39_11ea_9380_a0a4c554f2a3row16_col16 {\n",
       "            background-color:  #dedcec;\n",
       "            color:  #000000;\n",
       "        }    #T_b6d8aa06_1a39_11ea_9380_a0a4c554f2a3row16_col17 {\n",
       "            background-color:  #f1ebf4;\n",
       "            color:  #000000;\n",
       "        }    #T_b6d8aa06_1a39_11ea_9380_a0a4c554f2a3row16_col18 {\n",
       "            background-color:  #f1ebf5;\n",
       "            color:  #000000;\n",
       "        }    #T_b6d8aa06_1a39_11ea_9380_a0a4c554f2a3row16_col19 {\n",
       "            background-color:  #f1ebf4;\n",
       "            color:  #000000;\n",
       "        }    #T_b6d8aa06_1a39_11ea_9380_a0a4c554f2a3row16_col20 {\n",
       "            background-color:  #eee8f3;\n",
       "            color:  #000000;\n",
       "        }    #T_b6d8aa06_1a39_11ea_9380_a0a4c554f2a3row16_col21 {\n",
       "            background-color:  #ede8f3;\n",
       "            color:  #000000;\n",
       "        }    #T_b6d8aa06_1a39_11ea_9380_a0a4c554f2a3row16_col22 {\n",
       "            background-color:  #ede8f3;\n",
       "            color:  #000000;\n",
       "        }    #T_b6d8aa06_1a39_11ea_9380_a0a4c554f2a3row16_col23 {\n",
       "            background-color:  #ede7f2;\n",
       "            color:  #000000;\n",
       "        }    #T_b6d8aa06_1a39_11ea_9380_a0a4c554f2a3row16_col24 {\n",
       "            background-color:  #f3edf5;\n",
       "            color:  #000000;\n",
       "        }    #T_b6d8aa06_1a39_11ea_9380_a0a4c554f2a3row16_col25 {\n",
       "            background-color:  #f5eff6;\n",
       "            color:  #000000;\n",
       "        }    #T_b6d8aa06_1a39_11ea_9380_a0a4c554f2a3row16_col26 {\n",
       "            background-color:  #d9d8ea;\n",
       "            color:  #000000;\n",
       "        }    #T_b6d8aa06_1a39_11ea_9380_a0a4c554f2a3row17_col0 {\n",
       "            background-color:  #fdf5fa;\n",
       "            color:  #000000;\n",
       "        }    #T_b6d8aa06_1a39_11ea_9380_a0a4c554f2a3row17_col1 {\n",
       "            background-color:  #e6e2ef;\n",
       "            color:  #000000;\n",
       "        }    #T_b6d8aa06_1a39_11ea_9380_a0a4c554f2a3row17_col2 {\n",
       "            background-color:  #d9d8ea;\n",
       "            color:  #000000;\n",
       "        }    #T_b6d8aa06_1a39_11ea_9380_a0a4c554f2a3row17_col3 {\n",
       "            background-color:  #e4e1ef;\n",
       "            color:  #000000;\n",
       "        }    #T_b6d8aa06_1a39_11ea_9380_a0a4c554f2a3row17_col4 {\n",
       "            background-color:  #e7e3f0;\n",
       "            color:  #000000;\n",
       "        }    #T_b6d8aa06_1a39_11ea_9380_a0a4c554f2a3row17_col5 {\n",
       "            background-color:  #e3e0ee;\n",
       "            color:  #000000;\n",
       "        }    #T_b6d8aa06_1a39_11ea_9380_a0a4c554f2a3row17_col6 {\n",
       "            background-color:  #ede7f2;\n",
       "            color:  #000000;\n",
       "        }    #T_b6d8aa06_1a39_11ea_9380_a0a4c554f2a3row17_col7 {\n",
       "            background-color:  #e6e2ef;\n",
       "            color:  #000000;\n",
       "        }    #T_b6d8aa06_1a39_11ea_9380_a0a4c554f2a3row17_col8 {\n",
       "            background-color:  #faf2f8;\n",
       "            color:  #000000;\n",
       "        }    #T_b6d8aa06_1a39_11ea_9380_a0a4c554f2a3row17_col9 {\n",
       "            background-color:  #eee8f3;\n",
       "            color:  #000000;\n",
       "        }    #T_b6d8aa06_1a39_11ea_9380_a0a4c554f2a3row17_col10 {\n",
       "            background-color:  #f4edf6;\n",
       "            color:  #000000;\n",
       "        }    #T_b6d8aa06_1a39_11ea_9380_a0a4c554f2a3row17_col11 {\n",
       "            background-color:  #f4eef6;\n",
       "            color:  #000000;\n",
       "        }    #T_b6d8aa06_1a39_11ea_9380_a0a4c554f2a3row17_col12 {\n",
       "            background-color:  #fbf3f9;\n",
       "            color:  #000000;\n",
       "        }    #T_b6d8aa06_1a39_11ea_9380_a0a4c554f2a3row17_col13 {\n",
       "            background-color:  #ede7f2;\n",
       "            color:  #000000;\n",
       "        }    #T_b6d8aa06_1a39_11ea_9380_a0a4c554f2a3row17_col14 {\n",
       "            background-color:  #eee9f3;\n",
       "            color:  #000000;\n",
       "        }    #T_b6d8aa06_1a39_11ea_9380_a0a4c554f2a3row17_col15 {\n",
       "            background-color:  #efe9f3;\n",
       "            color:  #000000;\n",
       "        }    #T_b6d8aa06_1a39_11ea_9380_a0a4c554f2a3row17_col16 {\n",
       "            background-color:  #ede8f3;\n",
       "            color:  #000000;\n",
       "        }    #T_b6d8aa06_1a39_11ea_9380_a0a4c554f2a3row17_col17 {\n",
       "            background-color:  #f0eaf4;\n",
       "            color:  #000000;\n",
       "        }    #T_b6d8aa06_1a39_11ea_9380_a0a4c554f2a3row17_col18 {\n",
       "            background-color:  #f3edf5;\n",
       "            color:  #000000;\n",
       "        }    #T_b6d8aa06_1a39_11ea_9380_a0a4c554f2a3row17_col19 {\n",
       "            background-color:  #f2ecf5;\n",
       "            color:  #000000;\n",
       "        }    #T_b6d8aa06_1a39_11ea_9380_a0a4c554f2a3row17_col20 {\n",
       "            background-color:  #f1ebf5;\n",
       "            color:  #000000;\n",
       "        }    #T_b6d8aa06_1a39_11ea_9380_a0a4c554f2a3row17_col21 {\n",
       "            background-color:  #f1ebf4;\n",
       "            color:  #000000;\n",
       "        }    #T_b6d8aa06_1a39_11ea_9380_a0a4c554f2a3row17_col22 {\n",
       "            background-color:  #f2ecf5;\n",
       "            color:  #000000;\n",
       "        }    #T_b6d8aa06_1a39_11ea_9380_a0a4c554f2a3row17_col23 {\n",
       "            background-color:  #f2ecf5;\n",
       "            color:  #000000;\n",
       "        }    #T_b6d8aa06_1a39_11ea_9380_a0a4c554f2a3row17_col24 {\n",
       "            background-color:  #f2ecf5;\n",
       "            color:  #000000;\n",
       "        }    #T_b6d8aa06_1a39_11ea_9380_a0a4c554f2a3row17_col25 {\n",
       "            background-color:  #f6eff7;\n",
       "            color:  #000000;\n",
       "        }    #T_b6d8aa06_1a39_11ea_9380_a0a4c554f2a3row17_col26 {\n",
       "            background-color:  #f3edf5;\n",
       "            color:  #000000;\n",
       "        }    #T_b6d8aa06_1a39_11ea_9380_a0a4c554f2a3row18_col0 {\n",
       "            background-color:  #fcf4fa;\n",
       "            color:  #000000;\n",
       "        }    #T_b6d8aa06_1a39_11ea_9380_a0a4c554f2a3row18_col1 {\n",
       "            background-color:  #ced0e6;\n",
       "            color:  #000000;\n",
       "        }    #T_b6d8aa06_1a39_11ea_9380_a0a4c554f2a3row18_col2 {\n",
       "            background-color:  #cdd0e5;\n",
       "            color:  #000000;\n",
       "        }    #T_b6d8aa06_1a39_11ea_9380_a0a4c554f2a3row18_col3 {\n",
       "            background-color:  #c1cae2;\n",
       "            color:  #000000;\n",
       "        }    #T_b6d8aa06_1a39_11ea_9380_a0a4c554f2a3row18_col4 {\n",
       "            background-color:  #d9d8ea;\n",
       "            color:  #000000;\n",
       "        }    #T_b6d8aa06_1a39_11ea_9380_a0a4c554f2a3row18_col5 {\n",
       "            background-color:  #d6d6e9;\n",
       "            color:  #000000;\n",
       "        }    #T_b6d8aa06_1a39_11ea_9380_a0a4c554f2a3row18_col6 {\n",
       "            background-color:  #e1dfed;\n",
       "            color:  #000000;\n",
       "        }    #T_b6d8aa06_1a39_11ea_9380_a0a4c554f2a3row18_col7 {\n",
       "            background-color:  #d2d3e7;\n",
       "            color:  #000000;\n",
       "        }    #T_b6d8aa06_1a39_11ea_9380_a0a4c554f2a3row18_col8 {\n",
       "            background-color:  #eee9f3;\n",
       "            color:  #000000;\n",
       "        }    #T_b6d8aa06_1a39_11ea_9380_a0a4c554f2a3row18_col9 {\n",
       "            background-color:  #dfddec;\n",
       "            color:  #000000;\n",
       "        }    #T_b6d8aa06_1a39_11ea_9380_a0a4c554f2a3row18_col10 {\n",
       "            background-color:  #f1ebf5;\n",
       "            color:  #000000;\n",
       "        }    #T_b6d8aa06_1a39_11ea_9380_a0a4c554f2a3row18_col11 {\n",
       "            background-color:  #f2ecf5;\n",
       "            color:  #000000;\n",
       "        }    #T_b6d8aa06_1a39_11ea_9380_a0a4c554f2a3row18_col12 {\n",
       "            background-color:  #f7f0f7;\n",
       "            color:  #000000;\n",
       "        }    #T_b6d8aa06_1a39_11ea_9380_a0a4c554f2a3row18_col13 {\n",
       "            background-color:  #e4e1ef;\n",
       "            color:  #000000;\n",
       "        }    #T_b6d8aa06_1a39_11ea_9380_a0a4c554f2a3row18_col14 {\n",
       "            background-color:  #e6e2ef;\n",
       "            color:  #000000;\n",
       "        }    #T_b6d8aa06_1a39_11ea_9380_a0a4c554f2a3row18_col15 {\n",
       "            background-color:  #e7e3f0;\n",
       "            color:  #000000;\n",
       "        }    #T_b6d8aa06_1a39_11ea_9380_a0a4c554f2a3row18_col16 {\n",
       "            background-color:  #e0deed;\n",
       "            color:  #000000;\n",
       "        }    #T_b6d8aa06_1a39_11ea_9380_a0a4c554f2a3row18_col17 {\n",
       "            background-color:  #ebe6f2;\n",
       "            color:  #000000;\n",
       "        }    #T_b6d8aa06_1a39_11ea_9380_a0a4c554f2a3row18_col18 {\n",
       "            background-color:  #ede8f3;\n",
       "            color:  #000000;\n",
       "        }    #T_b6d8aa06_1a39_11ea_9380_a0a4c554f2a3row18_col19 {\n",
       "            background-color:  #eee8f3;\n",
       "            color:  #000000;\n",
       "        }    #T_b6d8aa06_1a39_11ea_9380_a0a4c554f2a3row18_col20 {\n",
       "            background-color:  #ede7f2;\n",
       "            color:  #000000;\n",
       "        }    #T_b6d8aa06_1a39_11ea_9380_a0a4c554f2a3row18_col21 {\n",
       "            background-color:  #e7e3f0;\n",
       "            color:  #000000;\n",
       "        }    #T_b6d8aa06_1a39_11ea_9380_a0a4c554f2a3row18_col22 {\n",
       "            background-color:  #e7e3f0;\n",
       "            color:  #000000;\n",
       "        }    #T_b6d8aa06_1a39_11ea_9380_a0a4c554f2a3row18_col23 {\n",
       "            background-color:  #e8e4f0;\n",
       "            color:  #000000;\n",
       "        }    #T_b6d8aa06_1a39_11ea_9380_a0a4c554f2a3row18_col24 {\n",
       "            background-color:  #ece7f2;\n",
       "            color:  #000000;\n",
       "        }    #T_b6d8aa06_1a39_11ea_9380_a0a4c554f2a3row18_col25 {\n",
       "            background-color:  #f7f0f7;\n",
       "            color:  #000000;\n",
       "        }    #T_b6d8aa06_1a39_11ea_9380_a0a4c554f2a3row18_col26 {\n",
       "            background-color:  #e5e1ef;\n",
       "            color:  #000000;\n",
       "        }    #T_b6d8aa06_1a39_11ea_9380_a0a4c554f2a3row19_col0 {\n",
       "            background-color:  #fff7fb;\n",
       "            color:  #000000;\n",
       "        }    #T_b6d8aa06_1a39_11ea_9380_a0a4c554f2a3row19_col1 {\n",
       "            background-color:  #f8f1f8;\n",
       "            color:  #000000;\n",
       "        }    #T_b6d8aa06_1a39_11ea_9380_a0a4c554f2a3row19_col2 {\n",
       "            background-color:  #fef6fb;\n",
       "            color:  #000000;\n",
       "        }    #T_b6d8aa06_1a39_11ea_9380_a0a4c554f2a3row19_col3 {\n",
       "            background-color:  #fdf5fa;\n",
       "            color:  #000000;\n",
       "        }    #T_b6d8aa06_1a39_11ea_9380_a0a4c554f2a3row19_col4 {\n",
       "            background-color:  #fcf4fa;\n",
       "            color:  #000000;\n",
       "        }    #T_b6d8aa06_1a39_11ea_9380_a0a4c554f2a3row19_col5 {\n",
       "            background-color:  #f7f0f7;\n",
       "            color:  #000000;\n",
       "        }    #T_b6d8aa06_1a39_11ea_9380_a0a4c554f2a3row19_col6 {\n",
       "            background-color:  #fcf4fa;\n",
       "            color:  #000000;\n",
       "        }    #T_b6d8aa06_1a39_11ea_9380_a0a4c554f2a3row19_col7 {\n",
       "            background-color:  #fff7fb;\n",
       "            color:  #000000;\n",
       "        }    #T_b6d8aa06_1a39_11ea_9380_a0a4c554f2a3row19_col8 {\n",
       "            background-color:  #fef6fa;\n",
       "            color:  #000000;\n",
       "        }    #T_b6d8aa06_1a39_11ea_9380_a0a4c554f2a3row19_col9 {\n",
       "            background-color:  #f2ecf5;\n",
       "            color:  #000000;\n",
       "        }    #T_b6d8aa06_1a39_11ea_9380_a0a4c554f2a3row19_col10 {\n",
       "            background-color:  #fbf4f9;\n",
       "            color:  #000000;\n",
       "        }    #T_b6d8aa06_1a39_11ea_9380_a0a4c554f2a3row19_col11 {\n",
       "            background-color:  #fdf5fa;\n",
       "            color:  #000000;\n",
       "        }    #T_b6d8aa06_1a39_11ea_9380_a0a4c554f2a3row19_col12 {\n",
       "            background-color:  #fff7fb;\n",
       "            color:  #000000;\n",
       "        }    #T_b6d8aa06_1a39_11ea_9380_a0a4c554f2a3row19_col13 {\n",
       "            background-color:  #fbf4f9;\n",
       "            color:  #000000;\n",
       "        }    #T_b6d8aa06_1a39_11ea_9380_a0a4c554f2a3row19_col14 {\n",
       "            background-color:  #f2ecf5;\n",
       "            color:  #000000;\n",
       "        }    #T_b6d8aa06_1a39_11ea_9380_a0a4c554f2a3row19_col15 {\n",
       "            background-color:  #f9f2f8;\n",
       "            color:  #000000;\n",
       "        }    #T_b6d8aa06_1a39_11ea_9380_a0a4c554f2a3row19_col16 {\n",
       "            background-color:  #f7f0f7;\n",
       "            color:  #000000;\n",
       "        }    #T_b6d8aa06_1a39_11ea_9380_a0a4c554f2a3row19_col17 {\n",
       "            background-color:  #fbf4f9;\n",
       "            color:  #000000;\n",
       "        }    #T_b6d8aa06_1a39_11ea_9380_a0a4c554f2a3row19_col18 {\n",
       "            background-color:  #faf2f8;\n",
       "            color:  #000000;\n",
       "        }    #T_b6d8aa06_1a39_11ea_9380_a0a4c554f2a3row19_col19 {\n",
       "            background-color:  #f9f2f8;\n",
       "            color:  #000000;\n",
       "        }    #T_b6d8aa06_1a39_11ea_9380_a0a4c554f2a3row19_col20 {\n",
       "            background-color:  #f8f1f8;\n",
       "            color:  #000000;\n",
       "        }    #T_b6d8aa06_1a39_11ea_9380_a0a4c554f2a3row19_col21 {\n",
       "            background-color:  #f7f0f7;\n",
       "            color:  #000000;\n",
       "        }    #T_b6d8aa06_1a39_11ea_9380_a0a4c554f2a3row19_col22 {\n",
       "            background-color:  #f7f0f7;\n",
       "            color:  #000000;\n",
       "        }    #T_b6d8aa06_1a39_11ea_9380_a0a4c554f2a3row19_col23 {\n",
       "            background-color:  #f6eff7;\n",
       "            color:  #000000;\n",
       "        }    #T_b6d8aa06_1a39_11ea_9380_a0a4c554f2a3row19_col24 {\n",
       "            background-color:  #fff7fb;\n",
       "            color:  #000000;\n",
       "        }    #T_b6d8aa06_1a39_11ea_9380_a0a4c554f2a3row19_col25 {\n",
       "            background-color:  #f7f0f7;\n",
       "            color:  #000000;\n",
       "        }    #T_b6d8aa06_1a39_11ea_9380_a0a4c554f2a3row19_col26 {\n",
       "            background-color:  #d9d8ea;\n",
       "            color:  #000000;\n",
       "        }    #T_b6d8aa06_1a39_11ea_9380_a0a4c554f2a3row20_col0 {\n",
       "            background-color:  #ced0e6;\n",
       "            color:  #000000;\n",
       "        }    #T_b6d8aa06_1a39_11ea_9380_a0a4c554f2a3row20_col1 {\n",
       "            background-color:  #a8bedc;\n",
       "            color:  #000000;\n",
       "        }    #T_b6d8aa06_1a39_11ea_9380_a0a4c554f2a3row20_col2 {\n",
       "            background-color:  #d8d7e9;\n",
       "            color:  #000000;\n",
       "        }    #T_b6d8aa06_1a39_11ea_9380_a0a4c554f2a3row20_col3 {\n",
       "            background-color:  #d0d1e6;\n",
       "            color:  #000000;\n",
       "        }    #T_b6d8aa06_1a39_11ea_9380_a0a4c554f2a3row20_col4 {\n",
       "            background-color:  #d9d8ea;\n",
       "            color:  #000000;\n",
       "        }    #T_b6d8aa06_1a39_11ea_9380_a0a4c554f2a3row20_col5 {\n",
       "            background-color:  #dddbec;\n",
       "            color:  #000000;\n",
       "        }    #T_b6d8aa06_1a39_11ea_9380_a0a4c554f2a3row20_col6 {\n",
       "            background-color:  #eee8f3;\n",
       "            color:  #000000;\n",
       "        }    #T_b6d8aa06_1a39_11ea_9380_a0a4c554f2a3row20_col7 {\n",
       "            background-color:  #d3d4e7;\n",
       "            color:  #000000;\n",
       "        }    #T_b6d8aa06_1a39_11ea_9380_a0a4c554f2a3row20_col8 {\n",
       "            background-color:  #d9d8ea;\n",
       "            color:  #000000;\n",
       "        }    #T_b6d8aa06_1a39_11ea_9380_a0a4c554f2a3row20_col9 {\n",
       "            background-color:  #80aed2;\n",
       "            color:  #000000;\n",
       "        }    #T_b6d8aa06_1a39_11ea_9380_a0a4c554f2a3row20_col10 {\n",
       "            background-color:  #cdd0e5;\n",
       "            color:  #000000;\n",
       "        }    #T_b6d8aa06_1a39_11ea_9380_a0a4c554f2a3row20_col11 {\n",
       "            background-color:  #f3edf5;\n",
       "            color:  #000000;\n",
       "        }    #T_b6d8aa06_1a39_11ea_9380_a0a4c554f2a3row20_col12 {\n",
       "            background-color:  #056caa;\n",
       "            color:  #f1f1f1;\n",
       "        }    #T_b6d8aa06_1a39_11ea_9380_a0a4c554f2a3row20_col13 {\n",
       "            background-color:  #d3d4e7;\n",
       "            color:  #000000;\n",
       "        }    #T_b6d8aa06_1a39_11ea_9380_a0a4c554f2a3row20_col14 {\n",
       "            background-color:  #eee9f3;\n",
       "            color:  #000000;\n",
       "        }    #T_b6d8aa06_1a39_11ea_9380_a0a4c554f2a3row20_col15 {\n",
       "            background-color:  #dfddec;\n",
       "            color:  #000000;\n",
       "        }    #T_b6d8aa06_1a39_11ea_9380_a0a4c554f2a3row20_col16 {\n",
       "            background-color:  #b7c5df;\n",
       "            color:  #000000;\n",
       "        }    #T_b6d8aa06_1a39_11ea_9380_a0a4c554f2a3row20_col17 {\n",
       "            background-color:  #c1cae2;\n",
       "            color:  #000000;\n",
       "        }    #T_b6d8aa06_1a39_11ea_9380_a0a4c554f2a3row20_col18 {\n",
       "            background-color:  #efe9f3;\n",
       "            color:  #000000;\n",
       "        }    #T_b6d8aa06_1a39_11ea_9380_a0a4c554f2a3row20_col19 {\n",
       "            background-color:  #e4e1ef;\n",
       "            color:  #000000;\n",
       "        }    #T_b6d8aa06_1a39_11ea_9380_a0a4c554f2a3row20_col20 {\n",
       "            background-color:  #ede8f3;\n",
       "            color:  #000000;\n",
       "        }    #T_b6d8aa06_1a39_11ea_9380_a0a4c554f2a3row20_col21 {\n",
       "            background-color:  #e1dfed;\n",
       "            color:  #000000;\n",
       "        }    #T_b6d8aa06_1a39_11ea_9380_a0a4c554f2a3row20_col22 {\n",
       "            background-color:  #ebe6f2;\n",
       "            color:  #000000;\n",
       "        }    #T_b6d8aa06_1a39_11ea_9380_a0a4c554f2a3row20_col23 {\n",
       "            background-color:  #f2ecf5;\n",
       "            color:  #000000;\n",
       "        }    #T_b6d8aa06_1a39_11ea_9380_a0a4c554f2a3row20_col24 {\n",
       "            background-color:  #f4edf6;\n",
       "            color:  #000000;\n",
       "        }    #T_b6d8aa06_1a39_11ea_9380_a0a4c554f2a3row20_col25 {\n",
       "            background-color:  #f7f0f7;\n",
       "            color:  #000000;\n",
       "        }    #T_b6d8aa06_1a39_11ea_9380_a0a4c554f2a3row20_col26 {\n",
       "            background-color:  #7eadd1;\n",
       "            color:  #000000;\n",
       "        }    #T_b6d8aa06_1a39_11ea_9380_a0a4c554f2a3row21_col0 {\n",
       "            background-color:  #fff7fb;\n",
       "            color:  #000000;\n",
       "        }    #T_b6d8aa06_1a39_11ea_9380_a0a4c554f2a3row21_col1 {\n",
       "            background-color:  #f7f0f7;\n",
       "            color:  #000000;\n",
       "        }    #T_b6d8aa06_1a39_11ea_9380_a0a4c554f2a3row21_col2 {\n",
       "            background-color:  #f0eaf4;\n",
       "            color:  #000000;\n",
       "        }    #T_b6d8aa06_1a39_11ea_9380_a0a4c554f2a3row21_col3 {\n",
       "            background-color:  #f7f0f7;\n",
       "            color:  #000000;\n",
       "        }    #T_b6d8aa06_1a39_11ea_9380_a0a4c554f2a3row21_col4 {\n",
       "            background-color:  #f7f0f7;\n",
       "            color:  #000000;\n",
       "        }    #T_b6d8aa06_1a39_11ea_9380_a0a4c554f2a3row21_col5 {\n",
       "            background-color:  #f5eff6;\n",
       "            color:  #000000;\n",
       "        }    #T_b6d8aa06_1a39_11ea_9380_a0a4c554f2a3row21_col6 {\n",
       "            background-color:  #fef6fa;\n",
       "            color:  #000000;\n",
       "        }    #T_b6d8aa06_1a39_11ea_9380_a0a4c554f2a3row21_col7 {\n",
       "            background-color:  #fff7fb;\n",
       "            color:  #000000;\n",
       "        }    #T_b6d8aa06_1a39_11ea_9380_a0a4c554f2a3row21_col8 {\n",
       "            background-color:  #fdf5fa;\n",
       "            color:  #000000;\n",
       "        }    #T_b6d8aa06_1a39_11ea_9380_a0a4c554f2a3row21_col9 {\n",
       "            background-color:  #f9f2f8;\n",
       "            color:  #000000;\n",
       "        }    #T_b6d8aa06_1a39_11ea_9380_a0a4c554f2a3row21_col10 {\n",
       "            background-color:  #fef6fb;\n",
       "            color:  #000000;\n",
       "        }    #T_b6d8aa06_1a39_11ea_9380_a0a4c554f2a3row21_col11 {\n",
       "            background-color:  #fef6fa;\n",
       "            color:  #000000;\n",
       "        }    #T_b6d8aa06_1a39_11ea_9380_a0a4c554f2a3row21_col12 {\n",
       "            background-color:  #fef6fb;\n",
       "            color:  #000000;\n",
       "        }    #T_b6d8aa06_1a39_11ea_9380_a0a4c554f2a3row21_col13 {\n",
       "            background-color:  #fbf4f9;\n",
       "            color:  #000000;\n",
       "        }    #T_b6d8aa06_1a39_11ea_9380_a0a4c554f2a3row21_col14 {\n",
       "            background-color:  #fef6fa;\n",
       "            color:  #000000;\n",
       "        }    #T_b6d8aa06_1a39_11ea_9380_a0a4c554f2a3row21_col15 {\n",
       "            background-color:  #fdf5fa;\n",
       "            color:  #000000;\n",
       "        }    #T_b6d8aa06_1a39_11ea_9380_a0a4c554f2a3row21_col16 {\n",
       "            background-color:  #f8f1f8;\n",
       "            color:  #000000;\n",
       "        }    #T_b6d8aa06_1a39_11ea_9380_a0a4c554f2a3row21_col17 {\n",
       "            background-color:  #faf2f8;\n",
       "            color:  #000000;\n",
       "        }    #T_b6d8aa06_1a39_11ea_9380_a0a4c554f2a3row21_col18 {\n",
       "            background-color:  #f4edf6;\n",
       "            color:  #000000;\n",
       "        }    #T_b6d8aa06_1a39_11ea_9380_a0a4c554f2a3row21_col19 {\n",
       "            background-color:  #f1ebf4;\n",
       "            color:  #000000;\n",
       "        }    #T_b6d8aa06_1a39_11ea_9380_a0a4c554f2a3row21_col20 {\n",
       "            background-color:  #f2ecf5;\n",
       "            color:  #000000;\n",
       "        }    #T_b6d8aa06_1a39_11ea_9380_a0a4c554f2a3row21_col21 {\n",
       "            background-color:  #f0eaf4;\n",
       "            color:  #000000;\n",
       "        }    #T_b6d8aa06_1a39_11ea_9380_a0a4c554f2a3row21_col22 {\n",
       "            background-color:  #f1ebf5;\n",
       "            color:  #000000;\n",
       "        }    #T_b6d8aa06_1a39_11ea_9380_a0a4c554f2a3row21_col23 {\n",
       "            background-color:  #f1ebf5;\n",
       "            color:  #000000;\n",
       "        }    #T_b6d8aa06_1a39_11ea_9380_a0a4c554f2a3row21_col24 {\n",
       "            background-color:  #f8f1f8;\n",
       "            color:  #000000;\n",
       "        }    #T_b6d8aa06_1a39_11ea_9380_a0a4c554f2a3row21_col25 {\n",
       "            background-color:  #f8f1f8;\n",
       "            color:  #000000;\n",
       "        }    #T_b6d8aa06_1a39_11ea_9380_a0a4c554f2a3row21_col26 {\n",
       "            background-color:  #fff7fb;\n",
       "            color:  #000000;\n",
       "        }    #T_b6d8aa06_1a39_11ea_9380_a0a4c554f2a3row22_col0 {\n",
       "            background-color:  #fff7fb;\n",
       "            color:  #000000;\n",
       "        }    #T_b6d8aa06_1a39_11ea_9380_a0a4c554f2a3row22_col1 {\n",
       "            background-color:  #f5eff6;\n",
       "            color:  #000000;\n",
       "        }    #T_b6d8aa06_1a39_11ea_9380_a0a4c554f2a3row22_col2 {\n",
       "            background-color:  #f8f1f8;\n",
       "            color:  #000000;\n",
       "        }    #T_b6d8aa06_1a39_11ea_9380_a0a4c554f2a3row22_col3 {\n",
       "            background-color:  #faf3f9;\n",
       "            color:  #000000;\n",
       "        }    #T_b6d8aa06_1a39_11ea_9380_a0a4c554f2a3row22_col4 {\n",
       "            background-color:  #fbf4f9;\n",
       "            color:  #000000;\n",
       "        }    #T_b6d8aa06_1a39_11ea_9380_a0a4c554f2a3row22_col5 {\n",
       "            background-color:  #efe9f3;\n",
       "            color:  #000000;\n",
       "        }    #T_b6d8aa06_1a39_11ea_9380_a0a4c554f2a3row22_col6 {\n",
       "            background-color:  #fbf4f9;\n",
       "            color:  #000000;\n",
       "        }    #T_b6d8aa06_1a39_11ea_9380_a0a4c554f2a3row22_col7 {\n",
       "            background-color:  #fbf4f9;\n",
       "            color:  #000000;\n",
       "        }    #T_b6d8aa06_1a39_11ea_9380_a0a4c554f2a3row22_col8 {\n",
       "            background-color:  #fdf5fa;\n",
       "            color:  #000000;\n",
       "        }    #T_b6d8aa06_1a39_11ea_9380_a0a4c554f2a3row22_col9 {\n",
       "            background-color:  #fbf3f9;\n",
       "            color:  #000000;\n",
       "        }    #T_b6d8aa06_1a39_11ea_9380_a0a4c554f2a3row22_col10 {\n",
       "            background-color:  #fef6fa;\n",
       "            color:  #000000;\n",
       "        }    #T_b6d8aa06_1a39_11ea_9380_a0a4c554f2a3row22_col11 {\n",
       "            background-color:  #fdf5fa;\n",
       "            color:  #000000;\n",
       "        }    #T_b6d8aa06_1a39_11ea_9380_a0a4c554f2a3row22_col12 {\n",
       "            background-color:  #fff7fb;\n",
       "            color:  #000000;\n",
       "        }    #T_b6d8aa06_1a39_11ea_9380_a0a4c554f2a3row22_col13 {\n",
       "            background-color:  #fdf5fa;\n",
       "            color:  #000000;\n",
       "        }    #T_b6d8aa06_1a39_11ea_9380_a0a4c554f2a3row22_col14 {\n",
       "            background-color:  #fcf4fa;\n",
       "            color:  #000000;\n",
       "        }    #T_b6d8aa06_1a39_11ea_9380_a0a4c554f2a3row22_col15 {\n",
       "            background-color:  #fbf4f9;\n",
       "            color:  #000000;\n",
       "        }    #T_b6d8aa06_1a39_11ea_9380_a0a4c554f2a3row22_col16 {\n",
       "            background-color:  #fbf3f9;\n",
       "            color:  #000000;\n",
       "        }    #T_b6d8aa06_1a39_11ea_9380_a0a4c554f2a3row22_col17 {\n",
       "            background-color:  #fbf4f9;\n",
       "            color:  #000000;\n",
       "        }    #T_b6d8aa06_1a39_11ea_9380_a0a4c554f2a3row22_col18 {\n",
       "            background-color:  #fbf4f9;\n",
       "            color:  #000000;\n",
       "        }    #T_b6d8aa06_1a39_11ea_9380_a0a4c554f2a3row22_col19 {\n",
       "            background-color:  #fbf4f9;\n",
       "            color:  #000000;\n",
       "        }    #T_b6d8aa06_1a39_11ea_9380_a0a4c554f2a3row22_col20 {\n",
       "            background-color:  #fbf3f9;\n",
       "            color:  #000000;\n",
       "        }    #T_b6d8aa06_1a39_11ea_9380_a0a4c554f2a3row22_col21 {\n",
       "            background-color:  #fbf3f9;\n",
       "            color:  #000000;\n",
       "        }    #T_b6d8aa06_1a39_11ea_9380_a0a4c554f2a3row22_col22 {\n",
       "            background-color:  #fbf4f9;\n",
       "            color:  #000000;\n",
       "        }    #T_b6d8aa06_1a39_11ea_9380_a0a4c554f2a3row22_col23 {\n",
       "            background-color:  #faf3f9;\n",
       "            color:  #000000;\n",
       "        }    #T_b6d8aa06_1a39_11ea_9380_a0a4c554f2a3row22_col24 {\n",
       "            background-color:  #fbf4f9;\n",
       "            color:  #000000;\n",
       "        }    #T_b6d8aa06_1a39_11ea_9380_a0a4c554f2a3row22_col25 {\n",
       "            background-color:  #f8f1f8;\n",
       "            color:  #000000;\n",
       "        }    #T_b6d8aa06_1a39_11ea_9380_a0a4c554f2a3row22_col26 {\n",
       "            background-color:  #faf3f9;\n",
       "            color:  #000000;\n",
       "        }    #T_b6d8aa06_1a39_11ea_9380_a0a4c554f2a3row23_col0 {\n",
       "            background-color:  #fff7fb;\n",
       "            color:  #000000;\n",
       "        }    #T_b6d8aa06_1a39_11ea_9380_a0a4c554f2a3row23_col1 {\n",
       "            background-color:  #e1dfed;\n",
       "            color:  #000000;\n",
       "        }    #T_b6d8aa06_1a39_11ea_9380_a0a4c554f2a3row23_col2 {\n",
       "            background-color:  #ede8f3;\n",
       "            color:  #000000;\n",
       "        }    #T_b6d8aa06_1a39_11ea_9380_a0a4c554f2a3row23_col3 {\n",
       "            background-color:  #fbf3f9;\n",
       "            color:  #000000;\n",
       "        }    #T_b6d8aa06_1a39_11ea_9380_a0a4c554f2a3row23_col4 {\n",
       "            background-color:  #f8f1f8;\n",
       "            color:  #000000;\n",
       "        }    #T_b6d8aa06_1a39_11ea_9380_a0a4c554f2a3row23_col5 {\n",
       "            background-color:  #e7e3f0;\n",
       "            color:  #000000;\n",
       "        }    #T_b6d8aa06_1a39_11ea_9380_a0a4c554f2a3row23_col6 {\n",
       "            background-color:  #fff7fb;\n",
       "            color:  #000000;\n",
       "        }    #T_b6d8aa06_1a39_11ea_9380_a0a4c554f2a3row23_col7 {\n",
       "            background-color:  #efe9f3;\n",
       "            color:  #000000;\n",
       "        }    #T_b6d8aa06_1a39_11ea_9380_a0a4c554f2a3row23_col8 {\n",
       "            background-color:  #ede8f3;\n",
       "            color:  #000000;\n",
       "        }    #T_b6d8aa06_1a39_11ea_9380_a0a4c554f2a3row23_col9 {\n",
       "            background-color:  #dfddec;\n",
       "            color:  #000000;\n",
       "        }    #T_b6d8aa06_1a39_11ea_9380_a0a4c554f2a3row23_col10 {\n",
       "            background-color:  #f7f0f7;\n",
       "            color:  #000000;\n",
       "        }    #T_b6d8aa06_1a39_11ea_9380_a0a4c554f2a3row23_col11 {\n",
       "            background-color:  #f8f1f8;\n",
       "            color:  #000000;\n",
       "        }    #T_b6d8aa06_1a39_11ea_9380_a0a4c554f2a3row23_col12 {\n",
       "            background-color:  #fdf5fa;\n",
       "            color:  #000000;\n",
       "        }    #T_b6d8aa06_1a39_11ea_9380_a0a4c554f2a3row23_col13 {\n",
       "            background-color:  #eee9f3;\n",
       "            color:  #000000;\n",
       "        }    #T_b6d8aa06_1a39_11ea_9380_a0a4c554f2a3row23_col14 {\n",
       "            background-color:  #f2ecf5;\n",
       "            color:  #000000;\n",
       "        }    #T_b6d8aa06_1a39_11ea_9380_a0a4c554f2a3row23_col15 {\n",
       "            background-color:  #f5eff6;\n",
       "            color:  #000000;\n",
       "        }    #T_b6d8aa06_1a39_11ea_9380_a0a4c554f2a3row23_col16 {\n",
       "            background-color:  #f2ecf5;\n",
       "            color:  #000000;\n",
       "        }    #T_b6d8aa06_1a39_11ea_9380_a0a4c554f2a3row23_col17 {\n",
       "            background-color:  #f6eff7;\n",
       "            color:  #000000;\n",
       "        }    #T_b6d8aa06_1a39_11ea_9380_a0a4c554f2a3row23_col18 {\n",
       "            background-color:  #f5eef6;\n",
       "            color:  #000000;\n",
       "        }    #T_b6d8aa06_1a39_11ea_9380_a0a4c554f2a3row23_col19 {\n",
       "            background-color:  #f4eef6;\n",
       "            color:  #000000;\n",
       "        }    #T_b6d8aa06_1a39_11ea_9380_a0a4c554f2a3row23_col20 {\n",
       "            background-color:  #f3edf5;\n",
       "            color:  #000000;\n",
       "        }    #T_b6d8aa06_1a39_11ea_9380_a0a4c554f2a3row23_col21 {\n",
       "            background-color:  #f1ebf5;\n",
       "            color:  #000000;\n",
       "        }    #T_b6d8aa06_1a39_11ea_9380_a0a4c554f2a3row23_col22 {\n",
       "            background-color:  #f2ecf5;\n",
       "            color:  #000000;\n",
       "        }    #T_b6d8aa06_1a39_11ea_9380_a0a4c554f2a3row23_col23 {\n",
       "            background-color:  #f3edf5;\n",
       "            color:  #000000;\n",
       "        }    #T_b6d8aa06_1a39_11ea_9380_a0a4c554f2a3row23_col24 {\n",
       "            background-color:  #f6eff7;\n",
       "            color:  #000000;\n",
       "        }    #T_b6d8aa06_1a39_11ea_9380_a0a4c554f2a3row23_col25 {\n",
       "            background-color:  #f8f1f8;\n",
       "            color:  #000000;\n",
       "        }    #T_b6d8aa06_1a39_11ea_9380_a0a4c554f2a3row23_col26 {\n",
       "            background-color:  #e0deed;\n",
       "            color:  #000000;\n",
       "        }    #T_b6d8aa06_1a39_11ea_9380_a0a4c554f2a3row24_col0 {\n",
       "            background-color:  #fef6fb;\n",
       "            color:  #000000;\n",
       "        }    #T_b6d8aa06_1a39_11ea_9380_a0a4c554f2a3row24_col1 {\n",
       "            background-color:  #f5eef6;\n",
       "            color:  #000000;\n",
       "        }    #T_b6d8aa06_1a39_11ea_9380_a0a4c554f2a3row24_col2 {\n",
       "            background-color:  #fdf5fa;\n",
       "            color:  #000000;\n",
       "        }    #T_b6d8aa06_1a39_11ea_9380_a0a4c554f2a3row24_col3 {\n",
       "            background-color:  #f9f2f8;\n",
       "            color:  #000000;\n",
       "        }    #T_b6d8aa06_1a39_11ea_9380_a0a4c554f2a3row24_col4 {\n",
       "            background-color:  #f8f1f8;\n",
       "            color:  #000000;\n",
       "        }    #T_b6d8aa06_1a39_11ea_9380_a0a4c554f2a3row24_col5 {\n",
       "            background-color:  #f4edf6;\n",
       "            color:  #000000;\n",
       "        }    #T_b6d8aa06_1a39_11ea_9380_a0a4c554f2a3row24_col6 {\n",
       "            background-color:  #fef6fa;\n",
       "            color:  #000000;\n",
       "        }    #T_b6d8aa06_1a39_11ea_9380_a0a4c554f2a3row24_col7 {\n",
       "            background-color:  #e2dfee;\n",
       "            color:  #000000;\n",
       "        }    #T_b6d8aa06_1a39_11ea_9380_a0a4c554f2a3row24_col8 {\n",
       "            background-color:  #fef6fb;\n",
       "            color:  #000000;\n",
       "        }    #T_b6d8aa06_1a39_11ea_9380_a0a4c554f2a3row24_col9 {\n",
       "            background-color:  #fff7fb;\n",
       "            color:  #000000;\n",
       "        }    #T_b6d8aa06_1a39_11ea_9380_a0a4c554f2a3row24_col10 {\n",
       "            background-color:  #fef6fb;\n",
       "            color:  #000000;\n",
       "        }    #T_b6d8aa06_1a39_11ea_9380_a0a4c554f2a3row24_col11 {\n",
       "            background-color:  #fff7fb;\n",
       "            color:  #000000;\n",
       "        }    #T_b6d8aa06_1a39_11ea_9380_a0a4c554f2a3row24_col12 {\n",
       "            background-color:  #fff7fb;\n",
       "            color:  #000000;\n",
       "        }    #T_b6d8aa06_1a39_11ea_9380_a0a4c554f2a3row24_col13 {\n",
       "            background-color:  #fef6fa;\n",
       "            color:  #000000;\n",
       "        }    #T_b6d8aa06_1a39_11ea_9380_a0a4c554f2a3row24_col14 {\n",
       "            background-color:  #fdf5fa;\n",
       "            color:  #000000;\n",
       "        }    #T_b6d8aa06_1a39_11ea_9380_a0a4c554f2a3row24_col15 {\n",
       "            background-color:  #fdf5fa;\n",
       "            color:  #000000;\n",
       "        }    #T_b6d8aa06_1a39_11ea_9380_a0a4c554f2a3row24_col16 {\n",
       "            background-color:  #fef6fb;\n",
       "            color:  #000000;\n",
       "        }    #T_b6d8aa06_1a39_11ea_9380_a0a4c554f2a3row24_col17 {\n",
       "            background-color:  #fef6fb;\n",
       "            color:  #000000;\n",
       "        }    #T_b6d8aa06_1a39_11ea_9380_a0a4c554f2a3row24_col18 {\n",
       "            background-color:  #fef6fb;\n",
       "            color:  #000000;\n",
       "        }    #T_b6d8aa06_1a39_11ea_9380_a0a4c554f2a3row24_col19 {\n",
       "            background-color:  #fef6fa;\n",
       "            color:  #000000;\n",
       "        }    #T_b6d8aa06_1a39_11ea_9380_a0a4c554f2a3row24_col20 {\n",
       "            background-color:  #fef6fb;\n",
       "            color:  #000000;\n",
       "        }    #T_b6d8aa06_1a39_11ea_9380_a0a4c554f2a3row24_col21 {\n",
       "            background-color:  #fef6fb;\n",
       "            color:  #000000;\n",
       "        }    #T_b6d8aa06_1a39_11ea_9380_a0a4c554f2a3row24_col22 {\n",
       "            background-color:  #fef6fb;\n",
       "            color:  #000000;\n",
       "        }    #T_b6d8aa06_1a39_11ea_9380_a0a4c554f2a3row24_col23 {\n",
       "            background-color:  #fef6fb;\n",
       "            color:  #000000;\n",
       "        }    #T_b6d8aa06_1a39_11ea_9380_a0a4c554f2a3row24_col24 {\n",
       "            background-color:  #f2ecf5;\n",
       "            color:  #000000;\n",
       "        }    #T_b6d8aa06_1a39_11ea_9380_a0a4c554f2a3row24_col25 {\n",
       "            background-color:  #f8f1f8;\n",
       "            color:  #000000;\n",
       "        }    #T_b6d8aa06_1a39_11ea_9380_a0a4c554f2a3row24_col26 {\n",
       "            background-color:  #f7f0f7;\n",
       "            color:  #000000;\n",
       "        }    #T_b6d8aa06_1a39_11ea_9380_a0a4c554f2a3row25_col0 {\n",
       "            background-color:  #f9f2f8;\n",
       "            color:  #000000;\n",
       "        }    #T_b6d8aa06_1a39_11ea_9380_a0a4c554f2a3row25_col1 {\n",
       "            background-color:  #c2cbe2;\n",
       "            color:  #000000;\n",
       "        }    #T_b6d8aa06_1a39_11ea_9380_a0a4c554f2a3row25_col2 {\n",
       "            background-color:  #f0eaf4;\n",
       "            color:  #000000;\n",
       "        }    #T_b6d8aa06_1a39_11ea_9380_a0a4c554f2a3row25_col3 {\n",
       "            background-color:  #f3edf5;\n",
       "            color:  #000000;\n",
       "        }    #T_b6d8aa06_1a39_11ea_9380_a0a4c554f2a3row25_col4 {\n",
       "            background-color:  #e7e3f0;\n",
       "            color:  #000000;\n",
       "        }    #T_b6d8aa06_1a39_11ea_9380_a0a4c554f2a3row25_col5 {\n",
       "            background-color:  #ede7f2;\n",
       "            color:  #000000;\n",
       "        }    #T_b6d8aa06_1a39_11ea_9380_a0a4c554f2a3row25_col6 {\n",
       "            background-color:  #f5eef6;\n",
       "            color:  #000000;\n",
       "        }    #T_b6d8aa06_1a39_11ea_9380_a0a4c554f2a3row25_col7 {\n",
       "            background-color:  #e2dfee;\n",
       "            color:  #000000;\n",
       "        }    #T_b6d8aa06_1a39_11ea_9380_a0a4c554f2a3row25_col8 {\n",
       "            background-color:  #fef6fb;\n",
       "            color:  #000000;\n",
       "        }    #T_b6d8aa06_1a39_11ea_9380_a0a4c554f2a3row25_col9 {\n",
       "            background-color:  #fff7fb;\n",
       "            color:  #000000;\n",
       "        }    #T_b6d8aa06_1a39_11ea_9380_a0a4c554f2a3row25_col10 {\n",
       "            background-color:  #fef6fb;\n",
       "            color:  #000000;\n",
       "        }    #T_b6d8aa06_1a39_11ea_9380_a0a4c554f2a3row25_col11 {\n",
       "            background-color:  #fff7fb;\n",
       "            color:  #000000;\n",
       "        }    #T_b6d8aa06_1a39_11ea_9380_a0a4c554f2a3row25_col12 {\n",
       "            background-color:  #fff7fb;\n",
       "            color:  #000000;\n",
       "        }    #T_b6d8aa06_1a39_11ea_9380_a0a4c554f2a3row25_col13 {\n",
       "            background-color:  #eae6f1;\n",
       "            color:  #000000;\n",
       "        }    #T_b6d8aa06_1a39_11ea_9380_a0a4c554f2a3row25_col14 {\n",
       "            background-color:  #e4e1ef;\n",
       "            color:  #000000;\n",
       "        }    #T_b6d8aa06_1a39_11ea_9380_a0a4c554f2a3row25_col15 {\n",
       "            background-color:  #e1dfed;\n",
       "            color:  #000000;\n",
       "        }    #T_b6d8aa06_1a39_11ea_9380_a0a4c554f2a3row25_col16 {\n",
       "            background-color:  #f6eff7;\n",
       "            color:  #000000;\n",
       "        }    #T_b6d8aa06_1a39_11ea_9380_a0a4c554f2a3row25_col17 {\n",
       "            background-color:  #eee8f3;\n",
       "            color:  #000000;\n",
       "        }    #T_b6d8aa06_1a39_11ea_9380_a0a4c554f2a3row25_col18 {\n",
       "            background-color:  #fef6fb;\n",
       "            color:  #000000;\n",
       "        }    #T_b6d8aa06_1a39_11ea_9380_a0a4c554f2a3row25_col19 {\n",
       "            background-color:  #fdf5fa;\n",
       "            color:  #000000;\n",
       "        }    #T_b6d8aa06_1a39_11ea_9380_a0a4c554f2a3row25_col20 {\n",
       "            background-color:  #fef6fa;\n",
       "            color:  #000000;\n",
       "        }    #T_b6d8aa06_1a39_11ea_9380_a0a4c554f2a3row25_col21 {\n",
       "            background-color:  #fef6fb;\n",
       "            color:  #000000;\n",
       "        }    #T_b6d8aa06_1a39_11ea_9380_a0a4c554f2a3row25_col22 {\n",
       "            background-color:  #fef6fb;\n",
       "            color:  #000000;\n",
       "        }    #T_b6d8aa06_1a39_11ea_9380_a0a4c554f2a3row25_col23 {\n",
       "            background-color:  #fef6fa;\n",
       "            color:  #000000;\n",
       "        }    #T_b6d8aa06_1a39_11ea_9380_a0a4c554f2a3row25_col24 {\n",
       "            background-color:  #f2ecf5;\n",
       "            color:  #000000;\n",
       "        }    #T_b6d8aa06_1a39_11ea_9380_a0a4c554f2a3row25_col25 {\n",
       "            background-color:  #f8f1f8;\n",
       "            color:  #000000;\n",
       "        }    #T_b6d8aa06_1a39_11ea_9380_a0a4c554f2a3row25_col26 {\n",
       "            background-color:  #eee9f3;\n",
       "            color:  #000000;\n",
       "        }    #T_b6d8aa06_1a39_11ea_9380_a0a4c554f2a3row26_col0 {\n",
       "            background-color:  #e8e4f0;\n",
       "            color:  #000000;\n",
       "        }    #T_b6d8aa06_1a39_11ea_9380_a0a4c554f2a3row26_col1 {\n",
       "            background-color:  #e7e3f0;\n",
       "            color:  #000000;\n",
       "        }    #T_b6d8aa06_1a39_11ea_9380_a0a4c554f2a3row26_col2 {\n",
       "            background-color:  #d9d8ea;\n",
       "            color:  #000000;\n",
       "        }    #T_b6d8aa06_1a39_11ea_9380_a0a4c554f2a3row26_col3 {\n",
       "            background-color:  #dad9ea;\n",
       "            color:  #000000;\n",
       "        }    #T_b6d8aa06_1a39_11ea_9380_a0a4c554f2a3row26_col4 {\n",
       "            background-color:  #e1dfed;\n",
       "            color:  #000000;\n",
       "        }    #T_b6d8aa06_1a39_11ea_9380_a0a4c554f2a3row26_col5 {\n",
       "            background-color:  #f4edf6;\n",
       "            color:  #000000;\n",
       "        }    #T_b6d8aa06_1a39_11ea_9380_a0a4c554f2a3row26_col6 {\n",
       "            background-color:  #faf2f8;\n",
       "            color:  #000000;\n",
       "        }    #T_b6d8aa06_1a39_11ea_9380_a0a4c554f2a3row26_col7 {\n",
       "            background-color:  #faf2f8;\n",
       "            color:  #000000;\n",
       "        }    #T_b6d8aa06_1a39_11ea_9380_a0a4c554f2a3row26_col8 {\n",
       "            background-color:  #fbf3f9;\n",
       "            color:  #000000;\n",
       "        }    #T_b6d8aa06_1a39_11ea_9380_a0a4c554f2a3row26_col9 {\n",
       "            background-color:  #ebe6f2;\n",
       "            color:  #000000;\n",
       "        }    #T_b6d8aa06_1a39_11ea_9380_a0a4c554f2a3row26_col10 {\n",
       "            background-color:  #f8f1f8;\n",
       "            color:  #000000;\n",
       "        }    #T_b6d8aa06_1a39_11ea_9380_a0a4c554f2a3row26_col11 {\n",
       "            background-color:  #f9f2f8;\n",
       "            color:  #000000;\n",
       "        }    #T_b6d8aa06_1a39_11ea_9380_a0a4c554f2a3row26_col12 {\n",
       "            background-color:  #fdf5fa;\n",
       "            color:  #000000;\n",
       "        }    #T_b6d8aa06_1a39_11ea_9380_a0a4c554f2a3row26_col13 {\n",
       "            background-color:  #e8e4f0;\n",
       "            color:  #000000;\n",
       "        }    #T_b6d8aa06_1a39_11ea_9380_a0a4c554f2a3row26_col14 {\n",
       "            background-color:  #ebe6f2;\n",
       "            color:  #000000;\n",
       "        }    #T_b6d8aa06_1a39_11ea_9380_a0a4c554f2a3row26_col15 {\n",
       "            background-color:  #e5e1ef;\n",
       "            color:  #000000;\n",
       "        }    #T_b6d8aa06_1a39_11ea_9380_a0a4c554f2a3row26_col16 {\n",
       "            background-color:  #f7f0f7;\n",
       "            color:  #000000;\n",
       "        }    #T_b6d8aa06_1a39_11ea_9380_a0a4c554f2a3row26_col17 {\n",
       "            background-color:  #f7f0f7;\n",
       "            color:  #000000;\n",
       "        }    #T_b6d8aa06_1a39_11ea_9380_a0a4c554f2a3row26_col18 {\n",
       "            background-color:  #f4edf6;\n",
       "            color:  #000000;\n",
       "        }    #T_b6d8aa06_1a39_11ea_9380_a0a4c554f2a3row26_col19 {\n",
       "            background-color:  #f5eef6;\n",
       "            color:  #000000;\n",
       "        }    #T_b6d8aa06_1a39_11ea_9380_a0a4c554f2a3row26_col20 {\n",
       "            background-color:  #f4edf6;\n",
       "            color:  #000000;\n",
       "        }    #T_b6d8aa06_1a39_11ea_9380_a0a4c554f2a3row26_col21 {\n",
       "            background-color:  #f2ecf5;\n",
       "            color:  #000000;\n",
       "        }    #T_b6d8aa06_1a39_11ea_9380_a0a4c554f2a3row26_col22 {\n",
       "            background-color:  #f2ecf5;\n",
       "            color:  #000000;\n",
       "        }    #T_b6d8aa06_1a39_11ea_9380_a0a4c554f2a3row26_col23 {\n",
       "            background-color:  #f2ecf5;\n",
       "            color:  #000000;\n",
       "        }    #T_b6d8aa06_1a39_11ea_9380_a0a4c554f2a3row26_col24 {\n",
       "            background-color:  #f5eff6;\n",
       "            color:  #000000;\n",
       "        }    #T_b6d8aa06_1a39_11ea_9380_a0a4c554f2a3row26_col25 {\n",
       "            background-color:  #f8f1f8;\n",
       "            color:  #000000;\n",
       "        }    #T_b6d8aa06_1a39_11ea_9380_a0a4c554f2a3row26_col26 {\n",
       "            background-color:  #f2ecf5;\n",
       "            color:  #000000;\n",
       "        }    #T_b6d8aa06_1a39_11ea_9380_a0a4c554f2a3row27_col0 {\n",
       "            background-color:  #fdf5fa;\n",
       "            color:  #000000;\n",
       "        }    #T_b6d8aa06_1a39_11ea_9380_a0a4c554f2a3row27_col1 {\n",
       "            background-color:  #dad9ea;\n",
       "            color:  #000000;\n",
       "        }    #T_b6d8aa06_1a39_11ea_9380_a0a4c554f2a3row27_col2 {\n",
       "            background-color:  #eee9f3;\n",
       "            color:  #000000;\n",
       "        }    #T_b6d8aa06_1a39_11ea_9380_a0a4c554f2a3row27_col3 {\n",
       "            background-color:  #ede8f3;\n",
       "            color:  #000000;\n",
       "        }    #T_b6d8aa06_1a39_11ea_9380_a0a4c554f2a3row27_col4 {\n",
       "            background-color:  #eee8f3;\n",
       "            color:  #000000;\n",
       "        }    #T_b6d8aa06_1a39_11ea_9380_a0a4c554f2a3row27_col5 {\n",
       "            background-color:  #d7d6e9;\n",
       "            color:  #000000;\n",
       "        }    #T_b6d8aa06_1a39_11ea_9380_a0a4c554f2a3row27_col6 {\n",
       "            background-color:  #ede7f2;\n",
       "            color:  #000000;\n",
       "        }    #T_b6d8aa06_1a39_11ea_9380_a0a4c554f2a3row27_col7 {\n",
       "            background-color:  #e7e3f0;\n",
       "            color:  #000000;\n",
       "        }    #T_b6d8aa06_1a39_11ea_9380_a0a4c554f2a3row27_col8 {\n",
       "            background-color:  #f5eef6;\n",
       "            color:  #000000;\n",
       "        }    #T_b6d8aa06_1a39_11ea_9380_a0a4c554f2a3row27_col9 {\n",
       "            background-color:  #e5e1ef;\n",
       "            color:  #000000;\n",
       "        }    #T_b6d8aa06_1a39_11ea_9380_a0a4c554f2a3row27_col10 {\n",
       "            background-color:  #f2ecf5;\n",
       "            color:  #000000;\n",
       "        }    #T_b6d8aa06_1a39_11ea_9380_a0a4c554f2a3row27_col11 {\n",
       "            background-color:  #efe9f3;\n",
       "            color:  #000000;\n",
       "        }    #T_b6d8aa06_1a39_11ea_9380_a0a4c554f2a3row27_col12 {\n",
       "            background-color:  #faf2f8;\n",
       "            color:  #000000;\n",
       "        }    #T_b6d8aa06_1a39_11ea_9380_a0a4c554f2a3row27_col13 {\n",
       "            background-color:  #ede8f3;\n",
       "            color:  #000000;\n",
       "        }    #T_b6d8aa06_1a39_11ea_9380_a0a4c554f2a3row27_col14 {\n",
       "            background-color:  #f0eaf4;\n",
       "            color:  #000000;\n",
       "        }    #T_b6d8aa06_1a39_11ea_9380_a0a4c554f2a3row27_col15 {\n",
       "            background-color:  #efe9f3;\n",
       "            color:  #000000;\n",
       "        }    #T_b6d8aa06_1a39_11ea_9380_a0a4c554f2a3row27_col16 {\n",
       "            background-color:  #e8e4f0;\n",
       "            color:  #000000;\n",
       "        }    #T_b6d8aa06_1a39_11ea_9380_a0a4c554f2a3row27_col17 {\n",
       "            background-color:  #f0eaf4;\n",
       "            color:  #000000;\n",
       "        }    #T_b6d8aa06_1a39_11ea_9380_a0a4c554f2a3row27_col18 {\n",
       "            background-color:  #f1ebf5;\n",
       "            color:  #000000;\n",
       "        }    #T_b6d8aa06_1a39_11ea_9380_a0a4c554f2a3row27_col19 {\n",
       "            background-color:  #f2ecf5;\n",
       "            color:  #000000;\n",
       "        }    #T_b6d8aa06_1a39_11ea_9380_a0a4c554f2a3row27_col20 {\n",
       "            background-color:  #f0eaf4;\n",
       "            color:  #000000;\n",
       "        }    #T_b6d8aa06_1a39_11ea_9380_a0a4c554f2a3row27_col21 {\n",
       "            background-color:  #eee8f3;\n",
       "            color:  #000000;\n",
       "        }    #T_b6d8aa06_1a39_11ea_9380_a0a4c554f2a3row27_col22 {\n",
       "            background-color:  #eee8f3;\n",
       "            color:  #000000;\n",
       "        }    #T_b6d8aa06_1a39_11ea_9380_a0a4c554f2a3row27_col23 {\n",
       "            background-color:  #eee9f3;\n",
       "            color:  #000000;\n",
       "        }    #T_b6d8aa06_1a39_11ea_9380_a0a4c554f2a3row27_col24 {\n",
       "            background-color:  #f4eef6;\n",
       "            color:  #000000;\n",
       "        }    #T_b6d8aa06_1a39_11ea_9380_a0a4c554f2a3row27_col25 {\n",
       "            background-color:  #f9f2f8;\n",
       "            color:  #000000;\n",
       "        }    #T_b6d8aa06_1a39_11ea_9380_a0a4c554f2a3row27_col26 {\n",
       "            background-color:  #eee8f3;\n",
       "            color:  #000000;\n",
       "        }    #T_b6d8aa06_1a39_11ea_9380_a0a4c554f2a3row28_col0 {\n",
       "            background-color:  #fff7fb;\n",
       "            color:  #000000;\n",
       "        }    #T_b6d8aa06_1a39_11ea_9380_a0a4c554f2a3row28_col1 {\n",
       "            background-color:  #fff7fb;\n",
       "            color:  #000000;\n",
       "        }    #T_b6d8aa06_1a39_11ea_9380_a0a4c554f2a3row28_col2 {\n",
       "            background-color:  #fff7fb;\n",
       "            color:  #000000;\n",
       "        }    #T_b6d8aa06_1a39_11ea_9380_a0a4c554f2a3row28_col3 {\n",
       "            background-color:  #fff7fb;\n",
       "            color:  #000000;\n",
       "        }    #T_b6d8aa06_1a39_11ea_9380_a0a4c554f2a3row28_col4 {\n",
       "            background-color:  #fef6fa;\n",
       "            color:  #000000;\n",
       "        }    #T_b6d8aa06_1a39_11ea_9380_a0a4c554f2a3row28_col5 {\n",
       "            background-color:  #fff7fb;\n",
       "            color:  #000000;\n",
       "        }    #T_b6d8aa06_1a39_11ea_9380_a0a4c554f2a3row28_col6 {\n",
       "            background-color:  #fff7fb;\n",
       "            color:  #000000;\n",
       "        }    #T_b6d8aa06_1a39_11ea_9380_a0a4c554f2a3row28_col7 {\n",
       "            background-color:  #fef6fa;\n",
       "            color:  #000000;\n",
       "        }    #T_b6d8aa06_1a39_11ea_9380_a0a4c554f2a3row28_col8 {\n",
       "            background-color:  #fff7fb;\n",
       "            color:  #000000;\n",
       "        }    #T_b6d8aa06_1a39_11ea_9380_a0a4c554f2a3row28_col9 {\n",
       "            background-color:  #fff7fb;\n",
       "            color:  #000000;\n",
       "        }    #T_b6d8aa06_1a39_11ea_9380_a0a4c554f2a3row28_col10 {\n",
       "            background-color:  #fff7fb;\n",
       "            color:  #000000;\n",
       "        }    #T_b6d8aa06_1a39_11ea_9380_a0a4c554f2a3row28_col11 {\n",
       "            background-color:  #fff7fb;\n",
       "            color:  #000000;\n",
       "        }    #T_b6d8aa06_1a39_11ea_9380_a0a4c554f2a3row28_col12 {\n",
       "            background-color:  #fff7fb;\n",
       "            color:  #000000;\n",
       "        }    #T_b6d8aa06_1a39_11ea_9380_a0a4c554f2a3row28_col13 {\n",
       "            background-color:  #fef6fa;\n",
       "            color:  #000000;\n",
       "        }    #T_b6d8aa06_1a39_11ea_9380_a0a4c554f2a3row28_col14 {\n",
       "            background-color:  #fef6fa;\n",
       "            color:  #000000;\n",
       "        }    #T_b6d8aa06_1a39_11ea_9380_a0a4c554f2a3row28_col15 {\n",
       "            background-color:  #fef6fa;\n",
       "            color:  #000000;\n",
       "        }    #T_b6d8aa06_1a39_11ea_9380_a0a4c554f2a3row28_col16 {\n",
       "            background-color:  #fff7fb;\n",
       "            color:  #000000;\n",
       "        }    #T_b6d8aa06_1a39_11ea_9380_a0a4c554f2a3row28_col17 {\n",
       "            background-color:  #fff7fb;\n",
       "            color:  #000000;\n",
       "        }    #T_b6d8aa06_1a39_11ea_9380_a0a4c554f2a3row28_col18 {\n",
       "            background-color:  #fff7fb;\n",
       "            color:  #000000;\n",
       "        }    #T_b6d8aa06_1a39_11ea_9380_a0a4c554f2a3row28_col19 {\n",
       "            background-color:  #fff7fb;\n",
       "            color:  #000000;\n",
       "        }    #T_b6d8aa06_1a39_11ea_9380_a0a4c554f2a3row28_col20 {\n",
       "            background-color:  #fff7fb;\n",
       "            color:  #000000;\n",
       "        }    #T_b6d8aa06_1a39_11ea_9380_a0a4c554f2a3row28_col21 {\n",
       "            background-color:  #fff7fb;\n",
       "            color:  #000000;\n",
       "        }    #T_b6d8aa06_1a39_11ea_9380_a0a4c554f2a3row28_col22 {\n",
       "            background-color:  #fff7fb;\n",
       "            color:  #000000;\n",
       "        }    #T_b6d8aa06_1a39_11ea_9380_a0a4c554f2a3row28_col23 {\n",
       "            background-color:  #fff7fb;\n",
       "            color:  #000000;\n",
       "        }    #T_b6d8aa06_1a39_11ea_9380_a0a4c554f2a3row28_col24 {\n",
       "            background-color:  #f3edf5;\n",
       "            color:  #000000;\n",
       "        }    #T_b6d8aa06_1a39_11ea_9380_a0a4c554f2a3row28_col25 {\n",
       "            background-color:  #faf2f8;\n",
       "            color:  #000000;\n",
       "        }    #T_b6d8aa06_1a39_11ea_9380_a0a4c554f2a3row28_col26 {\n",
       "            background-color:  #fff7fb;\n",
       "            color:  #000000;\n",
       "        }    #T_b6d8aa06_1a39_11ea_9380_a0a4c554f2a3row29_col0 {\n",
       "            background-color:  #faf3f9;\n",
       "            color:  #000000;\n",
       "        }    #T_b6d8aa06_1a39_11ea_9380_a0a4c554f2a3row29_col1 {\n",
       "            background-color:  #ede8f3;\n",
       "            color:  #000000;\n",
       "        }    #T_b6d8aa06_1a39_11ea_9380_a0a4c554f2a3row29_col2 {\n",
       "            background-color:  #f9f2f8;\n",
       "            color:  #000000;\n",
       "        }    #T_b6d8aa06_1a39_11ea_9380_a0a4c554f2a3row29_col3 {\n",
       "            background-color:  #f7f0f7;\n",
       "            color:  #000000;\n",
       "        }    #T_b6d8aa06_1a39_11ea_9380_a0a4c554f2a3row29_col4 {\n",
       "            background-color:  #f8f1f8;\n",
       "            color:  #000000;\n",
       "        }    #T_b6d8aa06_1a39_11ea_9380_a0a4c554f2a3row29_col5 {\n",
       "            background-color:  #f1ebf5;\n",
       "            color:  #000000;\n",
       "        }    #T_b6d8aa06_1a39_11ea_9380_a0a4c554f2a3row29_col6 {\n",
       "            background-color:  #fdf5fa;\n",
       "            color:  #000000;\n",
       "        }    #T_b6d8aa06_1a39_11ea_9380_a0a4c554f2a3row29_col7 {\n",
       "            background-color:  #f4eef6;\n",
       "            color:  #000000;\n",
       "        }    #T_b6d8aa06_1a39_11ea_9380_a0a4c554f2a3row29_col8 {\n",
       "            background-color:  #fbf3f9;\n",
       "            color:  #000000;\n",
       "        }    #T_b6d8aa06_1a39_11ea_9380_a0a4c554f2a3row29_col9 {\n",
       "            background-color:  #f9f2f8;\n",
       "            color:  #000000;\n",
       "        }    #T_b6d8aa06_1a39_11ea_9380_a0a4c554f2a3row29_col10 {\n",
       "            background-color:  #fdf5fa;\n",
       "            color:  #000000;\n",
       "        }    #T_b6d8aa06_1a39_11ea_9380_a0a4c554f2a3row29_col11 {\n",
       "            background-color:  #fcf4fa;\n",
       "            color:  #000000;\n",
       "        }    #T_b6d8aa06_1a39_11ea_9380_a0a4c554f2a3row29_col12 {\n",
       "            background-color:  #fef6fb;\n",
       "            color:  #000000;\n",
       "        }    #T_b6d8aa06_1a39_11ea_9380_a0a4c554f2a3row29_col13 {\n",
       "            background-color:  #f9f2f8;\n",
       "            color:  #000000;\n",
       "        }    #T_b6d8aa06_1a39_11ea_9380_a0a4c554f2a3row29_col14 {\n",
       "            background-color:  #f8f1f8;\n",
       "            color:  #000000;\n",
       "        }    #T_b6d8aa06_1a39_11ea_9380_a0a4c554f2a3row29_col15 {\n",
       "            background-color:  #f8f1f8;\n",
       "            color:  #000000;\n",
       "        }    #T_b6d8aa06_1a39_11ea_9380_a0a4c554f2a3row29_col16 {\n",
       "            background-color:  #f0eaf4;\n",
       "            color:  #000000;\n",
       "        }    #T_b6d8aa06_1a39_11ea_9380_a0a4c554f2a3row29_col17 {\n",
       "            background-color:  #f6eff7;\n",
       "            color:  #000000;\n",
       "        }    #T_b6d8aa06_1a39_11ea_9380_a0a4c554f2a3row29_col18 {\n",
       "            background-color:  #f8f1f8;\n",
       "            color:  #000000;\n",
       "        }    #T_b6d8aa06_1a39_11ea_9380_a0a4c554f2a3row29_col19 {\n",
       "            background-color:  #f8f1f8;\n",
       "            color:  #000000;\n",
       "        }    #T_b6d8aa06_1a39_11ea_9380_a0a4c554f2a3row29_col20 {\n",
       "            background-color:  #f6eff7;\n",
       "            color:  #000000;\n",
       "        }    #T_b6d8aa06_1a39_11ea_9380_a0a4c554f2a3row29_col21 {\n",
       "            background-color:  #f4eef6;\n",
       "            color:  #000000;\n",
       "        }    #T_b6d8aa06_1a39_11ea_9380_a0a4c554f2a3row29_col22 {\n",
       "            background-color:  #f4eef6;\n",
       "            color:  #000000;\n",
       "        }    #T_b6d8aa06_1a39_11ea_9380_a0a4c554f2a3row29_col23 {\n",
       "            background-color:  #f4edf6;\n",
       "            color:  #000000;\n",
       "        }    #T_b6d8aa06_1a39_11ea_9380_a0a4c554f2a3row29_col24 {\n",
       "            background-color:  #f7f0f7;\n",
       "            color:  #000000;\n",
       "        }    #T_b6d8aa06_1a39_11ea_9380_a0a4c554f2a3row29_col25 {\n",
       "            background-color:  #faf2f8;\n",
       "            color:  #000000;\n",
       "        }    #T_b6d8aa06_1a39_11ea_9380_a0a4c554f2a3row29_col26 {\n",
       "            background-color:  #efe9f3;\n",
       "            color:  #000000;\n",
       "        }    #T_b6d8aa06_1a39_11ea_9380_a0a4c554f2a3row30_col0 {\n",
       "            background-color:  #fef6fb;\n",
       "            color:  #000000;\n",
       "        }    #T_b6d8aa06_1a39_11ea_9380_a0a4c554f2a3row30_col1 {\n",
       "            background-color:  #fbf4f9;\n",
       "            color:  #000000;\n",
       "        }    #T_b6d8aa06_1a39_11ea_9380_a0a4c554f2a3row30_col2 {\n",
       "            background-color:  #fdf5fa;\n",
       "            color:  #000000;\n",
       "        }    #T_b6d8aa06_1a39_11ea_9380_a0a4c554f2a3row30_col3 {\n",
       "            background-color:  #fdf5fa;\n",
       "            color:  #000000;\n",
       "        }    #T_b6d8aa06_1a39_11ea_9380_a0a4c554f2a3row30_col4 {\n",
       "            background-color:  #fcf4fa;\n",
       "            color:  #000000;\n",
       "        }    #T_b6d8aa06_1a39_11ea_9380_a0a4c554f2a3row30_col5 {\n",
       "            background-color:  #f8f1f8;\n",
       "            color:  #000000;\n",
       "        }    #T_b6d8aa06_1a39_11ea_9380_a0a4c554f2a3row30_col6 {\n",
       "            background-color:  #faf3f9;\n",
       "            color:  #000000;\n",
       "        }    #T_b6d8aa06_1a39_11ea_9380_a0a4c554f2a3row30_col7 {\n",
       "            background-color:  #f9f2f8;\n",
       "            color:  #000000;\n",
       "        }    #T_b6d8aa06_1a39_11ea_9380_a0a4c554f2a3row30_col8 {\n",
       "            background-color:  #fcf4fa;\n",
       "            color:  #000000;\n",
       "        }    #T_b6d8aa06_1a39_11ea_9380_a0a4c554f2a3row30_col9 {\n",
       "            background-color:  #f8f1f8;\n",
       "            color:  #000000;\n",
       "        }    #T_b6d8aa06_1a39_11ea_9380_a0a4c554f2a3row30_col10 {\n",
       "            background-color:  #fdf5fa;\n",
       "            color:  #000000;\n",
       "        }    #T_b6d8aa06_1a39_11ea_9380_a0a4c554f2a3row30_col11 {\n",
       "            background-color:  #fbf4f9;\n",
       "            color:  #000000;\n",
       "        }    #T_b6d8aa06_1a39_11ea_9380_a0a4c554f2a3row30_col12 {\n",
       "            background-color:  #fff7fb;\n",
       "            color:  #000000;\n",
       "        }    #T_b6d8aa06_1a39_11ea_9380_a0a4c554f2a3row30_col13 {\n",
       "            background-color:  #fef6fb;\n",
       "            color:  #000000;\n",
       "        }    #T_b6d8aa06_1a39_11ea_9380_a0a4c554f2a3row30_col14 {\n",
       "            background-color:  #fdf5fa;\n",
       "            color:  #000000;\n",
       "        }    #T_b6d8aa06_1a39_11ea_9380_a0a4c554f2a3row30_col15 {\n",
       "            background-color:  #fef6fa;\n",
       "            color:  #000000;\n",
       "        }    #T_b6d8aa06_1a39_11ea_9380_a0a4c554f2a3row30_col16 {\n",
       "            background-color:  #faf2f8;\n",
       "            color:  #000000;\n",
       "        }    #T_b6d8aa06_1a39_11ea_9380_a0a4c554f2a3row30_col17 {\n",
       "            background-color:  #fbf3f9;\n",
       "            color:  #000000;\n",
       "        }    #T_b6d8aa06_1a39_11ea_9380_a0a4c554f2a3row30_col18 {\n",
       "            background-color:  #fbf3f9;\n",
       "            color:  #000000;\n",
       "        }    #T_b6d8aa06_1a39_11ea_9380_a0a4c554f2a3row30_col19 {\n",
       "            background-color:  #fbf3f9;\n",
       "            color:  #000000;\n",
       "        }    #T_b6d8aa06_1a39_11ea_9380_a0a4c554f2a3row30_col20 {\n",
       "            background-color:  #faf2f8;\n",
       "            color:  #000000;\n",
       "        }    #T_b6d8aa06_1a39_11ea_9380_a0a4c554f2a3row30_col21 {\n",
       "            background-color:  #faf2f8;\n",
       "            color:  #000000;\n",
       "        }    #T_b6d8aa06_1a39_11ea_9380_a0a4c554f2a3row30_col22 {\n",
       "            background-color:  #faf2f8;\n",
       "            color:  #000000;\n",
       "        }    #T_b6d8aa06_1a39_11ea_9380_a0a4c554f2a3row30_col23 {\n",
       "            background-color:  #f9f2f8;\n",
       "            color:  #000000;\n",
       "        }    #T_b6d8aa06_1a39_11ea_9380_a0a4c554f2a3row30_col24 {\n",
       "            background-color:  #fef6fa;\n",
       "            color:  #000000;\n",
       "        }    #T_b6d8aa06_1a39_11ea_9380_a0a4c554f2a3row30_col25 {\n",
       "            background-color:  #fbf3f9;\n",
       "            color:  #000000;\n",
       "        }    #T_b6d8aa06_1a39_11ea_9380_a0a4c554f2a3row30_col26 {\n",
       "            background-color:  #fbf3f9;\n",
       "            color:  #000000;\n",
       "        }    #T_b6d8aa06_1a39_11ea_9380_a0a4c554f2a3row31_col0 {\n",
       "            background-color:  #fff7fb;\n",
       "            color:  #000000;\n",
       "        }    #T_b6d8aa06_1a39_11ea_9380_a0a4c554f2a3row31_col1 {\n",
       "            background-color:  #f1ebf4;\n",
       "            color:  #000000;\n",
       "        }    #T_b6d8aa06_1a39_11ea_9380_a0a4c554f2a3row31_col2 {\n",
       "            background-color:  #f1ebf5;\n",
       "            color:  #000000;\n",
       "        }    #T_b6d8aa06_1a39_11ea_9380_a0a4c554f2a3row31_col3 {\n",
       "            background-color:  #f2ecf5;\n",
       "            color:  #000000;\n",
       "        }    #T_b6d8aa06_1a39_11ea_9380_a0a4c554f2a3row31_col4 {\n",
       "            background-color:  #f4edf6;\n",
       "            color:  #000000;\n",
       "        }    #T_b6d8aa06_1a39_11ea_9380_a0a4c554f2a3row31_col5 {\n",
       "            background-color:  #f1ebf5;\n",
       "            color:  #000000;\n",
       "        }    #T_b6d8aa06_1a39_11ea_9380_a0a4c554f2a3row31_col6 {\n",
       "            background-color:  #f7f0f7;\n",
       "            color:  #000000;\n",
       "        }    #T_b6d8aa06_1a39_11ea_9380_a0a4c554f2a3row31_col7 {\n",
       "            background-color:  #f7f0f7;\n",
       "            color:  #000000;\n",
       "        }    #T_b6d8aa06_1a39_11ea_9380_a0a4c554f2a3row31_col8 {\n",
       "            background-color:  #f8f1f8;\n",
       "            color:  #000000;\n",
       "        }    #T_b6d8aa06_1a39_11ea_9380_a0a4c554f2a3row31_col9 {\n",
       "            background-color:  #f5eff6;\n",
       "            color:  #000000;\n",
       "        }    #T_b6d8aa06_1a39_11ea_9380_a0a4c554f2a3row31_col10 {\n",
       "            background-color:  #faf2f8;\n",
       "            color:  #000000;\n",
       "        }    #T_b6d8aa06_1a39_11ea_9380_a0a4c554f2a3row31_col11 {\n",
       "            background-color:  #faf3f9;\n",
       "            color:  #000000;\n",
       "        }    #T_b6d8aa06_1a39_11ea_9380_a0a4c554f2a3row31_col12 {\n",
       "            background-color:  #fdf5fa;\n",
       "            color:  #000000;\n",
       "        }    #T_b6d8aa06_1a39_11ea_9380_a0a4c554f2a3row31_col13 {\n",
       "            background-color:  #f1ebf4;\n",
       "            color:  #000000;\n",
       "        }    #T_b6d8aa06_1a39_11ea_9380_a0a4c554f2a3row31_col14 {\n",
       "            background-color:  #f5eef6;\n",
       "            color:  #000000;\n",
       "        }    #T_b6d8aa06_1a39_11ea_9380_a0a4c554f2a3row31_col15 {\n",
       "            background-color:  #f4eef6;\n",
       "            color:  #000000;\n",
       "        }    #T_b6d8aa06_1a39_11ea_9380_a0a4c554f2a3row31_col16 {\n",
       "            background-color:  #f3edf5;\n",
       "            color:  #000000;\n",
       "        }    #T_b6d8aa06_1a39_11ea_9380_a0a4c554f2a3row31_col17 {\n",
       "            background-color:  #f8f1f8;\n",
       "            color:  #000000;\n",
       "        }    #T_b6d8aa06_1a39_11ea_9380_a0a4c554f2a3row31_col18 {\n",
       "            background-color:  #f8f1f8;\n",
       "            color:  #000000;\n",
       "        }    #T_b6d8aa06_1a39_11ea_9380_a0a4c554f2a3row31_col19 {\n",
       "            background-color:  #f8f1f8;\n",
       "            color:  #000000;\n",
       "        }    #T_b6d8aa06_1a39_11ea_9380_a0a4c554f2a3row31_col20 {\n",
       "            background-color:  #f8f1f8;\n",
       "            color:  #000000;\n",
       "        }    #T_b6d8aa06_1a39_11ea_9380_a0a4c554f2a3row31_col21 {\n",
       "            background-color:  #f7f0f7;\n",
       "            color:  #000000;\n",
       "        }    #T_b6d8aa06_1a39_11ea_9380_a0a4c554f2a3row31_col22 {\n",
       "            background-color:  #f7f0f7;\n",
       "            color:  #000000;\n",
       "        }    #T_b6d8aa06_1a39_11ea_9380_a0a4c554f2a3row31_col23 {\n",
       "            background-color:  #f8f1f8;\n",
       "            color:  #000000;\n",
       "        }    #T_b6d8aa06_1a39_11ea_9380_a0a4c554f2a3row31_col24 {\n",
       "            background-color:  #faf3f9;\n",
       "            color:  #000000;\n",
       "        }    #T_b6d8aa06_1a39_11ea_9380_a0a4c554f2a3row31_col25 {\n",
       "            background-color:  #fbf3f9;\n",
       "            color:  #000000;\n",
       "        }    #T_b6d8aa06_1a39_11ea_9380_a0a4c554f2a3row31_col26 {\n",
       "            background-color:  #f4eef6;\n",
       "            color:  #000000;\n",
       "        }    #T_b6d8aa06_1a39_11ea_9380_a0a4c554f2a3row32_col0 {\n",
       "            background-color:  #fff7fb;\n",
       "            color:  #000000;\n",
       "        }    #T_b6d8aa06_1a39_11ea_9380_a0a4c554f2a3row32_col1 {\n",
       "            background-color:  #f7f0f7;\n",
       "            color:  #000000;\n",
       "        }    #T_b6d8aa06_1a39_11ea_9380_a0a4c554f2a3row32_col2 {\n",
       "            background-color:  #f5eef6;\n",
       "            color:  #000000;\n",
       "        }    #T_b6d8aa06_1a39_11ea_9380_a0a4c554f2a3row32_col3 {\n",
       "            background-color:  #f8f1f8;\n",
       "            color:  #000000;\n",
       "        }    #T_b6d8aa06_1a39_11ea_9380_a0a4c554f2a3row32_col4 {\n",
       "            background-color:  #faf3f9;\n",
       "            color:  #000000;\n",
       "        }    #T_b6d8aa06_1a39_11ea_9380_a0a4c554f2a3row32_col5 {\n",
       "            background-color:  #f7f0f7;\n",
       "            color:  #000000;\n",
       "        }    #T_b6d8aa06_1a39_11ea_9380_a0a4c554f2a3row32_col6 {\n",
       "            background-color:  #fff7fb;\n",
       "            color:  #000000;\n",
       "        }    #T_b6d8aa06_1a39_11ea_9380_a0a4c554f2a3row32_col7 {\n",
       "            background-color:  #faf3f9;\n",
       "            color:  #000000;\n",
       "        }    #T_b6d8aa06_1a39_11ea_9380_a0a4c554f2a3row32_col8 {\n",
       "            background-color:  #fff7fb;\n",
       "            color:  #000000;\n",
       "        }    #T_b6d8aa06_1a39_11ea_9380_a0a4c554f2a3row32_col9 {\n",
       "            background-color:  #f7f0f7;\n",
       "            color:  #000000;\n",
       "        }    #T_b6d8aa06_1a39_11ea_9380_a0a4c554f2a3row32_col10 {\n",
       "            background-color:  #fef6fa;\n",
       "            color:  #000000;\n",
       "        }    #T_b6d8aa06_1a39_11ea_9380_a0a4c554f2a3row32_col11 {\n",
       "            background-color:  #fef6fb;\n",
       "            color:  #000000;\n",
       "        }    #T_b6d8aa06_1a39_11ea_9380_a0a4c554f2a3row32_col12 {\n",
       "            background-color:  #fff7fb;\n",
       "            color:  #000000;\n",
       "        }    #T_b6d8aa06_1a39_11ea_9380_a0a4c554f2a3row32_col13 {\n",
       "            background-color:  #faf3f9;\n",
       "            color:  #000000;\n",
       "        }    #T_b6d8aa06_1a39_11ea_9380_a0a4c554f2a3row32_col14 {\n",
       "            background-color:  #fdf5fa;\n",
       "            color:  #000000;\n",
       "        }    #T_b6d8aa06_1a39_11ea_9380_a0a4c554f2a3row32_col15 {\n",
       "            background-color:  #fcf4fa;\n",
       "            color:  #000000;\n",
       "        }    #T_b6d8aa06_1a39_11ea_9380_a0a4c554f2a3row32_col16 {\n",
       "            background-color:  #fff7fb;\n",
       "            color:  #000000;\n",
       "        }    #T_b6d8aa06_1a39_11ea_9380_a0a4c554f2a3row32_col17 {\n",
       "            background-color:  #fcf4fa;\n",
       "            color:  #000000;\n",
       "        }    #T_b6d8aa06_1a39_11ea_9380_a0a4c554f2a3row32_col18 {\n",
       "            background-color:  #fbf4f9;\n",
       "            color:  #000000;\n",
       "        }    #T_b6d8aa06_1a39_11ea_9380_a0a4c554f2a3row32_col19 {\n",
       "            background-color:  #fbf4f9;\n",
       "            color:  #000000;\n",
       "        }    #T_b6d8aa06_1a39_11ea_9380_a0a4c554f2a3row32_col20 {\n",
       "            background-color:  #fbf3f9;\n",
       "            color:  #000000;\n",
       "        }    #T_b6d8aa06_1a39_11ea_9380_a0a4c554f2a3row32_col21 {\n",
       "            background-color:  #fbf3f9;\n",
       "            color:  #000000;\n",
       "        }    #T_b6d8aa06_1a39_11ea_9380_a0a4c554f2a3row32_col22 {\n",
       "            background-color:  #fbf3f9;\n",
       "            color:  #000000;\n",
       "        }    #T_b6d8aa06_1a39_11ea_9380_a0a4c554f2a3row32_col23 {\n",
       "            background-color:  #faf3f9;\n",
       "            color:  #000000;\n",
       "        }    #T_b6d8aa06_1a39_11ea_9380_a0a4c554f2a3row32_col24 {\n",
       "            background-color:  #fdf5fa;\n",
       "            color:  #000000;\n",
       "        }    #T_b6d8aa06_1a39_11ea_9380_a0a4c554f2a3row32_col25 {\n",
       "            background-color:  #fcf4fa;\n",
       "            color:  #000000;\n",
       "        }    #T_b6d8aa06_1a39_11ea_9380_a0a4c554f2a3row32_col26 {\n",
       "            background-color:  #faf3f9;\n",
       "            color:  #000000;\n",
       "        }    #T_b6d8aa06_1a39_11ea_9380_a0a4c554f2a3row33_col0 {\n",
       "            background-color:  #fef6fa;\n",
       "            color:  #000000;\n",
       "        }    #T_b6d8aa06_1a39_11ea_9380_a0a4c554f2a3row33_col1 {\n",
       "            background-color:  #efe9f3;\n",
       "            color:  #000000;\n",
       "        }    #T_b6d8aa06_1a39_11ea_9380_a0a4c554f2a3row33_col2 {\n",
       "            background-color:  #e9e5f1;\n",
       "            color:  #000000;\n",
       "        }    #T_b6d8aa06_1a39_11ea_9380_a0a4c554f2a3row33_col3 {\n",
       "            background-color:  #ede8f3;\n",
       "            color:  #000000;\n",
       "        }    #T_b6d8aa06_1a39_11ea_9380_a0a4c554f2a3row33_col4 {\n",
       "            background-color:  #ede8f3;\n",
       "            color:  #000000;\n",
       "        }    #T_b6d8aa06_1a39_11ea_9380_a0a4c554f2a3row33_col5 {\n",
       "            background-color:  #e6e2ef;\n",
       "            color:  #000000;\n",
       "        }    #T_b6d8aa06_1a39_11ea_9380_a0a4c554f2a3row33_col6 {\n",
       "            background-color:  #acc0dd;\n",
       "            color:  #000000;\n",
       "        }    #T_b6d8aa06_1a39_11ea_9380_a0a4c554f2a3row33_col7 {\n",
       "            background-color:  #f8f1f8;\n",
       "            color:  #000000;\n",
       "        }    #T_b6d8aa06_1a39_11ea_9380_a0a4c554f2a3row33_col8 {\n",
       "            background-color:  #f8f1f8;\n",
       "            color:  #000000;\n",
       "        }    #T_b6d8aa06_1a39_11ea_9380_a0a4c554f2a3row33_col9 {\n",
       "            background-color:  #e7e3f0;\n",
       "            color:  #000000;\n",
       "        }    #T_b6d8aa06_1a39_11ea_9380_a0a4c554f2a3row33_col10 {\n",
       "            background-color:  #f8f1f8;\n",
       "            color:  #000000;\n",
       "        }    #T_b6d8aa06_1a39_11ea_9380_a0a4c554f2a3row33_col11 {\n",
       "            background-color:  #f8f1f8;\n",
       "            color:  #000000;\n",
       "        }    #T_b6d8aa06_1a39_11ea_9380_a0a4c554f2a3row33_col12 {\n",
       "            background-color:  #fdf5fa;\n",
       "            color:  #000000;\n",
       "        }    #T_b6d8aa06_1a39_11ea_9380_a0a4c554f2a3row33_col13 {\n",
       "            background-color:  #f6eff7;\n",
       "            color:  #000000;\n",
       "        }    #T_b6d8aa06_1a39_11ea_9380_a0a4c554f2a3row33_col14 {\n",
       "            background-color:  #f8f1f8;\n",
       "            color:  #000000;\n",
       "        }    #T_b6d8aa06_1a39_11ea_9380_a0a4c554f2a3row33_col15 {\n",
       "            background-color:  #f7f0f7;\n",
       "            color:  #000000;\n",
       "        }    #T_b6d8aa06_1a39_11ea_9380_a0a4c554f2a3row33_col16 {\n",
       "            background-color:  #f7f0f7;\n",
       "            color:  #000000;\n",
       "        }    #T_b6d8aa06_1a39_11ea_9380_a0a4c554f2a3row33_col17 {\n",
       "            background-color:  #faf3f9;\n",
       "            color:  #000000;\n",
       "        }    #T_b6d8aa06_1a39_11ea_9380_a0a4c554f2a3row33_col18 {\n",
       "            background-color:  #f7f0f7;\n",
       "            color:  #000000;\n",
       "        }    #T_b6d8aa06_1a39_11ea_9380_a0a4c554f2a3row33_col19 {\n",
       "            background-color:  #f8f1f8;\n",
       "            color:  #000000;\n",
       "        }    #T_b6d8aa06_1a39_11ea_9380_a0a4c554f2a3row33_col20 {\n",
       "            background-color:  #f7f0f7;\n",
       "            color:  #000000;\n",
       "        }    #T_b6d8aa06_1a39_11ea_9380_a0a4c554f2a3row33_col21 {\n",
       "            background-color:  #f6eff7;\n",
       "            color:  #000000;\n",
       "        }    #T_b6d8aa06_1a39_11ea_9380_a0a4c554f2a3row33_col22 {\n",
       "            background-color:  #f7f0f7;\n",
       "            color:  #000000;\n",
       "        }    #T_b6d8aa06_1a39_11ea_9380_a0a4c554f2a3row33_col23 {\n",
       "            background-color:  #f6eff7;\n",
       "            color:  #000000;\n",
       "        }    #T_b6d8aa06_1a39_11ea_9380_a0a4c554f2a3row33_col24 {\n",
       "            background-color:  #faf3f9;\n",
       "            color:  #000000;\n",
       "        }    #T_b6d8aa06_1a39_11ea_9380_a0a4c554f2a3row33_col25 {\n",
       "            background-color:  #fcf4fa;\n",
       "            color:  #000000;\n",
       "        }    #T_b6d8aa06_1a39_11ea_9380_a0a4c554f2a3row33_col26 {\n",
       "            background-color:  #f9f2f8;\n",
       "            color:  #000000;\n",
       "        }    #T_b6d8aa06_1a39_11ea_9380_a0a4c554f2a3row34_col0 {\n",
       "            background-color:  #fdf5fa;\n",
       "            color:  #000000;\n",
       "        }    #T_b6d8aa06_1a39_11ea_9380_a0a4c554f2a3row34_col1 {\n",
       "            background-color:  #eee8f3;\n",
       "            color:  #000000;\n",
       "        }    #T_b6d8aa06_1a39_11ea_9380_a0a4c554f2a3row34_col2 {\n",
       "            background-color:  #f7f0f7;\n",
       "            color:  #000000;\n",
       "        }    #T_b6d8aa06_1a39_11ea_9380_a0a4c554f2a3row34_col3 {\n",
       "            background-color:  #f8f1f8;\n",
       "            color:  #000000;\n",
       "        }    #T_b6d8aa06_1a39_11ea_9380_a0a4c554f2a3row34_col4 {\n",
       "            background-color:  #f7f0f7;\n",
       "            color:  #000000;\n",
       "        }    #T_b6d8aa06_1a39_11ea_9380_a0a4c554f2a3row34_col5 {\n",
       "            background-color:  #e9e5f1;\n",
       "            color:  #000000;\n",
       "        }    #T_b6d8aa06_1a39_11ea_9380_a0a4c554f2a3row34_col6 {\n",
       "            background-color:  #fbf3f9;\n",
       "            color:  #000000;\n",
       "        }    #T_b6d8aa06_1a39_11ea_9380_a0a4c554f2a3row34_col7 {\n",
       "            background-color:  #f8f1f8;\n",
       "            color:  #000000;\n",
       "        }    #T_b6d8aa06_1a39_11ea_9380_a0a4c554f2a3row34_col8 {\n",
       "            background-color:  #fbf4f9;\n",
       "            color:  #000000;\n",
       "        }    #T_b6d8aa06_1a39_11ea_9380_a0a4c554f2a3row34_col9 {\n",
       "            background-color:  #f1ebf5;\n",
       "            color:  #000000;\n",
       "        }    #T_b6d8aa06_1a39_11ea_9380_a0a4c554f2a3row34_col10 {\n",
       "            background-color:  #f6eff7;\n",
       "            color:  #000000;\n",
       "        }    #T_b6d8aa06_1a39_11ea_9380_a0a4c554f2a3row34_col11 {\n",
       "            background-color:  #f8f1f8;\n",
       "            color:  #000000;\n",
       "        }    #T_b6d8aa06_1a39_11ea_9380_a0a4c554f2a3row34_col12 {\n",
       "            background-color:  #fdf5fa;\n",
       "            color:  #000000;\n",
       "        }    #T_b6d8aa06_1a39_11ea_9380_a0a4c554f2a3row34_col13 {\n",
       "            background-color:  #f4edf6;\n",
       "            color:  #000000;\n",
       "        }    #T_b6d8aa06_1a39_11ea_9380_a0a4c554f2a3row34_col14 {\n",
       "            background-color:  #f0eaf4;\n",
       "            color:  #000000;\n",
       "        }    #T_b6d8aa06_1a39_11ea_9380_a0a4c554f2a3row34_col15 {\n",
       "            background-color:  #f1ebf4;\n",
       "            color:  #000000;\n",
       "        }    #T_b6d8aa06_1a39_11ea_9380_a0a4c554f2a3row34_col16 {\n",
       "            background-color:  #f1ebf5;\n",
       "            color:  #000000;\n",
       "        }    #T_b6d8aa06_1a39_11ea_9380_a0a4c554f2a3row34_col17 {\n",
       "            background-color:  #f8f1f8;\n",
       "            color:  #000000;\n",
       "        }    #T_b6d8aa06_1a39_11ea_9380_a0a4c554f2a3row34_col18 {\n",
       "            background-color:  #f9f2f8;\n",
       "            color:  #000000;\n",
       "        }    #T_b6d8aa06_1a39_11ea_9380_a0a4c554f2a3row34_col19 {\n",
       "            background-color:  #f9f2f8;\n",
       "            color:  #000000;\n",
       "        }    #T_b6d8aa06_1a39_11ea_9380_a0a4c554f2a3row34_col20 {\n",
       "            background-color:  #f8f1f8;\n",
       "            color:  #000000;\n",
       "        }    #T_b6d8aa06_1a39_11ea_9380_a0a4c554f2a3row34_col21 {\n",
       "            background-color:  #f7f0f7;\n",
       "            color:  #000000;\n",
       "        }    #T_b6d8aa06_1a39_11ea_9380_a0a4c554f2a3row34_col22 {\n",
       "            background-color:  #f7f0f7;\n",
       "            color:  #000000;\n",
       "        }    #T_b6d8aa06_1a39_11ea_9380_a0a4c554f2a3row34_col23 {\n",
       "            background-color:  #f5eff6;\n",
       "            color:  #000000;\n",
       "        }    #T_b6d8aa06_1a39_11ea_9380_a0a4c554f2a3row34_col24 {\n",
       "            background-color:  #fbf3f9;\n",
       "            color:  #000000;\n",
       "        }    #T_b6d8aa06_1a39_11ea_9380_a0a4c554f2a3row34_col25 {\n",
       "            background-color:  #fcf4fa;\n",
       "            color:  #000000;\n",
       "        }    #T_b6d8aa06_1a39_11ea_9380_a0a4c554f2a3row34_col26 {\n",
       "            background-color:  #f7f0f7;\n",
       "            color:  #000000;\n",
       "        }    #T_b6d8aa06_1a39_11ea_9380_a0a4c554f2a3row35_col0 {\n",
       "            background-color:  #fff7fb;\n",
       "            color:  #000000;\n",
       "        }    #T_b6d8aa06_1a39_11ea_9380_a0a4c554f2a3row35_col1 {\n",
       "            background-color:  #fbf4f9;\n",
       "            color:  #000000;\n",
       "        }    #T_b6d8aa06_1a39_11ea_9380_a0a4c554f2a3row35_col2 {\n",
       "            background-color:  #fbf3f9;\n",
       "            color:  #000000;\n",
       "        }    #T_b6d8aa06_1a39_11ea_9380_a0a4c554f2a3row35_col3 {\n",
       "            background-color:  #fbf3f9;\n",
       "            color:  #000000;\n",
       "        }    #T_b6d8aa06_1a39_11ea_9380_a0a4c554f2a3row35_col4 {\n",
       "            background-color:  #faf2f8;\n",
       "            color:  #000000;\n",
       "        }    #T_b6d8aa06_1a39_11ea_9380_a0a4c554f2a3row35_col5 {\n",
       "            background-color:  #fdf5fa;\n",
       "            color:  #000000;\n",
       "        }    #T_b6d8aa06_1a39_11ea_9380_a0a4c554f2a3row35_col6 {\n",
       "            background-color:  #fff7fb;\n",
       "            color:  #000000;\n",
       "        }    #T_b6d8aa06_1a39_11ea_9380_a0a4c554f2a3row35_col7 {\n",
       "            background-color:  #fff7fb;\n",
       "            color:  #000000;\n",
       "        }    #T_b6d8aa06_1a39_11ea_9380_a0a4c554f2a3row35_col8 {\n",
       "            background-color:  #fff7fb;\n",
       "            color:  #000000;\n",
       "        }    #T_b6d8aa06_1a39_11ea_9380_a0a4c554f2a3row35_col9 {\n",
       "            background-color:  #fef6fa;\n",
       "            color:  #000000;\n",
       "        }    #T_b6d8aa06_1a39_11ea_9380_a0a4c554f2a3row35_col10 {\n",
       "            background-color:  #fff7fb;\n",
       "            color:  #000000;\n",
       "        }    #T_b6d8aa06_1a39_11ea_9380_a0a4c554f2a3row35_col11 {\n",
       "            background-color:  #fff7fb;\n",
       "            color:  #000000;\n",
       "        }    #T_b6d8aa06_1a39_11ea_9380_a0a4c554f2a3row35_col12 {\n",
       "            background-color:  #fff7fb;\n",
       "            color:  #000000;\n",
       "        }    #T_b6d8aa06_1a39_11ea_9380_a0a4c554f2a3row35_col13 {\n",
       "            background-color:  #fef6fa;\n",
       "            color:  #000000;\n",
       "        }    #T_b6d8aa06_1a39_11ea_9380_a0a4c554f2a3row35_col14 {\n",
       "            background-color:  #fef6fa;\n",
       "            color:  #000000;\n",
       "        }    #T_b6d8aa06_1a39_11ea_9380_a0a4c554f2a3row35_col15 {\n",
       "            background-color:  #fdf5fa;\n",
       "            color:  #000000;\n",
       "        }    #T_b6d8aa06_1a39_11ea_9380_a0a4c554f2a3row35_col16 {\n",
       "            background-color:  #faf2f8;\n",
       "            color:  #000000;\n",
       "        }    #T_b6d8aa06_1a39_11ea_9380_a0a4c554f2a3row35_col17 {\n",
       "            background-color:  #fdf5fa;\n",
       "            color:  #000000;\n",
       "        }    #T_b6d8aa06_1a39_11ea_9380_a0a4c554f2a3row35_col18 {\n",
       "            background-color:  #fcf4fa;\n",
       "            color:  #000000;\n",
       "        }    #T_b6d8aa06_1a39_11ea_9380_a0a4c554f2a3row35_col19 {\n",
       "            background-color:  #fbf4f9;\n",
       "            color:  #000000;\n",
       "        }    #T_b6d8aa06_1a39_11ea_9380_a0a4c554f2a3row35_col20 {\n",
       "            background-color:  #fcf4fa;\n",
       "            color:  #000000;\n",
       "        }    #T_b6d8aa06_1a39_11ea_9380_a0a4c554f2a3row35_col21 {\n",
       "            background-color:  #fbf4f9;\n",
       "            color:  #000000;\n",
       "        }    #T_b6d8aa06_1a39_11ea_9380_a0a4c554f2a3row35_col22 {\n",
       "            background-color:  #fcf4fa;\n",
       "            color:  #000000;\n",
       "        }    #T_b6d8aa06_1a39_11ea_9380_a0a4c554f2a3row35_col23 {\n",
       "            background-color:  #fcf4fa;\n",
       "            color:  #000000;\n",
       "        }    #T_b6d8aa06_1a39_11ea_9380_a0a4c554f2a3row35_col24 {\n",
       "            background-color:  #fef6fa;\n",
       "            color:  #000000;\n",
       "        }    #T_b6d8aa06_1a39_11ea_9380_a0a4c554f2a3row35_col25 {\n",
       "            background-color:  #fcf4fa;\n",
       "            color:  #000000;\n",
       "        }    #T_b6d8aa06_1a39_11ea_9380_a0a4c554f2a3row35_col26 {\n",
       "            background-color:  #fef6fa;\n",
       "            color:  #000000;\n",
       "        }    #T_b6d8aa06_1a39_11ea_9380_a0a4c554f2a3row36_col0 {\n",
       "            background-color:  #f0eaf4;\n",
       "            color:  #000000;\n",
       "        }    #T_b6d8aa06_1a39_11ea_9380_a0a4c554f2a3row36_col1 {\n",
       "            background-color:  #eee8f3;\n",
       "            color:  #000000;\n",
       "        }    #T_b6d8aa06_1a39_11ea_9380_a0a4c554f2a3row36_col2 {\n",
       "            background-color:  #f4edf6;\n",
       "            color:  #000000;\n",
       "        }    #T_b6d8aa06_1a39_11ea_9380_a0a4c554f2a3row36_col3 {\n",
       "            background-color:  #f1ebf5;\n",
       "            color:  #000000;\n",
       "        }    #T_b6d8aa06_1a39_11ea_9380_a0a4c554f2a3row36_col4 {\n",
       "            background-color:  #f1ebf5;\n",
       "            color:  #000000;\n",
       "        }    #T_b6d8aa06_1a39_11ea_9380_a0a4c554f2a3row36_col5 {\n",
       "            background-color:  #f0eaf4;\n",
       "            color:  #000000;\n",
       "        }    #T_b6d8aa06_1a39_11ea_9380_a0a4c554f2a3row36_col6 {\n",
       "            background-color:  #5ea0ca;\n",
       "            color:  #000000;\n",
       "        }    #T_b6d8aa06_1a39_11ea_9380_a0a4c554f2a3row36_col7 {\n",
       "            background-color:  #e0deed;\n",
       "            color:  #000000;\n",
       "        }    #T_b6d8aa06_1a39_11ea_9380_a0a4c554f2a3row36_col8 {\n",
       "            background-color:  #faf2f8;\n",
       "            color:  #000000;\n",
       "        }    #T_b6d8aa06_1a39_11ea_9380_a0a4c554f2a3row36_col9 {\n",
       "            background-color:  #e9e5f1;\n",
       "            color:  #000000;\n",
       "        }    #T_b6d8aa06_1a39_11ea_9380_a0a4c554f2a3row36_col10 {\n",
       "            background-color:  #f8f1f8;\n",
       "            color:  #000000;\n",
       "        }    #T_b6d8aa06_1a39_11ea_9380_a0a4c554f2a3row36_col11 {\n",
       "            background-color:  #f6eff7;\n",
       "            color:  #000000;\n",
       "        }    #T_b6d8aa06_1a39_11ea_9380_a0a4c554f2a3row36_col12 {\n",
       "            background-color:  #fdf5fa;\n",
       "            color:  #000000;\n",
       "        }    #T_b6d8aa06_1a39_11ea_9380_a0a4c554f2a3row36_col13 {\n",
       "            background-color:  #f7f0f7;\n",
       "            color:  #000000;\n",
       "        }    #T_b6d8aa06_1a39_11ea_9380_a0a4c554f2a3row36_col14 {\n",
       "            background-color:  #f5eff6;\n",
       "            color:  #000000;\n",
       "        }    #T_b6d8aa06_1a39_11ea_9380_a0a4c554f2a3row36_col15 {\n",
       "            background-color:  #ede7f2;\n",
       "            color:  #000000;\n",
       "        }    #T_b6d8aa06_1a39_11ea_9380_a0a4c554f2a3row36_col16 {\n",
       "            background-color:  #ebe6f2;\n",
       "            color:  #000000;\n",
       "        }    #T_b6d8aa06_1a39_11ea_9380_a0a4c554f2a3row36_col17 {\n",
       "            background-color:  #efe9f3;\n",
       "            color:  #000000;\n",
       "        }    #T_b6d8aa06_1a39_11ea_9380_a0a4c554f2a3row36_col18 {\n",
       "            background-color:  #f0eaf4;\n",
       "            color:  #000000;\n",
       "        }    #T_b6d8aa06_1a39_11ea_9380_a0a4c554f2a3row36_col19 {\n",
       "            background-color:  #eee9f3;\n",
       "            color:  #000000;\n",
       "        }    #T_b6d8aa06_1a39_11ea_9380_a0a4c554f2a3row36_col20 {\n",
       "            background-color:  #eee9f3;\n",
       "            color:  #000000;\n",
       "        }    #T_b6d8aa06_1a39_11ea_9380_a0a4c554f2a3row36_col21 {\n",
       "            background-color:  #efe9f3;\n",
       "            color:  #000000;\n",
       "        }    #T_b6d8aa06_1a39_11ea_9380_a0a4c554f2a3row36_col22 {\n",
       "            background-color:  #f1ebf4;\n",
       "            color:  #000000;\n",
       "        }    #T_b6d8aa06_1a39_11ea_9380_a0a4c554f2a3row36_col23 {\n",
       "            background-color:  #eee9f3;\n",
       "            color:  #000000;\n",
       "        }    #T_b6d8aa06_1a39_11ea_9380_a0a4c554f2a3row36_col24 {\n",
       "            background-color:  #eee8f3;\n",
       "            color:  #000000;\n",
       "        }    #T_b6d8aa06_1a39_11ea_9380_a0a4c554f2a3row36_col25 {\n",
       "            background-color:  #fdf5fa;\n",
       "            color:  #000000;\n",
       "        }    #T_b6d8aa06_1a39_11ea_9380_a0a4c554f2a3row36_col26 {\n",
       "            background-color:  #e8e4f0;\n",
       "            color:  #000000;\n",
       "        }    #T_b6d8aa06_1a39_11ea_9380_a0a4c554f2a3row37_col0 {\n",
       "            background-color:  #fff7fb;\n",
       "            color:  #000000;\n",
       "        }    #T_b6d8aa06_1a39_11ea_9380_a0a4c554f2a3row37_col1 {\n",
       "            background-color:  #fdf5fa;\n",
       "            color:  #000000;\n",
       "        }    #T_b6d8aa06_1a39_11ea_9380_a0a4c554f2a3row37_col2 {\n",
       "            background-color:  #fef6fb;\n",
       "            color:  #000000;\n",
       "        }    #T_b6d8aa06_1a39_11ea_9380_a0a4c554f2a3row37_col3 {\n",
       "            background-color:  #fef6fa;\n",
       "            color:  #000000;\n",
       "        }    #T_b6d8aa06_1a39_11ea_9380_a0a4c554f2a3row37_col4 {\n",
       "            background-color:  #fdf5fa;\n",
       "            color:  #000000;\n",
       "        }    #T_b6d8aa06_1a39_11ea_9380_a0a4c554f2a3row37_col5 {\n",
       "            background-color:  #fbf3f9;\n",
       "            color:  #000000;\n",
       "        }    #T_b6d8aa06_1a39_11ea_9380_a0a4c554f2a3row37_col6 {\n",
       "            background-color:  #e8e4f0;\n",
       "            color:  #000000;\n",
       "        }    #T_b6d8aa06_1a39_11ea_9380_a0a4c554f2a3row37_col7 {\n",
       "            background-color:  #f4eef6;\n",
       "            color:  #000000;\n",
       "        }    #T_b6d8aa06_1a39_11ea_9380_a0a4c554f2a3row37_col8 {\n",
       "            background-color:  #f1ebf4;\n",
       "            color:  #000000;\n",
       "        }    #T_b6d8aa06_1a39_11ea_9380_a0a4c554f2a3row37_col9 {\n",
       "            background-color:  #c6cce3;\n",
       "            color:  #000000;\n",
       "        }    #T_b6d8aa06_1a39_11ea_9380_a0a4c554f2a3row37_col10 {\n",
       "            background-color:  #f2ecf5;\n",
       "            color:  #000000;\n",
       "        }    #T_b6d8aa06_1a39_11ea_9380_a0a4c554f2a3row37_col11 {\n",
       "            background-color:  #f4edf6;\n",
       "            color:  #000000;\n",
       "        }    #T_b6d8aa06_1a39_11ea_9380_a0a4c554f2a3row37_col12 {\n",
       "            background-color:  #fef6fa;\n",
       "            color:  #000000;\n",
       "        }    #T_b6d8aa06_1a39_11ea_9380_a0a4c554f2a3row37_col13 {\n",
       "            background-color:  #f1ebf4;\n",
       "            color:  #000000;\n",
       "        }    #T_b6d8aa06_1a39_11ea_9380_a0a4c554f2a3row37_col14 {\n",
       "            background-color:  #fff7fb;\n",
       "            color:  #000000;\n",
       "        }    #T_b6d8aa06_1a39_11ea_9380_a0a4c554f2a3row37_col15 {\n",
       "            background-color:  #fdf5fa;\n",
       "            color:  #000000;\n",
       "        }    #T_b6d8aa06_1a39_11ea_9380_a0a4c554f2a3row37_col16 {\n",
       "            background-color:  #eee9f3;\n",
       "            color:  #000000;\n",
       "        }    #T_b6d8aa06_1a39_11ea_9380_a0a4c554f2a3row37_col17 {\n",
       "            background-color:  #f8f1f8;\n",
       "            color:  #000000;\n",
       "        }    #T_b6d8aa06_1a39_11ea_9380_a0a4c554f2a3row37_col18 {\n",
       "            background-color:  #faf2f8;\n",
       "            color:  #000000;\n",
       "        }    #T_b6d8aa06_1a39_11ea_9380_a0a4c554f2a3row37_col19 {\n",
       "            background-color:  #fbf4f9;\n",
       "            color:  #000000;\n",
       "        }    #T_b6d8aa06_1a39_11ea_9380_a0a4c554f2a3row37_col20 {\n",
       "            background-color:  #fcf4fa;\n",
       "            color:  #000000;\n",
       "        }    #T_b6d8aa06_1a39_11ea_9380_a0a4c554f2a3row37_col21 {\n",
       "            background-color:  #fbf4f9;\n",
       "            color:  #000000;\n",
       "        }    #T_b6d8aa06_1a39_11ea_9380_a0a4c554f2a3row37_col22 {\n",
       "            background-color:  #fbf4f9;\n",
       "            color:  #000000;\n",
       "        }    #T_b6d8aa06_1a39_11ea_9380_a0a4c554f2a3row37_col23 {\n",
       "            background-color:  #fbf3f9;\n",
       "            color:  #000000;\n",
       "        }    #T_b6d8aa06_1a39_11ea_9380_a0a4c554f2a3row37_col24 {\n",
       "            background-color:  #fef6fa;\n",
       "            color:  #000000;\n",
       "        }    #T_b6d8aa06_1a39_11ea_9380_a0a4c554f2a3row37_col25 {\n",
       "            background-color:  #fdf5fa;\n",
       "            color:  #000000;\n",
       "        }    #T_b6d8aa06_1a39_11ea_9380_a0a4c554f2a3row37_col26 {\n",
       "            background-color:  #fcf4fa;\n",
       "            color:  #000000;\n",
       "        }    #T_b6d8aa06_1a39_11ea_9380_a0a4c554f2a3row38_col0 {\n",
       "            background-color:  #f5eef6;\n",
       "            color:  #000000;\n",
       "        }    #T_b6d8aa06_1a39_11ea_9380_a0a4c554f2a3row38_col1 {\n",
       "            background-color:  #f6eff7;\n",
       "            color:  #000000;\n",
       "        }    #T_b6d8aa06_1a39_11ea_9380_a0a4c554f2a3row38_col2 {\n",
       "            background-color:  #fbf3f9;\n",
       "            color:  #000000;\n",
       "        }    #T_b6d8aa06_1a39_11ea_9380_a0a4c554f2a3row38_col3 {\n",
       "            background-color:  #f9f2f8;\n",
       "            color:  #000000;\n",
       "        }    #T_b6d8aa06_1a39_11ea_9380_a0a4c554f2a3row38_col4 {\n",
       "            background-color:  #faf3f9;\n",
       "            color:  #000000;\n",
       "        }    #T_b6d8aa06_1a39_11ea_9380_a0a4c554f2a3row38_col5 {\n",
       "            background-color:  #f8f1f8;\n",
       "            color:  #000000;\n",
       "        }    #T_b6d8aa06_1a39_11ea_9380_a0a4c554f2a3row38_col6 {\n",
       "            background-color:  #fff7fb;\n",
       "            color:  #000000;\n",
       "        }    #T_b6d8aa06_1a39_11ea_9380_a0a4c554f2a3row38_col7 {\n",
       "            background-color:  #fef6fa;\n",
       "            color:  #000000;\n",
       "        }    #T_b6d8aa06_1a39_11ea_9380_a0a4c554f2a3row38_col8 {\n",
       "            background-color:  #fef6fa;\n",
       "            color:  #000000;\n",
       "        }    #T_b6d8aa06_1a39_11ea_9380_a0a4c554f2a3row38_col9 {\n",
       "            background-color:  #f8f1f8;\n",
       "            color:  #000000;\n",
       "        }    #T_b6d8aa06_1a39_11ea_9380_a0a4c554f2a3row38_col10 {\n",
       "            background-color:  #fdf5fa;\n",
       "            color:  #000000;\n",
       "        }    #T_b6d8aa06_1a39_11ea_9380_a0a4c554f2a3row38_col11 {\n",
       "            background-color:  #fcf4fa;\n",
       "            color:  #000000;\n",
       "        }    #T_b6d8aa06_1a39_11ea_9380_a0a4c554f2a3row38_col12 {\n",
       "            background-color:  #fef6fb;\n",
       "            color:  #000000;\n",
       "        }    #T_b6d8aa06_1a39_11ea_9380_a0a4c554f2a3row38_col13 {\n",
       "            background-color:  #f6eff7;\n",
       "            color:  #000000;\n",
       "        }    #T_b6d8aa06_1a39_11ea_9380_a0a4c554f2a3row38_col14 {\n",
       "            background-color:  #f7f0f7;\n",
       "            color:  #000000;\n",
       "        }    #T_b6d8aa06_1a39_11ea_9380_a0a4c554f2a3row38_col15 {\n",
       "            background-color:  #f8f1f8;\n",
       "            color:  #000000;\n",
       "        }    #T_b6d8aa06_1a39_11ea_9380_a0a4c554f2a3row38_col16 {\n",
       "            background-color:  #fbf4f9;\n",
       "            color:  #000000;\n",
       "        }    #T_b6d8aa06_1a39_11ea_9380_a0a4c554f2a3row38_col17 {\n",
       "            background-color:  #f9f2f8;\n",
       "            color:  #000000;\n",
       "        }    #T_b6d8aa06_1a39_11ea_9380_a0a4c554f2a3row38_col18 {\n",
       "            background-color:  #f6eff7;\n",
       "            color:  #000000;\n",
       "        }    #T_b6d8aa06_1a39_11ea_9380_a0a4c554f2a3row38_col19 {\n",
       "            background-color:  #f7f0f7;\n",
       "            color:  #000000;\n",
       "        }    #T_b6d8aa06_1a39_11ea_9380_a0a4c554f2a3row38_col20 {\n",
       "            background-color:  #f7f0f7;\n",
       "            color:  #000000;\n",
       "        }    #T_b6d8aa06_1a39_11ea_9380_a0a4c554f2a3row38_col21 {\n",
       "            background-color:  #f6eff7;\n",
       "            color:  #000000;\n",
       "        }    #T_b6d8aa06_1a39_11ea_9380_a0a4c554f2a3row38_col22 {\n",
       "            background-color:  #f8f1f8;\n",
       "            color:  #000000;\n",
       "        }    #T_b6d8aa06_1a39_11ea_9380_a0a4c554f2a3row38_col23 {\n",
       "            background-color:  #f7f0f7;\n",
       "            color:  #000000;\n",
       "        }    #T_b6d8aa06_1a39_11ea_9380_a0a4c554f2a3row38_col24 {\n",
       "            background-color:  #faf2f8;\n",
       "            color:  #000000;\n",
       "        }    #T_b6d8aa06_1a39_11ea_9380_a0a4c554f2a3row38_col25 {\n",
       "            background-color:  #fdf5fa;\n",
       "            color:  #000000;\n",
       "        }    #T_b6d8aa06_1a39_11ea_9380_a0a4c554f2a3row38_col26 {\n",
       "            background-color:  #fbf3f9;\n",
       "            color:  #000000;\n",
       "        }    #T_b6d8aa06_1a39_11ea_9380_a0a4c554f2a3row39_col0 {\n",
       "            background-color:  #fef6fb;\n",
       "            color:  #000000;\n",
       "        }    #T_b6d8aa06_1a39_11ea_9380_a0a4c554f2a3row39_col1 {\n",
       "            background-color:  #f3edf5;\n",
       "            color:  #000000;\n",
       "        }    #T_b6d8aa06_1a39_11ea_9380_a0a4c554f2a3row39_col2 {\n",
       "            background-color:  #f4edf6;\n",
       "            color:  #000000;\n",
       "        }    #T_b6d8aa06_1a39_11ea_9380_a0a4c554f2a3row39_col3 {\n",
       "            background-color:  #f7f0f7;\n",
       "            color:  #000000;\n",
       "        }    #T_b6d8aa06_1a39_11ea_9380_a0a4c554f2a3row39_col4 {\n",
       "            background-color:  #f5eff6;\n",
       "            color:  #000000;\n",
       "        }    #T_b6d8aa06_1a39_11ea_9380_a0a4c554f2a3row39_col5 {\n",
       "            background-color:  #faf2f8;\n",
       "            color:  #000000;\n",
       "        }    #T_b6d8aa06_1a39_11ea_9380_a0a4c554f2a3row39_col6 {\n",
       "            background-color:  #fef6fa;\n",
       "            color:  #000000;\n",
       "        }    #T_b6d8aa06_1a39_11ea_9380_a0a4c554f2a3row39_col7 {\n",
       "            background-color:  #faf3f9;\n",
       "            color:  #000000;\n",
       "        }    #T_b6d8aa06_1a39_11ea_9380_a0a4c554f2a3row39_col8 {\n",
       "            background-color:  #fef6fb;\n",
       "            color:  #000000;\n",
       "        }    #T_b6d8aa06_1a39_11ea_9380_a0a4c554f2a3row39_col9 {\n",
       "            background-color:  #f7f0f7;\n",
       "            color:  #000000;\n",
       "        }    #T_b6d8aa06_1a39_11ea_9380_a0a4c554f2a3row39_col10 {\n",
       "            background-color:  #fdf5fa;\n",
       "            color:  #000000;\n",
       "        }    #T_b6d8aa06_1a39_11ea_9380_a0a4c554f2a3row39_col11 {\n",
       "            background-color:  #fef6fb;\n",
       "            color:  #000000;\n",
       "        }    #T_b6d8aa06_1a39_11ea_9380_a0a4c554f2a3row39_col12 {\n",
       "            background-color:  #fff7fb;\n",
       "            color:  #000000;\n",
       "        }    #T_b6d8aa06_1a39_11ea_9380_a0a4c554f2a3row39_col13 {\n",
       "            background-color:  #f7f0f7;\n",
       "            color:  #000000;\n",
       "        }    #T_b6d8aa06_1a39_11ea_9380_a0a4c554f2a3row39_col14 {\n",
       "            background-color:  #f9f2f8;\n",
       "            color:  #000000;\n",
       "        }    #T_b6d8aa06_1a39_11ea_9380_a0a4c554f2a3row39_col15 {\n",
       "            background-color:  #f9f2f8;\n",
       "            color:  #000000;\n",
       "        }    #T_b6d8aa06_1a39_11ea_9380_a0a4c554f2a3row39_col16 {\n",
       "            background-color:  #fcf4fa;\n",
       "            color:  #000000;\n",
       "        }    #T_b6d8aa06_1a39_11ea_9380_a0a4c554f2a3row39_col17 {\n",
       "            background-color:  #fcf4fa;\n",
       "            color:  #000000;\n",
       "        }    #T_b6d8aa06_1a39_11ea_9380_a0a4c554f2a3row39_col18 {\n",
       "            background-color:  #faf3f9;\n",
       "            color:  #000000;\n",
       "        }    #T_b6d8aa06_1a39_11ea_9380_a0a4c554f2a3row39_col19 {\n",
       "            background-color:  #fbf3f9;\n",
       "            color:  #000000;\n",
       "        }    #T_b6d8aa06_1a39_11ea_9380_a0a4c554f2a3row39_col20 {\n",
       "            background-color:  #faf3f9;\n",
       "            color:  #000000;\n",
       "        }    #T_b6d8aa06_1a39_11ea_9380_a0a4c554f2a3row39_col21 {\n",
       "            background-color:  #faf3f9;\n",
       "            color:  #000000;\n",
       "        }    #T_b6d8aa06_1a39_11ea_9380_a0a4c554f2a3row39_col22 {\n",
       "            background-color:  #fbf3f9;\n",
       "            color:  #000000;\n",
       "        }    #T_b6d8aa06_1a39_11ea_9380_a0a4c554f2a3row39_col23 {\n",
       "            background-color:  #fbf3f9;\n",
       "            color:  #000000;\n",
       "        }    #T_b6d8aa06_1a39_11ea_9380_a0a4c554f2a3row39_col24 {\n",
       "            background-color:  #fbf3f9;\n",
       "            color:  #000000;\n",
       "        }    #T_b6d8aa06_1a39_11ea_9380_a0a4c554f2a3row39_col25 {\n",
       "            background-color:  #fdf5fa;\n",
       "            color:  #000000;\n",
       "        }    #T_b6d8aa06_1a39_11ea_9380_a0a4c554f2a3row39_col26 {\n",
       "            background-color:  #fbf3f9;\n",
       "            color:  #000000;\n",
       "        }    #T_b6d8aa06_1a39_11ea_9380_a0a4c554f2a3row40_col0 {\n",
       "            background-color:  #fff7fb;\n",
       "            color:  #000000;\n",
       "        }    #T_b6d8aa06_1a39_11ea_9380_a0a4c554f2a3row40_col1 {\n",
       "            background-color:  #e7e3f0;\n",
       "            color:  #000000;\n",
       "        }    #T_b6d8aa06_1a39_11ea_9380_a0a4c554f2a3row40_col2 {\n",
       "            background-color:  #e0dded;\n",
       "            color:  #000000;\n",
       "        }    #T_b6d8aa06_1a39_11ea_9380_a0a4c554f2a3row40_col3 {\n",
       "            background-color:  #e7e3f0;\n",
       "            color:  #000000;\n",
       "        }    #T_b6d8aa06_1a39_11ea_9380_a0a4c554f2a3row40_col4 {\n",
       "            background-color:  #e9e5f1;\n",
       "            color:  #000000;\n",
       "        }    #T_b6d8aa06_1a39_11ea_9380_a0a4c554f2a3row40_col5 {\n",
       "            background-color:  #cacee5;\n",
       "            color:  #000000;\n",
       "        }    #T_b6d8aa06_1a39_11ea_9380_a0a4c554f2a3row40_col6 {\n",
       "            background-color:  #fff7fb;\n",
       "            color:  #000000;\n",
       "        }    #T_b6d8aa06_1a39_11ea_9380_a0a4c554f2a3row40_col7 {\n",
       "            background-color:  #ced0e6;\n",
       "            color:  #000000;\n",
       "        }    #T_b6d8aa06_1a39_11ea_9380_a0a4c554f2a3row40_col8 {\n",
       "            background-color:  #c8cde4;\n",
       "            color:  #000000;\n",
       "        }    #T_b6d8aa06_1a39_11ea_9380_a0a4c554f2a3row40_col9 {\n",
       "            background-color:  #d8d7e9;\n",
       "            color:  #000000;\n",
       "        }    #T_b6d8aa06_1a39_11ea_9380_a0a4c554f2a3row40_col10 {\n",
       "            background-color:  #e7e3f0;\n",
       "            color:  #000000;\n",
       "        }    #T_b6d8aa06_1a39_11ea_9380_a0a4c554f2a3row40_col11 {\n",
       "            background-color:  #e3e0ee;\n",
       "            color:  #000000;\n",
       "        }    #T_b6d8aa06_1a39_11ea_9380_a0a4c554f2a3row40_col12 {\n",
       "            background-color:  #f0eaf4;\n",
       "            color:  #000000;\n",
       "        }    #T_b6d8aa06_1a39_11ea_9380_a0a4c554f2a3row40_col13 {\n",
       "            background-color:  #f0eaf4;\n",
       "            color:  #000000;\n",
       "        }    #T_b6d8aa06_1a39_11ea_9380_a0a4c554f2a3row40_col14 {\n",
       "            background-color:  #f7f0f7;\n",
       "            color:  #000000;\n",
       "        }    #T_b6d8aa06_1a39_11ea_9380_a0a4c554f2a3row40_col15 {\n",
       "            background-color:  #f4edf6;\n",
       "            color:  #000000;\n",
       "        }    #T_b6d8aa06_1a39_11ea_9380_a0a4c554f2a3row40_col16 {\n",
       "            background-color:  #ede8f3;\n",
       "            color:  #000000;\n",
       "        }    #T_b6d8aa06_1a39_11ea_9380_a0a4c554f2a3row40_col17 {\n",
       "            background-color:  #f4edf6;\n",
       "            color:  #000000;\n",
       "        }    #T_b6d8aa06_1a39_11ea_9380_a0a4c554f2a3row40_col18 {\n",
       "            background-color:  #f5eff6;\n",
       "            color:  #000000;\n",
       "        }    #T_b6d8aa06_1a39_11ea_9380_a0a4c554f2a3row40_col19 {\n",
       "            background-color:  #f7f0f7;\n",
       "            color:  #000000;\n",
       "        }    #T_b6d8aa06_1a39_11ea_9380_a0a4c554f2a3row40_col20 {\n",
       "            background-color:  #f5eff6;\n",
       "            color:  #000000;\n",
       "        }    #T_b6d8aa06_1a39_11ea_9380_a0a4c554f2a3row40_col21 {\n",
       "            background-color:  #f5eef6;\n",
       "            color:  #000000;\n",
       "        }    #T_b6d8aa06_1a39_11ea_9380_a0a4c554f2a3row40_col22 {\n",
       "            background-color:  #f5eff6;\n",
       "            color:  #000000;\n",
       "        }    #T_b6d8aa06_1a39_11ea_9380_a0a4c554f2a3row40_col23 {\n",
       "            background-color:  #f5eff6;\n",
       "            color:  #000000;\n",
       "        }    #T_b6d8aa06_1a39_11ea_9380_a0a4c554f2a3row40_col24 {\n",
       "            background-color:  #f8f1f8;\n",
       "            color:  #000000;\n",
       "        }    #T_b6d8aa06_1a39_11ea_9380_a0a4c554f2a3row40_col25 {\n",
       "            background-color:  #fdf5fa;\n",
       "            color:  #000000;\n",
       "        }    #T_b6d8aa06_1a39_11ea_9380_a0a4c554f2a3row40_col26 {\n",
       "            background-color:  #f4edf6;\n",
       "            color:  #000000;\n",
       "        }    #T_b6d8aa06_1a39_11ea_9380_a0a4c554f2a3row41_col0 {\n",
       "            background-color:  #fef6fa;\n",
       "            color:  #000000;\n",
       "        }    #T_b6d8aa06_1a39_11ea_9380_a0a4c554f2a3row41_col1 {\n",
       "            background-color:  #fdf5fa;\n",
       "            color:  #000000;\n",
       "        }    #T_b6d8aa06_1a39_11ea_9380_a0a4c554f2a3row41_col2 {\n",
       "            background-color:  #fbf3f9;\n",
       "            color:  #000000;\n",
       "        }    #T_b6d8aa06_1a39_11ea_9380_a0a4c554f2a3row41_col3 {\n",
       "            background-color:  #fdf5fa;\n",
       "            color:  #000000;\n",
       "        }    #T_b6d8aa06_1a39_11ea_9380_a0a4c554f2a3row41_col4 {\n",
       "            background-color:  #fdf5fa;\n",
       "            color:  #000000;\n",
       "        }    #T_b6d8aa06_1a39_11ea_9380_a0a4c554f2a3row41_col5 {\n",
       "            background-color:  #fdf5fa;\n",
       "            color:  #000000;\n",
       "        }    #T_b6d8aa06_1a39_11ea_9380_a0a4c554f2a3row41_col6 {\n",
       "            background-color:  #fef6fa;\n",
       "            color:  #000000;\n",
       "        }    #T_b6d8aa06_1a39_11ea_9380_a0a4c554f2a3row41_col7 {\n",
       "            background-color:  #fdf5fa;\n",
       "            color:  #000000;\n",
       "        }    #T_b6d8aa06_1a39_11ea_9380_a0a4c554f2a3row41_col8 {\n",
       "            background-color:  #fdf5fa;\n",
       "            color:  #000000;\n",
       "        }    #T_b6d8aa06_1a39_11ea_9380_a0a4c554f2a3row41_col9 {\n",
       "            background-color:  #faf2f8;\n",
       "            color:  #000000;\n",
       "        }    #T_b6d8aa06_1a39_11ea_9380_a0a4c554f2a3row41_col10 {\n",
       "            background-color:  #fbf4f9;\n",
       "            color:  #000000;\n",
       "        }    #T_b6d8aa06_1a39_11ea_9380_a0a4c554f2a3row41_col11 {\n",
       "            background-color:  #faf3f9;\n",
       "            color:  #000000;\n",
       "        }    #T_b6d8aa06_1a39_11ea_9380_a0a4c554f2a3row41_col12 {\n",
       "            background-color:  #fef6fa;\n",
       "            color:  #000000;\n",
       "        }    #T_b6d8aa06_1a39_11ea_9380_a0a4c554f2a3row41_col13 {\n",
       "            background-color:  #fdf5fa;\n",
       "            color:  #000000;\n",
       "        }    #T_b6d8aa06_1a39_11ea_9380_a0a4c554f2a3row41_col14 {\n",
       "            background-color:  #fef6fa;\n",
       "            color:  #000000;\n",
       "        }    #T_b6d8aa06_1a39_11ea_9380_a0a4c554f2a3row41_col15 {\n",
       "            background-color:  #fdf5fa;\n",
       "            color:  #000000;\n",
       "        }    #T_b6d8aa06_1a39_11ea_9380_a0a4c554f2a3row41_col16 {\n",
       "            background-color:  #fcf4fa;\n",
       "            color:  #000000;\n",
       "        }    #T_b6d8aa06_1a39_11ea_9380_a0a4c554f2a3row41_col17 {\n",
       "            background-color:  #fbf3f9;\n",
       "            color:  #000000;\n",
       "        }    #T_b6d8aa06_1a39_11ea_9380_a0a4c554f2a3row41_col18 {\n",
       "            background-color:  #f7f0f7;\n",
       "            color:  #000000;\n",
       "        }    #T_b6d8aa06_1a39_11ea_9380_a0a4c554f2a3row41_col19 {\n",
       "            background-color:  #f7f0f7;\n",
       "            color:  #000000;\n",
       "        }    #T_b6d8aa06_1a39_11ea_9380_a0a4c554f2a3row41_col20 {\n",
       "            background-color:  #f7f0f7;\n",
       "            color:  #000000;\n",
       "        }    #T_b6d8aa06_1a39_11ea_9380_a0a4c554f2a3row41_col21 {\n",
       "            background-color:  #f7f0f7;\n",
       "            color:  #000000;\n",
       "        }    #T_b6d8aa06_1a39_11ea_9380_a0a4c554f2a3row41_col22 {\n",
       "            background-color:  #f8f1f8;\n",
       "            color:  #000000;\n",
       "        }    #T_b6d8aa06_1a39_11ea_9380_a0a4c554f2a3row41_col23 {\n",
       "            background-color:  #f8f1f8;\n",
       "            color:  #000000;\n",
       "        }    #T_b6d8aa06_1a39_11ea_9380_a0a4c554f2a3row41_col24 {\n",
       "            background-color:  #faf3f9;\n",
       "            color:  #000000;\n",
       "        }    #T_b6d8aa06_1a39_11ea_9380_a0a4c554f2a3row41_col25 {\n",
       "            background-color:  #fef6fa;\n",
       "            color:  #000000;\n",
       "        }    #T_b6d8aa06_1a39_11ea_9380_a0a4c554f2a3row41_col26 {\n",
       "            background-color:  #fdf5fa;\n",
       "            color:  #000000;\n",
       "        }    #T_b6d8aa06_1a39_11ea_9380_a0a4c554f2a3row42_col0 {\n",
       "            background-color:  #fff7fb;\n",
       "            color:  #000000;\n",
       "        }    #T_b6d8aa06_1a39_11ea_9380_a0a4c554f2a3row42_col1 {\n",
       "            background-color:  #faf2f8;\n",
       "            color:  #000000;\n",
       "        }    #T_b6d8aa06_1a39_11ea_9380_a0a4c554f2a3row42_col2 {\n",
       "            background-color:  #f9f2f8;\n",
       "            color:  #000000;\n",
       "        }    #T_b6d8aa06_1a39_11ea_9380_a0a4c554f2a3row42_col3 {\n",
       "            background-color:  #fbf3f9;\n",
       "            color:  #000000;\n",
       "        }    #T_b6d8aa06_1a39_11ea_9380_a0a4c554f2a3row42_col4 {\n",
       "            background-color:  #fbf3f9;\n",
       "            color:  #000000;\n",
       "        }    #T_b6d8aa06_1a39_11ea_9380_a0a4c554f2a3row42_col5 {\n",
       "            background-color:  #faf2f8;\n",
       "            color:  #000000;\n",
       "        }    #T_b6d8aa06_1a39_11ea_9380_a0a4c554f2a3row42_col6 {\n",
       "            background-color:  #fff7fb;\n",
       "            color:  #000000;\n",
       "        }    #T_b6d8aa06_1a39_11ea_9380_a0a4c554f2a3row42_col7 {\n",
       "            background-color:  #fbf4f9;\n",
       "            color:  #000000;\n",
       "        }    #T_b6d8aa06_1a39_11ea_9380_a0a4c554f2a3row42_col8 {\n",
       "            background-color:  #fff7fb;\n",
       "            color:  #000000;\n",
       "        }    #T_b6d8aa06_1a39_11ea_9380_a0a4c554f2a3row42_col9 {\n",
       "            background-color:  #faf2f8;\n",
       "            color:  #000000;\n",
       "        }    #T_b6d8aa06_1a39_11ea_9380_a0a4c554f2a3row42_col10 {\n",
       "            background-color:  #fdf5fa;\n",
       "            color:  #000000;\n",
       "        }    #T_b6d8aa06_1a39_11ea_9380_a0a4c554f2a3row42_col11 {\n",
       "            background-color:  #fdf5fa;\n",
       "            color:  #000000;\n",
       "        }    #T_b6d8aa06_1a39_11ea_9380_a0a4c554f2a3row42_col12 {\n",
       "            background-color:  #fff7fb;\n",
       "            color:  #000000;\n",
       "        }    #T_b6d8aa06_1a39_11ea_9380_a0a4c554f2a3row42_col13 {\n",
       "            background-color:  #fbf4f9;\n",
       "            color:  #000000;\n",
       "        }    #T_b6d8aa06_1a39_11ea_9380_a0a4c554f2a3row42_col14 {\n",
       "            background-color:  #fdf5fa;\n",
       "            color:  #000000;\n",
       "        }    #T_b6d8aa06_1a39_11ea_9380_a0a4c554f2a3row42_col15 {\n",
       "            background-color:  #fdf5fa;\n",
       "            color:  #000000;\n",
       "        }    #T_b6d8aa06_1a39_11ea_9380_a0a4c554f2a3row42_col16 {\n",
       "            background-color:  #f9f2f8;\n",
       "            color:  #000000;\n",
       "        }    #T_b6d8aa06_1a39_11ea_9380_a0a4c554f2a3row42_col17 {\n",
       "            background-color:  #fdf5fa;\n",
       "            color:  #000000;\n",
       "        }    #T_b6d8aa06_1a39_11ea_9380_a0a4c554f2a3row42_col18 {\n",
       "            background-color:  #fbf3f9;\n",
       "            color:  #000000;\n",
       "        }    #T_b6d8aa06_1a39_11ea_9380_a0a4c554f2a3row42_col19 {\n",
       "            background-color:  #fbf4f9;\n",
       "            color:  #000000;\n",
       "        }    #T_b6d8aa06_1a39_11ea_9380_a0a4c554f2a3row42_col20 {\n",
       "            background-color:  #fbf3f9;\n",
       "            color:  #000000;\n",
       "        }    #T_b6d8aa06_1a39_11ea_9380_a0a4c554f2a3row42_col21 {\n",
       "            background-color:  #fbf3f9;\n",
       "            color:  #000000;\n",
       "        }    #T_b6d8aa06_1a39_11ea_9380_a0a4c554f2a3row42_col22 {\n",
       "            background-color:  #fbf3f9;\n",
       "            color:  #000000;\n",
       "        }    #T_b6d8aa06_1a39_11ea_9380_a0a4c554f2a3row42_col23 {\n",
       "            background-color:  #fbf3f9;\n",
       "            color:  #000000;\n",
       "        }    #T_b6d8aa06_1a39_11ea_9380_a0a4c554f2a3row42_col24 {\n",
       "            background-color:  #fdf5fa;\n",
       "            color:  #000000;\n",
       "        }    #T_b6d8aa06_1a39_11ea_9380_a0a4c554f2a3row42_col25 {\n",
       "            background-color:  #fef6fa;\n",
       "            color:  #000000;\n",
       "        }    #T_b6d8aa06_1a39_11ea_9380_a0a4c554f2a3row42_col26 {\n",
       "            background-color:  #fbf3f9;\n",
       "            color:  #000000;\n",
       "        }    #T_b6d8aa06_1a39_11ea_9380_a0a4c554f2a3row43_col0 {\n",
       "            background-color:  #fff7fb;\n",
       "            color:  #000000;\n",
       "        }    #T_b6d8aa06_1a39_11ea_9380_a0a4c554f2a3row43_col1 {\n",
       "            background-color:  #f3edf5;\n",
       "            color:  #000000;\n",
       "        }    #T_b6d8aa06_1a39_11ea_9380_a0a4c554f2a3row43_col2 {\n",
       "            background-color:  #fef6fb;\n",
       "            color:  #000000;\n",
       "        }    #T_b6d8aa06_1a39_11ea_9380_a0a4c554f2a3row43_col3 {\n",
       "            background-color:  #f8f1f8;\n",
       "            color:  #000000;\n",
       "        }    #T_b6d8aa06_1a39_11ea_9380_a0a4c554f2a3row43_col4 {\n",
       "            background-color:  #fbf4f9;\n",
       "            color:  #000000;\n",
       "        }    #T_b6d8aa06_1a39_11ea_9380_a0a4c554f2a3row43_col5 {\n",
       "            background-color:  #e5e1ef;\n",
       "            color:  #000000;\n",
       "        }    #T_b6d8aa06_1a39_11ea_9380_a0a4c554f2a3row43_col6 {\n",
       "            background-color:  #fff7fb;\n",
       "            color:  #000000;\n",
       "        }    #T_b6d8aa06_1a39_11ea_9380_a0a4c554f2a3row43_col7 {\n",
       "            background-color:  #faf2f8;\n",
       "            color:  #000000;\n",
       "        }    #T_b6d8aa06_1a39_11ea_9380_a0a4c554f2a3row43_col8 {\n",
       "            background-color:  #fdf5fa;\n",
       "            color:  #000000;\n",
       "        }    #T_b6d8aa06_1a39_11ea_9380_a0a4c554f2a3row43_col9 {\n",
       "            background-color:  #f5eff6;\n",
       "            color:  #000000;\n",
       "        }    #T_b6d8aa06_1a39_11ea_9380_a0a4c554f2a3row43_col10 {\n",
       "            background-color:  #fdf5fa;\n",
       "            color:  #000000;\n",
       "        }    #T_b6d8aa06_1a39_11ea_9380_a0a4c554f2a3row43_col11 {\n",
       "            background-color:  #fdf5fa;\n",
       "            color:  #000000;\n",
       "        }    #T_b6d8aa06_1a39_11ea_9380_a0a4c554f2a3row43_col12 {\n",
       "            background-color:  #fff7fb;\n",
       "            color:  #000000;\n",
       "        }    #T_b6d8aa06_1a39_11ea_9380_a0a4c554f2a3row43_col13 {\n",
       "            background-color:  #faf2f8;\n",
       "            color:  #000000;\n",
       "        }    #T_b6d8aa06_1a39_11ea_9380_a0a4c554f2a3row43_col14 {\n",
       "            background-color:  #f9f2f8;\n",
       "            color:  #000000;\n",
       "        }    #T_b6d8aa06_1a39_11ea_9380_a0a4c554f2a3row43_col15 {\n",
       "            background-color:  #fbf3f9;\n",
       "            color:  #000000;\n",
       "        }    #T_b6d8aa06_1a39_11ea_9380_a0a4c554f2a3row43_col16 {\n",
       "            background-color:  #f2ecf5;\n",
       "            color:  #000000;\n",
       "        }    #T_b6d8aa06_1a39_11ea_9380_a0a4c554f2a3row43_col17 {\n",
       "            background-color:  #f8f1f8;\n",
       "            color:  #000000;\n",
       "        }    #T_b6d8aa06_1a39_11ea_9380_a0a4c554f2a3row43_col18 {\n",
       "            background-color:  #f9f2f8;\n",
       "            color:  #000000;\n",
       "        }    #T_b6d8aa06_1a39_11ea_9380_a0a4c554f2a3row43_col19 {\n",
       "            background-color:  #faf2f8;\n",
       "            color:  #000000;\n",
       "        }    #T_b6d8aa06_1a39_11ea_9380_a0a4c554f2a3row43_col20 {\n",
       "            background-color:  #f8f1f8;\n",
       "            color:  #000000;\n",
       "        }    #T_b6d8aa06_1a39_11ea_9380_a0a4c554f2a3row43_col21 {\n",
       "            background-color:  #f5eff6;\n",
       "            color:  #000000;\n",
       "        }    #T_b6d8aa06_1a39_11ea_9380_a0a4c554f2a3row43_col22 {\n",
       "            background-color:  #f5eff6;\n",
       "            color:  #000000;\n",
       "        }    #T_b6d8aa06_1a39_11ea_9380_a0a4c554f2a3row43_col23 {\n",
       "            background-color:  #f5eff6;\n",
       "            color:  #000000;\n",
       "        }    #T_b6d8aa06_1a39_11ea_9380_a0a4c554f2a3row43_col24 {\n",
       "            background-color:  #faf3f9;\n",
       "            color:  #000000;\n",
       "        }    #T_b6d8aa06_1a39_11ea_9380_a0a4c554f2a3row43_col25 {\n",
       "            background-color:  #fef6fb;\n",
       "            color:  #000000;\n",
       "        }    #T_b6d8aa06_1a39_11ea_9380_a0a4c554f2a3row43_col26 {\n",
       "            background-color:  #f1ebf5;\n",
       "            color:  #000000;\n",
       "        }    #T_b6d8aa06_1a39_11ea_9380_a0a4c554f2a3row44_col0 {\n",
       "            background-color:  #fdf5fa;\n",
       "            color:  #000000;\n",
       "        }    #T_b6d8aa06_1a39_11ea_9380_a0a4c554f2a3row44_col1 {\n",
       "            background-color:  #f5eef6;\n",
       "            color:  #000000;\n",
       "        }    #T_b6d8aa06_1a39_11ea_9380_a0a4c554f2a3row44_col2 {\n",
       "            background-color:  #f9f2f8;\n",
       "            color:  #000000;\n",
       "        }    #T_b6d8aa06_1a39_11ea_9380_a0a4c554f2a3row44_col3 {\n",
       "            background-color:  #f4eef6;\n",
       "            color:  #000000;\n",
       "        }    #T_b6d8aa06_1a39_11ea_9380_a0a4c554f2a3row44_col4 {\n",
       "            background-color:  #f8f1f8;\n",
       "            color:  #000000;\n",
       "        }    #T_b6d8aa06_1a39_11ea_9380_a0a4c554f2a3row44_col5 {\n",
       "            background-color:  #eee8f3;\n",
       "            color:  #000000;\n",
       "        }    #T_b6d8aa06_1a39_11ea_9380_a0a4c554f2a3row44_col6 {\n",
       "            background-color:  #fcf4fa;\n",
       "            color:  #000000;\n",
       "        }    #T_b6d8aa06_1a39_11ea_9380_a0a4c554f2a3row44_col7 {\n",
       "            background-color:  #f5eef6;\n",
       "            color:  #000000;\n",
       "        }    #T_b6d8aa06_1a39_11ea_9380_a0a4c554f2a3row44_col8 {\n",
       "            background-color:  #fdf5fa;\n",
       "            color:  #000000;\n",
       "        }    #T_b6d8aa06_1a39_11ea_9380_a0a4c554f2a3row44_col9 {\n",
       "            background-color:  #f8f1f8;\n",
       "            color:  #000000;\n",
       "        }    #T_b6d8aa06_1a39_11ea_9380_a0a4c554f2a3row44_col10 {\n",
       "            background-color:  #fdf5fa;\n",
       "            color:  #000000;\n",
       "        }    #T_b6d8aa06_1a39_11ea_9380_a0a4c554f2a3row44_col11 {\n",
       "            background-color:  #fdf5fa;\n",
       "            color:  #000000;\n",
       "        }    #T_b6d8aa06_1a39_11ea_9380_a0a4c554f2a3row44_col12 {\n",
       "            background-color:  #fff7fb;\n",
       "            color:  #000000;\n",
       "        }    #T_b6d8aa06_1a39_11ea_9380_a0a4c554f2a3row44_col13 {\n",
       "            background-color:  #fdf5fa;\n",
       "            color:  #000000;\n",
       "        }    #T_b6d8aa06_1a39_11ea_9380_a0a4c554f2a3row44_col14 {\n",
       "            background-color:  #fef6fa;\n",
       "            color:  #000000;\n",
       "        }    #T_b6d8aa06_1a39_11ea_9380_a0a4c554f2a3row44_col15 {\n",
       "            background-color:  #fef6fb;\n",
       "            color:  #000000;\n",
       "        }    #T_b6d8aa06_1a39_11ea_9380_a0a4c554f2a3row44_col16 {\n",
       "            background-color:  #f7f0f7;\n",
       "            color:  #000000;\n",
       "        }    #T_b6d8aa06_1a39_11ea_9380_a0a4c554f2a3row44_col17 {\n",
       "            background-color:  #faf3f9;\n",
       "            color:  #000000;\n",
       "        }    #T_b6d8aa06_1a39_11ea_9380_a0a4c554f2a3row44_col18 {\n",
       "            background-color:  #fbf3f9;\n",
       "            color:  #000000;\n",
       "        }    #T_b6d8aa06_1a39_11ea_9380_a0a4c554f2a3row44_col19 {\n",
       "            background-color:  #fbf3f9;\n",
       "            color:  #000000;\n",
       "        }    #T_b6d8aa06_1a39_11ea_9380_a0a4c554f2a3row44_col20 {\n",
       "            background-color:  #fbf3f9;\n",
       "            color:  #000000;\n",
       "        }    #T_b6d8aa06_1a39_11ea_9380_a0a4c554f2a3row44_col21 {\n",
       "            background-color:  #faf3f9;\n",
       "            color:  #000000;\n",
       "        }    #T_b6d8aa06_1a39_11ea_9380_a0a4c554f2a3row44_col22 {\n",
       "            background-color:  #fbf3f9;\n",
       "            color:  #000000;\n",
       "        }    #T_b6d8aa06_1a39_11ea_9380_a0a4c554f2a3row44_col23 {\n",
       "            background-color:  #fbf4f9;\n",
       "            color:  #000000;\n",
       "        }    #T_b6d8aa06_1a39_11ea_9380_a0a4c554f2a3row44_col24 {\n",
       "            background-color:  #fef6fa;\n",
       "            color:  #000000;\n",
       "        }    #T_b6d8aa06_1a39_11ea_9380_a0a4c554f2a3row44_col25 {\n",
       "            background-color:  #fef6fb;\n",
       "            color:  #000000;\n",
       "        }    #T_b6d8aa06_1a39_11ea_9380_a0a4c554f2a3row44_col26 {\n",
       "            background-color:  #fef6fb;\n",
       "            color:  #000000;\n",
       "        }    #T_b6d8aa06_1a39_11ea_9380_a0a4c554f2a3row45_col0 {\n",
       "            background-color:  #f9f2f8;\n",
       "            color:  #000000;\n",
       "        }    #T_b6d8aa06_1a39_11ea_9380_a0a4c554f2a3row45_col1 {\n",
       "            background-color:  #f8f1f8;\n",
       "            color:  #000000;\n",
       "        }    #T_b6d8aa06_1a39_11ea_9380_a0a4c554f2a3row45_col2 {\n",
       "            background-color:  #f9f2f8;\n",
       "            color:  #000000;\n",
       "        }    #T_b6d8aa06_1a39_11ea_9380_a0a4c554f2a3row45_col3 {\n",
       "            background-color:  #f7f0f7;\n",
       "            color:  #000000;\n",
       "        }    #T_b6d8aa06_1a39_11ea_9380_a0a4c554f2a3row45_col4 {\n",
       "            background-color:  #ede8f3;\n",
       "            color:  #000000;\n",
       "        }    #T_b6d8aa06_1a39_11ea_9380_a0a4c554f2a3row45_col5 {\n",
       "            background-color:  #f1ebf5;\n",
       "            color:  #000000;\n",
       "        }    #T_b6d8aa06_1a39_11ea_9380_a0a4c554f2a3row45_col6 {\n",
       "            background-color:  #faf3f9;\n",
       "            color:  #000000;\n",
       "        }    #T_b6d8aa06_1a39_11ea_9380_a0a4c554f2a3row45_col7 {\n",
       "            background-color:  #faf3f9;\n",
       "            color:  #000000;\n",
       "        }    #T_b6d8aa06_1a39_11ea_9380_a0a4c554f2a3row45_col8 {\n",
       "            background-color:  #fdf5fa;\n",
       "            color:  #000000;\n",
       "        }    #T_b6d8aa06_1a39_11ea_9380_a0a4c554f2a3row45_col9 {\n",
       "            background-color:  #f2ecf5;\n",
       "            color:  #000000;\n",
       "        }    #T_b6d8aa06_1a39_11ea_9380_a0a4c554f2a3row45_col10 {\n",
       "            background-color:  #f8f1f8;\n",
       "            color:  #000000;\n",
       "        }    #T_b6d8aa06_1a39_11ea_9380_a0a4c554f2a3row45_col11 {\n",
       "            background-color:  #faf2f8;\n",
       "            color:  #000000;\n",
       "        }    #T_b6d8aa06_1a39_11ea_9380_a0a4c554f2a3row45_col12 {\n",
       "            background-color:  #fef6fa;\n",
       "            color:  #000000;\n",
       "        }    #T_b6d8aa06_1a39_11ea_9380_a0a4c554f2a3row45_col13 {\n",
       "            background-color:  #f4edf6;\n",
       "            color:  #000000;\n",
       "        }    #T_b6d8aa06_1a39_11ea_9380_a0a4c554f2a3row45_col14 {\n",
       "            background-color:  #faf2f8;\n",
       "            color:  #000000;\n",
       "        }    #T_b6d8aa06_1a39_11ea_9380_a0a4c554f2a3row45_col15 {\n",
       "            background-color:  #f9f2f8;\n",
       "            color:  #000000;\n",
       "        }    #T_b6d8aa06_1a39_11ea_9380_a0a4c554f2a3row45_col16 {\n",
       "            background-color:  #fdf5fa;\n",
       "            color:  #000000;\n",
       "        }    #T_b6d8aa06_1a39_11ea_9380_a0a4c554f2a3row45_col17 {\n",
       "            background-color:  #fef6fa;\n",
       "            color:  #000000;\n",
       "        }    #T_b6d8aa06_1a39_11ea_9380_a0a4c554f2a3row45_col18 {\n",
       "            background-color:  #fbf4f9;\n",
       "            color:  #000000;\n",
       "        }    #T_b6d8aa06_1a39_11ea_9380_a0a4c554f2a3row45_col19 {\n",
       "            background-color:  #fbf4f9;\n",
       "            color:  #000000;\n",
       "        }    #T_b6d8aa06_1a39_11ea_9380_a0a4c554f2a3row45_col20 {\n",
       "            background-color:  #faf3f9;\n",
       "            color:  #000000;\n",
       "        }    #T_b6d8aa06_1a39_11ea_9380_a0a4c554f2a3row45_col21 {\n",
       "            background-color:  #faf3f9;\n",
       "            color:  #000000;\n",
       "        }    #T_b6d8aa06_1a39_11ea_9380_a0a4c554f2a3row45_col22 {\n",
       "            background-color:  #fbf4f9;\n",
       "            color:  #000000;\n",
       "        }    #T_b6d8aa06_1a39_11ea_9380_a0a4c554f2a3row45_col23 {\n",
       "            background-color:  #fdf5fa;\n",
       "            color:  #000000;\n",
       "        }    #T_b6d8aa06_1a39_11ea_9380_a0a4c554f2a3row45_col24 {\n",
       "            background-color:  #fef6fb;\n",
       "            color:  #000000;\n",
       "        }    #T_b6d8aa06_1a39_11ea_9380_a0a4c554f2a3row45_col25 {\n",
       "            background-color:  #fef6fb;\n",
       "            color:  #000000;\n",
       "        }    #T_b6d8aa06_1a39_11ea_9380_a0a4c554f2a3row45_col26 {\n",
       "            background-color:  #dcdaeb;\n",
       "            color:  #000000;\n",
       "        }    #T_b6d8aa06_1a39_11ea_9380_a0a4c554f2a3row46_col0 {\n",
       "            background-color:  #fef6fb;\n",
       "            color:  #000000;\n",
       "        }    #T_b6d8aa06_1a39_11ea_9380_a0a4c554f2a3row46_col1 {\n",
       "            background-color:  #eee8f3;\n",
       "            color:  #000000;\n",
       "        }    #T_b6d8aa06_1a39_11ea_9380_a0a4c554f2a3row46_col2 {\n",
       "            background-color:  #fbf3f9;\n",
       "            color:  #000000;\n",
       "        }    #T_b6d8aa06_1a39_11ea_9380_a0a4c554f2a3row46_col3 {\n",
       "            background-color:  #faf2f8;\n",
       "            color:  #000000;\n",
       "        }    #T_b6d8aa06_1a39_11ea_9380_a0a4c554f2a3row46_col4 {\n",
       "            background-color:  #f5eff6;\n",
       "            color:  #000000;\n",
       "        }    #T_b6d8aa06_1a39_11ea_9380_a0a4c554f2a3row46_col5 {\n",
       "            background-color:  #f4eef6;\n",
       "            color:  #000000;\n",
       "        }    #T_b6d8aa06_1a39_11ea_9380_a0a4c554f2a3row46_col6 {\n",
       "            background-color:  #f6eff7;\n",
       "            color:  #000000;\n",
       "        }    #T_b6d8aa06_1a39_11ea_9380_a0a4c554f2a3row46_col7 {\n",
       "            background-color:  #f8f1f8;\n",
       "            color:  #000000;\n",
       "        }    #T_b6d8aa06_1a39_11ea_9380_a0a4c554f2a3row46_col8 {\n",
       "            background-color:  #ebe6f2;\n",
       "            color:  #000000;\n",
       "        }    #T_b6d8aa06_1a39_11ea_9380_a0a4c554f2a3row46_col9 {\n",
       "            background-color:  #fdf5fa;\n",
       "            color:  #000000;\n",
       "        }    #T_b6d8aa06_1a39_11ea_9380_a0a4c554f2a3row46_col10 {\n",
       "            background-color:  #f6eff7;\n",
       "            color:  #000000;\n",
       "        }    #T_b6d8aa06_1a39_11ea_9380_a0a4c554f2a3row46_col11 {\n",
       "            background-color:  #f8f1f8;\n",
       "            color:  #000000;\n",
       "        }    #T_b6d8aa06_1a39_11ea_9380_a0a4c554f2a3row46_col12 {\n",
       "            background-color:  #fcf4fa;\n",
       "            color:  #000000;\n",
       "        }    #T_b6d8aa06_1a39_11ea_9380_a0a4c554f2a3row46_col13 {\n",
       "            background-color:  #f8f1f8;\n",
       "            color:  #000000;\n",
       "        }    #T_b6d8aa06_1a39_11ea_9380_a0a4c554f2a3row46_col14 {\n",
       "            background-color:  #fdf5fa;\n",
       "            color:  #000000;\n",
       "        }    #T_b6d8aa06_1a39_11ea_9380_a0a4c554f2a3row46_col15 {\n",
       "            background-color:  #fdf5fa;\n",
       "            color:  #000000;\n",
       "        }    #T_b6d8aa06_1a39_11ea_9380_a0a4c554f2a3row46_col16 {\n",
       "            background-color:  #ece7f2;\n",
       "            color:  #000000;\n",
       "        }    #T_b6d8aa06_1a39_11ea_9380_a0a4c554f2a3row46_col17 {\n",
       "            background-color:  #f5eff6;\n",
       "            color:  #000000;\n",
       "        }    #T_b6d8aa06_1a39_11ea_9380_a0a4c554f2a3row46_col18 {\n",
       "            background-color:  #f8f1f8;\n",
       "            color:  #000000;\n",
       "        }    #T_b6d8aa06_1a39_11ea_9380_a0a4c554f2a3row46_col19 {\n",
       "            background-color:  #f4eef6;\n",
       "            color:  #000000;\n",
       "        }    #T_b6d8aa06_1a39_11ea_9380_a0a4c554f2a3row46_col20 {\n",
       "            background-color:  #f5eff6;\n",
       "            color:  #000000;\n",
       "        }    #T_b6d8aa06_1a39_11ea_9380_a0a4c554f2a3row46_col21 {\n",
       "            background-color:  #f5eff6;\n",
       "            color:  #000000;\n",
       "        }    #T_b6d8aa06_1a39_11ea_9380_a0a4c554f2a3row46_col22 {\n",
       "            background-color:  #f7f0f7;\n",
       "            color:  #000000;\n",
       "        }    #T_b6d8aa06_1a39_11ea_9380_a0a4c554f2a3row46_col23 {\n",
       "            background-color:  #f6eff7;\n",
       "            color:  #000000;\n",
       "        }    #T_b6d8aa06_1a39_11ea_9380_a0a4c554f2a3row46_col24 {\n",
       "            background-color:  #fcf4fa;\n",
       "            color:  #000000;\n",
       "        }    #T_b6d8aa06_1a39_11ea_9380_a0a4c554f2a3row46_col25 {\n",
       "            background-color:  #fef6fb;\n",
       "            color:  #000000;\n",
       "        }    #T_b6d8aa06_1a39_11ea_9380_a0a4c554f2a3row46_col26 {\n",
       "            background-color:  #f9f2f8;\n",
       "            color:  #000000;\n",
       "        }    #T_b6d8aa06_1a39_11ea_9380_a0a4c554f2a3row47_col0 {\n",
       "            background-color:  #fff7fb;\n",
       "            color:  #000000;\n",
       "        }    #T_b6d8aa06_1a39_11ea_9380_a0a4c554f2a3row47_col1 {\n",
       "            background-color:  #faf2f8;\n",
       "            color:  #000000;\n",
       "        }    #T_b6d8aa06_1a39_11ea_9380_a0a4c554f2a3row47_col2 {\n",
       "            background-color:  #fcf4fa;\n",
       "            color:  #000000;\n",
       "        }    #T_b6d8aa06_1a39_11ea_9380_a0a4c554f2a3row47_col3 {\n",
       "            background-color:  #fdf5fa;\n",
       "            color:  #000000;\n",
       "        }    #T_b6d8aa06_1a39_11ea_9380_a0a4c554f2a3row47_col4 {\n",
       "            background-color:  #faf3f9;\n",
       "            color:  #000000;\n",
       "        }    #T_b6d8aa06_1a39_11ea_9380_a0a4c554f2a3row47_col5 {\n",
       "            background-color:  #fbf3f9;\n",
       "            color:  #000000;\n",
       "        }    #T_b6d8aa06_1a39_11ea_9380_a0a4c554f2a3row47_col6 {\n",
       "            background-color:  #fff7fb;\n",
       "            color:  #000000;\n",
       "        }    #T_b6d8aa06_1a39_11ea_9380_a0a4c554f2a3row47_col7 {\n",
       "            background-color:  #fff7fb;\n",
       "            color:  #000000;\n",
       "        }    #T_b6d8aa06_1a39_11ea_9380_a0a4c554f2a3row47_col8 {\n",
       "            background-color:  #fff7fb;\n",
       "            color:  #000000;\n",
       "        }    #T_b6d8aa06_1a39_11ea_9380_a0a4c554f2a3row47_col9 {\n",
       "            background-color:  #fbf3f9;\n",
       "            color:  #000000;\n",
       "        }    #T_b6d8aa06_1a39_11ea_9380_a0a4c554f2a3row47_col10 {\n",
       "            background-color:  #fdf5fa;\n",
       "            color:  #000000;\n",
       "        }    #T_b6d8aa06_1a39_11ea_9380_a0a4c554f2a3row47_col11 {\n",
       "            background-color:  #fef6fa;\n",
       "            color:  #000000;\n",
       "        }    #T_b6d8aa06_1a39_11ea_9380_a0a4c554f2a3row47_col12 {\n",
       "            background-color:  #fff7fb;\n",
       "            color:  #000000;\n",
       "        }    #T_b6d8aa06_1a39_11ea_9380_a0a4c554f2a3row47_col13 {\n",
       "            background-color:  #fef6fb;\n",
       "            color:  #000000;\n",
       "        }    #T_b6d8aa06_1a39_11ea_9380_a0a4c554f2a3row47_col14 {\n",
       "            background-color:  #fff7fb;\n",
       "            color:  #000000;\n",
       "        }    #T_b6d8aa06_1a39_11ea_9380_a0a4c554f2a3row47_col15 {\n",
       "            background-color:  #fef6fb;\n",
       "            color:  #000000;\n",
       "        }    #T_b6d8aa06_1a39_11ea_9380_a0a4c554f2a3row47_col16 {\n",
       "            background-color:  #fbf3f9;\n",
       "            color:  #000000;\n",
       "        }    #T_b6d8aa06_1a39_11ea_9380_a0a4c554f2a3row47_col17 {\n",
       "            background-color:  #fbf4f9;\n",
       "            color:  #000000;\n",
       "        }    #T_b6d8aa06_1a39_11ea_9380_a0a4c554f2a3row47_col18 {\n",
       "            background-color:  #fdf5fa;\n",
       "            color:  #000000;\n",
       "        }    #T_b6d8aa06_1a39_11ea_9380_a0a4c554f2a3row47_col19 {\n",
       "            background-color:  #fdf5fa;\n",
       "            color:  #000000;\n",
       "        }    #T_b6d8aa06_1a39_11ea_9380_a0a4c554f2a3row47_col20 {\n",
       "            background-color:  #fdf5fa;\n",
       "            color:  #000000;\n",
       "        }    #T_b6d8aa06_1a39_11ea_9380_a0a4c554f2a3row47_col21 {\n",
       "            background-color:  #fdf5fa;\n",
       "            color:  #000000;\n",
       "        }    #T_b6d8aa06_1a39_11ea_9380_a0a4c554f2a3row47_col22 {\n",
       "            background-color:  #fdf5fa;\n",
       "            color:  #000000;\n",
       "        }    #T_b6d8aa06_1a39_11ea_9380_a0a4c554f2a3row47_col23 {\n",
       "            background-color:  #fdf5fa;\n",
       "            color:  #000000;\n",
       "        }    #T_b6d8aa06_1a39_11ea_9380_a0a4c554f2a3row47_col24 {\n",
       "            background-color:  #fef6fb;\n",
       "            color:  #000000;\n",
       "        }    #T_b6d8aa06_1a39_11ea_9380_a0a4c554f2a3row47_col25 {\n",
       "            background-color:  #fef6fb;\n",
       "            color:  #000000;\n",
       "        }    #T_b6d8aa06_1a39_11ea_9380_a0a4c554f2a3row47_col26 {\n",
       "            background-color:  #fbf3f9;\n",
       "            color:  #000000;\n",
       "        }    #T_b6d8aa06_1a39_11ea_9380_a0a4c554f2a3row48_col0 {\n",
       "            background-color:  #f9f2f8;\n",
       "            color:  #000000;\n",
       "        }    #T_b6d8aa06_1a39_11ea_9380_a0a4c554f2a3row48_col1 {\n",
       "            background-color:  #f9f2f8;\n",
       "            color:  #000000;\n",
       "        }    #T_b6d8aa06_1a39_11ea_9380_a0a4c554f2a3row48_col2 {\n",
       "            background-color:  #f9f2f8;\n",
       "            color:  #000000;\n",
       "        }    #T_b6d8aa06_1a39_11ea_9380_a0a4c554f2a3row48_col3 {\n",
       "            background-color:  #f7f0f7;\n",
       "            color:  #000000;\n",
       "        }    #T_b6d8aa06_1a39_11ea_9380_a0a4c554f2a3row48_col4 {\n",
       "            background-color:  #ede8f3;\n",
       "            color:  #000000;\n",
       "        }    #T_b6d8aa06_1a39_11ea_9380_a0a4c554f2a3row48_col5 {\n",
       "            background-color:  #f1ebf4;\n",
       "            color:  #000000;\n",
       "        }    #T_b6d8aa06_1a39_11ea_9380_a0a4c554f2a3row48_col6 {\n",
       "            background-color:  #faf3f9;\n",
       "            color:  #000000;\n",
       "        }    #T_b6d8aa06_1a39_11ea_9380_a0a4c554f2a3row48_col7 {\n",
       "            background-color:  #faf3f9;\n",
       "            color:  #000000;\n",
       "        }    #T_b6d8aa06_1a39_11ea_9380_a0a4c554f2a3row48_col8 {\n",
       "            background-color:  #fbf3f9;\n",
       "            color:  #000000;\n",
       "        }    #T_b6d8aa06_1a39_11ea_9380_a0a4c554f2a3row48_col9 {\n",
       "            background-color:  #f2ecf5;\n",
       "            color:  #000000;\n",
       "        }    #T_b6d8aa06_1a39_11ea_9380_a0a4c554f2a3row48_col10 {\n",
       "            background-color:  #f7f0f7;\n",
       "            color:  #000000;\n",
       "        }    #T_b6d8aa06_1a39_11ea_9380_a0a4c554f2a3row48_col11 {\n",
       "            background-color:  #faf2f8;\n",
       "            color:  #000000;\n",
       "        }    #T_b6d8aa06_1a39_11ea_9380_a0a4c554f2a3row48_col12 {\n",
       "            background-color:  #fef6fa;\n",
       "            color:  #000000;\n",
       "        }    #T_b6d8aa06_1a39_11ea_9380_a0a4c554f2a3row48_col13 {\n",
       "            background-color:  #f4edf6;\n",
       "            color:  #000000;\n",
       "        }    #T_b6d8aa06_1a39_11ea_9380_a0a4c554f2a3row48_col14 {\n",
       "            background-color:  #faf2f8;\n",
       "            color:  #000000;\n",
       "        }    #T_b6d8aa06_1a39_11ea_9380_a0a4c554f2a3row48_col15 {\n",
       "            background-color:  #f9f2f8;\n",
       "            color:  #000000;\n",
       "        }    #T_b6d8aa06_1a39_11ea_9380_a0a4c554f2a3row48_col16 {\n",
       "            background-color:  #fdf5fa;\n",
       "            color:  #000000;\n",
       "        }    #T_b6d8aa06_1a39_11ea_9380_a0a4c554f2a3row48_col17 {\n",
       "            background-color:  #fef6fa;\n",
       "            color:  #000000;\n",
       "        }    #T_b6d8aa06_1a39_11ea_9380_a0a4c554f2a3row48_col18 {\n",
       "            background-color:  #fbf4f9;\n",
       "            color:  #000000;\n",
       "        }    #T_b6d8aa06_1a39_11ea_9380_a0a4c554f2a3row48_col19 {\n",
       "            background-color:  #fbf4f9;\n",
       "            color:  #000000;\n",
       "        }    #T_b6d8aa06_1a39_11ea_9380_a0a4c554f2a3row48_col20 {\n",
       "            background-color:  #faf3f9;\n",
       "            color:  #000000;\n",
       "        }    #T_b6d8aa06_1a39_11ea_9380_a0a4c554f2a3row48_col21 {\n",
       "            background-color:  #faf3f9;\n",
       "            color:  #000000;\n",
       "        }    #T_b6d8aa06_1a39_11ea_9380_a0a4c554f2a3row48_col22 {\n",
       "            background-color:  #fbf4f9;\n",
       "            color:  #000000;\n",
       "        }    #T_b6d8aa06_1a39_11ea_9380_a0a4c554f2a3row48_col23 {\n",
       "            background-color:  #fdf5fa;\n",
       "            color:  #000000;\n",
       "        }    #T_b6d8aa06_1a39_11ea_9380_a0a4c554f2a3row48_col24 {\n",
       "            background-color:  #fef6fb;\n",
       "            color:  #000000;\n",
       "        }    #T_b6d8aa06_1a39_11ea_9380_a0a4c554f2a3row48_col25 {\n",
       "            background-color:  #fff7fb;\n",
       "            color:  #000000;\n",
       "        }    #T_b6d8aa06_1a39_11ea_9380_a0a4c554f2a3row48_col26 {\n",
       "            background-color:  #dedcec;\n",
       "            color:  #000000;\n",
       "        }    #T_b6d8aa06_1a39_11ea_9380_a0a4c554f2a3row49_col0 {\n",
       "            background-color:  #fff7fb;\n",
       "            color:  #000000;\n",
       "        }    #T_b6d8aa06_1a39_11ea_9380_a0a4c554f2a3row49_col1 {\n",
       "            background-color:  #faf3f9;\n",
       "            color:  #000000;\n",
       "        }    #T_b6d8aa06_1a39_11ea_9380_a0a4c554f2a3row49_col2 {\n",
       "            background-color:  #fff7fb;\n",
       "            color:  #000000;\n",
       "        }    #T_b6d8aa06_1a39_11ea_9380_a0a4c554f2a3row49_col3 {\n",
       "            background-color:  #fff7fb;\n",
       "            color:  #000000;\n",
       "        }    #T_b6d8aa06_1a39_11ea_9380_a0a4c554f2a3row49_col4 {\n",
       "            background-color:  #fff7fb;\n",
       "            color:  #000000;\n",
       "        }    #T_b6d8aa06_1a39_11ea_9380_a0a4c554f2a3row49_col5 {\n",
       "            background-color:  #fdf5fa;\n",
       "            color:  #000000;\n",
       "        }    #T_b6d8aa06_1a39_11ea_9380_a0a4c554f2a3row49_col6 {\n",
       "            background-color:  #fff7fb;\n",
       "            color:  #000000;\n",
       "        }    #T_b6d8aa06_1a39_11ea_9380_a0a4c554f2a3row49_col7 {\n",
       "            background-color:  #fdf5fa;\n",
       "            color:  #000000;\n",
       "        }    #T_b6d8aa06_1a39_11ea_9380_a0a4c554f2a3row49_col8 {\n",
       "            background-color:  #fff7fb;\n",
       "            color:  #000000;\n",
       "        }    #T_b6d8aa06_1a39_11ea_9380_a0a4c554f2a3row49_col9 {\n",
       "            background-color:  #fff7fb;\n",
       "            color:  #000000;\n",
       "        }    #T_b6d8aa06_1a39_11ea_9380_a0a4c554f2a3row49_col10 {\n",
       "            background-color:  #fff7fb;\n",
       "            color:  #000000;\n",
       "        }    #T_b6d8aa06_1a39_11ea_9380_a0a4c554f2a3row49_col11 {\n",
       "            background-color:  #fff7fb;\n",
       "            color:  #000000;\n",
       "        }    #T_b6d8aa06_1a39_11ea_9380_a0a4c554f2a3row49_col12 {\n",
       "            background-color:  #fff7fb;\n",
       "            color:  #000000;\n",
       "        }    #T_b6d8aa06_1a39_11ea_9380_a0a4c554f2a3row49_col13 {\n",
       "            background-color:  #fff7fb;\n",
       "            color:  #000000;\n",
       "        }    #T_b6d8aa06_1a39_11ea_9380_a0a4c554f2a3row49_col14 {\n",
       "            background-color:  #fff7fb;\n",
       "            color:  #000000;\n",
       "        }    #T_b6d8aa06_1a39_11ea_9380_a0a4c554f2a3row49_col15 {\n",
       "            background-color:  #fff7fb;\n",
       "            color:  #000000;\n",
       "        }    #T_b6d8aa06_1a39_11ea_9380_a0a4c554f2a3row49_col16 {\n",
       "            background-color:  #fff7fb;\n",
       "            color:  #000000;\n",
       "        }    #T_b6d8aa06_1a39_11ea_9380_a0a4c554f2a3row49_col17 {\n",
       "            background-color:  #fef6fa;\n",
       "            color:  #000000;\n",
       "        }    #T_b6d8aa06_1a39_11ea_9380_a0a4c554f2a3row49_col18 {\n",
       "            background-color:  #fdf5fa;\n",
       "            color:  #000000;\n",
       "        }    #T_b6d8aa06_1a39_11ea_9380_a0a4c554f2a3row49_col19 {\n",
       "            background-color:  #fdf5fa;\n",
       "            color:  #000000;\n",
       "        }    #T_b6d8aa06_1a39_11ea_9380_a0a4c554f2a3row49_col20 {\n",
       "            background-color:  #fdf5fa;\n",
       "            color:  #000000;\n",
       "        }    #T_b6d8aa06_1a39_11ea_9380_a0a4c554f2a3row49_col21 {\n",
       "            background-color:  #fdf5fa;\n",
       "            color:  #000000;\n",
       "        }    #T_b6d8aa06_1a39_11ea_9380_a0a4c554f2a3row49_col22 {\n",
       "            background-color:  #fdf5fa;\n",
       "            color:  #000000;\n",
       "        }    #T_b6d8aa06_1a39_11ea_9380_a0a4c554f2a3row49_col23 {\n",
       "            background-color:  #fcf4fa;\n",
       "            color:  #000000;\n",
       "        }    #T_b6d8aa06_1a39_11ea_9380_a0a4c554f2a3row49_col24 {\n",
       "            background-color:  #fff7fb;\n",
       "            color:  #000000;\n",
       "        }    #T_b6d8aa06_1a39_11ea_9380_a0a4c554f2a3row49_col25 {\n",
       "            background-color:  #fff7fb;\n",
       "            color:  #000000;\n",
       "        }    #T_b6d8aa06_1a39_11ea_9380_a0a4c554f2a3row49_col26 {\n",
       "            background-color:  #fff7fb;\n",
       "            color:  #000000;\n",
       "        }</style><table id=\"T_b6d8aa06_1a39_11ea_9380_a0a4c554f2a3\" ><thead>    <tr>        <th class=\"blank level0\" ></th>        <th class=\"col_heading level0 col0\" >NBkilder_Amundsen_Slededagbok.xml</th>        <th class=\"col_heading level0 col1\" >NBkilder_Collett_Brev_1841-51.xml</th>        <th class=\"col_heading level0 col2\" >NBkilder_Collett_Brev_til_Bjornson.xml</th>        <th class=\"col_heading level0 col3\" >NBkilder_Collett_Brev_til_Ibsen.xml</th>        <th class=\"col_heading level0 col4\" >NBkilder_Collett_Brev_til_Lie.xml</th>        <th class=\"col_heading level0 col5\" >NBkilder_Collett_Skildpadde.xml</th>        <th class=\"col_heading level0 col6\" >NBkilder_Dardel_Voyage.xml</th>        <th class=\"col_heading level0 col7\" >NBkilder_Grunnlovskilder1814.xml</th>        <th class=\"col_heading level0 col8\" >NBkilder_Kjerulf_1833.xml</th>        <th class=\"col_heading level0 col9\" >NBkilder_Kjerulf_1840.xml</th>        <th class=\"col_heading level0 col10\" >NBkilder_Kjerulf_1850.xml</th>        <th class=\"col_heading level0 col11\" >NBkilder_Kjerulf_1851.xml</th>        <th class=\"col_heading level0 col12\" >NBkilder_Kjerulf_1852.xml</th>        <th class=\"col_heading level0 col13\" >NBkilder_KKielland_AGarborg_brev.xml</th>        <th class=\"col_heading level0 col14\" >NBkilder_KKielland_DSkavlan_brev.xml</th>        <th class=\"col_heading level0 col15\" >NBkilder_KKielland_EPeterssen_brev.xml</th>        <th class=\"col_heading level0 col16\" >NBkilder_Koren_1798.xml</th>        <th class=\"col_heading level0 col17\" >NBkilder_Koren_1805.xml</th>        <th class=\"col_heading level0 col18\" >NBkilder_Koren_1808.xml</th>        <th class=\"col_heading level0 col19\" >NBkilder_Koren_1809.xml</th>        <th class=\"col_heading level0 col20\" >NBkilder_Koren_1810.xml</th>        <th class=\"col_heading level0 col21\" >NBkilder_Koren_1811.xml</th>        <th class=\"col_heading level0 col22\" >NBkilder_Koren_1812.xml</th>        <th class=\"col_heading level0 col23\" >NBkilder_Koren_1813.xml</th>        <th class=\"col_heading level0 col24\" >NBkilder_Koren_1814.xml</th>        <th class=\"col_heading level0 col25\" >NBkilder_Koren_1815.xml</th>        <th class=\"col_heading level0 col26\" >NBkilder_Undset_Fragmenter.xml</th>    </tr></thead><tbody>\n",
       "                <tr>\n",
       "                        <th id=\"T_b6d8aa06_1a39_11ea_9380_a0a4c554f2a3level0_row0\" class=\"row_heading level0 row0\" >,</th>\n",
       "                        <td id=\"T_b6d8aa06_1a39_11ea_9380_a0a4c554f2a3row0_col0\" class=\"data row0 col0\" >590</td>\n",
       "                        <td id=\"T_b6d8aa06_1a39_11ea_9380_a0a4c554f2a3row0_col1\" class=\"data row0 col1\" >1849</td>\n",
       "                        <td id=\"T_b6d8aa06_1a39_11ea_9380_a0a4c554f2a3row0_col2\" class=\"data row0 col2\" >143</td>\n",
       "                        <td id=\"T_b6d8aa06_1a39_11ea_9380_a0a4c554f2a3row0_col3\" class=\"data row0 col3\" >723</td>\n",
       "                        <td id=\"T_b6d8aa06_1a39_11ea_9380_a0a4c554f2a3row0_col4\" class=\"data row0 col4\" >749</td>\n",
       "                        <td id=\"T_b6d8aa06_1a39_11ea_9380_a0a4c554f2a3row0_col5\" class=\"data row0 col5\" >767</td>\n",
       "                        <td id=\"T_b6d8aa06_1a39_11ea_9380_a0a4c554f2a3row0_col6\" class=\"data row0 col6\" >3820</td>\n",
       "                        <td id=\"T_b6d8aa06_1a39_11ea_9380_a0a4c554f2a3row0_col7\" class=\"data row0 col7\" >886</td>\n",
       "                        <td id=\"T_b6d8aa06_1a39_11ea_9380_a0a4c554f2a3row0_col8\" class=\"data row0 col8\" >133</td>\n",
       "                        <td id=\"T_b6d8aa06_1a39_11ea_9380_a0a4c554f2a3row0_col9\" class=\"data row0 col9\" >475</td>\n",
       "                        <td id=\"T_b6d8aa06_1a39_11ea_9380_a0a4c554f2a3row0_col10\" class=\"data row0 col10\" >1414</td>\n",
       "                        <td id=\"T_b6d8aa06_1a39_11ea_9380_a0a4c554f2a3row0_col11\" class=\"data row0 col11\" >595</td>\n",
       "                        <td id=\"T_b6d8aa06_1a39_11ea_9380_a0a4c554f2a3row0_col12\" class=\"data row0 col12\" >130</td>\n",
       "                        <td id=\"T_b6d8aa06_1a39_11ea_9380_a0a4c554f2a3row0_col13\" class=\"data row0 col13\" >3285</td>\n",
       "                        <td id=\"T_b6d8aa06_1a39_11ea_9380_a0a4c554f2a3row0_col14\" class=\"data row0 col14\" >1732</td>\n",
       "                        <td id=\"T_b6d8aa06_1a39_11ea_9380_a0a4c554f2a3row0_col15\" class=\"data row0 col15\" >3062</td>\n",
       "                        <td id=\"T_b6d8aa06_1a39_11ea_9380_a0a4c554f2a3row0_col16\" class=\"data row0 col16\" >586</td>\n",
       "                        <td id=\"T_b6d8aa06_1a39_11ea_9380_a0a4c554f2a3row0_col17\" class=\"data row0 col17\" >457</td>\n",
       "                        <td id=\"T_b6d8aa06_1a39_11ea_9380_a0a4c554f2a3row0_col18\" class=\"data row0 col18\" >10101</td>\n",
       "                        <td id=\"T_b6d8aa06_1a39_11ea_9380_a0a4c554f2a3row0_col19\" class=\"data row0 col19\" >10002</td>\n",
       "                        <td id=\"T_b6d8aa06_1a39_11ea_9380_a0a4c554f2a3row0_col20\" class=\"data row0 col20\" >12681</td>\n",
       "                        <td id=\"T_b6d8aa06_1a39_11ea_9380_a0a4c554f2a3row0_col21\" class=\"data row0 col21\" >12024</td>\n",
       "                        <td id=\"T_b6d8aa06_1a39_11ea_9380_a0a4c554f2a3row0_col22\" class=\"data row0 col22\" >15671</td>\n",
       "                        <td id=\"T_b6d8aa06_1a39_11ea_9380_a0a4c554f2a3row0_col23\" class=\"data row0 col23\" >13109</td>\n",
       "                        <td id=\"T_b6d8aa06_1a39_11ea_9380_a0a4c554f2a3row0_col24\" class=\"data row0 col24\" >3563</td>\n",
       "                        <td id=\"T_b6d8aa06_1a39_11ea_9380_a0a4c554f2a3row0_col25\" class=\"data row0 col25\" >412</td>\n",
       "                        <td id=\"T_b6d8aa06_1a39_11ea_9380_a0a4c554f2a3row0_col26\" class=\"data row0 col26\" >610</td>\n",
       "            </tr>\n",
       "            <tr>\n",
       "                        <th id=\"T_b6d8aa06_1a39_11ea_9380_a0a4c554f2a3level0_row1\" class=\"row_heading level0 row1\" >og</th>\n",
       "                        <td id=\"T_b6d8aa06_1a39_11ea_9380_a0a4c554f2a3row1_col0\" class=\"data row1 col0\" >119</td>\n",
       "                        <td id=\"T_b6d8aa06_1a39_11ea_9380_a0a4c554f2a3row1_col1\" class=\"data row1 col1\" >957</td>\n",
       "                        <td id=\"T_b6d8aa06_1a39_11ea_9380_a0a4c554f2a3row1_col2\" class=\"data row1 col2\" >49</td>\n",
       "                        <td id=\"T_b6d8aa06_1a39_11ea_9380_a0a4c554f2a3row1_col3\" class=\"data row1 col3\" >256</td>\n",
       "                        <td id=\"T_b6d8aa06_1a39_11ea_9380_a0a4c554f2a3row1_col4\" class=\"data row1 col4\" >237</td>\n",
       "                        <td id=\"T_b6d8aa06_1a39_11ea_9380_a0a4c554f2a3row1_col5\" class=\"data row1 col5\" >461</td>\n",
       "                        <td id=\"T_b6d8aa06_1a39_11ea_9380_a0a4c554f2a3row1_col6\" class=\"data row1 col6\" >1263</td>\n",
       "                        <td id=\"T_b6d8aa06_1a39_11ea_9380_a0a4c554f2a3row1_col7\" class=\"data row1 col7\" >510</td>\n",
       "                        <td id=\"T_b6d8aa06_1a39_11ea_9380_a0a4c554f2a3row1_col8\" class=\"data row1 col8\" >52</td>\n",
       "                        <td id=\"T_b6d8aa06_1a39_11ea_9380_a0a4c554f2a3row1_col9\" class=\"data row1 col9\" >688</td>\n",
       "                        <td id=\"T_b6d8aa06_1a39_11ea_9380_a0a4c554f2a3row1_col10\" class=\"data row1 col10\" >2042</td>\n",
       "                        <td id=\"T_b6d8aa06_1a39_11ea_9380_a0a4c554f2a3row1_col11\" class=\"data row1 col11\" >976</td>\n",
       "                        <td id=\"T_b6d8aa06_1a39_11ea_9380_a0a4c554f2a3row1_col12\" class=\"data row1 col12\" >257</td>\n",
       "                        <td id=\"T_b6d8aa06_1a39_11ea_9380_a0a4c554f2a3row1_col13\" class=\"data row1 col13\" >963</td>\n",
       "                        <td id=\"T_b6d8aa06_1a39_11ea_9380_a0a4c554f2a3row1_col14\" class=\"data row1 col14\" >539</td>\n",
       "                        <td id=\"T_b6d8aa06_1a39_11ea_9380_a0a4c554f2a3row1_col15\" class=\"data row1 col15\" >800</td>\n",
       "                        <td id=\"T_b6d8aa06_1a39_11ea_9380_a0a4c554f2a3row1_col16\" class=\"data row1 col16\" >252</td>\n",
       "                        <td id=\"T_b6d8aa06_1a39_11ea_9380_a0a4c554f2a3row1_col17\" class=\"data row1 col17\" >159</td>\n",
       "                        <td id=\"T_b6d8aa06_1a39_11ea_9380_a0a4c554f2a3row1_col18\" class=\"data row1 col18\" >3443</td>\n",
       "                        <td id=\"T_b6d8aa06_1a39_11ea_9380_a0a4c554f2a3row1_col19\" class=\"data row1 col19\" >3782</td>\n",
       "                        <td id=\"T_b6d8aa06_1a39_11ea_9380_a0a4c554f2a3row1_col20\" class=\"data row1 col20\" >5196</td>\n",
       "                        <td id=\"T_b6d8aa06_1a39_11ea_9380_a0a4c554f2a3row1_col21\" class=\"data row1 col21\" >5486</td>\n",
       "                        <td id=\"T_b6d8aa06_1a39_11ea_9380_a0a4c554f2a3row1_col22\" class=\"data row1 col22\" >6633</td>\n",
       "                        <td id=\"T_b6d8aa06_1a39_11ea_9380_a0a4c554f2a3row1_col23\" class=\"data row1 col23\" >5731</td>\n",
       "                        <td id=\"T_b6d8aa06_1a39_11ea_9380_a0a4c554f2a3row1_col24\" class=\"data row1 col24\" >1318</td>\n",
       "                        <td id=\"T_b6d8aa06_1a39_11ea_9380_a0a4c554f2a3row1_col25\" class=\"data row1 col25\" >158</td>\n",
       "                        <td id=\"T_b6d8aa06_1a39_11ea_9380_a0a4c554f2a3row1_col26\" class=\"data row1 col26\" >328</td>\n",
       "            </tr>\n",
       "            <tr>\n",
       "                        <th id=\"T_b6d8aa06_1a39_11ea_9380_a0a4c554f2a3level0_row2\" class=\"row_heading level0 row2\" >.</th>\n",
       "                        <td id=\"T_b6d8aa06_1a39_11ea_9380_a0a4c554f2a3row2_col0\" class=\"data row2 col0\" >2439</td>\n",
       "                        <td id=\"T_b6d8aa06_1a39_11ea_9380_a0a4c554f2a3row2_col1\" class=\"data row2 col1\" >1469</td>\n",
       "                        <td id=\"T_b6d8aa06_1a39_11ea_9380_a0a4c554f2a3row2_col2\" class=\"data row2 col2\" >99</td>\n",
       "                        <td id=\"T_b6d8aa06_1a39_11ea_9380_a0a4c554f2a3row2_col3\" class=\"data row2 col3\" >523</td>\n",
       "                        <td id=\"T_b6d8aa06_1a39_11ea_9380_a0a4c554f2a3row2_col4\" class=\"data row2 col4\" >475</td>\n",
       "                        <td id=\"T_b6d8aa06_1a39_11ea_9380_a0a4c554f2a3row2_col5\" class=\"data row2 col5\" >484</td>\n",
       "                        <td id=\"T_b6d8aa06_1a39_11ea_9380_a0a4c554f2a3row2_col6\" class=\"data row2 col6\" >2691</td>\n",
       "                        <td id=\"T_b6d8aa06_1a39_11ea_9380_a0a4c554f2a3row2_col7\" class=\"data row2 col7\" >873</td>\n",
       "                        <td id=\"T_b6d8aa06_1a39_11ea_9380_a0a4c554f2a3row2_col8\" class=\"data row2 col8\" >245</td>\n",
       "                        <td id=\"T_b6d8aa06_1a39_11ea_9380_a0a4c554f2a3row2_col9\" class=\"data row2 col9\" >515</td>\n",
       "                        <td id=\"T_b6d8aa06_1a39_11ea_9380_a0a4c554f2a3row2_col10\" class=\"data row2 col10\" >5443</td>\n",
       "                        <td id=\"T_b6d8aa06_1a39_11ea_9380_a0a4c554f2a3row2_col11\" class=\"data row2 col11\" >2607</td>\n",
       "                        <td id=\"T_b6d8aa06_1a39_11ea_9380_a0a4c554f2a3row2_col12\" class=\"data row2 col12\" >1733</td>\n",
       "                        <td id=\"T_b6d8aa06_1a39_11ea_9380_a0a4c554f2a3row2_col13\" class=\"data row2 col13\" >1824</td>\n",
       "                        <td id=\"T_b6d8aa06_1a39_11ea_9380_a0a4c554f2a3row2_col14\" class=\"data row2 col14\" >877</td>\n",
       "                        <td id=\"T_b6d8aa06_1a39_11ea_9380_a0a4c554f2a3row2_col15\" class=\"data row2 col15\" >1582</td>\n",
       "                        <td id=\"T_b6d8aa06_1a39_11ea_9380_a0a4c554f2a3row2_col16\" class=\"data row2 col16\" >257</td>\n",
       "                        <td id=\"T_b6d8aa06_1a39_11ea_9380_a0a4c554f2a3row2_col17\" class=\"data row2 col17\" >156</td>\n",
       "                        <td id=\"T_b6d8aa06_1a39_11ea_9380_a0a4c554f2a3row2_col18\" class=\"data row2 col18\" >3712</td>\n",
       "                        <td id=\"T_b6d8aa06_1a39_11ea_9380_a0a4c554f2a3row2_col19\" class=\"data row2 col19\" >3364</td>\n",
       "                        <td id=\"T_b6d8aa06_1a39_11ea_9380_a0a4c554f2a3row2_col20\" class=\"data row2 col20\" >5106</td>\n",
       "                        <td id=\"T_b6d8aa06_1a39_11ea_9380_a0a4c554f2a3row2_col21\" class=\"data row2 col21\" >4263</td>\n",
       "                        <td id=\"T_b6d8aa06_1a39_11ea_9380_a0a4c554f2a3row2_col22\" class=\"data row2 col22\" >5713</td>\n",
       "                        <td id=\"T_b6d8aa06_1a39_11ea_9380_a0a4c554f2a3row2_col23\" class=\"data row2 col23\" >5575</td>\n",
       "                        <td id=\"T_b6d8aa06_1a39_11ea_9380_a0a4c554f2a3row2_col24\" class=\"data row2 col24\" >1539</td>\n",
       "                        <td id=\"T_b6d8aa06_1a39_11ea_9380_a0a4c554f2a3row2_col25\" class=\"data row2 col25\" >127</td>\n",
       "                        <td id=\"T_b6d8aa06_1a39_11ea_9380_a0a4c554f2a3row2_col26\" class=\"data row2 col26\" >464</td>\n",
       "            </tr>\n",
       "            <tr>\n",
       "                        <th id=\"T_b6d8aa06_1a39_11ea_9380_a0a4c554f2a3level0_row3\" class=\"row_heading level0 row3\" >jeg</th>\n",
       "                        <td id=\"T_b6d8aa06_1a39_11ea_9380_a0a4c554f2a3row3_col0\" class=\"data row3 col0\" >1</td>\n",
       "                        <td id=\"T_b6d8aa06_1a39_11ea_9380_a0a4c554f2a3row3_col1\" class=\"data row3 col1\" >952</td>\n",
       "                        <td id=\"T_b6d8aa06_1a39_11ea_9380_a0a4c554f2a3row3_col2\" class=\"data row3 col2\" >68</td>\n",
       "                        <td id=\"T_b6d8aa06_1a39_11ea_9380_a0a4c554f2a3row3_col3\" class=\"data row3 col3\" >302</td>\n",
       "                        <td id=\"T_b6d8aa06_1a39_11ea_9380_a0a4c554f2a3row3_col4\" class=\"data row3 col4\" >254</td>\n",
       "                        <td id=\"T_b6d8aa06_1a39_11ea_9380_a0a4c554f2a3row3_col5\" class=\"data row3 col5\" >361</td>\n",
       "                        <td id=\"T_b6d8aa06_1a39_11ea_9380_a0a4c554f2a3row3_col6\" class=\"data row3 col6\" >226</td>\n",
       "                        <td id=\"T_b6d8aa06_1a39_11ea_9380_a0a4c554f2a3row3_col7\" class=\"data row3 col7\" >3</td>\n",
       "                        <td id=\"T_b6d8aa06_1a39_11ea_9380_a0a4c554f2a3row3_col8\" class=\"data row3 col8\" >6</td>\n",
       "                        <td id=\"T_b6d8aa06_1a39_11ea_9380_a0a4c554f2a3row3_col9\" class=\"data row3 col9\" >236</td>\n",
       "                        <td id=\"T_b6d8aa06_1a39_11ea_9380_a0a4c554f2a3row3_col10\" class=\"data row3 col10\" >229</td>\n",
       "                        <td id=\"T_b6d8aa06_1a39_11ea_9380_a0a4c554f2a3row3_col11\" class=\"data row3 col11\" >150</td>\n",
       "                        <td id=\"T_b6d8aa06_1a39_11ea_9380_a0a4c554f2a3row3_col12\" class=\"data row3 col12\" >17</td>\n",
       "                        <td id=\"T_b6d8aa06_1a39_11ea_9380_a0a4c554f2a3row3_col13\" class=\"data row3 col13\" >1161</td>\n",
       "                        <td id=\"T_b6d8aa06_1a39_11ea_9380_a0a4c554f2a3row3_col14\" class=\"data row3 col14\" >412</td>\n",
       "                        <td id=\"T_b6d8aa06_1a39_11ea_9380_a0a4c554f2a3row3_col15\" class=\"data row3 col15\" >847</td>\n",
       "                        <td id=\"T_b6d8aa06_1a39_11ea_9380_a0a4c554f2a3row3_col16\" class=\"data row3 col16\" >0</td>\n",
       "                        <td id=\"T_b6d8aa06_1a39_11ea_9380_a0a4c554f2a3row3_col17\" class=\"data row3 col17\" >57</td>\n",
       "                        <td id=\"T_b6d8aa06_1a39_11ea_9380_a0a4c554f2a3row3_col18\" class=\"data row3 col18\" >1787</td>\n",
       "                        <td id=\"T_b6d8aa06_1a39_11ea_9380_a0a4c554f2a3row3_col19\" class=\"data row3 col19\" >1806</td>\n",
       "                        <td id=\"T_b6d8aa06_1a39_11ea_9380_a0a4c554f2a3row3_col20\" class=\"data row3 col20\" >2687</td>\n",
       "                        <td id=\"T_b6d8aa06_1a39_11ea_9380_a0a4c554f2a3row3_col21\" class=\"data row3 col21\" >2970</td>\n",
       "                        <td id=\"T_b6d8aa06_1a39_11ea_9380_a0a4c554f2a3row3_col22\" class=\"data row3 col22\" >3707</td>\n",
       "                        <td id=\"T_b6d8aa06_1a39_11ea_9380_a0a4c554f2a3row3_col23\" class=\"data row3 col23\" >3165</td>\n",
       "                        <td id=\"T_b6d8aa06_1a39_11ea_9380_a0a4c554f2a3row3_col24\" class=\"data row3 col24\" >744</td>\n",
       "                        <td id=\"T_b6d8aa06_1a39_11ea_9380_a0a4c554f2a3row3_col25\" class=\"data row3 col25\" >108</td>\n",
       "                        <td id=\"T_b6d8aa06_1a39_11ea_9380_a0a4c554f2a3row3_col26\" class=\"data row3 col26\" >140</td>\n",
       "            </tr>\n",
       "            <tr>\n",
       "                        <th id=\"T_b6d8aa06_1a39_11ea_9380_a0a4c554f2a3level0_row4\" class=\"row_heading level0 row4\" >at</th>\n",
       "                        <td id=\"T_b6d8aa06_1a39_11ea_9380_a0a4c554f2a3row4_col0\" class=\"data row4 col0\" >67</td>\n",
       "                        <td id=\"T_b6d8aa06_1a39_11ea_9380_a0a4c554f2a3row4_col1\" class=\"data row4 col1\" >761</td>\n",
       "                        <td id=\"T_b6d8aa06_1a39_11ea_9380_a0a4c554f2a3row4_col2\" class=\"data row4 col2\" >74</td>\n",
       "                        <td id=\"T_b6d8aa06_1a39_11ea_9380_a0a4c554f2a3row4_col3\" class=\"data row4 col3\" >275</td>\n",
       "                        <td id=\"T_b6d8aa06_1a39_11ea_9380_a0a4c554f2a3row4_col4\" class=\"data row4 col4\" >247</td>\n",
       "                        <td id=\"T_b6d8aa06_1a39_11ea_9380_a0a4c554f2a3row4_col5\" class=\"data row4 col5\" >366</td>\n",
       "                        <td id=\"T_b6d8aa06_1a39_11ea_9380_a0a4c554f2a3row4_col6\" class=\"data row4 col6\" >220</td>\n",
       "                        <td id=\"T_b6d8aa06_1a39_11ea_9380_a0a4c554f2a3row4_col7\" class=\"data row4 col7\" >255</td>\n",
       "                        <td id=\"T_b6d8aa06_1a39_11ea_9380_a0a4c554f2a3row4_col8\" class=\"data row4 col8\" >23</td>\n",
       "                        <td id=\"T_b6d8aa06_1a39_11ea_9380_a0a4c554f2a3row4_col9\" class=\"data row4 col9\" >140</td>\n",
       "                        <td id=\"T_b6d8aa06_1a39_11ea_9380_a0a4c554f2a3row4_col10\" class=\"data row4 col10\" >418</td>\n",
       "                        <td id=\"T_b6d8aa06_1a39_11ea_9380_a0a4c554f2a3row4_col11\" class=\"data row4 col11\" >234</td>\n",
       "                        <td id=\"T_b6d8aa06_1a39_11ea_9380_a0a4c554f2a3row4_col12\" class=\"data row4 col12\" >21</td>\n",
       "                        <td id=\"T_b6d8aa06_1a39_11ea_9380_a0a4c554f2a3row4_col13\" class=\"data row4 col13\" >1112</td>\n",
       "                        <td id=\"T_b6d8aa06_1a39_11ea_9380_a0a4c554f2a3row4_col14\" class=\"data row4 col14\" >394</td>\n",
       "                        <td id=\"T_b6d8aa06_1a39_11ea_9380_a0a4c554f2a3row4_col15\" class=\"data row4 col15\" >873</td>\n",
       "                        <td id=\"T_b6d8aa06_1a39_11ea_9380_a0a4c554f2a3row4_col16\" class=\"data row4 col16\" >150</td>\n",
       "                        <td id=\"T_b6d8aa06_1a39_11ea_9380_a0a4c554f2a3row4_col17\" class=\"data row4 col17\" >61</td>\n",
       "                        <td id=\"T_b6d8aa06_1a39_11ea_9380_a0a4c554f2a3row4_col18\" class=\"data row4 col18\" >1525</td>\n",
       "                        <td id=\"T_b6d8aa06_1a39_11ea_9380_a0a4c554f2a3row4_col19\" class=\"data row4 col19\" >1353</td>\n",
       "                        <td id=\"T_b6d8aa06_1a39_11ea_9380_a0a4c554f2a3row4_col20\" class=\"data row4 col20\" >1997</td>\n",
       "                        <td id=\"T_b6d8aa06_1a39_11ea_9380_a0a4c554f2a3row4_col21\" class=\"data row4 col21\" >2023</td>\n",
       "                        <td id=\"T_b6d8aa06_1a39_11ea_9380_a0a4c554f2a3row4_col22\" class=\"data row4 col22\" >2718</td>\n",
       "                        <td id=\"T_b6d8aa06_1a39_11ea_9380_a0a4c554f2a3row4_col23\" class=\"data row4 col23\" >2297</td>\n",
       "                        <td id=\"T_b6d8aa06_1a39_11ea_9380_a0a4c554f2a3row4_col24\" class=\"data row4 col24\" >627</td>\n",
       "                        <td id=\"T_b6d8aa06_1a39_11ea_9380_a0a4c554f2a3row4_col25\" class=\"data row4 col25\" >78</td>\n",
       "                        <td id=\"T_b6d8aa06_1a39_11ea_9380_a0a4c554f2a3row4_col26\" class=\"data row4 col26\" >114</td>\n",
       "            </tr>\n",
       "            <tr>\n",
       "                        <th id=\"T_b6d8aa06_1a39_11ea_9380_a0a4c554f2a3level0_row5\" class=\"row_heading level0 row5\" >det</th>\n",
       "                        <td id=\"T_b6d8aa06_1a39_11ea_9380_a0a4c554f2a3row5_col0\" class=\"data row5 col0\" >74</td>\n",
       "                        <td id=\"T_b6d8aa06_1a39_11ea_9380_a0a4c554f2a3row5_col1\" class=\"data row5 col1\" >611</td>\n",
       "                        <td id=\"T_b6d8aa06_1a39_11ea_9380_a0a4c554f2a3row5_col2\" class=\"data row5 col2\" >35</td>\n",
       "                        <td id=\"T_b6d8aa06_1a39_11ea_9380_a0a4c554f2a3row5_col3\" class=\"data row5 col3\" >216</td>\n",
       "                        <td id=\"T_b6d8aa06_1a39_11ea_9380_a0a4c554f2a3row5_col4\" class=\"data row5 col4\" >239</td>\n",
       "                        <td id=\"T_b6d8aa06_1a39_11ea_9380_a0a4c554f2a3row5_col5\" class=\"data row5 col5\" >252</td>\n",
       "                        <td id=\"T_b6d8aa06_1a39_11ea_9380_a0a4c554f2a3row5_col6\" class=\"data row5 col6\" >310</td>\n",
       "                        <td id=\"T_b6d8aa06_1a39_11ea_9380_a0a4c554f2a3row5_col7\" class=\"data row5 col7\" >112</td>\n",
       "                        <td id=\"T_b6d8aa06_1a39_11ea_9380_a0a4c554f2a3row5_col8\" class=\"data row5 col8\" >11</td>\n",
       "                        <td id=\"T_b6d8aa06_1a39_11ea_9380_a0a4c554f2a3row5_col9\" class=\"data row5 col9\" >180</td>\n",
       "                        <td id=\"T_b6d8aa06_1a39_11ea_9380_a0a4c554f2a3row5_col10\" class=\"data row5 col10\" >470</td>\n",
       "                        <td id=\"T_b6d8aa06_1a39_11ea_9380_a0a4c554f2a3row5_col11\" class=\"data row5 col11\" >199</td>\n",
       "                        <td id=\"T_b6d8aa06_1a39_11ea_9380_a0a4c554f2a3row5_col12\" class=\"data row5 col12\" >29</td>\n",
       "                        <td id=\"T_b6d8aa06_1a39_11ea_9380_a0a4c554f2a3row5_col13\" class=\"data row5 col13\" >1063</td>\n",
       "                        <td id=\"T_b6d8aa06_1a39_11ea_9380_a0a4c554f2a3row5_col14\" class=\"data row5 col14\" >444</td>\n",
       "                        <td id=\"T_b6d8aa06_1a39_11ea_9380_a0a4c554f2a3row5_col15\" class=\"data row5 col15\" >849</td>\n",
       "                        <td id=\"T_b6d8aa06_1a39_11ea_9380_a0a4c554f2a3row5_col16\" class=\"data row5 col16\" >102</td>\n",
       "                        <td id=\"T_b6d8aa06_1a39_11ea_9380_a0a4c554f2a3row5_col17\" class=\"data row5 col17\" >68</td>\n",
       "                        <td id=\"T_b6d8aa06_1a39_11ea_9380_a0a4c554f2a3row5_col18\" class=\"data row5 col18\" >1872</td>\n",
       "                        <td id=\"T_b6d8aa06_1a39_11ea_9380_a0a4c554f2a3row5_col19\" class=\"data row5 col19\" >1807</td>\n",
       "                        <td id=\"T_b6d8aa06_1a39_11ea_9380_a0a4c554f2a3row5_col20\" class=\"data row5 col20\" >2684</td>\n",
       "                        <td id=\"T_b6d8aa06_1a39_11ea_9380_a0a4c554f2a3row5_col21\" class=\"data row5 col21\" >2633</td>\n",
       "                        <td id=\"T_b6d8aa06_1a39_11ea_9380_a0a4c554f2a3row5_col22\" class=\"data row5 col22\" >3290</td>\n",
       "                        <td id=\"T_b6d8aa06_1a39_11ea_9380_a0a4c554f2a3row5_col23\" class=\"data row5 col23\" >2666</td>\n",
       "                        <td id=\"T_b6d8aa06_1a39_11ea_9380_a0a4c554f2a3row5_col24\" class=\"data row5 col24\" >781</td>\n",
       "                        <td id=\"T_b6d8aa06_1a39_11ea_9380_a0a4c554f2a3row5_col25\" class=\"data row5 col25\" >78</td>\n",
       "                        <td id=\"T_b6d8aa06_1a39_11ea_9380_a0a4c554f2a3row5_col26\" class=\"data row5 col26\" >178</td>\n",
       "            </tr>\n",
       "            <tr>\n",
       "                        <th id=\"T_b6d8aa06_1a39_11ea_9380_a0a4c554f2a3level0_row6\" class=\"row_heading level0 row6\" >i</th>\n",
       "                        <td id=\"T_b6d8aa06_1a39_11ea_9380_a0a4c554f2a3row6_col0\" class=\"data row6 col0\" >527</td>\n",
       "                        <td id=\"T_b6d8aa06_1a39_11ea_9380_a0a4c554f2a3row6_col1\" class=\"data row6 col1\" >551</td>\n",
       "                        <td id=\"T_b6d8aa06_1a39_11ea_9380_a0a4c554f2a3row6_col2\" class=\"data row6 col2\" >39</td>\n",
       "                        <td id=\"T_b6d8aa06_1a39_11ea_9380_a0a4c554f2a3row6_col3\" class=\"data row6 col3\" >234</td>\n",
       "                        <td id=\"T_b6d8aa06_1a39_11ea_9380_a0a4c554f2a3row6_col4\" class=\"data row6 col4\" >272</td>\n",
       "                        <td id=\"T_b6d8aa06_1a39_11ea_9380_a0a4c554f2a3row6_col5\" class=\"data row6 col5\" >279</td>\n",
       "                        <td id=\"T_b6d8aa06_1a39_11ea_9380_a0a4c554f2a3row6_col6\" class=\"data row6 col6\" >868</td>\n",
       "                        <td id=\"T_b6d8aa06_1a39_11ea_9380_a0a4c554f2a3row6_col7\" class=\"data row6 col7\" >431</td>\n",
       "                        <td id=\"T_b6d8aa06_1a39_11ea_9380_a0a4c554f2a3row6_col8\" class=\"data row6 col8\" >28</td>\n",
       "                        <td id=\"T_b6d8aa06_1a39_11ea_9380_a0a4c554f2a3row6_col9\" class=\"data row6 col9\" >329</td>\n",
       "                        <td id=\"T_b6d8aa06_1a39_11ea_9380_a0a4c554f2a3row6_col10\" class=\"data row6 col10\" >1173</td>\n",
       "                        <td id=\"T_b6d8aa06_1a39_11ea_9380_a0a4c554f2a3row6_col11\" class=\"data row6 col11\" >557</td>\n",
       "                        <td id=\"T_b6d8aa06_1a39_11ea_9380_a0a4c554f2a3row6_col12\" class=\"data row6 col12\" >126</td>\n",
       "                        <td id=\"T_b6d8aa06_1a39_11ea_9380_a0a4c554f2a3row6_col13\" class=\"data row6 col13\" >729</td>\n",
       "                        <td id=\"T_b6d8aa06_1a39_11ea_9380_a0a4c554f2a3row6_col14\" class=\"data row6 col14\" >237</td>\n",
       "                        <td id=\"T_b6d8aa06_1a39_11ea_9380_a0a4c554f2a3row6_col15\" class=\"data row6 col15\" >545</td>\n",
       "                        <td id=\"T_b6d8aa06_1a39_11ea_9380_a0a4c554f2a3row6_col16\" class=\"data row6 col16\" >116</td>\n",
       "                        <td id=\"T_b6d8aa06_1a39_11ea_9380_a0a4c554f2a3row6_col17\" class=\"data row6 col17\" >92</td>\n",
       "                        <td id=\"T_b6d8aa06_1a39_11ea_9380_a0a4c554f2a3row6_col18\" class=\"data row6 col18\" >1954</td>\n",
       "                        <td id=\"T_b6d8aa06_1a39_11ea_9380_a0a4c554f2a3row6_col19\" class=\"data row6 col19\" >2062</td>\n",
       "                        <td id=\"T_b6d8aa06_1a39_11ea_9380_a0a4c554f2a3row6_col20\" class=\"data row6 col20\" >2923</td>\n",
       "                        <td id=\"T_b6d8aa06_1a39_11ea_9380_a0a4c554f2a3row6_col21\" class=\"data row6 col21\" >2934</td>\n",
       "                        <td id=\"T_b6d8aa06_1a39_11ea_9380_a0a4c554f2a3row6_col22\" class=\"data row6 col22\" >3615</td>\n",
       "                        <td id=\"T_b6d8aa06_1a39_11ea_9380_a0a4c554f2a3row6_col23\" class=\"data row6 col23\" >3196</td>\n",
       "                        <td id=\"T_b6d8aa06_1a39_11ea_9380_a0a4c554f2a3row6_col24\" class=\"data row6 col24\" >811</td>\n",
       "                        <td id=\"T_b6d8aa06_1a39_11ea_9380_a0a4c554f2a3row6_col25\" class=\"data row6 col25\" >74</td>\n",
       "                        <td id=\"T_b6d8aa06_1a39_11ea_9380_a0a4c554f2a3row6_col26\" class=\"data row6 col26\" >153</td>\n",
       "            </tr>\n",
       "            <tr>\n",
       "                        <th id=\"T_b6d8aa06_1a39_11ea_9380_a0a4c554f2a3level0_row7\" class=\"row_heading level0 row7\" >han</th>\n",
       "                        <td id=\"T_b6d8aa06_1a39_11ea_9380_a0a4c554f2a3row7_col0\" class=\"data row7 col0\" >12</td>\n",
       "                        <td id=\"T_b6d8aa06_1a39_11ea_9380_a0a4c554f2a3row7_col1\" class=\"data row7 col1\" >189</td>\n",
       "                        <td id=\"T_b6d8aa06_1a39_11ea_9380_a0a4c554f2a3row7_col2\" class=\"data row7 col2\" >3</td>\n",
       "                        <td id=\"T_b6d8aa06_1a39_11ea_9380_a0a4c554f2a3row7_col3\" class=\"data row7 col3\" >26</td>\n",
       "                        <td id=\"T_b6d8aa06_1a39_11ea_9380_a0a4c554f2a3row7_col4\" class=\"data row7 col4\" >21</td>\n",
       "                        <td id=\"T_b6d8aa06_1a39_11ea_9380_a0a4c554f2a3row7_col5\" class=\"data row7 col5\" >112</td>\n",
       "                        <td id=\"T_b6d8aa06_1a39_11ea_9380_a0a4c554f2a3row7_col6\" class=\"data row7 col6\" >249</td>\n",
       "                        <td id=\"T_b6d8aa06_1a39_11ea_9380_a0a4c554f2a3row7_col7\" class=\"data row7 col7\" >95</td>\n",
       "                        <td id=\"T_b6d8aa06_1a39_11ea_9380_a0a4c554f2a3row7_col8\" class=\"data row7 col8\" >5</td>\n",
       "                        <td id=\"T_b6d8aa06_1a39_11ea_9380_a0a4c554f2a3row7_col9\" class=\"data row7 col9\" >81</td>\n",
       "                        <td id=\"T_b6d8aa06_1a39_11ea_9380_a0a4c554f2a3row7_col10\" class=\"data row7 col10\" >115</td>\n",
       "                        <td id=\"T_b6d8aa06_1a39_11ea_9380_a0a4c554f2a3row7_col11\" class=\"data row7 col11\" >81</td>\n",
       "                        <td id=\"T_b6d8aa06_1a39_11ea_9380_a0a4c554f2a3row7_col12\" class=\"data row7 col12\" >12</td>\n",
       "                        <td id=\"T_b6d8aa06_1a39_11ea_9380_a0a4c554f2a3row7_col13\" class=\"data row7 col13\" >150</td>\n",
       "                        <td id=\"T_b6d8aa06_1a39_11ea_9380_a0a4c554f2a3row7_col14\" class=\"data row7 col14\" >98</td>\n",
       "                        <td id=\"T_b6d8aa06_1a39_11ea_9380_a0a4c554f2a3row7_col15\" class=\"data row7 col15\" >182</td>\n",
       "                        <td id=\"T_b6d8aa06_1a39_11ea_9380_a0a4c554f2a3row7_col16\" class=\"data row7 col16\" >25</td>\n",
       "                        <td id=\"T_b6d8aa06_1a39_11ea_9380_a0a4c554f2a3row7_col17\" class=\"data row7 col17\" >15</td>\n",
       "                        <td id=\"T_b6d8aa06_1a39_11ea_9380_a0a4c554f2a3row7_col18\" class=\"data row7 col18\" >529</td>\n",
       "                        <td id=\"T_b6d8aa06_1a39_11ea_9380_a0a4c554f2a3row7_col19\" class=\"data row7 col19\" >485</td>\n",
       "                        <td id=\"T_b6d8aa06_1a39_11ea_9380_a0a4c554f2a3row7_col20\" class=\"data row7 col20\" >781</td>\n",
       "                        <td id=\"T_b6d8aa06_1a39_11ea_9380_a0a4c554f2a3row7_col21\" class=\"data row7 col21\" >693</td>\n",
       "                        <td id=\"T_b6d8aa06_1a39_11ea_9380_a0a4c554f2a3row7_col22\" class=\"data row7 col22\" >991</td>\n",
       "                        <td id=\"T_b6d8aa06_1a39_11ea_9380_a0a4c554f2a3row7_col23\" class=\"data row7 col23\" >856</td>\n",
       "                        <td id=\"T_b6d8aa06_1a39_11ea_9380_a0a4c554f2a3row7_col24\" class=\"data row7 col24\" >328</td>\n",
       "                        <td id=\"T_b6d8aa06_1a39_11ea_9380_a0a4c554f2a3row7_col25\" class=\"data row7 col25\" >55</td>\n",
       "                        <td id=\"T_b6d8aa06_1a39_11ea_9380_a0a4c554f2a3row7_col26\" class=\"data row7 col26\" >66</td>\n",
       "            </tr>\n",
       "            <tr>\n",
       "                        <th id=\"T_b6d8aa06_1a39_11ea_9380_a0a4c554f2a3level0_row8\" class=\"row_heading level0 row8\" >den</th>\n",
       "                        <td id=\"T_b6d8aa06_1a39_11ea_9380_a0a4c554f2a3row8_col0\" class=\"data row8 col0\" >85</td>\n",
       "                        <td id=\"T_b6d8aa06_1a39_11ea_9380_a0a4c554f2a3row8_col1\" class=\"data row8 col1\" >409</td>\n",
       "                        <td id=\"T_b6d8aa06_1a39_11ea_9380_a0a4c554f2a3row8_col2\" class=\"data row8 col2\" >28</td>\n",
       "                        <td id=\"T_b6d8aa06_1a39_11ea_9380_a0a4c554f2a3row8_col3\" class=\"data row8 col3\" >153</td>\n",
       "                        <td id=\"T_b6d8aa06_1a39_11ea_9380_a0a4c554f2a3row8_col4\" class=\"data row8 col4\" >156</td>\n",
       "                        <td id=\"T_b6d8aa06_1a39_11ea_9380_a0a4c554f2a3row8_col5\" class=\"data row8 col5\" >193</td>\n",
       "                        <td id=\"T_b6d8aa06_1a39_11ea_9380_a0a4c554f2a3row8_col6\" class=\"data row8 col6\" >248</td>\n",
       "                        <td id=\"T_b6d8aa06_1a39_11ea_9380_a0a4c554f2a3row8_col7\" class=\"data row8 col7\" >181</td>\n",
       "                        <td id=\"T_b6d8aa06_1a39_11ea_9380_a0a4c554f2a3row8_col8\" class=\"data row8 col8\" >10</td>\n",
       "                        <td id=\"T_b6d8aa06_1a39_11ea_9380_a0a4c554f2a3row8_col9\" class=\"data row8 col9\" >190</td>\n",
       "                        <td id=\"T_b6d8aa06_1a39_11ea_9380_a0a4c554f2a3row8_col10\" class=\"data row8 col10\" >525</td>\n",
       "                        <td id=\"T_b6d8aa06_1a39_11ea_9380_a0a4c554f2a3row8_col11\" class=\"data row8 col11\" >233</td>\n",
       "                        <td id=\"T_b6d8aa06_1a39_11ea_9380_a0a4c554f2a3row8_col12\" class=\"data row8 col12\" >26</td>\n",
       "                        <td id=\"T_b6d8aa06_1a39_11ea_9380_a0a4c554f2a3row8_col13\" class=\"data row8 col13\" >404</td>\n",
       "                        <td id=\"T_b6d8aa06_1a39_11ea_9380_a0a4c554f2a3row8_col14\" class=\"data row8 col14\" >86</td>\n",
       "                        <td id=\"T_b6d8aa06_1a39_11ea_9380_a0a4c554f2a3row8_col15\" class=\"data row8 col15\" >234</td>\n",
       "                        <td id=\"T_b6d8aa06_1a39_11ea_9380_a0a4c554f2a3row8_col16\" class=\"data row8 col16\" >96</td>\n",
       "                        <td id=\"T_b6d8aa06_1a39_11ea_9380_a0a4c554f2a3row8_col17\" class=\"data row8 col17\" >51</td>\n",
       "                        <td id=\"T_b6d8aa06_1a39_11ea_9380_a0a4c554f2a3row8_col18\" class=\"data row8 col18\" >1220</td>\n",
       "                        <td id=\"T_b6d8aa06_1a39_11ea_9380_a0a4c554f2a3row8_col19\" class=\"data row8 col19\" >1273</td>\n",
       "                        <td id=\"T_b6d8aa06_1a39_11ea_9380_a0a4c554f2a3row8_col20\" class=\"data row8 col20\" >1646</td>\n",
       "                        <td id=\"T_b6d8aa06_1a39_11ea_9380_a0a4c554f2a3row8_col21\" class=\"data row8 col21\" >1617</td>\n",
       "                        <td id=\"T_b6d8aa06_1a39_11ea_9380_a0a4c554f2a3row8_col22\" class=\"data row8 col22\" >1998</td>\n",
       "                        <td id=\"T_b6d8aa06_1a39_11ea_9380_a0a4c554f2a3row8_col23\" class=\"data row8 col23\" >1625</td>\n",
       "                        <td id=\"T_b6d8aa06_1a39_11ea_9380_a0a4c554f2a3row8_col24\" class=\"data row8 col24\" >475</td>\n",
       "                        <td id=\"T_b6d8aa06_1a39_11ea_9380_a0a4c554f2a3row8_col25\" class=\"data row8 col25\" >53</td>\n",
       "                        <td id=\"T_b6d8aa06_1a39_11ea_9380_a0a4c554f2a3row8_col26\" class=\"data row8 col26\" >64</td>\n",
       "            </tr>\n",
       "            <tr>\n",
       "                        <th id=\"T_b6d8aa06_1a39_11ea_9380_a0a4c554f2a3level0_row9\" class=\"row_heading level0 row9\" >er</th>\n",
       "                        <td id=\"T_b6d8aa06_1a39_11ea_9380_a0a4c554f2a3row9_col0\" class=\"data row9 col0\" >6</td>\n",
       "                        <td id=\"T_b6d8aa06_1a39_11ea_9380_a0a4c554f2a3row9_col1\" class=\"data row9 col1\" >529</td>\n",
       "                        <td id=\"T_b6d8aa06_1a39_11ea_9380_a0a4c554f2a3row9_col2\" class=\"data row9 col2\" >21</td>\n",
       "                        <td id=\"T_b6d8aa06_1a39_11ea_9380_a0a4c554f2a3row9_col3\" class=\"data row9 col3\" >170</td>\n",
       "                        <td id=\"T_b6d8aa06_1a39_11ea_9380_a0a4c554f2a3row9_col4\" class=\"data row9 col4\" >160</td>\n",
       "                        <td id=\"T_b6d8aa06_1a39_11ea_9380_a0a4c554f2a3row9_col5\" class=\"data row9 col5\" >152</td>\n",
       "                        <td id=\"T_b6d8aa06_1a39_11ea_9380_a0a4c554f2a3row9_col6\" class=\"data row9 col6\" >367</td>\n",
       "                        <td id=\"T_b6d8aa06_1a39_11ea_9380_a0a4c554f2a3row9_col7\" class=\"data row9 col7\" >72</td>\n",
       "                        <td id=\"T_b6d8aa06_1a39_11ea_9380_a0a4c554f2a3row9_col8\" class=\"data row9 col8\" >9</td>\n",
       "                        <td id=\"T_b6d8aa06_1a39_11ea_9380_a0a4c554f2a3row9_col9\" class=\"data row9 col9\" >176</td>\n",
       "                        <td id=\"T_b6d8aa06_1a39_11ea_9380_a0a4c554f2a3row9_col10\" class=\"data row9 col10\" >704</td>\n",
       "                        <td id=\"T_b6d8aa06_1a39_11ea_9380_a0a4c554f2a3row9_col11\" class=\"data row9 col11\" >357</td>\n",
       "                        <td id=\"T_b6d8aa06_1a39_11ea_9380_a0a4c554f2a3row9_col12\" class=\"data row9 col12\" >41</td>\n",
       "                        <td id=\"T_b6d8aa06_1a39_11ea_9380_a0a4c554f2a3row9_col13\" class=\"data row9 col13\" >752</td>\n",
       "                        <td id=\"T_b6d8aa06_1a39_11ea_9380_a0a4c554f2a3row9_col14\" class=\"data row9 col14\" >386</td>\n",
       "                        <td id=\"T_b6d8aa06_1a39_11ea_9380_a0a4c554f2a3row9_col15\" class=\"data row9 col15\" >602</td>\n",
       "                        <td id=\"T_b6d8aa06_1a39_11ea_9380_a0a4c554f2a3row9_col16\" class=\"data row9 col16\" >54</td>\n",
       "                        <td id=\"T_b6d8aa06_1a39_11ea_9380_a0a4c554f2a3row9_col17\" class=\"data row9 col17\" >40</td>\n",
       "                        <td id=\"T_b6d8aa06_1a39_11ea_9380_a0a4c554f2a3row9_col18\" class=\"data row9 col18\" >1321</td>\n",
       "                        <td id=\"T_b6d8aa06_1a39_11ea_9380_a0a4c554f2a3row9_col19\" class=\"data row9 col19\" >1165</td>\n",
       "                        <td id=\"T_b6d8aa06_1a39_11ea_9380_a0a4c554f2a3row9_col20\" class=\"data row9 col20\" >1539</td>\n",
       "                        <td id=\"T_b6d8aa06_1a39_11ea_9380_a0a4c554f2a3row9_col21\" class=\"data row9 col21\" >1465</td>\n",
       "                        <td id=\"T_b6d8aa06_1a39_11ea_9380_a0a4c554f2a3row9_col22\" class=\"data row9 col22\" >1743</td>\n",
       "                        <td id=\"T_b6d8aa06_1a39_11ea_9380_a0a4c554f2a3row9_col23\" class=\"data row9 col23\" >1587</td>\n",
       "                        <td id=\"T_b6d8aa06_1a39_11ea_9380_a0a4c554f2a3row9_col24\" class=\"data row9 col24\" >414</td>\n",
       "                        <td id=\"T_b6d8aa06_1a39_11ea_9380_a0a4c554f2a3row9_col25\" class=\"data row9 col25\" >50</td>\n",
       "                        <td id=\"T_b6d8aa06_1a39_11ea_9380_a0a4c554f2a3row9_col26\" class=\"data row9 col26\" >121</td>\n",
       "            </tr>\n",
       "            <tr>\n",
       "                        <th id=\"T_b6d8aa06_1a39_11ea_9380_a0a4c554f2a3level0_row10\" class=\"row_heading level0 row10\" >saa</th>\n",
       "                        <td id=\"T_b6d8aa06_1a39_11ea_9380_a0a4c554f2a3row10_col0\" class=\"data row10 col0\" >0</td>\n",
       "                        <td id=\"T_b6d8aa06_1a39_11ea_9380_a0a4c554f2a3row10_col1\" class=\"data row10 col1\" >276</td>\n",
       "                        <td id=\"T_b6d8aa06_1a39_11ea_9380_a0a4c554f2a3row10_col2\" class=\"data row10 col2\" >9</td>\n",
       "                        <td id=\"T_b6d8aa06_1a39_11ea_9380_a0a4c554f2a3row10_col3\" class=\"data row10 col3\" >11</td>\n",
       "                        <td id=\"T_b6d8aa06_1a39_11ea_9380_a0a4c554f2a3row10_col4\" class=\"data row10 col4\" >37</td>\n",
       "                        <td id=\"T_b6d8aa06_1a39_11ea_9380_a0a4c554f2a3row10_col5\" class=\"data row10 col5\" >93</td>\n",
       "                        <td id=\"T_b6d8aa06_1a39_11ea_9380_a0a4c554f2a3row10_col6\" class=\"data row10 col6\" >0</td>\n",
       "                        <td id=\"T_b6d8aa06_1a39_11ea_9380_a0a4c554f2a3row10_col7\" class=\"data row10 col7\" >48</td>\n",
       "                        <td id=\"T_b6d8aa06_1a39_11ea_9380_a0a4c554f2a3row10_col8\" class=\"data row10 col8\" >1</td>\n",
       "                        <td id=\"T_b6d8aa06_1a39_11ea_9380_a0a4c554f2a3row10_col9\" class=\"data row10 col9\" >48</td>\n",
       "                        <td id=\"T_b6d8aa06_1a39_11ea_9380_a0a4c554f2a3row10_col10\" class=\"data row10 col10\" >212</td>\n",
       "                        <td id=\"T_b6d8aa06_1a39_11ea_9380_a0a4c554f2a3row10_col11\" class=\"data row10 col11\" >96</td>\n",
       "                        <td id=\"T_b6d8aa06_1a39_11ea_9380_a0a4c554f2a3row10_col12\" class=\"data row10 col12\" >5</td>\n",
       "                        <td id=\"T_b6d8aa06_1a39_11ea_9380_a0a4c554f2a3row10_col13\" class=\"data row10 col13\" >524</td>\n",
       "                        <td id=\"T_b6d8aa06_1a39_11ea_9380_a0a4c554f2a3row10_col14\" class=\"data row10 col14\" >269</td>\n",
       "                        <td id=\"T_b6d8aa06_1a39_11ea_9380_a0a4c554f2a3row10_col15\" class=\"data row10 col15\" >290</td>\n",
       "                        <td id=\"T_b6d8aa06_1a39_11ea_9380_a0a4c554f2a3row10_col16\" class=\"data row10 col16\" >84</td>\n",
       "                        <td id=\"T_b6d8aa06_1a39_11ea_9380_a0a4c554f2a3row10_col17\" class=\"data row10 col17\" >39</td>\n",
       "                        <td id=\"T_b6d8aa06_1a39_11ea_9380_a0a4c554f2a3row10_col18\" class=\"data row10 col18\" >1301</td>\n",
       "                        <td id=\"T_b6d8aa06_1a39_11ea_9380_a0a4c554f2a3row10_col19\" class=\"data row10 col19\" >1238</td>\n",
       "                        <td id=\"T_b6d8aa06_1a39_11ea_9380_a0a4c554f2a3row10_col20\" class=\"data row10 col20\" >1586</td>\n",
       "                        <td id=\"T_b6d8aa06_1a39_11ea_9380_a0a4c554f2a3row10_col21\" class=\"data row10 col21\" >1520</td>\n",
       "                        <td id=\"T_b6d8aa06_1a39_11ea_9380_a0a4c554f2a3row10_col22\" class=\"data row10 col22\" >1741</td>\n",
       "                        <td id=\"T_b6d8aa06_1a39_11ea_9380_a0a4c554f2a3row10_col23\" class=\"data row10 col23\" >1453</td>\n",
       "                        <td id=\"T_b6d8aa06_1a39_11ea_9380_a0a4c554f2a3row10_col24\" class=\"data row10 col24\" >347</td>\n",
       "                        <td id=\"T_b6d8aa06_1a39_11ea_9380_a0a4c554f2a3row10_col25\" class=\"data row10 col25\" >49</td>\n",
       "                        <td id=\"T_b6d8aa06_1a39_11ea_9380_a0a4c554f2a3row10_col26\" class=\"data row10 col26\" >111</td>\n",
       "            </tr>\n",
       "            <tr>\n",
       "                        <th id=\"T_b6d8aa06_1a39_11ea_9380_a0a4c554f2a3level0_row11\" class=\"row_heading level0 row11\" >mig</th>\n",
       "                        <td id=\"T_b6d8aa06_1a39_11ea_9380_a0a4c554f2a3row11_col0\" class=\"data row11 col0\" >0</td>\n",
       "                        <td id=\"T_b6d8aa06_1a39_11ea_9380_a0a4c554f2a3row11_col1\" class=\"data row11 col1\" >366</td>\n",
       "                        <td id=\"T_b6d8aa06_1a39_11ea_9380_a0a4c554f2a3row11_col2\" class=\"data row11 col2\" >36</td>\n",
       "                        <td id=\"T_b6d8aa06_1a39_11ea_9380_a0a4c554f2a3row11_col3\" class=\"data row11 col3\" >169</td>\n",
       "                        <td id=\"T_b6d8aa06_1a39_11ea_9380_a0a4c554f2a3row11_col4\" class=\"data row11 col4\" >101</td>\n",
       "                        <td id=\"T_b6d8aa06_1a39_11ea_9380_a0a4c554f2a3row11_col5\" class=\"data row11 col5\" >185</td>\n",
       "                        <td id=\"T_b6d8aa06_1a39_11ea_9380_a0a4c554f2a3row11_col6\" class=\"data row11 col6\" >0</td>\n",
       "                        <td id=\"T_b6d8aa06_1a39_11ea_9380_a0a4c554f2a3row11_col7\" class=\"data row11 col7\" >4</td>\n",
       "                        <td id=\"T_b6d8aa06_1a39_11ea_9380_a0a4c554f2a3row11_col8\" class=\"data row11 col8\" >1</td>\n",
       "                        <td id=\"T_b6d8aa06_1a39_11ea_9380_a0a4c554f2a3row11_col9\" class=\"data row11 col9\" >69</td>\n",
       "                        <td id=\"T_b6d8aa06_1a39_11ea_9380_a0a4c554f2a3row11_col10\" class=\"data row11 col10\" >135</td>\n",
       "                        <td id=\"T_b6d8aa06_1a39_11ea_9380_a0a4c554f2a3row11_col11\" class=\"data row11 col11\" >77</td>\n",
       "                        <td id=\"T_b6d8aa06_1a39_11ea_9380_a0a4c554f2a3row11_col12\" class=\"data row11 col12\" >7</td>\n",
       "                        <td id=\"T_b6d8aa06_1a39_11ea_9380_a0a4c554f2a3row11_col13\" class=\"data row11 col13\" >373</td>\n",
       "                        <td id=\"T_b6d8aa06_1a39_11ea_9380_a0a4c554f2a3row11_col14\" class=\"data row11 col14\" >104</td>\n",
       "                        <td id=\"T_b6d8aa06_1a39_11ea_9380_a0a4c554f2a3row11_col15\" class=\"data row11 col15\" >289</td>\n",
       "                        <td id=\"T_b6d8aa06_1a39_11ea_9380_a0a4c554f2a3row11_col16\" class=\"data row11 col16\" >54</td>\n",
       "                        <td id=\"T_b6d8aa06_1a39_11ea_9380_a0a4c554f2a3row11_col17\" class=\"data row11 col17\" >30</td>\n",
       "                        <td id=\"T_b6d8aa06_1a39_11ea_9380_a0a4c554f2a3row11_col18\" class=\"data row11 col18\" >740</td>\n",
       "                        <td id=\"T_b6d8aa06_1a39_11ea_9380_a0a4c554f2a3row11_col19\" class=\"data row11 col19\" >865</td>\n",
       "                        <td id=\"T_b6d8aa06_1a39_11ea_9380_a0a4c554f2a3row11_col20\" class=\"data row11 col20\" >1145</td>\n",
       "                        <td id=\"T_b6d8aa06_1a39_11ea_9380_a0a4c554f2a3row11_col21\" class=\"data row11 col21\" >1169</td>\n",
       "                        <td id=\"T_b6d8aa06_1a39_11ea_9380_a0a4c554f2a3row11_col22\" class=\"data row11 col22\" >1511</td>\n",
       "                        <td id=\"T_b6d8aa06_1a39_11ea_9380_a0a4c554f2a3row11_col23\" class=\"data row11 col23\" >1203</td>\n",
       "                        <td id=\"T_b6d8aa06_1a39_11ea_9380_a0a4c554f2a3row11_col24\" class=\"data row11 col24\" >290</td>\n",
       "                        <td id=\"T_b6d8aa06_1a39_11ea_9380_a0a4c554f2a3row11_col25\" class=\"data row11 col25\" >49</td>\n",
       "                        <td id=\"T_b6d8aa06_1a39_11ea_9380_a0a4c554f2a3row11_col26\" class=\"data row11 col26\" >27</td>\n",
       "            </tr>\n",
       "            <tr>\n",
       "                        <th id=\"T_b6d8aa06_1a39_11ea_9380_a0a4c554f2a3level0_row12\" class=\"row_heading level0 row12\" >en</th>\n",
       "                        <td id=\"T_b6d8aa06_1a39_11ea_9380_a0a4c554f2a3row12_col0\" class=\"data row12 col0\" >283</td>\n",
       "                        <td id=\"T_b6d8aa06_1a39_11ea_9380_a0a4c554f2a3row12_col1\" class=\"data row12 col1\" >443</td>\n",
       "                        <td id=\"T_b6d8aa06_1a39_11ea_9380_a0a4c554f2a3row12_col2\" class=\"data row12 col2\" >29</td>\n",
       "                        <td id=\"T_b6d8aa06_1a39_11ea_9380_a0a4c554f2a3row12_col3\" class=\"data row12 col3\" >173</td>\n",
       "                        <td id=\"T_b6d8aa06_1a39_11ea_9380_a0a4c554f2a3row12_col4\" class=\"data row12 col4\" >131</td>\n",
       "                        <td id=\"T_b6d8aa06_1a39_11ea_9380_a0a4c554f2a3row12_col5\" class=\"data row12 col5\" >209</td>\n",
       "                        <td id=\"T_b6d8aa06_1a39_11ea_9380_a0a4c554f2a3row12_col6\" class=\"data row12 col6\" >1163</td>\n",
       "                        <td id=\"T_b6d8aa06_1a39_11ea_9380_a0a4c554f2a3row12_col7\" class=\"data row12 col7\" >99</td>\n",
       "                        <td id=\"T_b6d8aa06_1a39_11ea_9380_a0a4c554f2a3row12_col8\" class=\"data row12 col8\" >18</td>\n",
       "                        <td id=\"T_b6d8aa06_1a39_11ea_9380_a0a4c554f2a3row12_col9\" class=\"data row12 col9\" >221</td>\n",
       "                        <td id=\"T_b6d8aa06_1a39_11ea_9380_a0a4c554f2a3row12_col10\" class=\"data row12 col10\" >634</td>\n",
       "                        <td id=\"T_b6d8aa06_1a39_11ea_9380_a0a4c554f2a3row12_col11\" class=\"data row12 col11\" >315</td>\n",
       "                        <td id=\"T_b6d8aa06_1a39_11ea_9380_a0a4c554f2a3row12_col12\" class=\"data row12 col12\" >66</td>\n",
       "                        <td id=\"T_b6d8aa06_1a39_11ea_9380_a0a4c554f2a3row12_col13\" class=\"data row12 col13\" >467</td>\n",
       "                        <td id=\"T_b6d8aa06_1a39_11ea_9380_a0a4c554f2a3row12_col14\" class=\"data row12 col14\" >172</td>\n",
       "                        <td id=\"T_b6d8aa06_1a39_11ea_9380_a0a4c554f2a3row12_col15\" class=\"data row12 col15\" >320</td>\n",
       "                        <td id=\"T_b6d8aa06_1a39_11ea_9380_a0a4c554f2a3row12_col16\" class=\"data row12 col16\" >92</td>\n",
       "                        <td id=\"T_b6d8aa06_1a39_11ea_9380_a0a4c554f2a3row12_col17\" class=\"data row12 col17\" >59</td>\n",
       "                        <td id=\"T_b6d8aa06_1a39_11ea_9380_a0a4c554f2a3row12_col18\" class=\"data row12 col18\" >906</td>\n",
       "                        <td id=\"T_b6d8aa06_1a39_11ea_9380_a0a4c554f2a3row12_col19\" class=\"data row12 col19\" >798</td>\n",
       "                        <td id=\"T_b6d8aa06_1a39_11ea_9380_a0a4c554f2a3row12_col20\" class=\"data row12 col20\" >1192</td>\n",
       "                        <td id=\"T_b6d8aa06_1a39_11ea_9380_a0a4c554f2a3row12_col21\" class=\"data row12 col21\" >1051</td>\n",
       "                        <td id=\"T_b6d8aa06_1a39_11ea_9380_a0a4c554f2a3row12_col22\" class=\"data row12 col22\" >1438</td>\n",
       "                        <td id=\"T_b6d8aa06_1a39_11ea_9380_a0a4c554f2a3row12_col23\" class=\"data row12 col23\" >1164</td>\n",
       "                        <td id=\"T_b6d8aa06_1a39_11ea_9380_a0a4c554f2a3row12_col24\" class=\"data row12 col24\" >317</td>\n",
       "                        <td id=\"T_b6d8aa06_1a39_11ea_9380_a0a4c554f2a3row12_col25\" class=\"data row12 col25\" >48</td>\n",
       "                        <td id=\"T_b6d8aa06_1a39_11ea_9380_a0a4c554f2a3row12_col26\" class=\"data row12 col26\" >75</td>\n",
       "            </tr>\n",
       "            <tr>\n",
       "                        <th id=\"T_b6d8aa06_1a39_11ea_9380_a0a4c554f2a3level0_row13\" class=\"row_heading level0 row13\" >som</th>\n",
       "                        <td id=\"T_b6d8aa06_1a39_11ea_9380_a0a4c554f2a3row13_col0\" class=\"data row13 col0\" >45</td>\n",
       "                        <td id=\"T_b6d8aa06_1a39_11ea_9380_a0a4c554f2a3row13_col1\" class=\"data row13 col1\" >228</td>\n",
       "                        <td id=\"T_b6d8aa06_1a39_11ea_9380_a0a4c554f2a3row13_col2\" class=\"data row13 col2\" >22</td>\n",
       "                        <td id=\"T_b6d8aa06_1a39_11ea_9380_a0a4c554f2a3row13_col3\" class=\"data row13 col3\" >98</td>\n",
       "                        <td id=\"T_b6d8aa06_1a39_11ea_9380_a0a4c554f2a3row13_col4\" class=\"data row13 col4\" >109</td>\n",
       "                        <td id=\"T_b6d8aa06_1a39_11ea_9380_a0a4c554f2a3row13_col5\" class=\"data row13 col5\" >167</td>\n",
       "                        <td id=\"T_b6d8aa06_1a39_11ea_9380_a0a4c554f2a3row13_col6\" class=\"data row13 col6\" >690</td>\n",
       "                        <td id=\"T_b6d8aa06_1a39_11ea_9380_a0a4c554f2a3row13_col7\" class=\"data row13 col7\" >160</td>\n",
       "                        <td id=\"T_b6d8aa06_1a39_11ea_9380_a0a4c554f2a3row13_col8\" class=\"data row13 col8\" >15</td>\n",
       "                        <td id=\"T_b6d8aa06_1a39_11ea_9380_a0a4c554f2a3row13_col9\" class=\"data row13 col9\" >141</td>\n",
       "                        <td id=\"T_b6d8aa06_1a39_11ea_9380_a0a4c554f2a3row13_col10\" class=\"data row13 col10\" >378</td>\n",
       "                        <td id=\"T_b6d8aa06_1a39_11ea_9380_a0a4c554f2a3row13_col11\" class=\"data row13 col11\" >168</td>\n",
       "                        <td id=\"T_b6d8aa06_1a39_11ea_9380_a0a4c554f2a3row13_col12\" class=\"data row13 col12\" >40</td>\n",
       "                        <td id=\"T_b6d8aa06_1a39_11ea_9380_a0a4c554f2a3row13_col13\" class=\"data row13 col13\" >491</td>\n",
       "                        <td id=\"T_b6d8aa06_1a39_11ea_9380_a0a4c554f2a3row13_col14\" class=\"data row13 col14\" >142</td>\n",
       "                        <td id=\"T_b6d8aa06_1a39_11ea_9380_a0a4c554f2a3row13_col15\" class=\"data row13 col15\" >281</td>\n",
       "                        <td id=\"T_b6d8aa06_1a39_11ea_9380_a0a4c554f2a3row13_col16\" class=\"data row13 col16\" >107</td>\n",
       "                        <td id=\"T_b6d8aa06_1a39_11ea_9380_a0a4c554f2a3row13_col17\" class=\"data row13 col17\" >76</td>\n",
       "                        <td id=\"T_b6d8aa06_1a39_11ea_9380_a0a4c554f2a3row13_col18\" class=\"data row13 col18\" >1250</td>\n",
       "                        <td id=\"T_b6d8aa06_1a39_11ea_9380_a0a4c554f2a3row13_col19\" class=\"data row13 col19\" >1221</td>\n",
       "                        <td id=\"T_b6d8aa06_1a39_11ea_9380_a0a4c554f2a3row13_col20\" class=\"data row13 col20\" >1781</td>\n",
       "                        <td id=\"T_b6d8aa06_1a39_11ea_9380_a0a4c554f2a3row13_col21\" class=\"data row13 col21\" >1682</td>\n",
       "                        <td id=\"T_b6d8aa06_1a39_11ea_9380_a0a4c554f2a3row13_col22\" class=\"data row13 col22\" >2058</td>\n",
       "                        <td id=\"T_b6d8aa06_1a39_11ea_9380_a0a4c554f2a3row13_col23\" class=\"data row13 col23\" >1507</td>\n",
       "                        <td id=\"T_b6d8aa06_1a39_11ea_9380_a0a4c554f2a3row13_col24\" class=\"data row13 col24\" >394</td>\n",
       "                        <td id=\"T_b6d8aa06_1a39_11ea_9380_a0a4c554f2a3row13_col25\" class=\"data row13 col25\" >46</td>\n",
       "                        <td id=\"T_b6d8aa06_1a39_11ea_9380_a0a4c554f2a3row13_col26\" class=\"data row13 col26\" >88</td>\n",
       "            </tr>\n",
       "            <tr>\n",
       "                        <th id=\"T_b6d8aa06_1a39_11ea_9380_a0a4c554f2a3level0_row14\" class=\"row_heading level0 row14\" >der</th>\n",
       "                        <td id=\"T_b6d8aa06_1a39_11ea_9380_a0a4c554f2a3row14_col0\" class=\"data row14 col0\" >2</td>\n",
       "                        <td id=\"T_b6d8aa06_1a39_11ea_9380_a0a4c554f2a3row14_col1\" class=\"data row14 col1\" >318</td>\n",
       "                        <td id=\"T_b6d8aa06_1a39_11ea_9380_a0a4c554f2a3row14_col2\" class=\"data row14 col2\" >15</td>\n",
       "                        <td id=\"T_b6d8aa06_1a39_11ea_9380_a0a4c554f2a3row14_col3\" class=\"data row14 col3\" >132</td>\n",
       "                        <td id=\"T_b6d8aa06_1a39_11ea_9380_a0a4c554f2a3row14_col4\" class=\"data row14 col4\" >103</td>\n",
       "                        <td id=\"T_b6d8aa06_1a39_11ea_9380_a0a4c554f2a3row14_col5\" class=\"data row14 col5\" >143</td>\n",
       "                        <td id=\"T_b6d8aa06_1a39_11ea_9380_a0a4c554f2a3row14_col6\" class=\"data row14 col6\" >121</td>\n",
       "                        <td id=\"T_b6d8aa06_1a39_11ea_9380_a0a4c554f2a3row14_col7\" class=\"data row14 col7\" >47</td>\n",
       "                        <td id=\"T_b6d8aa06_1a39_11ea_9380_a0a4c554f2a3row14_col8\" class=\"data row14 col8\" >7</td>\n",
       "                        <td id=\"T_b6d8aa06_1a39_11ea_9380_a0a4c554f2a3row14_col9\" class=\"data row14 col9\" >53</td>\n",
       "                        <td id=\"T_b6d8aa06_1a39_11ea_9380_a0a4c554f2a3row14_col10\" class=\"data row14 col10\" >244</td>\n",
       "                        <td id=\"T_b6d8aa06_1a39_11ea_9380_a0a4c554f2a3row14_col11\" class=\"data row14 col11\" >107</td>\n",
       "                        <td id=\"T_b6d8aa06_1a39_11ea_9380_a0a4c554f2a3row14_col12\" class=\"data row14 col12\" >11</td>\n",
       "                        <td id=\"T_b6d8aa06_1a39_11ea_9380_a0a4c554f2a3row14_col13\" class=\"data row14 col13\" >244</td>\n",
       "                        <td id=\"T_b6d8aa06_1a39_11ea_9380_a0a4c554f2a3row14_col14\" class=\"data row14 col14\" >102</td>\n",
       "                        <td id=\"T_b6d8aa06_1a39_11ea_9380_a0a4c554f2a3row14_col15\" class=\"data row14 col15\" >165</td>\n",
       "                        <td id=\"T_b6d8aa06_1a39_11ea_9380_a0a4c554f2a3row14_col16\" class=\"data row14 col16\" >25</td>\n",
       "                        <td id=\"T_b6d8aa06_1a39_11ea_9380_a0a4c554f2a3row14_col17\" class=\"data row14 col17\" >17</td>\n",
       "                        <td id=\"T_b6d8aa06_1a39_11ea_9380_a0a4c554f2a3row14_col18\" class=\"data row14 col18\" >396</td>\n",
       "                        <td id=\"T_b6d8aa06_1a39_11ea_9380_a0a4c554f2a3row14_col19\" class=\"data row14 col19\" >466</td>\n",
       "                        <td id=\"T_b6d8aa06_1a39_11ea_9380_a0a4c554f2a3row14_col20\" class=\"data row14 col20\" >671</td>\n",
       "                        <td id=\"T_b6d8aa06_1a39_11ea_9380_a0a4c554f2a3row14_col21\" class=\"data row14 col21\" >601</td>\n",
       "                        <td id=\"T_b6d8aa06_1a39_11ea_9380_a0a4c554f2a3row14_col22\" class=\"data row14 col22\" >826</td>\n",
       "                        <td id=\"T_b6d8aa06_1a39_11ea_9380_a0a4c554f2a3row14_col23\" class=\"data row14 col23\" >815</td>\n",
       "                        <td id=\"T_b6d8aa06_1a39_11ea_9380_a0a4c554f2a3row14_col24\" class=\"data row14 col24\" >281</td>\n",
       "                        <td id=\"T_b6d8aa06_1a39_11ea_9380_a0a4c554f2a3row14_col25\" class=\"data row14 col25\" >44</td>\n",
       "                        <td id=\"T_b6d8aa06_1a39_11ea_9380_a0a4c554f2a3row14_col26\" class=\"data row14 col26\" >50</td>\n",
       "            </tr>\n",
       "            <tr>\n",
       "                        <th id=\"T_b6d8aa06_1a39_11ea_9380_a0a4c554f2a3level0_row15\" class=\"row_heading level0 row15\" >ikke</th>\n",
       "                        <td id=\"T_b6d8aa06_1a39_11ea_9380_a0a4c554f2a3row15_col0\" class=\"data row15 col0\" >185</td>\n",
       "                        <td id=\"T_b6d8aa06_1a39_11ea_9380_a0a4c554f2a3row15_col1\" class=\"data row15 col1\" >471</td>\n",
       "                        <td id=\"T_b6d8aa06_1a39_11ea_9380_a0a4c554f2a3row15_col2\" class=\"data row15 col2\" >21</td>\n",
       "                        <td id=\"T_b6d8aa06_1a39_11ea_9380_a0a4c554f2a3row15_col3\" class=\"data row15 col3\" >152</td>\n",
       "                        <td id=\"T_b6d8aa06_1a39_11ea_9380_a0a4c554f2a3row15_col4\" class=\"data row15 col4\" >145</td>\n",
       "                        <td id=\"T_b6d8aa06_1a39_11ea_9380_a0a4c554f2a3row15_col5\" class=\"data row15 col5\" >172</td>\n",
       "                        <td id=\"T_b6d8aa06_1a39_11ea_9380_a0a4c554f2a3row15_col6\" class=\"data row15 col6\" >181</td>\n",
       "                        <td id=\"T_b6d8aa06_1a39_11ea_9380_a0a4c554f2a3row15_col7\" class=\"data row15 col7\" >68</td>\n",
       "                        <td id=\"T_b6d8aa06_1a39_11ea_9380_a0a4c554f2a3row15_col8\" class=\"data row15 col8\" >5</td>\n",
       "                        <td id=\"T_b6d8aa06_1a39_11ea_9380_a0a4c554f2a3row15_col9\" class=\"data row15 col9\" >105</td>\n",
       "                        <td id=\"T_b6d8aa06_1a39_11ea_9380_a0a4c554f2a3row15_col10\" class=\"data row15 col10\" >243</td>\n",
       "                        <td id=\"T_b6d8aa06_1a39_11ea_9380_a0a4c554f2a3row15_col11\" class=\"data row15 col11\" >133</td>\n",
       "                        <td id=\"T_b6d8aa06_1a39_11ea_9380_a0a4c554f2a3row15_col12\" class=\"data row15 col12\" >11</td>\n",
       "                        <td id=\"T_b6d8aa06_1a39_11ea_9380_a0a4c554f2a3row15_col13\" class=\"data row15 col13\" >629</td>\n",
       "                        <td id=\"T_b6d8aa06_1a39_11ea_9380_a0a4c554f2a3row15_col14\" class=\"data row15 col14\" >211</td>\n",
       "                        <td id=\"T_b6d8aa06_1a39_11ea_9380_a0a4c554f2a3row15_col15\" class=\"data row15 col15\" >376</td>\n",
       "                        <td id=\"T_b6d8aa06_1a39_11ea_9380_a0a4c554f2a3row15_col16\" class=\"data row15 col16\" >35</td>\n",
       "                        <td id=\"T_b6d8aa06_1a39_11ea_9380_a0a4c554f2a3row15_col17\" class=\"data row15 col17\" >23</td>\n",
       "                        <td id=\"T_b6d8aa06_1a39_11ea_9380_a0a4c554f2a3row15_col18\" class=\"data row15 col18\" >928</td>\n",
       "                        <td id=\"T_b6d8aa06_1a39_11ea_9380_a0a4c554f2a3row15_col19\" class=\"data row15 col19\" >999</td>\n",
       "                        <td id=\"T_b6d8aa06_1a39_11ea_9380_a0a4c554f2a3row15_col20\" class=\"data row15 col20\" >1464</td>\n",
       "                        <td id=\"T_b6d8aa06_1a39_11ea_9380_a0a4c554f2a3row15_col21\" class=\"data row15 col21\" >1461</td>\n",
       "                        <td id=\"T_b6d8aa06_1a39_11ea_9380_a0a4c554f2a3row15_col22\" class=\"data row15 col22\" >1670</td>\n",
       "                        <td id=\"T_b6d8aa06_1a39_11ea_9380_a0a4c554f2a3row15_col23\" class=\"data row15 col23\" >1575</td>\n",
       "                        <td id=\"T_b6d8aa06_1a39_11ea_9380_a0a4c554f2a3row15_col24\" class=\"data row15 col24\" >459</td>\n",
       "                        <td id=\"T_b6d8aa06_1a39_11ea_9380_a0a4c554f2a3row15_col25\" class=\"data row15 col25\" >44</td>\n",
       "                        <td id=\"T_b6d8aa06_1a39_11ea_9380_a0a4c554f2a3row15_col26\" class=\"data row15 col26\" >115</td>\n",
       "            </tr>\n",
       "            <tr>\n",
       "                        <th id=\"T_b6d8aa06_1a39_11ea_9380_a0a4c554f2a3level0_row16\" class=\"row_heading level0 row16\" >var</th>\n",
       "                        <td id=\"T_b6d8aa06_1a39_11ea_9380_a0a4c554f2a3row16_col0\" class=\"data row16 col0\" >264</td>\n",
       "                        <td id=\"T_b6d8aa06_1a39_11ea_9380_a0a4c554f2a3row16_col1\" class=\"data row16 col1\" >248</td>\n",
       "                        <td id=\"T_b6d8aa06_1a39_11ea_9380_a0a4c554f2a3row16_col2\" class=\"data row16 col2\" >10</td>\n",
       "                        <td id=\"T_b6d8aa06_1a39_11ea_9380_a0a4c554f2a3row16_col3\" class=\"data row16 col3\" >45</td>\n",
       "                        <td id=\"T_b6d8aa06_1a39_11ea_9380_a0a4c554f2a3row16_col4\" class=\"data row16 col4\" >36</td>\n",
       "                        <td id=\"T_b6d8aa06_1a39_11ea_9380_a0a4c554f2a3row16_col5\" class=\"data row16 col5\" >167</td>\n",
       "                        <td id=\"T_b6d8aa06_1a39_11ea_9380_a0a4c554f2a3row16_col6\" class=\"data row16 col6\" >441</td>\n",
       "                        <td id=\"T_b6d8aa06_1a39_11ea_9380_a0a4c554f2a3row16_col7\" class=\"data row16 col7\" >120</td>\n",
       "                        <td id=\"T_b6d8aa06_1a39_11ea_9380_a0a4c554f2a3row16_col8\" class=\"data row16 col8\" >11</td>\n",
       "                        <td id=\"T_b6d8aa06_1a39_11ea_9380_a0a4c554f2a3row16_col9\" class=\"data row16 col9\" >172</td>\n",
       "                        <td id=\"T_b6d8aa06_1a39_11ea_9380_a0a4c554f2a3row16_col10\" class=\"data row16 col10\" >442</td>\n",
       "                        <td id=\"T_b6d8aa06_1a39_11ea_9380_a0a4c554f2a3row16_col11\" class=\"data row16 col11\" >199</td>\n",
       "                        <td id=\"T_b6d8aa06_1a39_11ea_9380_a0a4c554f2a3row16_col12\" class=\"data row16 col12\" >34</td>\n",
       "                        <td id=\"T_b6d8aa06_1a39_11ea_9380_a0a4c554f2a3row16_col13\" class=\"data row16 col13\" >309</td>\n",
       "                        <td id=\"T_b6d8aa06_1a39_11ea_9380_a0a4c554f2a3row16_col14\" class=\"data row16 col14\" >113</td>\n",
       "                        <td id=\"T_b6d8aa06_1a39_11ea_9380_a0a4c554f2a3row16_col15\" class=\"data row16 col15\" >216</td>\n",
       "                        <td id=\"T_b6d8aa06_1a39_11ea_9380_a0a4c554f2a3row16_col16\" class=\"data row16 col16\" >110</td>\n",
       "                        <td id=\"T_b6d8aa06_1a39_11ea_9380_a0a4c554f2a3row16_col17\" class=\"data row16 col17\" >44</td>\n",
       "                        <td id=\"T_b6d8aa06_1a39_11ea_9380_a0a4c554f2a3row16_col18\" class=\"data row16 col18\" >935</td>\n",
       "                        <td id=\"T_b6d8aa06_1a39_11ea_9380_a0a4c554f2a3row16_col19\" class=\"data row16 col19\" >967</td>\n",
       "                        <td id=\"T_b6d8aa06_1a39_11ea_9380_a0a4c554f2a3row16_col20\" class=\"data row16 col20\" >1472</td>\n",
       "                        <td id=\"T_b6d8aa06_1a39_11ea_9380_a0a4c554f2a3row16_col21\" class=\"data row16 col21\" >1418</td>\n",
       "                        <td id=\"T_b6d8aa06_1a39_11ea_9380_a0a4c554f2a3row16_col22\" class=\"data row16 col22\" >1846</td>\n",
       "                        <td id=\"T_b6d8aa06_1a39_11ea_9380_a0a4c554f2a3row16_col23\" class=\"data row16 col23\" >1598</td>\n",
       "                        <td id=\"T_b6d8aa06_1a39_11ea_9380_a0a4c554f2a3row16_col24\" class=\"data row16 col24\" >348</td>\n",
       "                        <td id=\"T_b6d8aa06_1a39_11ea_9380_a0a4c554f2a3row16_col25\" class=\"data row16 col25\" >40</td>\n",
       "                        <td id=\"T_b6d8aa06_1a39_11ea_9380_a0a4c554f2a3row16_col26\" class=\"data row16 col26\" >129</td>\n",
       "            </tr>\n",
       "            <tr>\n",
       "                        <th id=\"T_b6d8aa06_1a39_11ea_9380_a0a4c554f2a3level0_row17\" class=\"row_heading level0 row17\" >for</th>\n",
       "                        <td id=\"T_b6d8aa06_1a39_11ea_9380_a0a4c554f2a3row17_col0\" class=\"data row17 col0\" >41</td>\n",
       "                        <td id=\"T_b6d8aa06_1a39_11ea_9380_a0a4c554f2a3row17_col1\" class=\"data row17 col1\" >286</td>\n",
       "                        <td id=\"T_b6d8aa06_1a39_11ea_9380_a0a4c554f2a3row17_col2\" class=\"data row17 col2\" >30</td>\n",
       "                        <td id=\"T_b6d8aa06_1a39_11ea_9380_a0a4c554f2a3row17_col3\" class=\"data row17 col3\" >117</td>\n",
       "                        <td id=\"T_b6d8aa06_1a39_11ea_9380_a0a4c554f2a3row17_col4\" class=\"data row17 col4\" >113</td>\n",
       "                        <td id=\"T_b6d8aa06_1a39_11ea_9380_a0a4c554f2a3row17_col5\" class=\"data row17 col5\" >126</td>\n",
       "                        <td id=\"T_b6d8aa06_1a39_11ea_9380_a0a4c554f2a3row17_col6\" class=\"data row17 col6\" >476</td>\n",
       "                        <td id=\"T_b6d8aa06_1a39_11ea_9380_a0a4c554f2a3row17_col7\" class=\"data row17 col7\" >137</td>\n",
       "                        <td id=\"T_b6d8aa06_1a39_11ea_9380_a0a4c554f2a3row17_col8\" class=\"data row17 col8\" >9</td>\n",
       "                        <td id=\"T_b6d8aa06_1a39_11ea_9380_a0a4c554f2a3row17_col9\" class=\"data row17 col9\" >78</td>\n",
       "                        <td id=\"T_b6d8aa06_1a39_11ea_9380_a0a4c554f2a3row17_col10\" class=\"data row17 col10\" >414</td>\n",
       "                        <td id=\"T_b6d8aa06_1a39_11ea_9380_a0a4c554f2a3row17_col11\" class=\"data row17 col11\" >191</td>\n",
       "                        <td id=\"T_b6d8aa06_1a39_11ea_9380_a0a4c554f2a3row17_col12\" class=\"data row17 col12\" >49</td>\n",
       "                        <td id=\"T_b6d8aa06_1a39_11ea_9380_a0a4c554f2a3row17_col13\" class=\"data row17 col13\" >408</td>\n",
       "                        <td id=\"T_b6d8aa06_1a39_11ea_9380_a0a4c554f2a3row17_col14\" class=\"data row17 col14\" >191</td>\n",
       "                        <td id=\"T_b6d8aa06_1a39_11ea_9380_a0a4c554f2a3row17_col15\" class=\"data row17 col15\" >332</td>\n",
       "                        <td id=\"T_b6d8aa06_1a39_11ea_9380_a0a4c554f2a3row17_col16\" class=\"data row17 col16\" >70</td>\n",
       "                        <td id=\"T_b6d8aa06_1a39_11ea_9380_a0a4c554f2a3row17_col17\" class=\"data row17 col17\" >46</td>\n",
       "                        <td id=\"T_b6d8aa06_1a39_11ea_9380_a0a4c554f2a3row17_col18\" class=\"data row17 col18\" >803</td>\n",
       "                        <td id=\"T_b6d8aa06_1a39_11ea_9380_a0a4c554f2a3row17_col19\" class=\"data row17 col19\" >868</td>\n",
       "                        <td id=\"T_b6d8aa06_1a39_11ea_9380_a0a4c554f2a3row17_col20\" class=\"data row17 col20\" >1157</td>\n",
       "                        <td id=\"T_b6d8aa06_1a39_11ea_9380_a0a4c554f2a3row17_col21\" class=\"data row17 col21\" >1145</td>\n",
       "                        <td id=\"T_b6d8aa06_1a39_11ea_9380_a0a4c554f2a3row17_col22\" class=\"data row17 col22\" >1407</td>\n",
       "                        <td id=\"T_b6d8aa06_1a39_11ea_9380_a0a4c554f2a3row17_col23\" class=\"data row17 col23\" >1176</td>\n",
       "                        <td id=\"T_b6d8aa06_1a39_11ea_9380_a0a4c554f2a3row17_col24\" class=\"data row17 col24\" >368</td>\n",
       "                        <td id=\"T_b6d8aa06_1a39_11ea_9380_a0a4c554f2a3row17_col25\" class=\"data row17 col25\" >38</td>\n",
       "                        <td id=\"T_b6d8aa06_1a39_11ea_9380_a0a4c554f2a3row17_col26\" class=\"data row17 col26\" >50</td>\n",
       "            </tr>\n",
       "            <tr>\n",
       "                        <th id=\"T_b6d8aa06_1a39_11ea_9380_a0a4c554f2a3level0_row18\" class=\"row_heading level0 row18\" >til</th>\n",
       "                        <td id=\"T_b6d8aa06_1a39_11ea_9380_a0a4c554f2a3row18_col0\" class=\"data row18 col0\" >52</td>\n",
       "                        <td id=\"T_b6d8aa06_1a39_11ea_9380_a0a4c554f2a3row18_col1\" class=\"data row18 col1\" >474</td>\n",
       "                        <td id=\"T_b6d8aa06_1a39_11ea_9380_a0a4c554f2a3row18_col2\" class=\"data row18 col2\" >37</td>\n",
       "                        <td id=\"T_b6d8aa06_1a39_11ea_9380_a0a4c554f2a3row18_col3\" class=\"data row18 col3\" >214</td>\n",
       "                        <td id=\"T_b6d8aa06_1a39_11ea_9380_a0a4c554f2a3row18_col4\" class=\"data row18 col4\" >159</td>\n",
       "                        <td id=\"T_b6d8aa06_1a39_11ea_9380_a0a4c554f2a3row18_col5\" class=\"data row18 col5\" >172</td>\n",
       "                        <td id=\"T_b6d8aa06_1a39_11ea_9380_a0a4c554f2a3row18_col6\" class=\"data row18 col6\" >671</td>\n",
       "                        <td id=\"T_b6d8aa06_1a39_11ea_9380_a0a4c554f2a3row18_col7\" class=\"data row18 col7\" >213</td>\n",
       "                        <td id=\"T_b6d8aa06_1a39_11ea_9380_a0a4c554f2a3row18_col8\" class=\"data row18 col8\" >27</td>\n",
       "                        <td id=\"T_b6d8aa06_1a39_11ea_9380_a0a4c554f2a3row18_col9\" class=\"data row18 col9\" >128</td>\n",
       "                        <td id=\"T_b6d8aa06_1a39_11ea_9380_a0a4c554f2a3row18_col10\" class=\"data row18 col10\" >494</td>\n",
       "                        <td id=\"T_b6d8aa06_1a39_11ea_9380_a0a4c554f2a3row18_col11\" class=\"data row18 col11\" >225</td>\n",
       "                        <td id=\"T_b6d8aa06_1a39_11ea_9380_a0a4c554f2a3row18_col12\" class=\"data row18 col12\" >92</td>\n",
       "                        <td id=\"T_b6d8aa06_1a39_11ea_9380_a0a4c554f2a3row18_col13\" class=\"data row18 col13\" >532</td>\n",
       "                        <td id=\"T_b6d8aa06_1a39_11ea_9380_a0a4c554f2a3row18_col14\" class=\"data row18 col14\" >269</td>\n",
       "                        <td id=\"T_b6d8aa06_1a39_11ea_9380_a0a4c554f2a3row18_col15\" class=\"data row18 col15\" >458</td>\n",
       "                        <td id=\"T_b6d8aa06_1a39_11ea_9380_a0a4c554f2a3row18_col16\" class=\"data row18 col16\" >105</td>\n",
       "                        <td id=\"T_b6d8aa06_1a39_11ea_9380_a0a4c554f2a3row18_col17\" class=\"data row18 col17\" >60</td>\n",
       "                        <td id=\"T_b6d8aa06_1a39_11ea_9380_a0a4c554f2a3row18_col18\" class=\"data row18 col18\" >1202</td>\n",
       "                        <td id=\"T_b6d8aa06_1a39_11ea_9380_a0a4c554f2a3row18_col19\" class=\"data row18 col19\" >1142</td>\n",
       "                        <td id=\"T_b6d8aa06_1a39_11ea_9380_a0a4c554f2a3row18_col20\" class=\"data row18 col20\" >1580</td>\n",
       "                        <td id=\"T_b6d8aa06_1a39_11ea_9380_a0a4c554f2a3row18_col21\" class=\"data row18 col21\" >1740</td>\n",
       "                        <td id=\"T_b6d8aa06_1a39_11ea_9380_a0a4c554f2a3row18_col22\" class=\"data row18 col22\" >2278</td>\n",
       "                        <td id=\"T_b6d8aa06_1a39_11ea_9380_a0a4c554f2a3row18_col23\" class=\"data row18 col23\" >1869</td>\n",
       "                        <td id=\"T_b6d8aa06_1a39_11ea_9380_a0a4c554f2a3row18_col24\" class=\"data row18 col24\" >511</td>\n",
       "                        <td id=\"T_b6d8aa06_1a39_11ea_9380_a0a4c554f2a3row18_col25\" class=\"data row18 col25\" >37</td>\n",
       "                        <td id=\"T_b6d8aa06_1a39_11ea_9380_a0a4c554f2a3row18_col26\" class=\"data row18 col26\" >96</td>\n",
       "            </tr>\n",
       "            <tr>\n",
       "                        <th id=\"T_b6d8aa06_1a39_11ea_9380_a0a4c554f2a3level0_row19\" class=\"row_heading level0 row19\" >hun</th>\n",
       "                        <td id=\"T_b6d8aa06_1a39_11ea_9380_a0a4c554f2a3row19_col0\" class=\"data row19 col0\" >0</td>\n",
       "                        <td id=\"T_b6d8aa06_1a39_11ea_9380_a0a4c554f2a3row19_col1\" class=\"data row19 col1\" >86</td>\n",
       "                        <td id=\"T_b6d8aa06_1a39_11ea_9380_a0a4c554f2a3row19_col2\" class=\"data row19 col2\" >1</td>\n",
       "                        <td id=\"T_b6d8aa06_1a39_11ea_9380_a0a4c554f2a3row19_col3\" class=\"data row19 col3\" >10</td>\n",
       "                        <td id=\"T_b6d8aa06_1a39_11ea_9380_a0a4c554f2a3row19_col4\" class=\"data row19 col4\" >15</td>\n",
       "                        <td id=\"T_b6d8aa06_1a39_11ea_9380_a0a4c554f2a3row19_col5\" class=\"data row19 col5\" >40</td>\n",
       "                        <td id=\"T_b6d8aa06_1a39_11ea_9380_a0a4c554f2a3row19_col6\" class=\"data row19 col6\" >84</td>\n",
       "                        <td id=\"T_b6d8aa06_1a39_11ea_9380_a0a4c554f2a3row19_col7\" class=\"data row19 col7\" >3</td>\n",
       "                        <td id=\"T_b6d8aa06_1a39_11ea_9380_a0a4c554f2a3row19_col8\" class=\"data row19 col8\" >2</td>\n",
       "                        <td id=\"T_b6d8aa06_1a39_11ea_9380_a0a4c554f2a3row19_col9\" class=\"data row19 col9\" >57</td>\n",
       "                        <td id=\"T_b6d8aa06_1a39_11ea_9380_a0a4c554f2a3row19_col10\" class=\"data row19 col10\" >134</td>\n",
       "                        <td id=\"T_b6d8aa06_1a39_11ea_9380_a0a4c554f2a3row19_col11\" class=\"data row19 col11\" >50</td>\n",
       "                        <td id=\"T_b6d8aa06_1a39_11ea_9380_a0a4c554f2a3row19_col12\" class=\"data row19 col12\" >6</td>\n",
       "                        <td id=\"T_b6d8aa06_1a39_11ea_9380_a0a4c554f2a3row19_col13\" class=\"data row19 col13\" >89</td>\n",
       "                        <td id=\"T_b6d8aa06_1a39_11ea_9380_a0a4c554f2a3row19_col14\" class=\"data row19 col14\" >146</td>\n",
       "                        <td id=\"T_b6d8aa06_1a39_11ea_9380_a0a4c554f2a3row19_col15\" class=\"data row19 col15\" >121</td>\n",
       "                        <td id=\"T_b6d8aa06_1a39_11ea_9380_a0a4c554f2a3row19_col16\" class=\"data row19 col16\" >30</td>\n",
       "                        <td id=\"T_b6d8aa06_1a39_11ea_9380_a0a4c554f2a3row19_col17\" class=\"data row19 col17\" >12</td>\n",
       "                        <td id=\"T_b6d8aa06_1a39_11ea_9380_a0a4c554f2a3row19_col18\" class=\"data row19 col18\" >389</td>\n",
       "                        <td id=\"T_b6d8aa06_1a39_11ea_9380_a0a4c554f2a3row19_col19\" class=\"data row19 col19\" >391</td>\n",
       "                        <td id=\"T_b6d8aa06_1a39_11ea_9380_a0a4c554f2a3row19_col20\" class=\"data row19 col20\" >594</td>\n",
       "                        <td id=\"T_b6d8aa06_1a39_11ea_9380_a0a4c554f2a3row19_col21\" class=\"data row19 col21\" >633</td>\n",
       "                        <td id=\"T_b6d8aa06_1a39_11ea_9380_a0a4c554f2a3row19_col22\" class=\"data row19 col22\" >831</td>\n",
       "                        <td id=\"T_b6d8aa06_1a39_11ea_9380_a0a4c554f2a3row19_col23\" class=\"data row19 col23\" >781</td>\n",
       "                        <td id=\"T_b6d8aa06_1a39_11ea_9380_a0a4c554f2a3row19_col24\" class=\"data row19 col24\" >83</td>\n",
       "                        <td id=\"T_b6d8aa06_1a39_11ea_9380_a0a4c554f2a3row19_col25\" class=\"data row19 col25\" >35</td>\n",
       "                        <td id=\"T_b6d8aa06_1a39_11ea_9380_a0a4c554f2a3row19_col26\" class=\"data row19 col26\" >129</td>\n",
       "            </tr>\n",
       "            <tr>\n",
       "                        <th id=\"T_b6d8aa06_1a39_11ea_9380_a0a4c554f2a3level0_row20\" class=\"row_heading level0 row20\" >–</th>\n",
       "                        <td id=\"T_b6d8aa06_1a39_11ea_9380_a0a4c554f2a3row20_col0\" class=\"data row20 col0\" >627</td>\n",
       "                        <td id=\"T_b6d8aa06_1a39_11ea_9380_a0a4c554f2a3row20_col1\" class=\"data row20 col1\" >680</td>\n",
       "                        <td id=\"T_b6d8aa06_1a39_11ea_9380_a0a4c554f2a3row20_col2\" class=\"data row20 col2\" >31</td>\n",
       "                        <td id=\"T_b6d8aa06_1a39_11ea_9380_a0a4c554f2a3row20_col3\" class=\"data row20 col3\" >182</td>\n",
       "                        <td id=\"T_b6d8aa06_1a39_11ea_9380_a0a4c554f2a3row20_col4\" class=\"data row20 col4\" >159</td>\n",
       "                        <td id=\"T_b6d8aa06_1a39_11ea_9380_a0a4c554f2a3row20_col5\" class=\"data row20 col5\" >147</td>\n",
       "                        <td id=\"T_b6d8aa06_1a39_11ea_9380_a0a4c554f2a3row20_col6\" class=\"data row20 col6\" >444</td>\n",
       "                        <td id=\"T_b6d8aa06_1a39_11ea_9380_a0a4c554f2a3row20_col7\" class=\"data row20 col7\" >210</td>\n",
       "                        <td id=\"T_b6d8aa06_1a39_11ea_9380_a0a4c554f2a3row20_col8\" class=\"data row20 col8\" >52</td>\n",
       "                        <td id=\"T_b6d8aa06_1a39_11ea_9380_a0a4c554f2a3row20_col9\" class=\"data row20 col9\" >324</td>\n",
       "                        <td id=\"T_b6d8aa06_1a39_11ea_9380_a0a4c554f2a3row20_col10\" class=\"data row20 col10\" >1419</td>\n",
       "                        <td id=\"T_b6d8aa06_1a39_11ea_9380_a0a4c554f2a3row20_col11\" class=\"data row20 col11\" >205</td>\n",
       "                        <td id=\"T_b6d8aa06_1a39_11ea_9380_a0a4c554f2a3row20_col12\" class=\"data row20 col12\" >1335</td>\n",
       "                        <td id=\"T_b6d8aa06_1a39_11ea_9380_a0a4c554f2a3row20_col13\" class=\"data row20 col13\" >782</td>\n",
       "                        <td id=\"T_b6d8aa06_1a39_11ea_9380_a0a4c554f2a3row20_col14\" class=\"data row20 col14\" >194</td>\n",
       "                        <td id=\"T_b6d8aa06_1a39_11ea_9380_a0a4c554f2a3row20_col15\" class=\"data row20 col15\" >563</td>\n",
       "                        <td id=\"T_b6d8aa06_1a39_11ea_9380_a0a4c554f2a3row20_col16\" class=\"data row20 col16\" >191</td>\n",
       "                        <td id=\"T_b6d8aa06_1a39_11ea_9380_a0a4c554f2a3row20_col17\" class=\"data row20 col17\" >135</td>\n",
       "                        <td id=\"T_b6d8aa06_1a39_11ea_9380_a0a4c554f2a3row20_col18\" class=\"data row20 col18\" >1090</td>\n",
       "                        <td id=\"T_b6d8aa06_1a39_11ea_9380_a0a4c554f2a3row20_col19\" class=\"data row20 col19\" >1638</td>\n",
       "                        <td id=\"T_b6d8aa06_1a39_11ea_9380_a0a4c554f2a3row20_col20\" class=\"data row20 col20\" >1533</td>\n",
       "                        <td id=\"T_b6d8aa06_1a39_11ea_9380_a0a4c554f2a3row20_col21\" class=\"data row20 col21\" >2086</td>\n",
       "                        <td id=\"T_b6d8aa06_1a39_11ea_9380_a0a4c554f2a3row20_col22\" class=\"data row20 col22\" >2051</td>\n",
       "                        <td id=\"T_b6d8aa06_1a39_11ea_9380_a0a4c554f2a3row20_col23\" class=\"data row20 col23\" >1144</td>\n",
       "                        <td id=\"T_b6d8aa06_1a39_11ea_9380_a0a4c554f2a3row20_col24\" class=\"data row20 col24\" >344</td>\n",
       "                        <td id=\"T_b6d8aa06_1a39_11ea_9380_a0a4c554f2a3row20_col25\" class=\"data row20 col25\" >35</td>\n",
       "                        <td id=\"T_b6d8aa06_1a39_11ea_9380_a0a4c554f2a3row20_col26\" class=\"data row20 col26\" >289</td>\n",
       "            </tr>\n",
       "            <tr>\n",
       "                        <th id=\"T_b6d8aa06_1a39_11ea_9380_a0a4c554f2a3level0_row21\" class=\"row_heading level0 row21\" >min</th>\n",
       "                        <td id=\"T_b6d8aa06_1a39_11ea_9380_a0a4c554f2a3row21_col0\" class=\"data row21 col0\" >6</td>\n",
       "                        <td id=\"T_b6d8aa06_1a39_11ea_9380_a0a4c554f2a3row21_col1\" class=\"data row21 col1\" >108</td>\n",
       "                        <td id=\"T_b6d8aa06_1a39_11ea_9380_a0a4c554f2a3row21_col2\" class=\"data row21 col2\" >14</td>\n",
       "                        <td id=\"T_b6d8aa06_1a39_11ea_9380_a0a4c554f2a3row21_col3\" class=\"data row21 col3\" >37</td>\n",
       "                        <td id=\"T_b6d8aa06_1a39_11ea_9380_a0a4c554f2a3row21_col4\" class=\"data row21 col4\" >42</td>\n",
       "                        <td id=\"T_b6d8aa06_1a39_11ea_9380_a0a4c554f2a3row21_col5\" class=\"data row21 col5\" >49</td>\n",
       "                        <td id=\"T_b6d8aa06_1a39_11ea_9380_a0a4c554f2a3row21_col6\" class=\"data row21 col6\" >40</td>\n",
       "                        <td id=\"T_b6d8aa06_1a39_11ea_9380_a0a4c554f2a3row21_col7\" class=\"data row21 col7\" >0</td>\n",
       "                        <td id=\"T_b6d8aa06_1a39_11ea_9380_a0a4c554f2a3row21_col8\" class=\"data row21 col8\" >3</td>\n",
       "                        <td id=\"T_b6d8aa06_1a39_11ea_9380_a0a4c554f2a3row21_col9\" class=\"data row21 col9\" >27</td>\n",
       "                        <td id=\"T_b6d8aa06_1a39_11ea_9380_a0a4c554f2a3row21_col10\" class=\"data row21 col10\" >30</td>\n",
       "                        <td id=\"T_b6d8aa06_1a39_11ea_9380_a0a4c554f2a3row21_col11\" class=\"data row21 col11\" >22</td>\n",
       "                        <td id=\"T_b6d8aa06_1a39_11ea_9380_a0a4c554f2a3row21_col12\" class=\"data row21 col12\" >7</td>\n",
       "                        <td id=\"T_b6d8aa06_1a39_11ea_9380_a0a4c554f2a3row21_col13\" class=\"data row21 col13\" >84</td>\n",
       "                        <td id=\"T_b6d8aa06_1a39_11ea_9380_a0a4c554f2a3row21_col14\" class=\"data row21 col14\" >20</td>\n",
       "                        <td id=\"T_b6d8aa06_1a39_11ea_9380_a0a4c554f2a3row21_col15\" class=\"data row21 col15\" >59</td>\n",
       "                        <td id=\"T_b6d8aa06_1a39_11ea_9380_a0a4c554f2a3row21_col16\" class=\"data row21 col16\" >29</td>\n",
       "                        <td id=\"T_b6d8aa06_1a39_11ea_9380_a0a4c554f2a3row21_col17\" class=\"data row21 col17\" >17</td>\n",
       "                        <td id=\"T_b6d8aa06_1a39_11ea_9380_a0a4c554f2a3row21_col18\" class=\"data row21 col18\" >751</td>\n",
       "                        <td id=\"T_b6d8aa06_1a39_11ea_9380_a0a4c554f2a3row21_col19\" class=\"data row21 col19\" >955</td>\n",
       "                        <td id=\"T_b6d8aa06_1a39_11ea_9380_a0a4c554f2a3row21_col20\" class=\"data row21 col20\" >1131</td>\n",
       "                        <td id=\"T_b6d8aa06_1a39_11ea_9380_a0a4c554f2a3row21_col21\" class=\"data row21 col21\" >1175</td>\n",
       "                        <td id=\"T_b6d8aa06_1a39_11ea_9380_a0a4c554f2a3row21_col22\" class=\"data row21 col22\" >1465</td>\n",
       "                        <td id=\"T_b6d8aa06_1a39_11ea_9380_a0a4c554f2a3row21_col23\" class=\"data row21 col23\" >1195</td>\n",
       "                        <td id=\"T_b6d8aa06_1a39_11ea_9380_a0a4c554f2a3row21_col24\" class=\"data row21 col24\" >247</td>\n",
       "                        <td id=\"T_b6d8aa06_1a39_11ea_9380_a0a4c554f2a3row21_col25\" class=\"data row21 col25\" >34</td>\n",
       "                        <td id=\"T_b6d8aa06_1a39_11ea_9380_a0a4c554f2a3row21_col26\" class=\"data row21 col26\" >2</td>\n",
       "            </tr>\n",
       "            <tr>\n",
       "                        <th id=\"T_b6d8aa06_1a39_11ea_9380_a0a4c554f2a3level0_row22\" class=\"row_heading level0 row22\" >ham</th>\n",
       "                        <td id=\"T_b6d8aa06_1a39_11ea_9380_a0a4c554f2a3row22_col0\" class=\"data row22 col0\" >1</td>\n",
       "                        <td id=\"T_b6d8aa06_1a39_11ea_9380_a0a4c554f2a3row22_col1\" class=\"data row22 col1\" >117</td>\n",
       "                        <td id=\"T_b6d8aa06_1a39_11ea_9380_a0a4c554f2a3row22_col2\" class=\"data row22 col2\" >7</td>\n",
       "                        <td id=\"T_b6d8aa06_1a39_11ea_9380_a0a4c554f2a3row22_col3\" class=\"data row22 col3\" >25</td>\n",
       "                        <td id=\"T_b6d8aa06_1a39_11ea_9380_a0a4c554f2a3row22_col4\" class=\"data row22 col4\" >18</td>\n",
       "                        <td id=\"T_b6d8aa06_1a39_11ea_9380_a0a4c554f2a3row22_col5\" class=\"data row22 col5\" >81</td>\n",
       "                        <td id=\"T_b6d8aa06_1a39_11ea_9380_a0a4c554f2a3row22_col6\" class=\"data row22 col6\" >94</td>\n",
       "                        <td id=\"T_b6d8aa06_1a39_11ea_9380_a0a4c554f2a3row22_col7\" class=\"data row22 col7\" >23</td>\n",
       "                        <td id=\"T_b6d8aa06_1a39_11ea_9380_a0a4c554f2a3row22_col8\" class=\"data row22 col8\" >4</td>\n",
       "                        <td id=\"T_b6d8aa06_1a39_11ea_9380_a0a4c554f2a3row22_col9\" class=\"data row22 col9\" >19</td>\n",
       "                        <td id=\"T_b6d8aa06_1a39_11ea_9380_a0a4c554f2a3row22_col10\" class=\"data row22 col10\" >57</td>\n",
       "                        <td id=\"T_b6d8aa06_1a39_11ea_9380_a0a4c554f2a3row22_col11\" class=\"data row22 col11\" >34</td>\n",
       "                        <td id=\"T_b6d8aa06_1a39_11ea_9380_a0a4c554f2a3row22_col12\" class=\"data row22 col12\" >5</td>\n",
       "                        <td id=\"T_b6d8aa06_1a39_11ea_9380_a0a4c554f2a3row22_col13\" class=\"data row22 col13\" >62</td>\n",
       "                        <td id=\"T_b6d8aa06_1a39_11ea_9380_a0a4c554f2a3row22_col14\" class=\"data row22 col14\" >40</td>\n",
       "                        <td id=\"T_b6d8aa06_1a39_11ea_9380_a0a4c554f2a3row22_col15\" class=\"data row22 col15\" >75</td>\n",
       "                        <td id=\"T_b6d8aa06_1a39_11ea_9380_a0a4c554f2a3row22_col16\" class=\"data row22 col16\" >17</td>\n",
       "                        <td id=\"T_b6d8aa06_1a39_11ea_9380_a0a4c554f2a3row22_col17\" class=\"data row22 col17\" >11</td>\n",
       "                        <td id=\"T_b6d8aa06_1a39_11ea_9380_a0a4c554f2a3row22_col18\" class=\"data row22 col18\" >257</td>\n",
       "                        <td id=\"T_b6d8aa06_1a39_11ea_9380_a0a4c554f2a3row22_col19\" class=\"data row22 col19\" >257</td>\n",
       "                        <td id=\"T_b6d8aa06_1a39_11ea_9380_a0a4c554f2a3row22_col20\" class=\"data row22 col20\" >364</td>\n",
       "                        <td id=\"T_b6d8aa06_1a39_11ea_9380_a0a4c554f2a3row22_col21\" class=\"data row22 col21\" >345</td>\n",
       "                        <td id=\"T_b6d8aa06_1a39_11ea_9380_a0a4c554f2a3row22_col22\" class=\"data row22 col22\" >425</td>\n",
       "                        <td id=\"T_b6d8aa06_1a39_11ea_9380_a0a4c554f2a3row22_col23\" class=\"data row22 col23\" >412</td>\n",
       "                        <td id=\"T_b6d8aa06_1a39_11ea_9380_a0a4c554f2a3row22_col24\" class=\"data row22 col24\" >159</td>\n",
       "                        <td id=\"T_b6d8aa06_1a39_11ea_9380_a0a4c554f2a3row22_col25\" class=\"data row22 col25\" >34</td>\n",
       "                        <td id=\"T_b6d8aa06_1a39_11ea_9380_a0a4c554f2a3row22_col26\" class=\"data row22 col26\" >20</td>\n",
       "            </tr>\n",
       "            <tr>\n",
       "                        <th id=\"T_b6d8aa06_1a39_11ea_9380_a0a4c554f2a3level0_row23\" class=\"row_heading level0 row23\" >paa</th>\n",
       "                        <td id=\"T_b6d8aa06_1a39_11ea_9380_a0a4c554f2a3row23_col0\" class=\"data row23 col0\" >3</td>\n",
       "                        <td id=\"T_b6d8aa06_1a39_11ea_9380_a0a4c554f2a3row23_col1\" class=\"data row23 col1\" >323</td>\n",
       "                        <td id=\"T_b6d8aa06_1a39_11ea_9380_a0a4c554f2a3row23_col2\" class=\"data row23 col2\" >17</td>\n",
       "                        <td id=\"T_b6d8aa06_1a39_11ea_9380_a0a4c554f2a3row23_col3\" class=\"data row23 col3\" >20</td>\n",
       "                        <td id=\"T_b6d8aa06_1a39_11ea_9380_a0a4c554f2a3row23_col4\" class=\"data row23 col4\" >37</td>\n",
       "                        <td id=\"T_b6d8aa06_1a39_11ea_9380_a0a4c554f2a3row23_col5\" class=\"data row23 col5\" >111</td>\n",
       "                        <td id=\"T_b6d8aa06_1a39_11ea_9380_a0a4c554f2a3row23_col6\" class=\"data row23 col6\" >0</td>\n",
       "                        <td id=\"T_b6d8aa06_1a39_11ea_9380_a0a4c554f2a3row23_col7\" class=\"data row23 col7\" >94</td>\n",
       "                        <td id=\"T_b6d8aa06_1a39_11ea_9380_a0a4c554f2a3row23_col8\" class=\"data row23 col8\" >29</td>\n",
       "                        <td id=\"T_b6d8aa06_1a39_11ea_9380_a0a4c554f2a3row23_col9\" class=\"data row23 col9\" >127</td>\n",
       "                        <td id=\"T_b6d8aa06_1a39_11ea_9380_a0a4c554f2a3row23_col10\" class=\"data row23 col10\" >288</td>\n",
       "                        <td id=\"T_b6d8aa06_1a39_11ea_9380_a0a4c554f2a3row23_col11\" class=\"data row23 col11\" >130</td>\n",
       "                        <td id=\"T_b6d8aa06_1a39_11ea_9380_a0a4c554f2a3row23_col12\" class=\"data row23 col12\" >32</td>\n",
       "                        <td id=\"T_b6d8aa06_1a39_11ea_9380_a0a4c554f2a3row23_col13\" class=\"data row23 col13\" >366</td>\n",
       "                        <td id=\"T_b6d8aa06_1a39_11ea_9380_a0a4c554f2a3row23_col14\" class=\"data row23 col14\" >147</td>\n",
       "                        <td id=\"T_b6d8aa06_1a39_11ea_9380_a0a4c554f2a3row23_col15\" class=\"data row23 col15\" >203</td>\n",
       "                        <td id=\"T_b6d8aa06_1a39_11ea_9380_a0a4c554f2a3row23_col16\" class=\"data row23 col16\" >51</td>\n",
       "                        <td id=\"T_b6d8aa06_1a39_11ea_9380_a0a4c554f2a3row23_col17\" class=\"data row23 col17\" >27</td>\n",
       "                        <td id=\"T_b6d8aa06_1a39_11ea_9380_a0a4c554f2a3row23_col18\" class=\"data row23 col18\" >702</td>\n",
       "                        <td id=\"T_b6d8aa06_1a39_11ea_9380_a0a4c554f2a3row23_col19\" class=\"data row23 col19\" >715</td>\n",
       "                        <td id=\"T_b6d8aa06_1a39_11ea_9380_a0a4c554f2a3row23_col20\" class=\"data row23 col20\" >1009</td>\n",
       "                        <td id=\"T_b6d8aa06_1a39_11ea_9380_a0a4c554f2a3row23_col21\" class=\"data row23 col21\" >1093</td>\n",
       "                        <td id=\"T_b6d8aa06_1a39_11ea_9380_a0a4c554f2a3row23_col22\" class=\"data row23 col22\" >1320</td>\n",
       "                        <td id=\"T_b6d8aa06_1a39_11ea_9380_a0a4c554f2a3row23_col23\" class=\"data row23 col23\" >1050</td>\n",
       "                        <td id=\"T_b6d8aa06_1a39_11ea_9380_a0a4c554f2a3row23_col24\" class=\"data row23 col24\" >291</td>\n",
       "                        <td id=\"T_b6d8aa06_1a39_11ea_9380_a0a4c554f2a3row23_col25\" class=\"data row23 col25\" >33</td>\n",
       "                        <td id=\"T_b6d8aa06_1a39_11ea_9380_a0a4c554f2a3row23_col26\" class=\"data row23 col26\" >108</td>\n",
       "            </tr>\n",
       "            <tr>\n",
       "                        <th id=\"T_b6d8aa06_1a39_11ea_9380_a0a4c554f2a3level0_row24\" class=\"row_heading level0 row24\" >[</th>\n",
       "                        <td id=\"T_b6d8aa06_1a39_11ea_9380_a0a4c554f2a3row24_col0\" class=\"data row24 col0\" >13</td>\n",
       "                        <td id=\"T_b6d8aa06_1a39_11ea_9380_a0a4c554f2a3row24_col1\" class=\"data row24 col1\" >127</td>\n",
       "                        <td id=\"T_b6d8aa06_1a39_11ea_9380_a0a4c554f2a3row24_col2\" class=\"data row24 col2\" >2</td>\n",
       "                        <td id=\"T_b6d8aa06_1a39_11ea_9380_a0a4c554f2a3row24_col3\" class=\"data row24 col3\" >31</td>\n",
       "                        <td id=\"T_b6d8aa06_1a39_11ea_9380_a0a4c554f2a3row24_col4\" class=\"data row24 col4\" >36</td>\n",
       "                        <td id=\"T_b6d8aa06_1a39_11ea_9380_a0a4c554f2a3row24_col5\" class=\"data row24 col5\" >59</td>\n",
       "                        <td id=\"T_b6d8aa06_1a39_11ea_9380_a0a4c554f2a3row24_col6\" class=\"data row24 col6\" >44</td>\n",
       "                        <td id=\"T_b6d8aa06_1a39_11ea_9380_a0a4c554f2a3row24_col7\" class=\"data row24 col7\" >152</td>\n",
       "                        <td id=\"T_b6d8aa06_1a39_11ea_9380_a0a4c554f2a3row24_col8\" class=\"data row24 col8\" >1</td>\n",
       "                        <td id=\"T_b6d8aa06_1a39_11ea_9380_a0a4c554f2a3row24_col9\" class=\"data row24 col9\" >0</td>\n",
       "                        <td id=\"T_b6d8aa06_1a39_11ea_9380_a0a4c554f2a3row24_col10\" class=\"data row24 col10\" >26</td>\n",
       "                        <td id=\"T_b6d8aa06_1a39_11ea_9380_a0a4c554f2a3row24_col11\" class=\"data row24 col11\" >1</td>\n",
       "                        <td id=\"T_b6d8aa06_1a39_11ea_9380_a0a4c554f2a3row24_col12\" class=\"data row24 col12\" >0</td>\n",
       "                        <td id=\"T_b6d8aa06_1a39_11ea_9380_a0a4c554f2a3row24_col13\" class=\"data row24 col13\" >31</td>\n",
       "                        <td id=\"T_b6d8aa06_1a39_11ea_9380_a0a4c554f2a3row24_col14\" class=\"data row24 col14\" >22</td>\n",
       "                        <td id=\"T_b6d8aa06_1a39_11ea_9380_a0a4c554f2a3row24_col15\" class=\"data row24 col15\" >44</td>\n",
       "                        <td id=\"T_b6d8aa06_1a39_11ea_9380_a0a4c554f2a3row24_col16\" class=\"data row24 col16\" >4</td>\n",
       "                        <td id=\"T_b6d8aa06_1a39_11ea_9380_a0a4c554f2a3row24_col17\" class=\"data row24 col17\" >3</td>\n",
       "                        <td id=\"T_b6d8aa06_1a39_11ea_9380_a0a4c554f2a3row24_col18\" class=\"data row24 col18\" >41</td>\n",
       "                        <td id=\"T_b6d8aa06_1a39_11ea_9380_a0a4c554f2a3row24_col19\" class=\"data row24 col19\" >87</td>\n",
       "                        <td id=\"T_b6d8aa06_1a39_11ea_9380_a0a4c554f2a3row24_col20\" class=\"data row24 col20\" >71</td>\n",
       "                        <td id=\"T_b6d8aa06_1a39_11ea_9380_a0a4c554f2a3row24_col21\" class=\"data row24 col21\" >51</td>\n",
       "                        <td id=\"T_b6d8aa06_1a39_11ea_9380_a0a4c554f2a3row24_col22\" class=\"data row24 col22\" >62</td>\n",
       "                        <td id=\"T_b6d8aa06_1a39_11ea_9380_a0a4c554f2a3row24_col23\" class=\"data row24 col23\" >88</td>\n",
       "                        <td id=\"T_b6d8aa06_1a39_11ea_9380_a0a4c554f2a3row24_col24\" class=\"data row24 col24\" >385</td>\n",
       "                        <td id=\"T_b6d8aa06_1a39_11ea_9380_a0a4c554f2a3row24_col25\" class=\"data row24 col25\" >33</td>\n",
       "                        <td id=\"T_b6d8aa06_1a39_11ea_9380_a0a4c554f2a3row24_col26\" class=\"data row24 col26\" >31</td>\n",
       "            </tr>\n",
       "            <tr>\n",
       "                        <th id=\"T_b6d8aa06_1a39_11ea_9380_a0a4c554f2a3level0_row25\" class=\"row_heading level0 row25\" >]</th>\n",
       "                        <td id=\"T_b6d8aa06_1a39_11ea_9380_a0a4c554f2a3row25_col0\" class=\"data row25 col0\" >100</td>\n",
       "                        <td id=\"T_b6d8aa06_1a39_11ea_9380_a0a4c554f2a3row25_col1\" class=\"data row25 col1\" >539</td>\n",
       "                        <td id=\"T_b6d8aa06_1a39_11ea_9380_a0a4c554f2a3row25_col2\" class=\"data row25 col2\" >15</td>\n",
       "                        <td id=\"T_b6d8aa06_1a39_11ea_9380_a0a4c554f2a3row25_col3\" class=\"data row25 col3\" >58</td>\n",
       "                        <td id=\"T_b6d8aa06_1a39_11ea_9380_a0a4c554f2a3row25_col4\" class=\"data row25 col4\" >110</td>\n",
       "                        <td id=\"T_b6d8aa06_1a39_11ea_9380_a0a4c554f2a3row25_col5\" class=\"data row25 col5\" >94</td>\n",
       "                        <td id=\"T_b6d8aa06_1a39_11ea_9380_a0a4c554f2a3row25_col6\" class=\"data row25 col6\" >266</td>\n",
       "                        <td id=\"T_b6d8aa06_1a39_11ea_9380_a0a4c554f2a3row25_col7\" class=\"data row25 col7\" >152</td>\n",
       "                        <td id=\"T_b6d8aa06_1a39_11ea_9380_a0a4c554f2a3row25_col8\" class=\"data row25 col8\" >1</td>\n",
       "                        <td id=\"T_b6d8aa06_1a39_11ea_9380_a0a4c554f2a3row25_col9\" class=\"data row25 col9\" >0</td>\n",
       "                        <td id=\"T_b6d8aa06_1a39_11ea_9380_a0a4c554f2a3row25_col10\" class=\"data row25 col10\" >26</td>\n",
       "                        <td id=\"T_b6d8aa06_1a39_11ea_9380_a0a4c554f2a3row25_col11\" class=\"data row25 col11\" >1</td>\n",
       "                        <td id=\"T_b6d8aa06_1a39_11ea_9380_a0a4c554f2a3row25_col12\" class=\"data row25 col12\" >0</td>\n",
       "                        <td id=\"T_b6d8aa06_1a39_11ea_9380_a0a4c554f2a3row25_col13\" class=\"data row25 col13\" >449</td>\n",
       "                        <td id=\"T_b6d8aa06_1a39_11ea_9380_a0a4c554f2a3row25_col14\" class=\"data row25 col14\" >284</td>\n",
       "                        <td id=\"T_b6d8aa06_1a39_11ea_9380_a0a4c554f2a3row25_col15\" class=\"data row25 col15\" >531</td>\n",
       "                        <td id=\"T_b6d8aa06_1a39_11ea_9380_a0a4c554f2a3row25_col16\" class=\"data row25 col16\" >36</td>\n",
       "                        <td id=\"T_b6d8aa06_1a39_11ea_9380_a0a4c554f2a3row25_col17\" class=\"data row25 col17\" >52</td>\n",
       "                        <td id=\"T_b6d8aa06_1a39_11ea_9380_a0a4c554f2a3row25_col18\" class=\"data row25 col18\" >63</td>\n",
       "                        <td id=\"T_b6d8aa06_1a39_11ea_9380_a0a4c554f2a3row25_col19\" class=\"data row25 col19\" >121</td>\n",
       "                        <td id=\"T_b6d8aa06_1a39_11ea_9380_a0a4c554f2a3row25_col20\" class=\"data row25 col20\" >109</td>\n",
       "                        <td id=\"T_b6d8aa06_1a39_11ea_9380_a0a4c554f2a3row25_col21\" class=\"data row25 col21\" >91</td>\n",
       "                        <td id=\"T_b6d8aa06_1a39_11ea_9380_a0a4c554f2a3row25_col22\" class=\"data row25 col22\" >84</td>\n",
       "                        <td id=\"T_b6d8aa06_1a39_11ea_9380_a0a4c554f2a3row25_col23\" class=\"data row25 col23\" >132</td>\n",
       "                        <td id=\"T_b6d8aa06_1a39_11ea_9380_a0a4c554f2a3row25_col24\" class=\"data row25 col24\" >385</td>\n",
       "                        <td id=\"T_b6d8aa06_1a39_11ea_9380_a0a4c554f2a3row25_col25\" class=\"data row25 col25\" >33</td>\n",
       "                        <td id=\"T_b6d8aa06_1a39_11ea_9380_a0a4c554f2a3row25_col26\" class=\"data row25 col26\" >67</td>\n",
       "            </tr>\n",
       "            <tr>\n",
       "                        <th id=\"T_b6d8aa06_1a39_11ea_9380_a0a4c554f2a3level0_row26\" class=\"row_heading level0 row26\" >har</th>\n",
       "                        <td id=\"T_b6d8aa06_1a39_11ea_9380_a0a4c554f2a3row26_col0\" class=\"data row26 col0\" >347</td>\n",
       "                        <td id=\"T_b6d8aa06_1a39_11ea_9380_a0a4c554f2a3row26_col1\" class=\"data row26 col1\" >278</td>\n",
       "                        <td id=\"T_b6d8aa06_1a39_11ea_9380_a0a4c554f2a3row26_col2\" class=\"data row26 col2\" >30</td>\n",
       "                        <td id=\"T_b6d8aa06_1a39_11ea_9380_a0a4c554f2a3row26_col3\" class=\"data row26 col3\" >147</td>\n",
       "                        <td id=\"T_b6d8aa06_1a39_11ea_9380_a0a4c554f2a3row26_col4\" class=\"data row26 col4\" >131</td>\n",
       "                        <td id=\"T_b6d8aa06_1a39_11ea_9380_a0a4c554f2a3row26_col5\" class=\"data row26 col5\" >59</td>\n",
       "                        <td id=\"T_b6d8aa06_1a39_11ea_9380_a0a4c554f2a3row26_col6\" class=\"data row26 col6\" >141</td>\n",
       "                        <td id=\"T_b6d8aa06_1a39_11ea_9380_a0a4c554f2a3row26_col7\" class=\"data row26 col7\" >32</td>\n",
       "                        <td id=\"T_b6d8aa06_1a39_11ea_9380_a0a4c554f2a3row26_col8\" class=\"data row26 col8\" >7</td>\n",
       "                        <td id=\"T_b6d8aa06_1a39_11ea_9380_a0a4c554f2a3row26_col9\" class=\"data row26 col9\" >91</td>\n",
       "                        <td id=\"T_b6d8aa06_1a39_11ea_9380_a0a4c554f2a3row26_col10\" class=\"data row26 col10\" >234</td>\n",
       "                        <td id=\"T_b6d8aa06_1a39_11ea_9380_a0a4c554f2a3row26_col11\" class=\"data row26 col11\" >111</td>\n",
       "                        <td id=\"T_b6d8aa06_1a39_11ea_9380_a0a4c554f2a3row26_col12\" class=\"data row26 col12\" >24</td>\n",
       "                        <td id=\"T_b6d8aa06_1a39_11ea_9380_a0a4c554f2a3row26_col13\" class=\"data row26 col13\" >467</td>\n",
       "                        <td id=\"T_b6d8aa06_1a39_11ea_9380_a0a4c554f2a3row26_col14\" class=\"data row26 col14\" >226</td>\n",
       "                        <td id=\"T_b6d8aa06_1a39_11ea_9380_a0a4c554f2a3row26_col15\" class=\"data row26 col15\" >484</td>\n",
       "                        <td id=\"T_b6d8aa06_1a39_11ea_9380_a0a4c554f2a3row26_col16\" class=\"data row26 col16\" >32</td>\n",
       "                        <td id=\"T_b6d8aa06_1a39_11ea_9380_a0a4c554f2a3row26_col17\" class=\"data row26 col17\" >26</td>\n",
       "                        <td id=\"T_b6d8aa06_1a39_11ea_9380_a0a4c554f2a3row26_col18\" class=\"data row26 col18\" >785</td>\n",
       "                        <td id=\"T_b6d8aa06_1a39_11ea_9380_a0a4c554f2a3row26_col19\" class=\"data row26 col19\" >694</td>\n",
       "                        <td id=\"T_b6d8aa06_1a39_11ea_9380_a0a4c554f2a3row26_col20\" class=\"data row26 col20\" >982</td>\n",
       "                        <td id=\"T_b6d8aa06_1a39_11ea_9380_a0a4c554f2a3row26_col21\" class=\"data row26 col21\" >1049</td>\n",
       "                        <td id=\"T_b6d8aa06_1a39_11ea_9380_a0a4c554f2a3row26_col22\" class=\"data row26 col22\" >1325</td>\n",
       "                        <td id=\"T_b6d8aa06_1a39_11ea_9380_a0a4c554f2a3row26_col23\" class=\"data row26 col23\" >1135</td>\n",
       "                        <td id=\"T_b6d8aa06_1a39_11ea_9380_a0a4c554f2a3row26_col24\" class=\"data row26 col24\" >301</td>\n",
       "                        <td id=\"T_b6d8aa06_1a39_11ea_9380_a0a4c554f2a3row26_col25\" class=\"data row26 col25\" >32</td>\n",
       "                        <td id=\"T_b6d8aa06_1a39_11ea_9380_a0a4c554f2a3row26_col26\" class=\"data row26 col26\" >52</td>\n",
       "            </tr>\n",
       "            <tr>\n",
       "                        <th id=\"T_b6d8aa06_1a39_11ea_9380_a0a4c554f2a3level0_row27\" class=\"row_heading level0 row27\" >med</th>\n",
       "                        <td id=\"T_b6d8aa06_1a39_11ea_9380_a0a4c554f2a3row27_col0\" class=\"data row27 col0\" >43</td>\n",
       "                        <td id=\"T_b6d8aa06_1a39_11ea_9380_a0a4c554f2a3row27_col1\" class=\"data row27 col1\" >377</td>\n",
       "                        <td id=\"T_b6d8aa06_1a39_11ea_9380_a0a4c554f2a3row27_col2\" class=\"data row27 col2\" >16</td>\n",
       "                        <td id=\"T_b6d8aa06_1a39_11ea_9380_a0a4c554f2a3row27_col3\" class=\"data row27 col3\" >87</td>\n",
       "                        <td id=\"T_b6d8aa06_1a39_11ea_9380_a0a4c554f2a3row27_col4\" class=\"data row27 col4\" >87</td>\n",
       "                        <td id=\"T_b6d8aa06_1a39_11ea_9380_a0a4c554f2a3row27_col5\" class=\"data row27 col5\" >169</td>\n",
       "                        <td id=\"T_b6d8aa06_1a39_11ea_9380_a0a4c554f2a3row27_col6\" class=\"data row27 col6\" >473</td>\n",
       "                        <td id=\"T_b6d8aa06_1a39_11ea_9380_a0a4c554f2a3row27_col7\" class=\"data row27 col7\" >129</td>\n",
       "                        <td id=\"T_b6d8aa06_1a39_11ea_9380_a0a4c554f2a3row27_col8\" class=\"data row27 col8\" >17</td>\n",
       "                        <td id=\"T_b6d8aa06_1a39_11ea_9380_a0a4c554f2a3row27_col9\" class=\"data row27 col9\" >109</td>\n",
       "                        <td id=\"T_b6d8aa06_1a39_11ea_9380_a0a4c554f2a3row27_col10\" class=\"data row27 col10\" >470</td>\n",
       "                        <td id=\"T_b6d8aa06_1a39_11ea_9380_a0a4c554f2a3row27_col11\" class=\"data row27 col11\" >280</td>\n",
       "                        <td id=\"T_b6d8aa06_1a39_11ea_9380_a0a4c554f2a3row27_col12\" class=\"data row27 col12\" >64</td>\n",
       "                        <td id=\"T_b6d8aa06_1a39_11ea_9380_a0a4c554f2a3row27_col13\" class=\"data row27 col13\" >389</td>\n",
       "                        <td id=\"T_b6d8aa06_1a39_11ea_9380_a0a4c554f2a3row27_col14\" class=\"data row27 col14\" >174</td>\n",
       "                        <td id=\"T_b6d8aa06_1a39_11ea_9380_a0a4c554f2a3row27_col15\" class=\"data row27 col15\" >326</td>\n",
       "                        <td id=\"T_b6d8aa06_1a39_11ea_9380_a0a4c554f2a3row27_col16\" class=\"data row27 col16\" >83</td>\n",
       "                        <td id=\"T_b6d8aa06_1a39_11ea_9380_a0a4c554f2a3row27_col17\" class=\"data row27 col17\" >47</td>\n",
       "                        <td id=\"T_b6d8aa06_1a39_11ea_9380_a0a4c554f2a3row27_col18\" class=\"data row27 col18\" >917</td>\n",
       "                        <td id=\"T_b6d8aa06_1a39_11ea_9380_a0a4c554f2a3row27_col19\" class=\"data row27 col19\" >826</td>\n",
       "                        <td id=\"T_b6d8aa06_1a39_11ea_9380_a0a4c554f2a3row27_col20\" class=\"data row27 col20\" >1247</td>\n",
       "                        <td id=\"T_b6d8aa06_1a39_11ea_9380_a0a4c554f2a3row27_col21\" class=\"data row27 col21\" >1394</td>\n",
       "                        <td id=\"T_b6d8aa06_1a39_11ea_9380_a0a4c554f2a3row27_col22\" class=\"data row27 col22\" >1826</td>\n",
       "                        <td id=\"T_b6d8aa06_1a39_11ea_9380_a0a4c554f2a3row27_col23\" class=\"data row27 col23\" >1475</td>\n",
       "                        <td id=\"T_b6d8aa06_1a39_11ea_9380_a0a4c554f2a3row27_col24\" class=\"data row27 col24\" >326</td>\n",
       "                        <td id=\"T_b6d8aa06_1a39_11ea_9380_a0a4c554f2a3row27_col25\" class=\"data row27 col25\" >30</td>\n",
       "                        <td id=\"T_b6d8aa06_1a39_11ea_9380_a0a4c554f2a3row27_col26\" class=\"data row27 col26\" >71</td>\n",
       "            </tr>\n",
       "            <tr>\n",
       "                        <th id=\"T_b6d8aa06_1a39_11ea_9380_a0a4c554f2a3level0_row28\" class=\"row_heading level0 row28\" >…</th>\n",
       "                        <td id=\"T_b6d8aa06_1a39_11ea_9380_a0a4c554f2a3row28_col0\" class=\"data row28 col0\" >0</td>\n",
       "                        <td id=\"T_b6d8aa06_1a39_11ea_9380_a0a4c554f2a3row28_col1\" class=\"data row28 col1\" >0</td>\n",
       "                        <td id=\"T_b6d8aa06_1a39_11ea_9380_a0a4c554f2a3row28_col2\" class=\"data row28 col2\" >0</td>\n",
       "                        <td id=\"T_b6d8aa06_1a39_11ea_9380_a0a4c554f2a3row28_col3\" class=\"data row28 col3\" >0</td>\n",
       "                        <td id=\"T_b6d8aa06_1a39_11ea_9380_a0a4c554f2a3row28_col4\" class=\"data row28 col4\" >6</td>\n",
       "                        <td id=\"T_b6d8aa06_1a39_11ea_9380_a0a4c554f2a3row28_col5\" class=\"data row28 col5\" >0</td>\n",
       "                        <td id=\"T_b6d8aa06_1a39_11ea_9380_a0a4c554f2a3row28_col6\" class=\"data row28 col6\" >0</td>\n",
       "                        <td id=\"T_b6d8aa06_1a39_11ea_9380_a0a4c554f2a3row28_col7\" class=\"data row28 col7\" >10</td>\n",
       "                        <td id=\"T_b6d8aa06_1a39_11ea_9380_a0a4c554f2a3row28_col8\" class=\"data row28 col8\" >0</td>\n",
       "                        <td id=\"T_b6d8aa06_1a39_11ea_9380_a0a4c554f2a3row28_col9\" class=\"data row28 col9\" >0</td>\n",
       "                        <td id=\"T_b6d8aa06_1a39_11ea_9380_a0a4c554f2a3row28_col10\" class=\"data row28 col10\" >0</td>\n",
       "                        <td id=\"T_b6d8aa06_1a39_11ea_9380_a0a4c554f2a3row28_col11\" class=\"data row28 col11\" >1</td>\n",
       "                        <td id=\"T_b6d8aa06_1a39_11ea_9380_a0a4c554f2a3row28_col12\" class=\"data row28 col12\" >0</td>\n",
       "                        <td id=\"T_b6d8aa06_1a39_11ea_9380_a0a4c554f2a3row28_col13\" class=\"data row28 col13\" >32</td>\n",
       "                        <td id=\"T_b6d8aa06_1a39_11ea_9380_a0a4c554f2a3row28_col14\" class=\"data row28 col14\" >18</td>\n",
       "                        <td id=\"T_b6d8aa06_1a39_11ea_9380_a0a4c554f2a3row28_col15\" class=\"data row28 col15\" >26</td>\n",
       "                        <td id=\"T_b6d8aa06_1a39_11ea_9380_a0a4c554f2a3row28_col16\" class=\"data row28 col16\" >2</td>\n",
       "                        <td id=\"T_b6d8aa06_1a39_11ea_9380_a0a4c554f2a3row28_col17\" class=\"data row28 col17\" >0</td>\n",
       "                        <td id=\"T_b6d8aa06_1a39_11ea_9380_a0a4c554f2a3row28_col18\" class=\"data row28 col18\" >0</td>\n",
       "                        <td id=\"T_b6d8aa06_1a39_11ea_9380_a0a4c554f2a3row28_col19\" class=\"data row28 col19\" >0</td>\n",
       "                        <td id=\"T_b6d8aa06_1a39_11ea_9380_a0a4c554f2a3row28_col20\" class=\"data row28 col20\" >7</td>\n",
       "                        <td id=\"T_b6d8aa06_1a39_11ea_9380_a0a4c554f2a3row28_col21\" class=\"data row28 col21\" >0</td>\n",
       "                        <td id=\"T_b6d8aa06_1a39_11ea_9380_a0a4c554f2a3row28_col22\" class=\"data row28 col22\" >0</td>\n",
       "                        <td id=\"T_b6d8aa06_1a39_11ea_9380_a0a4c554f2a3row28_col23\" class=\"data row28 col23\" >0</td>\n",
       "                        <td id=\"T_b6d8aa06_1a39_11ea_9380_a0a4c554f2a3row28_col24\" class=\"data row28 col24\" >358</td>\n",
       "                        <td id=\"T_b6d8aa06_1a39_11ea_9380_a0a4c554f2a3row28_col25\" class=\"data row28 col25\" >29</td>\n",
       "                        <td id=\"T_b6d8aa06_1a39_11ea_9380_a0a4c554f2a3row28_col26\" class=\"data row28 col26\" >2</td>\n",
       "            </tr>\n",
       "            <tr>\n",
       "                        <th id=\"T_b6d8aa06_1a39_11ea_9380_a0a4c554f2a3level0_row29\" class=\"row_heading level0 row29\" >da</th>\n",
       "                        <td id=\"T_b6d8aa06_1a39_11ea_9380_a0a4c554f2a3row29_col0\" class=\"data row29 col0\" >83</td>\n",
       "                        <td id=\"T_b6d8aa06_1a39_11ea_9380_a0a4c554f2a3row29_col1\" class=\"data row29 col1\" >218</td>\n",
       "                        <td id=\"T_b6d8aa06_1a39_11ea_9380_a0a4c554f2a3row29_col2\" class=\"data row29 col2\" >6</td>\n",
       "                        <td id=\"T_b6d8aa06_1a39_11ea_9380_a0a4c554f2a3row29_col3\" class=\"data row29 col3\" >41</td>\n",
       "                        <td id=\"T_b6d8aa06_1a39_11ea_9380_a0a4c554f2a3row29_col4\" class=\"data row29 col4\" >34</td>\n",
       "                        <td id=\"T_b6d8aa06_1a39_11ea_9380_a0a4c554f2a3row29_col5\" class=\"data row29 col5\" >70</td>\n",
       "                        <td id=\"T_b6d8aa06_1a39_11ea_9380_a0a4c554f2a3row29_col6\" class=\"data row29 col6\" >73</td>\n",
       "                        <td id=\"T_b6d8aa06_1a39_11ea_9380_a0a4c554f2a3row29_col7\" class=\"data row29 col7\" >64</td>\n",
       "                        <td id=\"T_b6d8aa06_1a39_11ea_9380_a0a4c554f2a3row29_col8\" class=\"data row29 col8\" >7</td>\n",
       "                        <td id=\"T_b6d8aa06_1a39_11ea_9380_a0a4c554f2a3row29_col9\" class=\"data row29 col9\" >29</td>\n",
       "                        <td id=\"T_b6d8aa06_1a39_11ea_9380_a0a4c554f2a3row29_col10\" class=\"data row29 col10\" >104</td>\n",
       "                        <td id=\"T_b6d8aa06_1a39_11ea_9380_a0a4c554f2a3row29_col11\" class=\"data row29 col11\" >51</td>\n",
       "                        <td id=\"T_b6d8aa06_1a39_11ea_9380_a0a4c554f2a3row29_col12\" class=\"data row29 col12\" >7</td>\n",
       "                        <td id=\"T_b6d8aa06_1a39_11ea_9380_a0a4c554f2a3row29_col13\" class=\"data row29 col13\" >137</td>\n",
       "                        <td id=\"T_b6d8aa06_1a39_11ea_9380_a0a4c554f2a3row29_col14\" class=\"data row29 col14\" >78</td>\n",
       "                        <td id=\"T_b6d8aa06_1a39_11ea_9380_a0a4c554f2a3row29_col15\" class=\"data row29 col15\" >153</td>\n",
       "                        <td id=\"T_b6d8aa06_1a39_11ea_9380_a0a4c554f2a3row29_col16\" class=\"data row29 col16\" >59</td>\n",
       "                        <td id=\"T_b6d8aa06_1a39_11ea_9380_a0a4c554f2a3row29_col17\" class=\"data row29 col17\" >28</td>\n",
       "                        <td id=\"T_b6d8aa06_1a39_11ea_9380_a0a4c554f2a3row29_col18\" class=\"data row29 col18\" >493</td>\n",
       "                        <td id=\"T_b6d8aa06_1a39_11ea_9380_a0a4c554f2a3row29_col19\" class=\"data row29 col19\" >469</td>\n",
       "                        <td id=\"T_b6d8aa06_1a39_11ea_9380_a0a4c554f2a3row29_col20\" class=\"data row29 col20\" >766</td>\n",
       "                        <td id=\"T_b6d8aa06_1a39_11ea_9380_a0a4c554f2a3row29_col21\" class=\"data row29 col21\" >876</td>\n",
       "                        <td id=\"T_b6d8aa06_1a39_11ea_9380_a0a4c554f2a3row29_col22\" class=\"data row29 col22\" >1130</td>\n",
       "                        <td id=\"T_b6d8aa06_1a39_11ea_9380_a0a4c554f2a3row29_col23\" class=\"data row29 col23\" >1001</td>\n",
       "                        <td id=\"T_b6d8aa06_1a39_11ea_9380_a0a4c554f2a3row29_col24\" class=\"data row29 col24\" >276</td>\n",
       "                        <td id=\"T_b6d8aa06_1a39_11ea_9380_a0a4c554f2a3row29_col25\" class=\"data row29 col25\" >28</td>\n",
       "                        <td id=\"T_b6d8aa06_1a39_11ea_9380_a0a4c554f2a3row29_col26\" class=\"data row29 col26\" >66</td>\n",
       "            </tr>\n",
       "            <tr>\n",
       "                        <th id=\"T_b6d8aa06_1a39_11ea_9380_a0a4c554f2a3level0_row30\" class=\"row_heading level0 row30\" >sin</th>\n",
       "                        <td id=\"T_b6d8aa06_1a39_11ea_9380_a0a4c554f2a3row30_col0\" class=\"data row30 col0\" >17</td>\n",
       "                        <td id=\"T_b6d8aa06_1a39_11ea_9380_a0a4c554f2a3row30_col1\" class=\"data row30 col1\" >44</td>\n",
       "                        <td id=\"T_b6d8aa06_1a39_11ea_9380_a0a4c554f2a3row30_col2\" class=\"data row30 col2\" >2</td>\n",
       "                        <td id=\"T_b6d8aa06_1a39_11ea_9380_a0a4c554f2a3row30_col3\" class=\"data row30 col3\" >14</td>\n",
       "                        <td id=\"T_b6d8aa06_1a39_11ea_9380_a0a4c554f2a3row30_col4\" class=\"data row30 col4\" >16</td>\n",
       "                        <td id=\"T_b6d8aa06_1a39_11ea_9380_a0a4c554f2a3row30_col5\" class=\"data row30 col5\" >36</td>\n",
       "                        <td id=\"T_b6d8aa06_1a39_11ea_9380_a0a4c554f2a3row30_col6\" class=\"data row30 col6\" >125</td>\n",
       "                        <td id=\"T_b6d8aa06_1a39_11ea_9380_a0a4c554f2a3row30_col7\" class=\"data row30 col7\" >36</td>\n",
       "                        <td id=\"T_b6d8aa06_1a39_11ea_9380_a0a4c554f2a3row30_col8\" class=\"data row30 col8\" >5</td>\n",
       "                        <td id=\"T_b6d8aa06_1a39_11ea_9380_a0a4c554f2a3row30_col9\" class=\"data row30 col9\" >34</td>\n",
       "                        <td id=\"T_b6d8aa06_1a39_11ea_9380_a0a4c554f2a3row30_col10\" class=\"data row30 col10\" >97</td>\n",
       "                        <td id=\"T_b6d8aa06_1a39_11ea_9380_a0a4c554f2a3row30_col11\" class=\"data row30 col11\" >66</td>\n",
       "                        <td id=\"T_b6d8aa06_1a39_11ea_9380_a0a4c554f2a3row30_col12\" class=\"data row30 col12\" >5</td>\n",
       "                        <td id=\"T_b6d8aa06_1a39_11ea_9380_a0a4c554f2a3row30_col13\" class=\"data row30 col13\" >24</td>\n",
       "                        <td id=\"T_b6d8aa06_1a39_11ea_9380_a0a4c554f2a3row30_col14\" class=\"data row30 col14\" >23</td>\n",
       "                        <td id=\"T_b6d8aa06_1a39_11ea_9380_a0a4c554f2a3row30_col15\" class=\"data row30 col15\" >35</td>\n",
       "                        <td id=\"T_b6d8aa06_1a39_11ea_9380_a0a4c554f2a3row30_col16\" class=\"data row30 col16\" >22</td>\n",
       "                        <td id=\"T_b6d8aa06_1a39_11ea_9380_a0a4c554f2a3row30_col17\" class=\"data row30 col17\" >13</td>\n",
       "                        <td id=\"T_b6d8aa06_1a39_11ea_9380_a0a4c554f2a3row30_col18\" class=\"data row30 col18\" >301</td>\n",
       "                        <td id=\"T_b6d8aa06_1a39_11ea_9380_a0a4c554f2a3row30_col19\" class=\"data row30 col19\" >299</td>\n",
       "                        <td id=\"T_b6d8aa06_1a39_11ea_9380_a0a4c554f2a3row30_col20\" class=\"data row30 col20\" >458</td>\n",
       "                        <td id=\"T_b6d8aa06_1a39_11ea_9380_a0a4c554f2a3row30_col21\" class=\"data row30 col21\" >453</td>\n",
       "                        <td id=\"T_b6d8aa06_1a39_11ea_9380_a0a4c554f2a3row30_col22\" class=\"data row30 col22\" >576</td>\n",
       "                        <td id=\"T_b6d8aa06_1a39_11ea_9380_a0a4c554f2a3row30_col23\" class=\"data row30 col23\" >553</td>\n",
       "                        <td id=\"T_b6d8aa06_1a39_11ea_9380_a0a4c554f2a3row30_col24\" class=\"data row30 col24\" >108</td>\n",
       "                        <td id=\"T_b6d8aa06_1a39_11ea_9380_a0a4c554f2a3row30_col25\" class=\"data row30 col25\" >26</td>\n",
       "                        <td id=\"T_b6d8aa06_1a39_11ea_9380_a0a4c554f2a3row30_col26\" class=\"data row30 col26\" >17</td>\n",
       "            </tr>\n",
       "            <tr>\n",
       "                        <th id=\"T_b6d8aa06_1a39_11ea_9380_a0a4c554f2a3level0_row31\" class=\"row_heading level0 row31\" >om</th>\n",
       "                        <td id=\"T_b6d8aa06_1a39_11ea_9380_a0a4c554f2a3row31_col0\" class=\"data row31 col0\" >6</td>\n",
       "                        <td id=\"T_b6d8aa06_1a39_11ea_9380_a0a4c554f2a3row31_col1\" class=\"data row31 col1\" >175</td>\n",
       "                        <td id=\"T_b6d8aa06_1a39_11ea_9380_a0a4c554f2a3row31_col2\" class=\"data row31 col2\" >13</td>\n",
       "                        <td id=\"T_b6d8aa06_1a39_11ea_9380_a0a4c554f2a3row31_col3\" class=\"data row31 col3\" >60</td>\n",
       "                        <td id=\"T_b6d8aa06_1a39_11ea_9380_a0a4c554f2a3row31_col4\" class=\"data row31 col4\" >57</td>\n",
       "                        <td id=\"T_b6d8aa06_1a39_11ea_9380_a0a4c554f2a3row31_col5\" class=\"data row31 col5\" >70</td>\n",
       "                        <td id=\"T_b6d8aa06_1a39_11ea_9380_a0a4c554f2a3row31_col6\" class=\"data row31 col6\" >211</td>\n",
       "                        <td id=\"T_b6d8aa06_1a39_11ea_9380_a0a4c554f2a3row31_col7\" class=\"data row31 col7\" >46</td>\n",
       "                        <td id=\"T_b6d8aa06_1a39_11ea_9380_a0a4c554f2a3row31_col8\" class=\"data row31 col8\" >12</td>\n",
       "                        <td id=\"T_b6d8aa06_1a39_11ea_9380_a0a4c554f2a3row31_col9\" class=\"data row31 col9\" >44</td>\n",
       "                        <td id=\"T_b6d8aa06_1a39_11ea_9380_a0a4c554f2a3row31_col10\" class=\"data row31 col10\" >195</td>\n",
       "                        <td id=\"T_b6d8aa06_1a39_11ea_9380_a0a4c554f2a3row31_col11\" class=\"data row31 col11\" >86</td>\n",
       "                        <td id=\"T_b6d8aa06_1a39_11ea_9380_a0a4c554f2a3row31_col12\" class=\"data row31 col12\" >32</td>\n",
       "                        <td id=\"T_b6d8aa06_1a39_11ea_9380_a0a4c554f2a3row31_col13\" class=\"data row31 col13\" >311</td>\n",
       "                        <td id=\"T_b6d8aa06_1a39_11ea_9380_a0a4c554f2a3row31_col14\" class=\"data row31 col14\" >116</td>\n",
       "                        <td id=\"T_b6d8aa06_1a39_11ea_9380_a0a4c554f2a3row31_col15\" class=\"data row31 col15\" >223</td>\n",
       "                        <td id=\"T_b6d8aa06_1a39_11ea_9380_a0a4c554f2a3row31_col16\" class=\"data row31 col16\" >46</td>\n",
       "                        <td id=\"T_b6d8aa06_1a39_11ea_9380_a0a4c554f2a3row31_col17\" class=\"data row31 col17\" >20</td>\n",
       "                        <td id=\"T_b6d8aa06_1a39_11ea_9380_a0a4c554f2a3row31_col18\" class=\"data row31 col18\" >496</td>\n",
       "                        <td id=\"T_b6d8aa06_1a39_11ea_9380_a0a4c554f2a3row31_col19\" class=\"data row31 col19\" >459</td>\n",
       "                        <td id=\"T_b6d8aa06_1a39_11ea_9380_a0a4c554f2a3row31_col20\" class=\"data row31 col20\" >568</td>\n",
       "                        <td id=\"T_b6d8aa06_1a39_11ea_9380_a0a4c554f2a3row31_col21\" class=\"data row31 col21\" >628</td>\n",
       "                        <td id=\"T_b6d8aa06_1a39_11ea_9380_a0a4c554f2a3row31_col22\" class=\"data row31 col22\" >809</td>\n",
       "                        <td id=\"T_b6d8aa06_1a39_11ea_9380_a0a4c554f2a3row31_col23\" class=\"data row31 col23\" >637</td>\n",
       "                        <td id=\"T_b6d8aa06_1a39_11ea_9380_a0a4c554f2a3row31_col24\" class=\"data row31 col24\" >186</td>\n",
       "                        <td id=\"T_b6d8aa06_1a39_11ea_9380_a0a4c554f2a3row31_col25\" class=\"data row31 col25\" >25</td>\n",
       "                        <td id=\"T_b6d8aa06_1a39_11ea_9380_a0a4c554f2a3row31_col26\" class=\"data row31 col26\" >44</td>\n",
       "            </tr>\n",
       "            <tr>\n",
       "                        <th id=\"T_b6d8aa06_1a39_11ea_9380_a0a4c554f2a3level0_row32\" class=\"row_heading level0 row32\" >kunde</th>\n",
       "                        <td id=\"T_b6d8aa06_1a39_11ea_9380_a0a4c554f2a3row32_col0\" class=\"data row32 col0\" >0</td>\n",
       "                        <td id=\"T_b6d8aa06_1a39_11ea_9380_a0a4c554f2a3row32_col1\" class=\"data row32 col1\" >94</td>\n",
       "                        <td id=\"T_b6d8aa06_1a39_11ea_9380_a0a4c554f2a3row32_col2\" class=\"data row32 col2\" >10</td>\n",
       "                        <td id=\"T_b6d8aa06_1a39_11ea_9380_a0a4c554f2a3row32_col3\" class=\"data row32 col3\" >36</td>\n",
       "                        <td id=\"T_b6d8aa06_1a39_11ea_9380_a0a4c554f2a3row32_col4\" class=\"data row32 col4\" >26</td>\n",
       "                        <td id=\"T_b6d8aa06_1a39_11ea_9380_a0a4c554f2a3row32_col5\" class=\"data row32 col5\" >39</td>\n",
       "                        <td id=\"T_b6d8aa06_1a39_11ea_9380_a0a4c554f2a3row32_col6\" class=\"data row32 col6\" >0</td>\n",
       "                        <td id=\"T_b6d8aa06_1a39_11ea_9380_a0a4c554f2a3row32_col7\" class=\"data row32 col7\" >29</td>\n",
       "                        <td id=\"T_b6d8aa06_1a39_11ea_9380_a0a4c554f2a3row32_col8\" class=\"data row32 col8\" >0</td>\n",
       "                        <td id=\"T_b6d8aa06_1a39_11ea_9380_a0a4c554f2a3row32_col9\" class=\"data row32 col9\" >35</td>\n",
       "                        <td id=\"T_b6d8aa06_1a39_11ea_9380_a0a4c554f2a3row32_col10\" class=\"data row32 col10\" >48</td>\n",
       "                        <td id=\"T_b6d8aa06_1a39_11ea_9380_a0a4c554f2a3row32_col11\" class=\"data row32 col11\" >20</td>\n",
       "                        <td id=\"T_b6d8aa06_1a39_11ea_9380_a0a4c554f2a3row32_col12\" class=\"data row32 col12\" >3</td>\n",
       "                        <td id=\"T_b6d8aa06_1a39_11ea_9380_a0a4c554f2a3row32_col13\" class=\"data row32 col13\" >111</td>\n",
       "                        <td id=\"T_b6d8aa06_1a39_11ea_9380_a0a4c554f2a3row32_col14\" class=\"data row32 col14\" >27</td>\n",
       "                        <td id=\"T_b6d8aa06_1a39_11ea_9380_a0a4c554f2a3row32_col15\" class=\"data row32 col15\" >63</td>\n",
       "                        <td id=\"T_b6d8aa06_1a39_11ea_9380_a0a4c554f2a3row32_col16\" class=\"data row32 col16\" >0</td>\n",
       "                        <td id=\"T_b6d8aa06_1a39_11ea_9380_a0a4c554f2a3row32_col17\" class=\"data row32 col17\" >9</td>\n",
       "                        <td id=\"T_b6d8aa06_1a39_11ea_9380_a0a4c554f2a3row32_col18\" class=\"data row32 col18\" >251</td>\n",
       "                        <td id=\"T_b6d8aa06_1a39_11ea_9380_a0a4c554f2a3row32_col19\" class=\"data row32 col19\" >235</td>\n",
       "                        <td id=\"T_b6d8aa06_1a39_11ea_9380_a0a4c554f2a3row32_col20\" class=\"data row32 col20\" >376</td>\n",
       "                        <td id=\"T_b6d8aa06_1a39_11ea_9380_a0a4c554f2a3row32_col21\" class=\"data row32 col21\" >359</td>\n",
       "                        <td id=\"T_b6d8aa06_1a39_11ea_9380_a0a4c554f2a3row32_col22\" class=\"data row32 col22\" >453</td>\n",
       "                        <td id=\"T_b6d8aa06_1a39_11ea_9380_a0a4c554f2a3row32_col23\" class=\"data row32 col23\" >414</td>\n",
       "                        <td id=\"T_b6d8aa06_1a39_11ea_9380_a0a4c554f2a3row32_col24\" class=\"data row32 col24\" >133</td>\n",
       "                        <td id=\"T_b6d8aa06_1a39_11ea_9380_a0a4c554f2a3row32_col25\" class=\"data row32 col25\" >23</td>\n",
       "                        <td id=\"T_b6d8aa06_1a39_11ea_9380_a0a4c554f2a3row32_col26\" class=\"data row32 col26\" >21</td>\n",
       "            </tr>\n",
       "            <tr>\n",
       "                        <th id=\"T_b6d8aa06_1a39_11ea_9380_a0a4c554f2a3level0_row33\" class=\"row_heading level0 row33\" >et</th>\n",
       "                        <td id=\"T_b6d8aa06_1a39_11ea_9380_a0a4c554f2a3row33_col0\" class=\"data row33 col0\" >25</td>\n",
       "                        <td id=\"T_b6d8aa06_1a39_11ea_9380_a0a4c554f2a3row33_col1\" class=\"data row33 col1\" >201</td>\n",
       "                        <td id=\"T_b6d8aa06_1a39_11ea_9380_a0a4c554f2a3row33_col2\" class=\"data row33 col2\" >20</td>\n",
       "                        <td id=\"T_b6d8aa06_1a39_11ea_9380_a0a4c554f2a3row33_col3\" class=\"data row33 col3\" >85</td>\n",
       "                        <td id=\"T_b6d8aa06_1a39_11ea_9380_a0a4c554f2a3row33_col4\" class=\"data row33 col4\" >89</td>\n",
       "                        <td id=\"T_b6d8aa06_1a39_11ea_9380_a0a4c554f2a3row33_col5\" class=\"data row33 col5\" >117</td>\n",
       "                        <td id=\"T_b6d8aa06_1a39_11ea_9380_a0a4c554f2a3row33_col6\" class=\"data row33 col6\" >1363</td>\n",
       "                        <td id=\"T_b6d8aa06_1a39_11ea_9380_a0a4c554f2a3row33_col7\" class=\"data row33 col7\" >40</td>\n",
       "                        <td id=\"T_b6d8aa06_1a39_11ea_9380_a0a4c554f2a3row33_col8\" class=\"data row33 col8\" >11</td>\n",
       "                        <td id=\"T_b6d8aa06_1a39_11ea_9380_a0a4c554f2a3row33_col9\" class=\"data row33 col9\" >101</td>\n",
       "                        <td id=\"T_b6d8aa06_1a39_11ea_9380_a0a4c554f2a3row33_col10\" class=\"data row33 col10\" >239</td>\n",
       "                        <td id=\"T_b6d8aa06_1a39_11ea_9380_a0a4c554f2a3row33_col11\" class=\"data row33 col11\" >130</td>\n",
       "                        <td id=\"T_b6d8aa06_1a39_11ea_9380_a0a4c554f2a3row33_col12\" class=\"data row33 col12\" >30</td>\n",
       "                        <td id=\"T_b6d8aa06_1a39_11ea_9380_a0a4c554f2a3row33_col13\" class=\"data row33 col13\" >203</td>\n",
       "                        <td id=\"T_b6d8aa06_1a39_11ea_9380_a0a4c554f2a3row33_col14\" class=\"data row33 col14\" >81</td>\n",
       "                        <td id=\"T_b6d8aa06_1a39_11ea_9380_a0a4c554f2a3row33_col15\" class=\"data row33 col15\" >161</td>\n",
       "                        <td id=\"T_b6d8aa06_1a39_11ea_9380_a0a4c554f2a3row33_col16\" class=\"data row33 col16\" >34</td>\n",
       "                        <td id=\"T_b6d8aa06_1a39_11ea_9380_a0a4c554f2a3row33_col17\" class=\"data row33 col17\" >15</td>\n",
       "                        <td id=\"T_b6d8aa06_1a39_11ea_9380_a0a4c554f2a3row33_col18\" class=\"data row33 col18\" >523</td>\n",
       "                        <td id=\"T_b6d8aa06_1a39_11ea_9380_a0a4c554f2a3row33_col19\" class=\"data row33 col19\" >460</td>\n",
       "                        <td id=\"T_b6d8aa06_1a39_11ea_9380_a0a4c554f2a3row33_col20\" class=\"data row33 col20\" >733</td>\n",
       "                        <td id=\"T_b6d8aa06_1a39_11ea_9380_a0a4c554f2a3row33_col21\" class=\"data row33 col21\" >729</td>\n",
       "                        <td id=\"T_b6d8aa06_1a39_11ea_9380_a0a4c554f2a3row33_col22\" class=\"data row33 col22\" >902</td>\n",
       "                        <td id=\"T_b6d8aa06_1a39_11ea_9380_a0a4c554f2a3row33_col23\" class=\"data row33 col23\" >804</td>\n",
       "                        <td id=\"T_b6d8aa06_1a39_11ea_9380_a0a4c554f2a3row33_col24\" class=\"data row33 col24\" >194</td>\n",
       "                        <td id=\"T_b6d8aa06_1a39_11ea_9380_a0a4c554f2a3row33_col25\" class=\"data row33 col25\" >23</td>\n",
       "                        <td id=\"T_b6d8aa06_1a39_11ea_9380_a0a4c554f2a3row33_col26\" class=\"data row33 col26\" >24</td>\n",
       "            </tr>\n",
       "            <tr>\n",
       "                        <th id=\"T_b6d8aa06_1a39_11ea_9380_a0a4c554f2a3level0_row34\" class=\"row_heading level0 row34\" >men</th>\n",
       "                        <td id=\"T_b6d8aa06_1a39_11ea_9380_a0a4c554f2a3row34_col0\" class=\"data row34 col0\" >43</td>\n",
       "                        <td id=\"T_b6d8aa06_1a39_11ea_9380_a0a4c554f2a3row34_col1\" class=\"data row34 col1\" >211</td>\n",
       "                        <td id=\"T_b6d8aa06_1a39_11ea_9380_a0a4c554f2a3row34_col2\" class=\"data row34 col2\" >8</td>\n",
       "                        <td id=\"T_b6d8aa06_1a39_11ea_9380_a0a4c554f2a3row34_col3\" class=\"data row34 col3\" >35</td>\n",
       "                        <td id=\"T_b6d8aa06_1a39_11ea_9380_a0a4c554f2a3row34_col4\" class=\"data row34 col4\" >39</td>\n",
       "                        <td id=\"T_b6d8aa06_1a39_11ea_9380_a0a4c554f2a3row34_col5\" class=\"data row34 col5\" >105</td>\n",
       "                        <td id=\"T_b6d8aa06_1a39_11ea_9380_a0a4c554f2a3row34_col6\" class=\"data row34 col6\" >109</td>\n",
       "                        <td id=\"T_b6d8aa06_1a39_11ea_9380_a0a4c554f2a3row34_col7\" class=\"data row34 col7\" >42</td>\n",
       "                        <td id=\"T_b6d8aa06_1a39_11ea_9380_a0a4c554f2a3row34_col8\" class=\"data row34 col8\" >6</td>\n",
       "                        <td id=\"T_b6d8aa06_1a39_11ea_9380_a0a4c554f2a3row34_col9\" class=\"data row34 col9\" >63</td>\n",
       "                        <td id=\"T_b6d8aa06_1a39_11ea_9380_a0a4c554f2a3row34_col10\" class=\"data row34 col10\" >325</td>\n",
       "                        <td id=\"T_b6d8aa06_1a39_11ea_9380_a0a4c554f2a3row34_col11\" class=\"data row34 col11\" >122</td>\n",
       "                        <td id=\"T_b6d8aa06_1a39_11ea_9380_a0a4c554f2a3row34_col12\" class=\"data row34 col12\" >23</td>\n",
       "                        <td id=\"T_b6d8aa06_1a39_11ea_9380_a0a4c554f2a3row34_col13\" class=\"data row34 col13\" >255</td>\n",
       "                        <td id=\"T_b6d8aa06_1a39_11ea_9380_a0a4c554f2a3row34_col14\" class=\"data row34 col14\" >175</td>\n",
       "                        <td id=\"T_b6d8aa06_1a39_11ea_9380_a0a4c554f2a3row34_col15\" class=\"data row34 col15\" >293</td>\n",
       "                        <td id=\"T_b6d8aa06_1a39_11ea_9380_a0a4c554f2a3row34_col16\" class=\"data row34 col16\" >54</td>\n",
       "                        <td id=\"T_b6d8aa06_1a39_11ea_9380_a0a4c554f2a3row34_col17\" class=\"data row34 col17\" >22</td>\n",
       "                        <td id=\"T_b6d8aa06_1a39_11ea_9380_a0a4c554f2a3row34_col18\" class=\"data row34 col18\" >427</td>\n",
       "                        <td id=\"T_b6d8aa06_1a39_11ea_9380_a0a4c554f2a3row34_col19\" class=\"data row34 col19\" >418</td>\n",
       "                        <td id=\"T_b6d8aa06_1a39_11ea_9380_a0a4c554f2a3row34_col20\" class=\"data row34 col20\" >552</td>\n",
       "                        <td id=\"T_b6d8aa06_1a39_11ea_9380_a0a4c554f2a3row34_col21\" class=\"data row34 col21\" >661</td>\n",
       "                        <td id=\"T_b6d8aa06_1a39_11ea_9380_a0a4c554f2a3row34_col22\" class=\"data row34 col22\" >880</td>\n",
       "                        <td id=\"T_b6d8aa06_1a39_11ea_9380_a0a4c554f2a3row34_col23\" class=\"data row34 col23\" >844</td>\n",
       "                        <td id=\"T_b6d8aa06_1a39_11ea_9380_a0a4c554f2a3row34_col24\" class=\"data row34 col24\" >178</td>\n",
       "                        <td id=\"T_b6d8aa06_1a39_11ea_9380_a0a4c554f2a3row34_col25\" class=\"data row34 col25\" >23</td>\n",
       "                        <td id=\"T_b6d8aa06_1a39_11ea_9380_a0a4c554f2a3row34_col26\" class=\"data row34 col26\" >32</td>\n",
       "            </tr>\n",
       "            <tr>\n",
       "                        <th id=\"T_b6d8aa06_1a39_11ea_9380_a0a4c554f2a3level0_row35\" class=\"row_heading level0 row35\" >mit</th>\n",
       "                        <td id=\"T_b6d8aa06_1a39_11ea_9380_a0a4c554f2a3row35_col0\" class=\"data row35 col0\" >1</td>\n",
       "                        <td id=\"T_b6d8aa06_1a39_11ea_9380_a0a4c554f2a3row35_col1\" class=\"data row35 col1\" >49</td>\n",
       "                        <td id=\"T_b6d8aa06_1a39_11ea_9380_a0a4c554f2a3row35_col2\" class=\"data row35 col2\" >4</td>\n",
       "                        <td id=\"T_b6d8aa06_1a39_11ea_9380_a0a4c554f2a3row35_col3\" class=\"data row35 col3\" >20</td>\n",
       "                        <td id=\"T_b6d8aa06_1a39_11ea_9380_a0a4c554f2a3row35_col4\" class=\"data row35 col4\" >29</td>\n",
       "                        <td id=\"T_b6d8aa06_1a39_11ea_9380_a0a4c554f2a3row35_col5\" class=\"data row35 col5\" >14</td>\n",
       "                        <td id=\"T_b6d8aa06_1a39_11ea_9380_a0a4c554f2a3row35_col6\" class=\"data row35 col6\" >10</td>\n",
       "                        <td id=\"T_b6d8aa06_1a39_11ea_9380_a0a4c554f2a3row35_col7\" class=\"data row35 col7\" >0</td>\n",
       "                        <td id=\"T_b6d8aa06_1a39_11ea_9380_a0a4c554f2a3row35_col8\" class=\"data row35 col8\" >0</td>\n",
       "                        <td id=\"T_b6d8aa06_1a39_11ea_9380_a0a4c554f2a3row35_col9\" class=\"data row35 col9\" >8</td>\n",
       "                        <td id=\"T_b6d8aa06_1a39_11ea_9380_a0a4c554f2a3row35_col10\" class=\"data row35 col10\" >12</td>\n",
       "                        <td id=\"T_b6d8aa06_1a39_11ea_9380_a0a4c554f2a3row35_col11\" class=\"data row35 col11\" >8</td>\n",
       "                        <td id=\"T_b6d8aa06_1a39_11ea_9380_a0a4c554f2a3row35_col12\" class=\"data row35 col12\" >1</td>\n",
       "                        <td id=\"T_b6d8aa06_1a39_11ea_9380_a0a4c554f2a3row35_col13\" class=\"data row35 col13\" >37</td>\n",
       "                        <td id=\"T_b6d8aa06_1a39_11ea_9380_a0a4c554f2a3row35_col14\" class=\"data row35 col14\" >20</td>\n",
       "                        <td id=\"T_b6d8aa06_1a39_11ea_9380_a0a4c554f2a3row35_col15\" class=\"data row35 col15\" >50</td>\n",
       "                        <td id=\"T_b6d8aa06_1a39_11ea_9380_a0a4c554f2a3row35_col16\" class=\"data row35 col16\" >22</td>\n",
       "                        <td id=\"T_b6d8aa06_1a39_11ea_9380_a0a4c554f2a3row35_col17\" class=\"data row35 col17\" >7</td>\n",
       "                        <td id=\"T_b6d8aa06_1a39_11ea_9380_a0a4c554f2a3row35_col18\" class=\"data row35 col18\" >204</td>\n",
       "                        <td id=\"T_b6d8aa06_1a39_11ea_9380_a0a4c554f2a3row35_col19\" class=\"data row35 col19\" >239</td>\n",
       "                        <td id=\"T_b6d8aa06_1a39_11ea_9380_a0a4c554f2a3row35_col20\" class=\"data row35 col20\" >302</td>\n",
       "                        <td id=\"T_b6d8aa06_1a39_11ea_9380_a0a4c554f2a3row35_col21\" class=\"data row35 col21\" >300</td>\n",
       "                        <td id=\"T_b6d8aa06_1a39_11ea_9380_a0a4c554f2a3row35_col22\" class=\"data row35 col22\" >330</td>\n",
       "                        <td id=\"T_b6d8aa06_1a39_11ea_9380_a0a4c554f2a3row35_col23\" class=\"data row35 col23\" >297</td>\n",
       "                        <td id=\"T_b6d8aa06_1a39_11ea_9380_a0a4c554f2a3row35_col24\" class=\"data row35 col24\" >101</td>\n",
       "                        <td id=\"T_b6d8aa06_1a39_11ea_9380_a0a4c554f2a3row35_col25\" class=\"data row35 col25\" >22</td>\n",
       "                        <td id=\"T_b6d8aa06_1a39_11ea_9380_a0a4c554f2a3row35_col26\" class=\"data row35 col26\" >7</td>\n",
       "            </tr>\n",
       "            <tr>\n",
       "                        <th id=\"T_b6d8aa06_1a39_11ea_9380_a0a4c554f2a3level0_row36\" class=\"row_heading level0 row36\" >de</th>\n",
       "                        <td id=\"T_b6d8aa06_1a39_11ea_9380_a0a4c554f2a3row36_col0\" class=\"data row36 col0\" >250</td>\n",
       "                        <td id=\"T_b6d8aa06_1a39_11ea_9380_a0a4c554f2a3row36_col1\" class=\"data row36 col1\" >213</td>\n",
       "                        <td id=\"T_b6d8aa06_1a39_11ea_9380_a0a4c554f2a3row36_col2\" class=\"data row36 col2\" >11</td>\n",
       "                        <td id=\"T_b6d8aa06_1a39_11ea_9380_a0a4c554f2a3row36_col3\" class=\"data row36 col3\" >67</td>\n",
       "                        <td id=\"T_b6d8aa06_1a39_11ea_9380_a0a4c554f2a3row36_col4\" class=\"data row36 col4\" >68</td>\n",
       "                        <td id=\"T_b6d8aa06_1a39_11ea_9380_a0a4c554f2a3row36_col5\" class=\"data row36 col5\" >75</td>\n",
       "                        <td id=\"T_b6d8aa06_1a39_11ea_9380_a0a4c554f2a3row36_col6\" class=\"data row36 col6\" >2078</td>\n",
       "                        <td id=\"T_b6d8aa06_1a39_11ea_9380_a0a4c554f2a3row36_col7\" class=\"data row36 col7\" >156</td>\n",
       "                        <td id=\"T_b6d8aa06_1a39_11ea_9380_a0a4c554f2a3row36_col8\" class=\"data row36 col8\" >9</td>\n",
       "                        <td id=\"T_b6d8aa06_1a39_11ea_9380_a0a4c554f2a3row36_col9\" class=\"data row36 col9\" >96</td>\n",
       "                        <td id=\"T_b6d8aa06_1a39_11ea_9380_a0a4c554f2a3row36_col10\" class=\"data row36 col10\" >248</td>\n",
       "                        <td id=\"T_b6d8aa06_1a39_11ea_9380_a0a4c554f2a3row36_col11\" class=\"data row36 col11\" >158</td>\n",
       "                        <td id=\"T_b6d8aa06_1a39_11ea_9380_a0a4c554f2a3row36_col12\" class=\"data row36 col12\" >22</td>\n",
       "                        <td id=\"T_b6d8aa06_1a39_11ea_9380_a0a4c554f2a3row36_col13\" class=\"data row36 col13\" >175</td>\n",
       "                        <td id=\"T_b6d8aa06_1a39_11ea_9380_a0a4c554f2a3row36_col14\" class=\"data row36 col14\" >115</td>\n",
       "                        <td id=\"T_b6d8aa06_1a39_11ea_9380_a0a4c554f2a3row36_col15\" class=\"data row36 col15\" >372</td>\n",
       "                        <td id=\"T_b6d8aa06_1a39_11ea_9380_a0a4c554f2a3row36_col16\" class=\"data row36 col16\" >76</td>\n",
       "                        <td id=\"T_b6d8aa06_1a39_11ea_9380_a0a4c554f2a3row36_col17\" class=\"data row36 col17\" >49</td>\n",
       "                        <td id=\"T_b6d8aa06_1a39_11ea_9380_a0a4c554f2a3row36_col18\" class=\"data row36 col18\" >1049</td>\n",
       "                        <td id=\"T_b6d8aa06_1a39_11ea_9380_a0a4c554f2a3row36_col19\" class=\"data row36 col19\" >1109</td>\n",
       "                        <td id=\"T_b6d8aa06_1a39_11ea_9380_a0a4c554f2a3row36_col20\" class=\"data row36 col20\" >1401</td>\n",
       "                        <td id=\"T_b6d8aa06_1a39_11ea_9380_a0a4c554f2a3row36_col21\" class=\"data row36 col21\" >1315</td>\n",
       "                        <td id=\"T_b6d8aa06_1a39_11ea_9380_a0a4c554f2a3row36_col22\" class=\"data row36 col22\" >1489</td>\n",
       "                        <td id=\"T_b6d8aa06_1a39_11ea_9380_a0a4c554f2a3row36_col23\" class=\"data row36 col23\" >1439</td>\n",
       "                        <td id=\"T_b6d8aa06_1a39_11ea_9380_a0a4c554f2a3row36_col24\" class=\"data row36 col24\" >480</td>\n",
       "                        <td id=\"T_b6d8aa06_1a39_11ea_9380_a0a4c554f2a3row36_col25\" class=\"data row36 col25\" >21</td>\n",
       "                        <td id=\"T_b6d8aa06_1a39_11ea_9380_a0a4c554f2a3row36_col26\" class=\"data row36 col26\" >87</td>\n",
       "            </tr>\n",
       "            <tr>\n",
       "                        <th id=\"T_b6d8aa06_1a39_11ea_9380_a0a4c554f2a3level0_row37\" class=\"row_heading level0 row37\" >;</th>\n",
       "                        <td id=\"T_b6d8aa06_1a39_11ea_9380_a0a4c554f2a3row37_col0\" class=\"data row37 col0\" >5</td>\n",
       "                        <td id=\"T_b6d8aa06_1a39_11ea_9380_a0a4c554f2a3row37_col1\" class=\"data row37 col1\" >27</td>\n",
       "                        <td id=\"T_b6d8aa06_1a39_11ea_9380_a0a4c554f2a3row37_col2\" class=\"data row37 col2\" >1</td>\n",
       "                        <td id=\"T_b6d8aa06_1a39_11ea_9380_a0a4c554f2a3row37_col3\" class=\"data row37 col3\" >8</td>\n",
       "                        <td id=\"T_b6d8aa06_1a39_11ea_9380_a0a4c554f2a3row37_col4\" class=\"data row37 col4\" >14</td>\n",
       "                        <td id=\"T_b6d8aa06_1a39_11ea_9380_a0a4c554f2a3row37_col5\" class=\"data row37 col5\" >21</td>\n",
       "                        <td id=\"T_b6d8aa06_1a39_11ea_9380_a0a4c554f2a3row37_col6\" class=\"data row37 col6\" >549</td>\n",
       "                        <td id=\"T_b6d8aa06_1a39_11ea_9380_a0a4c554f2a3row37_col7\" class=\"data row37 col7\" >65</td>\n",
       "                        <td id=\"T_b6d8aa06_1a39_11ea_9380_a0a4c554f2a3row37_col8\" class=\"data row37 col8\" >23</td>\n",
       "                        <td id=\"T_b6d8aa06_1a39_11ea_9380_a0a4c554f2a3row37_col9\" class=\"data row37 col9\" >193</td>\n",
       "                        <td id=\"T_b6d8aa06_1a39_11ea_9380_a0a4c554f2a3row37_col10\" class=\"data row37 col10\" >462</td>\n",
       "                        <td id=\"T_b6d8aa06_1a39_11ea_9380_a0a4c554f2a3row37_col11\" class=\"data row37 col11\" >199</td>\n",
       "                        <td id=\"T_b6d8aa06_1a39_11ea_9380_a0a4c554f2a3row37_col12\" class=\"data row37 col12\" >19</td>\n",
       "                        <td id=\"T_b6d8aa06_1a39_11ea_9380_a0a4c554f2a3row37_col13\" class=\"data row37 col13\" >309</td>\n",
       "                        <td id=\"T_b6d8aa06_1a39_11ea_9380_a0a4c554f2a3row37_col14\" class=\"data row37 col14\" >4</td>\n",
       "                        <td id=\"T_b6d8aa06_1a39_11ea_9380_a0a4c554f2a3row37_col15\" class=\"data row37 col15\" >49</td>\n",
       "                        <td id=\"T_b6d8aa06_1a39_11ea_9380_a0a4c554f2a3row37_col16\" class=\"data row37 col16\" >65</td>\n",
       "                        <td id=\"T_b6d8aa06_1a39_11ea_9380_a0a4c554f2a3row37_col17\" class=\"data row37 col17\" >22</td>\n",
       "                        <td id=\"T_b6d8aa06_1a39_11ea_9380_a0a4c554f2a3row37_col18\" class=\"data row37 col18\" >369</td>\n",
       "                        <td id=\"T_b6d8aa06_1a39_11ea_9380_a0a4c554f2a3row37_col19\" class=\"data row37 col19\" >241</td>\n",
       "                        <td id=\"T_b6d8aa06_1a39_11ea_9380_a0a4c554f2a3row37_col20\" class=\"data row37 col20\" >281</td>\n",
       "                        <td id=\"T_b6d8aa06_1a39_11ea_9380_a0a4c554f2a3row37_col21\" class=\"data row37 col21\" >324</td>\n",
       "                        <td id=\"T_b6d8aa06_1a39_11ea_9380_a0a4c554f2a3row37_col22\" class=\"data row37 col22\" >422</td>\n",
       "                        <td id=\"T_b6d8aa06_1a39_11ea_9380_a0a4c554f2a3row37_col23\" class=\"data row37 col23\" >401</td>\n",
       "                        <td id=\"T_b6d8aa06_1a39_11ea_9380_a0a4c554f2a3row37_col24\" class=\"data row37 col24\" >111</td>\n",
       "                        <td id=\"T_b6d8aa06_1a39_11ea_9380_a0a4c554f2a3row37_col25\" class=\"data row37 col25\" >19</td>\n",
       "                        <td id=\"T_b6d8aa06_1a39_11ea_9380_a0a4c554f2a3row37_col26\" class=\"data row37 col26\" >12</td>\n",
       "            </tr>\n",
       "            <tr>\n",
       "                        <th id=\"T_b6d8aa06_1a39_11ea_9380_a0a4c554f2a3level0_row38\" class=\"row_heading level0 row38\" >nu</th>\n",
       "                        <td id=\"T_b6d8aa06_1a39_11ea_9380_a0a4c554f2a3row38_col0\" class=\"data row38 col0\" >164</td>\n",
       "                        <td id=\"T_b6d8aa06_1a39_11ea_9380_a0a4c554f2a3row38_col1\" class=\"data row38 col1\" >109</td>\n",
       "                        <td id=\"T_b6d8aa06_1a39_11ea_9380_a0a4c554f2a3row38_col2\" class=\"data row38 col2\" >4</td>\n",
       "                        <td id=\"T_b6d8aa06_1a39_11ea_9380_a0a4c554f2a3row38_col3\" class=\"data row38 col3\" >31</td>\n",
       "                        <td id=\"T_b6d8aa06_1a39_11ea_9380_a0a4c554f2a3row38_col4\" class=\"data row38 col4\" >26</td>\n",
       "                        <td id=\"T_b6d8aa06_1a39_11ea_9380_a0a4c554f2a3row38_col5\" class=\"data row38 col5\" >37</td>\n",
       "                        <td id=\"T_b6d8aa06_1a39_11ea_9380_a0a4c554f2a3row38_col6\" class=\"data row38 col6\" >0</td>\n",
       "                        <td id=\"T_b6d8aa06_1a39_11ea_9380_a0a4c554f2a3row38_col7\" class=\"data row38 col7\" >8</td>\n",
       "                        <td id=\"T_b6d8aa06_1a39_11ea_9380_a0a4c554f2a3row38_col8\" class=\"data row38 col8\" >2</td>\n",
       "                        <td id=\"T_b6d8aa06_1a39_11ea_9380_a0a4c554f2a3row38_col9\" class=\"data row38 col9\" >33</td>\n",
       "                        <td id=\"T_b6d8aa06_1a39_11ea_9380_a0a4c554f2a3row38_col10\" class=\"data row38 col10\" >91</td>\n",
       "                        <td id=\"T_b6d8aa06_1a39_11ea_9380_a0a4c554f2a3row38_col11\" class=\"data row38 col11\" >55</td>\n",
       "                        <td id=\"T_b6d8aa06_1a39_11ea_9380_a0a4c554f2a3row38_col12\" class=\"data row38 col12\" >12</td>\n",
       "                        <td id=\"T_b6d8aa06_1a39_11ea_9380_a0a4c554f2a3row38_col13\" class=\"data row38 col13\" >194</td>\n",
       "                        <td id=\"T_b6d8aa06_1a39_11ea_9380_a0a4c554f2a3row38_col14\" class=\"data row38 col14\" >92</td>\n",
       "                        <td id=\"T_b6d8aa06_1a39_11ea_9380_a0a4c554f2a3row38_col15\" class=\"data row38 col15\" >145</td>\n",
       "                        <td id=\"T_b6d8aa06_1a39_11ea_9380_a0a4c554f2a3row38_col16\" class=\"data row38 col16\" >15</td>\n",
       "                        <td id=\"T_b6d8aa06_1a39_11ea_9380_a0a4c554f2a3row38_col17\" class=\"data row38 col17\" >18</td>\n",
       "                        <td id=\"T_b6d8aa06_1a39_11ea_9380_a0a4c554f2a3row38_col18\" class=\"data row38 col18\" >627</td>\n",
       "                        <td id=\"T_b6d8aa06_1a39_11ea_9380_a0a4c554f2a3row38_col19\" class=\"data row38 col19\" >573</td>\n",
       "                        <td id=\"T_b6d8aa06_1a39_11ea_9380_a0a4c554f2a3row38_col20\" class=\"data row38 col20\" >658</td>\n",
       "                        <td id=\"T_b6d8aa06_1a39_11ea_9380_a0a4c554f2a3row38_col21\" class=\"data row38 col21\" >718</td>\n",
       "                        <td id=\"T_b6d8aa06_1a39_11ea_9380_a0a4c554f2a3row38_col22\" class=\"data row38 col22\" >778</td>\n",
       "                        <td id=\"T_b6d8aa06_1a39_11ea_9380_a0a4c554f2a3row38_col23\" class=\"data row38 col23\" >692</td>\n",
       "                        <td id=\"T_b6d8aa06_1a39_11ea_9380_a0a4c554f2a3row38_col24\" class=\"data row38 col24\" >206</td>\n",
       "                        <td id=\"T_b6d8aa06_1a39_11ea_9380_a0a4c554f2a3row38_col25\" class=\"data row38 col25\" >19</td>\n",
       "                        <td id=\"T_b6d8aa06_1a39_11ea_9380_a0a4c554f2a3row38_col26\" class=\"data row38 col26\" >19</td>\n",
       "            </tr>\n",
       "            <tr>\n",
       "                        <th id=\"T_b6d8aa06_1a39_11ea_9380_a0a4c554f2a3level0_row39\" class=\"row_heading level0 row39\" >kan</th>\n",
       "                        <td id=\"T_b6d8aa06_1a39_11ea_9380_a0a4c554f2a3row39_col0\" class=\"data row39 col0\" >19</td>\n",
       "                        <td id=\"T_b6d8aa06_1a39_11ea_9380_a0a4c554f2a3row39_col1\" class=\"data row39 col1\" >151</td>\n",
       "                        <td id=\"T_b6d8aa06_1a39_11ea_9380_a0a4c554f2a3row39_col2\" class=\"data row39 col2\" >11</td>\n",
       "                        <td id=\"T_b6d8aa06_1a39_11ea_9380_a0a4c554f2a3row39_col3\" class=\"data row39 col3\" >38</td>\n",
       "                        <td id=\"T_b6d8aa06_1a39_11ea_9380_a0a4c554f2a3row39_col4\" class=\"data row39 col4\" >48</td>\n",
       "                        <td id=\"T_b6d8aa06_1a39_11ea_9380_a0a4c554f2a3row39_col5\" class=\"data row39 col5\" >29</td>\n",
       "                        <td id=\"T_b6d8aa06_1a39_11ea_9380_a0a4c554f2a3row39_col6\" class=\"data row39 col6\" >30</td>\n",
       "                        <td id=\"T_b6d8aa06_1a39_11ea_9380_a0a4c554f2a3row39_col7\" class=\"data row39 col7\" >28</td>\n",
       "                        <td id=\"T_b6d8aa06_1a39_11ea_9380_a0a4c554f2a3row39_col8\" class=\"data row39 col8\" >1</td>\n",
       "                        <td id=\"T_b6d8aa06_1a39_11ea_9380_a0a4c554f2a3row39_col9\" class=\"data row39 col9\" >40</td>\n",
       "                        <td id=\"T_b6d8aa06_1a39_11ea_9380_a0a4c554f2a3row39_col10\" class=\"data row39 col10\" >78</td>\n",
       "                        <td id=\"T_b6d8aa06_1a39_11ea_9380_a0a4c554f2a3row39_col11\" class=\"data row39 col11\" >17</td>\n",
       "                        <td id=\"T_b6d8aa06_1a39_11ea_9380_a0a4c554f2a3row39_col12\" class=\"data row39 col12\" >1</td>\n",
       "                        <td id=\"T_b6d8aa06_1a39_11ea_9380_a0a4c554f2a3row39_col13\" class=\"data row39 col13\" >188</td>\n",
       "                        <td id=\"T_b6d8aa06_1a39_11ea_9380_a0a4c554f2a3row39_col14\" class=\"data row39 col14\" >69</td>\n",
       "                        <td id=\"T_b6d8aa06_1a39_11ea_9380_a0a4c554f2a3row39_col15\" class=\"data row39 col15\" >124</td>\n",
       "                        <td id=\"T_b6d8aa06_1a39_11ea_9380_a0a4c554f2a3row39_col16\" class=\"data row39 col16\" >12</td>\n",
       "                        <td id=\"T_b6d8aa06_1a39_11ea_9380_a0a4c554f2a3row39_col17\" class=\"data row39 col17\" >10</td>\n",
       "                        <td id=\"T_b6d8aa06_1a39_11ea_9380_a0a4c554f2a3row39_col18\" class=\"data row39 col18\" >316</td>\n",
       "                        <td id=\"T_b6d8aa06_1a39_11ea_9380_a0a4c554f2a3row39_col19\" class=\"data row39 col19\" >307</td>\n",
       "                        <td id=\"T_b6d8aa06_1a39_11ea_9380_a0a4c554f2a3row39_col20\" class=\"data row39 col20\" >436</td>\n",
       "                        <td id=\"T_b6d8aa06_1a39_11ea_9380_a0a4c554f2a3row39_col21\" class=\"data row39 col21\" >379</td>\n",
       "                        <td id=\"T_b6d8aa06_1a39_11ea_9380_a0a4c554f2a3row39_col22\" class=\"data row39 col22\" >474</td>\n",
       "                        <td id=\"T_b6d8aa06_1a39_11ea_9380_a0a4c554f2a3row39_col23\" class=\"data row39 col23\" >396</td>\n",
       "                        <td id=\"T_b6d8aa06_1a39_11ea_9380_a0a4c554f2a3row39_col24\" class=\"data row39 col24\" >172</td>\n",
       "                        <td id=\"T_b6d8aa06_1a39_11ea_9380_a0a4c554f2a3row39_col25\" class=\"data row39 col25\" >19</td>\n",
       "                        <td id=\"T_b6d8aa06_1a39_11ea_9380_a0a4c554f2a3row39_col26\" class=\"data row39 col26\" >18</td>\n",
       "            </tr>\n",
       "            <tr>\n",
       "                        <th id=\"T_b6d8aa06_1a39_11ea_9380_a0a4c554f2a3level0_row40\" class=\"row_heading level0 row40\" >af</th>\n",
       "                        <td id=\"T_b6d8aa06_1a39_11ea_9380_a0a4c554f2a3row40_col0\" class=\"data row40 col0\" >0</td>\n",
       "                        <td id=\"T_b6d8aa06_1a39_11ea_9380_a0a4c554f2a3row40_col1\" class=\"data row40 col1\" >280</td>\n",
       "                        <td id=\"T_b6d8aa06_1a39_11ea_9380_a0a4c554f2a3row40_col2\" class=\"data row40 col2\" >26</td>\n",
       "                        <td id=\"T_b6d8aa06_1a39_11ea_9380_a0a4c554f2a3row40_col3\" class=\"data row40 col3\" >110</td>\n",
       "                        <td id=\"T_b6d8aa06_1a39_11ea_9380_a0a4c554f2a3row40_col4\" class=\"data row40 col4\" >105</td>\n",
       "                        <td id=\"T_b6d8aa06_1a39_11ea_9380_a0a4c554f2a3row40_col5\" class=\"data row40 col5\" >205</td>\n",
       "                        <td id=\"T_b6d8aa06_1a39_11ea_9380_a0a4c554f2a3row40_col6\" class=\"data row40 col6\" >0</td>\n",
       "                        <td id=\"T_b6d8aa06_1a39_11ea_9380_a0a4c554f2a3row40_col7\" class=\"data row40 col7\" >226</td>\n",
       "                        <td id=\"T_b6d8aa06_1a39_11ea_9380_a0a4c554f2a3row40_col8\" class=\"data row40 col8\" >67</td>\n",
       "                        <td id=\"T_b6d8aa06_1a39_11ea_9380_a0a4c554f2a3row40_col9\" class=\"data row40 col9\" >149</td>\n",
       "                        <td id=\"T_b6d8aa06_1a39_11ea_9380_a0a4c554f2a3row40_col10\" class=\"data row40 col10\" >812</td>\n",
       "                        <td id=\"T_b6d8aa06_1a39_11ea_9380_a0a4c554f2a3row40_col11\" class=\"data row40 col11\" >436</td>\n",
       "                        <td id=\"T_b6d8aa06_1a39_11ea_9380_a0a4c554f2a3row40_col12\" class=\"data row40 col12\" >181</td>\n",
       "                        <td id=\"T_b6d8aa06_1a39_11ea_9380_a0a4c554f2a3row40_col13\" class=\"data row40 col13\" >321</td>\n",
       "                        <td id=\"T_b6d8aa06_1a39_11ea_9380_a0a4c554f2a3row40_col14\" class=\"data row40 col14\" >88</td>\n",
       "                        <td id=\"T_b6d8aa06_1a39_11ea_9380_a0a4c554f2a3row40_col15\" class=\"data row40 col15\" >228</td>\n",
       "                        <td id=\"T_b6d8aa06_1a39_11ea_9380_a0a4c554f2a3row40_col16\" class=\"data row40 col16\" >70</td>\n",
       "                        <td id=\"T_b6d8aa06_1a39_11ea_9380_a0a4c554f2a3row40_col17\" class=\"data row40 col17\" >34</td>\n",
       "                        <td id=\"T_b6d8aa06_1a39_11ea_9380_a0a4c554f2a3row40_col18\" class=\"data row40 col18\" >639</td>\n",
       "                        <td id=\"T_b6d8aa06_1a39_11ea_9380_a0a4c554f2a3row40_col19\" class=\"data row40 col19\" >584</td>\n",
       "                        <td id=\"T_b6d8aa06_1a39_11ea_9380_a0a4c554f2a3row40_col20\" class=\"data row40 col20\" >802</td>\n",
       "                        <td id=\"T_b6d8aa06_1a39_11ea_9380_a0a4c554f2a3row40_col21\" class=\"data row40 col21\" >828</td>\n",
       "                        <td id=\"T_b6d8aa06_1a39_11ea_9380_a0a4c554f2a3row40_col22\" class=\"data row40 col22\" >980</td>\n",
       "                        <td id=\"T_b6d8aa06_1a39_11ea_9380_a0a4c554f2a3row40_col23\" class=\"data row40 col23\" >862</td>\n",
       "                        <td id=\"T_b6d8aa06_1a39_11ea_9380_a0a4c554f2a3row40_col24\" class=\"data row40 col24\" >237</td>\n",
       "                        <td id=\"T_b6d8aa06_1a39_11ea_9380_a0a4c554f2a3row40_col25\" class=\"data row40 col25\" >19</td>\n",
       "                        <td id=\"T_b6d8aa06_1a39_11ea_9380_a0a4c554f2a3row40_col26\" class=\"data row40 col26\" >46</td>\n",
       "            </tr>\n",
       "            <tr>\n",
       "                        <th id=\"T_b6d8aa06_1a39_11ea_9380_a0a4c554f2a3level0_row41\" class=\"row_heading level0 row41\" >I</th>\n",
       "                        <td id=\"T_b6d8aa06_1a39_11ea_9380_a0a4c554f2a3row41_col0\" class=\"data row41 col0\" >23</td>\n",
       "                        <td id=\"T_b6d8aa06_1a39_11ea_9380_a0a4c554f2a3row41_col1\" class=\"data row41 col1\" >30</td>\n",
       "                        <td id=\"T_b6d8aa06_1a39_11ea_9380_a0a4c554f2a3row41_col2\" class=\"data row41 col2\" >4</td>\n",
       "                        <td id=\"T_b6d8aa06_1a39_11ea_9380_a0a4c554f2a3row41_col3\" class=\"data row41 col3\" >14</td>\n",
       "                        <td id=\"T_b6d8aa06_1a39_11ea_9380_a0a4c554f2a3row41_col4\" class=\"data row41 col4\" >11</td>\n",
       "                        <td id=\"T_b6d8aa06_1a39_11ea_9380_a0a4c554f2a3row41_col5\" class=\"data row41 col5\" >9</td>\n",
       "                        <td id=\"T_b6d8aa06_1a39_11ea_9380_a0a4c554f2a3row41_col6\" class=\"data row41 col6\" >37</td>\n",
       "                        <td id=\"T_b6d8aa06_1a39_11ea_9380_a0a4c554f2a3row41_col7\" class=\"data row41 col7\" >17</td>\n",
       "                        <td id=\"T_b6d8aa06_1a39_11ea_9380_a0a4c554f2a3row41_col8\" class=\"data row41 col8\" >4</td>\n",
       "                        <td id=\"T_b6d8aa06_1a39_11ea_9380_a0a4c554f2a3row41_col9\" class=\"data row41 col9\" >25</td>\n",
       "                        <td id=\"T_b6d8aa06_1a39_11ea_9380_a0a4c554f2a3row41_col10\" class=\"data row41 col10\" >143</td>\n",
       "                        <td id=\"T_b6d8aa06_1a39_11ea_9380_a0a4c554f2a3row41_col11\" class=\"data row41 col11\" >85</td>\n",
       "                        <td id=\"T_b6d8aa06_1a39_11ea_9380_a0a4c554f2a3row41_col12\" class=\"data row41 col12\" >18</td>\n",
       "                        <td id=\"T_b6d8aa06_1a39_11ea_9380_a0a4c554f2a3row41_col13\" class=\"data row41 col13\" >42</td>\n",
       "                        <td id=\"T_b6d8aa06_1a39_11ea_9380_a0a4c554f2a3row41_col14\" class=\"data row41 col14\" >14</td>\n",
       "                        <td id=\"T_b6d8aa06_1a39_11ea_9380_a0a4c554f2a3row41_col15\" class=\"data row41 col15\" >43</td>\n",
       "                        <td id=\"T_b6d8aa06_1a39_11ea_9380_a0a4c554f2a3row41_col16\" class=\"data row41 col16\" >12</td>\n",
       "                        <td id=\"T_b6d8aa06_1a39_11ea_9380_a0a4c554f2a3row41_col17\" class=\"data row41 col17\" >13</td>\n",
       "                        <td id=\"T_b6d8aa06_1a39_11ea_9380_a0a4c554f2a3row41_col18\" class=\"data row41 col18\" >536</td>\n",
       "                        <td id=\"T_b6d8aa06_1a39_11ea_9380_a0a4c554f2a3row41_col19\" class=\"data row41 col19\" >550</td>\n",
       "                        <td id=\"T_b6d8aa06_1a39_11ea_9380_a0a4c554f2a3row41_col20\" class=\"data row41 col20\" >696</td>\n",
       "                        <td id=\"T_b6d8aa06_1a39_11ea_9380_a0a4c554f2a3row41_col21\" class=\"data row41 col21\" >667</td>\n",
       "                        <td id=\"T_b6d8aa06_1a39_11ea_9380_a0a4c554f2a3row41_col22\" class=\"data row41 col22\" >775</td>\n",
       "                        <td id=\"T_b6d8aa06_1a39_11ea_9380_a0a4c554f2a3row41_col23\" class=\"data row41 col23\" >625</td>\n",
       "                        <td id=\"T_b6d8aa06_1a39_11ea_9380_a0a4c554f2a3row41_col24\" class=\"data row41 col24\" >183</td>\n",
       "                        <td id=\"T_b6d8aa06_1a39_11ea_9380_a0a4c554f2a3row41_col25\" class=\"data row41 col25\" >18</td>\n",
       "                        <td id=\"T_b6d8aa06_1a39_11ea_9380_a0a4c554f2a3row41_col26\" class=\"data row41 col26\" >8</td>\n",
       "            </tr>\n",
       "            <tr>\n",
       "                        <th id=\"T_b6d8aa06_1a39_11ea_9380_a0a4c554f2a3level0_row42\" class=\"row_heading level0 row42\" >end</th>\n",
       "                        <td id=\"T_b6d8aa06_1a39_11ea_9380_a0a4c554f2a3row42_col0\" class=\"data row42 col0\" >1</td>\n",
       "                        <td id=\"T_b6d8aa06_1a39_11ea_9380_a0a4c554f2a3row42_col1\" class=\"data row42 col1\" >69</td>\n",
       "                        <td id=\"T_b6d8aa06_1a39_11ea_9380_a0a4c554f2a3row42_col2\" class=\"data row42 col2\" >6</td>\n",
       "                        <td id=\"T_b6d8aa06_1a39_11ea_9380_a0a4c554f2a3row42_col3\" class=\"data row42 col3\" >21</td>\n",
       "                        <td id=\"T_b6d8aa06_1a39_11ea_9380_a0a4c554f2a3row42_col4\" class=\"data row42 col4\" >21</td>\n",
       "                        <td id=\"T_b6d8aa06_1a39_11ea_9380_a0a4c554f2a3row42_col5\" class=\"data row42 col5\" >28</td>\n",
       "                        <td id=\"T_b6d8aa06_1a39_11ea_9380_a0a4c554f2a3row42_col6\" class=\"data row42 col6\" >0</td>\n",
       "                        <td id=\"T_b6d8aa06_1a39_11ea_9380_a0a4c554f2a3row42_col7\" class=\"data row42 col7\" >23</td>\n",
       "                        <td id=\"T_b6d8aa06_1a39_11ea_9380_a0a4c554f2a3row42_col8\" class=\"data row42 col8\" >0</td>\n",
       "                        <td id=\"T_b6d8aa06_1a39_11ea_9380_a0a4c554f2a3row42_col9\" class=\"data row42 col9\" >25</td>\n",
       "                        <td id=\"T_b6d8aa06_1a39_11ea_9380_a0a4c554f2a3row42_col10\" class=\"data row42 col10\" >76</td>\n",
       "                        <td id=\"T_b6d8aa06_1a39_11ea_9380_a0a4c554f2a3row42_col11\" class=\"data row42 col11\" >34</td>\n",
       "                        <td id=\"T_b6d8aa06_1a39_11ea_9380_a0a4c554f2a3row42_col12\" class=\"data row42 col12\" >2</td>\n",
       "                        <td id=\"T_b6d8aa06_1a39_11ea_9380_a0a4c554f2a3row42_col13\" class=\"data row42 col13\" >78</td>\n",
       "                        <td id=\"T_b6d8aa06_1a39_11ea_9380_a0a4c554f2a3row42_col14\" class=\"data row42 col14\" >29</td>\n",
       "                        <td id=\"T_b6d8aa06_1a39_11ea_9380_a0a4c554f2a3row42_col15\" class=\"data row42 col15\" >59</td>\n",
       "                        <td id=\"T_b6d8aa06_1a39_11ea_9380_a0a4c554f2a3row42_col16\" class=\"data row42 col16\" >23</td>\n",
       "                        <td id=\"T_b6d8aa06_1a39_11ea_9380_a0a4c554f2a3row42_col17\" class=\"data row42 col17\" >8</td>\n",
       "                        <td id=\"T_b6d8aa06_1a39_11ea_9380_a0a4c554f2a3row42_col18\" class=\"data row42 col18\" >283</td>\n",
       "                        <td id=\"T_b6d8aa06_1a39_11ea_9380_a0a4c554f2a3row42_col19\" class=\"data row42 col19\" >245</td>\n",
       "                        <td id=\"T_b6d8aa06_1a39_11ea_9380_a0a4c554f2a3row42_col20\" class=\"data row42 col20\" >370</td>\n",
       "                        <td id=\"T_b6d8aa06_1a39_11ea_9380_a0a4c554f2a3row42_col21\" class=\"data row42 col21\" >332</td>\n",
       "                        <td id=\"T_b6d8aa06_1a39_11ea_9380_a0a4c554f2a3row42_col22\" class=\"data row42 col22\" >448</td>\n",
       "                        <td id=\"T_b6d8aa06_1a39_11ea_9380_a0a4c554f2a3row42_col23\" class=\"data row42 col23\" >401</td>\n",
       "                        <td id=\"T_b6d8aa06_1a39_11ea_9380_a0a4c554f2a3row42_col24\" class=\"data row42 col24\" >119</td>\n",
       "                        <td id=\"T_b6d8aa06_1a39_11ea_9380_a0a4c554f2a3row42_col25\" class=\"data row42 col25\" >18</td>\n",
       "                        <td id=\"T_b6d8aa06_1a39_11ea_9380_a0a4c554f2a3row42_col26\" class=\"data row42 col26\" >17</td>\n",
       "            </tr>\n",
       "            <tr>\n",
       "                        <th id=\"T_b6d8aa06_1a39_11ea_9380_a0a4c554f2a3level0_row43\" class=\"row_heading level0 row43\" >havde</th>\n",
       "                        <td id=\"T_b6d8aa06_1a39_11ea_9380_a0a4c554f2a3row43_col0\" class=\"data row43 col0\" >0</td>\n",
       "                        <td id=\"T_b6d8aa06_1a39_11ea_9380_a0a4c554f2a3row43_col1\" class=\"data row43 col1\" >149</td>\n",
       "                        <td id=\"T_b6d8aa06_1a39_11ea_9380_a0a4c554f2a3row43_col2\" class=\"data row43 col2\" >1</td>\n",
       "                        <td id=\"T_b6d8aa06_1a39_11ea_9380_a0a4c554f2a3row43_col3\" class=\"data row43 col3\" >36</td>\n",
       "                        <td id=\"T_b6d8aa06_1a39_11ea_9380_a0a4c554f2a3row43_col4\" class=\"data row43 col4\" >20</td>\n",
       "                        <td id=\"T_b6d8aa06_1a39_11ea_9380_a0a4c554f2a3row43_col5\" class=\"data row43 col5\" >121</td>\n",
       "                        <td id=\"T_b6d8aa06_1a39_11ea_9380_a0a4c554f2a3row43_col6\" class=\"data row43 col6\" >0</td>\n",
       "                        <td id=\"T_b6d8aa06_1a39_11ea_9380_a0a4c554f2a3row43_col7\" class=\"data row43 col7\" >33</td>\n",
       "                        <td id=\"T_b6d8aa06_1a39_11ea_9380_a0a4c554f2a3row43_col8\" class=\"data row43 col8\" >3</td>\n",
       "                        <td id=\"T_b6d8aa06_1a39_11ea_9380_a0a4c554f2a3row43_col9\" class=\"data row43 col9\" >45</td>\n",
       "                        <td id=\"T_b6d8aa06_1a39_11ea_9380_a0a4c554f2a3row43_col10\" class=\"data row43 col10\" >92</td>\n",
       "                        <td id=\"T_b6d8aa06_1a39_11ea_9380_a0a4c554f2a3row43_col11\" class=\"data row43 col11\" >50</td>\n",
       "                        <td id=\"T_b6d8aa06_1a39_11ea_9380_a0a4c554f2a3row43_col12\" class=\"data row43 col12\" >5</td>\n",
       "                        <td id=\"T_b6d8aa06_1a39_11ea_9380_a0a4c554f2a3row43_col13\" class=\"data row43 col13\" >128</td>\n",
       "                        <td id=\"T_b6d8aa06_1a39_11ea_9380_a0a4c554f2a3row43_col14\" class=\"data row43 col14\" >71</td>\n",
       "                        <td id=\"T_b6d8aa06_1a39_11ea_9380_a0a4c554f2a3row43_col15\" class=\"data row43 col15\" >95</td>\n",
       "                        <td id=\"T_b6d8aa06_1a39_11ea_9380_a0a4c554f2a3row43_col16\" class=\"data row43 col16\" >52</td>\n",
       "                        <td id=\"T_b6d8aa06_1a39_11ea_9380_a0a4c554f2a3row43_col17\" class=\"data row43 col17\" >22</td>\n",
       "                        <td id=\"T_b6d8aa06_1a39_11ea_9380_a0a4c554f2a3row43_col18\" class=\"data row43 col18\" >413</td>\n",
       "                        <td id=\"T_b6d8aa06_1a39_11ea_9380_a0a4c554f2a3row43_col19\" class=\"data row43 col19\" >375</td>\n",
       "                        <td id=\"T_b6d8aa06_1a39_11ea_9380_a0a4c554f2a3row43_col20\" class=\"data row43 col20\" >625</td>\n",
       "                        <td id=\"T_b6d8aa06_1a39_11ea_9380_a0a4c554f2a3row43_col21\" class=\"data row43 col21\" >792</td>\n",
       "                        <td id=\"T_b6d8aa06_1a39_11ea_9380_a0a4c554f2a3row43_col22\" class=\"data row43 col22\" >980</td>\n",
       "                        <td id=\"T_b6d8aa06_1a39_11ea_9380_a0a4c554f2a3row43_col23\" class=\"data row43 col23\" >837</td>\n",
       "                        <td id=\"T_b6d8aa06_1a39_11ea_9380_a0a4c554f2a3row43_col24\" class=\"data row43 col24\" >193</td>\n",
       "                        <td id=\"T_b6d8aa06_1a39_11ea_9380_a0a4c554f2a3row43_col25\" class=\"data row43 col25\" >17</td>\n",
       "                        <td id=\"T_b6d8aa06_1a39_11ea_9380_a0a4c554f2a3row43_col26\" class=\"data row43 col26\" >56</td>\n",
       "            </tr>\n",
       "            <tr>\n",
       "                        <th id=\"T_b6d8aa06_1a39_11ea_9380_a0a4c554f2a3level0_row44\" class=\"row_heading level0 row44\" >denne</th>\n",
       "                        <td id=\"T_b6d8aa06_1a39_11ea_9380_a0a4c554f2a3row44_col0\" class=\"data row44 col0\" >39</td>\n",
       "                        <td id=\"T_b6d8aa06_1a39_11ea_9380_a0a4c554f2a3row44_col1\" class=\"data row44 col1\" >126</td>\n",
       "                        <td id=\"T_b6d8aa06_1a39_11ea_9380_a0a4c554f2a3row44_col2\" class=\"data row44 col2\" >6</td>\n",
       "                        <td id=\"T_b6d8aa06_1a39_11ea_9380_a0a4c554f2a3row44_col3\" class=\"data row44 col3\" >51</td>\n",
       "                        <td id=\"T_b6d8aa06_1a39_11ea_9380_a0a4c554f2a3row44_col4\" class=\"data row44 col4\" >38</td>\n",
       "                        <td id=\"T_b6d8aa06_1a39_11ea_9380_a0a4c554f2a3row44_col5\" class=\"data row44 col5\" >87</td>\n",
       "                        <td id=\"T_b6d8aa06_1a39_11ea_9380_a0a4c554f2a3row44_col6\" class=\"data row44 col6\" >75</td>\n",
       "                        <td id=\"T_b6d8aa06_1a39_11ea_9380_a0a4c554f2a3row44_col7\" class=\"data row44 col7\" >60</td>\n",
       "                        <td id=\"T_b6d8aa06_1a39_11ea_9380_a0a4c554f2a3row44_col8\" class=\"data row44 col8\" >4</td>\n",
       "                        <td id=\"T_b6d8aa06_1a39_11ea_9380_a0a4c554f2a3row44_col9\" class=\"data row44 col9\" >33</td>\n",
       "                        <td id=\"T_b6d8aa06_1a39_11ea_9380_a0a4c554f2a3row44_col10\" class=\"data row44 col10\" >85</td>\n",
       "                        <td id=\"T_b6d8aa06_1a39_11ea_9380_a0a4c554f2a3row44_col11\" class=\"data row44 col11\" >43</td>\n",
       "                        <td id=\"T_b6d8aa06_1a39_11ea_9380_a0a4c554f2a3row44_col12\" class=\"data row44 col12\" >3</td>\n",
       "                        <td id=\"T_b6d8aa06_1a39_11ea_9380_a0a4c554f2a3row44_col13\" class=\"data row44 col13\" >58</td>\n",
       "                        <td id=\"T_b6d8aa06_1a39_11ea_9380_a0a4c554f2a3row44_col14\" class=\"data row44 col14\" >14</td>\n",
       "                        <td id=\"T_b6d8aa06_1a39_11ea_9380_a0a4c554f2a3row44_col15\" class=\"data row44 col15\" >22</td>\n",
       "                        <td id=\"T_b6d8aa06_1a39_11ea_9380_a0a4c554f2a3row44_col16\" class=\"data row44 col16\" >33</td>\n",
       "                        <td id=\"T_b6d8aa06_1a39_11ea_9380_a0a4c554f2a3row44_col17\" class=\"data row44 col17\" >15</td>\n",
       "                        <td id=\"T_b6d8aa06_1a39_11ea_9380_a0a4c554f2a3row44_col18\" class=\"data row44 col18\" >308</td>\n",
       "                        <td id=\"T_b6d8aa06_1a39_11ea_9380_a0a4c554f2a3row44_col19\" class=\"data row44 col19\" >281</td>\n",
       "                        <td id=\"T_b6d8aa06_1a39_11ea_9380_a0a4c554f2a3row44_col20\" class=\"data row44 col20\" >402</td>\n",
       "                        <td id=\"T_b6d8aa06_1a39_11ea_9380_a0a4c554f2a3row44_col21\" class=\"data row44 col21\" >393</td>\n",
       "                        <td id=\"T_b6d8aa06_1a39_11ea_9380_a0a4c554f2a3row44_col22\" class=\"data row44 col22\" >454</td>\n",
       "                        <td id=\"T_b6d8aa06_1a39_11ea_9380_a0a4c554f2a3row44_col23\" class=\"data row44 col23\" >355</td>\n",
       "                        <td id=\"T_b6d8aa06_1a39_11ea_9380_a0a4c554f2a3row44_col24\" class=\"data row44 col24\" >110</td>\n",
       "                        <td id=\"T_b6d8aa06_1a39_11ea_9380_a0a4c554f2a3row44_col25\" class=\"data row44 col25\" >17</td>\n",
       "                        <td id=\"T_b6d8aa06_1a39_11ea_9380_a0a4c554f2a3row44_col26\" class=\"data row44 col26\" >3</td>\n",
       "            </tr>\n",
       "            <tr>\n",
       "                        <th id=\"T_b6d8aa06_1a39_11ea_9380_a0a4c554f2a3level0_row45\" class=\"row_heading level0 row45\" >»</th>\n",
       "                        <td id=\"T_b6d8aa06_1a39_11ea_9380_a0a4c554f2a3row45_col0\" class=\"data row45 col0\" >97</td>\n",
       "                        <td id=\"T_b6d8aa06_1a39_11ea_9380_a0a4c554f2a3row45_col1\" class=\"data row45 col1\" >80</td>\n",
       "                        <td id=\"T_b6d8aa06_1a39_11ea_9380_a0a4c554f2a3row45_col2\" class=\"data row45 col2\" >6</td>\n",
       "                        <td id=\"T_b6d8aa06_1a39_11ea_9380_a0a4c554f2a3row45_col3\" class=\"data row45 col3\" >37</td>\n",
       "                        <td id=\"T_b6d8aa06_1a39_11ea_9380_a0a4c554f2a3row45_col4\" class=\"data row45 col4\" >89</td>\n",
       "                        <td id=\"T_b6d8aa06_1a39_11ea_9380_a0a4c554f2a3row45_col5\" class=\"data row45 col5\" >71</td>\n",
       "                        <td id=\"T_b6d8aa06_1a39_11ea_9380_a0a4c554f2a3row45_col6\" class=\"data row45 col6\" >124</td>\n",
       "                        <td id=\"T_b6d8aa06_1a39_11ea_9380_a0a4c554f2a3row45_col7\" class=\"data row45 col7\" >31</td>\n",
       "                        <td id=\"T_b6d8aa06_1a39_11ea_9380_a0a4c554f2a3row45_col8\" class=\"data row45 col8\" >3</td>\n",
       "                        <td id=\"T_b6d8aa06_1a39_11ea_9380_a0a4c554f2a3row45_col9\" class=\"data row45 col9\" >60</td>\n",
       "                        <td id=\"T_b6d8aa06_1a39_11ea_9380_a0a4c554f2a3row45_col10\" class=\"data row45 col10\" >275</td>\n",
       "                        <td id=\"T_b6d8aa06_1a39_11ea_9380_a0a4c554f2a3row45_col11\" class=\"data row45 col11\" >94</td>\n",
       "                        <td id=\"T_b6d8aa06_1a39_11ea_9380_a0a4c554f2a3row45_col12\" class=\"data row45 col12\" >19</td>\n",
       "                        <td id=\"T_b6d8aa06_1a39_11ea_9380_a0a4c554f2a3row45_col13\" class=\"data row45 col13\" >250</td>\n",
       "                        <td id=\"T_b6d8aa06_1a39_11ea_9380_a0a4c554f2a3row45_col14\" class=\"data row45 col14\" >62</td>\n",
       "                        <td id=\"T_b6d8aa06_1a39_11ea_9380_a0a4c554f2a3row45_col15\" class=\"data row45 col15\" >125</td>\n",
       "                        <td id=\"T_b6d8aa06_1a39_11ea_9380_a0a4c554f2a3row45_col16\" class=\"data row45 col16\" >10</td>\n",
       "                        <td id=\"T_b6d8aa06_1a39_11ea_9380_a0a4c554f2a3row45_col17\" class=\"data row45 col17\" >4</td>\n",
       "                        <td id=\"T_b6d8aa06_1a39_11ea_9380_a0a4c554f2a3row45_col18\" class=\"data row45 col18\" >257</td>\n",
       "                        <td id=\"T_b6d8aa06_1a39_11ea_9380_a0a4c554f2a3row45_col19\" class=\"data row45 col19\" >253</td>\n",
       "                        <td id=\"T_b6d8aa06_1a39_11ea_9380_a0a4c554f2a3row45_col20\" class=\"data row45 col20\" >437</td>\n",
       "                        <td id=\"T_b6d8aa06_1a39_11ea_9380_a0a4c554f2a3row45_col21\" class=\"data row45 col21\" >380</td>\n",
       "                        <td id=\"T_b6d8aa06_1a39_11ea_9380_a0a4c554f2a3row45_col22\" class=\"data row45 col22\" >416</td>\n",
       "                        <td id=\"T_b6d8aa06_1a39_11ea_9380_a0a4c554f2a3row45_col23\" class=\"data row45 col23\" >250</td>\n",
       "                        <td id=\"T_b6d8aa06_1a39_11ea_9380_a0a4c554f2a3row45_col24\" class=\"data row45 col24\" >92</td>\n",
       "                        <td id=\"T_b6d8aa06_1a39_11ea_9380_a0a4c554f2a3row45_col25\" class=\"data row45 col25\" >17</td>\n",
       "                        <td id=\"T_b6d8aa06_1a39_11ea_9380_a0a4c554f2a3row45_col26\" class=\"data row45 col26\" >121</td>\n",
       "            </tr>\n",
       "            <tr>\n",
       "                        <th id=\"T_b6d8aa06_1a39_11ea_9380_a0a4c554f2a3level0_row46\" class=\"row_heading level0 row46\" >:</th>\n",
       "                        <td id=\"T_b6d8aa06_1a39_11ea_9380_a0a4c554f2a3row46_col0\" class=\"data row46 col0\" >16</td>\n",
       "                        <td id=\"T_b6d8aa06_1a39_11ea_9380_a0a4c554f2a3row46_col1\" class=\"data row46 col1\" >216</td>\n",
       "                        <td id=\"T_b6d8aa06_1a39_11ea_9380_a0a4c554f2a3row46_col2\" class=\"data row46 col2\" >4</td>\n",
       "                        <td id=\"T_b6d8aa06_1a39_11ea_9380_a0a4c554f2a3row46_col3\" class=\"data row46 col3\" >28</td>\n",
       "                        <td id=\"T_b6d8aa06_1a39_11ea_9380_a0a4c554f2a3row46_col4\" class=\"data row46 col4\" >47</td>\n",
       "                        <td id=\"T_b6d8aa06_1a39_11ea_9380_a0a4c554f2a3row46_col5\" class=\"data row46 col5\" >56</td>\n",
       "                        <td id=\"T_b6d8aa06_1a39_11ea_9380_a0a4c554f2a3row46_col6\" class=\"data row46 col6\" >226</td>\n",
       "                        <td id=\"T_b6d8aa06_1a39_11ea_9380_a0a4c554f2a3row46_col7\" class=\"data row46 col7\" >43</td>\n",
       "                        <td id=\"T_b6d8aa06_1a39_11ea_9380_a0a4c554f2a3row46_col8\" class=\"data row46 col8\" >32</td>\n",
       "                        <td id=\"T_b6d8aa06_1a39_11ea_9380_a0a4c554f2a3row46_col9\" class=\"data row46 col9\" >9</td>\n",
       "                        <td id=\"T_b6d8aa06_1a39_11ea_9380_a0a4c554f2a3row46_col10\" class=\"data row46 col10\" >339</td>\n",
       "                        <td id=\"T_b6d8aa06_1a39_11ea_9380_a0a4c554f2a3row46_col11\" class=\"data row46 col11\" >121</td>\n",
       "                        <td id=\"T_b6d8aa06_1a39_11ea_9380_a0a4c554f2a3row46_col12\" class=\"data row46 col12\" >39</td>\n",
       "                        <td id=\"T_b6d8aa06_1a39_11ea_9380_a0a4c554f2a3row46_col13\" class=\"data row46 col13\" >150</td>\n",
       "                        <td id=\"T_b6d8aa06_1a39_11ea_9380_a0a4c554f2a3row46_col14\" class=\"data row46 col14\" >32</td>\n",
       "                        <td id=\"T_b6d8aa06_1a39_11ea_9380_a0a4c554f2a3row46_col15\" class=\"data row46 col15\" >41</td>\n",
       "                        <td id=\"T_b6d8aa06_1a39_11ea_9380_a0a4c554f2a3row46_col16\" class=\"data row46 col16\" >75</td>\n",
       "                        <td id=\"T_b6d8aa06_1a39_11ea_9380_a0a4c554f2a3row46_col17\" class=\"data row46 col17\" >30</td>\n",
       "                        <td id=\"T_b6d8aa06_1a39_11ea_9380_a0a4c554f2a3row46_col18\" class=\"data row46 col18\" >497</td>\n",
       "                        <td id=\"T_b6d8aa06_1a39_11ea_9380_a0a4c554f2a3row46_col19\" class=\"data row46 col19\" >741</td>\n",
       "                        <td id=\"T_b6d8aa06_1a39_11ea_9380_a0a4c554f2a3row46_col20\" class=\"data row46 col20\" >824</td>\n",
       "                        <td id=\"T_b6d8aa06_1a39_11ea_9380_a0a4c554f2a3row46_col21\" class=\"data row46 col21\" >757</td>\n",
       "                        <td id=\"T_b6d8aa06_1a39_11ea_9380_a0a4c554f2a3row46_col22\" class=\"data row46 col22\" >802</td>\n",
       "                        <td id=\"T_b6d8aa06_1a39_11ea_9380_a0a4c554f2a3row46_col23\" class=\"data row46 col23\" >782</td>\n",
       "                        <td id=\"T_b6d8aa06_1a39_11ea_9380_a0a4c554f2a3row46_col24\" class=\"data row46 col24\" >149</td>\n",
       "                        <td id=\"T_b6d8aa06_1a39_11ea_9380_a0a4c554f2a3row46_col25\" class=\"data row46 col25\" >17</td>\n",
       "                        <td id=\"T_b6d8aa06_1a39_11ea_9380_a0a4c554f2a3row46_col26\" class=\"data row46 col26\" >24</td>\n",
       "            </tr>\n",
       "            <tr>\n",
       "                        <th id=\"T_b6d8aa06_1a39_11ea_9380_a0a4c554f2a3level0_row47\" class=\"row_heading level0 row47\" >mere</th>\n",
       "                        <td id=\"T_b6d8aa06_1a39_11ea_9380_a0a4c554f2a3row47_col0\" class=\"data row47 col0\" >4</td>\n",
       "                        <td id=\"T_b6d8aa06_1a39_11ea_9380_a0a4c554f2a3row47_col1\" class=\"data row47 col1\" >66</td>\n",
       "                        <td id=\"T_b6d8aa06_1a39_11ea_9380_a0a4c554f2a3row47_col2\" class=\"data row47 col2\" >3</td>\n",
       "                        <td id=\"T_b6d8aa06_1a39_11ea_9380_a0a4c554f2a3row47_col3\" class=\"data row47 col3\" >12</td>\n",
       "                        <td id=\"T_b6d8aa06_1a39_11ea_9380_a0a4c554f2a3row47_col4\" class=\"data row47 col4\" >26</td>\n",
       "                        <td id=\"T_b6d8aa06_1a39_11ea_9380_a0a4c554f2a3row47_col5\" class=\"data row47 col5\" >23</td>\n",
       "                        <td id=\"T_b6d8aa06_1a39_11ea_9380_a0a4c554f2a3row47_col6\" class=\"data row47 col6\" >0</td>\n",
       "                        <td id=\"T_b6d8aa06_1a39_11ea_9380_a0a4c554f2a3row47_col7\" class=\"data row47 col7\" >0</td>\n",
       "                        <td id=\"T_b6d8aa06_1a39_11ea_9380_a0a4c554f2a3row47_col8\" class=\"data row47 col8\" >0</td>\n",
       "                        <td id=\"T_b6d8aa06_1a39_11ea_9380_a0a4c554f2a3row47_col9\" class=\"data row47 col9\" >19</td>\n",
       "                        <td id=\"T_b6d8aa06_1a39_11ea_9380_a0a4c554f2a3row47_col10\" class=\"data row47 col10\" >75</td>\n",
       "                        <td id=\"T_b6d8aa06_1a39_11ea_9380_a0a4c554f2a3row47_col11\" class=\"data row47 col11\" >23</td>\n",
       "                        <td id=\"T_b6d8aa06_1a39_11ea_9380_a0a4c554f2a3row47_col12\" class=\"data row47 col12\" >2</td>\n",
       "                        <td id=\"T_b6d8aa06_1a39_11ea_9380_a0a4c554f2a3row47_col13\" class=\"data row47 col13\" >23</td>\n",
       "                        <td id=\"T_b6d8aa06_1a39_11ea_9380_a0a4c554f2a3row47_col14\" class=\"data row47 col14\" >6</td>\n",
       "                        <td id=\"T_b6d8aa06_1a39_11ea_9380_a0a4c554f2a3row47_col15\" class=\"data row47 col15\" >12</td>\n",
       "                        <td id=\"T_b6d8aa06_1a39_11ea_9380_a0a4c554f2a3row47_col16\" class=\"data row47 col16\" >18</td>\n",
       "                        <td id=\"T_b6d8aa06_1a39_11ea_9380_a0a4c554f2a3row47_col17\" class=\"data row47 col17\" >12</td>\n",
       "                        <td id=\"T_b6d8aa06_1a39_11ea_9380_a0a4c554f2a3row47_col18\" class=\"data row47 col18\" >157</td>\n",
       "                        <td id=\"T_b6d8aa06_1a39_11ea_9380_a0a4c554f2a3row47_col19\" class=\"data row47 col19\" >159</td>\n",
       "                        <td id=\"T_b6d8aa06_1a39_11ea_9380_a0a4c554f2a3row47_col20\" class=\"data row47 col20\" >225</td>\n",
       "                        <td id=\"T_b6d8aa06_1a39_11ea_9380_a0a4c554f2a3row47_col21\" class=\"data row47 col21\" >190</td>\n",
       "                        <td id=\"T_b6d8aa06_1a39_11ea_9380_a0a4c554f2a3row47_col22\" class=\"data row47 col22\" >261</td>\n",
       "                        <td id=\"T_b6d8aa06_1a39_11ea_9380_a0a4c554f2a3row47_col23\" class=\"data row47 col23\" >209</td>\n",
       "                        <td id=\"T_b6d8aa06_1a39_11ea_9380_a0a4c554f2a3row47_col24\" class=\"data row47 col24\" >89</td>\n",
       "                        <td id=\"T_b6d8aa06_1a39_11ea_9380_a0a4c554f2a3row47_col25\" class=\"data row47 col25\" >16</td>\n",
       "                        <td id=\"T_b6d8aa06_1a39_11ea_9380_a0a4c554f2a3row47_col26\" class=\"data row47 col26\" >18</td>\n",
       "            </tr>\n",
       "            <tr>\n",
       "                        <th id=\"T_b6d8aa06_1a39_11ea_9380_a0a4c554f2a3level0_row48\" class=\"row_heading level0 row48\" >«</th>\n",
       "                        <td id=\"T_b6d8aa06_1a39_11ea_9380_a0a4c554f2a3row48_col0\" class=\"data row48 col0\" >96</td>\n",
       "                        <td id=\"T_b6d8aa06_1a39_11ea_9380_a0a4c554f2a3row48_col1\" class=\"data row48 col1\" >78</td>\n",
       "                        <td id=\"T_b6d8aa06_1a39_11ea_9380_a0a4c554f2a3row48_col2\" class=\"data row48 col2\" >6</td>\n",
       "                        <td id=\"T_b6d8aa06_1a39_11ea_9380_a0a4c554f2a3row48_col3\" class=\"data row48 col3\" >37</td>\n",
       "                        <td id=\"T_b6d8aa06_1a39_11ea_9380_a0a4c554f2a3row48_col4\" class=\"data row48 col4\" >90</td>\n",
       "                        <td id=\"T_b6d8aa06_1a39_11ea_9380_a0a4c554f2a3row48_col5\" class=\"data row48 col5\" >72</td>\n",
       "                        <td id=\"T_b6d8aa06_1a39_11ea_9380_a0a4c554f2a3row48_col6\" class=\"data row48 col6\" >121</td>\n",
       "                        <td id=\"T_b6d8aa06_1a39_11ea_9380_a0a4c554f2a3row48_col7\" class=\"data row48 col7\" >31</td>\n",
       "                        <td id=\"T_b6d8aa06_1a39_11ea_9380_a0a4c554f2a3row48_col8\" class=\"data row48 col8\" >7</td>\n",
       "                        <td id=\"T_b6d8aa06_1a39_11ea_9380_a0a4c554f2a3row48_col9\" class=\"data row48 col9\" >61</td>\n",
       "                        <td id=\"T_b6d8aa06_1a39_11ea_9380_a0a4c554f2a3row48_col10\" class=\"data row48 col10\" >280</td>\n",
       "                        <td id=\"T_b6d8aa06_1a39_11ea_9380_a0a4c554f2a3row48_col11\" class=\"data row48 col11\" >93</td>\n",
       "                        <td id=\"T_b6d8aa06_1a39_11ea_9380_a0a4c554f2a3row48_col12\" class=\"data row48 col12\" >18</td>\n",
       "                        <td id=\"T_b6d8aa06_1a39_11ea_9380_a0a4c554f2a3row48_col13\" class=\"data row48 col13\" >252</td>\n",
       "                        <td id=\"T_b6d8aa06_1a39_11ea_9380_a0a4c554f2a3row48_col14\" class=\"data row48 col14\" >62</td>\n",
       "                        <td id=\"T_b6d8aa06_1a39_11ea_9380_a0a4c554f2a3row48_col15\" class=\"data row48 col15\" >125</td>\n",
       "                        <td id=\"T_b6d8aa06_1a39_11ea_9380_a0a4c554f2a3row48_col16\" class=\"data row48 col16\" >11</td>\n",
       "                        <td id=\"T_b6d8aa06_1a39_11ea_9380_a0a4c554f2a3row48_col17\" class=\"data row48 col17\" >4</td>\n",
       "                        <td id=\"T_b6d8aa06_1a39_11ea_9380_a0a4c554f2a3row48_col18\" class=\"data row48 col18\" >265</td>\n",
       "                        <td id=\"T_b6d8aa06_1a39_11ea_9380_a0a4c554f2a3row48_col19\" class=\"data row48 col19\" >260</td>\n",
       "                        <td id=\"T_b6d8aa06_1a39_11ea_9380_a0a4c554f2a3row48_col20\" class=\"data row48 col20\" >446</td>\n",
       "                        <td id=\"T_b6d8aa06_1a39_11ea_9380_a0a4c554f2a3row48_col21\" class=\"data row48 col21\" >386</td>\n",
       "                        <td id=\"T_b6d8aa06_1a39_11ea_9380_a0a4c554f2a3row48_col22\" class=\"data row48 col22\" >423</td>\n",
       "                        <td id=\"T_b6d8aa06_1a39_11ea_9380_a0a4c554f2a3row48_col23\" class=\"data row48 col23\" >254</td>\n",
       "                        <td id=\"T_b6d8aa06_1a39_11ea_9380_a0a4c554f2a3row48_col24\" class=\"data row48 col24\" >94</td>\n",
       "                        <td id=\"T_b6d8aa06_1a39_11ea_9380_a0a4c554f2a3row48_col25\" class=\"data row48 col25\" >15</td>\n",
       "                        <td id=\"T_b6d8aa06_1a39_11ea_9380_a0a4c554f2a3row48_col26\" class=\"data row48 col26\" >116</td>\n",
       "            </tr>\n",
       "            <tr>\n",
       "                        <th id=\"T_b6d8aa06_1a39_11ea_9380_a0a4c554f2a3level0_row49\" class=\"row_heading level0 row49\" >maae</th>\n",
       "                        <td id=\"T_b6d8aa06_1a39_11ea_9380_a0a4c554f2a3row49_col0\" class=\"data row49 col0\" >0</td>\n",
       "                        <td id=\"T_b6d8aa06_1a39_11ea_9380_a0a4c554f2a3row49_col1\" class=\"data row49 col1\" >58</td>\n",
       "                        <td id=\"T_b6d8aa06_1a39_11ea_9380_a0a4c554f2a3row49_col2\" class=\"data row49 col2\" >0</td>\n",
       "                        <td id=\"T_b6d8aa06_1a39_11ea_9380_a0a4c554f2a3row49_col3\" class=\"data row49 col3\" >0</td>\n",
       "                        <td id=\"T_b6d8aa06_1a39_11ea_9380_a0a4c554f2a3row49_col4\" class=\"data row49 col4\" >0</td>\n",
       "                        <td id=\"T_b6d8aa06_1a39_11ea_9380_a0a4c554f2a3row49_col5\" class=\"data row49 col5\" >14</td>\n",
       "                        <td id=\"T_b6d8aa06_1a39_11ea_9380_a0a4c554f2a3row49_col6\" class=\"data row49 col6\" >0</td>\n",
       "                        <td id=\"T_b6d8aa06_1a39_11ea_9380_a0a4c554f2a3row49_col7\" class=\"data row49 col7\" >14</td>\n",
       "                        <td id=\"T_b6d8aa06_1a39_11ea_9380_a0a4c554f2a3row49_col8\" class=\"data row49 col8\" >0</td>\n",
       "                        <td id=\"T_b6d8aa06_1a39_11ea_9380_a0a4c554f2a3row49_col9\" class=\"data row49 col9\" >0</td>\n",
       "                        <td id=\"T_b6d8aa06_1a39_11ea_9380_a0a4c554f2a3row49_col10\" class=\"data row49 col10\" >0</td>\n",
       "                        <td id=\"T_b6d8aa06_1a39_11ea_9380_a0a4c554f2a3row49_col11\" class=\"data row49 col11\" >0</td>\n",
       "                        <td id=\"T_b6d8aa06_1a39_11ea_9380_a0a4c554f2a3row49_col12\" class=\"data row49 col12\" >0</td>\n",
       "                        <td id=\"T_b6d8aa06_1a39_11ea_9380_a0a4c554f2a3row49_col13\" class=\"data row49 col13\" >0</td>\n",
       "                        <td id=\"T_b6d8aa06_1a39_11ea_9380_a0a4c554f2a3row49_col14\" class=\"data row49 col14\" >0</td>\n",
       "                        <td id=\"T_b6d8aa06_1a39_11ea_9380_a0a4c554f2a3row49_col15\" class=\"data row49 col15\" >0</td>\n",
       "                        <td id=\"T_b6d8aa06_1a39_11ea_9380_a0a4c554f2a3row49_col16\" class=\"data row49 col16\" >0</td>\n",
       "                        <td id=\"T_b6d8aa06_1a39_11ea_9380_a0a4c554f2a3row49_col17\" class=\"data row49 col17\" >5</td>\n",
       "                        <td id=\"T_b6d8aa06_1a39_11ea_9380_a0a4c554f2a3row49_col18\" class=\"data row49 col18\" >159</td>\n",
       "                        <td id=\"T_b6d8aa06_1a39_11ea_9380_a0a4c554f2a3row49_col19\" class=\"data row49 col19\" >164</td>\n",
       "                        <td id=\"T_b6d8aa06_1a39_11ea_9380_a0a4c554f2a3row49_col20\" class=\"data row49 col20\" >220</td>\n",
       "                        <td id=\"T_b6d8aa06_1a39_11ea_9380_a0a4c554f2a3row49_col21\" class=\"data row49 col21\" >185</td>\n",
       "                        <td id=\"T_b6d8aa06_1a39_11ea_9380_a0a4c554f2a3row49_col22\" class=\"data row49 col22\" >254</td>\n",
       "                        <td id=\"T_b6d8aa06_1a39_11ea_9380_a0a4c554f2a3row49_col23\" class=\"data row49 col23\" >260</td>\n",
       "                        <td id=\"T_b6d8aa06_1a39_11ea_9380_a0a4c554f2a3row49_col24\" class=\"data row49 col24\" >73</td>\n",
       "                        <td id=\"T_b6d8aa06_1a39_11ea_9380_a0a4c554f2a3row49_col25\" class=\"data row49 col25\" >14</td>\n",
       "                        <td id=\"T_b6d8aa06_1a39_11ea_9380_a0a4c554f2a3row49_col26\" class=\"data row49 col26\" >0</td>\n",
       "            </tr>\n",
       "    </tbody></table>"
      ],
      "text/plain": [
       "<pandas.io.formats.style.Styler at 0x21de1ef19e8>"
      ]
     },
     "execution_count": 30,
     "metadata": {},
     "output_type": "execute_result"
    }
   ],
   "source": [
    "nb.frame_sort(kilder_dtm, 'NBkilder_Koren_1815.xml').head(50).style.background_gradient()"
   ]
  },
  {
   "cell_type": "code",
   "execution_count": 38,
   "metadata": {},
   "outputs": [
    {
     "name": "stdout",
     "output_type": "stream",
     "text": [
      "4. september 1867\n",
      "Kjere Bjørnson .\n",
      "Da jeg hørte De var i Kjøbenhavn , kom det mig som et Vink fra Oven , at henvende mig til Dem .\n",
      "Kan De ikke redde mig af min Nød ? . . den dobbelte , at se sit aandelige Arbeide spildt og se sig skuffet for den jordiske materielle Løn derfor , hvilken Sidste vi saa gjerne ville ignorere om vi kunde , vilde overse som noget Ringe , indtil vi en vakker Dag mærke at vor hele Existenz afhænger af den , og at vi bedre kunne undvære Æren , end et Par fattige lumpne hundrede Daler .\n",
      "For at sætte Dem korteligt ind i dette , vil jeg sige Dem , at siden min Søn EmilsEmil Collett ( 1848 – 1904 ) Anbringelse paa fremmet Sted , samtidig med uopfyldte Forpligtelser fra Andres Side ( TønsbergHenning B. Tønsberg ( 1837 – 81 ) samme Høst 120 Spd ) jeg har jeg maattet lære hvad Nød og Forlegenhed , lammet Livsmod og Virksomhed vil sige . Det var blot i gamle Dage at Digterne kunde leve af Maaneskin og Skovluft men de have taget Recepten til denne Kunst med i Graven , thi vist er det at vi ikke kjende den .\n",
      "Med stor Anstrengelse har jeg midt under denne Lammelse , knuget af den haarde Vinter , forberedt min lille Bogmin lille Bog ] « Sidste Blade . Erindinger og Bekjendelser » ( 1868 ) til Trykken . Den vil indeholde Skildringer og Digte . Ligeledes har jeg , hvad vigtigere er , forberedende ordnet min Mands skriftlige Efterladenskaber der vil blive en langt større , vægtigere Bog end min , begge i Haab om at erholde Midler til at løse mig ud herfra , for at kunne søge en lille Havn blandt Fremmede under Vilkaar , der vare mindre haarde og kuende end dem i Hjemmet , hvor nu paa en Maade min hele huslige Existenz er oprykket siden min sidste Søn drog ud – – – ( mindre fjern mig dog , end de Andre der have fæstet sig til rige Slægtninge ! )\n",
      "Tiden gaar , snart bliver det for sent . Siden jeg kom hjem fra en 3 Ugers Ferie paa Jarlsberg har jeg neppe et Fodfæste her , da mit Logi , allerede tidlig opsagt , blev snappet bort af en anden Leier og mit Bohave bortflyttet . De kjere Bjørnson , maa hjelpe mig . Dem maatte det lykkes at skaffe mig en Forlægger i Kjøbenh . til begge disse Bøger , og paa Betingelser der snarlig kunde bringe mig Hjelpen .\n",
      "Der er vistnok allerede gjort Forsøg derpaa , men ikke med saadan Vægt , d v s . understøttet af saadanne Garantier , at man kunde opnaa andet end ubestemte Svar . En anden Magt vilde den mundtlige Underhandling kunne have , helst naar den pleiedes af en Mand som Bjørnson der har stor Indflydelse dernede .\n",
      "For eget Vedkommende kan jeg , hvis kun henvise til mine tidligere trykte Arbeider , og den Modtagelse de have faaet . Den har altid været omtrent den samme ; det sidste bedømtes maaske mest velvilligt . Jeg har kun en Maade at arbeide paa : bestræbe mig for i færreste Ord at sige saameget som muligt . Det er en temmelig ufordelagtig Maade , og jeg har i Grunden ikke Raad til den . De bedre Læsere ville dog vurdere den og vide En Tak for at man sparer deres Tid , saa at de i 3 – 4 Ark kunne faa det samme Kvantum Indhold som en svensk eller tydsk Vielschreiberinne magelig kunde udtvære i 20 . Men De har selv bedste Bjørnson , gjort Dem bekjendt med en Prøve af min Bog , som De maaske ikke finder uværdig til at grunde en Anbefalingpaa , ( der i Deres Mund vil have særdeles Vægt ) – hvis en saadan yderligere Garanti skulde forlanges .\n",
      "« Jonas Colletts efterladte Skrifter » ville fornemmelig komme til at bestaa af Breve fra Udlandet : Paris München , Venedig , Rom , Kjøbenh . – Christiania – foruden nogle forhen trykte , dels æsthetiske , dels kritiske Opsatser – endvidere endel Digte . Af disse Breve eier jeg omtrent 300 . Efter mine Tanker kunde de Alle , lige til det mindste Blad fortjene at offentliggjøres . Men mangehaande Hensyn forbyder naturligvis dette , og sætter store Indskrænkninger . De have alle en stor Formskjønhed og en egen Ynde i Stilen , og udtale hans Tids Raisonnements over sin Tids Tilstande og Begivenheder paa en overlegen men meget temmelig skarp Maade , altimedens dog hans varmeste , dybeste Følelsesliv ogsaa bryder frem . Hartvig LassenHartvig Lassen ( 1824 – 97 ) var meget indtaget i de Prøver jeg lod ham se , og det vilde være mig en let Sag at faa hans varme Anbefaling , ligesom jeg er vis paa , at Colletts endnu levende danske Venner , hvoriblandt Folk som WintherChristian Winther ( 1796 – 1876 ) , Paludan MøllerFrederik Paludan-Müller ( 1809 – 76 ) , HauchJohannes Carsten Hauch ( 1790 – 1872 ) , PlougCarl Parmo Ploug ( 1813 – 94 ) , GjødvadJens Finsteen Giødwad ( 1811 – 91 ) , KriegerAndreas Frederik Krieger ( 1817 – 93 ) , Fru HeibergJohanne Luise Heiberg ( 1812 – 90 ) , om jeg henvendte mig til DemDem ] trolig feil for dem , gjerne med sin Stemme vilde understøtte dette Foretagende . Jeg vedlægger et lille Digt som jeg tænkte maaske kunde udfylde en Fortales Plads . Sig mig om De tror det gaar an . Det er min inderlige , af alle partiske Hensyn uafhængige Overbevisning at Colletts Bog vil gjøre Lykke .\n",
      "Bedste Bjørnson ! Skaf mig en Forlægger til disse stakkels , ellers Forglemmelsen og Tilintetgjørelsen hjemfaldne Manuscripter . Paa en Maade staar og falder jeg selv med DemDem ] trolig feil for dem . Faar jeg dem ikke snarest muligt solgt til mod et anstændigt Honorar , saa er jeg ogsaa « solgt » og man kan kaste mig i Ovnen med dem .\n",
      "Med et anstændigt Honorar mener jeg 15 Spd Arket . Er det ubeskedent ? Det er det mindste der nogensinde blev budt mig og betalt for mine Bøger , ( I de l . N. ) I de l . N. ] I de lange Nætter ( 1863 ) af Cappelen , fordi det var neppe 14 Dage før Jul , altsaa i seneste Lag . Det er tror jeg , ogsaa detdet ] trolig feil for den almindelige Norm nede i Danmark . Under denne Pris , 15 Spd Arket , i samme Format som mine tidligere her udkomne Bøger , nemlig paa 26 Linier Spalten lønner det sig ikke for mig at skrive , da jeg som sagt anvender denne minutiøse Omhyggelighed paa Formen , og som ikke har lært den Kunst at være vidtløftig .\n",
      "Den unge Tønsberg har plaget mig meget for at faa et Bidrag til hans Boghans Bog ] antologien Ved Løvfaldstid ( 1867 ) . Jeg blev tilsidst nødt til at tage et Stykke ud af mit eget Manuscript , med den lovende Udsigt maaske Intet at faa derfor . Jeg valgte « Billeder fra Christiania i 5 Breve » hvori meget om Theatret fordi disse taale mindst at gjemmes forlænge .\n",
      "Deres StykkeDeres Stykke ] trolig De Nygifte ( 1865 ) , har som jeg hører gjort stor Lykke , hvortil jeg hjertelig lykønsker Dem . Vi Norske trænge til Alt hvad Fremmede kunne yde os . Vi maa varmes ved fremmede Barme skulle vi kunne friste Livet .\n",
      "Venligst Hilsen til Deres KoneKaroline Bjørnson ( 1835 – 1934 ) . Hvorledes hun befinder sig ( ? ! ) Hvad Planer der ere fattede for Vinteren ( Italien ? Kjøbenhavn ? ) ja dette vilde interessere mig at vide , og et Par Ord derom , naar De , som jeg haaber lader høre fra Dem , vilde glæde\n",
      "Deres forbundne Camilla C.\n",
      "Jeg venter kun et Vink dernede fra . Hvis jeg faar et saadant antageligt Tilbud , tager jeg snarest muligt ned til Kjøbenhavn for selv at lede Trykningen og corrigere , om ønskes . Derfra drager jeg da syd paa . Jeg kan kun afhænde Manuscripterne mod contant Honorar . Jeg kan det ikke anderledes . Gud være med dem !\n",
      "27. september 1867\n",
      "Kjære Bjørnstjerne Bjørnson !\n",
      "De takker mig for den Tillid jeg viser Dem , ja , i detsamme blev jeg mig bevidst at jeg havde den , at jeg kunde havt Mistillid , netop her . Det kommer ikke af at Andre ikke tilstrækkelig har ægget denne ved Forestillinger og Fremstillinger som det vil være ganske overflødigt at gjentage for Dem , men det kommer af at jeg selv er næsten stupid uimodtagelig for det man kalder PartilidenskabPartilidenskab ] rettet fra Partilidenskaber ved overskriving har ondt for at forudsætte den for Andre . Jeg har i det hele ondt for Mistillid , og De Bjørnson vækker den ikke .\n",
      "Da Tiden var kort til megen Brevvexling , bestræbte jeg mig i forrige Brev at imødegaa saavidt som muligt Tvivl og Spørgsmaal . Jeg fortalte dog ikke at jeg allerede før har henvendt mig til HegelFrederik V. Hegel ( 1817 – 87 ) , sendte ham i Vaar engang som Prøve paa mit lille , ham tilbudte Arbeide 3 a 4 Stykker . Paa dette modtog jeg et særdeles høfligt og artigt – Afslag hvortil han angav en praktisk Grund – for sent , for tidlig ? at vove noget – Voveligt : i det Hele fik jeg Indtrykket af at det var Hr Hegels æsthetiske Formening at det jeg bød ham , var noget Jux , som sandsynligt blot vilde volde ham Tab hvis han indlod sig dermed . Hvorvidt det nu kan fordrages med den Smule Forfatterstolthet – der endnu kan være levnet En – at forfølge Sagen videre , om her kan være Misforstaaelser at løse , om man overhovedet har skal bringe nogen Stolthed med og ikke lade den være ganske hjemme ved saadanne Tilfælder , det overlader jeg til Dem at afgjøre , som jeg i det Hele tror at De vil raade mig det Bedste .\n",
      "I Anledning Deres Oplysning ang . Honorar , og at dette retter sig efter Oplagets Størrelse , da blive en Berigtigelse fra min Side maaske nødvendig . Naar jeg har nævnt et Honorar i Lighed med det flere norske Forfattere har af Hegel ( 15 Spd Arket ) saa har jeg ikke ment dermed for Oplaget , men en Gang forResten av brevet er tapt .\n",
      "[ 27. oktober 1867 ]\n",
      "Hr Bjørnstjerne Bjørnson !\n",
      "Efter et høist anstrengende Gjennemsyn af Colletts Breve , gik jeg i Gaar hen til HegelFrederik V. Hegel ( 1817 – 87 ) for at treffe Aftale med ham med Hensyn til Bøgerne , grundet paa det bestemte Tilsagn jeg har erholdt gjennem Dem – men blev meget overrasket ved igjen at blive tilbagevist . En saadan Behandling kræver en Forklaring som jeg tror mig berettiget til at forlange af Bjørnson .\n",
      "Vel har Hegel med Hensyn til Colletts Bog , givet et ubestemt Løfte , og har beholdt de Breve jeg gav ham til Prøve . Næsten mere krænkende bliver dette for mig – den eneste af de norske Forfattere der paa denne Maade er begegnetbegegnet ] behandlet ( ODS ) .\n",
      "Hvad vil jeg tale om Krænkelser ! min hele øieblikkelige Existenz afhang [ af ] at jeg strax hernede fik min lille Bog forlagt og betalt , for derved at vinde Kræfter og Midler til den langt vanskeligere Opgave der forelaa mig , at bringe Colletts Bog Manuscripter istand til Trykken . Lokket som jeg i Sandhed var ved Deres Brev kan jeg nu hverken frem eller tilbage .\n",
      "Jeg sidder her alene , langt fra MineMine ] rettet fra mine ved overskriving , fuldstændig mod- og raadløs – og skulde saa gjerne , orgløsorgløs ] orkløs , orkeløs = kraftløs , svak ( ODS ) som jeg maaske for meget er – drage ud til Dem for at høre Deres Tanker om dette – men De ved nok Bjørnson , at hverken De eller Deres Frue har nogensinde opmuntret mine Besøg hos Dem , jeg kan ikke i dette Øieblik finde Frihed til at gjøre det . Min venligste Hilsen forresten .\n",
      "Camilla Collett .\n",
      "12. november 1867\n",
      "Hr Bjørnstjerne Bjørnson !\n",
      "Da jeg maa udlede af Deres Forhold at det Dem til Aftrykning i Folkebladet tilsendte Digt : « Til Hedevig » , ikke benyttes , saa er jeg saa fri at gjentage min Anmodning om snarest at faa det tilbagesendt .\n",
      "Jeg vil bede Dem ikke glemme at Forslag og Tilbud oprindelig kom fra Dem , og at kun Omstændigheder har tvunget mig til her at møde Dem .\n",
      "Camilla Collett .\n",
      "17. november 1867\n",
      "Hr Bjørnstjerne Bjørnson !\n",
      "Da jeg sendte Dem hin Sanghin Sang ] Til Hedevig , har jeg i høfligste Udtryk , bedet Dem , hvis De ikke benyttede den ( derfor kunde der være kommet uforudsete Hindringer ) da strax at sende mig den tilbage .\n",
      "Mit Arrangement med Hegel bød , at jeg ordnede og forseglede alt hvad han skulde have . Jeg ventede i 10 Dage uden at værdiges et Brev , og jeg skulde reise .\n",
      "Jeg gjentog min Anmodning og faar Deres Skrivelse , der i en Grad har forbauset mig , at jeg endnu maa tvivle paa at den er stilet til mig .\n",
      "Der er noget uskjønsomt , ubearbeidet i Deres Natur . Alle Egenskaber og Eiendommeligheder hos et Menneske kan man haabe at overvinde , naar man vil vindet det , men Utaknemlighed støder Guder og Mennesker bort .\n",
      "Der var en Tid da De oppe hos os var mere ubefæstet end De nu er , hvor jeg efter Evne kjæmpede for Dem og søgte at bane Dem Vei . Jeg beundrede Deres Evner og følte mig grebet af det friske Liv der vældede ud af hvert nyt Skrift , jeg troede paa noget tilsvarende i Deres Karakter og Personlighed . Smigre aabenlyst kunde jeg ikke , kan det ikke . Har jeg nævnt Dem flygtig i et Skrift , har det været et ironisk EchoEcho ] rettet fra Ecco ved overskriving af Andres Opfatning af Dem , jeg tog mig selv med.\n",
      "Samtidig rev De mig aabenlyst ned , hernede i Danmark , og gjorde alt for at vække Mistro mod mig . Den « stygge Bog » spøgte endnu fornylig igjen i Hr Sødringsikke identifisert Korresspondance .\n",
      "Hvad jeg har erfaret hernede er kun en Gjentagelse .\n",
      "Deres Brev er saa enestaaende , ja en saadan Plet paa Dem , at jeg vilde skamme mig som Landsmand om Nogen Fremmet erfor derom .\n",
      "Men jeg sender det til mine Sønner , der engang skulle vide at drage Dem til Regnskab for hvad De deri tillader Dem at sige mig . Hvert Ord skrevet til Dem , har jeg heldigvis Afskrift af .\n",
      "Ingen Forklaring , intet Brev fra Deres Haand modtages mere .\n",
      "Jeg er Ene og ubeskyttet mod den Slags Angreb .\n",
      "Camilla Collett .\n",
      "Kjøbenh . den 17 Nov . 1867.\n",
      "Sangen , tilbudt Dem under andre Forudsætninger , vil jeg helst have tilbage . Det beror paa Dem om De vil komme et Ønske imøde , og i saa Fald behage De at nedlægge den hos Hegel .\n"
     ]
    }
   ],
   "source": [
    "print('\\n'.join([' '.join(y) for y in kilder_korpus['NBkilder_Collett_Brev_til_Bjornson.xml']]))"
   ]
  },
  {
   "cell_type": "code",
   "execution_count": 120,
   "metadata": {},
   "outputs": [
    {
     "data": {
      "text/plain": [
       "{'NBkilder_Amundsen_Slededagbok.xml': [(108, [381]), (219, [112])],\n",
       " 'NBkilder_Collett_Brev_1841-51.xml': [(186, [187]),\n",
       "  (247, [20]),\n",
       "  (270, [901])],\n",
       " 'NBkilder_Collett_Brev_til_Bjornson.xml': [(16, [54])],\n",
       " 'NBkilder_Collett_Brev_til_Ibsen.xml': [(102, [32]), (151, [15])],\n",
       " 'NBkilder_Collett_Brev_til_Lie.xml': [(4, [65]),\n",
       "  (17, [165]),\n",
       "  (19, [66]),\n",
       "  (52, [268])],\n",
       " 'NBkilder_Collett_Skildpadde.xml': [(27, [850])],\n",
       " 'NBkilder_Dardel_Voyage.xml': [],\n",
       " 'NBkilder_Grunnlovskilder1814.xml': [],\n",
       " 'NBkilder_Kjerulf_1833.xml': [],\n",
       " 'NBkilder_Kjerulf_1840.xml': [],\n",
       " 'NBkilder_Kjerulf_1850.xml': [(165, [43]), (246, [716])],\n",
       " 'NBkilder_Kjerulf_1851.xml': [(69, [290])],\n",
       " 'NBkilder_Kjerulf_1852.xml': [],\n",
       " 'NBkilder_KKielland_AGarborg_brev.xml': [(50, [47]),\n",
       "  (72, [721]),\n",
       "  (123, [118]),\n",
       "  (215, [850]),\n",
       "  (275, [66]),\n",
       "  (309, [135]),\n",
       "  (334, [52]),\n",
       "  (432, [108])],\n",
       " 'NBkilder_KKielland_DSkavlan_brev.xml': [(102, [513])],\n",
       " 'NBkilder_KKielland_EPeterssen_brev.xml': [(68, [273]),\n",
       "  (114, [470, 521]),\n",
       "  (133, [556]),\n",
       "  (157, [238])],\n",
       " 'NBkilder_Koren_1798.xml': [(4, [74]), (15, [661])],\n",
       " 'NBkilder_Koren_1805.xml': [],\n",
       " 'NBkilder_Koren_1808.xml': [(153, [8]),\n",
       "  (154, [109]),\n",
       "  (166, [247]),\n",
       "  (262, [400]),\n",
       "  (363, [40]),\n",
       "  (364, [28, 38]),\n",
       "  (384, [174]),\n",
       "  (510, [115]),\n",
       "  (540, [45]),\n",
       "  (550, [19]),\n",
       "  (724, [201]),\n",
       "  (778, [128]),\n",
       "  (798, [135]),\n",
       "  (801, [60]),\n",
       "  (807, [163])],\n",
       " 'NBkilder_Koren_1809.xml': [(49, [71]),\n",
       "  (59, [58, 66, 88]),\n",
       "  (73, [188]),\n",
       "  (181, [125]),\n",
       "  (284, [75]),\n",
       "  (286, [25, 44]),\n",
       "  (312, [113]),\n",
       "  (357, [47]),\n",
       "  (397, [232]),\n",
       "  (455, [14]),\n",
       "  (458, [47]),\n",
       "  (485, [69]),\n",
       "  (534, [162]),\n",
       "  (560, [285]),\n",
       "  (623, [75]),\n",
       "  (673, [140]),\n",
       "  (675, [109]),\n",
       "  (684, [108]),\n",
       "  (942, [26])],\n",
       " 'NBkilder_Koren_1810.xml': [(47, [562]),\n",
       "  (111, [147]),\n",
       "  (123, [203]),\n",
       "  (136, [329]),\n",
       "  (168, [43]),\n",
       "  (463, [111]),\n",
       "  (474, [443]),\n",
       "  (575, [102]),\n",
       "  (704, [284]),\n",
       "  (750, [91]),\n",
       "  (821, [228]),\n",
       "  (828, [98]),\n",
       "  (898, [253]),\n",
       "  (943, [460]),\n",
       "  (1037, [10])],\n",
       " 'NBkilder_Koren_1811.xml': [(56, [285]),\n",
       "  (131, [3]),\n",
       "  (172, [48]),\n",
       "  (273, [102]),\n",
       "  (302, [124]),\n",
       "  (332, [404]),\n",
       "  (362, [325]),\n",
       "  (363, [42]),\n",
       "  (370, [115]),\n",
       "  (382, [128]),\n",
       "  (432, [82]),\n",
       "  (449, [616]),\n",
       "  (459, [70]),\n",
       "  (475, [96]),\n",
       "  (504, [120]),\n",
       "  (551, [215]),\n",
       "  (578, [36]),\n",
       "  (598, [145]),\n",
       "  (636, [499]),\n",
       "  (652, [45]),\n",
       "  (667, [5]),\n",
       "  (779, [104]),\n",
       "  (780, [86]),\n",
       "  (826, [173])],\n",
       " 'NBkilder_Koren_1812.xml': [(11, [110]),\n",
       "  (55, [214]),\n",
       "  (63, [290]),\n",
       "  (70, [567, 1018]),\n",
       "  (159, [198]),\n",
       "  (226, [92]),\n",
       "  (234, [75]),\n",
       "  (263, [103]),\n",
       "  (332, [308]),\n",
       "  (379, [45]),\n",
       "  (457, [310]),\n",
       "  (466, [236]),\n",
       "  (498, [39]),\n",
       "  (501, [129]),\n",
       "  (502, [35]),\n",
       "  (548, [514]),\n",
       "  (619, [164]),\n",
       "  (767, [17]),\n",
       "  (778, [58, 78]),\n",
       "  (810, [41]),\n",
       "  (920, [122])],\n",
       " 'NBkilder_Koren_1813.xml': [(3, [6]),\n",
       "  (4, [62]),\n",
       "  (48, [203]),\n",
       "  (135, [414]),\n",
       "  (208, [257]),\n",
       "  (265, [83]),\n",
       "  (294, [152]),\n",
       "  (328, [183]),\n",
       "  (353, [192]),\n",
       "  (359, [151]),\n",
       "  (425, [1078]),\n",
       "  (547, [45]),\n",
       "  (570, [374]),\n",
       "  (605, [495]),\n",
       "  (621, [61]),\n",
       "  (630, [177]),\n",
       "  (649, [152]),\n",
       "  (663, [86]),\n",
       "  (708, [208]),\n",
       "  (745, [39]),\n",
       "  (759, [125])],\n",
       " 'NBkilder_Koren_1814.xml': [(2, [101, 108]),\n",
       "  (43, [101]),\n",
       "  (97, [290]),\n",
       "  (142, [30]),\n",
       "  (154, [485]),\n",
       "  (189, [244]),\n",
       "  (198, [231]),\n",
       "  (208, [15]),\n",
       "  (211, [108]),\n",
       "  (213, [71])],\n",
       " 'NBkilder_Koren_1815.xml': [(6, [183])],\n",
       " 'NBkilder_Undset_Fragmenter.xml': []}"
      ]
     },
     "execution_count": 120,
     "metadata": {},
     "output_type": "execute_result"
    }
   ],
   "source": [
    "actual_konk = konk(['anderledes'], kilder_korpus)\n",
    "actual_konk"
   ]
  },
  {
   "cell_type": "code",
   "execution_count": 64,
   "metadata": {},
   "outputs": [],
   "source": [
    "from IPython.display import display, Markdown"
   ]
  },
  {
   "cell_type": "code",
   "execution_count": 111,
   "metadata": {},
   "outputs": [],
   "source": [
    "def korpus_konk(phrase, korpus, before = 10, after = 10):\n",
    "    actual_konk = konk(phrase, korpus)\n",
    "    result = [\"### Konkordanser for *\" + ' '.join(phrase) + \"*\" ]\n",
    "    for i in actual_konk:\n",
    "        if actual_konk[i] != []:\n",
    "            header = \"#### \" + str(i)\n",
    "            result.append(header)\n",
    "            for hit in actual_konk[i]:\n",
    "                para = hit[0]\n",
    "                parahits = hit[1]\n",
    "                konkstring = []\n",
    "                for y in parahits:\n",
    "                    konkstring.append(str(para) + \": \" + ' '.join(korpus[i][para][y - before : y+after]))\n",
    "                result += konkstring\n",
    "    return result"
   ]
  },
  {
   "cell_type": "code",
   "execution_count": 121,
   "metadata": {
    "scrolled": false
   },
   "outputs": [
    {
     "data": {
      "text/markdown": [
       "### Konkordanser for *jeg er*"
      ],
      "text/plain": [
       "<IPython.core.display.Markdown object>"
      ]
     },
     "metadata": {},
     "output_type": "display_data"
    },
    {
     "data": {
      "text/markdown": [
       "#### NBkilder_Collett_Brev_1841-51.xml"
      ],
      "text/plain": [
       "<IPython.core.display.Markdown object>"
      ]
     },
     "metadata": {},
     "output_type": "display_data"
    },
    {
     "data": {
      "text/markdown": [
       "6: at han er saa lykkelig , og at jeg er saa elskværdig mod ham . Jeg"
      ],
      "text/plain": [
       "<IPython.core.display.Markdown object>"
      ]
     },
     "metadata": {},
     "output_type": "display_data"
    },
    {
     "data": {
      "text/markdown": [
       "6: saa elskværdig mod ham . Jeg troer ogsaa jeg er det , men hvorledes skulde det"
      ],
      "text/plain": [
       "<IPython.core.display.Markdown object>"
      ]
     },
     "metadata": {},
     "output_type": "display_data"
    },
    {
     "data": {
      "text/markdown": [
       "82: troe ikke jeg knurrer engang – men naar jeg er færdig er jeg erschöpft , erschöpft"
      ],
      "text/plain": [
       "<IPython.core.display.Markdown object>"
      ]
     },
     "metadata": {},
     "output_type": "display_data"
    },
    {
     "data": {
      "text/markdown": [
       "88: Bedste , Ædleste som gives , og at jeg er det Eneste han elsker . Hvilken"
      ],
      "text/plain": [
       "<IPython.core.display.Markdown object>"
      ]
     },
     "metadata": {},
     "output_type": "display_data"
    },
    {
     "data": {
      "text/markdown": [
       "94: aldrig . kunde være tilfreds , jeg føler jeg er det i Grunden hans Kjerlighed kan"
      ],
      "text/plain": [
       "<IPython.core.display.Markdown object>"
      ]
     },
     "metadata": {},
     "output_type": "display_data"
    },
    {
     "data": {
      "text/markdown": [
       "95: paa den Maade men jeg føler dybt at jeg er begunstigt fremfor 1000 og det giver"
      ],
      "text/plain": [
       "<IPython.core.display.Markdown object>"
      ]
     },
     "metadata": {},
     "output_type": "display_data"
    },
    {
     "data": {
      "text/markdown": [
       "114: saa godt som det efter Omstændighederne kunde , jeg er virkelig glad i Udbyttet – at"
      ],
      "text/plain": [
       "<IPython.core.display.Markdown object>"
      ]
     },
     "metadata": {},
     "output_type": "display_data"
    },
    {
     "data": {
      "text/markdown": [
       "116: et Ord om Dig og mig . Da jeg er Frue , maae jeg have Forrangen"
      ],
      "text/plain": [
       "<IPython.core.display.Markdown object>"
      ]
     },
     "metadata": {},
     "output_type": "display_data"
    },
    {
     "data": {
      "text/markdown": [
       "138: – dog det sidste er uvist – ja jeg er ikke engang ganske vis paa Fuglestegen"
      ],
      "text/plain": [
       "<IPython.core.display.Markdown object>"
      ]
     },
     "metadata": {},
     "output_type": "display_data"
    },
    {
     "data": {
      "text/markdown": [
       "148: Breve min C. overgaae imidlertid endnu mine , jeg er villig til at erkjende dette ."
      ],
      "text/plain": [
       "<IPython.core.display.Markdown object>"
      ]
     },
     "metadata": {},
     "output_type": "display_data"
    },
    {
     "data": {
      "text/markdown": [
       "221: . Havde Du ikke Lyst en Aften medens jeg er borte at bede Welh.Welh . ]"
      ],
      "text/plain": [
       "<IPython.core.display.Markdown object>"
      ]
     },
     "metadata": {},
     "output_type": "display_data"
    },
    {
     "data": {
      "text/markdown": [
       "221: Georg Sibbern ( 1816 – 1901 ) at jeg er oprigtig bedrøvet over at han skal"
      ],
      "text/plain": [
       "<IPython.core.display.Markdown object>"
      ]
     },
     "metadata": {},
     "output_type": "display_data"
    },
    {
     "data": {
      "text/markdown": [
       "263: og gjennem den ogsaa til Din – Naar jeg er glad holder jeg mest af Dig"
      ],
      "text/plain": [
       "<IPython.core.display.Markdown object>"
      ]
     },
     "metadata": {},
     "output_type": "display_data"
    },
    {
     "data": {
      "text/markdown": [
       "265: ved Fremmedes Næ [ r ] værelse . jeg er skinsyg over enhver Afbrydelse . Kom"
      ],
      "text/plain": [
       "<IPython.core.display.Markdown object>"
      ]
     },
     "metadata": {},
     "output_type": "display_data"
    },
    {
     "data": {
      "text/markdown": [
       "274: "
      ],
      "text/plain": [
       "<IPython.core.display.Markdown object>"
      ]
     },
     "metadata": {},
     "output_type": "display_data"
    },
    {
     "data": {
      "text/markdown": [
       "274: Dig at jeg er mild og god naar jeg er sorgløs og uden Plage . Lev"
      ],
      "text/plain": [
       "<IPython.core.display.Markdown object>"
      ]
     },
     "metadata": {},
     "output_type": "display_data"
    },
    {
     "data": {
      "text/markdown": [
       "295: jeg har ikke forsøgt en eneste Linie . jeg er aldeles paa det Rene med mig"
      ],
      "text/plain": [
       "<IPython.core.display.Markdown object>"
      ]
     },
     "metadata": {},
     "output_type": "display_data"
    },
    {
     "data": {
      "text/markdown": [
       "316: mig deroppe , kommer der dog Øieblikke hvori jeg er uvisuvis ] Streket under med en"
      ],
      "text/plain": [
       "<IPython.core.display.Markdown object>"
      ]
     },
     "metadata": {},
     "output_type": "display_data"
    },
    {
     "data": {
      "text/markdown": [
       "331: en Feil der ikke kunde rettes – at jeg er saa alene her . Næsten alle"
      ],
      "text/plain": [
       "<IPython.core.display.Markdown object>"
      ]
     },
     "metadata": {},
     "output_type": "display_data"
    },
    {
     "data": {
      "text/markdown": [
       "331: Fru Münster , begge har Børn med. Naar jeg er alene er jeg mere alene end"
      ],
      "text/plain": [
       "<IPython.core.display.Markdown object>"
      ]
     },
     "metadata": {},
     "output_type": "display_data"
    },
    {
     "data": {
      "text/markdown": [
       "333: har Nød med at skjøtte mig selv – jeg er jo overladt til disse Fremmedes Vilkaarlighed"
      ],
      "text/plain": [
       "<IPython.core.display.Markdown object>"
      ]
     },
     "metadata": {},
     "output_type": "display_data"
    },
    {
     "data": {
      "text/markdown": [
       "357: har aldrig været saa rask som nu , jeg er bleven saa feed at jeg maae"
      ],
      "text/plain": [
       "<IPython.core.display.Markdown object>"
      ]
     },
     "metadata": {},
     "output_type": "display_data"
    },
    {
     "data": {
      "text/markdown": [
       "357: Oscar maae være en god Erstatning , men jeg er bange I ville komme til at"
      ],
      "text/plain": [
       "<IPython.core.display.Markdown object>"
      ]
     },
     "metadata": {},
     "output_type": "display_data"
    },
    {
     "data": {
      "text/markdown": [
       "#### NBkilder_Collett_Brev_til_Bjornson.xml"
      ],
      "text/plain": [
       "<IPython.core.display.Markdown object>"
      ]
     },
     "metadata": {},
     "output_type": "display_data"
    },
    {
     "data": {
      "text/markdown": [
       "9: Sag at faa hans varme Anbefaling , ligesom jeg er vis paa , at Colletts endnu"
      ],
      "text/plain": [
       "<IPython.core.display.Markdown object>"
      ]
     },
     "metadata": {},
     "output_type": "display_data"
    },
    {
     "data": {
      "text/markdown": [
       "#### NBkilder_Collett_Brev_til_Ibsen.xml"
      ],
      "text/plain": [
       "<IPython.core.display.Markdown object>"
      ]
     },
     "metadata": {},
     "output_type": "display_data"
    },
    {
     "data": {
      "text/markdown": [
       "110: Ak jeg ved ikke hvordan det er , jeg er mer melankolsk end nogensinde før denne"
      ],
      "text/plain": [
       "<IPython.core.display.Markdown object>"
      ]
     },
     "metadata": {},
     "output_type": "display_data"
    },
    {
     "data": {
      "text/markdown": [
       "156: overskriving jeg vil en Aftenstund glemme at « jeg er i Kristiania » . Deres Camilla"
      ],
      "text/plain": [
       "<IPython.core.display.Markdown object>"
      ]
     },
     "metadata": {},
     "output_type": "display_data"
    },
    {
     "data": {
      "text/markdown": [
       "172: af Kvinden . Os skade det ikke Og jeg er fotet om at enhver skikkelig Mand"
      ],
      "text/plain": [
       "<IPython.core.display.Markdown object>"
      ]
     },
     "metadata": {},
     "output_type": "display_data"
    },
    {
     "data": {
      "text/markdown": [
       "#### NBkilder_Collett_Brev_til_Lie.xml"
      ],
      "text/plain": [
       "<IPython.core.display.Markdown object>"
      ]
     },
     "metadata": {},
     "output_type": "display_data"
    },
    {
     "data": {
      "text/markdown": [
       "15: kan derfor uden Ubeskedenhed modtage det sendte , jeg er fornøiet dermed og takker Dem til"
      ],
      "text/plain": [
       "<IPython.core.display.Markdown object>"
      ]
     },
     "metadata": {},
     "output_type": "display_data"
    },
    {
     "data": {
      "text/markdown": [
       "45: ° 3496 ) faa dette afsat ? Hvorfor jeg er den Eneste af hans norske Forlagsbørn"
      ],
      "text/plain": [
       "<IPython.core.display.Markdown object>"
      ]
     },
     "metadata": {},
     "output_type": "display_data"
    },
    {
     "data": {
      "text/markdown": [
       "52: det anderledes , vilde jeg ikke være den jeg er ."
      ],
      "text/plain": [
       "<IPython.core.display.Markdown object>"
      ]
     },
     "metadata": {},
     "output_type": "display_data"
    },
    {
     "data": {
      "text/markdown": [
       "54: Dem for Bogen . Jeg tilstår , at jeg er bleven for gammel for Genren ,"
      ],
      "text/plain": [
       "<IPython.core.display.Markdown object>"
      ]
     },
     "metadata": {},
     "output_type": "display_data"
    },
    {
     "data": {
      "text/markdown": [
       "102: erindrer ikke en Eneste af dem , at jeg er til ."
      ],
      "text/plain": [
       "<IPython.core.display.Markdown object>"
      ]
     },
     "metadata": {},
     "output_type": "display_data"
    },
    {
     "data": {
      "text/markdown": [
       "116: , sige ham dette , sige ham at jeg er ganske uskikket til den Slags active"
      ],
      "text/plain": [
       "<IPython.core.display.Markdown object>"
      ]
     },
     "metadata": {},
     "output_type": "display_data"
    },
    {
     "data": {
      "text/markdown": [
       "127: 1833 – 1907 ) jeg i den Stemning jeg er alene kunde ønske at treffe ,"
      ],
      "text/plain": [
       "<IPython.core.display.Markdown object>"
      ]
     },
     "metadata": {},
     "output_type": "display_data"
    },
    {
     "data": {
      "text/markdown": [
       "#### NBkilder_Collett_Skildpadde.xml"
      ],
      "text/plain": [
       "<IPython.core.display.Markdown object>"
      ]
     },
     "metadata": {},
     "output_type": "display_data"
    },
    {
     "data": {
      "text/markdown": [
       "7: Constitutionelle ( 1836 – 47 ) imod da jeg er fuldkommen enig med Dem , at"
      ],
      "text/plain": [
       "<IPython.core.display.Markdown object>"
      ]
     },
     "metadata": {},
     "output_type": "display_data"
    },
    {
     "data": {
      "text/markdown": [
       "25: forebygge at min Interesse ogsaa omfattede Forfatteren ? jeg er selv ikke enig om var Digteren"
      ],
      "text/plain": [
       "<IPython.core.display.Markdown object>"
      ]
     },
     "metadata": {},
     "output_type": "display_data"
    },
    {
     "data": {
      "text/markdown": [
       "27: , men fordi mine Evner strande her , jeg er saaledes ikke istand til at forklare"
      ],
      "text/plain": [
       "<IPython.core.display.Markdown object>"
      ]
     },
     "metadata": {},
     "output_type": "display_data"
    },
    {
     "data": {
      "text/markdown": [
       "27: 1913 : ' sirligste ' Tænder , ( jeg er en stor Ynder af hvide Tænder"
      ],
      "text/plain": [
       "<IPython.core.display.Markdown object>"
      ]
     },
     "metadata": {},
     "output_type": "display_data"
    },
    {
     "data": {
      "text/markdown": [
       "41: Det er Skade , sagde jeg , thi jeg er just en Elsker af forbuden Frugt"
      ],
      "text/plain": [
       "<IPython.core.display.Markdown object>"
      ]
     },
     "metadata": {},
     "output_type": "display_data"
    },
    {
     "data": {
      "text/markdown": [
       "47: gives Øieblikke , skjelden kostbare Øieblikke , hvor jeg er lykkelig uden noget bestemt Hvorfor ,"
      ],
      "text/plain": [
       "<IPython.core.display.Markdown object>"
      ]
     },
     "metadata": {},
     "output_type": "display_data"
    },
    {
     "data": {
      "text/markdown": [
       "47: jeg er lykkelig uden noget bestemt Hvorfor , jeg er det i mig selv , jeg"
      ],
      "text/plain": [
       "<IPython.core.display.Markdown object>"
      ]
     },
     "metadata": {},
     "output_type": "display_data"
    },
    {
     "data": {
      "text/markdown": [
       "62: over dette unbefangne , ich auch , men jeg er heller ikke længer henrykt . Sengene"
      ],
      "text/plain": [
       "<IPython.core.display.Markdown object>"
      ]
     },
     "metadata": {},
     "output_type": "display_data"
    },
    {
     "data": {
      "text/markdown": [
       "64: – « Jeg troede De ønskede den , jeg er bange De bliver brun af Solen"
      ],
      "text/plain": [
       "<IPython.core.display.Markdown object>"
      ]
     },
     "metadata": {},
     "output_type": "display_data"
    },
    {
     "data": {
      "text/markdown": [
       "#### NBkilder_Dardel_Voyage.xml"
      ],
      "text/plain": [
       "<IPython.core.display.Markdown object>"
      ]
     },
     "metadata": {},
     "output_type": "display_data"
    },
    {
     "data": {
      "text/markdown": [
       "781: og tenker med takknemlighet på den rause gjestfriheten jeg er blitt møtt med , og den"
      ],
      "text/plain": [
       "<IPython.core.display.Markdown object>"
      ]
     },
     "metadata": {},
     "output_type": "display_data"
    },
    {
     "data": {
      "text/markdown": [
       "#### NBkilder_Kjerulf_1840.xml"
      ],
      "text/plain": [
       "<IPython.core.display.Markdown object>"
      ]
     },
     "metadata": {},
     "output_type": "display_data"
    },
    {
     "data": {
      "text/markdown": [
       "8: – Men denne tomme Opregnen duer ikke og jeg er igrunden en Lægmand i Bedømmelsen af"
      ],
      "text/plain": [
       "<IPython.core.display.Markdown object>"
      ]
     },
     "metadata": {},
     "output_type": "display_data"
    },
    {
     "data": {
      "text/markdown": [
       "19: en Fioriture og smiler og leer – og jeg er stum , jeg er ikke istand"
      ],
      "text/plain": [
       "<IPython.core.display.Markdown object>"
      ]
     },
     "metadata": {},
     "output_type": "display_data"
    },
    {
     "data": {
      "text/markdown": [
       "19: og leer – og jeg er stum , jeg er ikke istand til røre mig thi"
      ],
      "text/plain": [
       "<IPython.core.display.Markdown object>"
      ]
     },
     "metadata": {},
     "output_type": "display_data"
    },
    {
     "data": {
      "text/markdown": [
       "31: Men jeg var næsten i Taarer , thi jeg er ung endda . Ak ! disse"
      ],
      "text/plain": [
       "<IPython.core.display.Markdown object>"
      ]
     },
     "metadata": {},
     "output_type": "display_data"
    },
    {
     "data": {
      "text/markdown": [
       "37: d . 18 : En Dag endnu og jeg er her ikke mere . Jeg kan"
      ],
      "text/plain": [
       "<IPython.core.display.Markdown object>"
      ]
     },
     "metadata": {},
     "output_type": "display_data"
    },
    {
     "data": {
      "text/markdown": [
       "46: denne Aften og jeg havde svigtet hende – jeg er vis paa hun aldrig vil tilgive"
      ],
      "text/plain": [
       "<IPython.core.display.Markdown object>"
      ]
     },
     "metadata": {},
     "output_type": "display_data"
    },
    {
     "data": {
      "text/markdown": [
       "#### NBkilder_Kjerulf_1850.xml"
      ],
      "text/plain": [
       "<IPython.core.display.Markdown object>"
      ]
     },
     "metadata": {},
     "output_type": "display_data"
    },
    {
     "data": {
      "text/markdown": [
       "21: ( ganske stille ) . Aa jo – jeg er dog fornøiet med Gade – han"
      ],
      "text/plain": [
       "<IPython.core.display.Markdown object>"
      ]
     },
     "metadata": {},
     "output_type": "display_data"
    },
    {
     "data": {
      "text/markdown": [
       "47: dog vel langt og noget enstonigt – men jeg er slet ikke vis derpaa . Det"
      ],
      "text/plain": [
       "<IPython.core.display.Markdown object>"
      ]
     },
     "metadata": {},
     "output_type": "display_data"
    },
    {
     "data": {
      "text/markdown": [
       "184: seet . Vi blive snart kjendte ; men jeg er for træt til at drikke Øl"
      ],
      "text/plain": [
       "<IPython.core.display.Markdown object>"
      ]
     },
     "metadata": {},
     "output_type": "display_data"
    },
    {
     "data": {
      "text/markdown": [
       "293: med Sperati . – Th . mener at jeg er saa slem at skrive til ."
      ],
      "text/plain": [
       "<IPython.core.display.Markdown object>"
      ]
     },
     "metadata": {},
     "output_type": "display_data"
    },
    {
     "data": {
      "text/markdown": [
       "#### NBkilder_Kjerulf_1851.xml"
      ],
      "text/plain": [
       "<IPython.core.display.Markdown object>"
      ]
     },
     "metadata": {},
     "output_type": "display_data"
    },
    {
     "data": {
      "text/markdown": [
       "162: — Aftenen i det kgl . Theater hvor jeg er meget heldig . Man giver Scribes"
      ],
      "text/plain": [
       "<IPython.core.display.Markdown object>"
      ]
     },
     "metadata": {},
     "output_type": "display_data"
    },
    {
     "data": {
      "text/markdown": [
       "222: ordentl sungne – men ingen Applaus ( hvad jeg er vant til – neml til ingen"
      ],
      "text/plain": [
       "<IPython.core.display.Markdown object>"
      ]
     },
     "metadata": {},
     "output_type": "display_data"
    },
    {
     "data": {
      "text/markdown": [
       "#### NBkilder_Kjerulf_1852.xml"
      ],
      "text/plain": [
       "<IPython.core.display.Markdown object>"
      ]
     },
     "metadata": {},
     "output_type": "display_data"
    },
    {
     "data": {
      "text/markdown": [
       "376: 15 Idag ankom Wankel & Timlers Flügel og jeg er vel tilfreds med det . –"
      ],
      "text/plain": [
       "<IPython.core.display.Markdown object>"
      ]
     },
     "metadata": {},
     "output_type": "display_data"
    },
    {
     "data": {
      "text/markdown": [
       "#### NBkilder_KKielland_AGarborg_brev.xml"
      ],
      "text/plain": [
       "<IPython.core.display.Markdown object>"
      ]
     },
     "metadata": {},
     "output_type": "display_data"
    },
    {
     "data": {
      "text/markdown": [
       "13: "
      ],
      "text/plain": [
       "<IPython.core.display.Markdown object>"
      ]
     },
     "metadata": {},
     "output_type": "display_data"
    },
    {
     "data": {
      "text/markdown": [
       "16: , at Menneskene er misundelige Dyr , og jeg er et Menneske ."
      ],
      "text/plain": [
       "<IPython.core.display.Markdown object>"
      ]
     },
     "metadata": {},
     "output_type": "display_data"
    },
    {
     "data": {
      "text/markdown": [
       "33: frisindet , at Du husker paa , at jeg er menneske . Slutten mangler"
      ],
      "text/plain": [
       "<IPython.core.display.Markdown object>"
      ]
     },
     "metadata": {},
     "output_type": "display_data"
    },
    {
     "data": {
      "text/markdown": [
       "61: , at jeg fremdeles skriver lidt virvar , jeg er heller ikke frisk , temmelig daarlig"
      ],
      "text/plain": [
       "<IPython.core.display.Markdown object>"
      ]
     },
     "metadata": {},
     "output_type": "display_data"
    },
    {
     "data": {
      "text/markdown": [
       "72: Jeg tror saa sikkert paa den , og jeg er saa spændt paa den , gid"
      ],
      "text/plain": [
       "<IPython.core.display.Markdown object>"
      ]
     },
     "metadata": {},
     "output_type": "display_data"
    },
    {
     "data": {
      "text/markdown": [
       "72: . Aa nei det er vel , fordi jeg er kommet i vane med at snakke"
      ],
      "text/plain": [
       "<IPython.core.display.Markdown object>"
      ]
     },
     "metadata": {},
     "output_type": "display_data"
    },
    {
     "data": {
      "text/markdown": [
       "101: kvinnesak som kristendomsfiendtlig . Du synes , at jeg er ækel nu , jeg ved det"
      ],
      "text/plain": [
       "<IPython.core.display.Markdown object>"
      ]
     },
     "metadata": {},
     "output_type": "display_data"
    },
    {
     "data": {
      "text/markdown": [
       "108: saa urimelig . Jeg mærker det , at jeg er saa infamt underlegen , naar der"
      ],
      "text/plain": [
       "<IPython.core.display.Markdown object>"
      ]
     },
     "metadata": {},
     "output_type": "display_data"
    },
    {
     "data": {
      "text/markdown": [
       "109: lægger mit besyv . Du forstaar , at jeg er varm og begeistret for den bogen"
      ],
      "text/plain": [
       "<IPython.core.display.Markdown object>"
      ]
     },
     "metadata": {},
     "output_type": "display_data"
    },
    {
     "data": {
      "text/markdown": [
       "110: jeg skal forsømme min egen kunst , men jeg er nu saa gammel , at kan"
      ],
      "text/plain": [
       "<IPython.core.display.Markdown object>"
      ]
     },
     "metadata": {},
     "output_type": "display_data"
    },
    {
     "data": {
      "text/markdown": [
       "111: , forfatter han føler sig alene , ja jeg er vis paa , at om bare"
      ],
      "text/plain": [
       "<IPython.core.display.Markdown object>"
      ]
     },
     "metadata": {},
     "output_type": "display_data"
    },
    {
     "data": {
      "text/markdown": [
       "123: fint og bravt skrevet end mit , men jeg er jo en idiot . Og dengang"
      ],
      "text/plain": [
       "<IPython.core.display.Markdown object>"
      ]
     },
     "metadata": {},
     "output_type": "display_data"
    },
    {
     "data": {
      "text/markdown": [
       "124: ) . Dette blir vist bravt , hvorover jeg er stolt , men du verden ,"
      ],
      "text/plain": [
       "<IPython.core.display.Markdown object>"
      ]
     },
     "metadata": {},
     "output_type": "display_data"
    },
    {
     "data": {
      "text/markdown": [
       "140: paa sligt . Ikke for det , – jeg er ræd jeg kunde finde paa det"
      ],
      "text/plain": [
       "<IPython.core.display.Markdown object>"
      ]
     },
     "metadata": {},
     "output_type": "display_data"
    },
    {
     "data": {
      "text/markdown": [
       "148: sygeligt . For har jeg saasandt , at jeg er gaaet indover grændsen af den lille"
      ],
      "text/plain": [
       "<IPython.core.display.Markdown object>"
      ]
     },
     "metadata": {},
     "output_type": "display_data"
    },
    {
     "data": {
      "text/markdown": [
       "165: jeg ikke havde ham . Nu , da jeg er angergiven , synes jeg forresten at"
      ],
      "text/plain": [
       "<IPython.core.display.Markdown object>"
      ]
     },
     "metadata": {},
     "output_type": "display_data"
    },
    {
     "data": {
      "text/markdown": [
       "215: Du bare faar den bandsat gale forestilling at jeg er blevet en tørpamp og en snerpe"
      ],
      "text/plain": [
       "<IPython.core.display.Markdown object>"
      ]
     },
     "metadata": {},
     "output_type": "display_data"
    },
    {
     "data": {
      "text/markdown": [
       "224: Arbeide hvis det behandles ikke altfor hensynsløst – jeg er meget fornøiet med det . Vilde"
      ],
      "text/plain": [
       "<IPython.core.display.Markdown object>"
      ]
     },
     "metadata": {},
     "output_type": "display_data"
    },
    {
     "data": {
      "text/markdown": [
       "224: gjort mig lidt mere kold og vond end jeg er af Naturen . Jeg kunde ha"
      ],
      "text/plain": [
       "<IPython.core.display.Markdown object>"
      ]
     },
     "metadata": {},
     "output_type": "display_data"
    },
    {
     "data": {
      "text/markdown": [
       "224: Pøbelen omkring og misforstaar mig derhen , at jeg er et Svin , som vil Svineri"
      ],
      "text/plain": [
       "<IPython.core.display.Markdown object>"
      ]
     },
     "metadata": {},
     "output_type": "display_data"
    },
    {
     "data": {
      "text/markdown": [
       "224: . ] til at afgive Forsikringer om at jeg er et skikkeligt Menneske osv. kan jeg"
      ],
      "text/plain": [
       "<IPython.core.display.Markdown object>"
      ]
     },
     "metadata": {},
     "output_type": "display_data"
    },
    {
     "data": {
      "text/markdown": [
       "267: … han lever i den Tro , at jeg er sint paa ham , fordi han"
      ],
      "text/plain": [
       "<IPython.core.display.Markdown object>"
      ]
     },
     "metadata": {},
     "output_type": "display_data"
    },
    {
     "data": {
      "text/markdown": [
       "307: da han blir rent utaalmodig over , at jeg er saa langt væk . At jeg"
      ],
      "text/plain": [
       "<IPython.core.display.Markdown object>"
      ]
     },
     "metadata": {},
     "output_type": "display_data"
    },
    {
     "data": {
      "text/markdown": [
       "307: hvert blir det mig næsten uudholdeligt , naar jeg er daalig at ligge her ganske alene"
      ],
      "text/plain": [
       "<IPython.core.display.Markdown object>"
      ]
     },
     "metadata": {},
     "output_type": "display_data"
    },
    {
     "data": {
      "text/markdown": [
       "308: de ere ikke af de værste , men jeg er nu ræd for at se dem"
      ],
      "text/plain": [
       "<IPython.core.display.Markdown object>"
      ]
     },
     "metadata": {},
     "output_type": "display_data"
    },
    {
     "data": {
      "text/markdown": [
       "308: doktorsamvittighed , og finder han ikke , at jeg er daarlig nok , saa faar jeg"
      ],
      "text/plain": [
       "<IPython.core.display.Markdown object>"
      ]
     },
     "metadata": {},
     "output_type": "display_data"
    },
    {
     "data": {
      "text/markdown": [
       "308: Jeg kan nok ved egen kraft , da jeg er en harhaus , blive bedre med"
      ],
      "text/plain": [
       "<IPython.core.display.Markdown object>"
      ]
     },
     "metadata": {},
     "output_type": "display_data"
    },
    {
     "data": {
      "text/markdown": [
       "322: ( det er græsk ! ) – Og jeg er sandt at sige lidt vant med"
      ],
      "text/plain": [
       "<IPython.core.display.Markdown object>"
      ]
     },
     "metadata": {},
     "output_type": "display_data"
    },
    {
     "data": {
      "text/markdown": [
       "332: , lengter , føler – altsammen . Naar jeg er færdig med det første Udkast ,"
      ],
      "text/plain": [
       "<IPython.core.display.Markdown object>"
      ]
     },
     "metadata": {},
     "output_type": "display_data"
    },
    {
     "data": {
      "text/markdown": [
       "360: eller været mig vanskeligere at forstaa ; men jeg er vis paa , at det ikke"
      ],
      "text/plain": [
       "<IPython.core.display.Markdown object>"
      ]
     },
     "metadata": {},
     "output_type": "display_data"
    },
    {
     "data": {
      "text/markdown": [
       "371: se at komme isæng før 11 , da jeg er saa træt idag . Velkommen snart"
      ],
      "text/plain": [
       "<IPython.core.display.Markdown object>"
      ]
     },
     "metadata": {},
     "output_type": "display_data"
    },
    {
     "data": {
      "text/markdown": [
       "388: . Du har sat Dig i Hovedet at jeg er en Huggeblok , og at jeg"
      ],
      "text/plain": [
       "<IPython.core.display.Markdown object>"
      ]
     },
     "metadata": {},
     "output_type": "display_data"
    },
    {
     "data": {
      "text/markdown": [
       "400: jeg ikke være Huleboer ? Det er det jeg er skabt til . Heroppe er det"
      ],
      "text/plain": [
       "<IPython.core.display.Markdown object>"
      ]
     },
     "metadata": {},
     "output_type": "display_data"
    },
    {
     "data": {
      "text/markdown": [
       "403: for Vinteren . Skjæld mig ud , fordi jeg er saa slap og lei ( skjønt"
      ],
      "text/plain": [
       "<IPython.core.display.Markdown object>"
      ]
     },
     "metadata": {},
     "output_type": "display_data"
    },
    {
     "data": {
      "text/markdown": [
       "433: seede paa den Maade , og jeg synes jeg er kommen nærmere Lyset og det høieste"
      ],
      "text/plain": [
       "<IPython.core.display.Markdown object>"
      ]
     },
     "metadata": {},
     "output_type": "display_data"
    },
    {
     "data": {
      "text/markdown": [
       "433: som egentlig bare er det enfoldigste . Og jeg er virkelig glad , naar nogen siger"
      ],
      "text/plain": [
       "<IPython.core.display.Markdown object>"
      ]
     },
     "metadata": {},
     "output_type": "display_data"
    },
    {
     "data": {
      "text/markdown": [
       "434: En af Dagene kanske faar Du høre at jeg er væk – har vovet et nyt"
      ],
      "text/plain": [
       "<IPython.core.display.Markdown object>"
      ]
     },
     "metadata": {},
     "output_type": "display_data"
    },
    {
     "data": {
      "text/markdown": [
       "434: Vær imidlertid snil og tag mig for den jeg er , og vær flink til PariserudstillingenPariserudstillingen"
      ],
      "text/plain": [
       "<IPython.core.display.Markdown object>"
      ]
     },
     "metadata": {},
     "output_type": "display_data"
    },
    {
     "data": {
      "text/markdown": [
       "#### NBkilder_KKielland_DSkavlan_brev.xml"
      ],
      "text/plain": [
       "<IPython.core.display.Markdown object>"
      ]
     },
     "metadata": {},
     "output_type": "display_data"
    },
    {
     "data": {
      "text/markdown": [
       "25: maleriet hun fikk antatt i 1881 . Hvorfor jeg er idag i meget slet humeur ."
      ],
      "text/plain": [
       "<IPython.core.display.Markdown object>"
      ]
     },
     "metadata": {},
     "output_type": "display_data"
    },
    {
     "data": {
      "text/markdown": [
       "43: Kitty og Dagmar . Du synes kanske , jeg er lidt vigtig , men det har"
      ],
      "text/plain": [
       "<IPython.core.display.Markdown object>"
      ]
     },
     "metadata": {},
     "output_type": "display_data"
    },
    {
     "data": {
      "text/markdown": [
       "47: . Søster av Kitty og Dagmar . og jeg er begyndt at skrive om , at"
      ],
      "text/plain": [
       "<IPython.core.display.Markdown object>"
      ]
     },
     "metadata": {},
     "output_type": "display_data"
    },
    {
     "data": {
      "text/markdown": [
       "51: hermed ogsaa antyde Magda og sige , hvad jeg er komme til at tro om hende"
      ],
      "text/plain": [
       "<IPython.core.display.Markdown object>"
      ]
     },
     "metadata": {},
     "output_type": "display_data"
    },
    {
     "data": {
      "text/markdown": [
       "57: til nogen , kjære dig , synes du jeg er ukvindelig , saa sig det ,"
      ],
      "text/plain": [
       "<IPython.core.display.Markdown object>"
      ]
     },
     "metadata": {},
     "output_type": "display_data"
    },
    {
     "data": {
      "text/markdown": [
       "57: jeg er ukvindelig , saa sig det , jeg er saa fyldt af den Sorg ,"
      ],
      "text/plain": [
       "<IPython.core.display.Markdown object>"
      ]
     },
     "metadata": {},
     "output_type": "display_data"
    },
    {
     "data": {
      "text/markdown": [
       "57: efter min Mening demoraliserende Ægteskab . Ja Dagmar jeg er næsten kommen til at den ugifte"
      ],
      "text/plain": [
       "<IPython.core.display.Markdown object>"
      ]
     },
     "metadata": {},
     "output_type": "display_data"
    },
    {
     "data": {
      "text/markdown": [
       "58: du Mændene er morsomme at tale med og jeg er mangen Gang meget indtaget i Øieblikket"
      ],
      "text/plain": [
       "<IPython.core.display.Markdown object>"
      ]
     },
     "metadata": {},
     "output_type": "display_data"
    },
    {
     "data": {
      "text/markdown": [
       "72: var blævet vred over mit lange brev – jeg er en kujon ser Du . At"
      ],
      "text/plain": [
       "<IPython.core.display.Markdown object>"
      ]
     },
     "metadata": {},
     "output_type": "display_data"
    },
    {
     "data": {
      "text/markdown": [
       "76: andre , jeg tror , at ens eget jeg er det vigtigste for en selv ,"
      ],
      "text/plain": [
       "<IPython.core.display.Markdown object>"
      ]
     },
     "metadata": {},
     "output_type": "display_data"
    },
    {
     "data": {
      "text/markdown": [
       "76: men det er ækelt at føle , at jeg er saa lidet frisk , at jeg"
      ],
      "text/plain": [
       "<IPython.core.display.Markdown object>"
      ]
     },
     "metadata": {},
     "output_type": "display_data"
    },
    {
     "data": {
      "text/markdown": [
       "78: er hyggeligt at de kommer herud , men jeg er lidt bange for at jeg efter"
      ],
      "text/plain": [
       "<IPython.core.display.Markdown object>"
      ]
     },
     "metadata": {},
     "output_type": "display_data"
    },
    {
     "data": {
      "text/markdown": [
       "85: noksaa skral , hun misunder mig næsten at jeg er saa frisk eller rettere ønsker det"
      ],
      "text/plain": [
       "<IPython.core.display.Markdown object>"
      ]
     },
     "metadata": {},
     "output_type": "display_data"
    },
    {
     "data": {
      "text/markdown": [
       "106: "
      ],
      "text/plain": [
       "<IPython.core.display.Markdown object>"
      ]
     },
     "metadata": {},
     "output_type": "display_data"
    },
    {
     "data": {
      "text/markdown": [
       "106: Laache ( 1867 – 1946 ) . og jeg er altid sammen , hun maa leve"
      ],
      "text/plain": [
       "<IPython.core.display.Markdown object>"
      ]
     },
     "metadata": {},
     "output_type": "display_data"
    },
    {
     "data": {
      "text/markdown": [
       "#### NBkilder_KKielland_EPeterssen_brev.xml"
      ],
      "text/plain": [
       "<IPython.core.display.Markdown object>"
      ]
     },
     "metadata": {},
     "output_type": "display_data"
    },
    {
     "data": {
      "text/markdown": [
       "2: jeg kan saa vanskelig være skarpretter , og jeg er ikke kritisk , ved de ?"
      ],
      "text/plain": [
       "<IPython.core.display.Markdown object>"
      ]
     },
     "metadata": {},
     "output_type": "display_data"
    },
    {
     "data": {
      "text/markdown": [
       "13: paa jernbanen vilde ikke tage imod dem , jeg er overbevist om , at det var"
      ],
      "text/plain": [
       "<IPython.core.display.Markdown object>"
      ]
     },
     "metadata": {},
     "output_type": "display_data"
    },
    {
     "data": {
      "text/markdown": [
       "19: studier , men det kan godt være , jeg er kommet ind paa noget andet nu"
      ],
      "text/plain": [
       "<IPython.core.display.Markdown object>"
      ]
     },
     "metadata": {},
     "output_type": "display_data"
    },
    {
     "data": {
      "text/markdown": [
       "27: "
      ],
      "text/plain": [
       "<IPython.core.display.Markdown object>"
      ]
     },
     "metadata": {},
     "output_type": "display_data"
    },
    {
     "data": {
      "text/markdown": [
       "29: jeg faa nok at gjøre . Men hvor jeg er ynkelig , det er rent komisk"
      ],
      "text/plain": [
       "<IPython.core.display.Markdown object>"
      ]
     },
     "metadata": {},
     "output_type": "display_data"
    },
    {
     "data": {
      "text/markdown": [
       "51: , om det er lykkedes eller ei ; jeg er bleven fêteret , intviteret – kort"
      ],
      "text/plain": [
       "<IPython.core.display.Markdown object>"
      ]
     },
     "metadata": {},
     "output_type": "display_data"
    },
    {
     "data": {
      "text/markdown": [
       "68: alle Folk tror at jeg morer , og jeg er altfor – ja jeg ved ikke"
      ],
      "text/plain": [
       "<IPython.core.display.Markdown object>"
      ]
     },
     "metadata": {},
     "output_type": "display_data"
    },
    {
     "data": {
      "text/markdown": [
       "68: at ville forsøge at modbevise det . Og jeg er heller ikke frisk ; hoster skrækkeligt"
      ],
      "text/plain": [
       "<IPython.core.display.Markdown object>"
      ]
     },
     "metadata": {},
     "output_type": "display_data"
    },
    {
     "data": {
      "text/markdown": [
       "68: drømmer blandt meget Andet hver Nat , at jeg er på mit Atelier og arbeider ."
      ],
      "text/plain": [
       "<IPython.core.display.Markdown object>"
      ]
     },
     "metadata": {},
     "output_type": "display_data"
    },
    {
     "data": {
      "text/markdown": [
       "68: er Noget i Luften , som gjør at jeg er fuldstændig « tummelumsk » i Hovedet"
      ],
      "text/plain": [
       "<IPython.core.display.Markdown object>"
      ]
     },
     "metadata": {},
     "output_type": "display_data"
    },
    {
     "data": {
      "text/markdown": [
       "68: Jeg må ofte bebreide mig selv , at jeg er så lidet glad i at være"
      ],
      "text/plain": [
       "<IPython.core.display.Markdown object>"
      ]
     },
     "metadata": {},
     "output_type": "display_data"
    },
    {
     "data": {
      "text/markdown": [
       "89: at få det så på Atelieret , at jeg er helst der ; thi hvor opmærksomme"
      ],
      "text/plain": [
       "<IPython.core.display.Markdown object>"
      ]
     },
     "metadata": {},
     "output_type": "display_data"
    },
    {
     "data": {
      "text/markdown": [
       "89: ikke Alvor i Noget af det – men jeg er stygt bange for , at han"
      ],
      "text/plain": [
       "<IPython.core.display.Markdown object>"
      ]
     },
     "metadata": {},
     "output_type": "display_data"
    },
    {
     "data": {
      "text/markdown": [
       "93: ikke lad dem indvirke paa , undskyld at jeg er saa vigtig at sige det ."
      ],
      "text/plain": [
       "<IPython.core.display.Markdown object>"
      ]
     },
     "metadata": {},
     "output_type": "display_data"
    },
    {
     "data": {
      "text/markdown": [
       "95: 1906 ) , maler . om dette , jeg er gjerrig paa det , de andre"
      ],
      "text/plain": [
       "<IPython.core.display.Markdown object>"
      ]
     },
     "metadata": {},
     "output_type": "display_data"
    },
    {
     "data": {
      "text/markdown": [
       "95: paa det , de andre vare reiste , jeg er den eneste , som har seet"
      ],
      "text/plain": [
       "<IPython.core.display.Markdown object>"
      ]
     },
     "metadata": {},
     "output_type": "display_data"
    },
    {
     "data": {
      "text/markdown": [
       "114: have lidt af hende den sidste tid , jeg er her , dertil havde hun igaar"
      ],
      "text/plain": [
       "<IPython.core.display.Markdown object>"
      ]
     },
     "metadata": {},
     "output_type": "display_data"
    },
    {
     "data": {
      "text/markdown": [
       "117: sig udsletter dog vist ikke skrivekunsten , saa jeg er lidt fornærmet , men bare lidt"
      ],
      "text/plain": [
       "<IPython.core.display.Markdown object>"
      ]
     },
     "metadata": {},
     "output_type": "display_data"
    },
    {
     "data": {
      "text/markdown": [
       "119: « saa langt og ikke længre » , jeg er ydmyg , at jeg kan sige"
      ],
      "text/plain": [
       "<IPython.core.display.Markdown object>"
      ]
     },
     "metadata": {},
     "output_type": "display_data"
    },
    {
     "data": {
      "text/markdown": [
       "119: aar , altertavlen og Judas undtaget . Nei jeg er egentlig ikke istand til at skrive"
      ],
      "text/plain": [
       "<IPython.core.display.Markdown object>"
      ]
     },
     "metadata": {},
     "output_type": "display_data"
    },
    {
     "data": {
      "text/markdown": [
       "127: Holme-Egenes fra 1863. det er nok adresse , jeg er vis paa at han gjerne vil"
      ],
      "text/plain": [
       "<IPython.core.display.Markdown object>"
      ]
     },
     "metadata": {},
     "output_type": "display_data"
    },
    {
     "data": {
      "text/markdown": [
       "128: , jeg har virkelig giort fremskridt iaar , jeg er rent bange for mig selv ,"
      ],
      "text/plain": [
       "<IPython.core.display.Markdown object>"
      ]
     },
     "metadata": {},
     "output_type": "display_data"
    },
    {
     "data": {
      "text/markdown": [
       "128: , at det kan være sløvhed , at jeg er fornøiet med det , jeg giør"
      ],
      "text/plain": [
       "<IPython.core.display.Markdown object>"
      ]
     },
     "metadata": {},
     "output_type": "display_data"
    },
    {
     "data": {
      "text/markdown": [
       "151: og heftig modløshed , sig Harriet , at jeg er bedre idag ."
      ],
      "text/plain": [
       "<IPython.core.display.Markdown object>"
      ]
     },
     "metadata": {},
     "output_type": "display_data"
    },
    {
     "data": {
      "text/markdown": [
       "157: skulde finde Ting at male , men jeg jeg er bange for , at det er"
      ],
      "text/plain": [
       "<IPython.core.display.Markdown object>"
      ]
     },
     "metadata": {},
     "output_type": "display_data"
    },
    {
     "data": {
      "text/markdown": [
       "157: vilde gjerne tage imod os begge – men jeg er lidt bange for , at MorMor"
      ],
      "text/plain": [
       "<IPython.core.display.Markdown object>"
      ]
     },
     "metadata": {},
     "output_type": "display_data"
    },
    {
     "data": {
      "text/markdown": [
       "158: var reist ind til Stavanger imorgentidlig , men jeg er så bange for at komme op"
      ],
      "text/plain": [
       "<IPython.core.display.Markdown object>"
      ]
     },
     "metadata": {},
     "output_type": "display_data"
    },
    {
     "data": {
      "text/markdown": [
       "228: skulde kommet her igaar , men udeblev , jeg er ræd , VedaVeda ] Vedastine «"
      ],
      "text/plain": [
       "<IPython.core.display.Markdown object>"
      ]
     },
     "metadata": {},
     "output_type": "display_data"
    },
    {
     "data": {
      "text/markdown": [
       "230: han helst vilde ha altid hos sig , jeg er ofte med. Det kan ikke være"
      ],
      "text/plain": [
       "<IPython.core.display.Markdown object>"
      ]
     },
     "metadata": {},
     "output_type": "display_data"
    },
    {
     "data": {
      "text/markdown": [
       "235: "
      ],
      "text/plain": [
       "<IPython.core.display.Markdown object>"
      ]
     },
     "metadata": {},
     "output_type": "display_data"
    },
    {
     "data": {
      "text/markdown": [
       "250: kommet ind i det hele der , hvilket jeg er glad over , men derom kan"
      ],
      "text/plain": [
       "<IPython.core.display.Markdown object>"
      ]
     },
     "metadata": {},
     "output_type": "display_data"
    },
    {
     "data": {
      "text/markdown": [
       "#### NBkilder_Koren_1808.xml"
      ],
      "text/plain": [
       "<IPython.core.display.Markdown object>"
      ]
     },
     "metadata": {},
     "output_type": "display_data"
    },
    {
     "data": {
      "text/markdown": [
       "3: jeg sige Eder , Elskte , hvor naragtig jeg er ? jeg aabnede mine Øyne ,"
      ],
      "text/plain": [
       "<IPython.core.display.Markdown object>"
      ]
     },
     "metadata": {},
     "output_type": "display_data"
    },
    {
     "data": {
      "text/markdown": [
       "4: . Om hende siger jeg intet , fordi jeg er og var i lang Tiid indtaget"
      ],
      "text/plain": [
       "<IPython.core.display.Markdown object>"
      ]
     },
     "metadata": {},
     "output_type": "display_data"
    },
    {
     "data": {
      "text/markdown": [
       "37: , og at dette er sidste Dag , jeg er paa Strømsøe – denne Sinde –"
      ],
      "text/plain": [
       "<IPython.core.display.Markdown object>"
      ]
     },
     "metadata": {},
     "output_type": "display_data"
    },
    {
     "data": {
      "text/markdown": [
       "40: den ældre Verden . Handler han – som jeg er tilbøyelig til at troe – overeensstemmende"
      ],
      "text/plain": [
       "<IPython.core.display.Markdown object>"
      ]
     },
     "metadata": {},
     "output_type": "display_data"
    },
    {
     "data": {
      "text/markdown": [
       "42: naar jeg taler med Døttrene mine , som jeg er saa bange for at skiule en"
      ],
      "text/plain": [
       "<IPython.core.display.Markdown object>"
      ]
     },
     "metadata": {},
     "output_type": "display_data"
    },
    {
     "data": {
      "text/markdown": [
       "58: "
      ],
      "text/plain": [
       "<IPython.core.display.Markdown object>"
      ]
     },
     "metadata": {},
     "output_type": "display_data"
    },
    {
     "data": {
      "text/markdown": [
       "143: fatte mig lidt forinden , og fordi – jeg er nyfigen i min Johan og min"
      ],
      "text/plain": [
       "<IPython.core.display.Markdown object>"
      ]
     },
     "metadata": {},
     "output_type": "display_data"
    },
    {
     "data": {
      "text/markdown": [
       "150: vil man mere af en Romanforfatter ? Men jeg er virkelig doven i Dag paa mit"
      ],
      "text/plain": [
       "<IPython.core.display.Markdown object>"
      ]
     },
     "metadata": {},
     "output_type": "display_data"
    },
    {
     "data": {
      "text/markdown": [
       "219: "
      ],
      "text/plain": [
       "<IPython.core.display.Markdown object>"
      ]
     },
     "metadata": {},
     "output_type": "display_data"
    },
    {
     "data": {
      "text/markdown": [
       "301: , hvori der er saa mange deylige , jeg er nesten fristet til at sige jeanpaulsk"
      ],
      "text/plain": [
       "<IPython.core.display.Markdown object>"
      ]
     },
     "metadata": {},
     "output_type": "display_data"
    },
    {
     "data": {
      "text/markdown": [
       "363: blive stort anderledes i al den Tiid , jeg er her . Vi saae ikke hverandre"
      ],
      "text/plain": [
       "<IPython.core.display.Markdown object>"
      ]
     },
     "metadata": {},
     "output_type": "display_data"
    },
    {
     "data": {
      "text/markdown": [
       "372: , Falsen var der rigtig nok , og jeg er altsaa nu 4 ß rigere ,"
      ],
      "text/plain": [
       "<IPython.core.display.Markdown object>"
      ]
     },
     "metadata": {},
     "output_type": "display_data"
    },
    {
     "data": {
      "text/markdown": [
       "379: , før hun faaer mit Brev , at jeg er uskyldig i hendes feylslagne Forventning ."
      ],
      "text/plain": [
       "<IPython.core.display.Markdown object>"
      ]
     },
     "metadata": {},
     "output_type": "display_data"
    },
    {
     "data": {
      "text/markdown": [
       "386: paa , at hiemsøge Præstens Boghylder , hvor jeg er vis paa at finde noget til"
      ],
      "text/plain": [
       "<IPython.core.display.Markdown object>"
      ]
     },
     "metadata": {},
     "output_type": "display_data"
    },
    {
     "data": {
      "text/markdown": [
       "393: de. Nu tænker I , elskede Venner ! jeg er her for at sige Eder Farvel"
      ],
      "text/plain": [
       "<IPython.core.display.Markdown object>"
      ]
     },
     "metadata": {},
     "output_type": "display_data"
    },
    {
     "data": {
      "text/markdown": [
       "446: min Maja , og Egerbarna det ; men jeg er harm over , at det Bud"
      ],
      "text/plain": [
       "<IPython.core.display.Markdown object>"
      ]
     },
     "metadata": {},
     "output_type": "display_data"
    },
    {
     "data": {
      "text/markdown": [
       "497: "
      ],
      "text/plain": [
       "<IPython.core.display.Markdown object>"
      ]
     },
     "metadata": {},
     "output_type": "display_data"
    },
    {
     "data": {
      "text/markdown": [
       "500: » sagde Melin i Dag , « for jeg er saa besynderlig mat » I det"
      ],
      "text/plain": [
       "<IPython.core.display.Markdown object>"
      ]
     },
     "metadata": {},
     "output_type": "display_data"
    },
    {
     "data": {
      "text/markdown": [
       "509: syg , og Lottamoer saa ængstelig , og jeg er saa ængstelig , baade over hvad"
      ],
      "text/plain": [
       "<IPython.core.display.Markdown object>"
      ]
     },
     "metadata": {},
     "output_type": "display_data"
    },
    {
     "data": {
      "text/markdown": [
       "558: . En Aarsag mere til den mørke Stemning jeg er i , og vi alle ved"
      ],
      "text/plain": [
       "<IPython.core.display.Markdown object>"
      ]
     },
     "metadata": {},
     "output_type": "display_data"
    },
    {
     "data": {
      "text/markdown": [
       "617: De kan troe , kiære Moer Koren , jeg er færdig at fraraade alle unge Mennesker"
      ],
      "text/plain": [
       "<IPython.core.display.Markdown object>"
      ]
     },
     "metadata": {},
     "output_type": "display_data"
    },
    {
     "data": {
      "text/markdown": [
       "707: ned i en saa kaldet Fiskerhytte , som jeg er stærkt fristet til at holde for"
      ],
      "text/plain": [
       "<IPython.core.display.Markdown object>"
      ]
     },
     "metadata": {},
     "output_type": "display_data"
    },
    {
     "data": {
      "text/markdown": [
       "784: . Det er et himmelskt Veyr , og jeg er efter denne lille Gang , skiøndt"
      ],
      "text/plain": [
       "<IPython.core.display.Markdown object>"
      ]
     },
     "metadata": {},
     "output_type": "display_data"
    },
    {
     "data": {
      "text/markdown": [
       "786: , og disse endda ikke styrkende . Nu jeg er kommet op , føler jeg mindre"
      ],
      "text/plain": [
       "<IPython.core.display.Markdown object>"
      ]
     },
     "metadata": {},
     "output_type": "display_data"
    },
    {
     "data": {
      "text/markdown": [
       "#### NBkilder_Koren_1809.xml"
      ],
      "text/plain": [
       "<IPython.core.display.Markdown object>"
      ]
     },
     "metadata": {},
     "output_type": "display_data"
    },
    {
     "data": {
      "text/markdown": [
       "50: Gaar Nat , Sneefog og Storm , og jeg er mismodig over at see mit Forsæt"
      ],
      "text/plain": [
       "<IPython.core.display.Markdown object>"
      ]
     },
     "metadata": {},
     "output_type": "display_data"
    },
    {
     "data": {
      "text/markdown": [
       "52: gode , kiærlige , strænge Fader deroppe , jeg er ikke uskiønsom ! Jeg er ikke"
      ],
      "text/plain": [
       "<IPython.core.display.Markdown object>"
      ]
     },
     "metadata": {},
     "output_type": "display_data"
    },
    {
     "data": {
      "text/markdown": [
       "66: mig Venskab og Ømhed , saa lidt som jeg er urimelig nok til at fordre eller"
      ],
      "text/plain": [
       "<IPython.core.display.Markdown object>"
      ]
     },
     "metadata": {},
     "output_type": "display_data"
    },
    {
     "data": {
      "text/markdown": [
       "92: han , naar de seer mig , at jeg er en lille Stoerkar » –"
      ],
      "text/plain": [
       "<IPython.core.display.Markdown object>"
      ]
     },
     "metadata": {},
     "output_type": "display_data"
    },
    {
     "data": {
      "text/markdown": [
       "107: Ja , det var voldsomme Stød – men jeg er stærk . Sørg ikke , I"
      ],
      "text/plain": [
       "<IPython.core.display.Markdown object>"
      ]
     },
     "metadata": {},
     "output_type": "display_data"
    },
    {
     "data": {
      "text/markdown": [
       "138: finde det underligt , mine Dyrebare , at jeg er tungere om Hiertet end sædvanligt ."
      ],
      "text/plain": [
       "<IPython.core.display.Markdown object>"
      ]
     },
     "metadata": {},
     "output_type": "display_data"
    },
    {
     "data": {
      "text/markdown": [
       "282: Dage at skrive . Jeg veed ikke hvordan jeg er . Jeg spiser , drikker og"
      ],
      "text/plain": [
       "<IPython.core.display.Markdown object>"
      ]
     },
     "metadata": {},
     "output_type": "display_data"
    },
    {
     "data": {
      "text/markdown": [
       "291: neste Gang i Vente fra hende . Men jeg er saa vant til at see de"
      ],
      "text/plain": [
       "<IPython.core.display.Markdown object>"
      ]
     },
     "metadata": {},
     "output_type": "display_data"
    },
    {
     "data": {
      "text/markdown": [
       "303: om jeg end vilde og torde . Men jeg er mindre frisk i Dag , end"
      ],
      "text/plain": [
       "<IPython.core.display.Markdown object>"
      ]
     },
     "metadata": {},
     "output_type": "display_data"
    },
    {
     "data": {
      "text/markdown": [
       "306: var ikke frisk – de brave Chrysties ( jeg er von paa Futen , som kun"
      ],
      "text/plain": [
       "<IPython.core.display.Markdown object>"
      ]
     },
     "metadata": {},
     "output_type": "display_data"
    },
    {
     "data": {
      "text/markdown": [
       "316: jeg troer – thi endnu sover alle – jeg er tidlig paa færde – Lehnsmand Riis"
      ],
      "text/plain": [
       "<IPython.core.display.Markdown object>"
      ]
     },
     "metadata": {},
     "output_type": "display_data"
    },
    {
     "data": {
      "text/markdown": [
       "388: her saa seent , mine Elskede ! Men jeg er meget for Orden , som I"
      ],
      "text/plain": [
       "<IPython.core.display.Markdown object>"
      ]
     },
     "metadata": {},
     "output_type": "display_data"
    },
    {
     "data": {
      "text/markdown": [
       "549: "
      ],
      "text/plain": [
       "<IPython.core.display.Markdown object>"
      ]
     },
     "metadata": {},
     "output_type": "display_data"
    },
    {
     "data": {
      "text/markdown": [
       "551: de Velsignede , at vise mig hvor kiær jeg er dem , hvor giærne de vilde"
      ],
      "text/plain": [
       "<IPython.core.display.Markdown object>"
      ]
     },
     "metadata": {},
     "output_type": "display_data"
    },
    {
     "data": {
      "text/markdown": [
       "582: hvad skulde kunde glæde det mere ? Men jeg er meget syg i Dag , sygere"
      ],
      "text/plain": [
       "<IPython.core.display.Markdown object>"
      ]
     },
     "metadata": {},
     "output_type": "display_data"
    },
    {
     "data": {
      "text/markdown": [
       "616: ofte er ligesaa længe mellem hver Gang , jeg er der . Men saa er jeg"
      ],
      "text/plain": [
       "<IPython.core.display.Markdown object>"
      ]
     },
     "metadata": {},
     "output_type": "display_data"
    },
    {
     "data": {
      "text/markdown": [
       "634: De ikke , de velsignede Tøyenmennesker . Men jeg er derved , seer jeg , kommet"
      ],
      "text/plain": [
       "<IPython.core.display.Markdown object>"
      ]
     },
     "metadata": {},
     "output_type": "display_data"
    },
    {
     "data": {
      "text/markdown": [
       "643: , efter al Formodning , er sidste Gang jeg er i Hurdalen , vist sidste Gang"
      ],
      "text/plain": [
       "<IPython.core.display.Markdown object>"
      ]
     },
     "metadata": {},
     "output_type": "display_data"
    },
    {
     "data": {
      "text/markdown": [
       "703: var nogen , var stoer Trøst . Men jeg er slet ikke frisk faaer ingen qvægsom"
      ],
      "text/plain": [
       "<IPython.core.display.Markdown object>"
      ]
     },
     "metadata": {},
     "output_type": "display_data"
    },
    {
     "data": {
      "text/markdown": [
       "708: uden hendes Tab og hendes Broders . Men jeg er ret meget syg , og for"
      ],
      "text/plain": [
       "<IPython.core.display.Markdown object>"
      ]
     },
     "metadata": {},
     "output_type": "display_data"
    },
    {
     "data": {
      "text/markdown": [
       "754: Dag ? Moer vor ! » Ja , jeg er det , og vilde være det"
      ],
      "text/plain": [
       "<IPython.core.display.Markdown object>"
      ]
     },
     "metadata": {},
     "output_type": "display_data"
    },
    {
     "data": {
      "text/markdown": [
       "879: grumme lang Tiid nesten hver Nat drømmer at jeg er ung , undertiden Barn , og"
      ],
      "text/plain": [
       "<IPython.core.display.Markdown object>"
      ]
     },
     "metadata": {},
     "output_type": "display_data"
    },
    {
     "data": {
      "text/markdown": [
       "879: selvsamme Forhold , som nu ? Saadan som jeg er i Vane med at drømme ,"
      ],
      "text/plain": [
       "<IPython.core.display.Markdown object>"
      ]
     },
     "metadata": {},
     "output_type": "display_data"
    },
    {
     "data": {
      "text/markdown": [
       "880: at jeg kunde male ham . Men naa jeg er der , skiænder jeg ikke paa"
      ],
      "text/plain": [
       "<IPython.core.display.Markdown object>"
      ]
     },
     "metadata": {},
     "output_type": "display_data"
    },
    {
     "data": {
      "text/markdown": [
       "888: Ungerne mine , og Gud skee Lov , jeg er her , og at de alle"
      ],
      "text/plain": [
       "<IPython.core.display.Markdown object>"
      ]
     },
     "metadata": {},
     "output_type": "display_data"
    },
    {
     "data": {
      "text/markdown": [
       "905: har giort mig en trediedeel ældre , end jeg er ."
      ],
      "text/plain": [
       "<IPython.core.display.Markdown object>"
      ]
     },
     "metadata": {},
     "output_type": "display_data"
    },
    {
     "data": {
      "text/markdown": [
       "949: Elskelige , engang for alle , hvor vel jeg er der . Nu savnede jeg rigtig"
      ],
      "text/plain": [
       "<IPython.core.display.Markdown object>"
      ]
     },
     "metadata": {},
     "output_type": "display_data"
    },
    {
     "data": {
      "text/markdown": [
       "978: Moer Koren igien . Det er kun her jeg er og kan og bør være ganske"
      ],
      "text/plain": [
       "<IPython.core.display.Markdown object>"
      ]
     },
     "metadata": {},
     "output_type": "display_data"
    },
    {
     "data": {
      "text/markdown": [
       "#### NBkilder_Koren_1810.xml"
      ],
      "text/plain": [
       "<IPython.core.display.Markdown object>"
      ]
     },
     "metadata": {},
     "output_type": "display_data"
    },
    {
     "data": {
      "text/markdown": [
       "35: er færm igien , skiøndt mat , og jeg er færm og ikke mat , skiøndt"
      ],
      "text/plain": [
       "<IPython.core.display.Markdown object>"
      ]
     },
     "metadata": {},
     "output_type": "display_data"
    },
    {
     "data": {
      "text/markdown": [
       "61: Følelse : at holdes for bædre , end jeg er . Det er alt for ofte"
      ],
      "text/plain": [
       "<IPython.core.display.Markdown object>"
      ]
     },
     "metadata": {},
     "output_type": "display_data"
    },
    {
     "data": {
      "text/markdown": [
       "64: "
      ],
      "text/plain": [
       "<IPython.core.display.Markdown object>"
      ]
     },
     "metadata": {},
     "output_type": "display_data"
    },
    {
     "data": {
      "text/markdown": [
       "109: Moer Borchsenius . Tænk Eder da , om jeg er glad i hende . Hofmann vinder"
      ],
      "text/plain": [
       "<IPython.core.display.Markdown object>"
      ]
     },
     "metadata": {},
     "output_type": "display_data"
    },
    {
     "data": {
      "text/markdown": [
       "183: oplagt hertil i Dag , og saa længe jeg er det , ærgrer jeg mig ikke"
      ],
      "text/plain": [
       "<IPython.core.display.Markdown object>"
      ]
     },
     "metadata": {},
     "output_type": "display_data"
    },
    {
     "data": {
      "text/markdown": [
       "222: "
      ],
      "text/plain": [
       "<IPython.core.display.Markdown object>"
      ]
     },
     "metadata": {},
     "output_type": "display_data"
    },
    {
     "data": {
      "text/markdown": [
       "266: ud . O ! bliv dog frisk mens jeg er her !"
      ],
      "text/plain": [
       "<IPython.core.display.Markdown object>"
      ]
     },
     "metadata": {},
     "output_type": "display_data"
    },
    {
     "data": {
      "text/markdown": [
       "268: » sagde jeg . « Mener De , jeg er en Hader af Fruentimmer , fordi"
      ],
      "text/plain": [
       "<IPython.core.display.Markdown object>"
      ]
     },
     "metadata": {},
     "output_type": "display_data"
    },
    {
     "data": {
      "text/markdown": [
       "269: brødefulde Bye , og kommer ey igien mens jeg er her . Min lille Pige henter"
      ],
      "text/plain": [
       "<IPython.core.display.Markdown object>"
      ]
     },
     "metadata": {},
     "output_type": "display_data"
    },
    {
     "data": {
      "text/markdown": [
       "310: Ethvert Blik , enhver Bevægelse siger : « jeg er saa usigelig lykkelig » – Der"
      ],
      "text/plain": [
       "<IPython.core.display.Markdown object>"
      ]
     },
     "metadata": {},
     "output_type": "display_data"
    },
    {
     "data": {
      "text/markdown": [
       "311: har Walbohm bildt Barna her ind , at jeg er mat og svag , og at"
      ],
      "text/plain": [
       "<IPython.core.display.Markdown object>"
      ]
     },
     "metadata": {},
     "output_type": "display_data"
    },
    {
     "data": {
      "text/markdown": [
       "317: afsted . Jeg er ordentlig bædre tilmode siden jeg er vis paa , det skal afsted"
      ],
      "text/plain": [
       "<IPython.core.display.Markdown object>"
      ]
     },
     "metadata": {},
     "output_type": "display_data"
    },
    {
     "data": {
      "text/markdown": [
       "364: fordums Skik altiid blive liggende en Stund efter jeg er vaagnet , hvis jeg ikke vil"
      ],
      "text/plain": [
       "<IPython.core.display.Markdown object>"
      ]
     },
     "metadata": {},
     "output_type": "display_data"
    },
    {
     "data": {
      "text/markdown": [
       "384: sige Eder , mine Elskede , hvor ussel jeg er i Dag . Et Par Breve"
      ],
      "text/plain": [
       "<IPython.core.display.Markdown object>"
      ]
     },
     "metadata": {},
     "output_type": "display_data"
    },
    {
     "data": {
      "text/markdown": [
       "419: : « Og at jeg nu , da jeg er bædre og kiærligere , ikke har"
      ],
      "text/plain": [
       "<IPython.core.display.Markdown object>"
      ]
     },
     "metadata": {},
     "output_type": "display_data"
    },
    {
     "data": {
      "text/markdown": [
       "421: gudlige Væsen af det usle Støv . Naar jeg er saa mat og svag som jeg"
      ],
      "text/plain": [
       "<IPython.core.display.Markdown object>"
      ]
     },
     "metadata": {},
     "output_type": "display_data"
    },
    {
     "data": {
      "text/markdown": [
       "437: Gud veed , hvordan det er , at jeg er , at jeg kan være saa"
      ],
      "text/plain": [
       "<IPython.core.display.Markdown object>"
      ]
     },
     "metadata": {},
     "output_type": "display_data"
    },
    {
     "data": {
      "text/markdown": [
       "463: , og saa giorde jeg , som naar jeg er hiertelig bedrøvet , jeg trykkede det"
      ],
      "text/plain": [
       "<IPython.core.display.Markdown object>"
      ]
     },
     "metadata": {},
     "output_type": "display_data"
    },
    {
     "data": {
      "text/markdown": [
       "473: paa sønlig Kiærlighed . Min beste Tak veed jeg er den Vished , De ikke først"
      ],
      "text/plain": [
       "<IPython.core.display.Markdown object>"
      ]
     },
     "metadata": {},
     "output_type": "display_data"
    },
    {
     "data": {
      "text/markdown": [
       "477: først beroelige Eder med den Forsikring , at jeg er for saa vidt brav , kun"
      ],
      "text/plain": [
       "<IPython.core.display.Markdown object>"
      ]
     },
     "metadata": {},
     "output_type": "display_data"
    },
    {
     "data": {
      "text/markdown": [
       "507: jeg i Gaar , var oppe , som jeg er hver Dag naar jeg er frisk"
      ],
      "text/plain": [
       "<IPython.core.display.Markdown object>"
      ]
     },
     "metadata": {},
     "output_type": "display_data"
    },
    {
     "data": {
      "text/markdown": [
       "507: oppe , som jeg er hver Dag naar jeg er frisk , Kl 5 ½ ,"
      ],
      "text/plain": [
       "<IPython.core.display.Markdown object>"
      ]
     },
     "metadata": {},
     "output_type": "display_data"
    },
    {
     "data": {
      "text/markdown": [
       "545: "
      ],
      "text/plain": [
       "<IPython.core.display.Markdown object>"
      ]
     },
     "metadata": {},
     "output_type": "display_data"
    },
    {
     "data": {
      "text/markdown": [
       "556: ikke at lade den ubesøgt og uprydet mens jeg er borte ."
      ],
      "text/plain": [
       "<IPython.core.display.Markdown object>"
      ]
     },
     "metadata": {},
     "output_type": "display_data"
    },
    {
     "data": {
      "text/markdown": [
       "570: aldrig har seet mig før . Men naar jeg er saadan stemt , kan jeg umuelig"
      ],
      "text/plain": [
       "<IPython.core.display.Markdown object>"
      ]
     },
     "metadata": {},
     "output_type": "display_data"
    },
    {
     "data": {
      "text/markdown": [
       "576: der Du er ! Vær begge Dele som jeg er det i Dag ! Gud give"
      ],
      "text/plain": [
       "<IPython.core.display.Markdown object>"
      ]
     },
     "metadata": {},
     "output_type": "display_data"
    },
    {
     "data": {
      "text/markdown": [
       "576: ) og Thrinasara og Lotta og Lina og jeg er samlede ! Amen , det skee"
      ],
      "text/plain": [
       "<IPython.core.display.Markdown object>"
      ]
     },
     "metadata": {},
     "output_type": "display_data"
    },
    {
     "data": {
      "text/markdown": [
       "591: nok Forkiølelse , maaskee ogsaa Orm . Men jeg er selv rigtig træt og mat ."
      ],
      "text/plain": [
       "<IPython.core.display.Markdown object>"
      ]
     },
     "metadata": {},
     "output_type": "display_data"
    },
    {
     "data": {
      "text/markdown": [
       "605: de skiænder dernede – især Lotta – for jeg er saa længe borte . Det burde"
      ],
      "text/plain": [
       "<IPython.core.display.Markdown object>"
      ]
     },
     "metadata": {},
     "output_type": "display_data"
    },
    {
     "data": {
      "text/markdown": [
       "682: – ak og ikke første Gang – at jeg er ubillig mot mig selv og andre"
      ],
      "text/plain": [
       "<IPython.core.display.Markdown object>"
      ]
     },
     "metadata": {},
     "output_type": "display_data"
    },
    {
     "data": {
      "text/markdown": [
       "682: Maja eller Hertel tør jeg sige hvor bedrøvet jeg er , kun til min Koren ,"
      ],
      "text/plain": [
       "<IPython.core.display.Markdown object>"
      ]
     },
     "metadata": {},
     "output_type": "display_data"
    },
    {
     "data": {
      "text/markdown": [
       "704: bædre og beqvæmmere i alle Henseender , og jeg er tryggere . I al denne Forvirring"
      ],
      "text/plain": [
       "<IPython.core.display.Markdown object>"
      ]
     },
     "metadata": {},
     "output_type": "display_data"
    },
    {
     "data": {
      "text/markdown": [
       "770: , var jeg dog ængstligere da , end jeg er i Dag . Det er hans"
      ],
      "text/plain": [
       "<IPython.core.display.Markdown object>"
      ]
     },
     "metadata": {},
     "output_type": "display_data"
    },
    {
     "data": {
      "text/markdown": [
       "790: Men I skulde dog vide , hvor forfængelig jeg er i Søvne ( « ogsaa ?"
      ],
      "text/plain": [
       "<IPython.core.display.Markdown object>"
      ]
     },
     "metadata": {},
     "output_type": "display_data"
    },
    {
     "data": {
      "text/markdown": [
       "820: hiem uden al Fare og Skade , hvad jeg er fristet til at lade Hr Real"
      ],
      "text/plain": [
       "<IPython.core.display.Markdown object>"
      ]
     },
     "metadata": {},
     "output_type": "display_data"
    },
    {
     "data": {
      "text/markdown": [
       "828: velsignede Tøyen , som jeg længes efter naar jeg er borte fra det , som efter"
      ],
      "text/plain": [
       "<IPython.core.display.Markdown object>"
      ]
     },
     "metadata": {},
     "output_type": "display_data"
    },
    {
     "data": {
      "text/markdown": [
       "898: veed hvor jeg vil hen . Og hvor jeg er , og hvad jeg foretager mig"
      ],
      "text/plain": [
       "<IPython.core.display.Markdown object>"
      ]
     },
     "metadata": {},
     "output_type": "display_data"
    },
    {
     "data": {
      "text/markdown": [
       "898: , Lina og Kaja ikke undtagen ; men jeg er saa mat , at jeg neppe"
      ],
      "text/plain": [
       "<IPython.core.display.Markdown object>"
      ]
     },
     "metadata": {},
     "output_type": "display_data"
    },
    {
     "data": {
      "text/markdown": [
       "909: Jes maae allermindst faae Bogen , just fordi jeg er vis paa , den ikke vilde"
      ],
      "text/plain": [
       "<IPython.core.display.Markdown object>"
      ]
     },
     "metadata": {},
     "output_type": "display_data"
    },
    {
     "data": {
      "text/markdown": [
       "973: ! Vi skal til Bangs . Saa syg jeg er , Gud veed , jeg kan"
      ],
      "text/plain": [
       "<IPython.core.display.Markdown object>"
      ]
     },
     "metadata": {},
     "output_type": "display_data"
    },
    {
     "data": {
      "text/markdown": [
       "976: min , som min er Eders , som jeg er Eders Moer Koren ? ! –"
      ],
      "text/plain": [
       "<IPython.core.display.Markdown object>"
      ]
     },
     "metadata": {},
     "output_type": "display_data"
    },
    {
     "data": {
      "text/markdown": [
       "977: om jeg kan skiule det , hvor nedslagen jeg er –"
      ],
      "text/plain": [
       "<IPython.core.display.Markdown object>"
      ]
     },
     "metadata": {},
     "output_type": "display_data"
    },
    {
     "data": {
      "text/markdown": [
       "1012: « Min Kyse taer jeg ikke paa før jeg er kommet i Vognen » – sagde"
      ],
      "text/plain": [
       "<IPython.core.display.Markdown object>"
      ]
     },
     "metadata": {},
     "output_type": "display_data"
    },
    {
     "data": {
      "text/markdown": [
       "#### NBkilder_Koren_1811.xml"
      ],
      "text/plain": [
       "<IPython.core.display.Markdown object>"
      ]
     },
     "metadata": {},
     "output_type": "display_data"
    },
    {
     "data": {
      "text/markdown": [
       "7: – min Skriver skriver – Nytaarsvers , som jeg er vis paa mange , maaskee endog"
      ],
      "text/plain": [
       "<IPython.core.display.Markdown object>"
      ]
     },
     "metadata": {},
     "output_type": "display_data"
    },
    {
     "data": {
      "text/markdown": [
       "20: at tvivle om Udødeligheden – Følelsen af hvad jeg er Eder , I alle min Siæls"
      ],
      "text/plain": [
       "<IPython.core.display.Markdown object>"
      ]
     },
     "metadata": {},
     "output_type": "display_data"
    },
    {
     "data": {
      "text/markdown": [
       "22: "
      ],
      "text/plain": [
       "<IPython.core.display.Markdown object>"
      ]
     },
     "metadata": {},
     "output_type": "display_data"
    },
    {
     "data": {
      "text/markdown": [
       "24: og saa har jeg altiid travlt , naar jeg er saa lykkelig , jeg kan have"
      ],
      "text/plain": [
       "<IPython.core.display.Markdown object>"
      ]
     },
     "metadata": {},
     "output_type": "display_data"
    },
    {
     "data": {
      "text/markdown": [
       "35: og det fornøyer mig , i hvor nedslagen jeg er –"
      ],
      "text/plain": [
       "<IPython.core.display.Markdown object>"
      ]
     },
     "metadata": {},
     "output_type": "display_data"
    },
    {
     "data": {
      "text/markdown": [
       "43: fra mig før han seer her , at jeg er en Smule von paa ham ."
      ],
      "text/plain": [
       "<IPython.core.display.Markdown object>"
      ]
     },
     "metadata": {},
     "output_type": "display_data"
    },
    {
     "data": {
      "text/markdown": [
       "63: slaae . Men jeg holder , saa lidt jeg er for Kulden , dog mere af"
      ],
      "text/plain": [
       "<IPython.core.display.Markdown object>"
      ]
     },
     "metadata": {},
     "output_type": "display_data"
    },
    {
     "data": {
      "text/markdown": [
       "237: i Dag ? Det ahner mig , og jeg er midt iblandt Eder , og «"
      ],
      "text/plain": [
       "<IPython.core.display.Markdown object>"
      ]
     },
     "metadata": {},
     "output_type": "display_data"
    },
    {
     "data": {
      "text/markdown": [
       "237: signer dig , ottende Dag i April imens jeg er til » –"
      ],
      "text/plain": [
       "<IPython.core.display.Markdown object>"
      ]
     },
     "metadata": {},
     "output_type": "display_data"
    },
    {
     "data": {
      "text/markdown": [
       "270: Tilskuer , og finder , i hvor kiendt jeg er med den , stedse nye og"
      ],
      "text/plain": [
       "<IPython.core.display.Markdown object>"
      ]
     },
     "metadata": {},
     "output_type": "display_data"
    },
    {
     "data": {
      "text/markdown": [
       "282: det maae du troe , bare det at jeg er mat « som en Fendrik »"
      ],
      "text/plain": [
       "<IPython.core.display.Markdown object>"
      ]
     },
     "metadata": {},
     "output_type": "display_data"
    },
    {
     "data": {
      "text/markdown": [
       "289: Men jeg veed ikke hvordan det er , jeg er ordentlig glad i at see ham"
      ],
      "text/plain": [
       "<IPython.core.display.Markdown object>"
      ]
     },
     "metadata": {},
     "output_type": "display_data"
    },
    {
     "data": {
      "text/markdown": [
       "303: og siden har det været taaleligt . Men jeg er grumme mat . God Nat ,"
      ],
      "text/plain": [
       "<IPython.core.display.Markdown object>"
      ]
     },
     "metadata": {},
     "output_type": "display_data"
    },
    {
     "data": {
      "text/markdown": [
       "345: en heel Fragt ligge færdig . Ja , jeg er ret en Smørerinde . Og enda"
      ],
      "text/plain": [
       "<IPython.core.display.Markdown object>"
      ]
     },
     "metadata": {},
     "output_type": "display_data"
    },
    {
     "data": {
      "text/markdown": [
       "347: Ting som til at sige Eder hvor glad jeg er . Til Dagens Mærkværdigheder hører ogsaa"
      ],
      "text/plain": [
       "<IPython.core.display.Markdown object>"
      ]
     },
     "metadata": {},
     "output_type": "display_data"
    },
    {
     "data": {
      "text/markdown": [
       "362: mine , som nu mister ham ! skiøndt jeg er mig selv for nær til at"
      ],
      "text/plain": [
       "<IPython.core.display.Markdown object>"
      ]
     },
     "metadata": {},
     "output_type": "display_data"
    },
    {
     "data": {
      "text/markdown": [
       "369: Drømme . Seer I , mine Elskede , jeg er saa længe vant til det stille"
      ],
      "text/plain": [
       "<IPython.core.display.Markdown object>"
      ]
     },
     "metadata": {},
     "output_type": "display_data"
    },
    {
     "data": {
      "text/markdown": [
       "375: fortæller jeg min hele deltagende Kreds hvor glad jeg er , og saa betroer jeg Dagbogen"
      ],
      "text/plain": [
       "<IPython.core.display.Markdown object>"
      ]
     },
     "metadata": {},
     "output_type": "display_data"
    },
    {
     "data": {
      "text/markdown": [
       "375: lagt sin Pen for stedse , hvor lykkelig jeg er og var og bliver ved al"
      ],
      "text/plain": [
       "<IPython.core.display.Markdown object>"
      ]
     },
     "metadata": {},
     "output_type": "display_data"
    },
    {
     "data": {
      "text/markdown": [
       "381: Dag ere mig lidt til Byrde – thi jeg er hiertelig bedrøvet . Ikke mere over"
      ],
      "text/plain": [
       "<IPython.core.display.Markdown object>"
      ]
     },
     "metadata": {},
     "output_type": "display_data"
    },
    {
     "data": {
      "text/markdown": [
       "420: og Majadal , i det mindste saa længe jeg er vaagen , og selv kan nogenlunde"
      ],
      "text/plain": [
       "<IPython.core.display.Markdown object>"
      ]
     },
     "metadata": {},
     "output_type": "display_data"
    },
    {
     "data": {
      "text/markdown": [
       "423: kan behøve af Majas og Frederichs Bibliotheker mens jeg er der , og der behøver jeg"
      ],
      "text/plain": [
       "<IPython.core.display.Markdown object>"
      ]
     },
     "metadata": {},
     "output_type": "display_data"
    },
    {
     "data": {
      "text/markdown": [
       "447: , hvorhen de har stævnet mig . Men jeg er jo alles Eders Moer Koren ,"
      ],
      "text/plain": [
       "<IPython.core.display.Markdown object>"
      ]
     },
     "metadata": {},
     "output_type": "display_data"
    },
    {
     "data": {
      "text/markdown": [
       "463: Maja , om det ikke er sandt , jeg er bra ? – Før hun ret"
      ],
      "text/plain": [
       "<IPython.core.display.Markdown object>"
      ]
     },
     "metadata": {},
     "output_type": "display_data"
    },
    {
     "data": {
      "text/markdown": [
       "484: Nu gaaer det mig som Baggesen , at jeg er færdig at lægge dem bort «"
      ],
      "text/plain": [
       "<IPython.core.display.Markdown object>"
      ]
     },
     "metadata": {},
     "output_type": "display_data"
    },
    {
     "data": {
      "text/markdown": [
       "490: sidde sammen i Haven og Lunden , og jeg er i Dag saa lidt skikket til"
      ],
      "text/plain": [
       "<IPython.core.display.Markdown object>"
      ]
     },
     "metadata": {},
     "output_type": "display_data"
    },
    {
     "data": {
      "text/markdown": [
       "521: og nu til Præstens . I hvor vant jeg er til at see mig elsket og"
      ],
      "text/plain": [
       "<IPython.core.display.Markdown object>"
      ]
     },
     "metadata": {},
     "output_type": "display_data"
    },
    {
     "data": {
      "text/markdown": [
       "558: her i Huset . Han troer nok , jeg er en meget ugiæstmild Skriverinde , og"
      ],
      "text/plain": [
       "<IPython.core.display.Markdown object>"
      ]
     },
     "metadata": {},
     "output_type": "display_data"
    },
    {
     "data": {
      "text/markdown": [
       "646: fares , som jeg tidt hører , naar jeg er nede og seer til hende ."
      ],
      "text/plain": [
       "<IPython.core.display.Markdown object>"
      ]
     },
     "metadata": {},
     "output_type": "display_data"
    },
    {
     "data": {
      "text/markdown": [
       "648: , og takket Gud i hans Tempel fordi jeg er saa glad . Men er ikke"
      ],
      "text/plain": [
       "<IPython.core.display.Markdown object>"
      ]
     },
     "metadata": {},
     "output_type": "display_data"
    },
    {
     "data": {
      "text/markdown": [
       "673: jeg har skyndt mig , og hvor ofte jeg er blevet afbrudt . Der er nu"
      ],
      "text/plain": [
       "<IPython.core.display.Markdown object>"
      ]
     },
     "metadata": {},
     "output_type": "display_data"
    },
    {
     "data": {
      "text/markdown": [
       "728: , for at see min Rikke , da jeg er hende saa nær , engang endnu"
      ],
      "text/plain": [
       "<IPython.core.display.Markdown object>"
      ]
     },
     "metadata": {},
     "output_type": "display_data"
    },
    {
     "data": {
      "text/markdown": [
       "758: af de faa Ting hvorpaa jeg kiender , jeg er blevet gammel , at jeg har"
      ],
      "text/plain": [
       "<IPython.core.display.Markdown object>"
      ]
     },
     "metadata": {},
     "output_type": "display_data"
    },
    {
     "data": {
      "text/markdown": [
       "833: er kun Frysen og Tørst tilbage . Men jeg er grumme mat – Sovet har jeg"
      ],
      "text/plain": [
       "<IPython.core.display.Markdown object>"
      ]
     },
     "metadata": {},
     "output_type": "display_data"
    },
    {
     "data": {
      "text/markdown": [
       "#### NBkilder_Koren_1812.xml"
      ],
      "text/plain": [
       "<IPython.core.display.Markdown object>"
      ]
     },
     "metadata": {},
     "output_type": "display_data"
    },
    {
     "data": {
      "text/markdown": [
       "16: Gud skee Tak ikke er Tilfældet , da jeg er meget bædre , og Veyret taaleligt"
      ],
      "text/plain": [
       "<IPython.core.display.Markdown object>"
      ]
     },
     "metadata": {},
     "output_type": "display_data"
    },
    {
     "data": {
      "text/markdown": [
       "28: naar jeg lider , og glæder sig naar jeg er glad [ . ] Nu er"
      ],
      "text/plain": [
       "<IPython.core.display.Markdown object>"
      ]
     },
     "metadata": {},
     "output_type": "display_data"
    },
    {
     "data": {
      "text/markdown": [
       "30: drikker Caffe , tilbringer jeg stedse , naar jeg er i mit daglige Lag , læsende"
      ],
      "text/plain": [
       "<IPython.core.display.Markdown object>"
      ]
     },
     "metadata": {},
     "output_type": "display_data"
    },
    {
     "data": {
      "text/markdown": [
       "49: Psalmebog eller i Mare Zolls Andagtsbog . Men jeg er vis paa , at hendes fromme"
      ],
      "text/plain": [
       "<IPython.core.display.Markdown object>"
      ]
     },
     "metadata": {},
     "output_type": "display_data"
    },
    {
     "data": {
      "text/markdown": [
       "67: deylig Dag , det veed jeg . Men jeg er syg og mat af den evindelige"
      ],
      "text/plain": [
       "<IPython.core.display.Markdown object>"
      ]
     },
     "metadata": {},
     "output_type": "display_data"
    },
    {
     "data": {
      "text/markdown": [
       "87: han lige velsignet og sød igien . O jeg er saa glad i dette Barn med"
      ],
      "text/plain": [
       "<IPython.core.display.Markdown object>"
      ]
     },
     "metadata": {},
     "output_type": "display_data"
    },
    {
     "data": {
      "text/markdown": [
       "103: . Seer I , Elskede , hvor vis jeg er paa , at alt hvad der"
      ],
      "text/plain": [
       "<IPython.core.display.Markdown object>"
      ]
     },
     "metadata": {},
     "output_type": "display_data"
    },
    {
     "data": {
      "text/markdown": [
       "123: dog maae beskrive Eder lidt nøyere , da jeg er vis paa , I aldrig saae"
      ],
      "text/plain": [
       "<IPython.core.display.Markdown object>"
      ]
     },
     "metadata": {},
     "output_type": "display_data"
    },
    {
     "data": {
      "text/markdown": [
       "125: meget om de ventede glade Dage , og jeg er blevet alt bædre og bædre ,"
      ],
      "text/plain": [
       "<IPython.core.display.Markdown object>"
      ]
     },
     "metadata": {},
     "output_type": "display_data"
    },
    {
     "data": {
      "text/markdown": [
       "128: . Telja bager Munker til dem , og jeg er vis paa det bliver en Glædskabsfest"
      ],
      "text/plain": [
       "<IPython.core.display.Markdown object>"
      ]
     },
     "metadata": {},
     "output_type": "display_data"
    },
    {
     "data": {
      "text/markdown": [
       "139: . I seer , Elskede , hvor langt jeg er kommet i Journalen , og desforuden"
      ],
      "text/plain": [
       "<IPython.core.display.Markdown object>"
      ]
     },
     "metadata": {},
     "output_type": "display_data"
    },
    {
     "data": {
      "text/markdown": [
       "151: Men tænk saa ogsaa paa , hvor syg jeg er i Dag , og at jeg"
      ],
      "text/plain": [
       "<IPython.core.display.Markdown object>"
      ]
     },
     "metadata": {},
     "output_type": "display_data"
    },
    {
     "data": {
      "text/markdown": [
       "164: hende stille Dals Arme og Skiød , som jeg er vis paa , aldrig vil blive"
      ],
      "text/plain": [
       "<IPython.core.display.Markdown object>"
      ]
     },
     "metadata": {},
     "output_type": "display_data"
    },
    {
     "data": {
      "text/markdown": [
       "171: andet til min unge Ven Bergh , som jeg er vis paa vil opfylde hvad jeg"
      ],
      "text/plain": [
       "<IPython.core.display.Markdown object>"
      ]
     },
     "metadata": {},
     "output_type": "display_data"
    },
    {
     "data": {
      "text/markdown": [
       "175: Børn , et nyt Beviis paa , at jeg er hiemme . Fader Pedro kom hiem"
      ],
      "text/plain": [
       "<IPython.core.display.Markdown object>"
      ]
     },
     "metadata": {},
     "output_type": "display_data"
    },
    {
     "data": {
      "text/markdown": [
       "185: – see , nu troer jeg saa men jeg er færdig . At Maja P :"
      ],
      "text/plain": [
       "<IPython.core.display.Markdown object>"
      ]
     },
     "metadata": {},
     "output_type": "display_data"
    },
    {
     "data": {
      "text/markdown": [
       "204: reyste herfra , ryster paa Hovedet . O jeg er i en hiertelig Angest . See"
      ],
      "text/plain": [
       "<IPython.core.display.Markdown object>"
      ]
     },
     "metadata": {},
     "output_type": "display_data"
    },
    {
     "data": {
      "text/markdown": [
       "230: Pligttour giort i Morgen til Eidsvoldværk , hvorhen jeg er buden med min Koren , som"
      ],
      "text/plain": [
       "<IPython.core.display.Markdown object>"
      ]
     },
     "metadata": {},
     "output_type": "display_data"
    },
    {
     "data": {
      "text/markdown": [
       "307: Eder , Elskede , hvor let og fro jeg er . Det kommer vel ogsaa af"
      ],
      "text/plain": [
       "<IPython.core.display.Markdown object>"
      ]
     },
     "metadata": {},
     "output_type": "display_data"
    },
    {
     "data": {
      "text/markdown": [
       "323: kan jeg jo nok betroe dem , at jeg er ret meget syg . Egentlig føler"
      ],
      "text/plain": [
       "<IPython.core.display.Markdown object>"
      ]
     },
     "metadata": {},
     "output_type": "display_data"
    },
    {
     "data": {
      "text/markdown": [
       "326: og nødt til at giøre mig stærkere end jeg er , da alles Øyne vogte paa"
      ],
      "text/plain": [
       "<IPython.core.display.Markdown object>"
      ]
     },
     "metadata": {},
     "output_type": "display_data"
    },
    {
     "data": {
      "text/markdown": [
       "331: blive . Mere siden , mine Elskede ! jeg er saa mat , at jeg maae"
      ],
      "text/plain": [
       "<IPython.core.display.Markdown object>"
      ]
     },
     "metadata": {},
     "output_type": "display_data"
    },
    {
     "data": {
      "text/markdown": [
       "332: fast altiid , og dog kanske meest naar jeg er syg , begriber mere med Hiertet"
      ],
      "text/plain": [
       "<IPython.core.display.Markdown object>"
      ]
     },
     "metadata": {},
     "output_type": "display_data"
    },
    {
     "data": {
      "text/markdown": [
       "336: kommer mit Mismod vel meget af , at jeg er saa svag – o , I"
      ],
      "text/plain": [
       "<IPython.core.display.Markdown object>"
      ]
     },
     "metadata": {},
     "output_type": "display_data"
    },
    {
     "data": {
      "text/markdown": [
       "339: vor ! » – Ney , Børn , jeg er saa men lys vaagen . I"
      ],
      "text/plain": [
       "<IPython.core.display.Markdown object>"
      ]
     },
     "metadata": {},
     "output_type": "display_data"
    },
    {
     "data": {
      "text/markdown": [
       "353: Uge . Det er ikke Ret , at jeg er saa meget borte fra Kista mi"
      ],
      "text/plain": [
       "<IPython.core.display.Markdown object>"
      ]
     },
     "metadata": {},
     "output_type": "display_data"
    },
    {
     "data": {
      "text/markdown": [
       "372: om Brylluppet og Alskens andre Ting . At jeg er meget færm i Dag , troer"
      ],
      "text/plain": [
       "<IPython.core.display.Markdown object>"
      ]
     },
     "metadata": {},
     "output_type": "display_data"
    },
    {
     "data": {
      "text/markdown": [
       "412: mig ikke , og – kort sagt , jeg er heel underlig tilmode . Dog ikke"
      ],
      "text/plain": [
       "<IPython.core.display.Markdown object>"
      ]
     },
     "metadata": {},
     "output_type": "display_data"
    },
    {
     "data": {
      "text/markdown": [
       "420: , paa egen Haand havde kiøbt , hvorfor jeg er ham meget forbunden , og kan"
      ],
      "text/plain": [
       "<IPython.core.display.Markdown object>"
      ]
     },
     "metadata": {},
     "output_type": "display_data"
    },
    {
     "data": {
      "text/markdown": [
       "425: et Par Ord til min Lotta , men jeg er saa søvning og træt , at"
      ],
      "text/plain": [
       "<IPython.core.display.Markdown object>"
      ]
     },
     "metadata": {},
     "output_type": "display_data"
    },
    {
     "data": {
      "text/markdown": [
       "429: Øynene , deraf kommer det vel , at jeg er genegen til at troe , Rygtet"
      ],
      "text/plain": [
       "<IPython.core.display.Markdown object>"
      ]
     },
     "metadata": {},
     "output_type": "display_data"
    },
    {
     "data": {
      "text/markdown": [
       "453: , og kan ikke tage bort , saa jeg er bange , det faaer blive ved"
      ],
      "text/plain": [
       "<IPython.core.display.Markdown object>"
      ]
     },
     "metadata": {},
     "output_type": "display_data"
    },
    {
     "data": {
      "text/markdown": [
       "458: sad hos hende her paa mit Kammer naar jeg er her ene , hvor hun har"
      ],
      "text/plain": [
       "<IPython.core.display.Markdown object>"
      ]
     },
     "metadata": {},
     "output_type": "display_data"
    },
    {
     "data": {
      "text/markdown": [
       "469: saa let og roelig om Hiertet , som jeg er endnu ; thi Gud skee Lov"
      ],
      "text/plain": [
       "<IPython.core.display.Markdown object>"
      ]
     },
     "metadata": {},
     "output_type": "display_data"
    },
    {
     "data": {
      "text/markdown": [
       "469: ellers skikket til nogen lang Vandring , da jeg er saa underlig mo i mine Knæe"
      ],
      "text/plain": [
       "<IPython.core.display.Markdown object>"
      ]
     },
     "metadata": {},
     "output_type": "display_data"
    },
    {
     "data": {
      "text/markdown": [
       "478: Venskab udklækkedes den , fra Følelsen af hvad jeg er ved Eder , har den sit"
      ],
      "text/plain": [
       "<IPython.core.display.Markdown object>"
      ]
     },
     "metadata": {},
     "output_type": "display_data"
    },
    {
     "data": {
      "text/markdown": [
       "485: ondt midt under det venstre Fodblad , saa jeg er færdig at skrige af Smerte naar"
      ],
      "text/plain": [
       "<IPython.core.display.Markdown object>"
      ]
     },
     "metadata": {},
     "output_type": "display_data"
    },
    {
     "data": {
      "text/markdown": [
       "489: Høstdag . Det er ikke for mig selv jeg er utaalmodig . Jeg er taalelig brav"
      ],
      "text/plain": [
       "<IPython.core.display.Markdown object>"
      ]
     },
     "metadata": {},
     "output_type": "display_data"
    },
    {
     "data": {
      "text/markdown": [
       "494: Koren . O hvor jeg takker Gud fordi jeg er her . Hvor langt ængsteligere var"
      ],
      "text/plain": [
       "<IPython.core.display.Markdown object>"
      ]
     },
     "metadata": {},
     "output_type": "display_data"
    },
    {
     "data": {
      "text/markdown": [
       "497: saa troet – Jeg veed ikke , hvorfor jeg er saa hiertelig bedrøvet i denne Aftenstund"
      ],
      "text/plain": [
       "<IPython.core.display.Markdown object>"
      ]
     },
     "metadata": {},
     "output_type": "display_data"
    },
    {
     "data": {
      "text/markdown": [
       "501: ere , takker jeg Gud inderlig , at jeg er her . I Majas matte Smiil"
      ],
      "text/plain": [
       "<IPython.core.display.Markdown object>"
      ]
     },
     "metadata": {},
     "output_type": "display_data"
    },
    {
     "data": {
      "text/markdown": [
       "501: det bekymrede barnlige Hierte , føler jeg hvad jeg er hende , hvilken Trøst og Støtte"
      ],
      "text/plain": [
       "<IPython.core.display.Markdown object>"
      ]
     },
     "metadata": {},
     "output_type": "display_data"
    },
    {
     "data": {
      "text/markdown": [
       "501: var jeg end mindre for de Dyrebare end jeg er , takkede jeg dog Gud at"
      ],
      "text/plain": [
       "<IPython.core.display.Markdown object>"
      ]
     },
     "metadata": {},
     "output_type": "display_data"
    },
    {
     "data": {
      "text/markdown": [
       "516: I tænke Eder , Elskte , hvor glad jeg er . Vidste I det nu kun"
      ],
      "text/plain": [
       "<IPython.core.display.Markdown object>"
      ]
     },
     "metadata": {},
     "output_type": "display_data"
    },
    {
     "data": {
      "text/markdown": [
       "519: haaber vist , godt . Den glade Sindsstemning jeg er i , bebuder mig det ."
      ],
      "text/plain": [
       "<IPython.core.display.Markdown object>"
      ]
     },
     "metadata": {},
     "output_type": "display_data"
    },
    {
     "data": {
      "text/markdown": [
       "521: milde Kraft . Saa kan det vel være jeg er kuldskiærere nu end ellers , da"
      ],
      "text/plain": [
       "<IPython.core.display.Markdown object>"
      ]
     },
     "metadata": {},
     "output_type": "display_data"
    },
    {
     "data": {
      "text/markdown": [
       "548: "
      ],
      "text/plain": [
       "<IPython.core.display.Markdown object>"
      ]
     },
     "metadata": {},
     "output_type": "display_data"
    },
    {
     "data": {
      "text/markdown": [
       "555: Siæl i disse Dage , om hvor ubillig jeg er naar noget gaaer mig imod ."
      ],
      "text/plain": [
       "<IPython.core.display.Markdown object>"
      ]
     },
     "metadata": {},
     "output_type": "display_data"
    },
    {
     "data": {
      "text/markdown": [
       "574: Blade kunde vidne med mig , hvor uskyldig jeg er . Men nu har jeg skrevet"
      ],
      "text/plain": [
       "<IPython.core.display.Markdown object>"
      ]
     },
     "metadata": {},
     "output_type": "display_data"
    },
    {
     "data": {
      "text/markdown": [
       "582: Det regner og tordner og blæser , og jeg er færdig med alt mit Mod selv"
      ],
      "text/plain": [
       "<IPython.core.display.Markdown object>"
      ]
     },
     "metadata": {},
     "output_type": "display_data"
    },
    {
     "data": {
      "text/markdown": [
       "610: Rikke ligesaa , og lie bli lell fordi jeg er saa længe borte ."
      ],
      "text/plain": [
       "<IPython.core.display.Markdown object>"
      ]
     },
     "metadata": {},
     "output_type": "display_data"
    },
    {
     "data": {
      "text/markdown": [
       "657: . Og det er ingen Feberkulde , thi jeg er i Dag ret færm , og"
      ],
      "text/plain": [
       "<IPython.core.display.Markdown object>"
      ]
     },
     "metadata": {},
     "output_type": "display_data"
    },
    {
     "data": {
      "text/markdown": [
       "669: kunde jo heller ikke vide , hvor glad jeg er i min Moer Korens Veninde »"
      ],
      "text/plain": [
       "<IPython.core.display.Markdown object>"
      ]
     },
     "metadata": {},
     "output_type": "display_data"
    },
    {
     "data": {
      "text/markdown": [
       "673: og , hvad der er det værste , jeg er selv Skyld i det : thi"
      ],
      "text/plain": [
       "<IPython.core.display.Markdown object>"
      ]
     },
     "metadata": {},
     "output_type": "display_data"
    },
    {
     "data": {
      "text/markdown": [
       "692: giør det jo i dette Øyeblik . At jeg er saa beklæmt , kommer vel af"
      ],
      "text/plain": [
       "<IPython.core.display.Markdown object>"
      ]
     },
     "metadata": {},
     "output_type": "display_data"
    },
    {
     "data": {
      "text/markdown": [
       "714: raske Mand , som nu vel troer , jeg er en heel Politikus . Han opholdt"
      ],
      "text/plain": [
       "<IPython.core.display.Markdown object>"
      ]
     },
     "metadata": {},
     "output_type": "display_data"
    },
    {
     "data": {
      "text/markdown": [
       "731: thi I maae vide , mine Børn , jeg er en reen Fusker i Korthaandværket ."
      ],
      "text/plain": [
       "<IPython.core.display.Markdown object>"
      ]
     },
     "metadata": {},
     "output_type": "display_data"
    },
    {
     "data": {
      "text/markdown": [
       "754: mig glade Efterretninger . Jeg veed ikke hvorfor jeg er saa ængstelig , og ikke kan"
      ],
      "text/plain": [
       "<IPython.core.display.Markdown object>"
      ]
     },
     "metadata": {},
     "output_type": "display_data"
    },
    {
     "data": {
      "text/markdown": [
       "759: Maja C , som vel maae synes , jeg er et underligt Dyr , der lod"
      ],
      "text/plain": [
       "<IPython.core.display.Markdown object>"
      ]
     },
     "metadata": {},
     "output_type": "display_data"
    },
    {
     "data": {
      "text/markdown": [
       "798: nesten ligesaa tungt som hiin Geschichte ; thi jeg er saa bange for , at vi"
      ],
      "text/plain": [
       "<IPython.core.display.Markdown object>"
      ]
     },
     "metadata": {},
     "output_type": "display_data"
    },
    {
     "data": {
      "text/markdown": [
       "803: og til blæser det ogsaa lidt , og jeg er meget bædre ."
      ],
      "text/plain": [
       "<IPython.core.display.Markdown object>"
      ]
     },
     "metadata": {},
     "output_type": "display_data"
    },
    {
     "data": {
      "text/markdown": [
       "870: , snart at kunde besvare mundtlig . Den jeg er i størst Gield hos , er"
      ],
      "text/plain": [
       "<IPython.core.display.Markdown object>"
      ]
     },
     "metadata": {},
     "output_type": "display_data"
    },
    {
     "data": {
      "text/markdown": [
       "873: jeg nu siger Eder , Dyrebare , at jeg er meget bædre , troer I mig"
      ],
      "text/plain": [
       "<IPython.core.display.Markdown object>"
      ]
     },
     "metadata": {},
     "output_type": "display_data"
    },
    {
     "data": {
      "text/markdown": [
       "874: . Der kommer bestandig ingen Snee , og jeg er bestandig ret en Usling . Egentlig"
      ],
      "text/plain": [
       "<IPython.core.display.Markdown object>"
      ]
     },
     "metadata": {},
     "output_type": "display_data"
    },
    {
     "data": {
      "text/markdown": [
       "876: en Slæde sidder man dog ikke ) da jeg er mindre end frisk , og har"
      ],
      "text/plain": [
       "<IPython.core.display.Markdown object>"
      ]
     },
     "metadata": {},
     "output_type": "display_data"
    },
    {
     "data": {
      "text/markdown": [
       "877: Søvn . Et Beviis paa , hvilken Stakkel jeg er bleven . Thi det gier mig"
      ],
      "text/plain": [
       "<IPython.core.display.Markdown object>"
      ]
     },
     "metadata": {},
     "output_type": "display_data"
    },
    {
     "data": {
      "text/markdown": [
       "885: Hun ligger saa stille . Jeg synes ogsaa jeg er bædre saa længe jeg sidder stille"
      ],
      "text/plain": [
       "<IPython.core.display.Markdown object>"
      ]
     },
     "metadata": {},
     "output_type": "display_data"
    },
    {
     "data": {
      "text/markdown": [
       "902: have det at gogiøre sig med , naar jeg er borte . Majalild bliver her til"
      ],
      "text/plain": [
       "<IPython.core.display.Markdown object>"
      ]
     },
     "metadata": {},
     "output_type": "display_data"
    },
    {
     "data": {
      "text/markdown": [
       "#### NBkilder_Koren_1813.xml"
      ],
      "text/plain": [
       "<IPython.core.display.Markdown object>"
      ]
     },
     "metadata": {},
     "output_type": "display_data"
    },
    {
     "data": {
      "text/markdown": [
       "26: vil I , som veed hvilken upartisk Moder jeg er , ogsaa vist troe . Gud"
      ],
      "text/plain": [
       "<IPython.core.display.Markdown object>"
      ]
     },
     "metadata": {},
     "output_type": "display_data"
    },
    {
     "data": {
      "text/markdown": [
       "31: længe fra Lotta mi den korte Tiid , jeg er hos hende – dog , der"
      ],
      "text/plain": [
       "<IPython.core.display.Markdown object>"
      ]
     },
     "metadata": {},
     "output_type": "display_data"
    },
    {
     "data": {
      "text/markdown": [
       "40: har spiist , hvile mig lidt , thi jeg er ikke ret brav i Dag ,"
      ],
      "text/plain": [
       "<IPython.core.display.Markdown object>"
      ]
     },
     "metadata": {},
     "output_type": "display_data"
    },
    {
     "data": {
      "text/markdown": [
       "51: dette Ønske opfyldt , Barnet mit , og jeg er ogsaa glad ved at kunde see"
      ],
      "text/plain": [
       "<IPython.core.display.Markdown object>"
      ]
     },
     "metadata": {},
     "output_type": "display_data"
    },
    {
     "data": {
      "text/markdown": [
       "60: været ovre og hilset paa Borches , men jeg er rigtig syg i Dag , og"
      ],
      "text/plain": [
       "<IPython.core.display.Markdown object>"
      ]
     },
     "metadata": {},
     "output_type": "display_data"
    },
    {
     "data": {
      "text/markdown": [
       "60: vi skal til Rørbyes , den sidste Dag jeg er her – ak , hvor er"
      ],
      "text/plain": [
       "<IPython.core.display.Markdown object>"
      ]
     },
     "metadata": {},
     "output_type": "display_data"
    },
    {
     "data": {
      "text/markdown": [
       "72: og dermed vil det gaae langsomt , da jeg er grumme mat , og har havt"
      ],
      "text/plain": [
       "<IPython.core.display.Markdown object>"
      ]
     },
     "metadata": {},
     "output_type": "display_data"
    },
    {
     "data": {
      "text/markdown": [
       "75: og hun havde saa godt Følge , at jeg er ganske roelig for det kiære Børn"
      ],
      "text/plain": [
       "<IPython.core.display.Markdown object>"
      ]
     },
     "metadata": {},
     "output_type": "display_data"
    },
    {
     "data": {
      "text/markdown": [
       "77: Denne Blæst skylder jeg ogsaa for , at jeg er mindre rask end i Gaar ."
      ],
      "text/plain": [
       "<IPython.core.display.Markdown object>"
      ]
     },
     "metadata": {},
     "output_type": "display_data"
    },
    {
     "data": {
      "text/markdown": [
       "93: Gange at sige Eder hvor glad og lykkelig jeg er ved min Majas Side , blandt"
      ],
      "text/plain": [
       "<IPython.core.display.Markdown object>"
      ]
     },
     "metadata": {},
     "output_type": "display_data"
    },
    {
     "data": {
      "text/markdown": [
       "97: sang vor kiære Giæst ( I veed , jeg er hiemme paa Auestad som hos alle"
      ],
      "text/plain": [
       "<IPython.core.display.Markdown object>"
      ]
     },
     "metadata": {},
     "output_type": "display_data"
    },
    {
     "data": {
      "text/markdown": [
       "99: . « Jeg faaer altiid godt Veyr naar jeg er ude og reyser » sagde Faer"
      ],
      "text/plain": [
       "<IPython.core.display.Markdown object>"
      ]
     },
     "metadata": {},
     "output_type": "display_data"
    },
    {
     "data": {
      "text/markdown": [
       "103: var saa utaalmodig som en Elsker ( siden jeg er saa nær det halve Secel tør"
      ],
      "text/plain": [
       "<IPython.core.display.Markdown object>"
      ]
     },
     "metadata": {},
     "output_type": "display_data"
    },
    {
     "data": {
      "text/markdown": [
       "155: er hun brav , siger hun , og jeg er det virkelig , om kun ikke"
      ],
      "text/plain": [
       "<IPython.core.display.Markdown object>"
      ]
     },
     "metadata": {},
     "output_type": "display_data"
    },
    {
     "data": {
      "text/markdown": [
       "183: det første jeg fortæller Eder være , at jeg er overmaade rask i Dag , og"
      ],
      "text/plain": [
       "<IPython.core.display.Markdown object>"
      ]
     },
     "metadata": {},
     "output_type": "display_data"
    },
    {
     "data": {
      "text/markdown": [
       "188: . O , at de saae hvor frisk jeg er , hvor godt jeg har det"
      ],
      "text/plain": [
       "<IPython.core.display.Markdown object>"
      ]
     },
     "metadata": {},
     "output_type": "display_data"
    },
    {
     "data": {
      "text/markdown": [
       "198: vi lever i sød Roe , og at jeg er ret dygtig frisk . Om Formiddagen"
      ],
      "text/plain": [
       "<IPython.core.display.Markdown object>"
      ]
     },
     "metadata": {},
     "output_type": "display_data"
    },
    {
     "data": {
      "text/markdown": [
       "257: lidt længere ; og saa stoer en Hader jeg er af Skiændselsstøtter , denne os elskelige"
      ],
      "text/plain": [
       "<IPython.core.display.Markdown object>"
      ]
     },
     "metadata": {},
     "output_type": "display_data"
    },
    {
     "data": {
      "text/markdown": [
       "265: , er at beskyldes for Bitterhed , naar jeg er mig bevidst , at have skrevet"
      ],
      "text/plain": [
       "<IPython.core.display.Markdown object>"
      ]
     },
     "metadata": {},
     "output_type": "display_data"
    },
    {
     "data": {
      "text/markdown": [
       "317: , jeg skylder Fader Pavels Brev , men jeg er saa mat , at jeg maae"
      ],
      "text/plain": [
       "<IPython.core.display.Markdown object>"
      ]
     },
     "metadata": {},
     "output_type": "display_data"
    },
    {
     "data": {
      "text/markdown": [
       "341: nu i Dag i al Regnen , og jeg er vreed paa mig selv , fordi"
      ],
      "text/plain": [
       "<IPython.core.display.Markdown object>"
      ]
     },
     "metadata": {},
     "output_type": "display_data"
    },
    {
     "data": {
      "text/markdown": [
       "350: var jeg ikke Kl halvtolv i Aftes som jeg er nu . Seer I , her"
      ],
      "text/plain": [
       "<IPython.core.display.Markdown object>"
      ]
     },
     "metadata": {},
     "output_type": "display_data"
    },
    {
     "data": {
      "text/markdown": [
       "350: Aften og disse glade Dage . Jeg synes jeg er blevet endnu yngere end før ,"
      ],
      "text/plain": [
       "<IPython.core.display.Markdown object>"
      ]
     },
     "metadata": {},
     "output_type": "display_data"
    },
    {
     "data": {
      "text/markdown": [
       "350: før , og I veed , hvor ung jeg er naar jeg er glad . Og"
      ],
      "text/plain": [
       "<IPython.core.display.Markdown object>"
      ]
     },
     "metadata": {},
     "output_type": "display_data"
    },
    {
     "data": {
      "text/markdown": [
       "350: I veed , hvor ung jeg er naar jeg er glad . Og nu Udsigten til"
      ],
      "text/plain": [
       "<IPython.core.display.Markdown object>"
      ]
     },
     "metadata": {},
     "output_type": "display_data"
    },
    {
     "data": {
      "text/markdown": [
       "381: er vist denne Dags Roelighed tiænlig , da jeg er mindre end rask , og vaagnede"
      ],
      "text/plain": [
       "<IPython.core.display.Markdown object>"
      ]
     },
     "metadata": {},
     "output_type": "display_data"
    },
    {
     "data": {
      "text/markdown": [
       "403: , og har det nu værre , thi jeg er ganske brav , hun ikke ."
      ],
      "text/plain": [
       "<IPython.core.display.Markdown object>"
      ]
     },
     "metadata": {},
     "output_type": "display_data"
    },
    {
     "data": {
      "text/markdown": [
       "450: mig at fordrive den slemme Plageaand , og jeg er nu saa færm , at jeg"
      ],
      "text/plain": [
       "<IPython.core.display.Markdown object>"
      ]
     },
     "metadata": {},
     "output_type": "display_data"
    },
    {
     "data": {
      "text/markdown": [
       "459: igien havde lettet Eders ved Efterretningen om at jeg er fuldkommen frisk , da I ere"
      ],
      "text/plain": [
       "<IPython.core.display.Markdown object>"
      ]
     },
     "metadata": {},
     "output_type": "display_data"
    },
    {
     "data": {
      "text/markdown": [
       "469: Majabrevet fuldender jeg nu først . – At jeg er længe siden færdig med Tobias Hoppe"
      ],
      "text/plain": [
       "<IPython.core.display.Markdown object>"
      ]
     },
     "metadata": {},
     "output_type": "display_data"
    },
    {
     "data": {
      "text/markdown": [
       "479: Folk i Egnen her . De troer vist jeg er blevet stoerfolk eller Gud veed hvad"
      ],
      "text/plain": [
       "<IPython.core.display.Markdown object>"
      ]
     },
     "metadata": {},
     "output_type": "display_data"
    },
    {
     "data": {
      "text/markdown": [
       "497: ja saa gar Telja . Kun Kista og jeg er hiemme . Jeg stod mismodig op"
      ],
      "text/plain": [
       "<IPython.core.display.Markdown object>"
      ]
     },
     "metadata": {},
     "output_type": "display_data"
    },
    {
     "data": {
      "text/markdown": [
       "529: modsige hende , naar hun kalder Godt hvad jeg er overbevist om , ikke er det"
      ],
      "text/plain": [
       "<IPython.core.display.Markdown object>"
      ]
     },
     "metadata": {},
     "output_type": "display_data"
    },
    {
     "data": {
      "text/markdown": [
       "538: var søde Idas Fødselsdag . – Dog , jeg er jo ikke kommet rigtig til Økeren"
      ],
      "text/plain": [
       "<IPython.core.display.Markdown object>"
      ]
     },
     "metadata": {},
     "output_type": "display_data"
    },
    {
     "data": {
      "text/markdown": [
       "562: med Tryk paa ; men I veed , jeg er lidt forligt med ham i den"
      ],
      "text/plain": [
       "<IPython.core.display.Markdown object>"
      ]
     },
     "metadata": {},
     "output_type": "display_data"
    },
    {
     "data": {
      "text/markdown": [
       "574: at blive saa mange Dage længere , som jeg er borte , og det beroeliger mig"
      ],
      "text/plain": [
       "<IPython.core.display.Markdown object>"
      ]
     },
     "metadata": {},
     "output_type": "display_data"
    },
    {
     "data": {
      "text/markdown": [
       "669: og gaaer saa sikkert til Hiertet . Men jeg er nok meget svag , thi jeg"
      ],
      "text/plain": [
       "<IPython.core.display.Markdown object>"
      ]
     },
     "metadata": {},
     "output_type": "display_data"
    },
    {
     "data": {
      "text/markdown": [
       "671: . O , jeg var ikke allene , jeg er en lykkelig Moder , en af"
      ],
      "text/plain": [
       "<IPython.core.display.Markdown object>"
      ]
     },
     "metadata": {},
     "output_type": "display_data"
    },
    {
     "data": {
      "text/markdown": [
       "687: Giid I nu Alle vidste , hvor rask jeg er igien . Jeg har drukket mine"
      ],
      "text/plain": [
       "<IPython.core.display.Markdown object>"
      ]
     },
     "metadata": {},
     "output_type": "display_data"
    },
    {
     "data": {
      "text/markdown": [
       "687: . Det er et sandt Tegn til , jeg er frisk igien . Men see !"
      ],
      "text/plain": [
       "<IPython.core.display.Markdown object>"
      ]
     },
     "metadata": {},
     "output_type": "display_data"
    },
    {
     "data": {
      "text/markdown": [
       "688: , hun havde . I maae vide , jeg er bleven end mere barnagtig siden jeg"
      ],
      "text/plain": [
       "<IPython.core.display.Markdown object>"
      ]
     },
     "metadata": {},
     "output_type": "display_data"
    },
    {
     "data": {
      "text/markdown": [
       "694: Føret godt , og dog bliver jeg hvor jeg er . Jeg havde i Nat igien"
      ],
      "text/plain": [
       "<IPython.core.display.Markdown object>"
      ]
     },
     "metadata": {},
     "output_type": "display_data"
    },
    {
     "data": {
      "text/markdown": [
       "702: ofte reyst længere i slettere Føre . Men jeg er uslere end Føret , det er"
      ],
      "text/plain": [
       "<IPython.core.display.Markdown object>"
      ]
     },
     "metadata": {},
     "output_type": "display_data"
    },
    {
     "data": {
      "text/markdown": [
       "708: , nægtes eller berøves dem . Dog , jeg er kommet uden for min Sphære ,"
      ],
      "text/plain": [
       "<IPython.core.display.Markdown object>"
      ]
     },
     "metadata": {},
     "output_type": "display_data"
    },
    {
     "data": {
      "text/markdown": [
       "708: mig i mit lille grønne Kammer , hvor jeg er ligesom udenfor alt hvad der ikke"
      ],
      "text/plain": [
       "<IPython.core.display.Markdown object>"
      ]
     },
     "metadata": {},
     "output_type": "display_data"
    },
    {
     "data": {
      "text/markdown": [
       "720: . Nu skulde jeg dog , hvor lidt jeg er stemt til det , fortælle Eder"
      ],
      "text/plain": [
       "<IPython.core.display.Markdown object>"
      ]
     },
     "metadata": {},
     "output_type": "display_data"
    },
    {
     "data": {
      "text/markdown": [
       "723: mig . Jeg kan ikke sove længere end jeg er vant til , og saa snart"
      ],
      "text/plain": [
       "<IPython.core.display.Markdown object>"
      ]
     },
     "metadata": {},
     "output_type": "display_data"
    },
    {
     "data": {
      "text/markdown": [
       "745: fortrinlige blandt Lafontaines Romaner ; men nu , jeg er blevet ret fortroelig med den ,"
      ],
      "text/plain": [
       "<IPython.core.display.Markdown object>"
      ]
     },
     "metadata": {},
     "output_type": "display_data"
    },
    {
     "data": {
      "text/markdown": [
       "747: , I troer ikke hvor frisk og let jeg er i det hele Legeme , fra"
      ],
      "text/plain": [
       "<IPython.core.display.Markdown object>"
      ]
     },
     "metadata": {},
     "output_type": "display_data"
    },
    {
     "data": {
      "text/markdown": [
       "766: , og dine Venner endnu . Koren og jeg er dine Sødskende » – noget saadant"
      ],
      "text/plain": [
       "<IPython.core.display.Markdown object>"
      ]
     },
     "metadata": {},
     "output_type": "display_data"
    },
    {
     "data": {
      "text/markdown": [
       "766: jeg , troer jeg . Det græsselige : jeg er saa forladt ! – rystede mit"
      ],
      "text/plain": [
       "<IPython.core.display.Markdown object>"
      ]
     },
     "metadata": {},
     "output_type": "display_data"
    },
    {
     "data": {
      "text/markdown": [
       "766: Bryst , og det er jeg aldrig naar jeg er bedrøvet . Men Hovedet er godt"
      ],
      "text/plain": [
       "<IPython.core.display.Markdown object>"
      ]
     },
     "metadata": {},
     "output_type": "display_data"
    },
    {
     "data": {
      "text/markdown": [
       "766: Roe . Af Næstouren bliver intet . Og jeg er blevet bædre imens jeg skrev ."
      ],
      "text/plain": [
       "<IPython.core.display.Markdown object>"
      ]
     },
     "metadata": {},
     "output_type": "display_data"
    },
    {
     "data": {
      "text/markdown": [
       "#### NBkilder_Koren_1814.xml"
      ],
      "text/plain": [
       "<IPython.core.display.Markdown object>"
      ]
     },
     "metadata": {},
     "output_type": "display_data"
    },
    {
     "data": {
      "text/markdown": [
       "2: være gladere , lettere om Hiertet , end jeg er i Dag , og Gud give"
      ],
      "text/plain": [
       "<IPython.core.display.Markdown object>"
      ]
     },
     "metadata": {},
     "output_type": "display_data"
    },
    {
     "data": {
      "text/markdown": [
       "7: den fortroelige Samsnak , som I veed , jeg er saadan Giæk efter . Husherren forsømmer"
      ],
      "text/plain": [
       "<IPython.core.display.Markdown object>"
      ]
     },
     "metadata": {},
     "output_type": "display_data"
    },
    {
     "data": {
      "text/markdown": [
       "18: nu , jeg var en Mand ; men jeg er kun en svag frygtsom Pige ."
      ],
      "text/plain": [
       "<IPython.core.display.Markdown object>"
      ]
     },
     "metadata": {},
     "output_type": "display_data"
    },
    {
     "data": {
      "text/markdown": [
       "43: Frue Brat . Ak , mine Kiære , jeg er ikke halv saa god , som"
      ],
      "text/plain": [
       "<IPython.core.display.Markdown object>"
      ]
     },
     "metadata": {},
     "output_type": "display_data"
    },
    {
     "data": {
      "text/markdown": [
       "123: Inderste , end om jeg nu , da jeg er roeligere , forsøgte at giøre Eder"
      ],
      "text/plain": [
       "<IPython.core.display.Markdown object>"
      ]
     },
     "metadata": {},
     "output_type": "display_data"
    },
    {
     "data": {
      "text/markdown": [
       "169: som jeg ogsaa saa giærne vilde , fordi jeg er beredt til at leve og døe"
      ],
      "text/plain": [
       "<IPython.core.display.Markdown object>"
      ]
     },
     "metadata": {},
     "output_type": "display_data"
    },
    {
     "data": {
      "text/markdown": [
       "169: stolt af , og aldrig fragaae , at jeg er det ædle mishandlede Norges Pleyedatter ["
      ],
      "text/plain": [
       "<IPython.core.display.Markdown object>"
      ]
     },
     "metadata": {},
     "output_type": "display_data"
    },
    {
     "data": {
      "text/markdown": [
       "204: Men I Alle undres ikke over , at jeg er lidt underlig tilmode , lidt beklæmt"
      ],
      "text/plain": [
       "<IPython.core.display.Markdown object>"
      ]
     },
     "metadata": {},
     "output_type": "display_data"
    },
    {
     "data": {
      "text/markdown": [
       "#### NBkilder_Koren_1815.xml"
      ],
      "text/plain": [
       "<IPython.core.display.Markdown object>"
      ]
     },
     "metadata": {},
     "output_type": "display_data"
    },
    {
     "data": {
      "text/markdown": [
       "9: "
      ],
      "text/plain": [
       "<IPython.core.display.Markdown object>"
      ]
     },
     "metadata": {},
     "output_type": "display_data"
    },
    {
     "data": {
      "text/markdown": [
       "12: Hierte nu kun er sexten Aar , at jeg er tilfreds med Alt omkring mig ,"
      ],
      "text/plain": [
       "<IPython.core.display.Markdown object>"
      ]
     },
     "metadata": {},
     "output_type": "display_data"
    },
    {
     "data": {
      "text/markdown": [
       "13: Verdens politiske Gang . Jeg negter ikke , jeg er lidt vred paa Dem for nogle"
      ],
      "text/plain": [
       "<IPython.core.display.Markdown object>"
      ]
     },
     "metadata": {},
     "output_type": "display_data"
    },
    {
     "data": {
      "text/markdown": [
       "15: Auestad . Gud , hvor glad og lykkelig jeg er ! Men jeg er det for"
      ],
      "text/plain": [
       "<IPython.core.display.Markdown object>"
      ]
     },
     "metadata": {},
     "output_type": "display_data"
    },
    {
     "data": {
      "text/markdown": [
       "15: hvor glad og lykkelig jeg er ! Men jeg er det for meget til nu at"
      ],
      "text/plain": [
       "<IPython.core.display.Markdown object>"
      ]
     },
     "metadata": {},
     "output_type": "display_data"
    },
    {
     "data": {
      "text/markdown": [
       "#### NBkilder_Undset_Fragmenter.xml"
      ],
      "text/plain": [
       "<IPython.core.display.Markdown object>"
      ]
     },
     "metadata": {},
     "output_type": "display_data"
    },
    {
     "data": {
      "text/markdown": [
       "141: ' rettet fra ' mi ' ved overskriving jeg er hjemme . » Hun tar om"
      ],
      "text/plain": [
       "<IPython.core.display.Markdown object>"
      ]
     },
     "metadata": {},
     "output_type": "display_data"
    },
    {
     "data": {
      "text/markdown": [
       "168: . Og saa er det det , at jeg er blit ærgjerrig ogsaa nu . Fordi"
      ],
      "text/plain": [
       "<IPython.core.display.Markdown object>"
      ]
     },
     "metadata": {},
     "output_type": "display_data"
    },
    {
     "data": {
      "text/markdown": [
       "168: jeg er blit ærgjerrig ogsaa nu . Fordi jeg er din og fordi jeg skal bli"
      ],
      "text/plain": [
       "<IPython.core.display.Markdown object>"
      ]
     },
     "metadata": {},
     "output_type": "display_data"
    },
    {
     "data": {
      "text/markdown": [
       "168: vil jeg bli til noget . Og fordi jeg er lykkelig – ."
      ],
      "text/plain": [
       "<IPython.core.display.Markdown object>"
      ]
     },
     "metadata": {},
     "output_type": "display_data"
    },
    {
     "data": {
      "text/markdown": [
       "169: gud , naar jeg tænker paa , hvor jeg er lykkelig – . Og jeg kan"
      ],
      "text/plain": [
       "<IPython.core.display.Markdown object>"
      ]
     },
     "metadata": {},
     "output_type": "display_data"
    },
    {
     "data": {
      "text/markdown": [
       "169: Og jeg kan ikke glemme , fordi om jeg er lykkelig , at livet er bundløst"
      ],
      "text/plain": [
       "<IPython.core.display.Markdown object>"
      ]
     },
     "metadata": {},
     "output_type": "display_data"
    },
    {
     "data": {
      "text/markdown": [
       "169: , der ikke vet , hvor bundløst rik jeg er – det er bare som en"
      ],
      "text/plain": [
       "<IPython.core.display.Markdown object>"
      ]
     },
     "metadata": {},
     "output_type": "display_data"
    },
    {
     "data": {
      "text/markdown": [
       "171: mig til mit arbeide ? Jeg som synes jeg er kommet utenfor livet – det som"
      ],
      "text/plain": [
       "<IPython.core.display.Markdown object>"
      ]
     },
     "metadata": {},
     "output_type": "display_data"
    },
    {
     "data": {
      "text/markdown": [
       "171: er der , men jeg husker , hvor jeg er født og baaren og hvor min"
      ],
      "text/plain": [
       "<IPython.core.display.Markdown object>"
      ]
     },
     "metadata": {},
     "output_type": "display_data"
    },
    {
     "data": {
      "text/markdown": [
       "171: kom dit . Og sommetider , netop naar jeg er mest lykkelig , saa stikker det"
      ],
      "text/plain": [
       "<IPython.core.display.Markdown object>"
      ]
     },
     "metadata": {},
     "output_type": "display_data"
    },
    {
     "data": {
      "text/markdown": [
       "207: tror ikke jeg kunde blit saa lykkelig som jeg er , hvis der ikke hadde været"
      ],
      "text/plain": [
       "<IPython.core.display.Markdown object>"
      ]
     },
     "metadata": {},
     "output_type": "display_data"
    }
   ],
   "source": [
    "for i in korpus_konk(['jeg', 'er'], kilder_korpus, before=8, after=8):\n",
    "    try:\n",
    "        display(Markdown(i))\n",
    "    except:\n",
    "        print(i)"
   ]
  },
  {
   "cell_type": "code",
   "execution_count": 84,
   "metadata": {},
   "outputs": [
    {
     "data": {
      "text/markdown": [
       "## Hallo der"
      ],
      "text/plain": [
       "<IPython.core.display.Markdown object>"
      ]
     },
     "metadata": {},
     "output_type": "display_data"
    },
    {
     "data": {
      "text/markdown": [
       "<br>"
      ],
      "text/plain": [
       "<IPython.core.display.Markdown object>"
      ]
     },
     "metadata": {},
     "output_type": "display_data"
    },
    {
     "data": {
      "text/markdown": [
       "der"
      ],
      "text/plain": [
       "<IPython.core.display.Markdown object>"
      ]
     },
     "metadata": {},
     "output_type": "display_data"
    }
   ],
   "source": [
    "display(Markdown(\"## Hallo der\"))\n",
    "display(Markdown(\"<br>\"))\n",
    "display(Markdown('der'))"
   ]
  },
  {
   "cell_type": "code",
   "execution_count": null,
   "metadata": {},
   "outputs": [],
   "source": []
  }
 ],
 "metadata": {
  "kernelspec": {
   "display_name": "Python 3",
   "language": "python",
   "name": "python3"
  },
  "language_info": {
   "codemirror_mode": {
    "name": "ipython",
    "version": 3
   },
   "file_extension": ".py",
   "mimetype": "text/x-python",
   "name": "python",
   "nbconvert_exporter": "python",
   "pygments_lexer": "ipython3",
   "version": "3.7.3"
  }
 },
 "nbformat": 4,
 "nbformat_minor": 2
}
