{
 "cells": [
  {
   "cell_type": "markdown",
   "metadata": {},
   "source": [
    "## XML-Struktur\n",
    "fra Ellens mail\n",
    "\n",
    "All kildetekst ligger innenfor `<div type=\"chapter\" subtype=\"source\">`.\n",
    "Alle innledninger og annen utgivertekst ligger i `<div type=\"chapter\" subtype=\"intro\">`, disse kan nok undertrykkes. Det samme gjelder illustrasjoner som er kodet i `<div type=\"chapter\" subtype=\"illustration\">`\n",
    " \n",
    "Innenfor div ligger kildetekst hovedsakelig i `<head>, <p> og/eller <lg>/<l>`.  Og innenfor alle disse kan det forekomme spesialkoder som `<dateline>, <signed>, <del>, <add>, <unclear>, <gap/>, <note>, <pb/>, <hi> og <emph>`.  Noen ganger forekommer underkapitler, under-<div>’er, som også kan inneholde alt det nevnte. Så hvis du har en kommando som sier ta med all tekst innenfor en `<div type=\"chapter\" subtype=\"source\">` uavhengig av «child»/undernivå hadde nok det funket fint…..\n",
    " \n",
    "Når det gjelder metadata, så kan du nok bruke `<titleStmt>` som ligger i `<fileDesc> i <teiHeader>` til noe, kodingen i `<titleStmt>` ser slik ut:\n",
    "```<titleStmt>\n",
    "<title>Brevveksling 1874&#x2013;1908</title>\n",
    "<author>Kitty L. Kielland og Eilif Peterssen</author>\n",
    "<editor>Utgitt ved Anne Melg&#x00E5;rd, NB kilder 8:2, Nasjonalbiblioteket, Oslo 2019</editor>\n",
    "</titleStmt>```"
   ]
  },
  {
   "cell_type": "code",
   "execution_count": null,
   "metadata": {},
   "outputs": [],
   "source": [
    "import zipfile\n",
    "from bs4 import BeautifulSoup\n",
    "import sys\n",
    "import zipfile\n",
    "import re"
   ]
  },
  {
   "cell_type": "code",
   "execution_count": null,
   "metadata": {},
   "outputs": [],
   "source": [
    "def get_urns_from_docx(document):\n",
    "    \"\"\"Find all URNs specified in a Word document - typically .docx\"\"\"\n",
    "\n",
    "    from bs4 import BeautifulSoup\n",
    "\n",
    "    with zipfile.ZipFile(document, 'r') as zfp:\n",
    "        with zfp.open('word/document.xml') as fp:\n",
    "            soup = BeautifulSoup(fp.read(), 'xml')\n",
    "\n",
    "    return re.findall(\"[0-9]{13}\", str(soup))"
   ]
  },
  {
   "cell_type": "code",
   "execution_count": 1,
   "metadata": {},
   "outputs": [],
   "source": [
    "def get_files_from_zip(document):\n",
    "    \"\"\"Find all documents in .zip\"\"\"\n",
    "    import sys\n",
    "    import zipfile\n",
    "    import re\n",
    "    from bs4 import BeautifulSoup\n",
    "\n",
    "    with zipfile.ZipFile(document, 'r') as zfp:\n",
    "           n = zfp.namelist()\n",
    "    return n"
   ]
  },
  {
   "cell_type": "code",
   "execution_count": 13,
   "metadata": {},
   "outputs": [],
   "source": [
    "def analyse_file(name, zipfolder):\n",
    "    \n",
    "    with zipfile.ZipFile(zipfolder, 'r') as zfp:\n",
    "        try:\n",
    "            with zfp.open(name) as fp:\n",
    "                soup = fp.read()\n",
    "        except:\n",
    "            print('problemer', name)\n",
    "    return soup"
   ]
  },
  {
   "cell_type": "code",
   "execution_count": 7,
   "metadata": {},
   "outputs": [
    {
     "data": {
      "text/plain": [
       "['NBkilder_Amundsen_Slededagbok.xml',\n",
       " 'NBkilder_Collett_Brev_1841-51.xml',\n",
       " 'NBkilder_Collett_Brev_til_Bjornson.xml',\n",
       " 'NBkilder_Collett_Brev_til_Ibsen.xml',\n",
       " 'NBkilder_Collett_Brev_til_Lie.xml',\n",
       " 'NBkilder_Collett_Skildpadde.xml',\n",
       " 'NBkilder_Dardel_Voyage.xml',\n",
       " 'NBkilder_Grunnlovskilder1814.xml',\n",
       " 'NBkilder_Kjerulf_1833.xml',\n",
       " 'NBkilder_Kjerulf_1840.xml',\n",
       " 'NBkilder_Kjerulf_1850.xml',\n",
       " 'NBkilder_Kjerulf_1851.xml',\n",
       " 'NBkilder_Kjerulf_1852.xml',\n",
       " 'NBkilder_KKielland_AGarborg_brev.xml',\n",
       " 'NBkilder_KKielland_DSkavlan_brev.xml',\n",
       " 'NBkilder_KKielland_EPeterssen_brev.xml',\n",
       " 'NBkilder_Koren_1798.xml',\n",
       " 'NBkilder_Koren_1805.xml',\n",
       " 'NBkilder_Koren_1808.xml',\n",
       " 'NBkilder_Koren_1809.xml',\n",
       " 'NBkilder_Koren_1810.xml',\n",
       " 'NBkilder_Koren_1811.xml',\n",
       " 'NBkilder_Koren_1812.xml',\n",
       " 'NBkilder_Koren_1813.xml',\n",
       " 'NBkilder_Koren_1814.xml',\n",
       " 'NBkilder_Koren_1815.xml',\n",
       " 'NBkilder_Undset_Fragmenter.xml']"
      ]
     },
     "execution_count": 7,
     "metadata": {},
     "output_type": "execute_result"
    }
   ],
   "source": [
    "get_files_from_zip(\"XML_NBkilder_20191112.zip\")"
   ]
  },
  {
   "cell_type": "code",
   "execution_count": 14,
   "metadata": {},
   "outputs": [
    {
     "name": "stdout",
     "output_type": "stream",
     "text": [
      "problemer NBkilder_Kjerulf_1840.xml\n"
     ]
    },
    {
     "ename": "UnboundLocalError",
     "evalue": "local variable 'soup' referenced before assignment",
     "output_type": "error",
     "traceback": [
      "\u001b[1;31m---------------------------------------------------------------------------\u001b[0m",
      "\u001b[1;31mUnboundLocalError\u001b[0m                         Traceback (most recent call last)",
      "\u001b[1;32m<ipython-input-14-20edf95eba5c>\u001b[0m in \u001b[0;36m<module>\u001b[1;34m\u001b[0m\n\u001b[1;32m----> 1\u001b[1;33m \u001b[0manalyse_file\u001b[0m\u001b[1;33m(\u001b[0m\u001b[1;34m'NBkilder_Kjerulf_1840.xml'\u001b[0m\u001b[1;33m,\u001b[0m\u001b[1;34m\"XML_NBkilder_20191112.zip\"\u001b[0m\u001b[1;33m)\u001b[0m\u001b[1;33m\u001b[0m\u001b[1;33m\u001b[0m\u001b[0m\n\u001b[0m",
      "\u001b[1;32m<ipython-input-13-a3809148f3f3>\u001b[0m in \u001b[0;36manalyse_file\u001b[1;34m(name, zipfolder)\u001b[0m\n\u001b[0;32m     10\u001b[0m         \u001b[1;32mexcept\u001b[0m\u001b[1;33m:\u001b[0m\u001b[1;33m\u001b[0m\u001b[1;33m\u001b[0m\u001b[0m\n\u001b[0;32m     11\u001b[0m             \u001b[0mprint\u001b[0m\u001b[1;33m(\u001b[0m\u001b[1;34m'problemer'\u001b[0m\u001b[1;33m,\u001b[0m \u001b[0mname\u001b[0m\u001b[1;33m)\u001b[0m\u001b[1;33m\u001b[0m\u001b[1;33m\u001b[0m\u001b[0m\n\u001b[1;32m---> 12\u001b[1;33m     \u001b[1;32mreturn\u001b[0m \u001b[0msoup\u001b[0m\u001b[1;33m\u001b[0m\u001b[1;33m\u001b[0m\u001b[0m\n\u001b[0m",
      "\u001b[1;31mUnboundLocalError\u001b[0m: local variable 'soup' referenced before assignment"
     ]
    }
   ],
   "source": [
    "analyse_file('NBkilder_Kjerulf_1840.xml',\"XML_NBkilder_20191112.zip\")"
   ]
  }
 ],
 "metadata": {
  "kernelspec": {
   "display_name": "Python 3",
   "language": "python",
   "name": "python3"
  },
  "language_info": {
   "codemirror_mode": {
    "name": "ipython",
    "version": 3
   },
   "file_extension": ".py",
   "mimetype": "text/x-python",
   "name": "python",
   "nbconvert_exporter": "python",
   "pygments_lexer": "ipython3",
   "version": "3.7.3"
  }
 },
 "nbformat": 4,
 "nbformat_minor": 2
}
